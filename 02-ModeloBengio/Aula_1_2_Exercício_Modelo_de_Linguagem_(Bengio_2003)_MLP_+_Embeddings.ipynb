{
  "cells": [
    {
      "cell_type": "markdown",
      "metadata": {
        "id": "fMI0JT_YuYF3"
      },
      "source": [
        "## Exercício: Modelo de Linguagem (Bengio 2003) - MLP + Embeddings\n",
        "\n",
        "Neste exercício iremos treinar uma rede neural similar a do Bengio 2003 para prever a próxima palavra de um texto, data as palavras anteriores como entrada. Esta tarefa é chamada de \"Modelagem da Linguagem\".\n",
        "\n",
        "Portanto, você deve implementar o modelo de linguagem inspirado no artigo do Bengio, para prever a próxima palavra usando rede com embeddings e duas camadas.\n",
        "Sugestão de alguns parâmetros:\n",
        "* context_size = 9\n",
        "* max_vocab_size = 3000\n",
        "* embedding_dim = 64\n",
        "* usar pontuação no vocabulário\n",
        "* descartar qualquer contexto ou target que não esteja no vocabulário\n",
        "* É esperado conseguir uma perplexidade da ordem de 50.\n",
        "* Procurem fazer asserts para garantir que partes do seu programa estão testadas\n",
        "\n",
        "Este enunciado não é fixo, podem mudar qualquer um dos parâmetros acima, mas procurem conseguir a perplexidade esperada ou menor.\n",
        "\n",
        "Gerem alguns frases usando um contexto inicial e depois deslocando o contexto e prevendo a próxima palavra gerando frases compridas para ver se está gerando texto plausível.\n",
        "\n",
        "Algumas dicas:\n",
        "- Inclua caracteres de pontuação (ex: `.` e `,`) no vocabulário.\n",
        "- Deixe tudo como caixa baixa (lower-case).\n",
        "- A escolha do tamanho do vocabulario é importante: ser for muito grande, fica difícil para o modelo aprender boas representações. Se for muito pequeno, o modelo apenas conseguirá gerar textos simples.\n",
        "- Remova qualquer exemplo de treino/validação/teste que tenha pelo menos um token desconhecido (ou na entrada ou na saída).\n",
        "- Durante a depuração, faça seu dataset ficar bem pequeno, para que a depuração seja mais rápida e não precise de GPU. Somente ligue a GPU quando o seu laço de treinamento já está funcionando\n",
        "- Não deixe para fazer esse exercício na véspera. Ele é trabalhoso.\n",
        "\n",
        "Procure por `TODO` para entender onde você precisa inserir o seu código."
      ]
    },
    {
      "cell_type": "code",
      "execution_count": 899,
      "metadata": {},
      "outputs": [],
      "source": [
        "import string\n",
        "from collections import Counter\n",
        "from typing import List, Dict, Union, Tuple\n",
        "import random\n",
        "import os\n",
        "import time\n",
        "\n",
        "import numpy as np\n",
        "from numpy.testing import assert_raises, assert_array_equal\n",
        "import torch\n",
        "import torch.nn as nn\n",
        "from torch.utils.data import Dataset, DataLoader\n",
        "import tqdm\n",
        "import matplotlib.pyplot as plt\n"
      ]
    },
    {
      "cell_type": "markdown",
      "metadata": {},
      "source": [
        "Inicializa os geradores randômicos"
      ]
    },
    {
      "cell_type": "code",
      "execution_count": 721,
      "metadata": {},
      "outputs": [
        {
          "data": {
            "text/plain": [
              "<torch._C.Generator at 0x2be15ba07b0>"
            ]
          },
          "execution_count": 721,
          "metadata": {},
          "output_type": "execute_result"
        }
      ],
      "source": [
        "random.seed(18)\n",
        "torch.manual_seed(18)"
      ]
    },
    {
      "cell_type": "markdown",
      "metadata": {},
      "source": [
        "Parâmetros do modelo"
      ]
    },
    {
      "cell_type": "code",
      "execution_count": 722,
      "metadata": {},
      "outputs": [],
      "source": [
        "vocab_size = 3000 # Quantidade de palavras no vocabulário\n",
        "context_size = 4 # n palavras de entrada. O target é a próxima palavra\n",
        "embed_dim = 64 # Tamanho do feature vector de cada palavra\n",
        "hidden_units = 300 # Quantidade de unidades na camada escondida\n",
        "epochs = 10 # Quantidade de epochs que serão treinadas\n",
        "lr = 5e-1 # Taxa de treinamento\n",
        "weight_decay = 1e-3 # Regularização"
      ]
    },
    {
      "cell_type": "markdown",
      "metadata": {
        "id": "bYbkEzdD37sZ"
      },
      "source": [
        "## Faz download e carrega o dataset"
      ]
    },
    {
      "cell_type": "code",
      "execution_count": 723,
      "metadata": {
        "colab": {
          "base_uri": "https://localhost:8080/"
        },
        "id": "9qAnqY_q0beK",
        "outputId": "f810fdb0-138d-4917-b7ef-69ab266acef6"
      },
      "outputs": [],
      "source": [
        "#!wget https://www.gutenberg.org/ebooks/67724.txt.utf-8\n",
        "#!wget https://www.gutenberg.org/ebooks/67725.txt.utf-8"
      ]
    },
    {
      "cell_type": "code",
      "execution_count": 724,
      "metadata": {},
      "outputs": [],
      "source": [
        "if not os.path.isfile(\"67724.txt.utf-8\"):\n",
        "    !curl -LO https://www.gutenberg.org/ebooks/67724.txt.utf-8\n",
        "\n",
        "if not os.path.isfile(\"67725.txt.utf-8\"):\n",
        "    !curl -LO https://www.gutenberg.org/ebooks/67725.txt.utf-8"
      ]
    },
    {
      "cell_type": "code",
      "execution_count": 792,
      "metadata": {
        "colab": {
          "base_uri": "https://localhost:8080/"
        },
        "id": "6_UzC9pV091C",
        "outputId": "1553b04f-24c4-4027-8cab-0907f92f04df"
      },
      "outputs": [
        {
          "data": {
            "text/plain": [
              "4969"
            ]
          },
          "execution_count": 792,
          "metadata": {},
          "output_type": "execute_result"
        }
      ],
      "source": [
        "text = open(\"67724.txt.utf-8\",\"r\", encoding=\"utf8\").read()\n",
        "text += open(\"67725.txt.utf-8\",\"r\", encoding=\"utf8\").read()\n",
        "\n",
        "paragraphs = text.split(\"\\n\\n\")\n",
        "len(paragraphs)"
      ]
    },
    {
      "cell_type": "code",
      "execution_count": 799,
      "metadata": {},
      "outputs": [],
      "source": [
        "def clean_text(text:str) -> str:\n",
        "    '''\n",
        "    Clean the text, changing upper case and setting numbers to 999\n",
        "    '''\n",
        "    \n",
        "    text = text.lower()\n",
        "    old_text = text.split()\n",
        "    new_text = []\n",
        "\n",
        "    for j in range(len(old_text)):\n",
        "        word = old_text[j] \n",
        "        if word.isdigit():\n",
        "            word = \"999\"\n",
        "        elif len(word) > 1 and word[0] in string.punctuation:\n",
        "            old_text.insert(j+1, word[1:])\n",
        "            word = word[0]\n",
        "        elif word[-1] in string.punctuation and len(word) > 1:\n",
        "            old_text.insert(j+1, word[:-1])\n",
        "            old_text.insert(j+2, word[-1])\n",
        "            \n",
        "            word = \"\"\n",
        "        \n",
        "        if len(word) > 0:\n",
        "            new_text.append(word)\n",
        "    \n",
        "    return \" \".join(new_text)"
      ]
    },
    {
      "cell_type": "code",
      "execution_count": 800,
      "metadata": {
        "colab": {
          "base_uri": "https://localhost:8080/"
        },
        "id": "UhUFjtNdDuG0",
        "outputId": "78798c0c-deca-4454-d3fb-7d3ba70f3e91"
      },
      "outputs": [
        {
          "name": "stdout",
          "output_type": "stream",
          "text": [
            "SAMPLE ----------------\n",
            "﻿the project gutenberg ebook of o guarany : romance brazileiro , vol . 999 ( of 999 ) this ebook is for the use of anyone anywhere in the united states and most other parts of the world at no cost and with almost no restrictions whatsoever . you may copy it , give it away or re-use it under the terms of the project gutenberg license included with this ebook or online at www.gutenberg.org . if you are not located in the united states , you\n",
            "---------------------\n",
            "4892\n"
          ]
        }
      ],
      "source": [
        "cleaned_paragraphs = [paragraph.replace(\"\\n\", \" \") for paragraph in paragraphs if paragraph.strip()]\n",
        "\n",
        "#Paper:\n",
        "#ponctuation -> keep (separado das outras palavras, \"pontuação,\" -> \"pontuação\"+\",\")\n",
        "#numeric -> special symbol (colocando todos como 999 para convergir para o mesmo símbolo)\n",
        "#upper -> lower\n",
        "#proper nouns -> special symbol (difícil identificar, ignorado)\n",
        "#rare words -> special symbol (feito na parte de encoding)\n",
        "\n",
        "for i in range(len(cleaned_paragraphs)):\n",
        "    cleaned_paragraphs[i] = clean_text(cleaned_paragraphs[i])\n",
        "\n",
        "print(\"SAMPLE ----------------\")\n",
        "print(cleaned_paragraphs[0])\n",
        "print(\"---------------------\")\n",
        "\n",
        "print(len(cleaned_paragraphs))\n",
        "\n"
      ]
    },
    {
      "cell_type": "code",
      "execution_count": 728,
      "metadata": {},
      "outputs": [],
      "source": [
        "del paragraphs, text"
      ]
    },
    {
      "cell_type": "markdown",
      "metadata": {
        "id": "bFVN2ihb33Rf"
      },
      "source": [
        "## Análise do dataset"
      ]
    },
    {
      "cell_type": "code",
      "execution_count": 729,
      "metadata": {
        "colab": {
          "base_uri": "https://localhost:8080/"
        },
        "id": "qSRHqe3H4ZFw",
        "outputId": "4a985c7a-ce1d-4b72-d253-c9fbbc5f9440"
      },
      "outputs": [
        {
          "data": {
            "text/plain": [
              "11470"
            ]
          },
          "execution_count": 729,
          "metadata": {},
          "output_type": "execute_result"
        }
      ],
      "source": [
        "\n",
        "def count_words(texts:List[str]) -> Counter:\n",
        "    word_counts = Counter()\n",
        "    for text in texts:\n",
        "        #Regular expression removes ponctuation\n",
        "        #word_counts.update(re.findall(r'\\w+', text.lower())) \n",
        "        word_counts.update(text.split(\" \"))\n",
        "    return word_counts\n",
        "\n",
        "word_counts = count_words(cleaned_paragraphs)\n",
        "\n",
        "len(word_counts)"
      ]
    },
    {
      "cell_type": "markdown",
      "metadata": {
        "id": "EyGVDL9KzJ_I"
      },
      "source": [
        "## Criando um vocabulário"
      ]
    },
    {
      "cell_type": "code",
      "execution_count": 730,
      "metadata": {
        "id": "FiP7OCo9zJ_I"
      },
      "outputs": [],
      "source": [
        "most_frequent_words = [word for word, count in word_counts.most_common(vocab_size)]\n",
        "vocab = {word: i for i, word in enumerate(most_frequent_words, 1)}"
      ]
    },
    {
      "cell_type": "code",
      "execution_count": 731,
      "metadata": {},
      "outputs": [],
      "source": [
        "def encode_sentence(sentence:Union[str,List[str]], vocab:Dict) -> List[int]:\n",
        "    if isinstance(sentence, list):\n",
        "        words = sentence\n",
        "    else:\n",
        "        words = sentence.split(\" \") #Removido o regex por não pegar pontuação e ser ~3x mais lento\n",
        "    \n",
        "    return [vocab.get(word, 0) for word in words]"
      ]
    },
    {
      "cell_type": "markdown",
      "metadata": {},
      "source": [
        "Checando se o encoding faz sentido:"
      ]
    },
    {
      "cell_type": "code",
      "execution_count": 732,
      "metadata": {},
      "outputs": [
        {
          "name": "stdout",
          "output_type": "stream",
          "text": [
            "20 palavras mais frequentes: [',', 'a', 'que', '-', 'o', 'de', 'e', ';', '.', 'um', 'do', 'não', 'uma', 'os', 'se', 'da', 'com', 'sua', 'para', 'seu']\n"
          ]
        }
      ],
      "source": [
        "print(\"20 palavras mais frequentes:\", most_frequent_words[:20])"
      ]
    },
    {
      "cell_type": "markdown",
      "metadata": {},
      "source": [
        "As palavras mais frequentes são pontuações, potencialmente problemático."
      ]
    },
    {
      "cell_type": "code",
      "execution_count": 733,
      "metadata": {},
      "outputs": [
        {
          "name": "stdout",
          "output_type": "stream",
          "text": [
            "publicando 0\n",
            "este 126\n",
            "livro 0\n",
            "em 21\n",
            "999 153\n",
            ", 1\n",
            "se 15\n",
            "disse 57\n",
            "ser 122\n",
            "aquella 221\n",
            "primeira 197\n",
            "edição 2103\n",
            "uma 13\n",
            "prova 960\n",
            "typographica 0\n",
            ", 1\n",
            "que 3\n",
            "algum 192\n",
            "dia 134\n",
            "talvez 281\n",
            "o 5\n",
            "autor 2105\n"
          ]
        }
      ],
      "source": [
        "encoded20 = encode_sentence(cleaned_paragraphs[20], vocab)\n",
        "words = cleaned_paragraphs[20].split(\" \")\n",
        "\n",
        "for i in range(len(words)):\n",
        "    print(words[i], encoded20[i])"
      ]
    },
    {
      "cell_type": "markdown",
      "metadata": {},
      "source": [
        "O encoding funciona, gerando também símbolos desconhecidos"
      ]
    },
    {
      "cell_type": "markdown",
      "metadata": {},
      "source": [
        "Decoding"
      ]
    },
    {
      "cell_type": "code",
      "execution_count": 734,
      "metadata": {},
      "outputs": [],
      "source": [
        "inverse_vocab = list(vocab.keys())"
      ]
    },
    {
      "cell_type": "code",
      "execution_count": 735,
      "metadata": {},
      "outputs": [],
      "source": [
        "def decode_sentence(encoding, inverse_vocab):\n",
        "    result = []\n",
        "\n",
        "    for encoding_i in encoding:\n",
        "        if encoding_i == 0:\n",
        "            result.append(\"???\")\n",
        "        else:\n",
        "            result.append(inverse_vocab[encoding_i-1])\n",
        "\n",
        "    return result"
      ]
    },
    {
      "cell_type": "code",
      "execution_count": 736,
      "metadata": {},
      "outputs": [
        {
          "name": "stdout",
          "output_type": "stream",
          "text": [
            "publicando | ???\n",
            "este | este\n",
            "livro | ???\n",
            "em | em\n",
            "999 | 999\n",
            ", | ,\n",
            "se | se\n",
            "disse | disse\n",
            "ser | ser\n",
            "aquella | aquella\n",
            "primeira | primeira\n",
            "edição | edição\n",
            "uma | uma\n",
            "prova | prova\n",
            "typographica | ???\n",
            ", | ,\n",
            "que | que\n",
            "algum | algum\n",
            "dia | dia\n",
            "talvez | talvez\n",
            "o | o\n",
            "autor | autor\n"
          ]
        }
      ],
      "source": [
        "decoded20 = decode_sentence(encoded20, inverse_vocab)\n",
        "\n",
        "for i in range(len(words)):\n",
        "    print(words[i], \"|\", decoded20[i])\n",
        "\n",
        "    if decoded20[i] != \"???\":\n",
        "        assert words[i] == decoded20[i]"
      ]
    },
    {
      "cell_type": "markdown",
      "metadata": {},
      "source": [
        "E o decoding também consegue retornar a sequência original (exceto pelos símbolos desconhecidos)"
      ]
    },
    {
      "cell_type": "code",
      "execution_count": 737,
      "metadata": {},
      "outputs": [],
      "source": [
        "del word_counts, most_frequent_words, encoded20, words, decoded20"
      ]
    },
    {
      "cell_type": "markdown",
      "metadata": {
        "id": "wia_ygbvzJ_J"
      },
      "source": [
        "## Classe do dataset"
      ]
    },
    {
      "cell_type": "code",
      "execution_count": 900,
      "metadata": {},
      "outputs": [],
      "source": [
        "def create_sequences(texts:List[str], context_size:int, \n",
        "                     vocab:Dict) -> Tuple[List[List[int]], List[int]]:\n",
        "    '''\n",
        "    Generates\n",
        "    '''\n",
        "    x_all = []\n",
        "    y_all = []\n",
        "\n",
        "    for paragraph in texts:\n",
        "        start = 0\n",
        "        end = context_size\n",
        "\n",
        "        paragraph = encode_sentence(paragraph, vocab)\n",
        "\n",
        "        while end < len(paragraph):\n",
        "            x = paragraph[start:end]\n",
        "            y = paragraph[end]\n",
        "\n",
        "            if not ( 0 in x or 0 == y):\n",
        "                x_all.append(x)\n",
        "                y_all.append(y)\n",
        "\n",
        "            start += 1\n",
        "            end += 1\n",
        "    return x_all, y_all"
      ]
    },
    {
      "cell_type": "code",
      "execution_count": 901,
      "metadata": {},
      "outputs": [],
      "source": [
        "x_all, y_all = create_sequences(cleaned_paragraphs, context_size, vocab)"
      ]
    },
    {
      "cell_type": "markdown",
      "metadata": {},
      "source": [
        "Checando se o dataset está correto"
      ]
    },
    {
      "cell_type": "code",
      "execution_count": 902,
      "metadata": {},
      "outputs": [
        {
          "name": "stdout",
          "output_type": "stream",
          "text": [
            "[0, 68, 214, 493, 48, 5, 684, 44, 866, 867, 1, 0, 9, 153, 348, 48, 153, 383, 145, 493, 309, 262, 37, 494, 48, 957, 2095, 106, 37, 411, 329, 92, 958, 412, 2096, 48, 37, 2097, 645, 24, 1492, 92, 136, 2098, 24, 2099, 2100, 9, 82, 446, 495, 384, 1, 1493, 384, 2101, 93, 2102, 384, 802, 37, 276, 48, 37, 68, 214, 447, 1494, 136, 145, 493, 93, 1495, 645, 1496, 9, 263, 82, 252, 215, 803, 106, 37, 411, 329, 1, 82]\n",
            "[68, 214, 493, 48] | 5\n",
            "[214, 493, 48, 5] | 684\n",
            "[493, 48, 5, 684] | 44\n"
          ]
        }
      ],
      "source": [
        "print(encode_sentence(cleaned_paragraphs[0], vocab))\n",
        "\n",
        "for i in range(3):\n",
        "    print(x_all[i], \"|\", y_all[i])"
      ]
    },
    {
      "cell_type": "code",
      "execution_count": 741,
      "metadata": {},
      "outputs": [
        {
          "data": {
            "text/plain": [
              "45366"
            ]
          },
          "execution_count": 741,
          "metadata": {},
          "output_type": "execute_result"
        }
      ],
      "source": [
        "len(x_all)"
      ]
    },
    {
      "cell_type": "code",
      "execution_count": 742,
      "metadata": {},
      "outputs": [],
      "source": [
        "assert len(x_all) == len(y_all)"
      ]
    },
    {
      "cell_type": "markdown",
      "metadata": {},
      "source": [
        "Divisão treino|validação|teste\n",
        "\n",
        "60%|20%|20%\n",
        "\n",
        "OBS: seed determinada no início do notebook"
      ]
    },
    {
      "cell_type": "code",
      "execution_count": 743,
      "metadata": {},
      "outputs": [],
      "source": [
        "#Embaralhando para evitar viés\n",
        "indexes = list(range(len(x_all)))\n",
        "random.shuffle(indexes)\n",
        "\n",
        "x_all = np.array(x_all)\n",
        "y_all = np.array(y_all)\n",
        "\n",
        "x_all = x_all[indexes]\n",
        "y_all = y_all[indexes]"
      ]
    },
    {
      "cell_type": "code",
      "execution_count": 744,
      "metadata": {},
      "outputs": [],
      "source": [
        "size_all = len(x_all)\n",
        "\n",
        "cut1 = int(0.6*size_all)\n",
        "cut2 = int(0.8*size_all)\n",
        "\n",
        "x_train = x_all[0:cut1]\n",
        "y_train = y_all[0:cut1]\n",
        "\n",
        "x_val = x_all[cut1:cut2]\n",
        "y_val = y_all[cut1:cut2]\n",
        "\n",
        "x_test = x_all[cut2:]\n",
        "y_test = y_all[cut2:]"
      ]
    },
    {
      "cell_type": "code",
      "execution_count": 745,
      "metadata": {},
      "outputs": [],
      "source": [
        "n_train = len(x_train)\n",
        "n_val = len(x_val)\n",
        "n_test = len(x_test)"
      ]
    },
    {
      "cell_type": "code",
      "execution_count": 746,
      "metadata": {},
      "outputs": [
        {
          "name": "stdout",
          "output_type": "stream",
          "text": [
            "Treino: 27219\n",
            "Validação: 9073\n",
            "Teste: 9074\n"
          ]
        }
      ],
      "source": [
        "print(\"Treino:\", n_train)\n",
        "print(\"Validação:\", n_val)\n",
        "print(\"Teste:\", n_test)"
      ]
    },
    {
      "cell_type": "code",
      "execution_count": 747,
      "metadata": {},
      "outputs": [],
      "source": [
        "assert n_train+n_val+n_test == size_all"
      ]
    },
    {
      "cell_type": "markdown",
      "metadata": {},
      "source": [
        "Classe para o dataset\n",
        "\n",
        "OBS: utilizar tensores q [context_size x vocab_size] esparsos utiliza muita memória, preferi alterar a primeira camada para evitar precisar gerar estes tensores"
      ]
    },
    {
      "cell_type": "code",
      "execution_count": 748,
      "metadata": {},
      "outputs": [],
      "source": [
        "class TextPredictDataset(Dataset):\n",
        "    def __init__(self, x_data:List[int], y_data:List[int]):\n",
        "        self._x_data = torch.tensor(x_data)-1\n",
        "        self._y_data = torch.tensor(y_data, dtype=torch.int64)-1\n",
        "        \n",
        "        if len(x_data) != len(y_data):\n",
        "            raise ValueError(f\"x_data and y_data must have same size. ({len(x_data)} ≠ {len(y_data)})\")\n",
        "        \n",
        "        self._size = len(x_data)\n",
        "\n",
        "    def __len__(self):\n",
        "        return self._size\n",
        "\n",
        "    def __getitem__(self, idx):\n",
        "        return self._x_data[idx], self._y_data[idx]\n"
      ]
    },
    {
      "cell_type": "code",
      "execution_count": 749,
      "metadata": {
        "colab": {
          "base_uri": "https://localhost:8080/"
        },
        "id": "aD1CVci2zJ_J",
        "outputId": "5bf0839e-f30e-4ff2-ed6f-4f3fda782b7c"
      },
      "outputs": [],
      "source": [
        "train_data = TextPredictDataset(x_train, y_train)\n",
        "val_data = TextPredictDataset(x_val, y_val)\n",
        "test_data = TextPredictDataset(x_test, y_test)"
      ]
    },
    {
      "cell_type": "code",
      "execution_count": 750,
      "metadata": {
        "id": "gC0C5qn2zJ_J"
      },
      "outputs": [],
      "source": [
        "batch_size = 32\n",
        "train_loader = DataLoader(train_data, batch_size=batch_size, shuffle=True)\n",
        "val_loader = DataLoader(val_data, batch_size=batch_size, shuffle=True)\n",
        "test_loader = DataLoader(test_data, batch_size=batch_size, shuffle=True)"
      ]
    },
    {
      "cell_type": "code",
      "execution_count": 751,
      "metadata": {},
      "outputs": [],
      "source": [
        "sample_batch = next(iter(train_loader))"
      ]
    },
    {
      "cell_type": "markdown",
      "metadata": {
        "id": "-5_-Yud0zJ_K"
      },
      "source": [
        "## Model"
      ]
    },
    {
      "cell_type": "code",
      "execution_count": 752,
      "metadata": {
        "id": "I2qKG9YczJ_K"
      },
      "outputs": [],
      "source": [
        "\n",
        "class LanguageModel(nn.Module):\n",
        "\n",
        "    def __init__(self, context_size:int, vocab_size:int, embed_dim:int, hidden_units:int):\n",
        "        super().__init__()\n",
        "\n",
        "        self.C = torch.Tensor(vocab_size, embed_dim)\n",
        "        nn.init.xavier_uniform_(self.C)\n",
        "        self.C = torch.nn.Parameter(self.C)\n",
        "        \n",
        "        \n",
        "        #V = |Vocab|, m = |Embed|\n",
        "        #n-1 = c = |Context|\n",
        "        #h = |Hidden|\n",
        "        \n",
        "        #C[V, m](input) -> x[c*m]\n",
        "        #Linear1(x) -> x2[h]\n",
        "        #ReLU(x2) -> x3[h]  | alterado do paper (tanh)\n",
        "        #Linear2(x) -> x4[V]\n",
        "        #Linear3(x3) -> x5[V] | sem bias (Linear2 já tem bias)\n",
        "        #Add(x4, x5) -> output\n",
        "        #Sem softmax -> melhor estabilidade\n",
        "\n",
        "        m = int(context_size*embed_dim)\n",
        "\n",
        "        self.linear1 = nn.Linear(m, hidden_units)\n",
        "        self.relu = nn.ReLU() \n",
        "        self.linear2 = nn.Linear(m, vocab_size)\n",
        "        self.linear3 = nn.Linear(hidden_units, vocab_size, bias=False)\n",
        "\n",
        "    def forward(self, input_x:torch.Tensor) -> torch.Tensor:\n",
        "        #No batch: x = torch.index_select(self.C, 0, input_x).flatten()\n",
        "        x = torch.stack([torch.index_select(self.C, 0, input_i).flatten() for input_i in input_x])\n",
        "        \n",
        "        x2 = self.linear1(x)\n",
        "        x3 = self.relu(x2)\n",
        "        x4 = self.linear2(x)\n",
        "        x5 = self.linear3(x3)\n",
        "\n",
        "        output = x4+x5\n",
        "\n",
        "        return output"
      ]
    },
    {
      "cell_type": "code",
      "execution_count": 753,
      "metadata": {
        "id": "7yjQ1KXOzJ_K"
      },
      "outputs": [],
      "source": [
        "model = LanguageModel(context_size, vocab_size, embed_dim, hidden_units)"
      ]
    },
    {
      "cell_type": "markdown",
      "metadata": {},
      "source": [
        "Checando se o modelo funciona corretamente"
      ]
    },
    {
      "cell_type": "code",
      "execution_count": 754,
      "metadata": {
        "id": "xmsD59TfzJ_K"
      },
      "outputs": [],
      "source": [
        "# sample = next(iter(train_loader))\n",
        "inputs = sample_batch[0]\n",
        "targets = sample_batch[1]"
      ]
    },
    {
      "cell_type": "code",
      "execution_count": 755,
      "metadata": {
        "id": "HGbJcT5KzJ_K"
      },
      "outputs": [],
      "source": [
        "outputs = model(inputs)"
      ]
    },
    {
      "cell_type": "code",
      "execution_count": 756,
      "metadata": {
        "colab": {
          "base_uri": "https://localhost:8080/"
        },
        "id": "um0lR4mNzJ_K",
        "outputId": "e6041da8-ca7f-4c9d-b28b-9e1250e820f2"
      },
      "outputs": [
        {
          "data": {
            "text/plain": [
              "tensor([1431,  531, 1431, 2044, 1493, 2365, 2007,  182, 2396, 1181,  928, 1431,\n",
              "        1431, 1431, 1309,   36, 1431,   36,  838, 2265, 1204, 1772, 1431, 1866,\n",
              "        1431, 1431, 1431, 1431,  928,  838, 2243,  179])"
            ]
          },
          "execution_count": 756,
          "metadata": {},
          "output_type": "execute_result"
        }
      ],
      "source": [
        "outputs.argmax(dim=1)"
      ]
    },
    {
      "cell_type": "code",
      "execution_count": 757,
      "metadata": {
        "colab": {
          "base_uri": "https://localhost:8080/"
        },
        "id": "la-b-f8jzJ_L",
        "outputId": "f040cef4-e409-4d20-d335-a3133aaeb63c"
      },
      "outputs": [
        {
          "data": {
            "text/plain": [
              "tensor([ 891, 1064,  265, 1080,   68,    4,   72, 2778,    0, 1857,    9,   15,\n",
              "         592,   24,   12,  112,   16, 1486,    1,   10,    2, 1996,    0,    0,\n",
              "           6,  742,    5,  549,   25, 2170,  482,  732])"
            ]
          },
          "execution_count": 757,
          "metadata": {},
          "output_type": "execute_result"
        }
      ],
      "source": [
        "targets"
      ]
    },
    {
      "cell_type": "code",
      "execution_count": 758,
      "metadata": {},
      "outputs": [],
      "source": [
        "assert outputs.argmax(dim=1).shape == targets.shape"
      ]
    },
    {
      "cell_type": "markdown",
      "metadata": {},
      "source": [
        "Checando se a quantidade de parâmetros está igual ao artigo"
      ]
    },
    {
      "cell_type": "code",
      "execution_count": 759,
      "metadata": {},
      "outputs": [],
      "source": [
        "#V = |Vocab|, m = |Embed|\n",
        "#n-1 = c = |Context|\n",
        "#h = |Hidden|\n",
        "\n",
        "n_param_real = sum([p.numel() for p in model.parameters()])\n",
        "\n",
        "m = embed_dim\n",
        "n = context_size+1\n",
        "V = vocab_size\n",
        "h = hidden_units\n",
        "\n",
        "n_param_theoretical = V*(1+(n*m)+h)\n",
        "n_param_theoretical += h*(1+((n-1)*m))\n",
        "\n",
        "assert n_param_real == n_param_theoretical"
      ]
    },
    {
      "cell_type": "code",
      "execution_count": 760,
      "metadata": {},
      "outputs": [
        {
          "name": "stdout",
          "output_type": "stream",
          "text": [
            "1940100 parâmetros\n"
          ]
        }
      ],
      "source": [
        "print(n_param_real, \"parâmetros\")"
      ]
    },
    {
      "cell_type": "markdown",
      "metadata": {},
      "source": [
        "Sanity check: C está sendo treinado"
      ]
    },
    {
      "cell_type": "code",
      "execution_count": 761,
      "metadata": {},
      "outputs": [
        {
          "data": {
            "text/plain": [
              "device(type='cuda')"
            ]
          },
          "execution_count": 761,
          "metadata": {},
          "output_type": "execute_result"
        }
      ],
      "source": [
        "# Verifica se há uma GPU disponível e define o dispositivo para GPU se possível, caso contrário, usa a CPU\n",
        "device = torch.device('cuda' if torch.cuda.is_available() else 'cpu')\n",
        "device"
      ]
    },
    {
      "cell_type": "code",
      "execution_count": 762,
      "metadata": {},
      "outputs": [],
      "source": [
        "old_C = model.C.detach().numpy()\n",
        "\n",
        "criterion = nn.CrossEntropyLoss()\n",
        "optimizer = torch.optim.AdamW(model.parameters(), lr=10)\n",
        "\n",
        "model = model.to(device)\n",
        "model.train()\n",
        "\n",
        "inputs = inputs.to(device)\n",
        "targets = targets.to(device)\n",
        "\n",
        "logits = model(inputs)\n",
        "loss = criterion(logits.squeeze(), targets)\n",
        "optimizer.zero_grad()\n",
        "loss.backward()\n",
        "optimizer.step()\n",
        "\n",
        "new_C = model.C.cpu().detach().numpy()"
      ]
    },
    {
      "cell_type": "code",
      "execution_count": 763,
      "metadata": {},
      "outputs": [
        {
          "data": {
            "text/plain": [
              "10.0043955"
            ]
          },
          "execution_count": 763,
          "metadata": {},
          "output_type": "execute_result"
        }
      ],
      "source": [
        "assert_raises(AssertionError, assert_array_equal, old_C, new_C)\n",
        "np.max(np.abs(old_C-new_C))"
      ]
    },
    {
      "cell_type": "markdown",
      "metadata": {
        "id": "UngUhyu7zJ_L"
      },
      "source": [
        "## Training"
      ]
    },
    {
      "cell_type": "code",
      "execution_count": 776,
      "metadata": {},
      "outputs": [],
      "source": [
        "model = LanguageModel(context_size, vocab_size, embed_dim, hidden_units)\n",
        "model.to(device);"
      ]
    },
    {
      "cell_type": "code",
      "execution_count": 777,
      "metadata": {
        "id": "vRwSPiwizJ_L"
      },
      "outputs": [],
      "source": [
        "criterion = nn.CrossEntropyLoss()\n",
        "optimizer = torch.optim.SGD(model.parameters(), lr=lr, weight_decay=weight_decay)\n",
        "\n",
        "#Adam e AdamW -> Overfit\n",
        "#optimizer = torch.optim.Adam(model.parameters(), lr=1e-3)\n",
        "#optimizer = torch.optim.AdamW(model.parameters(), lr=lr, weight_decay=1) "
      ]
    },
    {
      "cell_type": "code",
      "execution_count": 778,
      "metadata": {},
      "outputs": [],
      "source": [
        "def ppl(loss):\n",
        "    return torch.exp(loss)"
      ]
    },
    {
      "cell_type": "code",
      "execution_count": 779,
      "metadata": {},
      "outputs": [],
      "source": [
        "def compute_loss(model, loader, criterion):\n",
        "    model.eval()\n",
        "\n",
        "    with torch.no_grad():\n",
        "        total_loss = 0\n",
        "        n = 0\n",
        "        for inputs, targets in loader:\n",
        "            inputs = inputs.to(device)\n",
        "            targets = targets.to(device)\n",
        "            logits = model(inputs)\n",
        "            loss = criterion(logits.squeeze(), targets)\n",
        "            total_loss += loss*targets.size(0)\n",
        "\n",
        "            n += targets.size(0)\n",
        "\n",
        "        total_loss /= n \n",
        "    \n",
        "    return total_loss.detach()"
      ]
    },
    {
      "cell_type": "code",
      "execution_count": 780,
      "metadata": {},
      "outputs": [],
      "source": [
        "def print_info(loss_value, epoch, total_epochs, time=0.0):\n",
        "    ppl_value = ppl(loss_value)\n",
        "\n",
        "    \n",
        "    print(f'Epoch [{epoch+1}/{total_epochs}], \\\n",
        "            Loss: {loss_value.item():.4f}, \\\n",
        "            Perplexity: {ppl_value.item():.4f}', end=\"\")\n",
        "    \n",
        "    if time != 0:\n",
        "        print(f\", Elapsed Time: {time:.2f} sec\")    \n",
        "    else:\n",
        "        print(\"\")\n",
        "            "
      ]
    },
    {
      "cell_type": "code",
      "execution_count": 781,
      "metadata": {},
      "outputs": [
        {
          "name": "stdout",
          "output_type": "stream",
          "text": [
            "Epoch [0/10],             Loss: 8.0134,             Perplexity: 3021.0713\n",
            "Epoch [1/0],             Loss: 6.1146,             Perplexity: 452.4352, Elapsed Time: 3.60 sec\n",
            "VAL Epoch [1/10],             Loss: 5.7786,             Perplexity: 323.3106\n",
            "Epoch [2/0],             Loss: 5.5459,             Perplexity: 256.1867, Elapsed Time: 3.56 sec\n",
            "VAL Epoch [2/10],             Loss: 5.4864,             Perplexity: 241.3810\n",
            "Epoch [3/0],             Loss: 5.2686,             Perplexity: 194.1376, Elapsed Time: 3.39 sec\n",
            "VAL Epoch [3/10],             Loss: 5.3496,             Perplexity: 210.5273\n",
            "Epoch [4/0],             Loss: 5.0797,             Perplexity: 160.7330, Elapsed Time: 3.40 sec\n",
            "VAL Epoch [4/10],             Loss: 5.2498,             Perplexity: 190.5263\n",
            "Epoch [5/0],             Loss: 4.9542,             Perplexity: 141.7622, Elapsed Time: 3.42 sec\n",
            "VAL Epoch [5/10],             Loss: 5.1880,             Perplexity: 179.1080\n",
            "Epoch [6/0],             Loss: 4.8713,             Perplexity: 130.4854, Elapsed Time: 3.52 sec\n",
            "VAL Epoch [6/10],             Loss: 5.1040,             Perplexity: 164.6838\n",
            "Epoch [7/0],             Loss: 4.8072,             Perplexity: 122.3854, Elapsed Time: 3.43 sec\n",
            "VAL Epoch [7/10],             Loss: 5.1658,             Perplexity: 175.1805\n",
            "Epoch [8/0],             Loss: 4.7564,             Perplexity: 116.3322, Elapsed Time: 3.45 sec\n",
            "VAL Epoch [8/10],             Loss: 5.1238,             Perplexity: 167.9705\n",
            "Epoch [9/0],             Loss: 4.7134,             Perplexity: 111.4261, Elapsed Time: 3.37 sec\n",
            "VAL Epoch [9/10],             Loss: 5.0839,             Perplexity: 161.3968\n",
            "Epoch [10/0],             Loss: 4.6804,             Perplexity: 107.8091, Elapsed Time: 3.31 sec\n",
            "VAL Epoch [10/10],             Loss: 5.0502,             Perplexity: 156.0555\n"
          ]
        }
      ],
      "source": [
        "hist = {}\n",
        "hist[\"loss_train\"] = []\n",
        "hist[\"loss_val\"] = []\n",
        "hist[\"ppl_train\"] = []\n",
        "hist[\"ppl_val\"] = []\n",
        "\n",
        "prev_loss = compute_loss(model, train_loader, criterion)\n",
        "print_info(prev_loss, -1, epochs, 0)\n",
        "\n",
        "for epoch in range(epochs):\n",
        "    start_time = time.time() \n",
        "\n",
        "    model.train()\n",
        "\n",
        "    loss_train = 0\n",
        "    for inputs, targets in train_loader:\n",
        "        inputs = inputs.to(device)\n",
        "        targets = targets.to(device)\n",
        "\n",
        "        logits = model(inputs)\n",
        "        loss = criterion(logits.squeeze(), targets)\n",
        "        loss_train += loss*targets.size(0)\n",
        "\n",
        "        optimizer.zero_grad()\n",
        "        loss.backward()\n",
        "        optimizer.step()\n",
        "\n",
        "    end_time = time.time() \n",
        "    epoch_duration = end_time - start_time \n",
        "\n",
        "    loss_train /= n_train\n",
        "    ppl_train = ppl(loss_train)\n",
        "\n",
        "    print_info(loss_train, epoch, 0, epoch_duration)\n",
        "    \n",
        "    print(\"VAL \", end=\"\")\n",
        "    loss_val = compute_loss(model, val_loader, criterion)\n",
        "    ppl_val = ppl(loss_val)\n",
        "    print_info(loss_val, epoch, epochs)\n",
        "\n",
        "    hist[\"loss_train\"].append(loss_train.item())\n",
        "    hist[\"loss_val\"].append(loss_val.item())\n",
        "    hist[\"ppl_train\"].append(ppl_train.item())\n",
        "    hist[\"ppl_val\"].append(ppl_val.item())"
      ]
    },
    {
      "cell_type": "code",
      "execution_count": 782,
      "metadata": {},
      "outputs": [],
      "source": [
        "for key in hist:\n",
        "    hist[key] = np.array(hist[key])"
      ]
    },
    {
      "cell_type": "markdown",
      "metadata": {},
      "source": [
        "Pelos gráficos podemos observar que o modelo treina, com um pouco de overfitting, porém sem divergir completamente a perda de validação:"
      ]
    },
    {
      "cell_type": "code",
      "execution_count": 783,
      "metadata": {},
      "outputs": [
        {
          "data": {
            "image/png": "[encoded data removed]",
            "text/plain": [
              "<Figure size 432x288 with 1 Axes>"
            ]
          },
          "metadata": {
            "needs_background": "light"
          },
          "output_type": "display_data"
        }
      ],
      "source": [
        "plt.plot(hist[\"loss_train\"], \"o-\")\n",
        "plt.plot(hist[\"loss_val\"], \"o-\")\n",
        "\n",
        "plt.legend([\"Train\", \"Val\"])\n",
        "plt.xlabel(\"Epoch\")\n",
        "plt.ylabel(\"Loss\")\n",
        "plt.title(\"Loss history\")\n",
        "\n",
        "plt.show()"
      ]
    },
    {
      "cell_type": "code",
      "execution_count": 784,
      "metadata": {},
      "outputs": [
        {
          "data": {
            "image/png": "[encoded data removed]",
            "text/plain": [
              "<Figure size 432x288 with 1 Axes>"
            ]
          },
          "metadata": {
            "needs_background": "light"
          },
          "output_type": "display_data"
        }
      ],
      "source": [
        "plt.plot(hist[\"ppl_train\"]/vocab_size, \"o-\")\n",
        "plt.plot(hist[\"ppl_val\"]/vocab_size, \"o-\")\n",
        "\n",
        "plt.legend([\"Train\", \"Val\"])\n",
        "plt.xlabel(\"Epoch\")\n",
        "plt.ylabel(\"Normalized PPL\")\n",
        "plt.title(\"Perplexity history\")\n",
        "\n",
        "plt.show()"
      ]
    },
    {
      "cell_type": "code",
      "execution_count": 785,
      "metadata": {},
      "outputs": [
        {
          "name": "stdout",
          "output_type": "stream",
          "text": [
            "4 64 300 0.5 0.001 10 107.80912017822266 156.05552673339844\n"
          ]
        }
      ],
      "source": [
        "#For manual logging \n",
        "#print(context_size, embed_dim, hidden_units, lr, weight_decay, epochs, hist[\"ppl_train\"][-1], hist[\"ppl_val\"][-1])"
      ]
    },
    {
      "cell_type": "code",
      "execution_count": 894,
      "metadata": {},
      "outputs": [],
      "source": [
        "torch.save(model, \"model\")"
      ]
    },
    {
      "cell_type": "markdown",
      "metadata": {
        "id": "PSXfwYISDoPN"
      },
      "source": [
        "## Avaliação"
      ]
    },
    {
      "cell_type": "code",
      "execution_count": 789,
      "metadata": {},
      "outputs": [
        {
          "data": {
            "text/plain": [
              "146.00650024414062"
            ]
          },
          "execution_count": 789,
          "metadata": {},
          "output_type": "execute_result"
        }
      ],
      "source": [
        "test_loss = compute_loss(model, test_loader, criterion)\n",
        "test_ppl = ppl(test_loss)\n",
        "\n",
        "test_ppl.item()"
      ]
    },
    {
      "cell_type": "markdown",
      "metadata": {
        "id": "A1zhxVqfzJ_M"
      },
      "source": [
        "## Exemplo de uso"
      ]
    },
    {
      "cell_type": "code",
      "execution_count": 895,
      "metadata": {},
      "outputs": [],
      "source": [
        "model = torch.load(\"model\")"
      ]
    },
    {
      "cell_type": "code",
      "execution_count": 896,
      "metadata": {},
      "outputs": [],
      "source": [
        "def generate_text(model, vocab, inverse_vocab, text, max_length):\n",
        "    text = clean_text(text)\n",
        "\n",
        "    total_length = len(text.split(\" \"))\n",
        "\n",
        "    last_sequence = create_sequences([text], context_size, vocab)[0][-1]\n",
        "    last_sequence = torch.tensor(last_sequence)-1\n",
        "    last_sequence = last_sequence.to(device)\n",
        "\n",
        "    new_characters = []\n",
        "\n",
        "    while total_length < max_length:\n",
        "        \n",
        "        output = model(torch.unsqueeze(last_sequence, 0))\n",
        "        \n",
        "        next_encoded = output.argmax(dim=1).item()\n",
        "\n",
        "        last_sequence = torch.cat((last_sequence[1:], torch.tensor([next_encoded]).to(device)))\n",
        "        \n",
        "        new_characters.append(next_encoded)\n",
        "\n",
        "        total_length += 1\n",
        "\n",
        "    new_characters = np.array(new_characters)+1\n",
        "\n",
        "    new_text = \" \".join(decode_sentence(new_characters, inverse_vocab))\n",
        "\n",
        "    return new_text"
      ]
    },
    {
      "cell_type": "code",
      "execution_count": 897,
      "metadata": {
        "id": "3PExkoWOzJ_M"
      },
      "outputs": [
        {
          "name": "stdout",
          "output_type": "stream",
          "text": [
            "OLD\n",
            "- - tu não abandonarás tua senhora , não é ? disse ella passando a\n",
            "\n",
            "GENERATED CONTINUATION\n",
            "a sua alma e a sua alma de sua senhora , e a moça , e a moça , e a moça , e a\n"
          ]
        }
      ],
      "source": [
        "text = cleaned_paragraphs[300]\n",
        "max_length = 40\n",
        "\n",
        "new_text = generate_text(model, vocab, inverse_vocab, text, max_length)\n",
        "\n",
        "print(\"OLD\")\n",
        "print(text)\n",
        "print(\"\")\n",
        "print(\"GENERATED CONTINUATION\")\n",
        "print(new_text)"
      ]
    },
    {
      "cell_type": "markdown",
      "metadata": {},
      "source": [
        "Podemos observar que o modelo colapsa rapidamente para uma sequência, neste caso \", e a moça\"."
      ]
    }
  ],
  "metadata": {
    "accelerator": "GPU",
    "colab": {
      "gpuType": "T4",
      "provenance": []
    },
    "kernelspec": {
      "display_name": "Python 3",
      "name": "python3"
    },
    "language_info": {
      "codemirror_mode": {
        "name": "ipython",
        "version": 3
      },
      "file_extension": ".py",
      "mimetype": "text/x-python",
      "name": "python",
      "nbconvert_exporter": "python",
      "pygments_lexer": "ipython3",
      "version": "3.8.5"
    }
  },
  "nbformat": 4,
  "nbformat_minor": 0
}
