{
  "cells": [
    {
      "cell_type": "markdown",
      "metadata": {
        "id": "fMI0JT_YuYF3"
      },
      "source": [
        "## Exercício: Modelo de Linguagem com auto-atenção\n",
        "\n",
        "Este exercício é similar ao da aula passada, mas iremos agora treinar uma rede neural *com auto-atenção* para prever a próxima palavra de um texto, data as palavras anteriores como entrada.\n",
        "\n",
        "Na camada de auto-atenção, deve-se implementar (vide slide 34):\n",
        "- Embeddings de posição\n",
        "- Projeções lineares (WQ, WK, WV, WO)\n",
        "- Camada de feed forward (2-layer MLP)\n",
        "\n",
        "Instrucões:\n",
        "- É necessário fazer duas implementações da camada de auto-atenção: uma usando laços (ineficiente, mas fácil de entender) e outra matricial (eficiente mas difícil de entender). Usar slide 36 como referência.\n",
        "\n",
        "- Fazer um assert para garantir que o resultado das duas implementações é exatamente igual.\n",
        "\n",
        "- No treinamento, usar apenas a implementação matricial."
      ]
    },
    {
      "cell_type": "code",
      "execution_count": 2,
      "metadata": {},
      "outputs": [],
      "source": [
        "import string\n",
        "from collections import Counter\n",
        "from typing import List, Dict, Union, Tuple\n",
        "import random\n",
        "import os\n",
        "import time\n",
        "import abc\n",
        "\n",
        "import numpy as np\n",
        "from numpy.testing import assert_raises, assert_array_equal, assert_array_almost_equal\n",
        "from numpy.typing import ArrayLike\n",
        "import torch\n",
        "import torch.nn as nn\n",
        "from torch.utils.data import Dataset, DataLoader\n",
        "import matplotlib.pyplot as plt\n",
        "import wandb"
      ]
    },
    {
      "cell_type": "code",
      "execution_count": 3,
      "metadata": {},
      "outputs": [],
      "source": [
        "def assert_array_not_equal(array1:ArrayLike, array2:ArrayLike) -> ArrayLike:\n",
        "    assert_raises(AssertionError, assert_array_equal, array1, array2)"
      ]
    },
    {
      "cell_type": "code",
      "execution_count": 4,
      "metadata": {},
      "outputs": [],
      "source": [
        "def reset_seeds() -> None:\n",
        "    random.seed(18)\n",
        "    torch.manual_seed(18)"
      ]
    },
    {
      "cell_type": "markdown",
      "metadata": {
        "id": "bYbkEzdD37sZ"
      },
      "source": [
        "## Faz download e carrega o dataset"
      ]
    },
    {
      "cell_type": "code",
      "execution_count": 5,
      "metadata": {
        "colab": {
          "base_uri": "https://localhost:8080/"
        },
        "id": "9qAnqY_q0beK",
        "outputId": "f810fdb0-138d-4917-b7ef-69ab266acef6"
      },
      "outputs": [],
      "source": [
        "if not os.path.isfile(\"67724.txt.utf-8\"):\n",
        "    !curl -LO https://www.gutenberg.org/ebooks/67724.txt.utf-8\n",
        "\n",
        "if not os.path.isfile(\"67725.txt.utf-8\"):\n",
        "    !curl -LO https://www.gutenberg.org/ebooks/67725.txt.utf-8"
      ]
    },
    {
      "cell_type": "code",
      "execution_count": 6,
      "metadata": {
        "colab": {
          "base_uri": "https://localhost:8080/"
        },
        "id": "6_UzC9pV091C",
        "outputId": "1553b04f-24c4-4027-8cab-0907f92f04df"
      },
      "outputs": [
        {
          "data": {
            "text/plain": [
              "4969"
            ]
          },
          "execution_count": 6,
          "metadata": {},
          "output_type": "execute_result"
        }
      ],
      "source": [
        "text = open(\"67724.txt.utf-8\",\"r\", encoding=\"utf8\").read()\n",
        "text += open(\"67725.txt.utf-8\",\"r\", encoding=\"utf8\").read()\n",
        "\n",
        "paragraphs = text.split(\"\\n\\n\")\n",
        "len(paragraphs)"
      ]
    },
    {
      "cell_type": "code",
      "execution_count": 7,
      "metadata": {},
      "outputs": [],
      "source": [
        "def clean_text(text:str) -> str:\n",
        "    '''\n",
        "    Clean the text, changing upper case and setting numbers to 999\n",
        "    '''\n",
        "    \n",
        "    text = text.lower()\n",
        "    old_text = text.split()\n",
        "    new_text = []\n",
        "\n",
        "    for j in range(len(old_text)):\n",
        "        word = old_text[j] \n",
        "        if word.isdigit():\n",
        "            word = \"999\"\n",
        "        elif len(word) > 1 and word[0] in string.punctuation:\n",
        "            old_text.insert(j+1, word[1:])\n",
        "            word = word[0]\n",
        "        elif word[-1] in string.punctuation and len(word) > 1:\n",
        "            old_text.insert(j+1, word[:-1])\n",
        "            old_text.insert(j+2, word[-1])\n",
        "            \n",
        "            word = \"\"\n",
        "        \n",
        "        if len(word) > 0:\n",
        "            new_text.append(word)\n",
        "    \n",
        "    return \" \".join(new_text)"
      ]
    },
    {
      "cell_type": "code",
      "execution_count": 8,
      "metadata": {
        "colab": {
          "base_uri": "https://localhost:8080/"
        },
        "id": "UhUFjtNdDuG0",
        "outputId": "78798c0c-deca-4454-d3fb-7d3ba70f3e91"
      },
      "outputs": [
        {
          "name": "stdout",
          "output_type": "stream",
          "text": [
            "SAMPLE ----------------\n",
            "﻿the project gutenberg ebook of o guarany : romance brazileiro , vol . 999 ( of 999 ) this ebook is for the use of anyone anywhere in the united states and most other parts of the world at no cost and with almost no restrictions whatsoever . you may copy it , give it away or re-use it under the terms of the project gutenberg license included with this ebook or online at www.gutenberg.org . if you are not located in the united states , you\n",
            "---------------------\n",
            "4892\n"
          ]
        }
      ],
      "source": [
        "cleaned_paragraphs = [paragraph.replace(\"\\n\", \" \") for paragraph in paragraphs if paragraph.strip()]\n",
        "\n",
        "#Paper:\n",
        "#ponctuation -> keep (separado das outras palavras, \"pontuação,\" -> \"pontuação\"+\",\")\n",
        "#numeric -> special symbol (colocando todos como 999 para convergir para o mesmo símbolo)\n",
        "#upper -> lower\n",
        "#proper nouns -> special symbol (difícil identificar, ignorado)\n",
        "#rare words -> special symbol (feito na parte de encoding)\n",
        "\n",
        "for i in range(len(cleaned_paragraphs)):\n",
        "    cleaned_paragraphs[i] = clean_text(cleaned_paragraphs[i])\n",
        "\n",
        "print(\"SAMPLE ----------------\")\n",
        "print(cleaned_paragraphs[0])\n",
        "print(\"---------------------\")\n",
        "\n",
        "print(len(cleaned_paragraphs))"
      ]
    },
    {
      "cell_type": "markdown",
      "metadata": {
        "id": "bFVN2ihb33Rf"
      },
      "source": [
        "## Análise do dataset"
      ]
    },
    {
      "cell_type": "code",
      "execution_count": 9,
      "metadata": {
        "colab": {
          "base_uri": "https://localhost:8080/"
        },
        "id": "qSRHqe3H4ZFw",
        "outputId": "4a985c7a-ce1d-4b72-d253-c9fbbc5f9440"
      },
      "outputs": [
        {
          "data": {
            "text/plain": [
              "11470"
            ]
          },
          "execution_count": 9,
          "metadata": {},
          "output_type": "execute_result"
        }
      ],
      "source": [
        "def count_words(texts:List[str]) -> Counter:\n",
        "    word_counts = Counter()\n",
        "    for text in texts:\n",
        "        word_counts.update(text.split(\" \"))\n",
        "    return word_counts\n",
        "\n",
        "word_counts = count_words(cleaned_paragraphs)\n",
        "\n",
        "len(word_counts)"
      ]
    },
    {
      "cell_type": "markdown",
      "metadata": {
        "id": "EyGVDL9KzJ_I"
      },
      "source": [
        "## Criando um vocabulário"
      ]
    },
    {
      "cell_type": "code",
      "execution_count": 10,
      "metadata": {},
      "outputs": [],
      "source": [
        "def create_vocab(word_counts:Counter, vocab_size:int) -> Tuple[Dict[str, int], List[str]]:\n",
        "    most_frequent_words = [word for word, count in word_counts.most_common(vocab_size)]\n",
        "    vocab = {word: i for i, word in enumerate(most_frequent_words, 1)}\n",
        "\n",
        "    inverse_vocab = list(vocab.keys())\n",
        "\n",
        "    return vocab, inverse_vocab"
      ]
    },
    {
      "cell_type": "code",
      "execution_count": 11,
      "metadata": {},
      "outputs": [],
      "source": [
        "test_vocab_size = 1000\n",
        "test_vocab, test_inverse_vocab = create_vocab(word_counts, test_vocab_size)"
      ]
    },
    {
      "cell_type": "code",
      "execution_count": 12,
      "metadata": {},
      "outputs": [
        {
          "data": {
            "text/plain": [
              "{',': 1,\n",
              " 'a': 2,\n",
              " 'que': 3,\n",
              " '-': 4,\n",
              " 'o': 5,\n",
              " 'de': 6,\n",
              " 'e': 7,\n",
              " ';': 8,\n",
              " '.': 9,\n",
              " 'um': 10,\n",
              " 'do': 11,\n",
              " 'não': 12,\n",
              " 'uma': 13,\n",
              " 'os': 14,\n",
              " 'se': 15,\n",
              " 'da': 16,\n",
              " 'com': 17,\n",
              " 'sua': 18,\n",
              " 'para': 19,\n",
              " 'seu': 20,\n",
              " 'em': 21,\n",
              " 'pery': 22,\n",
              " 'as': 23,\n",
              " 'no': 24,\n",
              " 'por': 25,\n",
              " 'como': 26,\n",
              " 'ao': 27,\n",
              " 'era': 28,\n",
              " 'tinha': 29,\n",
              " 'á': 30,\n",
              " 'cecilia': 31,\n",
              " 'na': 32,\n",
              " 'd': 33,\n",
              " 'sobre': 34,\n",
              " 'é': 35,\n",
              " 'mas': 36,\n",
              " 'the': 37,\n",
              " '!': 38,\n",
              " 'elle': 39,\n",
              " 'dos': 40,\n",
              " 'indio': 41,\n",
              " 'quando': 42,\n",
              " 'seus': 43,\n",
              " ':': 44,\n",
              " 'antonio': 45,\n",
              " 'mais': 46,\n",
              " 'alvaro': 47,\n",
              " 'of': 48,\n",
              " 'das': 49,\n",
              " 'lhe': 50,\n",
              " 'olhos': 51,\n",
              " 'depois': 52,\n",
              " 'menina': 53,\n",
              " '?': 54,\n",
              " 'ella': 55,\n",
              " 'pela': 56,\n",
              " 'disse': 57,\n",
              " 'havia': 58,\n",
              " 'fidalgo': 59,\n",
              " 'tu': 60,\n",
              " 'ainda': 61,\n",
              " 'isabel': 62,\n",
              " 'senhora': 63,\n",
              " 'momento': 64,\n",
              " 'estava': 65,\n",
              " 'aventureiros': 66,\n",
              " 'loredano': 67,\n",
              " 'project': 68,\n",
              " 'dous': 69,\n",
              " 'casa': 70,\n",
              " 'to': 71,\n",
              " 'me': 72,\n",
              " 'tempo': 73,\n",
              " 'só': 74,\n",
              " 'já': 75,\n",
              " 'nos': 76,\n",
              " 'mariz': 77,\n",
              " 'italiano': 78,\n",
              " 'todos': 79,\n",
              " '_': 80,\n",
              " 'mesmo': 81,\n",
              " 'you': 82,\n",
              " 'pelo': 83,\n",
              " 'foi': 84,\n",
              " 'porque': 85,\n",
              " 'então': 86,\n",
              " 'homem': 87,\n",
              " 'sem': 88,\n",
              " 'meio': 89,\n",
              " 'olhar': 90,\n",
              " 'ia': 91,\n",
              " 'and': 92,\n",
              " 'or': 93,\n",
              " 'esse': 94,\n",
              " 'vida': 95,\n",
              " 'essa': 96,\n",
              " 'suas': 97,\n",
              " 'mão': 98,\n",
              " 'aos': 99,\n",
              " 'entre': 100,\n",
              " 'isto': 101,\n",
              " 'quem': 102,\n",
              " 'tão': 103,\n",
              " 'tudo': 104,\n",
              " 'pouco': 105,\n",
              " 'in': 106,\n",
              " 'eu': 107,\n",
              " 'vez': 108,\n",
              " 'rio': 109,\n",
              " 'assim': 110,\n",
              " 'esta': 111,\n",
              " 'podia': 112,\n",
              " 'homens': 113,\n",
              " 'cabeça': 114,\n",
              " 'moça': 115,\n",
              " 'onde': 116,\n",
              " 'apenas': 117,\n",
              " 'moço': 118,\n",
              " 'gutenberg™': 119,\n",
              " 'ou': 120,\n",
              " 'te': 121,\n",
              " 'ser': 122,\n",
              " 'meu': 123,\n",
              " 'nem': 124,\n",
              " 'ha': 125,\n",
              " 'este': 126,\n",
              " 'vos': 127,\n",
              " 'cavalheiro': 128,\n",
              " 'palavra': 129,\n",
              " 'selvagem': 130,\n",
              " 'fez': 131,\n",
              " 'toda': 132,\n",
              " 'minha': 133,\n",
              " 'dia': 134,\n",
              " 'pai': 135,\n",
              " 'with': 136,\n",
              " 'bem': 137,\n",
              " 'sim': 138,\n",
              " 'palavras': 139,\n",
              " 'corpo': 140,\n",
              " 'duas': 141,\n",
              " 'work': 142,\n",
              " 'fazer': 143,\n",
              " 'rosto': 144,\n",
              " 'this': 145,\n",
              " 'pois': 146,\n",
              " 'até': 147,\n",
              " 'coração': 148,\n",
              " 'selvagens': 149,\n",
              " 'tinhão': 150,\n",
              " 'terra': 151,\n",
              " 'ayres': 152,\n",
              " '999': 153,\n",
              " 'ver': 154,\n",
              " 'ás': 155,\n",
              " 'nas': 156,\n",
              " 'ter': 157,\n",
              " 'noite': 158,\n",
              " 'porém': 159,\n",
              " 'labios': 160,\n",
              " 'porta': 161,\n",
              " 'voz': 162,\n",
              " 'grande': 163,\n",
              " 'cousa': 164,\n",
              " 'outro': 165,\n",
              " 'velho': 166,\n",
              " 'sr': 167,\n",
              " 'passava': 168,\n",
              " 'pag': 169,\n",
              " 'devia': 170,\n",
              " 'vezes': 171,\n",
              " 'qual': 172,\n",
              " 'amigo': 173,\n",
              " 'primeiro': 174,\n",
              " 'morte': 175,\n",
              " 'força': 176,\n",
              " 'alguma': 177,\n",
              " 'amor': 178,\n",
              " 'emquanto': 179,\n",
              " 'ruy': 180,\n",
              " 'muito': 181,\n",
              " 'longe': 182,\n",
              " 'nesse': 183,\n",
              " 'gomes': 184,\n",
              " 'esplanada': 185,\n",
              " 'parecia': 186,\n",
              " 'tua': 187,\n",
              " 'mãi': 188,\n",
              " 'any': 189,\n",
              " 'lugar': 190,\n",
              " 'todas': 191,\n",
              " 'algum': 192,\n",
              " 'outros': 193,\n",
              " 'mãos': 194,\n",
              " 'alma': 195,\n",
              " 'works': 196,\n",
              " 'primeira': 197,\n",
              " 'seio': 198,\n",
              " 'espirito': 199,\n",
              " 'hora': 200,\n",
              " 'arvore': 201,\n",
              " 'parte': 202,\n",
              " 'fundo': 203,\n",
              " 'dessa': 204,\n",
              " 'filha': 205,\n",
              " 'idéa': 206,\n",
              " 'sempre': 207,\n",
              " 'alguns': 208,\n",
              " 'companheiros': 209,\n",
              " 'antes': 210,\n",
              " 'respondeu': 211,\n",
              " 'escudeiro': 212,\n",
              " 'aymorés': 213,\n",
              " 'gutenberg': 214,\n",
              " 'not': 215,\n",
              " 'lado': 216,\n",
              " 'agora': 217,\n",
              " 'luz': 218,\n",
              " 'sol': 219,\n",
              " 'céo': 220,\n",
              " 'aquella': 221,\n",
              " 'tres': 222,\n",
              " 'pelos': 223,\n",
              " 'braço': 224,\n",
              " 'familia': 225,\n",
              " 'gesto': 226,\n",
              " 'aventureiro': 227,\n",
              " 'viu': 228,\n",
              " 'sabia': 229,\n",
              " 'ahi': 230,\n",
              " 'feito': 231,\n",
              " 'mulher': 232,\n",
              " 'movimento': 233,\n",
              " 'electronic': 234,\n",
              " 'novo': 235,\n",
              " 'desse': 236,\n",
              " 'todo': 237,\n",
              " 'tambem': 238,\n",
              " 'janella': 239,\n",
              " 'razão': 240,\n",
              " 'fosse': 241,\n",
              " 'by': 242,\n",
              " 'si': 243,\n",
              " 'contra': 244,\n",
              " 'pés': 245,\n",
              " 'repente': 246,\n",
              " 'fazia': 247,\n",
              " 'junto': 248,\n",
              " 'arvores': 249,\n",
              " 'sorriso': 250,\n",
              " 'sentia': 251,\n",
              " 'are': 252,\n",
              " 'nada': 253,\n",
              " 'diogo': 254,\n",
              " 'quanto': 255,\n",
              " 'inimigo': 256,\n",
              " 'nunca': 257,\n",
              " 'algumas': 258,\n",
              " 'lauriana': 259,\n",
              " 'deus': 260,\n",
              " 'vós': 261,\n",
              " 'for': 262,\n",
              " 'if': 263,\n",
              " 'quasi': 264,\n",
              " 'filho': 265,\n",
              " 'cada': 266,\n",
              " 'floresta': 267,\n",
              " 'pelas': 268,\n",
              " 'erão': 269,\n",
              " 'vendo': 270,\n",
              " 'elles': 271,\n",
              " 'scena': 272,\n",
              " 'aquelle': 273,\n",
              " 'face': 274,\n",
              " 'ouvido': 275,\n",
              " 'terms': 276,\n",
              " 'durante': 277,\n",
              " 'preciso': 278,\n",
              " 'mesma': 279,\n",
              " 'dias': 280,\n",
              " 'talvez': 281,\n",
              " 'vai': 282,\n",
              " 'braços': 283,\n",
              " 'quer': 284,\n",
              " 'senão': 285,\n",
              " 'apezar': 286,\n",
              " 'diante': 287,\n",
              " 'fogo': 288,\n",
              " \"n'um\": 289,\n",
              " 'desde': 290,\n",
              " 'és': 291,\n",
              " 'desta': 292,\n",
              " 'sala': 293,\n",
              " 'campo': 294,\n",
              " 'aqui': 295,\n",
              " 'essas': 296,\n",
              " 'ar': 297,\n",
              " 'folhas': 298,\n",
              " 'esses': 299,\n",
              " 'fim': 300,\n",
              " 'passado': 301,\n",
              " 'india': 302,\n",
              " 'morrer': 303,\n",
              " 'leito': 304,\n",
              " 'menos': 305,\n",
              " 'delle': 306,\n",
              " 'ficou': 307,\n",
              " 'esperança': 308,\n",
              " 'is': 309,\n",
              " 'neste': 310,\n",
              " 'pequena': 311,\n",
              " 'grandes': 312,\n",
              " 'pé': 313,\n",
              " 'causa': 314,\n",
              " 'continuou': 315,\n",
              " 'horas': 316,\n",
              " 'silencio': 317,\n",
              " 'sentio': 318,\n",
              " 'quarto': 319,\n",
              " 'menor': 320,\n",
              " 'tanto': 321,\n",
              " 'isso': 322,\n",
              " 'outra': 323,\n",
              " 'sombra': 324,\n",
              " 'passou': 325,\n",
              " 'pensamento': 326,\n",
              " 'tem': 327,\n",
              " 'fôra': 328,\n",
              " 'states': 329,\n",
              " 'entretanto': 330,\n",
              " 'havião': 331,\n",
              " 'tomou': 332,\n",
              " 'armas': 333,\n",
              " 'della': 334,\n",
              " 'forte': 335,\n",
              " 'desses': 336,\n",
              " 'doce': 337,\n",
              " 'terrivel': 338,\n",
              " 'seria': 339,\n",
              " 'bento': 340,\n",
              " 'copyright': 341,\n",
              " 'janeiro': 342,\n",
              " 'natureza': 343,\n",
              " 'perigo': 344,\n",
              " 'prazer': 345,\n",
              " 'sentimento': 346,\n",
              " 'flôr': 347,\n",
              " '(': 348,\n",
              " 'dar': 349,\n",
              " 'certo': 350,\n",
              " 'ultima': 351,\n",
              " 'estas': 352,\n",
              " 'dizer': 353,\n",
              " 'expressão': 354,\n",
              " 'triste': 355,\n",
              " 'simões': 356,\n",
              " 'foundation': 357,\n",
              " 'posição': 358,\n",
              " 'ordem': 359,\n",
              " 'instante': 360,\n",
              " 'luta': 361,\n",
              " 'sangue': 362,\n",
              " 'nobre': 363,\n",
              " 'visto': 364,\n",
              " 'nessa': 365,\n",
              " 'tirou': 366,\n",
              " 'teu': 367,\n",
              " 'prima': 368,\n",
              " 'grito': 369,\n",
              " 'prisioneiro': 370,\n",
              " 'all': 371,\n",
              " 'donations': 372,\n",
              " \"n'uma\": 373,\n",
              " 'beira': 374,\n",
              " 'passar': 375,\n",
              " 'canto': 376,\n",
              " 'indios': 377,\n",
              " 'espada': 378,\n",
              " 'animal': 379,\n",
              " 'tenho': 380,\n",
              " 'arco': 381,\n",
              " 'aposento': 382,\n",
              " ')': 383,\n",
              " 'it': 384,\n",
              " 'plano': 385,\n",
              " 'especie': 386,\n",
              " 'alto': 387,\n",
              " 'vontade': 388,\n",
              " 'sido': 389,\n",
              " 'senhor': 390,\n",
              " 'oh': 391,\n",
              " 'exclamou': 392,\n",
              " 'peito': 393,\n",
              " 'voltou': 394,\n",
              " 'segredo': 395,\n",
              " 'tribu': 396,\n",
              " 'from': 397,\n",
              " 'agreement': 398,\n",
              " 'pedra': 399,\n",
              " 'parede': 400,\n",
              " 'nome': 401,\n",
              " 'passos': 402,\n",
              " 'agua': 403,\n",
              " 'inimigos': 404,\n",
              " 'arma': 405,\n",
              " 'ardente': 406,\n",
              " 'ultimo': 407,\n",
              " 'tivesse': 408,\n",
              " 'soeiro': 409,\n",
              " 'manhã': 410,\n",
              " 'united': 411,\n",
              " 'other': 412,\n",
              " 'pequeno': 413,\n",
              " 'tronco': 414,\n",
              " 'effeito': 415,\n",
              " 'ponta': 416,\n",
              " 'distancia': 417,\n",
              " 'fronte': 418,\n",
              " 'sabeis': 419,\n",
              " 'vossa': 420,\n",
              " 'ergueu-se': 421,\n",
              " 'vento': 422,\n",
              " 'cuja': 423,\n",
              " 'via': 424,\n",
              " 'poder': 425,\n",
              " 'guerreiros': 426,\n",
              " 'salvar': 427,\n",
              " 'be': 428,\n",
              " 'that': 429,\n",
              " 'literary': 430,\n",
              " 'são': 431,\n",
              " 'impossivel': 432,\n",
              " 'seja': 433,\n",
              " 'coragem': 434,\n",
              " 'occasião': 435,\n",
              " 'conhecia': 436,\n",
              " 'tarde': 437,\n",
              " 'verdade': 438,\n",
              " 'veio': 439,\n",
              " 'voltou-se': 440,\n",
              " 'perto': 441,\n",
              " 'esperava': 442,\n",
              " 'dedicação': 443,\n",
              " 'logo': 444,\n",
              " 'mal': 445,\n",
              " 'may': 446,\n",
              " 'license': 447,\n",
              " 'annos': 448,\n",
              " 'ião': 449,\n",
              " 'dava': 450,\n",
              " 'vista': 451,\n",
              " 'chão': 452,\n",
              " 'embora': 453,\n",
              " 'estavão': 454,\n",
              " 'tendes': 455,\n",
              " 'signal': 456,\n",
              " 'passo': 457,\n",
              " 'sob': 458,\n",
              " 'raio': 459,\n",
              " 'acabava': 460,\n",
              " 'lagrimas': 461,\n",
              " 'deo': 462,\n",
              " 'susto': 463,\n",
              " 'dizia': 464,\n",
              " 'teve': 465,\n",
              " 'começou': 466,\n",
              " 'conheceu': 467,\n",
              " 'torno': 468,\n",
              " 'nossa': 469,\n",
              " 'quatro': 470,\n",
              " 'livre': 471,\n",
              " 'deserto': 472,\n",
              " 'cabana': 473,\n",
              " 'nesta': 474,\n",
              " 'fazendo': 475,\n",
              " 'chefe': 476,\n",
              " 'volta': 477,\n",
              " 'respeito': 478,\n",
              " 'quereis': 479,\n",
              " 'faces': 480,\n",
              " 'quiz': 481,\n",
              " 'sei': 482,\n",
              " 'perguntou': 483,\n",
              " 'physionomia': 484,\n",
              " 'cabellos': 485,\n",
              " 'cahir': 486,\n",
              " 'ergueu': 487,\n",
              " 'ouvio': 488,\n",
              " 'felicidade': 489,\n",
              " 'frade': 490,\n",
              " 'gabinete': 491,\n",
              " 'canôa': 492,\n",
              " 'ebook': 493,\n",
              " 'use': 494,\n",
              " 'copy': 495,\n",
              " 'dessas': 496,\n",
              " 'simples': 497,\n",
              " 'jardim': 498,\n",
              " 'frente': 499,\n",
              " 'quero': 500,\n",
              " 'melhor': 501,\n",
              " 'pôde': 502,\n",
              " 'ora': 503,\n",
              " 'mim': 504,\n",
              " 'está': 505,\n",
              " 'côr': 506,\n",
              " 'calma': 507,\n",
              " 'rapidamente': 508,\n",
              " 'vingança': 509,\n",
              " 'alegria': 510,\n",
              " 'soltou': 511,\n",
              " 'medo': 512,\n",
              " 'trademark': 513,\n",
              " 'on': 514,\n",
              " 'archive': 515,\n",
              " 'deve': 516,\n",
              " 'escada': 517,\n",
              " 'guerra': 518,\n",
              " 'naquella': 519,\n",
              " 'naquelle': 520,\n",
              " 'ponto': 521,\n",
              " 'companheiro': 522,\n",
              " 'nós': 523,\n",
              " 'deixou': 524,\n",
              " 'brilhante': 525,\n",
              " 'sorrindo': 526,\n",
              " 'rumor': 527,\n",
              " 'bella': 528,\n",
              " 'vosso': 529,\n",
              " 'vão': 530,\n",
              " 'alpendre': 531,\n",
              " 'comprehender': 532,\n",
              " 'vespera': 533,\n",
              " 'aguas': 534,\n",
              " 'esforço': 535,\n",
              " 'direito': 536,\n",
              " 'interior': 537,\n",
              " 'deste': 538,\n",
              " 'mundo': 539,\n",
              " 'tom': 540,\n",
              " 'qualquer': 541,\n",
              " 'caminho': 542,\n",
              " 'aproximou-se': 543,\n",
              " 'immediatamente': 544,\n",
              " 'momentos': 545,\n",
              " 'innocente': 546,\n",
              " 'feliz': 547,\n",
              " 'cahio': 548,\n",
              " 'objecto': 549,\n",
              " 'tendo': 550,\n",
              " 'imagem': 551,\n",
              " 'resolução': 552,\n",
              " 'cecy': 553,\n",
              " 'queria': 554,\n",
              " 'dôr': 555,\n",
              " 'can': 556,\n",
              " 'rochedo': 557,\n",
              " 'sublime': 558,\n",
              " 'tinha-se': 559,\n",
              " 'resto': 560,\n",
              " 'maior': 561,\n",
              " 'bom': 562,\n",
              " 'delles': 563,\n",
              " 'deixar': 564,\n",
              " 'possivel': 565,\n",
              " 'clavina': 566,\n",
              " 'galho': 567,\n",
              " 'joelhos': 568,\n",
              " 'estendeu': 569,\n",
              " 'segundo': 570,\n",
              " 'setta': 571,\n",
              " 'tal': 572,\n",
              " 'podesse': 573,\n",
              " 'deixava': 574,\n",
              " 'vinha': 575,\n",
              " 'queres': 576,\n",
              " 'sabes': 577,\n",
              " 'ti': 578,\n",
              " 'dirigio-se': 579,\n",
              " 'irmão': 580,\n",
              " 'entrou': 581,\n",
              " 'tanta': 582,\n",
              " 'thesouro': 583,\n",
              " 'affeição': 584,\n",
              " 'sorrio': 585,\n",
              " 'bastava': 586,\n",
              " 'receio': 587,\n",
              " 'horrivel': 588,\n",
              " 'corria': 589,\n",
              " 'margem': 590,\n",
              " 'servia': 591,\n",
              " 'uns': 592,\n",
              " 'dever': 593,\n",
              " 'daquelle': 594,\n",
              " 'replicou': 595,\n",
              " 'outras': 596,\n",
              " 'dentes': 597,\n",
              " 'longa': 598,\n",
              " 'ah': 599,\n",
              " 'algodão': 600,\n",
              " 'faca': 601,\n",
              " 'forão': 602,\n",
              " 'ouvio-se': 603,\n",
              " 'pobre': 604,\n",
              " 'lembrança': 605,\n",
              " 'chegado': 606,\n",
              " 'adormecida': 607,\n",
              " 'profundo': 608,\n",
              " 'estou': 609,\n",
              " 'nunes': 610,\n",
              " 'including': 611,\n",
              " 'full': 612,\n",
              " 'agree': 613,\n",
              " 'must': 614,\n",
              " 'we': 615,\n",
              " 'rei': 616,\n",
              " 'belleza': 617,\n",
              " 'edificio': 618,\n",
              " 'azul': 619,\n",
              " 'natural': 620,\n",
              " 'achava': 621,\n",
              " 'alta': 622,\n",
              " 'hombros': 623,\n",
              " 'estar': 624,\n",
              " 'sois': 625,\n",
              " 'lentamente': 626,\n",
              " 'onça': 627,\n",
              " 'redor': 628,\n",
              " 'comprehendeu': 629,\n",
              " 'principio': 630,\n",
              " 'correu': 631,\n",
              " 'maneira': 632,\n",
              " 'conhecer': 633,\n",
              " 'alegre': 634,\n",
              " 'acção': 635,\n",
              " 'tantos': 636,\n",
              " 'desejo': 637,\n",
              " 'raiva': 638,\n",
              " 'pensava': 639,\n",
              " 'nelle': 640,\n",
              " 'obrigado': 641,\n",
              " 'ouvindo': 642,\n",
              " 'levantou': 643,\n",
              " 'amigos': 644,\n",
              " 'at': 645,\n",
              " 'linda': 646,\n",
              " 'via-se': 647,\n",
              " 'larga': 648,\n",
              " 'profunda': 649,\n",
              " 'facto': 650,\n",
              " 'aspecto': 651,\n",
              " 'pennas': 652,\n",
              " 'banda': 653,\n",
              " 'fallar': 654,\n",
              " 'trazia': 655,\n",
              " 'cinta': 656,\n",
              " 'chegou': 657,\n",
              " 'chegar': 658,\n",
              " 'cousas': 659,\n",
              " 'hombro': 660,\n",
              " 'tigre': 661,\n",
              " 'abrio': 662,\n",
              " 'lindo': 663,\n",
              " 'desgraça': 664,\n",
              " 'ficar': 665,\n",
              " 'moças': 666,\n",
              " 'brancos': 667,\n",
              " 'aquelles': 668,\n",
              " 'desespero': 669,\n",
              " 'amava': 670,\n",
              " 'conseguio': 671,\n",
              " 'fitou': 672,\n",
              " 'partir': 673,\n",
              " 'lembrou-se': 674,\n",
              " 'cacique': 675,\n",
              " 'encontro': 676,\n",
              " 'nosso': 677,\n",
              " 'chegando': 678,\n",
              " 'partio': 679,\n",
              " 'mestre': 680,\n",
              " 'palmeira': 681,\n",
              " 'sacrificio': 682,\n",
              " 'access': 683,\n",
              " 'guarany': 684,\n",
              " 'precipicio': 685,\n",
              " 'ouro': 686,\n",
              " 'phrase': 687,\n",
              " 'procurava': 688,\n",
              " 'quaes': 689,\n",
              " 'baixa': 690,\n",
              " 'dentro': 691,\n",
              " 'ligeiro': 692,\n",
              " 'conversa': 693,\n",
              " 'folhagem': 694,\n",
              " 'seis': 695,\n",
              " 'sombras': 696,\n",
              " 'segunda': 697,\n",
              " 'trabalho': 698,\n",
              " 'flor': 699,\n",
              " 'elevava': 700,\n",
              " 'alli': 701,\n",
              " 'appareceu': 702,\n",
              " 'azues': 703,\n",
              " 'admiração': 704,\n",
              " 'paixão': 705,\n",
              " 'morto': 706,\n",
              " 'vinho': 707,\n",
              " 'lua': 708,\n",
              " 'orgulho': 709,\n",
              " 'fr': 710,\n",
              " 'guerreiro': 711,\n",
              " 'brazil': 712,\n",
              " 'extrema': 713,\n",
              " 'paquequer': 714,\n",
              " 'graça': 715,\n",
              " 'janellas': 716,\n",
              " 'acontecimentos': 717,\n",
              " 'cruz': 718,\n",
              " 'suave': 719,\n",
              " 'pode': 720,\n",
              " 'caso': 721,\n",
              " 'necessidade': 722,\n",
              " 'estais': 723,\n",
              " 'nossos': 724,\n",
              " 'ninguem': 725,\n",
              " 'cheio': 726,\n",
              " 'continuava': 727,\n",
              " 'tremula': 728,\n",
              " 'vulto': 729,\n",
              " 'direcção': 730,\n",
              " 'sentou-se': 731,\n",
              " 'sabe': 732,\n",
              " 'religião': 733,\n",
              " 'existencia': 734,\n",
              " 'tornou-se': 735,\n",
              " 'boa': 736,\n",
              " 'comprehendia': 737,\n",
              " 'ambos': 738,\n",
              " 'estremeceu': 739,\n",
              " 'pistolas': 740,\n",
              " 'afim': 741,\n",
              " 'crime': 742,\n",
              " 'comtudo': 743,\n",
              " 'levou': 744,\n",
              " 'emoção': 745,\n",
              " 'papel': 746,\n",
              " 'lhes': 747,\n",
              " 'fazião': 748,\n",
              " 'cima': 749,\n",
              " 'raça': 750,\n",
              " 'daquella': 751,\n",
              " 'distributing': 752,\n",
              " 'copies': 753,\n",
              " 'your': 754,\n",
              " 'fee': 755,\n",
              " 'paragraph': 756,\n",
              " 'which': 757,\n",
              " 'provide': 758,\n",
              " 'about': 759,\n",
              " 'refund': 760,\n",
              " 'somno': 761,\n",
              " 'obra': 762,\n",
              " 'fora': 763,\n",
              " 'deixando': 764,\n",
              " 'solidão': 765,\n",
              " 'espaço': 766,\n",
              " 'supremo': 767,\n",
              " \"outr'ora\": 768,\n",
              " 'longo': 769,\n",
              " 'habitação': 770,\n",
              " 'pertencia': 771,\n",
              " 'sou': 772,\n",
              " 'abysmo': 773,\n",
              " 'attenção': 774,\n",
              " 'estes': 775,\n",
              " 'modo': 776,\n",
              " 'chegava': 777,\n",
              " 'rapidez': 778,\n",
              " 'perdido': 779,\n",
              " 'fructos': 780,\n",
              " 'immovel': 781,\n",
              " 'corda': 782,\n",
              " 'digno': 783,\n",
              " 'alva': 784,\n",
              " 'nuvens': 785,\n",
              " 'vivo': 786,\n",
              " 'póde': 787,\n",
              " 'procurar': 788,\n",
              " 'vencer': 789,\n",
              " 'castigo': 790,\n",
              " 'differentes': 791,\n",
              " 'poderosa': 792,\n",
              " 'oleo': 793,\n",
              " 'virgem': 794,\n",
              " 'esperavão': 795,\n",
              " 'forças': 796,\n",
              " 'lingua': 797,\n",
              " 'realisar': 798,\n",
              " '«a': 799,\n",
              " 'combate': 800,\n",
              " 'ataque': 801,\n",
              " 'under': 802,\n",
              " 'located': 803,\n",
              " '*': 804,\n",
              " \"d'agua\": 805,\n",
              " 'rapido': 806,\n",
              " 'florestas': 807,\n",
              " 'anno': 808,\n",
              " 'direita': 809,\n",
              " 'formava': 810,\n",
              " 'teria': 811,\n",
              " 'graciosa': 812,\n",
              " 'inteiramente': 813,\n",
              " 'historia': 814,\n",
              " 'côres': 815,\n",
              " 'santo': 816,\n",
              " 'vinte': 817,\n",
              " 'pessoas': 818,\n",
              " 'voltava': 819,\n",
              " 'ouvir': 820,\n",
              " 'diz': 821,\n",
              " 'dormia': 822,\n",
              " 'devião': 823,\n",
              " 'nisto': 824,\n",
              " 'costas': 825,\n",
              " 'campos': 826,\n",
              " 'escravo': 827,\n",
              " 'ficava': 828,\n",
              " 'parou': 829,\n",
              " 'olha': 830,\n",
              " 'sahio': 831,\n",
              " 'mil': 832,\n",
              " 'terreiro': 833,\n",
              " 'saber': 834,\n",
              " 'apresentava': 835,\n",
              " 'tocou': 836,\n",
              " 'presença': 837,\n",
              " 'gritou': 838,\n",
              " 'ir': 839,\n",
              " 'hoje': 840,\n",
              " 'intelligencia': 841,\n",
              " 'relva': 842,\n",
              " 'olhava': 843,\n",
              " 'resolveu': 844,\n",
              " 'será': 845,\n",
              " 'espanto': 846,\n",
              " 'ferro': 847,\n",
              " 'resultado': 848,\n",
              " 'nação': 849,\n",
              " 'ararê': 850,\n",
              " 'desappareceu': 851,\n",
              " 'complices': 852,\n",
              " 'manda': 853,\n",
              " 'teus': 854,\n",
              " 'salvação': 855,\n",
              " 'começava': 856,\n",
              " 'tranquillo': 857,\n",
              " 'will': 858,\n",
              " 'law': 859,\n",
              " 'distribute': 860,\n",
              " 'without': 861,\n",
              " 'section': 862,\n",
              " 'have': 863,\n",
              " 'laws': 864,\n",
              " 'information': 865,\n",
              " 'romance': 866,\n",
              " 'brazileiro': 867,\n",
              " 'braças': 868,\n",
              " 'nossas': 869,\n",
              " 'cinco': 870,\n",
              " 'entrada': 871,\n",
              " 'largo': 872,\n",
              " 'prata': 873,\n",
              " 'palha': 874,\n",
              " 'objectos': 875,\n",
              " 'frio': 876,\n",
              " 'dado': 877,\n",
              " 'primeiros': 878,\n",
              " 'circulo': 879,\n",
              " 'dez': 880,\n",
              " 'defeza': 881,\n",
              " 'riqueza': 882,\n",
              " 'fructo': 883,\n",
              " 'cavalleiros': 884,\n",
              " 'vamos': 885,\n",
              " 'contrario': 886,\n",
              " 's': 887,\n",
              " 'faz': 888,\n",
              " 'chapéo': 889,\n",
              " 'cahia': 890,\n",
              " 'querer': 891,\n",
              " 'lançando': 892,\n",
              " 'pelle': 893,\n",
              " 'raios': 894,\n",
              " 'feroz': 895,\n",
              " 'linha': 896,\n",
              " 'ligeiramente': 897,\n",
              " 'eis': 898,\n",
              " 'tranquillamente': 899,\n",
              " 'vira': 900,\n",
              " 'folha': 901,\n",
              " 'saltou': 902,\n",
              " 'violenta': 903,\n",
              " 'dedos': 904,\n",
              " 'completamente': 905,\n",
              " 'lançou': 906,\n",
              " 'pescoço': 907,\n",
              " 'sonho': 908,\n",
              " 'irmã': 909,\n",
              " 'vio': 910,\n",
              " 'gibão': 911,\n",
              " 'bocca': 912,\n",
              " 'caracter': 913,\n",
              " 'sentado': 914,\n",
              " 'christão': 915,\n",
              " 'firmeza': 916,\n",
              " 'tristeza': 917,\n",
              " 'horizonte': 918,\n",
              " 'reflexo': 919,\n",
              " 'beijo': 920,\n",
              " 'unicamente': 921,\n",
              " 'fallava': 922,\n",
              " 'sentio-se': 923,\n",
              " 'meia': 924,\n",
              " 'socego': 925,\n",
              " 'ellas': 926,\n",
              " 'guarda': 927,\n",
              " 'estendia': 928,\n",
              " 'sobretudo': 929,\n",
              " 'sentimentos': 930,\n",
              " 'tocar': 931,\n",
              " 'fitos': 932,\n",
              " 'soffrer': 933,\n",
              " 'corrente': 934,\n",
              " 'perdão': 935,\n",
              " 'puro': 936,\n",
              " 'atravessou': 937,\n",
              " 'gritos': 938,\n",
              " 'apertou': 939,\n",
              " 'valente': 940,\n",
              " 'ama': 941,\n",
              " 'achavão': 942,\n",
              " 'semelhante': 943,\n",
              " 'levantou-se': 944,\n",
              " 'caminhou': 945,\n",
              " 'ouvia': 946,\n",
              " 'promessa': 947,\n",
              " 'roberio': 948,\n",
              " 'almas': 949,\n",
              " 'dera': 950,\n",
              " 'houve': 951,\n",
              " '«pery': 952,\n",
              " 'veneno': 953,\n",
              " 'bastante': 954,\n",
              " 'settas': 955,\n",
              " 'precisava': 956,\n",
              " 'anyone': 957,\n",
              " 'most': 958,\n",
              " 'tomo': 959,\n",
              " 'prova': 960,\n",
              " 'satisfação': 961,\n",
              " 'dir-se-hia': 962,\n",
              " 'ondas': 963,\n",
              " 'pontas': 964,\n",
              " 'cidade': 965,\n",
              " 'cerca': 966,\n",
              " 'oratorio': 967,\n",
              " 'mesa': 968,\n",
              " 'sofá': 969,\n",
              " 'prestes': 970,\n",
              " 'portuguez': 971,\n",
              " 'sá': 972,\n",
              " 'expedição': 973,\n",
              " 'combater': 974,\n",
              " 'juramento': 975,\n",
              " 'esperou': 976,\n",
              " 'fé': 977,\n",
              " 'além': 978,\n",
              " 'contar': 979,\n",
              " 'punhal': 980,\n",
              " 'animaes': 981,\n",
              " 'respondeo': 982,\n",
              " 'vêr': 983,\n",
              " 'acudio': 984,\n",
              " 'deixado': 985,\n",
              " 'ameaça': 986,\n",
              " 'nenhum': 987,\n",
              " 'energia': 988,\n",
              " 'superior': 989,\n",
              " 'cintura': 990,\n",
              " 'reflexos': 991,\n",
              " 'cujo': 992,\n",
              " 'ramo': 993,\n",
              " 'galhos': 994,\n",
              " 'consciencia': 995,\n",
              " 'matta': 996,\n",
              " 'sorria': 997,\n",
              " 'caça': 998,\n",
              " 'sereno': 999,\n",
              " 'pura': 1000}"
            ]
          },
          "execution_count": 12,
          "metadata": {},
          "output_type": "execute_result"
        }
      ],
      "source": [
        "test_vocab"
      ]
    },
    {
      "cell_type": "markdown",
      "metadata": {},
      "source": [
        "### Codificando e Decodificando sentenças"
      ]
    },
    {
      "cell_type": "code",
      "execution_count": 13,
      "metadata": {},
      "outputs": [],
      "source": [
        "def encode_sentence(sentence:Union[str,List[str]], vocab:Dict) -> List[int]:\n",
        "    if isinstance(sentence, list):\n",
        "        words = sentence\n",
        "    else:\n",
        "        words = sentence.split(\" \")\n",
        "    \n",
        "    return [vocab.get(word, 0) for word in words]"
      ]
    },
    {
      "cell_type": "code",
      "execution_count": 14,
      "metadata": {},
      "outputs": [],
      "source": [
        "def decode_sentence(encoding, inverse_vocab):\n",
        "    result = []\n",
        "\n",
        "    for encoding_i in encoding:\n",
        "        if encoding_i == 0:\n",
        "            result.append(\"???\")\n",
        "        else:\n",
        "            result.append(inverse_vocab[encoding_i-1])\n",
        "\n",
        "    return result"
      ]
    },
    {
      "cell_type": "markdown",
      "metadata": {
        "id": "wia_ygbvzJ_J"
      },
      "source": [
        "## Classe do dataset"
      ]
    },
    {
      "cell_type": "code",
      "execution_count": 15,
      "metadata": {},
      "outputs": [],
      "source": [
        "def create_sequences(texts:List[str], context_size:int, \n",
        "                     vocab:Dict) -> Tuple[List[List[int]], List[int]]:\n",
        "\n",
        "\n",
        "    x_all = []\n",
        "    y_all = []\n",
        "\n",
        "    for paragraph in texts:\n",
        "        start = 0\n",
        "        end = context_size\n",
        "\n",
        "        paragraph = encode_sentence(paragraph, vocab)\n",
        "\n",
        "        while end < len(paragraph):\n",
        "            x = paragraph[start:end]\n",
        "            y = paragraph[end]\n",
        "\n",
        "            if not ( 0 in x or 0 == y):\n",
        "                x_all.append(x)\n",
        "                y_all.append(y)\n",
        "\n",
        "            start += 1\n",
        "            end += 1\n",
        "            \n",
        "    x_all = np.array(x_all)\n",
        "    y_all = np.array(y_all)\n",
        "\n",
        "    return x_all, y_all"
      ]
    },
    {
      "cell_type": "code",
      "execution_count": 16,
      "metadata": {},
      "outputs": [],
      "source": [
        "test_context_size = 10\n",
        "\n",
        "test_x_all, test_y_all = create_sequences(cleaned_paragraphs, test_context_size, test_vocab)"
      ]
    },
    {
      "cell_type": "code",
      "execution_count": 17,
      "metadata": {},
      "outputs": [],
      "source": [
        "assert len(test_x_all) == len(test_y_all)"
      ]
    },
    {
      "cell_type": "code",
      "execution_count": 18,
      "metadata": {
        "id": "gC0C5qn2zJ_J"
      },
      "outputs": [],
      "source": [
        "#Embaralhando para evitar viés\n",
        "\n",
        "def shuffle_dataset(x:List, y:List) -> Tuple[List, List]:\n",
        "\n",
        "    indexes = list(range(len(x)))\n",
        "    random.shuffle(indexes)\n",
        "\n",
        "    x = x[indexes]\n",
        "    y = y[indexes]\n",
        "\n",
        "    return x, y"
      ]
    },
    {
      "cell_type": "code",
      "execution_count": 19,
      "metadata": {},
      "outputs": [],
      "source": [
        "def separate_dataset(x_all:List, y_all:List) -> Tuple[Tuple[List, List], Tuple[List, List], Tuple[List, List]]:\n",
        "    size_all = len(x_all)\n",
        "\n",
        "    cut1 = int(0.6*size_all)\n",
        "    cut2 = int(0.8*size_all)\n",
        "\n",
        "    x_train = x_all[0:cut1]\n",
        "    y_train = y_all[0:cut1]\n",
        "\n",
        "    x_val = x_all[cut1:cut2]\n",
        "    y_val = y_all[cut1:cut2]\n",
        "\n",
        "    x_test = x_all[cut2:]\n",
        "    y_test = y_all[cut2:]\n",
        "\n",
        "    return (x_train, y_train), (x_val, y_val), (x_test, y_test)"
      ]
    },
    {
      "cell_type": "code",
      "execution_count": 20,
      "metadata": {},
      "outputs": [],
      "source": [
        "(test_x_train, test_y_train), (test_x_val, test_y_val), (test_x_test, test_y_test) = separate_dataset(test_x_all, test_y_all)"
      ]
    },
    {
      "cell_type": "code",
      "execution_count": 21,
      "metadata": {},
      "outputs": [],
      "source": [
        "assert len(test_x_train)+len(test_x_val)+len(test_x_test) == len(test_x_all)"
      ]
    },
    {
      "cell_type": "code",
      "execution_count": 22,
      "metadata": {},
      "outputs": [],
      "source": [
        "class TextPredictDataset(Dataset):\n",
        "    def __init__(self, x_data:List[int], y_data:List[int]):\n",
        "        self._x_data = torch.tensor(x_data)-1\n",
        "        self._y_data = torch.tensor(y_data, dtype=torch.int64)-1\n",
        "        \n",
        "        if len(x_data) != len(y_data):\n",
        "            raise ValueError(f\"x_data and y_data must have same size. ({len(x_data)} ≠ {len(y_data)})\")\n",
        "        \n",
        "        self._size = len(x_data)\n",
        "\n",
        "    def __len__(self):\n",
        "        return self._size\n",
        "\n",
        "    def __getitem__(self, idx):\n",
        "        return self._x_data[idx], self._y_data[idx]\n"
      ]
    },
    {
      "cell_type": "code",
      "execution_count": 23,
      "metadata": {},
      "outputs": [],
      "source": [
        "test_train_dataset = TextPredictDataset(test_x_train, test_y_train)"
      ]
    },
    {
      "cell_type": "code",
      "execution_count": 24,
      "metadata": {},
      "outputs": [],
      "source": [
        "assert_array_equal(test_train_dataset[0][0].shape, [test_context_size])\n",
        "assert_array_equal(test_train_dataset[0][1].shape, [])"
      ]
    },
    {
      "cell_type": "code",
      "execution_count": 25,
      "metadata": {},
      "outputs": [],
      "source": [
        "test_batch_size = 5"
      ]
    },
    {
      "cell_type": "code",
      "execution_count": 26,
      "metadata": {},
      "outputs": [],
      "source": [
        "test_train_loader = DataLoader(test_train_dataset, batch_size=test_batch_size, shuffle=True)"
      ]
    },
    {
      "cell_type": "code",
      "execution_count": 27,
      "metadata": {},
      "outputs": [],
      "source": [
        "test_data = next(iter(test_train_loader))"
      ]
    },
    {
      "cell_type": "code",
      "execution_count": 28,
      "metadata": {},
      "outputs": [],
      "source": [
        "assert_array_equal(test_data[0].shape, [test_batch_size, test_context_size])\n",
        "assert_array_equal(test_data[1].shape, [test_batch_size])"
      ]
    },
    {
      "cell_type": "markdown",
      "metadata": {},
      "source": [
        "## Juntando tudo"
      ]
    },
    {
      "cell_type": "code",
      "execution_count": 29,
      "metadata": {},
      "outputs": [],
      "source": [
        "def create_data_loaders(texts:List[str], vocab_size:int, context_size:int, batch_size:int) -> Tuple[Dict, List, DataLoader, DataLoader, DataLoader]:\n",
        "    word_counts = count_words(texts)\n",
        "    vocab, inverse_vocab = create_vocab(word_counts, vocab_size)\n",
        "\n",
        "    x_all, y_all = create_sequences(texts, context_size, vocab)\n",
        "    \n",
        "    x_all, y_all = shuffle_dataset(x_all, y_all)\n",
        "\n",
        "    (x_train, y_train), (x_val, y_val), (x_test, y_test) = separate_dataset(x_all, y_all)\n",
        "\n",
        "    train_dataset = TextPredictDataset(x_train, y_train)\n",
        "    val_dataset = TextPredictDataset(x_val, y_val)\n",
        "    test_dataset = TextPredictDataset(x_test, y_test)\n",
        "\n",
        "    train_loader = DataLoader(train_dataset, batch_size=batch_size, shuffle=True)\n",
        "    val_loader = DataLoader(val_dataset, batch_size=batch_size, shuffle=True)\n",
        "    test_loader = DataLoader(test_dataset, batch_size=batch_size, shuffle=True)\n",
        "\n",
        "    return vocab, inverse_vocab, train_loader, val_loader, test_loader"
      ]
    },
    {
      "cell_type": "markdown",
      "metadata": {
        "id": "-5_-Yud0zJ_K"
      },
      "source": [
        "## Model"
      ]
    },
    {
      "cell_type": "markdown",
      "metadata": {},
      "source": [
        "### Attention"
      ]
    },
    {
      "cell_type": "code",
      "execution_count": 30,
      "metadata": {},
      "outputs": [],
      "source": [
        "class SingleHeadAttentionBase(torch.nn.Module, abc.ABC):\n",
        "    def __init__(self, embed_dim:int) -> None:\n",
        "        super().__init__()\n",
        "        \n",
        "        #d_model = dv = dk = embed_dim\n",
        "        #h = 1\n",
        "\n",
        "        wQ = torch.Tensor(embed_dim, embed_dim) #embed, embed\n",
        "        wK = torch.Tensor(embed_dim, embed_dim) #embed, dk\n",
        "        wV = torch.Tensor(embed_dim, embed_dim) #embed, dv\n",
        "        w0 = torch.Tensor(embed_dim, embed_dim) #embed, embed\n",
        "\n",
        "        self.wQ = torch.nn.Parameter(wQ)\n",
        "        self.wK = torch.nn.Parameter(wK)\n",
        "        self.wV = torch.nn.Parameter(wV)\n",
        "        self.w0 = torch.nn.Parameter(w0)\n",
        "\n",
        "        self.register_buffer(\"dk_root\", torch.sqrt(torch.tensor(embed_dim, dtype=torch.float32)))\n",
        "\n",
        "        for w in [self.wQ, self.wK, self.wV, self.w0]:\n",
        "            torch.nn.init.xavier_uniform_(w)\n",
        "    \n",
        "    @abc.abstractmethod\n",
        "    def forward(self, query:torch.Tensor, key:torch.Tensor, value:torch.Tensor) -> torch.Tensor:\n",
        "        ...\n",
        "        "
      ]
    },
    {
      "cell_type": "code",
      "execution_count": 31,
      "metadata": {},
      "outputs": [],
      "source": [
        "class SingleHeadAttention(SingleHeadAttentionBase):\n",
        "\n",
        "    def __init__(self, embed_dim: int) -> None:\n",
        "        super().__init__(embed_dim)\n",
        "\n",
        "    def forward(self, query:torch.Tensor, key:torch.Tensor, value:torch.Tensor) -> torch.Tensor:        \n",
        "        #Transpose weights because PyTorch does that\n",
        "        Q = query @ self.wQ.T\n",
        "        K = key @ self.wK.T\n",
        "        V = value @ self.wV.T\n",
        "\n",
        "        scores = Q @ K.permute(0,2,1)\n",
        "        scores /= self.dk_root\n",
        "        probs = torch.softmax(scores, dim=-1)\n",
        "        E = probs @ V\n",
        "\n",
        "        result = E @ self.w0.T \n",
        "\n",
        "        return result\n"
      ]
    },
    {
      "cell_type": "code",
      "execution_count": 32,
      "metadata": {},
      "outputs": [],
      "source": [
        "class SingleHeadAttentionLoop(SingleHeadAttentionBase):\n",
        "    def __init__(self, embed_dim: int) -> None:\n",
        "        super().__init__(embed_dim)\n",
        "\n",
        "\n",
        "    def forward(self, query:torch.Tensor, key:torch.Tensor, value:torch.Tensor) -> torch.Tensor:\n",
        "        batch_size = query.shape[0]\n",
        "        sequence_size = query.shape[1]\n",
        "        \n",
        "        result = torch.empty_like(query)\n",
        "        scores = torch.empty(sequence_size, device=query.device)\n",
        "\n",
        "        for batch_index in range(batch_size):\n",
        "            for word_index in range(sequence_size):\n",
        "                xq = query[batch_index, word_index]\n",
        "                q = xq @ self.wQ.T\n",
        "                \n",
        "                for key_index in range(sequence_size):\n",
        "                    xk = key[batch_index][key_index]\n",
        "                    k = xk @ self.wK.T\n",
        "                    score = q @ k.T\n",
        "                    scores[key_index] = score\n",
        "                \n",
        "                scores /= self.dk_root\n",
        "                probs = torch.softmax(scores, dim=-1)\n",
        "\n",
        "                e = 0\n",
        "                for xv, p in zip(value[batch_index], probs):\n",
        "                    v = xv @ self.wV.T\n",
        "                    e += p*v\n",
        "                \n",
        "                e = e @ self.w0.T\n",
        "\n",
        "                result[batch_index, word_index] = e\n",
        "\n",
        "        return result\n",
        "            "
      ]
    },
    {
      "cell_type": "code",
      "execution_count": 33,
      "metadata": {},
      "outputs": [],
      "source": [
        "test_embed_dim = 5\n",
        "matrix_version = SingleHeadAttention(test_embed_dim).eval()\n",
        "loop_version = SingleHeadAttentionLoop(test_embed_dim).eval()\n",
        "torch_version = torch.nn.MultiheadAttention(test_embed_dim, num_heads=1, bias=False, batch_first=True).eval()"
      ]
    },
    {
      "cell_type": "code",
      "execution_count": 34,
      "metadata": {},
      "outputs": [],
      "source": [
        "wQ = matrix_version.wQ\n",
        "wK = matrix_version.wK\n",
        "wV = matrix_version.wV\n",
        "w0 = matrix_version.w0\n",
        "\n",
        "loop_version.wQ = wQ\n",
        "loop_version.wK = wK\n",
        "loop_version.wV = wV\n",
        "loop_version.w0 = w0\n",
        "\n",
        "torch_version.in_proj_weight = torch.nn.Parameter(torch.concat((wQ, wK, wV)))\n",
        "torch_version.out_proj.weight = w0"
      ]
    },
    {
      "cell_type": "code",
      "execution_count": 35,
      "metadata": {},
      "outputs": [],
      "source": [
        "test_data = torch.rand(2, 3, test_embed_dim) #2 batchs, sequences of 3 words, embed_dim"
      ]
    },
    {
      "cell_type": "code",
      "execution_count": 36,
      "metadata": {},
      "outputs": [
        {
          "name": "stderr",
          "output_type": "stream",
          "text": [
            "C:\\Users\\Elton\\AppData\\Local\\Temp\\ipykernel_30444\\2878972573.py:21: UserWarning: The use of `x.T` on tensors of dimension other than 2 to reverse their shape is deprecated and it will throw an error in a future release. Consider `x.mT` to transpose batches of matrices or `x.permute(*torch.arange(x.ndim - 1, -1, -1))` to reverse the dimensions of a tensor. (Triggered internally at ..\\aten\\src\\ATen\\native\\TensorShape.cpp:3641.)\n",
            "  score = q @ k.T\n"
          ]
        }
      ],
      "source": [
        "result_matrix = matrix_version(test_data, test_data, test_data)\n",
        "result_loop = loop_version(test_data, test_data, test_data)\n",
        "result_torch, _ = torch_version(test_data, test_data, test_data, need_weights=False)\n",
        "\n",
        "result_matrix = result_matrix.detach()\n",
        "result_loop = result_loop.detach()\n",
        "result_torch = result_torch.detach()"
      ]
    },
    {
      "cell_type": "code",
      "execution_count": 37,
      "metadata": {},
      "outputs": [],
      "source": [
        "assert result_matrix.shape == result_torch.shape\n",
        "assert result_loop.shape == result_torch.shape\n",
        "\n",
        "assert_array_almost_equal(result_matrix, result_torch, decimal=5)\n",
        "assert_array_almost_equal(result_matrix, result_loop)"
      ]
    },
    {
      "cell_type": "code",
      "execution_count": 38,
      "metadata": {},
      "outputs": [],
      "source": [
        "#%timeit matrix_version(test_data, test_data, test_data)\n",
        "#%timeit loop_version(test_data, test_data, test_data)\n",
        "#%timeit torch_version(test_data, test_data, test_data, need_weights=False)"
      ]
    },
    {
      "cell_type": "markdown",
      "metadata": {},
      "source": [
        "Matrix: 112 µs ± 1.77 µs per loop (mean ± std. dev. of 7 runs, 10,000 loops each)\\\n",
        "Loop: 1.79 ms ± 15.1 µs per loop (mean ± std. dev. of 7 runs, 1,000 loops each)\\\n",
        "Torch: 218 µs ± 4.81 µs per loop (mean ± std. dev. of 7 runs, 10,000 loops each)"
      ]
    },
    {
      "cell_type": "markdown",
      "metadata": {},
      "source": [
        "### Positional Encoding"
      ]
    },
    {
      "cell_type": "code",
      "execution_count": 39,
      "metadata": {},
      "outputs": [],
      "source": [
        "class SinePositionalEncoding(torch.nn.Module):\n",
        "    def __init__(self, embed_dim:int, sequence_size:int) -> None:\n",
        "        super().__init__()\n",
        "\n",
        "        position = torch.arange(sequence_size, dtype=torch.float32)\n",
        "        expoent = 2.0*torch.arange(embed_dim, dtype=torch.float32)/embed_dim\n",
        "\n",
        "        pe = torch.empty((sequence_size, embed_dim))\n",
        "\n",
        "        pe.T[:] = position\n",
        "        pe /= torch.pow(1e4, expoent)\n",
        "\n",
        "        pe[:, 0::2] = torch.sin(pe[:, 0::2])\n",
        "        pe[:, 1::2] = torch.cos(pe[:, 1::2])\n",
        "\n",
        "        self.register_buffer(\"pe\", pe)\n",
        "\n",
        "    def forward(self, input_tensor:torch.Tensor) -> torch.Tensor:\n",
        "        output = input_tensor + self.pe\n",
        "\n",
        "        return output\n",
        "        "
      ]
    },
    {
      "cell_type": "code",
      "execution_count": 40,
      "metadata": {},
      "outputs": [],
      "source": [
        "test_embed_dim = 5\n",
        "test_sequence_size = 3\n",
        "\n",
        "test_data = torch.zeros(2, test_sequence_size, test_embed_dim) #2 batchs, sequences of 3 words, embed_dim\n",
        "\n",
        "positional_encoding = SinePositionalEncoding(test_embed_dim, test_sequence_size)\n",
        "\n",
        "result = positional_encoding(test_data)\n",
        "\n",
        "assert_array_equal(result[0], result[1]) #Correct operation across batchs\n",
        "assert_array_not_equal(result[0, 0], result[0, 1]) #Different positions -> Different encodings\n",
        "assert_array_not_equal(result[0,:,0], result[0,:,1]) #Different dimensions -> Different encodings\n",
        "assert len(list(positional_encoding.parameters())) == 0 #No trainable parameters"
      ]
    },
    {
      "cell_type": "markdown",
      "metadata": {},
      "source": [
        "### Embedding"
      ]
    },
    {
      "cell_type": "code",
      "execution_count": 41,
      "metadata": {},
      "outputs": [],
      "source": [
        "class Embedding(torch.nn.Module):\n",
        "    def __init__(self, embed_dim:int, vocab_size:int) -> None:\n",
        "        super().__init__()\n",
        "\n",
        "        C = torch.Tensor(vocab_size, embed_dim)\n",
        "        nn.init.xavier_uniform_(C)\n",
        "        self.C = torch.nn.Parameter(C)\n",
        "\n",
        "    def forward(self, input_tensor:torch.Tensor) -> torch.Tensor:\n",
        "        #OBS: I checked, \"index_select\" doesn't work with batchs, \"index\" (third parameter) must be 1-D\n",
        "        result = torch.stack([torch.index_select(self.C, 0, input_i) for input_i in input_tensor])\n",
        "        \n",
        "        return result"
      ]
    },
    {
      "cell_type": "code",
      "execution_count": 42,
      "metadata": {},
      "outputs": [],
      "source": [
        "test_embed_dim = 2\n",
        "test_vocab_size = 3\n",
        "test_sequence_size = test_vocab_size\n",
        "\n",
        "test_data = torch.empty((2, test_sequence_size), dtype=int)\n",
        "test_data[:] = torch.arange(test_vocab_size)\n",
        "\n",
        "embedding = Embedding(test_embed_dim, test_vocab_size)\n",
        "\n",
        "result = embedding(test_data)\n",
        "result = result.detach()\n",
        "\n",
        "C = embedding.C.detach()\n",
        "\n",
        "assert_array_equal(C.shape, [test_vocab_size, test_embed_dim]) #C matrix have correct shape\n",
        "assert_array_equal(result.shape, [2, test_sequence_size, test_embed_dim])\n",
        "assert_array_equal(result[0], result[1]) #Correct operation across batchs\n",
        "assert_array_equal(result[0, 0], C[0]) #First result = embedding of first word"
      ]
    },
    {
      "cell_type": "markdown",
      "metadata": {},
      "source": [
        "### Model"
      ]
    },
    {
      "cell_type": "code",
      "execution_count": 43,
      "metadata": {
        "id": "I2qKG9YczJ_K"
      },
      "outputs": [],
      "source": [
        "class LanguageModel(torch.nn.Module):\n",
        "    def __init__(self, embed_dim:int, vocab_size:int, sequence_size:int, droput_rate:float=0.0) -> None:\n",
        "        super().__init__()\n",
        "\n",
        "        self.embedding = Embedding(embed_dim, vocab_size)\n",
        "\n",
        "        self.positional_encoding = SinePositionalEncoding(embed_dim, sequence_size)\n",
        "        self.dropout_encoding = torch.nn.Dropout(droput_rate)\n",
        "\n",
        "        self.attention = SingleHeadAttention(embed_dim)\n",
        "        self.dropout_attention = torch.nn.Dropout(droput_rate)\n",
        "\n",
        "        self.linear1 = torch.nn.Linear(embed_dim, 4*embed_dim)\n",
        "        self.dropout_linear1 = torch.nn.Dropout(droput_rate)\n",
        "        self.relu = torch.nn.ReLU()\n",
        "        self.linear2 = torch.nn.Linear(4*embed_dim, embed_dim)\n",
        "        self.dropout_linear2 = torch.nn.Dropout(droput_rate)\n",
        "\n",
        "        self.linear_out = torch.nn.Linear(sequence_size*embed_dim, vocab_size)\n",
        "\n",
        "    def forward(self, x:torch.Tensor) -> torch.Tensor:\n",
        "        y = self.embedding(x)\n",
        "        y = self.dropout_encoding(self.positional_encoding(y))\n",
        "        y = self.dropout_attention(self.attention(y, y, y))\n",
        "\n",
        "        y = self.dropout_linear1(self.linear1(y))\n",
        "        y = self.dropout_linear2(self.linear2(y))\n",
        "\n",
        "        #Linears inside encoders(above): equal for every position (Attention is all you need)\n",
        "        #Linear for output: use the entery sequence -> Flatten\n",
        "        y = y.flatten(start_dim=1)\n",
        "        \n",
        "        y = self.linear_out(y)\n",
        "\n",
        "        return y"
      ]
    },
    {
      "cell_type": "markdown",
      "metadata": {},
      "source": [
        "#### Model test"
      ]
    },
    {
      "cell_type": "code",
      "execution_count": 44,
      "metadata": {
        "id": "7yjQ1KXOzJ_K"
      },
      "outputs": [],
      "source": [
        "test_batch_size = 5\n",
        "test_embed_dim = 2\n",
        "test_vocab_size = 3\n",
        "test_sequence_size = test_vocab_size\n",
        "\n",
        "test_model = LanguageModel(test_embed_dim, test_vocab_size, test_sequence_size)"
      ]
    },
    {
      "cell_type": "code",
      "execution_count": 45,
      "metadata": {
        "id": "xmsD59TfzJ_K"
      },
      "outputs": [],
      "source": [
        "test_data = torch.empty((test_batch_size, test_sequence_size), dtype=int)\n",
        "test_data[:] = torch.arange(test_sequence_size)\n",
        "\n",
        "inputs = test_data\n",
        "targets = test_vocab_size*torch.rand(test_batch_size).long()\n",
        "\n",
        "output = test_model(inputs)\n",
        "result = output.argmax(dim=1)\n",
        "\n",
        "assert_array_equal(output.shape, [test_batch_size, test_vocab_size])\n",
        "assert_array_equal(result.shape, targets.shape)"
      ]
    },
    {
      "cell_type": "markdown",
      "metadata": {},
      "source": [
        "#### Train test"
      ]
    },
    {
      "cell_type": "code",
      "execution_count": 46,
      "metadata": {},
      "outputs": [],
      "source": [
        "old_C = test_model.embedding.C.detach().numpy().copy()\n",
        "old_wQ = test_model.attention.wQ.detach().numpy().copy()\n",
        "old_wK = test_model.attention.wK.detach().numpy().copy()\n",
        "old_wV = test_model.attention.wV.detach().numpy().copy()\n",
        "old_w0 = test_model.attention.w0.detach().numpy().copy()\n",
        "\n",
        "\n",
        "criterion = nn.CrossEntropyLoss()\n",
        "optimizer = torch.optim.AdamW(test_model.parameters(), lr=100)\n",
        "\n",
        "test_model.train()\n",
        "\n",
        "logits = test_model(inputs)\n",
        "loss = criterion(logits.squeeze(), targets)\n",
        "optimizer.zero_grad()\n",
        "loss.backward()\n",
        "optimizer.step()\n",
        "\n",
        "new_C = test_model.embedding.C.detach().numpy()\n",
        "new_wQ = test_model.attention.wQ.detach().numpy()\n",
        "new_wK = test_model.attention.wK.detach().numpy()\n",
        "new_wV = test_model.attention.wV.detach().numpy()\n",
        "new_w0 = test_model.attention.w0.detach().numpy()\n",
        "\n",
        "assert_array_not_equal(old_C, new_C)\n",
        "assert_array_not_equal(old_wQ, new_wQ) \n",
        "assert_array_not_equal(old_wK, new_wK)\n",
        "assert_array_not_equal(old_wV, new_wV)\n",
        "assert_array_not_equal(old_w0, new_w0)"
      ]
    },
    {
      "cell_type": "markdown",
      "metadata": {
        "id": "UngUhyu7zJ_L"
      },
      "source": [
        "## Training"
      ]
    },
    {
      "cell_type": "code",
      "execution_count": 47,
      "metadata": {
        "colab": {
          "base_uri": "https://localhost:8080/"
        },
        "id": "wntaV50nzJ_L",
        "outputId": "a054092b-d801-4c60-eb75-85abfe57151d"
      },
      "outputs": [
        {
          "data": {
            "text/plain": [
              "device(type='cpu')"
            ]
          },
          "execution_count": 47,
          "metadata": {},
          "output_type": "execute_result"
        }
      ],
      "source": [
        "# Verifica se há uma GPU disponível e define o dispositivo para GPU se possível, caso contrário, usa a CPU\n",
        "device = torch.device('cuda' if torch.cuda.is_available() else 'cpu')\n",
        "device"
      ]
    },
    {
      "cell_type": "markdown",
      "metadata": {},
      "source": [
        "### Helper functions"
      ]
    },
    {
      "cell_type": "code",
      "execution_count": 48,
      "metadata": {},
      "outputs": [],
      "source": [
        "def ppl(loss:torch.Tensor) -> torch.Tensor:\n",
        "    return torch.exp(loss)"
      ]
    },
    {
      "cell_type": "code",
      "execution_count": 49,
      "metadata": {},
      "outputs": [],
      "source": [
        "def compute_loss(model:torch.nn.Module, loader:DataLoader, criterion:torch.nn.Module) -> torch.Tensor:\n",
        "    model.eval()\n",
        "\n",
        "    with torch.no_grad():\n",
        "        total_loss = 0\n",
        "        n = 0\n",
        "        for inputs, targets in loader:\n",
        "            inputs = inputs.to(device)\n",
        "            targets = targets.to(device)\n",
        "            logits = model(inputs)\n",
        "            loss = criterion(logits.squeeze(), targets)\n",
        "            total_loss += loss*targets.size(0)\n",
        "\n",
        "            n += targets.size(0)\n",
        "\n",
        "        total_loss /= n \n",
        "    \n",
        "    return total_loss.detach()"
      ]
    },
    {
      "cell_type": "code",
      "execution_count": 50,
      "metadata": {},
      "outputs": [],
      "source": [
        "def print_info(loss_value:torch.Tensor, epoch:int, total_epochs:int, time:float=0.0):\n",
        "    ppl_value = ppl(loss_value)\n",
        "\n",
        "    \n",
        "    print(f'Epoch [{epoch+1}/{total_epochs}], \\\n",
        "            Loss: {loss_value.item():.4f}, \\\n",
        "            Perplexity: {ppl_value.item():.4f}', end=\"\")\n",
        "    \n",
        "    if time != 0:\n",
        "        print(f\", Elapsed Time: {time:.2f} sec\")    \n",
        "    else:\n",
        "        print(\"\")"
      ]
    },
    {
      "cell_type": "markdown",
      "metadata": {},
      "source": [
        "### Train"
      ]
    },
    {
      "cell_type": "code",
      "execution_count": 51,
      "metadata": {},
      "outputs": [
        {
          "ename": "ValueError",
          "evalue": "",
          "output_type": "error",
          "traceback": [
            "\u001b[1;31m---------------------------------------------------------------------------\u001b[0m",
            "\u001b[1;31mValueError\u001b[0m                                Traceback (most recent call last)",
            "Cell \u001b[1;32mIn[51], line 1\u001b[0m\n\u001b[1;32m----> 1\u001b[0m \u001b[38;5;28;01mraise\u001b[39;00m \u001b[38;5;167;01mValueError\u001b[39;00m\n",
            "\u001b[1;31mValueError\u001b[0m: "
          ]
        }
      ],
      "source": [
        "raise ValueError"
      ]
    },
    {
      "cell_type": "code",
      "execution_count": 117,
      "metadata": {},
      "outputs": [],
      "source": [
        "vocab_size = 3000 # Quantidade de palavras no vocabulário\n",
        "context_size = 5 # n palavras de entrada. O target é a próxima palavra\n",
        "embed_dim = 64 # Tamanho do feature vector de cada palavra\n",
        "epochs = 10 # Quantidade de epochs que serão treinadas\n",
        "lr = 5e-3 # Taxa de treinamento\n",
        "weight_decay = 1e-3 # Regularização L2\n",
        "batch_size = 32\n",
        "optimizer_class = torch.optim.SGD\n",
        "dropout_rate = 0.1"
      ]
    },
    {
      "cell_type": "code",
      "execution_count": 118,
      "metadata": {},
      "outputs": [],
      "source": [
        "reset_seeds()"
      ]
    },
    {
      "cell_type": "code",
      "execution_count": 119,
      "metadata": {},
      "outputs": [],
      "source": [
        "vocab, inverse_vocab, train_loader, val_loader, test_loader = create_data_loaders(cleaned_paragraphs, vocab_size, context_size, batch_size)\n",
        "\n",
        "model = LanguageModel(embed_dim, vocab_size, context_size, dropout_rate)\n",
        "model.to(device)\n",
        "\n",
        "criterion = nn.CrossEntropyLoss()\n",
        "optimizer = optimizer_class(model.parameters(), lr=lr, weight_decay=weight_decay)"
      ]
    },
    {
      "cell_type": "code",
      "execution_count": 120,
      "metadata": {},
      "outputs": [
        {
          "data": {
            "text/plain": [
              "<torch.autograd.anomaly_mode.set_detect_anomaly at 0x1c54c385810>"
            ]
          },
          "execution_count": 120,
          "metadata": {},
          "output_type": "execute_result"
        }
      ],
      "source": [
        "torch.autograd.set_detect_anomaly(False)"
      ]
    },
    {
      "cell_type": "code",
      "execution_count": 121,
      "metadata": {},
      "outputs": [
        {
          "data": {
            "text/html": [
              "Tracking run with wandb version 0.16.4"
            ],
            "text/plain": [
              "<IPython.core.display.HTML object>"
            ]
          },
          "metadata": {},
          "output_type": "display_data"
        },
        {
          "data": {
            "text/html": [
              "Run data is saved locally in <code>c:\\Users\\Elton\\Documents\\GitHub\\IA024\\03-AutoAtenção\\wandb\\run-20240318_155531-inweqihj</code>"
            ],
            "text/plain": [
              "<IPython.core.display.HTML object>"
            ]
          },
          "metadata": {},
          "output_type": "display_data"
        },
        {
          "data": {
            "text/html": [
              "Syncing run <strong><a href='https://wandb.ai/eltoncn/IA024-03-Attention/runs/inweqihj' target=\"_blank\">different-aardvark-5</a></strong> to <a href='https://wandb.ai/eltoncn/IA024-03-Attention' target=\"_blank\">Weights & Biases</a> (<a href='https://wandb.me/run' target=\"_blank\">docs</a>)<br/>"
            ],
            "text/plain": [
              "<IPython.core.display.HTML object>"
            ]
          },
          "metadata": {},
          "output_type": "display_data"
        },
        {
          "data": {
            "text/html": [
              " View project at <a href='https://wandb.ai/eltoncn/IA024-03-Attention' target=\"_blank\">https://wandb.ai/eltoncn/IA024-03-Attention</a>"
            ],
            "text/plain": [
              "<IPython.core.display.HTML object>"
            ]
          },
          "metadata": {},
          "output_type": "display_data"
        },
        {
          "data": {
            "text/html": [
              " View run at <a href='https://wandb.ai/eltoncn/IA024-03-Attention/runs/inweqihj' target=\"_blank\">https://wandb.ai/eltoncn/IA024-03-Attention/runs/inweqihj</a>"
            ],
            "text/plain": [
              "<IPython.core.display.HTML object>"
            ]
          },
          "metadata": {},
          "output_type": "display_data"
        },
        {
          "data": {
            "text/html": [
              "<button onClick=\"this.nextSibling.style.display='block';this.style.display='none';\">Display W&B run</button><iframe src='https://wandb.ai/eltoncn/IA024-03-Attention/runs/inweqihj?jupyter=true' style='border:none;width:100%;height:420px;display:none;'></iframe>"
            ],
            "text/plain": [
              "<wandb.sdk.wandb_run.Run at 0x1c55c1bf1d0>"
            ]
          },
          "execution_count": 121,
          "metadata": {},
          "output_type": "execute_result"
        }
      ],
      "source": [
        "config = {\n",
        "    \"vocab_size\": vocab_size,\n",
        "    \"context_size\": context_size,\n",
        "    \"embed_dim\": embed_dim,\n",
        "    \"epochs\": epochs,\n",
        "    \"lr\": lr,\n",
        "    \"weight_decay\": weight_decay,\n",
        "    \"batch_size\": batch_size,\n",
        "    \"optimizer_class\": optimizer_class.__name__,\n",
        "    \"dropout_rate\": dropout_rate\n",
        "}\n",
        "\n",
        "wandb.init(project=\"IA024-03-Attention\", config=config)"
      ]
    },
    {
      "cell_type": "code",
      "execution_count": 122,
      "metadata": {},
      "outputs": [
        {
          "name": "stdout",
          "output_type": "stream",
          "text": [
            "Epoch [0/10],             Loss: 8.0055,             Perplexity: 2997.3779\n",
            "Epoch [1/10],             Loss: 6.7056,             Perplexity: 816.9948, Elapsed Time: 9.41 sec\n",
            "VAL Epoch [1/10],             Loss: 6.2391,             Perplexity: 512.4013\n",
            "Epoch [2/10],             Loss: 6.2073,             Perplexity: 496.3745, Elapsed Time: 7.37 sec\n",
            "VAL Epoch [2/10],             Loss: 6.1460,             Perplexity: 466.8596\n",
            "Epoch [3/10],             Loss: 6.1370,             Perplexity: 462.6624, Elapsed Time: 7.45 sec\n",
            "VAL Epoch [3/10],             Loss: 6.1223,             Perplexity: 455.9274\n",
            "Epoch [4/10],             Loss: 6.1100,             Perplexity: 450.3461, Elapsed Time: 7.54 sec\n",
            "VAL Epoch [4/10],             Loss: 6.1108,             Perplexity: 450.7205\n",
            "Epoch [5/10],             Loss: 6.0914,             Perplexity: 442.0302, Elapsed Time: 7.45 sec\n",
            "VAL Epoch [5/10],             Loss: 6.1045,             Perplexity: 447.8880\n",
            "Epoch [6/10],             Loss: 6.0839,             Perplexity: 438.7361, Elapsed Time: 7.61 sec\n",
            "VAL Epoch [6/10],             Loss: 6.1009,             Perplexity: 446.2797\n",
            "Epoch [7/10],             Loss: 6.0691,             Perplexity: 432.3075, Elapsed Time: 8.30 sec\n",
            "VAL Epoch [7/10],             Loss: 6.1098,             Perplexity: 450.2284\n",
            "Epoch [8/10],             Loss: 6.0678,             Perplexity: 431.7366, Elapsed Time: 9.52 sec\n",
            "VAL Epoch [8/10],             Loss: 6.0945,             Perplexity: 443.4064\n",
            "Epoch [9/10],             Loss: 6.0585,             Perplexity: 427.7227, Elapsed Time: 8.29 sec\n",
            "VAL Epoch [9/10],             Loss: 6.1002,             Perplexity: 445.9577\n",
            "Epoch [10/10],             Loss: 6.0585,             Perplexity: 427.7357, Elapsed Time: 9.09 sec\n",
            "VAL Epoch [10/10],             Loss: 6.0963,             Perplexity: 444.1945\n"
          ]
        },
        {
          "data": {
            "text/html": [
              "<style>\n",
              "    table.wandb td:nth-child(1) { padding: 0 10px; text-align: left ; width: auto;} td:nth-child(2) {text-align: left ; width: 100%}\n",
              "    .wandb-row { display: flex; flex-direction: row; flex-wrap: wrap; justify-content: flex-start; width: 100% }\n",
              "    .wandb-col { display: flex; flex-direction: column; flex-basis: 100%; flex: 1; padding: 10px; }\n",
              "    </style>\n",
              "<div class=\"wandb-row\"><div class=\"wandb-col\"><h3>Run history:</h3><br/><table class=\"wandb\"><tr><td>loss_train</td><td>█▃▂▂▁▁▁▁▁▁</td></tr><tr><td>loss_val</td><td>█▃▂▂▁▁▂▁▁▁</td></tr><tr><td>ppl_train</td><td>█▂▂▁▁▁▁▁▁▁</td></tr><tr><td>ppl_val</td><td>█▃▂▂▁▁▂▁▁▁</td></tr></table><br/></div><div class=\"wandb-col\"><h3>Run summary:</h3><br/><table class=\"wandb\"><tr><td>loss_train</td><td>6.05851</td></tr><tr><td>loss_val</td><td>6.09626</td></tr><tr><td>ppl_train</td><td>427.73572</td></tr><tr><td>ppl_val</td><td>444.19446</td></tr></table><br/></div></div>"
            ],
            "text/plain": [
              "<IPython.core.display.HTML object>"
            ]
          },
          "metadata": {},
          "output_type": "display_data"
        },
        {
          "data": {
            "text/html": [
              " View run <strong style=\"color:#cdcd00\">different-aardvark-5</strong> at: <a href='https://wandb.ai/eltoncn/IA024-03-Attention/runs/inweqihj' target=\"_blank\">https://wandb.ai/eltoncn/IA024-03-Attention/runs/inweqihj</a><br/>Synced 5 W&B file(s), 0 media file(s), 0 artifact file(s) and 0 other file(s)"
            ],
            "text/plain": [
              "<IPython.core.display.HTML object>"
            ]
          },
          "metadata": {},
          "output_type": "display_data"
        },
        {
          "data": {
            "text/html": [
              "Find logs at: <code>.\\wandb\\run-20240318_155531-inweqihj\\logs</code>"
            ],
            "text/plain": [
              "<IPython.core.display.HTML object>"
            ]
          },
          "metadata": {},
          "output_type": "display_data"
        }
      ],
      "source": [
        "hist = {}\n",
        "hist[\"loss_train\"] = []\n",
        "hist[\"loss_val\"] = []\n",
        "hist[\"ppl_train\"] = []\n",
        "hist[\"ppl_val\"] = []\n",
        "\n",
        "prev_loss = compute_loss(model, train_loader, criterion)\n",
        "print_info(prev_loss, -1, epochs, 0)\n",
        "\n",
        "for epoch in range(epochs):\n",
        "    start_time = time.time() \n",
        "\n",
        "    model.train()\n",
        "\n",
        "    loss_train = torch.tensor(0, dtype=torch.float32)\n",
        "    n_train = 0\n",
        "    for inputs, targets in train_loader:\n",
        "        inputs = inputs.to(device)\n",
        "        targets = targets.to(device)\n",
        "\n",
        "        logits = model(inputs)\n",
        "        loss : torch.Tensor = criterion(logits.squeeze(), targets)\n",
        "\n",
        "        loss_train += loss*targets.size(0)\n",
        "        n_train += targets.size(0)\n",
        "\n",
        "\n",
        "        optimizer.zero_grad()\n",
        "        loss.backward()\n",
        "        optimizer.step()\n",
        "\n",
        "    end_time = time.time() \n",
        "    epoch_duration = end_time - start_time \n",
        "\n",
        "    loss_train /= n_train\n",
        "    ppl_train = ppl(loss_train)\n",
        "\n",
        "    print_info(loss_train, epoch, epochs, epoch_duration)\n",
        "    \n",
        "    print(\"VAL \", end=\"\")\n",
        "    loss_val = compute_loss(model, val_loader, criterion)\n",
        "    ppl_val = ppl(loss_val)\n",
        "    print_info(loss_val, epoch, epochs)\n",
        "\n",
        "    hist[\"loss_train\"].append(loss_train.item())\n",
        "    hist[\"loss_val\"].append(loss_val.item())\n",
        "    hist[\"ppl_train\"].append(ppl_train.item())\n",
        "    hist[\"ppl_val\"].append(ppl_val.item())\n",
        "\n",
        "    log = {\n",
        "        \"loss_train\": loss_train.item(),\n",
        "        \"loss_val\": loss_val.item(),\n",
        "        \"ppl_train\": ppl_train.item(),\n",
        "        \"ppl_val\": ppl_val.item()\n",
        "    }\n",
        "\n",
        "    wandb.log(log)\n",
        "\n",
        "for key in hist:\n",
        "    hist[key] = np.array(hist[key])\n",
        "\n",
        "wandb.finish()"
      ]
    },
    {
      "cell_type": "code",
      "execution_count": 123,
      "metadata": {},
      "outputs": [
        {
          "data": {
            "image/png": "[encoded data removed]",
            "text/plain": [
              "<Figure size 640x480 with 1 Axes>"
            ]
          },
          "metadata": {},
          "output_type": "display_data"
        }
      ],
      "source": [
        "plt.plot(hist[\"loss_train\"], \"o-\")\n",
        "plt.plot(hist[\"loss_val\"], \"o-\")\n",
        "\n",
        "plt.legend([\"Train\", \"Val\"])\n",
        "plt.xlabel(\"Epoch\")\n",
        "plt.ylabel(\"Loss\")\n",
        "plt.title(\"Loss history\")\n",
        "\n",
        "plt.show()"
      ]
    },
    {
      "cell_type": "code",
      "execution_count": 124,
      "metadata": {},
      "outputs": [
        {
          "data": {
            "image/png": "[encoded data removed]",
            "text/plain": [
              "<Figure size 640x480 with 1 Axes>"
            ]
          },
          "metadata": {},
          "output_type": "display_data"
        }
      ],
      "source": [
        "plt.plot(hist[\"ppl_train\"]/vocab_size, \"o-\")\n",
        "plt.plot(hist[\"ppl_val\"]/vocab_size, \"o-\")\n",
        "\n",
        "plt.legend([\"Train\", \"Val\"])\n",
        "plt.xlabel(\"Epoch\")\n",
        "plt.ylabel(\"Normalized PPL\")\n",
        "plt.title(\"Perplexity history\")\n",
        "\n",
        "plt.show()"
      ]
    },
    {
      "cell_type": "code",
      "execution_count": 125,
      "metadata": {},
      "outputs": [
        {
          "ename": "ValueError",
          "evalue": "",
          "output_type": "error",
          "traceback": [
            "\u001b[1;31m---------------------------------------------------------------------------\u001b[0m",
            "\u001b[1;31mValueError\u001b[0m                                Traceback (most recent call last)",
            "Cell \u001b[1;32mIn[125], line 1\u001b[0m\n\u001b[1;32m----> 1\u001b[0m \u001b[38;5;28;01mraise\u001b[39;00m \u001b[38;5;167;01mValueError\u001b[39;00m\n",
            "\u001b[1;31mValueError\u001b[0m: "
          ]
        }
      ],
      "source": [
        "raise ValueError"
      ]
    },
    {
      "cell_type": "markdown",
      "metadata": {
        "id": "PSXfwYISDoPN"
      },
      "source": [
        "## Avaliação"
      ]
    },
    {
      "cell_type": "code",
      "execution_count": null,
      "metadata": {
        "id": "nXXO78GSDqPg"
      },
      "outputs": [],
      "source": [
        "test_loss = compute_loss(model, test_loader, criterion)\n",
        "test_ppl = ppl(test_loss)\n",
        "\n",
        "test_ppl.item()"
      ]
    },
    {
      "cell_type": "markdown",
      "metadata": {
        "id": "A1zhxVqfzJ_M"
      },
      "source": [
        "## Exemplo de uso"
      ]
    },
    {
      "cell_type": "code",
      "execution_count": null,
      "metadata": {
        "id": "3PExkoWOzJ_M"
      },
      "outputs": [],
      "source": [
        "def generate_text(model, vocab:Dict, inverse_vocab:List, text:str, max_length:int):\n",
        "    text = clean_text(text)\n",
        "\n",
        "    total_length = len(text.split(\" \"))\n",
        "\n",
        "    last_sequence = create_sequences([text], context_size, vocab)[0][-1]\n",
        "    last_sequence = torch.tensor(last_sequence)-1\n",
        "    last_sequence = last_sequence.to(device)\n",
        "\n",
        "    new_characters = []\n",
        "\n",
        "    while total_length < max_length:\n",
        "        \n",
        "        output = model(torch.unsqueeze(last_sequence, 0))\n",
        "        \n",
        "        next_encoded = output.argmax(dim=1).item()\n",
        "\n",
        "        last_sequence = torch.cat((last_sequence[1:], torch.tensor([next_encoded]).to(device)))\n",
        "        \n",
        "        new_characters.append(next_encoded)\n",
        "\n",
        "        total_length += 1\n",
        "\n",
        "    new_characters = np.array(new_characters)+1\n",
        "\n",
        "    new_text = \" \".join(decode_sentence(new_characters, inverse_vocab))\n",
        "\n",
        "    return new_text"
      ]
    },
    {
      "cell_type": "code",
      "execution_count": null,
      "metadata": {},
      "outputs": [],
      "source": [
        "text = cleaned_paragraphs[300]\n",
        "max_length = 40\n",
        "\n",
        "new_text = generate_text(model, vocab, inverse_vocab, text, max_length)\n",
        "\n",
        "print(\"OLD\")\n",
        "print(text)\n",
        "print(\"\")\n",
        "print(\"GENERATED CONTINUATION\")\n",
        "print(new_text)"
      ]
    }
  ],
  "metadata": {
    "accelerator": "GPU",
    "colab": {
      "gpuType": "T4",
      "provenance": []
    },
    "kernelspec": {
      "display_name": "Python 3",
      "name": "python3"
    },
    "language_info": {
      "codemirror_mode": {
        "name": "ipython",
        "version": 3
      },
      "file_extension": ".py",
      "mimetype": "text/x-python",
      "name": "python",
      "nbconvert_exporter": "python",
      "pygments_lexer": "ipython3",
      "version": "3.11.8"
    }
  },
  "nbformat": 4,
  "nbformat_minor": 0
}
