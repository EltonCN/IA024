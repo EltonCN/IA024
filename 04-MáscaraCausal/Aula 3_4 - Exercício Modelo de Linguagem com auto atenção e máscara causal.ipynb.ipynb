{
  "cells": [
    {
      "cell_type": "markdown",
      "metadata": {
        "id": "fMI0JT_YuYF3"
      },
      "source": [
        "## Exercício: Modelo de Linguagem com auto-atenção e máscaras causais\n",
        "\n",
        "> Seguimos na mesma linha de treinar um modelo de linguagem a partir dos textos do livro \"O Guarani\", de José de Alencar.\n",
        "> \n",
        "> Neste exercício, vamos treinar um modelo de linguagem com auto-atenção e com máscara causal. A máscara causal é necessária para que o modelo não tenha acesso a palavras futuras, que é a abordagem usada por grandes modelos de linguagem, como o GPT.\n",
        "> \n",
        "> Use a implementação matricial de auto-atenção da aula passada.\n",
        "> \n",
        "> ### Modificações necessárias\n",
        "> \n",
        "> - [x] Adicione a máscara causal na função `forward` da cabeça de auto-atenção.\n",
        "> - [x] Modifique o nosso dataloader para retornar inputs (uma lista de tokens de tamanho $n$), targets (uma lista de tokens de tamanho $n$ deslocada para a esquerda em 1 token). Exemplo `input = [1, 2, 3, 4]`, `target = [2, 3, 4, 5]` para a sequência `[1, 2, 3, 4, 5]` com `seq_len=4`, por exemplo (Ver slide 50).\n",
        "> \n",
        "> ### Extra\n",
        "> - [x] MultiHeadAttention: modifique a cabeça de auto-atenção para ter múltiplas cabeças. Isso não é obrigatório, mas pode ser interessante para ver como o modelo se comporta.\n",
        "> - [ ] Diagrama da geração: fazer diagrama que mostre os passos da geração de tokens (conforme slide 47).\n",
        "> \n",
        "> ### Dicas\n",
        "> \n",
        "> * Use como base o vídeo do Karpathy: https://www.youtube.com/watch?v=kCc8FmEb1nY. Observe que, no vídeo, ele primeiro implementa um modelo bi-grama, depois um modelo de linguagem com auto-atenção. O modelo de auto-atenção é implementado por volta do minuto 40, mas vale a pena assistir o vídeo todo.\n",
        "> * Use esta implementação como base: https://colab.research.google.com/drive/1vFTg4MSXVJwNSzPjaCcvmqhxTP7gK7HA?usp=sharing. Observe como o modelo é organizado e como a máscara é implementada na classe MultiHeadAttention.\n",
        "> * Use `context_size=9`"
      ]
    },
    {
      "cell_type": "markdown",
      "metadata": {},
      "source": [
        "Este notebook irá mostrar o processo de criação de um modelo de linguagem utilizando um transformer decoder-only, com processo de atenção multi-cabeça e máscara causal."
      ]
    },
    {
      "cell_type": "markdown",
      "metadata": {},
      "source": [
        "Iremos começar importando os módulos que serão utilizados na atividade:"
      ]
    },
    {
      "cell_type": "code",
      "execution_count": 248,
      "metadata": {},
      "outputs": [],
      "source": [
        "import string # Manipular strings\n",
        "from collections import Counter # Fazer contagem de elementos\n",
        "import random # Operações randômicas\n",
        "import os # Manipular arquivos\n",
        "import time # Medição de tempo\n",
        "import abc # Classes abstratas\n",
        "import itertools # Iterators\n",
        "from typing import List, Dict, Union, Tuple # Type hints\n",
        "\n",
        "import numpy as np # Operações vetoriais\n",
        "from numpy.testing import assert_raises, assert_array_equal, assert_array_almost_equal # Testes\n",
        "from numpy.typing import ArrayLike # Type hints\n",
        "import torch # ML\n",
        "from torch.utils.data import Dataset, DataLoader # Preparação de dados\n",
        "import matplotlib.pyplot as plt # Plots\n",
        "import wandb # Logging"
      ]
    },
    {
      "cell_type": "markdown",
      "metadata": {},
      "source": [
        "E algumas funções auxiliares que serão utilizadas:"
      ]
    },
    {
      "cell_type": "code",
      "execution_count": 249,
      "metadata": {},
      "outputs": [],
      "source": [
        "def assert_array_not_equal(array1:ArrayLike, array2:ArrayLike) -> None:\n",
        "    \"\"\"\n",
        "    Raises an AssertionError if two array_like objects are equal.\n",
        "\n",
        "    Args:\n",
        "        array1 (ArrayLike): First array to check.\n",
        "        array2 (ArrayLike): Second array to check.\n",
        "    \"\"\"\n",
        "    assert_raises(AssertionError, assert_array_equal, array1, array2)"
      ]
    },
    {
      "cell_type": "code",
      "execution_count": 250,
      "metadata": {},
      "outputs": [],
      "source": [
        "def reset_seeds() -> None:\n",
        "    \"\"\"\n",
        "    Resets the random generators from random and torch to a fixed seed.\n",
        "    \"\"\"\n",
        "    random.seed(18)\n",
        "    torch.manual_seed(18)"
      ]
    },
    {
      "cell_type": "markdown",
      "metadata": {},
      "source": [
        "## Preparação dos dados.\n",
        "\n",
        "Nesta seção serão definidas funções para preparar os dados para treino do modelo. Devido a necessidade de alterar os parâmetros constantemente durante os experimentos de treino, são definidas em funções as operações que são necessárias. Exemplos são executados para mostrar o funcionamento correto das operações."
      ]
    },
    {
      "cell_type": "markdown",
      "metadata": {
        "id": "bYbkEzdD37sZ"
      },
      "source": [
        "### Faz download e carrega o dataset"
      ]
    },
    {
      "cell_type": "markdown",
      "metadata": {},
      "source": [
        "Nesta seção os dados serão transferidos, lidos e limpos."
      ]
    },
    {
      "cell_type": "markdown",
      "metadata": {},
      "source": [
        "O primeiro passo é realizar o download dos dados:"
      ]
    },
    {
      "cell_type": "code",
      "execution_count": 251,
      "metadata": {
        "colab": {
          "base_uri": "https://localhost:8080/"
        },
        "id": "9qAnqY_q0beK",
        "outputId": "f810fdb0-138d-4917-b7ef-69ab266acef6"
      },
      "outputs": [],
      "source": [
        "if not os.path.isfile(\"67724.txt.utf-8\"):\n",
        "    !curl -LO https://www.gutenberg.org/ebooks/67724.txt.utf-8\n",
        "\n",
        "if not os.path.isfile(\"67725.txt.utf-8\"):\n",
        "    !curl -LO https://www.gutenberg.org/ebooks/67725.txt.utf-8"
      ]
    },
    {
      "cell_type": "markdown",
      "metadata": {},
      "source": [
        "Seguido pela leitura:"
      ]
    },
    {
      "cell_type": "code",
      "execution_count": 252,
      "metadata": {
        "colab": {
          "base_uri": "https://localhost:8080/"
        },
        "id": "6_UzC9pV091C",
        "outputId": "1553b04f-24c4-4027-8cab-0907f92f04df"
      },
      "outputs": [
        {
          "data": {
            "text/plain": [
              "4971"
            ]
          },
          "execution_count": 252,
          "metadata": {},
          "output_type": "execute_result"
        }
      ],
      "source": [
        "text = open(\"67724.txt.utf-8\",\"r\", encoding=\"utf8\").read()\n",
        "text += open(\"67725.txt.utf-8\",\"r\", encoding=\"utf8\").read()\n",
        "\n",
        "paragraphs = text.split(\"\\n\\n\")\n",
        "len(paragraphs)"
      ]
    },
    {
      "cell_type": "markdown",
      "metadata": {},
      "source": [
        "E limpeza dos dados.\n",
        "\n",
        "São realizadas as seguintes operações seguindo o paper \"A Neural Probabilistic Language Model\"\n",
        "\n",
        "\n",
        "- Pontuação: é mantida, porém separada do texto para permitir criação de símbolos próprios no vocabulário, e evitar a criação de várias símbolos representando as palavras com pontuação (\"pontuação\" -> \"pontuação\" + \",\" )\n",
        "- Número: convertidos para símbolo especial. No caso todos os números são convertidos para \"999\", para que convirjam para o mesmo símbolo no vocabulário\n",
        "- Letras maiúsculas: convertidas para minúsculas.\n",
        "- Nomes próprios: não são alterados devido a necessidade de serem identificados, diferente do paper.\n",
        "- Palavras raras: são removidas ao criar o vocabulário."
      ]
    },
    {
      "cell_type": "code",
      "execution_count": 253,
      "metadata": {},
      "outputs": [],
      "source": [
        "def clean_text(text:str) -> str:\n",
        "    '''\n",
        "    Clean the text, changing upper case and setting numbers to 999.\n",
        "    '''\n",
        "    \n",
        "    text = text.lower() # Upper Case -> lower case\n",
        "    \n",
        "    old_text = text.split()\n",
        "    new_text = []\n",
        "\n",
        "    for j in range(len(old_text)):\n",
        "        word = old_text[j] \n",
        "\n",
        "        if word.isdigit(): #Number -> 999\n",
        "            word = \"999\"\n",
        "        elif len(word) > 1 and word[0] in string.punctuation: # Ponctuation -> separate\n",
        "            old_text.insert(j+1, word[1:])\n",
        "            word = word[0]\n",
        "        elif word[-1] in string.punctuation and len(word) > 1: # Ponctuation -> separate\n",
        "            old_text.insert(j+1, word[:-1])\n",
        "            old_text.insert(j+2, word[-1])\n",
        "            \n",
        "            word = \"\"\n",
        "        \n",
        "        if len(word) > 0: # No empty words\n",
        "            new_text.append(word)\n",
        "    \n",
        "    return \" \".join(new_text)"
      ]
    },
    {
      "cell_type": "code",
      "execution_count": 254,
      "metadata": {
        "colab": {
          "base_uri": "https://localhost:8080/"
        },
        "id": "UhUFjtNdDuG0",
        "outputId": "78798c0c-deca-4454-d3fb-7d3ba70f3e91"
      },
      "outputs": [],
      "source": [
        "cleaned_paragraphs = [paragraph.replace(\"\\n\", \" \") for paragraph in paragraphs if paragraph.strip()] # Removes \\n\n",
        "\n",
        "for i in range(len(cleaned_paragraphs)):\n",
        "    cleaned_paragraphs[i] = clean_text(cleaned_paragraphs[i])\n"
      ]
    },
    {
      "cell_type": "markdown",
      "metadata": {},
      "source": [
        "Podemos ver um exemplo de parágrafo limpo do dataset, junto com a quantidade total de parágrafos obtidos:"
      ]
    },
    {
      "cell_type": "code",
      "execution_count": 255,
      "metadata": {},
      "outputs": [
        {
          "name": "stdout",
          "output_type": "stream",
          "text": [
            "SAMPLE ----------------\n",
            "﻿the project gutenberg ebook of o guarany : romance brazileiro , vol . 999 ( of 999 ) this ebook is for the use of anyone anywhere in the united states and most other parts of the world at no cost and with almost no restrictions whatsoever . you may copy it , give it away or re-use it under the terms of the project gutenberg license included with this ebook or online at www.gutenberg.org . if you are not located in the united states , you\n",
            "---------------------\n",
            "4892\n"
          ]
        }
      ],
      "source": [
        "print(\"SAMPLE ----------------\")\n",
        "print(cleaned_paragraphs[0])\n",
        "print(\"---------------------\")\n",
        "\n",
        "print(len(cleaned_paragraphs))"
      ]
    },
    {
      "cell_type": "markdown",
      "metadata": {
        "id": "bFVN2ihb33Rf"
      },
      "source": [
        "### Análise do dataset"
      ]
    },
    {
      "cell_type": "markdown",
      "metadata": {},
      "source": [
        "Aqui iremos realizar a contagem de palavras no dataset."
      ]
    },
    {
      "cell_type": "code",
      "execution_count": 256,
      "metadata": {
        "colab": {
          "base_uri": "https://localhost:8080/"
        },
        "id": "qSRHqe3H4ZFw",
        "outputId": "4a985c7a-ce1d-4b72-d253-c9fbbc5f9440"
      },
      "outputs": [
        {
          "data": {
            "text/plain": [
              "11470"
            ]
          },
          "execution_count": 256,
          "metadata": {},
          "output_type": "execute_result"
        }
      ],
      "source": [
        "def count_words(texts:List[str]) -> Counter:\n",
        "    \"\"\"\n",
        "    Counts the words in the texts.\n",
        "\n",
        "    Args:\n",
        "        texts (List[str]): List of strings with the texts.\n",
        "\n",
        "    Returns:\n",
        "        Counter: counter with the word count across all texts.\n",
        "    \"\"\"\n",
        "    \n",
        "    word_counts = Counter()\n",
        "    for text in texts:\n",
        "        word_counts.update(text.split(\" \"))\n",
        "    return word_counts\n",
        "\n",
        "word_counts = count_words(cleaned_paragraphs)\n",
        "\n",
        "len(word_counts)"
      ]
    },
    {
      "cell_type": "markdown",
      "metadata": {
        "id": "EyGVDL9KzJ_I"
      },
      "source": [
        "### Criando um vocabulário"
      ]
    },
    {
      "cell_type": "markdown",
      "metadata": {},
      "source": [
        "Com a contagem de palavras podemos definir uma função para criar um novo vocabulário:"
      ]
    },
    {
      "cell_type": "code",
      "execution_count": 257,
      "metadata": {},
      "outputs": [],
      "source": [
        "def create_vocab(word_counts:Counter, vocab_size:int) -> Tuple[Dict[str, int], List[str]]:\n",
        "    \"\"\"\n",
        "    Generates the vocabulary with the most frequent words.\n",
        "\n",
        "    Args:\n",
        "        word_counts (Counter): word count to generate vocabulary.\n",
        "        vocab_size (int): maximum size for the vocabulary.\n",
        "\n",
        "    Returns:\n",
        "        Dict[str, int]: vocabulary mapping words to codes.\n",
        "        List[str]: inverse vocabulary mapping codes to words.\n",
        "    \"\"\"\n",
        "\n",
        "\n",
        "    most_frequent_words = [word for word, count in word_counts.most_common(vocab_size)]\n",
        "    vocab = {word: i for i, word in enumerate(most_frequent_words, 1)}\n",
        "\n",
        "    inverse_vocab = list(vocab.keys())\n",
        "\n",
        "    return vocab, inverse_vocab"
      ]
    },
    {
      "cell_type": "markdown",
      "metadata": {},
      "source": [
        "E podemos executar um teste mostrando a geração de um vocabulário e suas primeiras 0 entradas:"
      ]
    },
    {
      "cell_type": "code",
      "execution_count": 258,
      "metadata": {},
      "outputs": [],
      "source": [
        "test_vocab_size = 1000\n",
        "test_vocab, test_inverse_vocab = create_vocab(word_counts, test_vocab_size)"
      ]
    },
    {
      "cell_type": "code",
      "execution_count": 259,
      "metadata": {},
      "outputs": [
        {
          "data": {
            "text/plain": [
              "[(',', 1),\n",
              " ('a', 2),\n",
              " ('que', 3),\n",
              " ('-', 4),\n",
              " ('o', 5),\n",
              " ('de', 6),\n",
              " ('e', 7),\n",
              " (';', 8),\n",
              " ('.', 9),\n",
              " ('um', 10)]"
            ]
          },
          "execution_count": 259,
          "metadata": {},
          "output_type": "execute_result"
        }
      ],
      "source": [
        "list(itertools.islice(test_vocab.items(), 10))"
      ]
    },
    {
      "cell_type": "markdown",
      "metadata": {},
      "source": [
        "É interessante observar que as palavras mais frequentes são acentuações, o que pode dificultar o aprendizado de sentenças significativas."
      ]
    },
    {
      "cell_type": "markdown",
      "metadata": {},
      "source": [
        "### Codificando e Decodificando sentenças"
      ]
    },
    {
      "cell_type": "markdown",
      "metadata": {},
      "source": [
        "Podemos utilizar as seguintes funções para codificar um texto e decodificá-lo:"
      ]
    },
    {
      "cell_type": "code",
      "execution_count": 260,
      "metadata": {},
      "outputs": [],
      "source": [
        "def encode_sentence(sentence:Union[str,List[str]], vocab:Dict) -> List[int]:\n",
        "    \"\"\"\n",
        "    Encodes a sentence using a vocabulary.\n",
        "\n",
        "    Args:\n",
        "        sentence (Union[str,List[str]]): sentence to encode. Or a string,\n",
        "            or the string already separated into words\n",
        "        vocab (Dict): vocabulary to encode. Maps words to codes.\n",
        "\n",
        "    Returns:\n",
        "        List[int]: the encoded sentence\n",
        "    \"\"\"\n",
        "    if isinstance(sentence, list):\n",
        "        words = sentence\n",
        "    else:\n",
        "        words = sentence.split(\" \")\n",
        "    \n",
        "    return [vocab.get(word, 0) for word in words]"
      ]
    },
    {
      "cell_type": "code",
      "execution_count": 261,
      "metadata": {},
      "outputs": [],
      "source": [
        "def decode_sentence(encoding:List[int], inverse_vocab:List[str]) -> List[str]:\n",
        "    \"\"\"\n",
        "    Decodes a sentence back to words.\n",
        "\n",
        "    Args:\n",
        "        encoding (List[int]): encoded sentence to decode.\n",
        "        inverse_vocab (List[str]): inverse vocabulary. Maps codes to words\n",
        "\n",
        "    Returns:\n",
        "        List[str]: decoded sentence. Unknown codes are decoded to '???' \n",
        "    \"\"\"\n",
        "    result = []\n",
        "\n",
        "    for encoding_i in encoding:\n",
        "        if encoding_i == 0:\n",
        "            result.append(\"???\")\n",
        "        else:\n",
        "            result.append(inverse_vocab[encoding_i-1])\n",
        "\n",
        "    return result"
      ]
    },
    {
      "cell_type": "markdown",
      "metadata": {
        "id": "wia_ygbvzJ_J"
      },
      "source": [
        "### Separação e Classe do dataset\n",
        "\n",
        "Aqui iremos definir as sentenças a partir dos textos; divídi-las em treino, teste e valiadação; e criar a classe para carregar os dados durante os experimentos."
      ]
    },
    {
      "cell_type": "markdown",
      "metadata": {},
      "source": [
        "Criamos as sequências com tamanhos `context_size+1`, visto que elas precisaram ser deslocadas para gerar os targets:"
      ]
    },
    {
      "cell_type": "code",
      "execution_count": 262,
      "metadata": {},
      "outputs": [],
      "source": [
        "def create_sequences(texts:List[str], context_size:int, \n",
        "                     vocab:Dict) -> Tuple[List[List[int]], List[int]]:\n",
        "    \"\"\"\n",
        "    Creates sequences from the texts, with the target (word to predict), \n",
        "    using a fixed size and vocabulary.\n",
        "\n",
        "    Args:\n",
        "        texts (List[str]): texts to create sequences.\n",
        "        context_size (int): size of the sequences.\n",
        "        vocab (Dict): maps words to codes.\n",
        "\n",
        "    Returns:\n",
        "        List[List[int]]: created sequences.\n",
        "    \"\"\"\n",
        "\n",
        "    x_all = []\n",
        "\n",
        "    for paragraph in texts:\n",
        "        start = 0\n",
        "        end = context_size+1\n",
        "\n",
        "        paragraph = encode_sentence(paragraph, vocab)\n",
        "\n",
        "        while end < len(paragraph):\n",
        "            x = paragraph[start:end]\n",
        "            y = paragraph[end]\n",
        "\n",
        "            if not ( 0 in x or 0 == y):\n",
        "                x_all.append(x)\n",
        "\n",
        "            start += 1\n",
        "            end += 1\n",
        "            \n",
        "    x_all = np.array(x_all)\n",
        "\n",
        "    return x_all"
      ]
    },
    {
      "cell_type": "markdown",
      "metadata": {},
      "source": [
        "Criamos um dataset de teste e validamos que as entradas e targets possuem o mesmo tamanho."
      ]
    },
    {
      "cell_type": "code",
      "execution_count": 263,
      "metadata": {},
      "outputs": [],
      "source": [
        "test_context_size = 10\n",
        "\n",
        "test_x_all = create_sequences(cleaned_paragraphs, test_context_size, test_vocab)"
      ]
    },
    {
      "cell_type": "code",
      "execution_count": 264,
      "metadata": {},
      "outputs": [],
      "source": [
        "assert len(test_x_all[0]) == test_context_size+1"
      ]
    },
    {
      "cell_type": "markdown",
      "metadata": {},
      "source": [
        "Para evitar viéses, definimos uma função para embaralhar o dataset:"
      ]
    },
    {
      "cell_type": "code",
      "execution_count": 265,
      "metadata": {
        "id": "gC0C5qn2zJ_J"
      },
      "outputs": [],
      "source": [
        "def shuffle_dataset(x:List) -> List[int]:\n",
        "    \"\"\"\n",
        "    Shuffle the dataset.\n",
        "\n",
        "    Args:\n",
        "        x (List): dataset elements.\n",
        "\n",
        "    Returns:\n",
        "        List: shuffled elements. \n",
        "    \"\"\"\n",
        "\n",
        "    indexes = list(range(len(x)))\n",
        "    random.shuffle(indexes)\n",
        "\n",
        "    x = x[indexes]\n",
        "\n",
        "    return x"
      ]
    },
    {
      "cell_type": "code",
      "execution_count": 266,
      "metadata": {},
      "outputs": [],
      "source": [
        "test_x_all = shuffle_dataset(test_x_all)"
      ]
    },
    {
      "cell_type": "markdown",
      "metadata": {},
      "source": [
        "E separamos os dados em treino (60%), validação (20%) e teste (20%):"
      ]
    },
    {
      "cell_type": "code",
      "execution_count": 267,
      "metadata": {},
      "outputs": [],
      "source": [
        "def separate_dataset(x_all:List[int]) -> Tuple[List[int], List[int], List[int]]:\n",
        "    \"\"\"\n",
        "    Separate the data in train, validation and test.\n",
        "\n",
        "    Args:\n",
        "        x_all (List[int]): all dataset elements.\n",
        "\n",
        "    Returns:\n",
        "        List[int]: train elements. \n",
        "        List[int]: validation elements.\n",
        "        List[int]: test elements.\n",
        "    \"\"\"\n",
        "    size_all = len(x_all)\n",
        "\n",
        "    cut1 = int(0.6*size_all)\n",
        "    cut2 = int(0.8*size_all)\n",
        "\n",
        "    x_train = x_all[0:cut1]\n",
        "\n",
        "    x_val = x_all[cut1:cut2]\n",
        "\n",
        "    x_test = x_all[cut2:]\n",
        "\n",
        "    return x_train, x_val, x_test"
      ]
    },
    {
      "cell_type": "markdown",
      "metadata": {},
      "source": [
        "Separamos os conjuntos e demonstramos que a separação separa corretamente os dados:"
      ]
    },
    {
      "cell_type": "code",
      "execution_count": 268,
      "metadata": {},
      "outputs": [],
      "source": [
        "test_x_train, test_x_val, test_x_test = separate_dataset(test_x_all)"
      ]
    },
    {
      "cell_type": "code",
      "execution_count": 269,
      "metadata": {},
      "outputs": [],
      "source": [
        "assert len(test_x_train)+len(test_x_val)+len(test_x_test) == len(test_x_all)\n",
        "\n",
        "assert len(test_x_train) == int(0.6*len(test_x_all))\n",
        "assert (len(test_x_val) == np.floor(0.2*len(test_x_all)) or len(test_x_val) == np.ceil(0.2*len(test_x_all)))\n",
        "assert (len(test_x_test) == np.floor(0.2*len(test_x_all)) or len(test_x_test) == np.ceil(0.2*len(test_x_all)))"
      ]
    },
    {
      "cell_type": "markdown",
      "metadata": {},
      "source": [
        "Criamos a classe para manipular o dataset:"
      ]
    },
    {
      "cell_type": "code",
      "execution_count": 270,
      "metadata": {},
      "outputs": [],
      "source": [
        "class TextPredictDataset(Dataset):\n",
        "    \"\"\"\n",
        "    Text prediction dataset.\n",
        "\n",
        "    Input: sequence of encoded words.\n",
        "    Target: next word for the sequence.\n",
        "    \"\"\"\n",
        "    \n",
        "    def __init__(self, x_data:List[List[int]]) -> None:\n",
        "        \"\"\"\n",
        "        Creates a new dataset.\n",
        "\n",
        "        Args:\n",
        "            x_data (List[List[int]]): dataset elements.\n",
        "\n",
        "        \"\"\"\n",
        "\n",
        "        self._x_data = torch.tensor(x_data).type(torch.LongTensor)-1\n",
        "        \n",
        "        self._size = len(x_data)\n",
        "\n",
        "    def __len__(self) -> int:\n",
        "        \"\"\"\n",
        "        Gets the size of the dataset.\n",
        "\n",
        "        Returns:\n",
        "            int: dataset size.\n",
        "        \"\"\"\n",
        "\n",
        "        return self._size\n",
        "\n",
        "    def __getitem__(self, idx:int) -> Tuple[torch.Tensor, torch.Tensor]:\n",
        "        \"\"\"\n",
        "        Gets a item of the dataset.\n",
        "\n",
        "        Args:\n",
        "            idx (int): data index.\n",
        "\n",
        "        Returns:\n",
        "            torch.Tensor: dataset input. \n",
        "            torch.Tensor: dataset target.\n",
        "        \"\"\"\n",
        "        return self._x_data[idx][:-1], self._x_data[idx][1:]\n"
      ]
    },
    {
      "cell_type": "markdown",
      "metadata": {},
      "source": [
        "Geramos um dataset de exemplo e mostramos que os elementos e tamanhos das entradas e saídas estão correto:"
      ]
    },
    {
      "cell_type": "code",
      "execution_count": 271,
      "metadata": {},
      "outputs": [],
      "source": [
        "test_train_dataset = TextPredictDataset(test_x_train)"
      ]
    },
    {
      "cell_type": "code",
      "execution_count": 272,
      "metadata": {},
      "outputs": [],
      "source": [
        "assert_array_equal(test_train_dataset[0][0].shape, [test_context_size])\n",
        "assert_array_equal(test_train_dataset[0][1].shape, [test_context_size])\n",
        "\n",
        "assert_array_equal(test_train_dataset[0][1][1:-1], test_train_dataset[0][1][1:-1])"
      ]
    },
    {
      "cell_type": "markdown",
      "metadata": {},
      "source": [
        "Por fim, mostramos o uso de um DataLoader e mostramos que os dados possuem tamanhos corretos:"
      ]
    },
    {
      "cell_type": "code",
      "execution_count": 273,
      "metadata": {},
      "outputs": [],
      "source": [
        "test_batch_size = 5"
      ]
    },
    {
      "cell_type": "code",
      "execution_count": 274,
      "metadata": {},
      "outputs": [],
      "source": [
        "test_train_loader = DataLoader(test_train_dataset, batch_size=test_batch_size, shuffle=True)"
      ]
    },
    {
      "cell_type": "code",
      "execution_count": 275,
      "metadata": {},
      "outputs": [],
      "source": [
        "test_data = next(iter(test_train_loader))"
      ]
    },
    {
      "cell_type": "code",
      "execution_count": 276,
      "metadata": {},
      "outputs": [],
      "source": [
        "assert_array_equal(test_data[0].shape, [test_batch_size, test_context_size])\n",
        "assert_array_equal(test_data[1].shape, [test_batch_size, test_context_size])"
      ]
    },
    {
      "cell_type": "markdown",
      "metadata": {},
      "source": [
        "### Juntando tudo"
      ]
    },
    {
      "cell_type": "markdown",
      "metadata": {},
      "source": [
        "Para o uso posterior, podemos juntar todas as funções criadas realizando o processo completo de geração do dataset:"
      ]
    },
    {
      "cell_type": "code",
      "execution_count": 277,
      "metadata": {},
      "outputs": [],
      "source": [
        "def create_data_loaders(texts:List[str], vocab_size:int, context_size:int, batch_size:int) -> Tuple[Dict, List, DataLoader, DataLoader, DataLoader]:\n",
        "    \"\"\"\n",
        "    Generates a text prediction dataset.\n",
        "\n",
        "    Args:\n",
        "        texts (List[str]): texts to generate the dataset.\n",
        "        vocab_size (int): size of the vocabulary (know words).\n",
        "        context_size (int): size of the sequences.\n",
        "        batch_size (int): size of the batchs.\n",
        "\n",
        "    Returns:\n",
        "        Dict: vocabulary. Maps words to codes.\n",
        "        List: inverse vocabulary. Maps codes to words.\n",
        "        DataLoader: train DataLoader.\n",
        "        DataLoader: validation DataLoader.\n",
        "        DataLoader: test DataLoader.\n",
        "    \"\"\"\n",
        "\n",
        "    word_counts = count_words(texts)\n",
        "    vocab, inverse_vocab = create_vocab(word_counts, vocab_size)\n",
        "\n",
        "    x_all = create_sequences(texts, context_size, vocab)\n",
        "    \n",
        "    x_all = shuffle_dataset(x_all)\n",
        "\n",
        "    x_train, x_val, x_test = separate_dataset(x_all)\n",
        "\n",
        "    train_dataset = TextPredictDataset(x_train)\n",
        "    val_dataset = TextPredictDataset(x_val)\n",
        "    test_dataset = TextPredictDataset(x_test)\n",
        "\n",
        "    train_loader = DataLoader(train_dataset, batch_size=batch_size, shuffle=True)\n",
        "    val_loader = DataLoader(val_dataset, batch_size=batch_size, shuffle=True)\n",
        "    test_loader = DataLoader(test_dataset, batch_size=batch_size, shuffle=True)\n",
        "\n",
        "    return vocab, inverse_vocab, train_loader, val_loader, test_loader"
      ]
    },
    {
      "cell_type": "markdown",
      "metadata": {
        "id": "-5_-Yud0zJ_K"
      },
      "source": [
        "## Model\n",
        "\n",
        "Esta seção irá implementar o modelo que será treinado, começando pelas camadas de atenção, encoding posicional e embedding; seguindo pelo modelo em si e seu teste."
      ]
    },
    {
      "cell_type": "markdown",
      "metadata": {},
      "source": [
        "### Attention\n",
        "\n",
        "A camada de atenção é implementada segundo descrito em \"Attention Is All You Need\". É implementada a versão com múltiplas cabeças de atenção e máscara causal."
      ]
    },
    {
      "cell_type": "code",
      "execution_count": 278,
      "metadata": {},
      "outputs": [],
      "source": [
        "class MultiHeadAttention(torch.nn.Module):\n",
        "    def __init__(self, embed_dim:int, num_heads:int) -> None:\n",
        "        \"\"\"\n",
        "        Creates the layer.\n",
        "\n",
        "        Args:\n",
        "            embed_dim (int): size of the embedding in the layer input and output.\n",
        "        \"\"\"\n",
        "        super().__init__()\n",
        "        \n",
        "        self.embed_dim = embed_dim\n",
        "        \n",
        "        self.num_heads = num_heads\n",
        "        self.head_dim = embed_dim//num_heads\n",
        "\n",
        "        if self.head_dim * num_heads != embed_dim:\n",
        "            raise ValueError(f\"embed_dim must be divisible by num_heads ({embed_dim}/{num_heads} is not integer).\")\n",
        "\n",
        "\n",
        "        #Initialize weights\n",
        "\n",
        "        #d_model = dv = dk = embed_dim\n",
        "        #h = 1\n",
        "\n",
        "        wQ = torch.Tensor(embed_dim, embed_dim) #embed, embed\n",
        "        wK = torch.Tensor(embed_dim, embed_dim) #embed, dk\n",
        "        wV = torch.Tensor(embed_dim, embed_dim) #embed, dv\n",
        "        w0 = torch.Tensor(embed_dim, embed_dim) #embed, embed\n",
        "\n",
        "        self.wQ = torch.nn.Parameter(wQ)\n",
        "        self.wK = torch.nn.Parameter(wK)\n",
        "        self.wV = torch.nn.Parameter(wV)\n",
        "        self.w0 = torch.nn.Parameter(w0)\n",
        "\n",
        "        self.register_buffer(\"dk_root\", torch.sqrt(torch.tensor(self.head_dim, dtype=torch.float32)))\n",
        "\n",
        "        for w in [self.wQ, self.wK, self.wV, self.w0]:\n",
        "            torch.nn.init.kaiming_normal_(w)\n",
        "\n",
        "\n",
        "\n",
        "    def forward(self, query:torch.Tensor, key:torch.Tensor, value:torch.Tensor, is_causal:bool=False) -> torch.Tensor:\n",
        "        \"\"\"\n",
        "        Process the inputs using the attention process.\n",
        "\n",
        "        Input tensors must be in [batch, sentence, embed] order.\n",
        "\n",
        "        Args:\n",
        "            query (torch.Tensor): queries tensor, are compared against the keys.\n",
        "            key (torch.Tensor): keys tensor, represents the keys.\n",
        "            value (torch.Tensor): values tensor.\n",
        "\n",
        "        Returns:\n",
        "            torch.Tensor: the layer output, the values pondered by the compability between the keys and queries.\n",
        "        \"\"\"\n",
        "\n",
        "        #Check input\n",
        "        if query.shape[2] != self.embed_dim:\n",
        "            raise ValueError(f\"Inputs must have embed dimension of {self.embed_dim} ({query.shape[2]} != {self.embed_dim})\")\n",
        "\n",
        "        #Get dimensions\n",
        "        batch_size = query.shape[0]\n",
        "        context_size = query.shape[1]\n",
        "\n",
        "        #Linear input transformation\n",
        "        #Transpose weights because PyTorch does that\n",
        "        Q = query @ self.wQ.T\n",
        "        K = key @ self.wK.T\n",
        "        V = value @ self.wV.T\n",
        "\n",
        "        #batch_size, sentence, embed\n",
        "        # to\n",
        "        #batch_size,  n_head, sentence, head_dim\n",
        "        Q = Q.transpose(0,1).reshape(context_size, batch_size*self.num_heads, self.head_dim).transpose(0,1)\n",
        "        K = K.transpose(0,1).reshape(context_size, batch_size*self.num_heads, self.head_dim).transpose(0,1)\n",
        "        V = V.transpose(0,1).reshape(context_size, batch_size*self.num_heads, self.head_dim).transpose(0,1)\n",
        "        #Now we have [\n",
        "        # [batch0word0part0, batch0word1part0], \n",
        "        # [batch0word0part1, batch0word1part1],\n",
        "        # [batch1word0part0, batch1word1part0], \n",
        "        # [batch1word0part1, batch1word1part1],\n",
        "        #]\n",
        "        \n",
        "        scores = Q @ K.transpose(-2, -1) #K.permute(0,1,3,2)\n",
        "        scores /= self.dk_root\n",
        "\n",
        "        #Apply causal bias\n",
        "        if is_causal:\n",
        "            mask = torch.ones((context_size, context_size), dtype=torch.bool)\n",
        "            mask = mask.tril() #Lower triangular is one\n",
        "            mask = torch.bitwise_not(mask) #Upper triangular without diagonal is ones\n",
        "\n",
        "            attention_bias = torch.zeros((context_size, context_size), device=query.device)\n",
        "            attention_bias[mask] = -torch.inf\n",
        "        \n",
        "            scores += attention_bias\n",
        "\n",
        "\n",
        "        probs = torch.softmax(scores, dim=-1)\n",
        "        E = probs @ V\n",
        "\n",
        "        #Return elements to correct place \n",
        "        E = E.reshape(batch_size, self.num_heads, context_size, self.head_dim)\n",
        "        E = E.transpose(-3,-2)\n",
        "        E = E.reshape(batch_size, context_size, self.embed_dim)\n",
        "        #Now we have [\n",
        "        #[batch0word0, batch0word1], \n",
        "        #[batch1word0, batch1word1]\n",
        "        #]\n",
        "\n",
        "        result = E @ self.w0.T \n",
        "\n",
        "        return result\n",
        "\n",
        "\n",
        "    "
      ]
    },
    {
      "cell_type": "markdown",
      "metadata": {},
      "source": [
        "Para testar a camadas implementada, podemos instanciar ela junto da implementação de referência do PyTorch, e certificar que as saídas das 2 camadas são as mesmas, dado os mesmos pesos e entradas."
      ]
    },
    {
      "cell_type": "markdown",
      "metadata": {},
      "source": [
        "Instaciamos as camadas:"
      ]
    },
    {
      "cell_type": "code",
      "execution_count": 279,
      "metadata": {},
      "outputs": [],
      "source": [
        "test_embed_dim = 4\n",
        "test_num_heads = 2\n",
        "test_context_size = 3\n",
        "\n",
        "our_version = MultiHeadAttention(test_embed_dim, num_heads=test_num_heads).eval()\n",
        "torch_version = torch.nn.MultiheadAttention(test_embed_dim, num_heads=test_num_heads, bias=False, batch_first=True ).eval()"
      ]
    },
    {
      "cell_type": "markdown",
      "metadata": {},
      "source": [
        "Igualamos todos os pesos:"
      ]
    },
    {
      "cell_type": "code",
      "execution_count": 280,
      "metadata": {},
      "outputs": [],
      "source": [
        "wQ = our_version.wQ\n",
        "wK = our_version.wK\n",
        "wV = our_version.wV\n",
        "w0 = our_version.w0\n",
        "\n",
        "torch_version.in_proj_weight = torch.nn.Parameter(torch.concat((wQ, wK, wV)))\n",
        "torch_version.out_proj.weight = w0"
      ]
    },
    {
      "cell_type": "markdown",
      "metadata": {},
      "source": [
        "Geramos os dados de teste randomicamente:"
      ]
    },
    {
      "cell_type": "code",
      "execution_count": 281,
      "metadata": {},
      "outputs": [],
      "source": [
        "test_data = torch.rand(2, test_context_size, test_embed_dim) #2 batchs, sequences of test_context_size words, embed_dim"
      ]
    },
    {
      "cell_type": "markdown",
      "metadata": {},
      "source": [
        "Realizamos as operações com as camadas e verificamos se os resultados são os mesmos, com e sem causalidade:"
      ]
    },
    {
      "cell_type": "code",
      "execution_count": 282,
      "metadata": {},
      "outputs": [],
      "source": [
        "attention_mask = torch.nn.Transformer.generate_square_subsequent_mask(test_context_size)\n",
        "\n",
        "for is_causal in [False, True]:\n",
        "\n",
        "    result_our = our_version(test_data, test_data, test_data, is_causal)\n",
        "\n",
        "    if is_causal:\n",
        "        result_torch, _ = torch_version(test_data, test_data, test_data, need_weights=False, is_causal=True, attn_mask=attention_mask)\n",
        "    else:\n",
        "        result_torch, _ = torch_version(test_data, test_data, test_data, need_weights=False)\n",
        "\n",
        "    result_our = result_our.detach()\n",
        "    result_torch = result_torch.detach()\n",
        "\n",
        "    assert result_our.shape == result_torch.shape\n",
        "    assert_array_almost_equal(result_our, result_torch, decimal=5)"
      ]
    },
    {
      "cell_type": "markdown",
      "metadata": {},
      "source": [
        "Por fim, podemos comparar a performance entre as camadas utilizando a CPU.\n",
        "\n",
        "A célula está comentada devido ao custo de executá-lo, porém os resultados estão disponíveis a seguir."
      ]
    },
    {
      "cell_type": "code",
      "execution_count": 283,
      "metadata": {},
      "outputs": [],
      "source": [
        "#%timeit our_version(test_data, test_data, test_data)\n",
        "#%timeit torch_version(test_data, test_data, test_data, need_weights=False)"
      ]
    },
    {
      "cell_type": "markdown",
      "metadata": {},
      "source": [
        "```\n",
        "Our: 208 µs ± 13.5 µs per loop (mean ± std. dev. of 7 runs, 1000 loops each)\n",
        "Torch: 260 µs ± 21.1 µs per loop (mean ± std. dev. of 7 runs, 1000 loops each)\n",
        "```"
      ]
    },
    {
      "cell_type": "markdown",
      "metadata": {},
      "source": [
        "Curiosamente a implementação do PyTorch é mais lenta, porém pode ser devido as maiores capacidades que possue e checagens que executa. É importante que ressaltar que esses resultados são apenas para a execução utilizando a CPU.\n",
        "\n",
        "Comparado com o exercício anterior (sem multi-head) o custo de execução praticamente dobrou, possivelmente pelo custo de manipular a configuração dos dados na memória para realizar as operações."
      ]
    },
    {
      "cell_type": "markdown",
      "metadata": {},
      "source": [
        "### Positional Encoding\n",
        "\n",
        "A camada de encoding posicional é implementada com funções periódicas, assim como o paper \"Attention is All You Need\":"
      ]
    },
    {
      "cell_type": "code",
      "execution_count": 284,
      "metadata": {},
      "outputs": [],
      "source": [
        "class SinePositionalEncoding(torch.nn.Module):\n",
        "    \"\"\"\n",
        "    Positional enconding using sine/cossine function.\n",
        "    \"\"\"\n",
        "    def __init__(self, embed_dim:int, sequence_size:int) -> None:\n",
        "        \"\"\"\n",
        "        Creates the layer.\n",
        "\n",
        "        Args:\n",
        "            embed_dim (int): embedding size in the input and output.\n",
        "            sequence_size (int): size of the sequence in the input and output.\n",
        "        \"\"\"\n",
        "\n",
        "        super().__init__()\n",
        "\n",
        "        #Caches the positions encodings:\n",
        "        position = torch.arange(sequence_size, dtype=torch.float32)\n",
        "        expoent = 2.0*torch.arange(embed_dim, dtype=torch.float32)/embed_dim\n",
        "\n",
        "        pe = torch.empty((sequence_size, embed_dim))\n",
        "\n",
        "        pe.T[:] = position\n",
        "        pe /= torch.pow(1e4, expoent)\n",
        "\n",
        "        pe[:, 0::2] = torch.sin(pe[:, 0::2])\n",
        "        pe[:, 1::2] = torch.cos(pe[:, 1::2])\n",
        "\n",
        "        self.register_buffer(\"pe\", pe)\n",
        "\n",
        "    def forward(self, input_tensor:torch.Tensor) -> torch.Tensor:\n",
        "        \"\"\"\n",
        "        Adds the positions encodings to the input.\n",
        "\n",
        "        Args:\n",
        "            input_tensor (torch.Tensor): input tensor to receive the positions encodings\n",
        "\n",
        "        Returns:\n",
        "            torch.Tensor: input + positional encoding.\n",
        "        \"\"\"\n",
        "        output = input_tensor + self.pe\n",
        "\n",
        "        return output\n",
        "        "
      ]
    },
    {
      "cell_type": "markdown",
      "metadata": {},
      "source": [
        "Testamos a camada utilizando uma entrada nula para verificar se as codificações estão corretas."
      ]
    },
    {
      "cell_type": "code",
      "execution_count": 285,
      "metadata": {},
      "outputs": [],
      "source": [
        "test_embed_dim = 5\n",
        "test_sequence_size = 3\n",
        "\n",
        "test_data = torch.zeros(2, test_sequence_size, test_embed_dim) #2 batchs, sequences of 3 words, embed_dim\n",
        "\n",
        "positional_encoding = SinePositionalEncoding(test_embed_dim, test_sequence_size)\n",
        "\n",
        "result = positional_encoding(test_data)\n",
        "\n",
        "assert_array_equal(result[0], result[1]) #Correct operation across batchs\n",
        "assert_array_not_equal(result[0, 0], result[0, 1]) #Different positions -> Different encodings\n",
        "assert_array_not_equal(result[0,:,0], result[0,:,1]) #Different dimensions -> Different encodings\n",
        "assert len(list(positional_encoding.parameters())) == 0 #No trainable parameters"
      ]
    },
    {
      "cell_type": "markdown",
      "metadata": {},
      "source": [
        "### Embedding"
      ]
    },
    {
      "cell_type": "markdown",
      "metadata": {},
      "source": [
        "Para o embedding utilizamos uma matriz de look-up aprendível, assim como \"A Neural Probabilistic Language Model\":"
      ]
    },
    {
      "cell_type": "code",
      "execution_count": 286,
      "metadata": {},
      "outputs": [],
      "source": [
        "class Embedding(torch.nn.Module):\n",
        "    \"\"\"\n",
        "    Converts codes to embeddings.\n",
        "    \"\"\"\n",
        "\n",
        "    def __init__(self, embed_dim:int, vocab_size:int) -> None:\n",
        "        \"\"\"\n",
        "        Creates a new Embedding layer.\n",
        "\n",
        "        Args:\n",
        "            embed_dim (int): size of the embedding in the output.\n",
        "            vocab_size (int): size of the vocabulary the words were coded.\n",
        "        \"\"\"\n",
        "\n",
        "        super().__init__()\n",
        "\n",
        "        C = torch.Tensor(vocab_size, embed_dim)\n",
        "        torch.nn.init.xavier_uniform_(C)\n",
        "        self.C = torch.nn.Parameter(C)\n",
        "\n",
        "    def forward(self, input_tensor:torch.Tensor) -> torch.Tensor:\n",
        "        \"\"\"\n",
        "        Embeds the input sequences.\n",
        "\n",
        "        Args:\n",
        "            input_tensor (torch.Tensor): sequences to be embeded.\n",
        "\n",
        "        Returns:\n",
        "            torch.Tensor: result embeddings.\n",
        "        \"\"\"\n",
        "        \n",
        "        #OBS: I checked, \"index_select\" doesn't work with batchs, \"index\" (third parameter) must be 1-D\n",
        "        result = torch.stack([torch.index_select(self.C, 0, input_i) for input_i in input_tensor])\n",
        "        \n",
        "        return result"
      ]
    },
    {
      "cell_type": "markdown",
      "metadata": {},
      "source": [
        "E testamos se a camada gera o embedding corretamente:"
      ]
    },
    {
      "cell_type": "code",
      "execution_count": 287,
      "metadata": {},
      "outputs": [],
      "source": [
        "test_embed_dim = 2\n",
        "test_vocab_size = 3\n",
        "test_sequence_size = test_vocab_size\n",
        "\n",
        "test_data = torch.empty((2, test_sequence_size), dtype=int)\n",
        "test_data[:] = torch.arange(test_vocab_size)\n",
        "\n",
        "embedding = Embedding(test_embed_dim, test_vocab_size)\n",
        "\n",
        "result = embedding(test_data)\n",
        "result = result.detach()\n",
        "\n",
        "C = embedding.C.detach()\n",
        "\n",
        "assert_array_equal(C.shape, [test_vocab_size, test_embed_dim]) #C matrix have correct shape\n",
        "assert_array_equal(result.shape, [2, test_sequence_size, test_embed_dim])\n",
        "assert_array_equal(result[0], result[1]) #Correct operation across batchs\n",
        "assert_array_equal(result[0, 0], C[0]) #First result = embedding of first word"
      ]
    },
    {
      "cell_type": "markdown",
      "metadata": {},
      "source": [
        "### Decoder block"
      ]
    },
    {
      "cell_type": "code",
      "execution_count": 288,
      "metadata": {},
      "outputs": [],
      "source": [
        "class TransformDecoderBlock(torch.nn.Module):\n",
        "    \"\"\"\n",
        "    Block of a Transform Decoder.\n",
        "    \"\"\"\n",
        "\n",
        "    def __init__(self, embed_dim:int, n_head:int, dropout_rate:float=0.0):\n",
        "        super().__init__()\n",
        "\n",
        "        self.attention = MultiHeadAttention(embed_dim, n_head)\n",
        "        self.dropout_attention = torch.nn.Dropout(dropout_rate)\n",
        "        self.layer_norm1 = torch.nn.LayerNorm(embed_dim)\n",
        "        self.linear1 = torch.nn.Linear(embed_dim, 4*embed_dim)\n",
        "        self.dropout_linear1 = torch.nn.Dropout(dropout_rate)\n",
        "        self.relu = torch.nn.ReLU()\n",
        "        self.linear2 = torch.nn.Linear(4*embed_dim, embed_dim)\n",
        "        self.dropout_linear2 = torch.nn.Dropout(dropout_rate)\n",
        "        self.layer_norm2 = torch.nn.LayerNorm(embed_dim)\n",
        "\n",
        "    def forward(self, x:torch.Tensor) -> torch.Tensor:\n",
        "\n",
        "        #Masked Multi-Head Attention\n",
        "        y1 = self.dropout_attention(self.attention(x, x, x, is_causal=True))\n",
        "        \n",
        "        #Add & Norm\n",
        "        y1 = x+y1\n",
        "        y1 = self.layer_norm1(y1)\n",
        "        \n",
        "        #Feed Forward\n",
        "        y2 = self.dropout_linear1(self.linear1(y1))\n",
        "        y2 = self.relu(y2)\n",
        "        y2 = self.dropout_linear2(self.linear2(y2))\n",
        "        \n",
        "        #Add & Norm\n",
        "        result = y1+y2\n",
        "        result = self.layer_norm2(result)\n",
        "\n",
        "        return result\n"
      ]
    },
    {
      "cell_type": "markdown",
      "metadata": {},
      "source": [
        "### Model"
      ]
    },
    {
      "cell_type": "markdown",
      "metadata": {},
      "source": [
        "Por fim, defimos o modelo de linguagem utilizando as camadas criadas."
      ]
    },
    {
      "cell_type": "code",
      "execution_count": 289,
      "metadata": {
        "id": "I2qKG9YczJ_K"
      },
      "outputs": [],
      "source": [
        "class LanguageModel(torch.nn.Module):\n",
        "    \"\"\"\n",
        "    Language model using Decorder-only Transform.\n",
        "    \"\"\"\n",
        "\n",
        "    def __init__(self, embed_dim:int, vocab_size:int, sequence_size:int, n_head:int, n_block:int, dropout_rate:float=0.0) -> None:\n",
        "        \"\"\"\n",
        "        Creates a new model\n",
        "\n",
        "        Args:\n",
        "            embed_dim (int): size of the embeddings between layers.\n",
        "            vocab_size (int): size of the vocabulary the inputs were coded.\n",
        "            sequence_size (int): size of the input sequences.\n",
        "            n_head (int): number of attention heads in each attention layer.\n",
        "            n_block (int): number of decoder blocks in the model.\n",
        "            dropout_rate (float, optional): dropout between layers rate. Defaults to 0.0.\n",
        "        \"\"\"\n",
        "        super().__init__()\n",
        "\n",
        "        self.embedding = Embedding(embed_dim, vocab_size)\n",
        "\n",
        "        self.positional_encoding = SinePositionalEncoding(embed_dim, sequence_size)\n",
        "        self.dropout_encoding = torch.nn.Dropout(dropout_rate)\n",
        "\n",
        "        blocks = [TransformDecoderBlock(embed_dim, n_head, dropout_rate) for _ in range(n_block)]\n",
        "        self.decoder_blocks = torch.nn.Sequential(*blocks)\n",
        "\n",
        "\n",
        "        self.linear_out = torch.nn.Linear(embed_dim, vocab_size)\n",
        "\n",
        "    def forward(self, x:torch.Tensor) -> torch.Tensor:\n",
        "        \"\"\"\n",
        "        Predicts the next word of the sequence.\n",
        "\n",
        "        Args:\n",
        "            x (torch.Tensor): sequence.\n",
        "\n",
        "        Returns:\n",
        "            torch.Tensor: next word predicted.\n",
        "        \"\"\"\n",
        "        y = self.embedding(x)\n",
        "        y = self.dropout_encoding(self.positional_encoding(y))\n",
        "\n",
        "        y = self.decoder_blocks(y)\n",
        "        \n",
        "        y = self.linear_out(y)\n",
        "\n",
        "        return y"
      ]
    },
    {
      "cell_type": "markdown",
      "metadata": {},
      "source": [
        "#### Model test"
      ]
    },
    {
      "cell_type": "markdown",
      "metadata": {},
      "source": [
        "Testamos o modelo com uma entrada aleatória para verificar se as saídas possuem tamanhos corretos:"
      ]
    },
    {
      "cell_type": "code",
      "execution_count": 290,
      "metadata": {
        "id": "7yjQ1KXOzJ_K"
      },
      "outputs": [],
      "source": [
        "test_embed_dim = 8\n",
        "test_vocab_size = 1000\n",
        "test_sequence_size = 10\n",
        "test_n_head = 2\n",
        "test_n_block = 2\n",
        "\n",
        "test_model = LanguageModel(test_embed_dim, test_vocab_size, test_sequence_size, test_n_head, test_n_block)"
      ]
    },
    {
      "cell_type": "code",
      "execution_count": 291,
      "metadata": {
        "id": "xmsD59TfzJ_K"
      },
      "outputs": [],
      "source": [
        "test_input, test_target = next(iter(test_train_loader))\n",
        "\n",
        "output = test_model(test_input)\n",
        "\n",
        "assert_array_equal(output.shape, [test_batch_size, test_sequence_size, test_vocab_size])"
      ]
    },
    {
      "cell_type": "code",
      "execution_count": 292,
      "metadata": {},
      "outputs": [
        {
          "data": {
            "text/plain": [
              "torch.Size([50])"
            ]
          },
          "execution_count": 292,
          "metadata": {},
          "output_type": "execute_result"
        }
      ],
      "source": [
        "test_target.reshape(-1).shape"
      ]
    },
    {
      "cell_type": "code",
      "execution_count": 293,
      "metadata": {},
      "outputs": [
        {
          "data": {
            "text/plain": [
              "torch.Size([50, 1000])"
            ]
          },
          "execution_count": 293,
          "metadata": {},
          "output_type": "execute_result"
        }
      ],
      "source": [
        "output.view(-1, test_vocab_size).shape"
      ]
    },
    {
      "cell_type": "code",
      "execution_count": 294,
      "metadata": {},
      "outputs": [
        {
          "data": {
            "text/plain": [
              "torch.Size([50, 1000])"
            ]
          },
          "execution_count": 294,
          "metadata": {},
          "output_type": "execute_result"
        }
      ],
      "source": [
        "output.view(-1, output.shape[-1]).shape"
      ]
    },
    {
      "cell_type": "markdown",
      "metadata": {
        "id": "UngUhyu7zJ_L"
      },
      "source": [
        "## Training"
      ]
    },
    {
      "cell_type": "markdown",
      "metadata": {},
      "source": [
        "Com o modelo e dados definidos, podemos iniciar o treinamento.\n",
        "\n",
        "Começamos definindo qual será o dispositivo utilizado para o treino:"
      ]
    },
    {
      "cell_type": "code",
      "execution_count": 296,
      "metadata": {
        "colab": {
          "base_uri": "https://localhost:8080/"
        },
        "id": "wntaV50nzJ_L",
        "outputId": "a054092b-d801-4c60-eb75-85abfe57151d"
      },
      "outputs": [
        {
          "data": {
            "text/plain": [
              "device(type='cuda')"
            ]
          },
          "execution_count": 296,
          "metadata": {},
          "output_type": "execute_result"
        }
      ],
      "source": [
        "# Verifica se há uma GPU disponível e define o dispositivo para GPU se possível, caso contrário, usa a CPU\n",
        "device = torch.device('cuda' if torch.cuda.is_available() else 'cpu')\n",
        "device"
      ]
    },
    {
      "cell_type": "markdown",
      "metadata": {},
      "source": [
        "### Helper functions"
      ]
    },
    {
      "cell_type": "markdown",
      "metadata": {},
      "source": [
        "Criamos algumas funções que serão utilizadas durante o treinamento."
      ]
    },
    {
      "cell_type": "code",
      "execution_count": 297,
      "metadata": {},
      "outputs": [],
      "source": [
        "def ppl(loss:torch.Tensor) -> torch.Tensor:\n",
        "    \"\"\"\n",
        "    Computes the perplexity from the loss.\n",
        "\n",
        "    Args:\n",
        "        loss (torch.Tensor): loss to compute the perplexity.\n",
        "\n",
        "    Returns:\n",
        "        torch.Tensor: corresponding perplexity.\n",
        "    \"\"\"\n",
        "    return torch.exp(loss)"
      ]
    },
    {
      "cell_type": "code",
      "execution_count": 298,
      "metadata": {},
      "outputs": [],
      "source": [
        "def compute_loss(model:torch.nn.Module, loader:DataLoader, criterion:torch.nn.Module) -> torch.Tensor:\n",
        "    \"\"\"\n",
        "    Computes the loss from a model across a dataset, without gradient and in eval mode.\n",
        "\n",
        "    Args:\n",
        "        model (torch.nn.Module): model to evaluate.\n",
        "        loader (DataLoader): dataset.\n",
        "        criterion (torch.nn.Module): loss function to compute.\n",
        "\n",
        "    Returns:\n",
        "        torch.Tensor: resulting loss.\n",
        "    \"\"\"\n",
        "    model.eval()\n",
        "\n",
        "    with torch.no_grad():\n",
        "        total_loss = 0\n",
        "        n = 0\n",
        "        for inputs, targets in loader:\n",
        "            inputs = inputs.to(device)\n",
        "\n",
        "            targets = targets.reshape(-1)\n",
        "            targets = targets.to(device)\n",
        "            \n",
        "            logits = model(inputs)\n",
        "            logits = logits.view(-1, logits.shape[-1])\n",
        "\n",
        "            loss = criterion(logits.squeeze(), targets)\n",
        "            total_loss += loss*targets.size(0)\n",
        "\n",
        "            n += targets.size(0)\n",
        "\n",
        "        total_loss /= n \n",
        "    \n",
        "    return total_loss.detach()\n"
      ]
    },
    {
      "cell_type": "code",
      "execution_count": 299,
      "metadata": {},
      "outputs": [],
      "source": [
        "def print_info(loss_value:torch.Tensor, epoch:int, total_epochs:int, time:float=0.0):\n",
        "    \"\"\"\n",
        "    Prints the information of a epoch.\n",
        "\n",
        "    Args:\n",
        "        loss_value (torch.Tensor): epoch loss.\n",
        "        epoch (int): epoch number.\n",
        "        total_epochs (int): total number of epochs. \n",
        "        time (float, optional): time to run the epoch. Don't print if is 0.0. Defaults to 0.0.\n",
        "    \"\"\"\n",
        "    ppl_value = ppl(loss_value)\n",
        "\n",
        "    \n",
        "    print(f'Epoch [{epoch+1}/{total_epochs}], \\\n",
        "            Loss: {loss_value.item():.4f}, \\\n",
        "            Perplexity: {ppl_value.item():.4f}', end=\"\")\n",
        "    \n",
        "    if time != 0:\n",
        "        print(f\", Elapsed Time: {time:.2f} sec\")    \n",
        "    else:\n",
        "        print(\"\")"
      ]
    },
    {
      "cell_type": "markdown",
      "metadata": {},
      "source": [
        "### Train"
      ]
    },
    {
      "cell_type": "markdown",
      "metadata": {},
      "source": [
        "E realizamos o processo de treino, iniciando pela definição dos parâmetros que serão utilizados. Neste caso estão aqui os parâmetros que geraram o melhor treinamento, com todos os resultados de todas as variações testadas disponíveis em [https://api.wandb.ai/links/eltoncn/hgqa8mss](https://api.wandb.ai/links/eltoncn/hgqa8mss)."
      ]
    },
    {
      "cell_type": "code",
      "execution_count": 361,
      "metadata": {},
      "outputs": [],
      "source": [
        "batch_size = 32 # Tamanho do batch\n",
        "context_size = 9 # n palavras de entrada. O target é a próxima palavra\n",
        "dropout_rate = 0.15 #Dropout entre as camadas\n",
        "embed_dim = 64 # Tamanho do feature vector de cada palavra\n",
        "epochs = 10 # Quantidade de epochs que serão treinadas\n",
        "lr = 2.5e-3 # Taxa de treinamento\n",
        "optimizer_class = torch.optim.Adam #torch.optim.SGD\n",
        "vocab_size = 3000 # Quantidade de palavras no vocabulário\n",
        "weight_decay = 3e-4 # Regularização L2\n",
        "\n",
        "n_block = 4\n",
        "n_head = 4"
      ]
    },
    {
      "cell_type": "markdown",
      "metadata": {},
      "source": [
        "E se será realizado o logging utilizando o wandb:"
      ]
    },
    {
      "cell_type": "code",
      "execution_count": 362,
      "metadata": {},
      "outputs": [],
      "source": [
        "use_wandb = False"
      ]
    },
    {
      "cell_type": "markdown",
      "metadata": {},
      "source": [
        "Para garantir reprodutibilidade, a geração de todos os datasets e todos os treinos são realizados as mesmas sementes:"
      ]
    },
    {
      "cell_type": "code",
      "execution_count": 363,
      "metadata": {},
      "outputs": [],
      "source": [
        "reset_seeds()"
      ]
    },
    {
      "cell_type": "markdown",
      "metadata": {},
      "source": [
        "Instanciamos todos os objetos necessários:"
      ]
    },
    {
      "cell_type": "code",
      "execution_count": 364,
      "metadata": {},
      "outputs": [],
      "source": [
        "vocab, inverse_vocab, train_loader, val_loader, test_loader = create_data_loaders(cleaned_paragraphs, vocab_size, context_size, batch_size)\n",
        "\n",
        "model = LanguageModel(embed_dim, vocab_size, context_size, n_head, n_block, dropout_rate)\n",
        "model.to(device)\n",
        "\n",
        "criterion = torch.nn.CrossEntropyLoss()\n",
        "optimizer = optimizer_class(model.parameters(), lr=lr, weight_decay=weight_decay)"
      ]
    },
    {
      "cell_type": "markdown",
      "metadata": {},
      "source": [
        "Iniciamos o logging:"
      ]
    },
    {
      "cell_type": "code",
      "execution_count": 365,
      "metadata": {},
      "outputs": [],
      "source": [
        "config = {\n",
        "    \"vocab_size\": vocab_size,\n",
        "    \"context_size\": context_size,\n",
        "    \"embed_dim\": embed_dim,\n",
        "    \"epochs\": epochs,\n",
        "    \"lr\": lr,\n",
        "    \"weight_decay\": weight_decay,\n",
        "    \"batch_size\": batch_size,\n",
        "    \"optimizer_class\": optimizer_class.__name__,\n",
        "    \"dropout_rate\": dropout_rate\n",
        "}\n",
        "\n",
        "if use_wandb:\n",
        "    wandb.init(project=\"IA024-03-Attention\", config=config)"
      ]
    },
    {
      "cell_type": "markdown",
      "metadata": {},
      "source": [
        "E realizamos o treino:"
      ]
    },
    {
      "cell_type": "code",
      "execution_count": 366,
      "metadata": {},
      "outputs": [
        {
          "name": "stdout",
          "output_type": "stream",
          "text": [
            "Epoch [0/10],             Loss: 8.0923,             Perplexity: 3269.2993\n",
            "Epoch [1/10],             Loss: 6.2013,             Perplexity: 493.3946, Elapsed Time: 4.54 sec\n",
            "VAL Epoch [1/10],             Loss: 6.1152,             Perplexity: 452.6650\n",
            "Epoch [2/10],             Loss: 6.1123,             Perplexity: 451.3926, Elapsed Time: 4.46 sec\n",
            "VAL Epoch [2/10],             Loss: 6.1103,             Perplexity: 450.4702\n",
            "Epoch [3/10],             Loss: 6.0390,             Perplexity: 419.4547, Elapsed Time: 4.41 sec\n",
            "VAL Epoch [3/10],             Loss: 5.7073,             Perplexity: 301.0711\n",
            "Epoch [4/10],             Loss: 5.3561,             Perplexity: 211.8882, Elapsed Time: 4.26 sec\n",
            "VAL Epoch [4/10],             Loss: 4.9352,             Perplexity: 139.0987\n",
            "Epoch [5/10],             Loss: 4.7341,             Perplexity: 113.7593, Elapsed Time: 4.20 sec\n",
            "VAL Epoch [5/10],             Loss: 4.4758,             Perplexity: 87.8663\n",
            "Epoch [6/10],             Loss: 4.3704,             Perplexity: 79.0736, Elapsed Time: 4.24 sec\n",
            "VAL Epoch [6/10],             Loss: 4.1952,             Perplexity: 66.3681\n",
            "Epoch [7/10],             Loss: 4.1514,             Perplexity: 63.5230, Elapsed Time: 4.24 sec\n",
            "VAL Epoch [7/10],             Loss: 4.0339,             Perplexity: 56.4813\n",
            "Epoch [8/10],             Loss: 3.9884,             Perplexity: 53.9692, Elapsed Time: 4.54 sec\n",
            "VAL Epoch [8/10],             Loss: 3.9382,             Perplexity: 51.3274\n",
            "Epoch [9/10],             Loss: 3.8570,             Perplexity: 47.3253, Elapsed Time: 4.68 sec\n",
            "VAL Epoch [9/10],             Loss: 3.8061,             Perplexity: 44.9753\n",
            "Epoch [10/10],             Loss: 3.7464,             Perplexity: 42.3695, Elapsed Time: 4.32 sec\n",
            "VAL Epoch [10/10],             Loss: 3.7077,             Perplexity: 40.7611\n"
          ]
        }
      ],
      "source": [
        "hist = {}\n",
        "hist[\"loss_train\"] = []\n",
        "hist[\"loss_val\"] = []\n",
        "hist[\"ppl_train\"] = []\n",
        "hist[\"ppl_val\"] = []\n",
        "\n",
        "prev_loss = compute_loss(model, train_loader, criterion)\n",
        "print_info(prev_loss, -1, epochs, 0)\n",
        "\n",
        "for epoch in range(epochs):\n",
        "    start_time = time.time() \n",
        "\n",
        "    model.train()\n",
        "\n",
        "    loss_train = torch.tensor(0, dtype=torch.float32, device=device)\n",
        "    n_train = 0\n",
        "    for inputs, targets in train_loader:\n",
        "        inputs = inputs.to(device)\n",
        "        \n",
        "        targets = targets.reshape(-1)\n",
        "        targets = targets.to(device)\n",
        "\n",
        "        logits = model(inputs)\n",
        "        logits = logits.view(-1, vocab_size)\n",
        "\n",
        "        loss : torch.Tensor = criterion(logits.squeeze(), targets)\n",
        "\n",
        "        loss_train += loss*targets.size(0)\n",
        "        n_train += targets.size(0)\n",
        "\n",
        "\n",
        "        optimizer.zero_grad()\n",
        "        loss.backward()\n",
        "        optimizer.step()\n",
        "\n",
        "    end_time = time.time() \n",
        "    epoch_duration = end_time - start_time \n",
        "\n",
        "    loss_train /= n_train\n",
        "    ppl_train = ppl(loss_train)\n",
        "\n",
        "    print_info(loss_train, epoch, epochs, epoch_duration)\n",
        "    \n",
        "    print(\"VAL \", end=\"\")\n",
        "    loss_val = compute_loss(model, val_loader, criterion)\n",
        "    ppl_val = ppl(loss_val)\n",
        "    print_info(loss_val, epoch, epochs)\n",
        "\n",
        "    hist[\"loss_train\"].append(loss_train.item())\n",
        "    hist[\"loss_val\"].append(loss_val.item())\n",
        "    hist[\"ppl_train\"].append(ppl_train.item())\n",
        "    hist[\"ppl_val\"].append(ppl_val.item())\n",
        "\n",
        "    log = {\n",
        "        \"loss_train\": loss_train.item(),\n",
        "        \"loss_val\": loss_val.item(),\n",
        "        \"ppl_train\": ppl_train.item(),\n",
        "        \"ppl_val\": ppl_val.item()\n",
        "    }\n",
        "\n",
        "    if use_wandb:\n",
        "        wandb.log(log)\n",
        "\n",
        "for key in hist:\n",
        "    hist[key] = np.array(hist[key])\n",
        "\n",
        "if use_wandb:\n",
        "    wandb.finish()"
      ]
    },
    {
      "cell_type": "markdown",
      "metadata": {},
      "source": [
        "Podemos checar a perda e perplexidade obtidas durante o treino. Um ponto relevante é o rápido overfitting que ocorre, possivelmente pelo tamanho limitado pelo conjunto de treino."
      ]
    },
    {
      "cell_type": "code",
      "execution_count": 367,
      "metadata": {},
      "outputs": [
        {
          "data": {
            "image/png": "[encoded data removed]",
            "text/plain": [
              "<Figure size 432x288 with 1 Axes>"
            ]
          },
          "metadata": {
            "needs_background": "light"
          },
          "output_type": "display_data"
        }
      ],
      "source": [
        "plt.plot(hist[\"loss_train\"], \"o-\")\n",
        "plt.plot(hist[\"loss_val\"], \"o-\")\n",
        "\n",
        "plt.legend([\"Train\", \"Val\"])\n",
        "plt.xlabel(\"Epoch\")\n",
        "plt.ylabel(\"Loss\")\n",
        "plt.title(\"Loss history\")\n",
        "\n",
        "plt.show()"
      ]
    },
    {
      "cell_type": "code",
      "execution_count": 368,
      "metadata": {},
      "outputs": [
        {
          "data": {
            "image/png": "[encoded data removed]",
            "text/plain": [
              "<Figure size 432x288 with 1 Axes>"
            ]
          },
          "metadata": {
            "needs_background": "light"
          },
          "output_type": "display_data"
        }
      ],
      "source": [
        "plt.plot(hist[\"ppl_train\"]/vocab_size, \"o-\")\n",
        "plt.plot(hist[\"ppl_val\"]/vocab_size, \"o-\")\n",
        "\n",
        "plt.legend([\"Train\", \"Val\"])\n",
        "plt.xlabel(\"Epoch\")\n",
        "plt.ylabel(\"Normalized PPL\")\n",
        "plt.title(\"Perplexity history\")\n",
        "\n",
        "plt.show()"
      ]
    },
    {
      "cell_type": "code",
      "execution_count": 374,
      "metadata": {},
      "outputs": [
        {
          "ename": "ValueError",
          "evalue": "",
          "output_type": "error",
          "traceback": [
            "\u001b[1;31m---------------------------------------------------------------------------\u001b[0m",
            "\u001b[1;31mValueError\u001b[0m                                Traceback (most recent call last)",
            "\u001b[1;32m<ipython-input-374-e4c8e09828d5>\u001b[0m in \u001b[0;36m<module>\u001b[1;34m\u001b[0m\n\u001b[1;32m----> 1\u001b[1;33m \u001b[1;32mraise\u001b[0m \u001b[0mValueError\u001b[0m\u001b[1;33m\u001b[0m\u001b[1;33m\u001b[0m\u001b[0m\n\u001b[0m",
            "\u001b[1;31mValueError\u001b[0m: "
          ]
        }
      ],
      "source": [
        "raise ValueError"
      ]
    },
    {
      "cell_type": "markdown",
      "metadata": {
        "id": "PSXfwYISDoPN"
      },
      "source": [
        "## Avaliação"
      ]
    },
    {
      "cell_type": "markdown",
      "metadata": {},
      "source": [
        "A avaliação é realizada calculando a perplexidade do modelo no conjunto de teste. É calculada apenas a perplexidade do melhor modelo nos dados de validação, para reportar a capacidade de generalização do modelo:"
      ]
    },
    {
      "cell_type": "code",
      "execution_count": null,
      "metadata": {
        "id": "nXXO78GSDqPg"
      },
      "outputs": [],
      "source": [
        "test_loss = compute_loss(model, test_loader, criterion)\n",
        "test_ppl = ppl(test_loss)\n",
        "\n",
        "test_ppl.item()"
      ]
    },
    {
      "cell_type": "markdown",
      "metadata": {},
      "source": [
        "Calculamos também a quantidade total de parâmetros utilizados pelo modelo:"
      ]
    },
    {
      "cell_type": "code",
      "execution_count": 404,
      "metadata": {},
      "outputs": [
        {
          "data": {
            "text/plain": [
              "585912"
            ]
          },
          "execution_count": 404,
          "metadata": {},
          "output_type": "execute_result"
        }
      ],
      "source": [
        "n_param = sum([p.numel() for p in model.parameters()])\n",
        "n_param"
      ]
    },
    {
      "cell_type": "markdown",
      "metadata": {
        "id": "A1zhxVqfzJ_M"
      },
      "source": [
        "## Exemplo de uso"
      ]
    },
    {
      "cell_type": "markdown",
      "metadata": {},
      "source": [
        "Para uso do modelo, definimos uma função para gerar mais texto até obter o tamanho máximo:"
      ]
    },
    {
      "cell_type": "code",
      "execution_count": 402,
      "metadata": {
        "id": "3PExkoWOzJ_M"
      },
      "outputs": [],
      "source": [
        "def generate_text(model:torch.nn.Module, vocab:Dict, inverse_vocab:List, text:str, max_length:int) -> str:\n",
        "    \"\"\"\n",
        "    Generates a text to complete the previous.\n",
        "\n",
        "    Args:\n",
        "        model (torch.nn.Module): language model to use.\n",
        "        vocab (Dict): vocabulary. Maps words to codes.\n",
        "        inverse_vocab (List): inverse vocabulary. Maps codes to words.\n",
        "        text (str): text to complete.\n",
        "        max_length (int): maximum length to obtain.\n",
        "\n",
        "    Returns:\n",
        "        str: generated text.\n",
        "    \"\"\"\n",
        "\n",
        "    text = clean_text(text)\n",
        "\n",
        "    total_length = len(text.split(\" \"))\n",
        "\n",
        "    last_sequence = create_sequences([text], context_size, vocab)[-1][1:]\n",
        "    last_sequence = torch.tensor(last_sequence)-1\n",
        "    last_sequence = last_sequence.to(device)\n",
        "\n",
        "    new_characters = []\n",
        "\n",
        "    while total_length < max_length:\n",
        "                \n",
        "        output = model(torch.unsqueeze(last_sequence, 0))\n",
        "\n",
        "        next_encoded = output[0][-1].argmax()\n",
        "\n",
        "        last_sequence = torch.cat((last_sequence[1:], torch.tensor([next_encoded]).to(device)))\n",
        "        \n",
        "        new_characters.append(next_encoded.item())\n",
        "\n",
        "        total_length += 1\n",
        "\n",
        "    new_characters = np.array(new_characters)+1\n",
        "\n",
        "    new_text = \" \".join(decode_sentence(new_characters, inverse_vocab))\n",
        "\n",
        "    return new_text"
      ]
    },
    {
      "cell_type": "markdown",
      "metadata": {},
      "source": [
        "E geramos um texto de exemplo."
      ]
    },
    {
      "cell_type": "code",
      "execution_count": 403,
      "metadata": {},
      "outputs": [
        {
          "name": "stdout",
          "output_type": "stream",
          "text": [
            "OLD\n",
            "nesse instante erguia a cabeça e fitava os olhos n'uma sebe de folhas que se elevava a vinte passos de distancia , e se\n",
            "\n",
            "GENERATED CONTINUATION\n",
            "de novo ao rio , e o italiano , e de novo ao mesmo tempo , e o italiano , e de um homem de sua senhora , e a sua senhora , e a sua senhora , e a sua senhora , e a sua\n"
          ]
        }
      ],
      "source": [
        "text = cleaned_paragraphs[200]#300]\n",
        "max_length = 70\n",
        "\n",
        "new_text = generate_text(model, vocab, inverse_vocab, text, max_length)\n",
        "\n",
        "print(\"OLD\")\n",
        "print(text)\n",
        "print(\"\")\n",
        "print(\"GENERATED CONTINUATION\")\n",
        "print(new_text)"
      ]
    },
    {
      "cell_type": "markdown",
      "metadata": {},
      "source": [
        "É perceptível como que o modelo rapidamente colapsa para uma sequência fixa."
      ]
    }
  ],
  "metadata": {
    "accelerator": "GPU",
    "colab": {
      "gpuType": "T4",
      "provenance": []
    },
    "kernelspec": {
      "display_name": "Python 3",
      "name": "python3"
    },
    "language_info": {
      "codemirror_mode": {
        "name": "ipython",
        "version": 3
      },
      "file_extension": ".py",
      "mimetype": "text/x-python",
      "name": "python",
      "nbconvert_exporter": "python",
      "pygments_lexer": "ipython3",
      "version": "3.8.5"
    }
  },
  "nbformat": 4,
  "nbformat_minor": 0
}
