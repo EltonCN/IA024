{
  "cells": [
    {
      "cell_type": "markdown",
      "metadata": {
        "id": "1OG5DT_dm6mk"
      },
      "source": [
        "# Fine Tuning do BERT no IMDB\n",
        "\n",
        "Nome: Elton Cardoso do Nascimento"
      ]
    },
    {
      "cell_type": "markdown",
      "metadata": {
        "id": "LZ80hHaftwUd"
      },
      "source": [
        "## Instruções:\n",
        "> \n",
        "> \n",
        "> Treinar e medir a acurácia de um modelo BERT (ou variantes) para classificação binária usando o dataset do IMDB (20k/5k amostras de treino/validação).\n",
        "> \n",
        "> Importante:\n",
        "> - [x] Deve-se implementar o próprio laço de treinamento.\n",
        "> - [x] Implementar o acumulo de gradiente.\n",
        "> \n",
        "> Dicas:\n",
        "> - BERT geralmente costuma aprender bem uma tarefa com poucas épocas (de 3 a 5 épocas). Se tiver demorando mais de 5 épocas para chegar em 80% de acurácia, ajuste os hiperparametros.\n",
        "> \n",
        "> - Solução para erro de memória:\n",
        ">   - [x] Usar bfloat16 permite quase dobrar o batch size\n",
        "> \n",
        "> Opcional:\n",
        "> - Pode-se usar a função trainer da biblioteca Transformers/HuggingFace para verificar se seu laço de treinamento está correto. Note que ainda assim é obrigatório implementar o laço próprio."
      ]
    },
    {
      "cell_type": "code",
      "execution_count": 39,
      "metadata": {},
      "outputs": [],
      "source": [
        "import os # Manipular arquivos\n",
        "import random # Operações randômicas\n",
        "import pickle # Serializar/deserializar backups\n",
        "import time # Medição de tempo\n",
        "import string # Operações com strings\n",
        "from concurrent.futures import ThreadPoolExecutor # Parelização\n",
        "from typing import Tuple, List, Dict, Optional # Type hints\n",
        "\n",
        "import numpy as np # Operações vetoriais\n",
        "import matplotlib.pyplot as plt # Plots\n",
        "import tqdm\n",
        "import torch # ML\n",
        "from torch.utils.data import Dataset, DataLoader # Preparação de dados\n",
        "\n",
        "try:\n",
        "    import wandb # Logging\n",
        "except:\n",
        "    wandb = None"
      ]
    },
    {
      "cell_type": "markdown",
      "metadata": {
        "id": "uhpAkifICdJo"
      },
      "source": [
        "## Fixando a seed"
      ]
    },
    {
      "cell_type": "code",
      "execution_count": 41,
      "metadata": {},
      "outputs": [],
      "source": [
        "def reset_seeds(seed:int=123):\n",
        "    random.seed(seed)\n",
        "    np.random.seed(seed)\n",
        "    torch.manual_seed(seed)"
      ]
    },
    {
      "cell_type": "code",
      "execution_count": 3,
      "metadata": {
        "colab": {
          "base_uri": "https://localhost:8080/"
        },
        "id": "wHeZ9nAOEB0U",
        "outputId": "bdd4a1f7-e1d0-4377-9638-a4ee1e968a38"
      },
      "outputs": [],
      "source": [
        "reset_seeds()"
      ]
    },
    {
      "cell_type": "markdown",
      "metadata": {
        "id": "CXFdJz2KVeQw"
      },
      "source": [
        "## Preparando Dados"
      ]
    },
    {
      "cell_type": "markdown",
      "metadata": {
        "id": "gHMi_Kq65fPM"
      },
      "source": [
        "> Primeiro, fazemos download do dataset:"
      ]
    },
    {
      "cell_type": "code",
      "execution_count": 4,
      "metadata": {
        "colab": {
          "base_uri": "https://localhost:8080/"
        },
        "id": "2wbnfzst5O3k",
        "outputId": "bebda5c0-5614-4cd0-a2f4-5754cdb9c336"
      },
      "outputs": [],
      "source": [
        "if not os.path.isfile(\"aclImdb.tgz\"):\n",
        "    !curl -LO http://files.fast.ai/data/aclImdb.tgz\n",
        "    !tar -xzf aclImdb.tgz"
      ]
    },
    {
      "cell_type": "markdown",
      "metadata": {
        "id": "0Giyi5Rv_NIm"
      },
      "source": [
        "### Carregando o dataset\n",
        "\n",
        "> Criaremos uma divisão de treino (20k exemplos) e validação (5k exemplos) artificialmente."
      ]
    },
    {
      "cell_type": "code",
      "execution_count": 5,
      "metadata": {},
      "outputs": [],
      "source": [
        "max_valid = 5000"
      ]
    },
    {
      "cell_type": "code",
      "execution_count": 6,
      "metadata": {},
      "outputs": [],
      "source": [
        "def load_texts(folder):\n",
        "    texts = []\n",
        "    for path in os.listdir(folder):\n",
        "        with open(os.path.join(folder, path), encoding=\"utf8\") as f:\n",
        "            texts.append(f.read())\n",
        "    return texts"
      ]
    },
    {
      "cell_type": "code",
      "execution_count": 7,
      "metadata": {},
      "outputs": [],
      "source": [
        "executor = ThreadPoolExecutor(max_workers=4)\n",
        "\n",
        "folders = ['aclImdb/train/pos', 'aclImdb/train/neg', 'aclImdb/test/pos', 'aclImdb/test/neg']\n",
        "\n",
        "futures = []\n",
        "for folder in folders:\n",
        "    future = executor.submit(load_texts, folder) \n",
        "\n",
        "    futures.append(future)\n",
        "\n",
        "all_texts = []\n",
        "\n",
        "for future in futures:\n",
        "    texts = future.result()\n",
        "\n",
        "    all_texts.append(texts)\n",
        "\n",
        "executor.shutdown()\n",
        "\n",
        "x_train_pos = all_texts[0]\n",
        "x_train_neg = all_texts[1]\n",
        "x_test_pos = all_texts[2]\n",
        "x_test_neg = all_texts[3]\n"
      ]
    },
    {
      "cell_type": "code",
      "execution_count": 8,
      "metadata": {},
      "outputs": [],
      "source": [
        "x_train = x_train_pos + x_train_neg\n",
        "x_test = x_test_pos + x_test_neg\n",
        "y_train = [True] * len(x_train_pos) + [False] * len(x_train_neg)\n",
        "y_test = [True] * len(x_test_pos) + [False] * len(x_test_neg)"
      ]
    },
    {
      "cell_type": "code",
      "execution_count": 9,
      "metadata": {},
      "outputs": [],
      "source": [
        "# Embaralhamos o treino para depois fazermos a divisão treino/valid.\n",
        "c = list(zip(x_train, y_train))\n",
        "random.shuffle(c)\n",
        "x_train, y_train = zip(*c)\n",
        "\n",
        "x_valid = x_train[-max_valid:]\n",
        "y_valid = y_train[-max_valid:]\n",
        "x_train = x_train[:-max_valid]\n",
        "y_train = y_train[:-max_valid]"
      ]
    },
    {
      "cell_type": "code",
      "execution_count": 10,
      "metadata": {},
      "outputs": [
        {
          "name": "stdout",
          "output_type": "stream",
          "text": [
            "20000 amostras de treino.\n",
            "5000 amostras de desenvolvimento.\n",
            "25000 amostras de teste.\n"
          ]
        }
      ],
      "source": [
        "print(len(x_train), 'amostras de treino.')\n",
        "print(len(x_valid), 'amostras de desenvolvimento.')\n",
        "print(len(x_test), 'amostras de teste.')"
      ]
    },
    {
      "cell_type": "code",
      "execution_count": 11,
      "metadata": {
        "colab": {
          "base_uri": "https://localhost:8080/"
        },
        "id": "0HIN_xLI_TuT",
        "outputId": "787fc595-88b1-486a-8c0c-bcde36396793"
      },
      "outputs": [
        {
          "name": "stdout",
          "output_type": "stream",
          "text": [
            "3 primeiras amostras treino:\n",
            "False POSSIBLE SPOILERS<br /><br />The Spy Who Shagged Me is a muchly overrated and over-hyped sequel. Int\n",
            "False The long list of \"big\" names in this flick (including the ubiquitous John Mills) didn't bowl me over\n",
            "True Bette Midler showcases her talents and beauty in \"Diva Las Vegas\". I am thrilled that I taped it and\n",
            "3 últimas amostras treino:\n",
            "False I was previously unaware that in the early 1990's Devry University (or was it ITT Tech?) added Film \n",
            "True The story and music (George Gershwin!) are wonderful, as are Levant, Guetary, Foch, and, of course, \n",
            "True This is my favorite show. I think it is utterly brilliant. Thanks to David Chase for bringing this i\n",
            "3 primeiras amostras validação:\n",
            "True Why has this not been released? I kind of thought it must be a bit rubbish since it hasn't been. How\n",
            "True I was amazingly impressed by this movie. It contained fundamental elements of depression, grief, lon\n",
            "True photography was too jumpy to follow. dark scenes hard to see.<br /><br />Had good story line too bad\n",
            "3 últimas amostras validação:\n",
            "True In the early to mid 1970's, Clifford Irving proposed to write the ultimate biography of Howard Hughe\n",
            "True An ultra-modern house in an affluent neighborhood appears to be the cause of each of its inhabitants\n",
            "True Some of the best movies that are categorized as \"comedies\" actually blur between comedy and drama. \"\n"
          ]
        }
      ],
      "source": [
        "print('3 primeiras amostras treino:')\n",
        "for x, y in zip(x_train[:3], y_train[:3]):\n",
        "    print(y, x[:100])\n",
        "\n",
        "print('3 últimas amostras treino:')\n",
        "for x, y in zip(x_train[-3:], y_train[-3:]):\n",
        "    print(y, x[:100])\n",
        "\n",
        "print('3 primeiras amostras validação:')\n",
        "for x, y in zip(x_valid[:3], y_test[:3]):\n",
        "    print(y, x[:100])\n",
        "\n",
        "print('3 últimas amostras validação:')\n",
        "for x, y in zip(x_valid[-3:], y_valid[-3:]):\n",
        "    print(y, x[:100])"
      ]
    },
    {
      "cell_type": "code",
      "execution_count": 34,
      "metadata": {},
      "outputs": [],
      "source": [
        "GOOD_MOVIE = 1 #True\n",
        "BAD_MOVIE = 0 #False"
      ]
    },
    {
      "cell_type": "markdown",
      "metadata": {},
      "source": [
        "### Tokenizador"
      ]
    },
    {
      "cell_type": "markdown",
      "metadata": {},
      "source": [
        "Preparamos o tokenizador para uso. No caso vamos utilizar o tokenizador preparado para o modelo BERT (é o mesmo do DistilBERT):"
      ]
    },
    {
      "cell_type": "code",
      "execution_count": 4,
      "metadata": {},
      "outputs": [
        {
          "name": "stderr",
          "output_type": "stream",
          "text": [
            "Using cache found in C:\\Users\\eltsu/.cache\\torch\\hub\\huggingface_pytorch-transformers_main\n"
          ]
        }
      ],
      "source": [
        "tokenizer = torch.hub.load('huggingface/pytorch-transformers', 'tokenizer', 'bert-base-cased')"
      ]
    },
    {
      "cell_type": "markdown",
      "metadata": {},
      "source": [
        "Podemos testar o tokenizador imprimindo uma sequência (observe o token inicial \"101\"=\\<CLS> e final \"102\"=\\<SEP>):"
      ]
    },
    {
      "cell_type": "code",
      "execution_count": 14,
      "metadata": {},
      "outputs": [
        {
          "data": {
            "text/plain": [
              "([101, 153, 9025, 13882, 13360, 2036, 16625, 2346, 17656, 9637],\n",
              " [156, 2328, 12165, 2508, 1110, 1141, 10010, 10866, 119, 102])"
            ]
          },
          "execution_count": 14,
          "metadata": {},
          "output_type": "execute_result"
        }
      ],
      "source": [
        "tokens = tokenizer(x_train[0], add_special_tokens=True, padding=\"max_length\", max_length=512)\n",
        "\n",
        "tokens[\"input_ids\"][:10], tokens[\"input_ids\"][-10:]"
      ]
    },
    {
      "cell_type": "code",
      "execution_count": 5,
      "metadata": {},
      "outputs": [],
      "source": [
        "BERT_SEP = 102"
      ]
    },
    {
      "cell_type": "markdown",
      "metadata": {},
      "source": [
        "### Dataset e Dataloader"
      ]
    },
    {
      "cell_type": "markdown",
      "metadata": {},
      "source": [
        "Definimos o dataset para realizar a tokenizador e manipular os dados:"
      ]
    },
    {
      "cell_type": "code",
      "execution_count": 6,
      "metadata": {},
      "outputs": [],
      "source": [
        "class IMDB_Dataset(Dataset):\n",
        "    '''\n",
        "    Dataset for sentiment analisys\n",
        "\n",
        "    Input: tokenized review and mask (for padding).\n",
        "    Output: if is a good (1) or bad (0) review. \n",
        "    '''\n",
        "    def __init__(self, x_data:List[str], y_data:List[bool], tokenizer) -> None:\n",
        "        \"\"\"\n",
        "        Creates a new dataset.\n",
        "\n",
        "        Args:\n",
        "            x_data (List[str]): dataset reviews.\n",
        "            y_data (List[bool]): dataset targets.\n",
        "            tokenizer: tokenizer to encode reviews.\n",
        "\n",
        "        \"\"\"\n",
        "\n",
        "        super().__init__()\n",
        "\n",
        "        self._x_data = tokenizer(x_data, \n",
        "                                 return_tensors=\"pt\", #Return as torch tensor \n",
        "                                 padding=True, #Add padding to small sequences\n",
        "                                 return_token_type_ids=False, #Don't return sequence mask (only one sequence)\n",
        "                                 truncation=True) #Truncate big sentences (max = 512 tokens, with CLS and SEP)\n",
        "\n",
        "        self._y_data = torch.tensor(y_data, dtype=torch.float32)\n",
        "\n",
        "        self._size = len(self._y_data)\n",
        "        \n",
        "        self.max_len = 512\n",
        "\n",
        "\n",
        "    def __len__(self) -> int:\n",
        "        \"\"\"\n",
        "        Gets the size of the dataset.\n",
        "\n",
        "        Returns:\n",
        "            int: dataset size.\n",
        "        \"\"\"\n",
        "\n",
        "        return self._size\n",
        "    \n",
        "    def __getitem__(self, idx:int) -> Tuple[torch.Tensor, torch.Tensor, torch.Tensor]:\n",
        "        \"\"\"\n",
        "        Gets a item of the dataset.\n",
        "\n",
        "        Args:\n",
        "            idx (int): data index.\n",
        "\n",
        "        Returns:\n",
        "            torch.Tensor: dataset input.\n",
        "            torch.Tensor: dataset attention mask. \n",
        "            torch.Tensor: dataset target.\n",
        "        \"\"\"\n",
        "        x_data = self._x_data[\"input_ids\"][idx]\n",
        "        mask = self._x_data[\"attention_mask\"][idx]\n",
        "        \n",
        "        if self.max_len != 512:\n",
        "            x_data = x_data[:self.max_len]\n",
        "            x_data[-1] = BERT_SEP\n",
        "\n",
        "            mask = mask[:self.max_len]\n",
        "\n",
        "\n",
        "        return x_data, mask, self._y_data[idx]"
      ]
    },
    {
      "cell_type": "code",
      "execution_count": 17,
      "metadata": {},
      "outputs": [],
      "source": [
        "datasets = {}\n",
        "\n",
        "xs = [x_train, x_valid, x_test]\n",
        "ys = [y_train, y_valid, y_test]\n",
        "names = [\"train\", \"val\", \"test\"]\n",
        "\n",
        "for i in range(3):\n",
        "    dataset = IMDB_Dataset(xs[i], ys[i], tokenizer)\n",
        "    datasets[names[i]] = dataset"
      ]
    },
    {
      "cell_type": "markdown",
      "metadata": {},
      "source": [
        "Para evitar precisamos realizar várias vezes a tokenização durante o desenvolvimento, podemos serializar o dataset para posteriormente deserializá-lo:"
      ]
    },
    {
      "cell_type": "code",
      "execution_count": 18,
      "metadata": {},
      "outputs": [],
      "source": [
        "file_name = \"datasets.bin\"\n",
        "with open(file_name, \"wb\") as file:\n",
        "    pickle.dump(datasets, file)"
      ]
    },
    {
      "cell_type": "code",
      "execution_count": 7,
      "metadata": {},
      "outputs": [],
      "source": [
        "file_name = \"datasets.bin\"\n",
        "\n",
        "with open(file_name, \"rb\") as file:\n",
        "    datasets = pickle.load(file)"
      ]
    },
    {
      "cell_type": "markdown",
      "metadata": {},
      "source": [
        "E defimos uma função para criar os dataloaders a partir dos ddatasets e batch size:"
      ]
    },
    {
      "cell_type": "code",
      "execution_count": 8,
      "metadata": {},
      "outputs": [],
      "source": [
        "def create_dataloaders(datasets:Dict[str, Dataset], batch_size:int) -> Dict[str, DataLoader]:\n",
        "    '''\n",
        "    Generate dataloaders from datasets.\n",
        "\n",
        "    Args:\n",
        "        datasets (Dict[str, Dataset]): named datasets.\n",
        "        batch_size (int): batch sizes.\n",
        "\n",
        "    Returns:\n",
        "        Dict[str, DataLoader]: dataloaders for the datasets.\n",
        "    '''\n",
        "\n",
        "\n",
        "    dataloaders = {}\n",
        "\n",
        "    for name in datasets:\n",
        "        dataloaders[name] = DataLoader(datasets[name], batch_size=batch_size, shuffle=True)\n",
        "    \n",
        "    return dataloaders"
      ]
    },
    {
      "cell_type": "markdown",
      "metadata": {},
      "source": [
        "E uma função para alterar o tamanho das sequências que serão geradas:"
      ]
    },
    {
      "cell_type": "code",
      "execution_count": 9,
      "metadata": {},
      "outputs": [],
      "source": [
        "def set_max_len(datasets:Dict[str, IMDB_Dataset], max_len):\n",
        "    for name in datasets:\n",
        "        datasets[name].max_len = max_len"
      ]
    },
    {
      "cell_type": "markdown",
      "metadata": {},
      "source": [
        "## Preparação do modelo"
      ]
    },
    {
      "cell_type": "markdown",
      "metadata": {},
      "source": [
        "Prepamos o modelo a ser utilizado, que é um modelo BERT com uma camada adicional para realizar a classificação, que recebe como entrada o embedding final relacionado ao token CLS:"
      ]
    },
    {
      "cell_type": "code",
      "execution_count": 10,
      "metadata": {},
      "outputs": [],
      "source": [
        "class BinaryClassifierBERT(torch.nn.Module):\n",
        "    '''\n",
        "    Classifier model using BERT.\n",
        "    '''\n",
        "\n",
        "    def __init__(self, dropout_rate:float=0) -> None:\n",
        "        '''\n",
        "        Model constructor.\n",
        "\n",
        "        Args:\n",
        "            dropout_rate (float, optional): Dropout before the final layer. Defaults to 0.\n",
        "        '''\n",
        "        super().__init__()\n",
        "        \n",
        "        self.bert = torch.hub.load('huggingface/pytorch-transformers', 'model', 'distilbert-base-cased')\n",
        "        \n",
        "        self.dropout = torch.nn.Dropout(dropout_rate)\n",
        "        self.linear = torch.nn.Linear(768, 1)\n",
        "\n",
        "    def forward(self, input_ids:torch.Tensor, attention_masks:Optional[torch.Tensor]=None) -> torch.Tensor:\n",
        "        '''\n",
        "        Computes the classification for the input.\n",
        "\n",
        "        Args:\n",
        "            input_ids (torch.Tensor): tokenized input.\n",
        "            attention_masks (torch.Tensor, optional): attention mask of the input. Defaults to None.\n",
        "\n",
        "        Returns:\n",
        "            torch.Tensor: inference result.\n",
        "        '''\n",
        "        \n",
        "        bert_output = self.bert(input_ids=input_ids, attention_mask=attention_masks)\n",
        "        c_vector = bert_output.last_hidden_state[:, 0]\n",
        "\n",
        "        y = self.dropout(c_vector)\n",
        "        y = self.linear(y)\n",
        "\n",
        "        return y"
      ]
    },
    {
      "cell_type": "markdown",
      "metadata": {},
      "source": [
        "## Treino"
      ]
    },
    {
      "cell_type": "markdown",
      "metadata": {},
      "source": [
        "Nesta seção iremos realizar o treino, iniciando pela definição de algumas funções auxiliares."
      ]
    },
    {
      "cell_type": "markdown",
      "metadata": {},
      "source": [
        "### Funções auxiliares\n",
        "\n",
        "Iremos definir três funções auxiliares: uma para calcular a perplexidade a partir da loss, outra para printar informações e uma final para calcular a loss:"
      ]
    },
    {
      "cell_type": "code",
      "execution_count": 11,
      "metadata": {},
      "outputs": [],
      "source": [
        "def ppl(loss:torch.Tensor) -> torch.Tensor:\n",
        "    \"\"\"\n",
        "    Computes the perplexity from the loss.\n",
        "\n",
        "    Args:\n",
        "        loss (torch.Tensor): loss to compute the perplexity.\n",
        "\n",
        "    Returns:\n",
        "        torch.Tensor: corresponding perplexity.\n",
        "    \"\"\"\n",
        "    return torch.exp(loss)"
      ]
    },
    {
      "cell_type": "code",
      "execution_count": 12,
      "metadata": {},
      "outputs": [],
      "source": [
        "def print_info(loss_value:torch.Tensor, epoch:int, total_epochs:int, \n",
        "               time:float=0.0, accuracy:Optional[float]=None):\n",
        "    \"\"\"\n",
        "    Prints the information of a epoch.\n",
        "\n",
        "    Args:\n",
        "        loss_value (torch.Tensor): epoch loss.\n",
        "        epoch (int): epoch number.\n",
        "        total_epochs (int): total number of epochs. \n",
        "        time (float, optional): time to run the epoch. Don't print if is 0.0. Defaults to 0.0.\n",
        "        accuracy (float, optional): epoch accuracy.\n",
        "    \"\"\"\n",
        "    ppl_value = ppl(loss_value)\n",
        "\n",
        "    \n",
        "    print(f'Epoch [{epoch+1}/{total_epochs}], \\\n",
        "            Loss: {loss_value.item():.4f}, \\\n",
        "            Perplexity: {ppl_value.item():.4f}', end=\"\")\n",
        "    \n",
        "    if accuracy is not None:\n",
        "        print(f', Accuracy: {100*accuracy:.4f}%')\n",
        "\n",
        "    if time != 0:\n",
        "        print(f\", Elapsed Time: {time:.2f} sec\")    \n",
        "    else:\n",
        "        print(\"\")"
      ]
    },
    {
      "cell_type": "code",
      "execution_count": 13,
      "metadata": {},
      "outputs": [],
      "source": [
        "MODE_TRAIN = 0\n",
        "MODE_EVALUATE = 1"
      ]
    },
    {
      "cell_type": "code",
      "execution_count": 14,
      "metadata": {},
      "outputs": [],
      "source": [
        "def compute_loss(model:torch.nn.Module, loader:DataLoader, \n",
        "                 criterion:torch.nn.Module, mode:int = MODE_EVALUATE, \n",
        "                 optimizer:Optional[torch.optim.Optimizer]=None) -> Tuple[torch.Tensor, torch.Tensor]:\n",
        "    \"\"\"\n",
        "    Computes the loss from a model across a dataset.\n",
        "\n",
        "    If in train mode also runs optimizer steps.\n",
        "\n",
        "    Args:\n",
        "        model (torch.nn.Module): model to evaluate.\n",
        "        loader (DataLoader): dataset.\n",
        "        criterion (torch.nn.Module): loss function to compute.\n",
        "        mode (int): mode of the computation. \n",
        "                    If MODE_EVALUATE, computes without gradient, in eval mode and detachs loss.\n",
        "                    If MODE_TRAIN, computes with gradient and in train mode.\n",
        "                    Default is MODE_EVALUATE.\n",
        "        optimizer (torch.optim.Optimizer, optional): optimizer to use in the train mode.\n",
        "\n",
        "    Returns:\n",
        "        torch.Tensor: resulting loss.\n",
        "        torch.Tensor: resulting accuracy\n",
        "    \"\"\"\n",
        "    device = next(iter(model.parameters())).device\n",
        "\n",
        "    if mode == MODE_EVALUATE:\n",
        "        model.eval()\n",
        "        torch.set_grad_enabled(False)\n",
        "    elif mode == MODE_TRAIN:\n",
        "        model.train()\n",
        "        torch.set_grad_enabled(True)\n",
        "    else:\n",
        "        raise ValueError(f\"Unknown mode: {mode}.\")\n",
        "\n",
        "    total_loss = torch.tensor(0, dtype=torch.float32, device=device)\n",
        "    correct = torch.tensor(0, dtype=torch.float32, device=device)\n",
        "    n = 0\n",
        "    for inputs, masks, targets in tqdm.tqdm(loader):\n",
        "        inputs = inputs.to(device)\n",
        "        masks = masks.to(device)\n",
        "\n",
        "        targets = targets.reshape(-1)\n",
        "        targets = targets.to(device)\n",
        "        \n",
        "        logits = model(inputs, masks)\n",
        "        logits = logits.view(-1, logits.shape[-1])\n",
        "\n",
        "        loss = criterion(logits.squeeze(), targets)\n",
        "        total_loss += loss*targets.size(0)\n",
        "        \n",
        "        predicted = torch.round(torch.sigmoid(logits.squeeze()))\n",
        "        correct += (predicted == targets).sum().item()\n",
        "\n",
        "        n += targets.size(0)\n",
        "\n",
        "        if mode == MODE_TRAIN:\n",
        "            optimizer.zero_grad()\n",
        "            loss.backward()\n",
        "            optimizer.step()\n",
        "\n",
        "    total_loss /= n \n",
        "    accuracy = correct / n\n",
        "    \n",
        "    torch.set_grad_enabled(True)\n",
        "\n",
        "    accuracy = accuracy.detach()\n",
        "    total_loss = total_loss.detach()\n",
        "\n",
        "    return total_loss, accuracy\n"
      ]
    },
    {
      "cell_type": "markdown",
      "metadata": {},
      "source": [
        "### Inicialização\n",
        "\n",
        "Começamos o processo de treino inicializando as variáveis."
      ]
    },
    {
      "cell_type": "markdown",
      "metadata": {},
      "source": [
        "Definimos se será realizado o logging utilizando o wandb:"
      ]
    },
    {
      "cell_type": "code",
      "execution_count": 15,
      "metadata": {},
      "outputs": [],
      "source": [
        "use_wandb = True"
      ]
    },
    {
      "cell_type": "markdown",
      "metadata": {},
      "source": [
        "Checamos se existe uma GPU disponível:"
      ]
    },
    {
      "cell_type": "code",
      "execution_count": 16,
      "metadata": {},
      "outputs": [
        {
          "data": {
            "text/plain": [
              "device(type='cuda')"
            ]
          },
          "execution_count": 16,
          "metadata": {},
          "output_type": "execute_result"
        }
      ],
      "source": [
        "# Verifica se há uma GPU disponível e define o dispositivo para GPU se possível, caso contrário, usa a CPU\n",
        "device = torch.device('cuda' if torch.cuda.is_available() else 'cpu')\n",
        "device"
      ]
    },
    {
      "cell_type": "markdown",
      "metadata": {},
      "source": [
        "Definimos os parâmetros de treino:"
      ]
    },
    {
      "cell_type": "code",
      "execution_count": 17,
      "metadata": {},
      "outputs": [
        {
          "name": "stderr",
          "output_type": "stream",
          "text": [
            "Failed to detect the name of this notebook, you can set it manually with the WANDB_NOTEBOOK_NAME environment variable to enable code saving.\n",
            "\u001b[34m\u001b[1mwandb\u001b[0m: Currently logged in as: \u001b[33meltoncn\u001b[0m. Use \u001b[1m`wandb login --relogin`\u001b[0m to force relogin\n"
          ]
        },
        {
          "data": {
            "text/html": [
              "wandb version 0.16.6 is available!  To upgrade, please run:\n",
              " $ pip install wandb --upgrade"
            ],
            "text/plain": [
              "<IPython.core.display.HTML object>"
            ]
          },
          "metadata": {},
          "output_type": "display_data"
        },
        {
          "data": {
            "text/html": [
              "Tracking run with wandb version 0.15.8"
            ],
            "text/plain": [
              "<IPython.core.display.HTML object>"
            ]
          },
          "metadata": {},
          "output_type": "display_data"
        },
        {
          "data": {
            "text/html": [
              "Run data is saved locally in <code>d:\\Github\\IA024\\05-BERT\\wandb\\run-20240408_205318-dc0slg44</code>"
            ],
            "text/plain": [
              "<IPython.core.display.HTML object>"
            ]
          },
          "metadata": {},
          "output_type": "display_data"
        },
        {
          "data": {
            "text/html": [
              "Syncing run <strong><a href='https://wandb.ai/eltoncn/IA024-04-BERT_IMDB/runs/dc0slg44' target=\"_blank\">worldly-darkness-8</a></strong> to <a href='https://wandb.ai/eltoncn/IA024-04-BERT_IMDB' target=\"_blank\">Weights & Biases</a> (<a href='https://wandb.me/run' target=\"_blank\">docs</a>)<br/>"
            ],
            "text/plain": [
              "<IPython.core.display.HTML object>"
            ]
          },
          "metadata": {},
          "output_type": "display_data"
        },
        {
          "data": {
            "text/html": [
              " View project at <a href='https://wandb.ai/eltoncn/IA024-04-BERT_IMDB' target=\"_blank\">https://wandb.ai/eltoncn/IA024-04-BERT_IMDB</a>"
            ],
            "text/plain": [
              "<IPython.core.display.HTML object>"
            ]
          },
          "metadata": {},
          "output_type": "display_data"
        },
        {
          "data": {
            "text/html": [
              " View run at <a href='https://wandb.ai/eltoncn/IA024-04-BERT_IMDB/runs/dc0slg44' target=\"_blank\">https://wandb.ai/eltoncn/IA024-04-BERT_IMDB/runs/dc0slg44</a>"
            ],
            "text/plain": [
              "<IPython.core.display.HTML object>"
            ]
          },
          "metadata": {},
          "output_type": "display_data"
        }
      ],
      "source": [
        "batch_size = 32\n",
        "dropout_rate = 0.1\n",
        "lr = 2.5e-5\n",
        "n_epoch = 5\n",
        "optimizer_class = torch.optim.Adam\n",
        "seq_len = 256\n",
        "weight_decay = 0\n",
        "\n",
        "config = {\n",
        "    \"batch_size\": batch_size,\n",
        "    \"dropout_rate\": dropout_rate,\n",
        "    \"lr\": lr,\n",
        "    \"n_epoch\": n_epoch,\n",
        "    \"optimizer_class\": optimizer_class.__name__,\n",
        "    \"seq_len\" : seq_len,\n",
        "    \"weight_decay\": weight_decay,\n",
        "}\n",
        "\n",
        "if use_wandb:\n",
        "    run = wandb.init(project=\"IA024-04-BERT_IMDB\", config=config)\n",
        "    run_name = run.name\n",
        "    run_id = run.id\n",
        "    model_name = f\"{run_name}-{run_id}.bin\"\n",
        "else:\n",
        "    #get random name using config\n",
        "    seed = 0\n",
        "    for name in config:\n",
        "        if isinstance(config[name], int) or isinstance(config[name], float):\n",
        "            seed += config[name]\n",
        "        else:\n",
        "            for c in config[name]:\n",
        "                seed += ord(c)\n",
        "\n",
        "    reset_seeds(seed)\n",
        "    model_name = ''.join(random.choice(string.ascii_uppercase + string.digits) for _ in range(5))"
      ]
    },
    {
      "cell_type": "markdown",
      "metadata": {},
      "source": [
        "Reiniciamos as sementes:"
      ]
    },
    {
      "cell_type": "code",
      "execution_count": 18,
      "metadata": {},
      "outputs": [],
      "source": [
        "reset_seeds()"
      ]
    },
    {
      "cell_type": "markdown",
      "metadata": {},
      "source": [
        "Criamos o modelo, loss, otimizador e dataloaders:"
      ]
    },
    {
      "cell_type": "code",
      "execution_count": 19,
      "metadata": {},
      "outputs": [
        {
          "name": "stderr",
          "output_type": "stream",
          "text": [
            "Using cache found in C:\\Users\\eltsu/.cache\\torch\\hub\\huggingface_pytorch-transformers_main\n"
          ]
        }
      ],
      "source": [
        "model = BinaryClassifierBERT(dropout_rate)\n",
        "model.to(device, dtype=torch.bfloat16)\n",
        "\n",
        "criterion = torch.nn.BCEWithLogitsLoss()\n",
        "optimizer = optimizer_class(model.parameters(), lr=lr, weight_decay=weight_decay)\n",
        "\n",
        "set_max_len(datasets, seq_len)\n",
        "dataloaders = create_dataloaders(datasets, batch_size)"
      ]
    },
    {
      "cell_type": "markdown",
      "metadata": {},
      "source": [
        "### Treino"
      ]
    },
    {
      "cell_type": "markdown",
      "metadata": {},
      "source": [
        "E finalmente podemos realizar o processo de treino em si:"
      ]
    },
    {
      "cell_type": "code",
      "execution_count": 20,
      "metadata": {},
      "outputs": [
        {
          "name": "stderr",
          "output_type": "stream",
          "text": [
            "  0%|          | 0/157 [00:00<?, ?it/s]"
          ]
        },
        {
          "name": "stderr",
          "output_type": "stream",
          "text": [
            "100%|██████████| 157/157 [00:43<00:00,  3.60it/s]"
          ]
        },
        {
          "name": "stdout",
          "output_type": "stream",
          "text": [
            "Epoch [0/5],             Loss: 0.7202,             Perplexity: 2.0548, Accuracy: 49.4600%\n",
            "\n"
          ]
        },
        {
          "name": "stderr",
          "output_type": "stream",
          "text": [
            "\n"
          ]
        }
      ],
      "source": [
        "#Informações antes da primeira epoch\n",
        "prev_loss, prev_accuracy = compute_loss(model, dataloaders[\"val\"], criterion, MODE_EVALUATE)\n",
        "print_info(prev_loss, -1, n_epoch, 0, prev_accuracy)"
      ]
    },
    {
      "cell_type": "code",
      "execution_count": 21,
      "metadata": {},
      "outputs": [
        {
          "name": "stderr",
          "output_type": "stream",
          "text": [
            "  0%|          | 0/625 [00:00<?, ?it/s]"
          ]
        },
        {
          "name": "stderr",
          "output_type": "stream",
          "text": [
            "100%|██████████| 625/625 [08:10<00:00,  1.28it/s]\n"
          ]
        },
        {
          "name": "stdout",
          "output_type": "stream",
          "text": [
            "Epoch [1/5],             Loss: 0.3762,             Perplexity: 1.4568, Accuracy: 82.5050%\n",
            ", Elapsed Time: 490.46 sec\n"
          ]
        },
        {
          "name": "stderr",
          "output_type": "stream",
          "text": [
            "100%|██████████| 157/157 [00:41<00:00,  3.78it/s]\n"
          ]
        },
        {
          "name": "stdout",
          "output_type": "stream",
          "text": [
            "VAL Epoch [1/5],             Loss: 0.2958,             Perplexity: 1.3443, Accuracy: 87.7400%\n",
            "\n"
          ]
        },
        {
          "name": "stderr",
          "output_type": "stream",
          "text": [
            "100%|██████████| 625/625 [08:03<00:00,  1.29it/s]\n"
          ]
        },
        {
          "name": "stdout",
          "output_type": "stream",
          "text": [
            "Epoch [2/5],             Loss: 0.2708,             Perplexity: 1.3109, Accuracy: 88.9000%\n",
            ", Elapsed Time: 483.77 sec\n"
          ]
        },
        {
          "name": "stderr",
          "output_type": "stream",
          "text": [
            "100%|██████████| 157/157 [00:41<00:00,  3.80it/s]\n"
          ]
        },
        {
          "name": "stdout",
          "output_type": "stream",
          "text": [
            "VAL Epoch [2/5],             Loss: 0.2811,             Perplexity: 1.3246, Accuracy: 88.4000%\n",
            "\n"
          ]
        },
        {
          "name": "stderr",
          "output_type": "stream",
          "text": [
            "100%|██████████| 625/625 [07:57<00:00,  1.31it/s]\n"
          ]
        },
        {
          "name": "stdout",
          "output_type": "stream",
          "text": [
            "Epoch [3/5],             Loss: 0.2473,             Perplexity: 1.2805, Accuracy: 89.9900%\n",
            ", Elapsed Time: 477.57 sec\n"
          ]
        },
        {
          "name": "stderr",
          "output_type": "stream",
          "text": [
            "100%|██████████| 157/157 [00:41<00:00,  3.79it/s]\n"
          ]
        },
        {
          "name": "stdout",
          "output_type": "stream",
          "text": [
            "VAL Epoch [3/5],             Loss: 0.2718,             Perplexity: 1.3123, Accuracy: 88.8800%\n",
            "\n"
          ]
        },
        {
          "name": "stderr",
          "output_type": "stream",
          "text": [
            "100%|██████████| 625/625 [08:03<00:00,  1.29it/s]\n"
          ]
        },
        {
          "name": "stdout",
          "output_type": "stream",
          "text": [
            "Epoch [4/5],             Loss: 0.2264,             Perplexity: 1.2540, Accuracy: 91.0150%\n",
            ", Elapsed Time: 483.53 sec\n"
          ]
        },
        {
          "name": "stderr",
          "output_type": "stream",
          "text": [
            "100%|██████████| 157/157 [00:42<00:00,  3.66it/s]\n"
          ]
        },
        {
          "name": "stdout",
          "output_type": "stream",
          "text": [
            "VAL Epoch [4/5],             Loss: 0.2757,             Perplexity: 1.3174, Accuracy: 89.1200%\n",
            "\n"
          ]
        },
        {
          "name": "stderr",
          "output_type": "stream",
          "text": [
            "100%|██████████| 625/625 [07:58<00:00,  1.31it/s]\n"
          ]
        },
        {
          "name": "stdout",
          "output_type": "stream",
          "text": [
            "Epoch [5/5],             Loss: 0.2103,             Perplexity: 1.2340, Accuracy: 91.8200%\n",
            ", Elapsed Time: 478.51 sec\n"
          ]
        },
        {
          "name": "stderr",
          "output_type": "stream",
          "text": [
            "100%|██████████| 157/157 [00:42<00:00,  3.68it/s]"
          ]
        },
        {
          "name": "stdout",
          "output_type": "stream",
          "text": [
            "VAL Epoch [5/5],             Loss: 0.2694,             Perplexity: 1.3092, Accuracy: 89.3800%\n",
            "\n"
          ]
        },
        {
          "name": "stderr",
          "output_type": "stream",
          "text": [
            "\n"
          ]
        },
        {
          "data": {
            "text/html": [
              "Waiting for W&B process to finish... <strong style=\"color:green\">(success).</strong>"
            ],
            "text/plain": [
              "<IPython.core.display.HTML object>"
            ]
          },
          "metadata": {},
          "output_type": "display_data"
        },
        {
          "data": {
            "text/html": [
              "<style>\n",
              "    table.wandb td:nth-child(1) { padding: 0 10px; text-align: left ; width: auto;} td:nth-child(2) {text-align: left ; width: 100%}\n",
              "    .wandb-row { display: flex; flex-direction: row; flex-wrap: wrap; justify-content: flex-start; width: 100% }\n",
              "    .wandb-col { display: flex; flex-direction: column; flex-basis: 100%; flex: 1; padding: 10px; }\n",
              "    </style>\n",
              "<div class=\"wandb-row\"><div class=\"wandb-col\"><h3>Run history:</h3><br/><table class=\"wandb\"><tr><td>accuracy_train</td><td>▁▆▇▇█</td></tr><tr><td>accuracy_val</td><td>▁▄▆▇█</td></tr><tr><td>loss_train</td><td>█▄▃▂▁</td></tr><tr><td>loss_val</td><td>█▄▂▃▁</td></tr><tr><td>ppl_train</td><td>█▃▂▂▁</td></tr><tr><td>ppl_val</td><td>█▄▂▃▁</td></tr></table><br/></div><div class=\"wandb-col\"><h3>Run summary:</h3><br/><table class=\"wandb\"><tr><td>accuracy_train</td><td>0.9182</td></tr><tr><td>accuracy_val</td><td>0.8938</td></tr><tr><td>loss_train</td><td>0.21027</td></tr><tr><td>loss_val</td><td>0.26939</td></tr><tr><td>ppl_train</td><td>1.23401</td></tr><tr><td>ppl_val</td><td>1.30917</td></tr></table><br/></div></div>"
            ],
            "text/plain": [
              "<IPython.core.display.HTML object>"
            ]
          },
          "metadata": {},
          "output_type": "display_data"
        },
        {
          "data": {
            "text/html": [
              " View run <strong style=\"color:#cdcd00\">worldly-darkness-8</strong> at: <a href='https://wandb.ai/eltoncn/IA024-04-BERT_IMDB/runs/dc0slg44' target=\"_blank\">https://wandb.ai/eltoncn/IA024-04-BERT_IMDB/runs/dc0slg44</a><br/>Synced 5 W&B file(s), 0 media file(s), 0 artifact file(s) and 0 other file(s)"
            ],
            "text/plain": [
              "<IPython.core.display.HTML object>"
            ]
          },
          "metadata": {},
          "output_type": "display_data"
        },
        {
          "data": {
            "text/html": [
              "Find logs at: <code>.\\wandb\\run-20240408_205318-dc0slg44\\logs</code>"
            ],
            "text/plain": [
              "<IPython.core.display.HTML object>"
            ]
          },
          "metadata": {},
          "output_type": "display_data"
        }
      ],
      "source": [
        "hist = {}\n",
        "hist[\"loss_train\"] = []\n",
        "hist[\"loss_val\"] = []\n",
        "hist[\"ppl_train\"] = []\n",
        "hist[\"ppl_val\"] = []\n",
        "hist[\"accuracy_train\"] = []\n",
        "hist[\"accuracy_val\"] = []\n",
        "\n",
        "for epoch in range(n_epoch):\n",
        "    start_time = time.time() \n",
        "\n",
        "    loss_train, accuracy_train = compute_loss(model, dataloaders[\"train\"], criterion, MODE_TRAIN, optimizer)\n",
        "\n",
        "    end_time = time.time() \n",
        "    \n",
        "    epoch_duration = end_time - start_time \n",
        "\n",
        "    ppl_train = ppl(loss_train)\n",
        "\n",
        "    print_info(loss_train, epoch, n_epoch, epoch_duration, accuracy_train)\n",
        "    \n",
        "    #Validation stats\n",
        "    loss_val, accuracy_val = compute_loss(model, dataloaders[\"val\"], criterion, MODE_EVALUATE)\n",
        "    ppl_val = ppl(loss_val)\n",
        "    \n",
        "    print(\"VAL \", end=\"\")\n",
        "    print_info(loss_val, epoch, n_epoch, accuracy=accuracy_val)\n",
        "\n",
        "    #Save history\n",
        "    hist[\"loss_train\"].append(loss_train.item())\n",
        "    hist[\"loss_val\"].append(loss_val.item())\n",
        "    hist[\"ppl_train\"].append(ppl_train.item())\n",
        "    hist[\"ppl_val\"].append(ppl_val.item())\n",
        "    hist[\"accuracy_train\"].append(accuracy_train.item())\n",
        "    hist[\"accuracy_val\"].append(accuracy_val.item())\n",
        "\n",
        "    log = {\n",
        "        \"loss_train\": loss_train.item(),\n",
        "        \"loss_val\": loss_val.item(),\n",
        "        \"ppl_train\": ppl_train.item(),\n",
        "        \"ppl_val\": ppl_val.item(),\n",
        "        \"accuracy_train\": accuracy_train.item(),\n",
        "        \"accuracy_val\": accuracy_val.item()\n",
        "    }\n",
        "\n",
        "    if use_wandb:\n",
        "        wandb.log(log)\n",
        "\n",
        "for key in hist:\n",
        "    hist[key] = np.array(hist[key])\n",
        "\n",
        "if use_wandb:\n",
        "    wandb.finish()"
      ]
    },
    {
      "cell_type": "markdown",
      "metadata": {},
      "source": [
        "Plotamos os gráficos das estatísticas obtidas durante o treinamento, onde podemos observar que o modelo consegui treinar corretamente, mas com overfitting:"
      ]
    },
    {
      "cell_type": "code",
      "execution_count": 22,
      "metadata": {},
      "outputs": [
        {
          "data": {
            "image/png": "[encoded data removed]",
            "text/plain": [
              "<Figure size 432x288 with 1 Axes>"
            ]
          },
          "metadata": {
            "needs_background": "light"
          },
          "output_type": "display_data"
        }
      ],
      "source": [
        "plt.plot(hist[\"loss_train\"], \"o-\")\n",
        "plt.plot(hist[\"loss_val\"], \"o-\")\n",
        "\n",
        "plt.legend([\"Train\", \"Val\"])\n",
        "plt.xlabel(\"Epoch\")\n",
        "plt.ylabel(\"Loss\")\n",
        "plt.title(\"Loss history\")\n",
        "\n",
        "plt.show()"
      ]
    },
    {
      "cell_type": "code",
      "execution_count": 23,
      "metadata": {},
      "outputs": [
        {
          "data": {
            "image/png": "[encoded data removed]",
            "text/plain": [
              "<Figure size 432x288 with 1 Axes>"
            ]
          },
          "metadata": {
            "needs_background": "light"
          },
          "output_type": "display_data"
        }
      ],
      "source": [
        "plt.plot(hist[\"ppl_train\"], \"o-\")\n",
        "plt.plot(hist[\"ppl_val\"], \"o-\")\n",
        "\n",
        "plt.legend([\"Train\", \"Val\"])\n",
        "plt.xlabel(\"Epoch\")\n",
        "plt.ylabel(\"PPL\")\n",
        "plt.title(\"Perplexity history\")\n",
        "\n",
        "plt.show()"
      ]
    },
    {
      "cell_type": "code",
      "execution_count": 24,
      "metadata": {},
      "outputs": [
        {
          "data": {
            "image/png": "[encoded data removed]",
            "text/plain": [
              "<Figure size 432x288 with 1 Axes>"
            ]
          },
          "metadata": {
            "needs_background": "light"
          },
          "output_type": "display_data"
        }
      ],
      "source": [
        "plt.plot(hist[\"accuracy_train\"], \"o-\")\n",
        "plt.plot(hist[\"accuracy_val\"], \"o-\")\n",
        "\n",
        "plt.legend([\"Train\", \"Val\"])\n",
        "plt.xlabel(\"Epoch\")\n",
        "plt.ylabel(\"Accuracy\")\n",
        "plt.title(\"Accuracy history\")\n",
        "\n",
        "plt.show()"
      ]
    },
    {
      "cell_type": "markdown",
      "metadata": {},
      "source": [
        "E podemos por fim salvar o modelo para uso posterior:"
      ]
    },
    {
      "cell_type": "code",
      "execution_count": 30,
      "metadata": {},
      "outputs": [],
      "source": [
        "torch.save(model, model_name)"
      ]
    },
    {
      "cell_type": "markdown",
      "metadata": {},
      "source": [
        "## Avaliação\n",
        "\n",
        "Para avaliação começamos calculando as estatísticas no dataset de teste:"
      ]
    },
    {
      "cell_type": "code",
      "execution_count": 47,
      "metadata": {},
      "outputs": [
        {
          "name": "stderr",
          "output_type": "stream",
          "text": [
            "100%|██████████| 782/782 [03:19<00:00,  3.93it/s]\n"
          ]
        },
        {
          "data": {
            "text/plain": [
              "(0.2559235394001007, 1.2916539907455444, 0.8965599536895752)"
            ]
          },
          "execution_count": 47,
          "metadata": {},
          "output_type": "execute_result"
        }
      ],
      "source": [
        "test_loss, test_accuracy = compute_loss(model, dataloaders[\"test\"], criterion, mode=MODE_EVALUATE)\n",
        "test_ppl = ppl(test_loss)\n",
        "\n",
        "test_loss.item(), test_ppl.item(), test_accuracy.item()"
      ]
    },
    {
      "cell_type": "markdown",
      "metadata": {},
      "source": [
        "Calculamos quantos pesos adicionais foram necessários:"
      ]
    },
    {
      "cell_type": "code",
      "execution_count": 50,
      "metadata": {},
      "outputs": [
        {
          "data": {
            "text/plain": [
              "(769, 1.1796122747906947e-05)"
            ]
          },
          "execution_count": 50,
          "metadata": {},
          "output_type": "execute_result"
        }
      ],
      "source": [
        "n_param_bert = sum([p.numel() for p in model.bert.parameters()])\n",
        "\n",
        "n_param = sum([p.numel() for p in model.parameters()])\n",
        "n_param-n_param_bert, (n_param-n_param_bert)/n_param_bert"
      ]
    },
    {
      "cell_type": "markdown",
      "metadata": {},
      "source": [
        "E verificamos qualitativamente a saída do modelo:"
      ]
    },
    {
      "cell_type": "code",
      "execution_count": 37,
      "metadata": {},
      "outputs": [
        {
          "name": "stdout",
          "output_type": "stream",
          "text": [
            "Result: -3.0\n",
            "Is this a good movie? False\n"
          ]
        }
      ],
      "source": [
        "tokens = tokenizer('''This must be gambling debt. Because only when someone threatens to break your legs \n",
        "                      if you don't pay will you go and agree to make a film like this.''', \n",
        "                    return_tensors=\"pt\",\n",
        "                    return_token_type_ids=False,\n",
        "                    truncation=True,)\n",
        "\n",
        "with torch.no_grad():\n",
        "    logits = model(tokens[\"input_ids\"].to(device), tokens[\"attention_mask\"].to(device))\n",
        "\n",
        "print(\"Result:\", logits.item())\n",
        "print(f\"Is this a good movie? {torch.round(logits).item() == GOOD_MOVIE}\")"
      ]
    },
    {
      "cell_type": "markdown",
      "metadata": {},
      "source": [
        "Podemos observar que ele realizou corretamente a classificação"
      ]
    }
  ],
  "metadata": {
    "accelerator": "GPU",
    "colab": {
      "provenance": []
    },
    "kernelspec": {
      "display_name": "Python 3",
      "name": "python3"
    },
    "language_info": {
      "codemirror_mode": {
        "name": "ipython",
        "version": 3
      },
      "file_extension": ".py",
      "mimetype": "text/x-python",
      "name": "python",
      "nbconvert_exporter": "python",
      "pygments_lexer": "ipython3",
      "version": "3.8.5"
    }
  },
  "nbformat": 4,
  "nbformat_minor": 0
}
