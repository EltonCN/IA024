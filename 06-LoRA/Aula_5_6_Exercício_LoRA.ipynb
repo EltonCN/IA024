{
 "cells": [
  {
   "cell_type": "markdown",
   "metadata": {},
   "source": [
    "# Exercício: LoRA\n",
    "\n",
    "> - Exercício didático para entender a técnica de fazer ajuste fino em modelos grandes usando poucos recursos\n",
    "> - Aplicar no pré exercício de análise de sentimento ou no segundo exercício, e modelo de linguagem, com vocabulário de 3000 palavras, embedding size e 2 camadas, treinados da forma usual (medir tempo de treinamento/época)\n",
    "> - Modificar o seu modelo para adotar a técnica do LoRA no embedding e nas 2 camadas, e fazer o ajuste-fino, isto é, continuar o treinamento anterior, lembrando que as matrizes originais ficarão congeladas e o ajuste dos pesos serão apenas aplicados nas matrizes do LoRA. Medir o tempo de treinamento/época.\n",
    "> - Por último, substituir o modelo original, com os novos pesos calculados pelo W + LoRA.\n",
    "> \n",
    "> O que é esperado de aprendizado com LoRA:\n",
    "> \n",
    "> - Modificar o modelo para incluir a soma das duas matrizes do LoRA\n",
    "> - Congelar parte do modelo para poder avançar no treino com a mesma tarefa, porém utilizando apenas as matrizes do LoRA, com bem menos pesos e consequentemente mais rápido\n",
    "> - Atualizar o modelo original com o resultado do treino continuado pelo LoRA\n",
    "> \n",
    "> O enunciado é flexível e os objetivos estão acima. A implementação pode ser feita na mesma classe, com um parâmetro que indica se vai usar ou não as matrizes LoRA."
   ]
  },
  {
   "cell_type": "markdown",
   "metadata": {},
   "source": [
    "Iremos começar importando os módulos que serão utilizados na atividade:"
   ]
  },
  {
   "cell_type": "code",
   "execution_count": 6,
   "metadata": {},
   "outputs": [],
   "source": [
    "import string # Manipular strings\n",
    "from collections import Counter # Fazer contagem de elementos\n",
    "import random # Operações randômicas\n",
    "import os # Manipular arquivos\n",
    "import time # Medição de tempo\n",
    "import abc # Classes abstratas\n",
    "import itertools # Iterators\n",
    "from typing import List, Dict, Union, Tuple, Optional # Type hints\n",
    "\n",
    "import numpy as np # Operações vetoriais\n",
    "from numpy.testing import assert_raises, assert_array_equal, assert_array_almost_equal # Testes\n",
    "from numpy.typing import ArrayLike # Type hints\n",
    "import tqdm # Print do progresso\n",
    "import torch # ML\n",
    "from torch.utils.data import Dataset, DataLoader # Preparação de dados\n",
    "import matplotlib.pyplot as plt # Plots\n",
    "import wandb # Logging"
   ]
  },
  {
   "cell_type": "markdown",
   "metadata": {},
   "source": [
    "E algumas funções auxiliares que serão utilizadas:"
   ]
  },
  {
   "cell_type": "code",
   "execution_count": 7,
   "metadata": {},
   "outputs": [],
   "source": [
    "def assert_array_not_equal(array1:ArrayLike, array2:ArrayLike) -> None:\n",
    "    \"\"\"\n",
    "    Raises an AssertionError if two array_like objects are equal.\n",
    "\n",
    "    Args:\n",
    "        array1 (ArrayLike): First array to check.\n",
    "        array2 (ArrayLike): Second array to check.\n",
    "    \"\"\"\n",
    "    assert_raises(AssertionError, assert_array_equal, array1, array2)"
   ]
  },
  {
   "cell_type": "code",
   "execution_count": 8,
   "metadata": {},
   "outputs": [],
   "source": [
    "def reset_seeds(seed:int=18) -> None:\n",
    "    \"\"\"\n",
    "    Resets the random generators from random and torch to a fixed seed.\n",
    "    \"\"\"\n",
    "    random.seed(seed)\n",
    "    torch.manual_seed(seed)"
   ]
  },
  {
   "cell_type": "markdown",
   "metadata": {},
   "source": [
    "## Preparação dos dados.\n",
    "\n",
    "Nesta seção serão definidas funções para preparar os dados para treino do modelo. Devido a necessidade de alterar os parâmetros constantemente durante os experimentos de treino, são definidas em funções as operações que são necessárias. Exemplos são executados para mostrar o funcionamento correto das operações."
   ]
  },
  {
   "cell_type": "markdown",
   "metadata": {},
   "source": [
    "### Faz download e carrega o dataset\n",
    "\n",
    "Nesta seção os dados serão transferidos, lidos e limpos.\n",
    "\n",
    "O primeiro passo é realizar o download dos dados:"
   ]
  },
  {
   "cell_type": "code",
   "execution_count": 9,
   "metadata": {},
   "outputs": [],
   "source": [
    "if not os.path.isfile(\"67724.txt.utf-8\"):\n",
    "    !curl -LO https://www.gutenberg.org/ebooks/67724.txt.utf-8\n",
    "\n",
    "if not os.path.isfile(\"67725.txt.utf-8\"):\n",
    "    !curl -LO https://www.gutenberg.org/ebooks/67725.txt.utf-8"
   ]
  },
  {
   "cell_type": "markdown",
   "metadata": {},
   "source": [
    "Seguido pela leitura:"
   ]
  },
  {
   "cell_type": "code",
   "execution_count": 10,
   "metadata": {},
   "outputs": [
    {
     "data": {
      "text/plain": [
       "4971"
      ]
     },
     "execution_count": 10,
     "metadata": {},
     "output_type": "execute_result"
    }
   ],
   "source": [
    "text = open(\"67724.txt.utf-8\",\"r\", encoding=\"utf8\").read()\n",
    "text += open(\"67725.txt.utf-8\",\"r\", encoding=\"utf8\").read()\n",
    "\n",
    "paragraphs = text.split(\"\\n\\n\")\n",
    "len(paragraphs)"
   ]
  },
  {
   "cell_type": "markdown",
   "metadata": {},
   "source": [
    "E limpeza dos dados.\n",
    "\n",
    "São realizadas as seguintes operações seguindo o paper \"A Neural Probabilistic Language Model\" (Bengio, 2003).\n",
    "\n",
    "\n",
    "- Pontuação: é mantida, porém separada do texto para permitir criação de símbolos próprios no vocabulário, e evitar a criação de várias símbolos representando as palavras com pontuação (\"pontuação\" -> \"pontuação\" + \",\" )\n",
    "- Número: convertidos para símbolo especial. No caso todos os números são convertidos para \"999\", para que convirjam para o mesmo símbolo no vocabulário\n",
    "- Letras maiúsculas: convertidas para minúsculas.\n",
    "- Nomes próprios: não são alterados devido a necessidade de serem identificados, diferente do paper.\n",
    "- Palavras raras: são removidas ao criar o vocabulário."
   ]
  },
  {
   "cell_type": "code",
   "execution_count": 11,
   "metadata": {},
   "outputs": [],
   "source": [
    "def clean_text(text:str) -> str:\n",
    "    '''\n",
    "    Clean the text, changing upper case and setting numbers to 999.\n",
    "    '''\n",
    "    \n",
    "    text = text.lower() # Upper Case -> lower case\n",
    "    \n",
    "    old_text = text.split()\n",
    "    new_text = []\n",
    "\n",
    "    for j in range(len(old_text)):\n",
    "        word = old_text[j] \n",
    "\n",
    "        if word.isdigit(): #Number -> 999\n",
    "            word = \"999\"\n",
    "        elif len(word) > 1 and word[0] in string.punctuation: # Ponctuation -> separate\n",
    "            old_text.insert(j+1, word[1:])\n",
    "            word = word[0]\n",
    "        elif word[-1] in string.punctuation and len(word) > 1: # Ponctuation -> separate\n",
    "            old_text.insert(j+1, word[:-1])\n",
    "            old_text.insert(j+2, word[-1])\n",
    "            \n",
    "            word = \"\"\n",
    "        \n",
    "        if len(word) > 0: # No empty words\n",
    "            new_text.append(word)\n",
    "    \n",
    "    return \" \".join(new_text)"
   ]
  },
  {
   "cell_type": "code",
   "execution_count": 12,
   "metadata": {},
   "outputs": [],
   "source": [
    "cleaned_paragraphs = [paragraph.replace(\"\\n\", \" \") for paragraph in paragraphs if paragraph.strip()] # Removes \\n\n",
    "\n",
    "for i in range(len(cleaned_paragraphs)):\n",
    "    cleaned_paragraphs[i] = clean_text(cleaned_paragraphs[i])\n"
   ]
  },
  {
   "cell_type": "markdown",
   "metadata": {},
   "source": [
    "Podemos ver um exemplo de parágrafo limpo do dataset, junto com a quantidade total de parágrafos obtidos:"
   ]
  },
  {
   "cell_type": "code",
   "execution_count": 13,
   "metadata": {},
   "outputs": [
    {
     "name": "stdout",
     "output_type": "stream",
     "text": [
      "SAMPLE ----------------\n",
      "﻿the project gutenberg ebook of o guarany : romance brazileiro , vol . 999 ( of 999 ) this ebook is for the use of anyone anywhere in the united states and most other parts of the world at no cost and with almost no restrictions whatsoever . you may copy it , give it away or re-use it under the terms of the project gutenberg license included with this ebook or online at www.gutenberg.org . if you are not located in the united states , you\n",
      "---------------------\n",
      "4892\n"
     ]
    }
   ],
   "source": [
    "print(\"SAMPLE ----------------\")\n",
    "print(cleaned_paragraphs[0])\n",
    "print(\"---------------------\")\n",
    "\n",
    "print(len(cleaned_paragraphs))"
   ]
  },
  {
   "cell_type": "markdown",
   "metadata": {},
   "source": [
    "### Análise do dataset"
   ]
  },
  {
   "cell_type": "code",
   "execution_count": 14,
   "metadata": {},
   "outputs": [
    {
     "data": {
      "text/plain": [
       "11470"
      ]
     },
     "execution_count": 14,
     "metadata": {},
     "output_type": "execute_result"
    }
   ],
   "source": [
    "def count_words(texts:List[str]) -> Counter:\n",
    "    \"\"\"\n",
    "    Counts the words in the texts.\n",
    "\n",
    "    Args:\n",
    "        texts (List[str]): List of strings with the texts.\n",
    "\n",
    "    Returns:\n",
    "        Counter: counter with the word count across all texts.\n",
    "    \"\"\"\n",
    "    \n",
    "    word_counts = Counter()\n",
    "    for text in texts:\n",
    "        word_counts.update(text.split(\" \"))\n",
    "    return word_counts\n",
    "\n",
    "word_counts = count_words(cleaned_paragraphs)\n",
    "\n",
    "len(word_counts)"
   ]
  },
  {
   "cell_type": "markdown",
   "metadata": {},
   "source": [
    "### Criando um vocabulário\n",
    "\n",
    "Com a contagem de palavras podemos definir uma função para criar um novo vocabulário:"
   ]
  },
  {
   "cell_type": "code",
   "execution_count": 15,
   "metadata": {},
   "outputs": [],
   "source": [
    "def create_vocab(word_counts:Counter, vocab_size:int) -> Tuple[Dict[str, int], List[str]]:\n",
    "    \"\"\"\n",
    "    Generates the vocabulary with the most frequent words.\n",
    "\n",
    "    Args:\n",
    "        word_counts (Counter): word count to generate vocabulary.\n",
    "        vocab_size (int): maximum size for the vocabulary.\n",
    "\n",
    "    Returns:\n",
    "        Dict[str, int]: vocabulary mapping words to codes.\n",
    "        List[str]: inverse vocabulary mapping codes to words.\n",
    "    \"\"\"\n",
    "\n",
    "\n",
    "    most_frequent_words = [word for word, count in word_counts.most_common(vocab_size)]\n",
    "    vocab = {word: i for i, word in enumerate(most_frequent_words, 1)}\n",
    "\n",
    "    inverse_vocab = list(vocab.keys())\n",
    "\n",
    "    return vocab, inverse_vocab"
   ]
  },
  {
   "cell_type": "markdown",
   "metadata": {},
   "source": [
    "E podemos executar um teste mostrando a geração de um vocabulário e suas primeiras 0 entradas:"
   ]
  },
  {
   "cell_type": "code",
   "execution_count": 16,
   "metadata": {},
   "outputs": [],
   "source": [
    "test_vocab_size = 1000\n",
    "test_vocab, test_inverse_vocab = create_vocab(word_counts, test_vocab_size)"
   ]
  },
  {
   "cell_type": "code",
   "execution_count": 17,
   "metadata": {},
   "outputs": [
    {
     "data": {
      "text/plain": [
       "[(',', 1),\n",
       " ('a', 2),\n",
       " ('que', 3),\n",
       " ('-', 4),\n",
       " ('o', 5),\n",
       " ('de', 6),\n",
       " ('e', 7),\n",
       " (';', 8),\n",
       " ('.', 9),\n",
       " ('um', 10)]"
      ]
     },
     "execution_count": 17,
     "metadata": {},
     "output_type": "execute_result"
    }
   ],
   "source": [
    "list(itertools.islice(test_vocab.items(), 10))"
   ]
  },
  {
   "cell_type": "markdown",
   "metadata": {},
   "source": [
    "É interessante observar que as palavras mais frequentes são acentuações, o que pode dificultar o aprendizado de sentenças significativas."
   ]
  },
  {
   "cell_type": "markdown",
   "metadata": {},
   "source": [
    "### Codificando e Decodificando sentenças\n",
    "\n",
    "Podemos utilizar as seguintes funções para codificar um texto e decodificá-lo:"
   ]
  },
  {
   "cell_type": "code",
   "execution_count": 18,
   "metadata": {},
   "outputs": [],
   "source": [
    "def encode_sentence(sentence:Union[str,List[str]], vocab:Dict) -> List[int]:\n",
    "    \"\"\"\n",
    "    Encodes a sentence using a vocabulary.\n",
    "\n",
    "    Args:\n",
    "        sentence (Union[str,List[str]]): sentence to encode. Or a string,\n",
    "            or the string already separated into words\n",
    "        vocab (Dict): vocabulary to encode. Maps words to codes.\n",
    "\n",
    "    Returns:\n",
    "        List[int]: the encoded sentence\n",
    "    \"\"\"\n",
    "    if isinstance(sentence, list):\n",
    "        words = sentence\n",
    "    else:\n",
    "        words = sentence.split(\" \")\n",
    "    \n",
    "    return [vocab.get(word, 0) for word in words]"
   ]
  },
  {
   "cell_type": "code",
   "execution_count": 19,
   "metadata": {},
   "outputs": [],
   "source": [
    "def decode_sentence(encoding:List[int], inverse_vocab:List[str]) -> List[str]:\n",
    "    \"\"\"\n",
    "    Decodes a sentence back to words.\n",
    "\n",
    "    Args:\n",
    "        encoding (List[int]): encoded sentence to decode.\n",
    "        inverse_vocab (List[str]): inverse vocabulary. Maps codes to words\n",
    "\n",
    "    Returns:\n",
    "        List[str]: decoded sentence. Unknown codes are decoded to '???' \n",
    "    \"\"\"\n",
    "    result = []\n",
    "\n",
    "    for encoding_i in encoding:\n",
    "        if encoding_i == 0:\n",
    "            result.append(\"???\")\n",
    "        else:\n",
    "            result.append(inverse_vocab[encoding_i-1])\n",
    "\n",
    "    return result"
   ]
  },
  {
   "cell_type": "markdown",
   "metadata": {},
   "source": [
    "### Separação e Classe do dataset\n",
    "\n",
    "Aqui iremos definir as sentenças a partir dos textos; divídi-las em treino, teste e valiadação; e criar a classe para carregar os dados durante os experimentos."
   ]
  },
  {
   "cell_type": "code",
   "execution_count": 20,
   "metadata": {},
   "outputs": [],
   "source": [
    "def create_sequences(texts:List[str], context_size:int, \n",
    "                     vocab:Dict) -> Tuple[List[List[int]], List[int]]:\n",
    "    \"\"\"\n",
    "    Creates sequences from the texts, with the target (word to predict), \n",
    "    using a fixed size and vocabulary.\n",
    "\n",
    "    Args:\n",
    "        texts (List[str]): texts to create sequences.\n",
    "        context_size (int): size of the sequences.\n",
    "        vocab (Dict): maps words to codes.\n",
    "\n",
    "    Returns:\n",
    "        List[List[int]]: created sequences. \n",
    "        List[int]]: created targets.\n",
    "    \"\"\"\n",
    "\n",
    "\n",
    "    x_all = []\n",
    "    y_all = []\n",
    "\n",
    "    for paragraph in texts:\n",
    "        start = 0\n",
    "        end = context_size\n",
    "\n",
    "        paragraph = encode_sentence(paragraph, vocab)\n",
    "\n",
    "        while end < len(paragraph):\n",
    "            x = paragraph[start:end]\n",
    "            y = paragraph[end]\n",
    "\n",
    "            if not ( 0 in x or 0 == y):\n",
    "                x_all.append(x)\n",
    "                y_all.append(y)\n",
    "\n",
    "            start += 1\n",
    "            end += 1\n",
    "            \n",
    "    x_all = np.array(x_all)\n",
    "    y_all = np.array(y_all)\n",
    "\n",
    "    return x_all, y_all"
   ]
  },
  {
   "cell_type": "markdown",
   "metadata": {},
   "source": [
    "Criamos um dataset de teste e validamos que as entradas e targets possuem o mesmo tamanho."
   ]
  },
  {
   "cell_type": "code",
   "execution_count": 21,
   "metadata": {},
   "outputs": [],
   "source": [
    "test_context_size = 10\n",
    "\n",
    "test_x_all, test_y_all = create_sequences(cleaned_paragraphs, test_context_size, test_vocab)"
   ]
  },
  {
   "cell_type": "code",
   "execution_count": 22,
   "metadata": {},
   "outputs": [],
   "source": [
    "assert len(test_x_all) == len(test_y_all)"
   ]
  },
  {
   "cell_type": "markdown",
   "metadata": {},
   "source": [
    "Para evitar viéses, definimos uma função para embaralhar o dataset:"
   ]
  },
  {
   "cell_type": "code",
   "execution_count": 23,
   "metadata": {},
   "outputs": [],
   "source": [
    "def shuffle_dataset(x:List, y:List) -> Tuple[List, List]:\n",
    "    \"\"\"\n",
    "    Shuffle the dataset.\n",
    "\n",
    "    Args:\n",
    "        x (List): dataset inputs.\n",
    "        y (List): dataset targets.\n",
    "\n",
    "    Returns:\n",
    "        List: shuffled inputs. \n",
    "        List: shuffled outputs.\n",
    "    \"\"\"\n",
    "\n",
    "    indexes = list(range(len(x)))\n",
    "    random.shuffle(indexes)\n",
    "\n",
    "    x = x[indexes]\n",
    "    y = y[indexes]\n",
    "\n",
    "    return x, y"
   ]
  },
  {
   "cell_type": "markdown",
   "metadata": {},
   "source": [
    "E separamos os dados em treino (60%), validação (20%) e teste (20%):"
   ]
  },
  {
   "cell_type": "code",
   "execution_count": 24,
   "metadata": {},
   "outputs": [],
   "source": [
    "def separate_dataset(x_all:List, y_all:List) -> Tuple[Tuple[List, List], Tuple[List, List], Tuple[List, List]]:\n",
    "    \"\"\"\n",
    "    Separate the data in train, validation and test.\n",
    "\n",
    "    Args:\n",
    "        x_all (List): all dataset inputs.\n",
    "        y_all (List): all dataset targets.\n",
    "\n",
    "    Returns:\n",
    "        Tuple[List, List]: train inputs and targets. \n",
    "        Tuple[List, List]: validation inputs and targets.\n",
    "        Tuple[List, List]: test inputs and targets.\n",
    "    \"\"\"\n",
    "    size_all = len(x_all)\n",
    "\n",
    "    cut1 = int(0.6*size_all)\n",
    "    cut2 = int(0.8*size_all)\n",
    "\n",
    "    x_train = x_all[0:cut1]\n",
    "    y_train = y_all[0:cut1]\n",
    "\n",
    "    x_val = x_all[cut1:cut2]\n",
    "    y_val = y_all[cut1:cut2]\n",
    "\n",
    "    x_test = x_all[cut2:]\n",
    "    y_test = y_all[cut2:]\n",
    "\n",
    "    return (x_train, y_train), (x_val, y_val), (x_test, y_test)"
   ]
  },
  {
   "cell_type": "markdown",
   "metadata": {},
   "source": [
    "Separamos os conjuntos e demonstramos que a separação separa corretamente os dados:"
   ]
  },
  {
   "cell_type": "code",
   "execution_count": 25,
   "metadata": {},
   "outputs": [],
   "source": [
    "(test_x_train, test_y_train), (test_x_val, test_y_val), (test_x_test, test_y_test) = separate_dataset(test_x_all, test_y_all)"
   ]
  },
  {
   "cell_type": "code",
   "execution_count": 26,
   "metadata": {},
   "outputs": [],
   "source": [
    "assert len(test_x_train)+len(test_x_val)+len(test_x_test) == len(test_x_all)\n",
    "\n",
    "assert len(test_x_train) == int(0.6*len(test_x_all))\n",
    "assert len(test_x_val) == np.floor(0.2*len(test_x_all))\n",
    "assert len(test_x_test) == np.ceil(0.2*len(test_x_all))\n",
    "\n",
    "assert len(test_x_train) == len(test_y_train)\n",
    "assert len(test_x_val) == len(test_y_val)\n",
    "assert len(test_x_test) == len(test_y_test)"
   ]
  },
  {
   "cell_type": "markdown",
   "metadata": {},
   "source": [
    "Criamos a classe para manipular o dataset:"
   ]
  },
  {
   "cell_type": "code",
   "execution_count": 27,
   "metadata": {},
   "outputs": [],
   "source": [
    "class TextPredictDataset(Dataset):\n",
    "    \"\"\"\n",
    "    Text prediction dataset.\n",
    "\n",
    "    Input: sequence of encoded words.\n",
    "    Target: next word for the sequence.\n",
    "    \"\"\"\n",
    "    \n",
    "    def __init__(self, x_data:List[List[int]], y_data:List[int]) -> None:\n",
    "        \"\"\"\n",
    "        Creates a new dataset.\n",
    "\n",
    "        Args:\n",
    "            x_data (List[List[int]]): dataset inputs.\n",
    "            y_data (List[int]): dataset targets.\n",
    "\n",
    "        Raises:\n",
    "            ValueError: if input and target have different sizes.\n",
    "        \"\"\"\n",
    "\n",
    "        self._x_data = torch.tensor(x_data)-1\n",
    "        self._y_data = torch.tensor(y_data, dtype=torch.int64)-1\n",
    "        \n",
    "        if len(x_data) != len(y_data):\n",
    "            raise ValueError(f\"x_data and y_data must have same size. ({len(x_data)} ≠ {len(y_data)})\")\n",
    "        \n",
    "        self._size = len(x_data)\n",
    "\n",
    "    def __len__(self) -> int:\n",
    "        \"\"\"\n",
    "        Gets the size of the dataset.\n",
    "\n",
    "        Returns:\n",
    "            int: dataset size.\n",
    "        \"\"\"\n",
    "\n",
    "        return self._size\n",
    "\n",
    "    def __getitem__(self, idx:int) -> Tuple[torch.Tensor, torch.Tensor]:\n",
    "        \"\"\"\n",
    "        Gets a item of the dataset.\n",
    "\n",
    "        Args:\n",
    "            idx (int): data index.\n",
    "\n",
    "        Returns:\n",
    "            torch.Tensor: dataset input. \n",
    "            torch.Tensor: dataset target.\n",
    "        \"\"\"\n",
    "        return self._x_data[idx], self._y_data[idx]\n"
   ]
  },
  {
   "cell_type": "markdown",
   "metadata": {},
   "source": [
    "Geramos um dataset de exemplo e mostramos que os tamanhos das entradas e saídas está correto:"
   ]
  },
  {
   "cell_type": "code",
   "execution_count": 28,
   "metadata": {},
   "outputs": [],
   "source": [
    "test_train_dataset = TextPredictDataset(test_x_train, test_y_train)\n",
    "\n",
    "assert_array_equal(test_train_dataset[0][0].shape, [test_context_size])\n",
    "assert_array_equal(test_train_dataset[0][1].shape, [])"
   ]
  },
  {
   "cell_type": "markdown",
   "metadata": {},
   "source": [
    "Por fim, mostramos o uso de um DataLoader e mostramos que os dados possuem tamanhos corretos:"
   ]
  },
  {
   "cell_type": "code",
   "execution_count": 29,
   "metadata": {},
   "outputs": [],
   "source": [
    "test_batch_size = 5\n",
    "test_train_loader = DataLoader(test_train_dataset, batch_size=test_batch_size, shuffle=True)\n",
    "\n",
    "test_data = next(iter(test_train_loader))\n",
    "\n",
    "assert_array_equal(test_data[0].shape, [test_batch_size, test_context_size])\n",
    "assert_array_equal(test_data[1].shape, [test_batch_size])"
   ]
  },
  {
   "cell_type": "markdown",
   "metadata": {},
   "source": [
    "### Juntando tudo"
   ]
  },
  {
   "cell_type": "markdown",
   "metadata": {},
   "source": [
    "Para o uso posterior, podemos juntar todas as funções criadas realizando o processo completo de geração do dataset:"
   ]
  },
  {
   "cell_type": "code",
   "execution_count": 30,
   "metadata": {},
   "outputs": [],
   "source": [
    "def create_data_loaders(texts:List[str], vocab_size:int, context_size:int, batch_size:int) -> Tuple[Dict, List, Dict[str, DataLoader]]:\n",
    "    \"\"\"\n",
    "    Generates a text prediction dataset.\n",
    "\n",
    "    Args:\n",
    "        texts (List[str]): texts to generate the dataset.\n",
    "        vocab_size (int): size of the vocabulary (know words).\n",
    "        context_size (int): size of the sequences.\n",
    "        batch_size (int): size of the batchs.\n",
    "\n",
    "    Returns:\n",
    "        Dict: vocabulary. Maps words to codes.\n",
    "        List: inverse vocabulary. Maps codes to words.\n",
    "        Dict[str, DataLoader]: dataloaders.\n",
    "    \"\"\"\n",
    "\n",
    "    word_counts = count_words(texts)\n",
    "    vocab, inverse_vocab = create_vocab(word_counts, vocab_size)\n",
    "\n",
    "    x_all, y_all = create_sequences(texts, context_size, vocab)\n",
    "    \n",
    "    x_all, y_all = shuffle_dataset(x_all, y_all)\n",
    "\n",
    "    (x_train, y_train), (x_val, y_val), (x_test, y_test) = separate_dataset(x_all, y_all)\n",
    "\n",
    "    train_dataset = TextPredictDataset(x_train, y_train)\n",
    "    val_dataset = TextPredictDataset(x_val, y_val)\n",
    "    test_dataset = TextPredictDataset(x_test, y_test)\n",
    "\n",
    "    train_loader = DataLoader(train_dataset, batch_size=batch_size, shuffle=True)\n",
    "    val_loader = DataLoader(val_dataset, batch_size=batch_size, shuffle=True)\n",
    "    test_loader = DataLoader(test_dataset, batch_size=batch_size, shuffle=True)\n",
    "\n",
    "    dataloaders = {\"train\": train_loader, \"val\":val_loader, \"test\":test_loader}\n",
    "\n",
    "    return vocab, inverse_vocab, dataloaders"
   ]
  },
  {
   "cell_type": "markdown",
   "metadata": {},
   "source": [
    "## Modelo\n",
    "\n",
    "Esta seção irá implementar o base modelo que será treinado, baseado em \"A Neural Probabilistic Language Model\" (Bengio, 2003)."
   ]
  },
  {
   "cell_type": "markdown",
   "metadata": {},
   "source": [
    "### Embedding\n",
    "\n",
    "Para o embedding utilizamos uma matriz de look-up aprendível:"
   ]
  },
  {
   "cell_type": "code",
   "execution_count": 31,
   "metadata": {},
   "outputs": [],
   "source": [
    "class Embedding(torch.nn.Module):\n",
    "    \"\"\"\n",
    "    Converts codes to embeddings.\n",
    "    \"\"\"\n",
    "\n",
    "    def __init__(self, embed_dim:int, vocab_size:int) -> None:\n",
    "        \"\"\"\n",
    "        Creates a new Embedding layer.\n",
    "\n",
    "        Args:\n",
    "            embed_dim (int): size of the embedding in the output.\n",
    "            vocab_size (int): size of the vocabulary the words were coded.\n",
    "        \"\"\"\n",
    "\n",
    "        super().__init__()\n",
    "\n",
    "        C = torch.Tensor(vocab_size, embed_dim)\n",
    "        torch.nn.init.xavier_uniform_(C)\n",
    "        self.C = torch.nn.Parameter(C)\n",
    "\n",
    "    def forward(self, input_tensor:torch.Tensor) -> torch.Tensor:\n",
    "        \"\"\"\n",
    "        Embeds the input sequences.\n",
    "\n",
    "        Args:\n",
    "            input_tensor (torch.Tensor): sequences to be embeded.\n",
    "\n",
    "        Returns:\n",
    "            torch.Tensor: result embeddings.\n",
    "        \"\"\"\n",
    "        \n",
    "        #OBS: I checked, \"index_select\" doesn't work with batchs, \"index\" (third parameter) must be 1-D\n",
    "        result = torch.stack([torch.index_select(self.C, 0, input_i) for input_i in input_tensor])\n",
    "        \n",
    "        return result"
   ]
  },
  {
   "cell_type": "markdown",
   "metadata": {},
   "source": [
    "E testamos se a camada gera o embedding corretamente:"
   ]
  },
  {
   "cell_type": "code",
   "execution_count": 32,
   "metadata": {},
   "outputs": [],
   "source": [
    "test_embed_dim = 2\n",
    "test_vocab_size = 3\n",
    "test_sequence_size = test_vocab_size\n",
    "\n",
    "test_data = torch.empty((2, test_sequence_size), dtype=int)\n",
    "test_data[:] = torch.arange(test_vocab_size)\n",
    "\n",
    "embedding = Embedding(test_embed_dim, test_vocab_size)\n",
    "\n",
    "result = embedding(test_data)\n",
    "result = result.detach()\n",
    "\n",
    "C = embedding.C.detach()\n",
    "\n",
    "assert_array_equal(C.shape, [test_vocab_size, test_embed_dim]) #C matrix have correct shape\n",
    "assert_array_equal(result.shape, [2, test_sequence_size, test_embed_dim])\n",
    "assert_array_equal(result[0], result[1]) #Correct operation across batchs\n",
    "assert_array_equal(result[0, 0], C[0]) #First result = embedding of first word"
   ]
  },
  {
   "cell_type": "markdown",
   "metadata": {},
   "source": [
    "### Modelo"
   ]
  },
  {
   "cell_type": "code",
   "execution_count": 33,
   "metadata": {},
   "outputs": [],
   "source": [
    "\n",
    "class LanguageModel(torch.nn.Module):\n",
    "\n",
    "    def __init__(self, context_size:int, vocab_size:int, embed_dim:int, hidden_units:int):\n",
    "        super().__init__()\n",
    "        \n",
    "        #V = |Vocab|, m = |Embed|\n",
    "        #n-1 = c = |Context|\n",
    "        #h = |Hidden|\n",
    "        \n",
    "        #C[V, m](input) -> x[c*m]\n",
    "        #Linear1(x) -> x2[h]\n",
    "        #ReLU(x2) -> x3[h]  | alterado do paper (tanh)\n",
    "        #Linear2(x) -> x4[V]\n",
    "        #Linear3(x3) -> x5[V] | sem bias (Linear2 já tem bias)\n",
    "        #Add(x4, x5) -> output\n",
    "        #Sem softmax -> melhor estabilidade\n",
    "\n",
    "        m = int(context_size*embed_dim)\n",
    "\n",
    "        self.embedding = Embedding(embed_dim, vocab_size)\n",
    "        self.linear1 = torch.nn.Linear(m, hidden_units)\n",
    "        self.relu = torch.nn.ReLU() \n",
    "        self.linear2 = torch.nn.Linear(m, vocab_size)\n",
    "        self.linear3 = torch.nn.Linear(hidden_units, vocab_size, bias=False)\n",
    "\n",
    "    def forward(self, x:torch.Tensor) -> torch.Tensor:\n",
    "\n",
    "        x = self.embedding(x)\n",
    "        x = x.flatten(start_dim=1)\n",
    "        \n",
    "        x2 = self.linear1(x)\n",
    "        x3 = self.relu(x2)\n",
    "        x4 = self.linear2(x)\n",
    "        x5 = self.linear3(x3)\n",
    "\n",
    "        output = x4+x5\n",
    "\n",
    "        return output"
   ]
  },
  {
   "cell_type": "markdown",
   "metadata": {},
   "source": [
    "#### Teste do Modelo"
   ]
  },
  {
   "cell_type": "markdown",
   "metadata": {},
   "source": [
    "Testamos o modelo com uma entrada aleatória para verificar se as saídas possuem tamanhos corretos:"
   ]
  },
  {
   "cell_type": "code",
   "execution_count": 34,
   "metadata": {},
   "outputs": [],
   "source": [
    "test_batch_size = 5\n",
    "test_embed_dim = 2\n",
    "test_vocab_size = 3\n",
    "test_hidden_units = 3\n",
    "test_sequence_size = test_vocab_size\n",
    "\n",
    "test_model = LanguageModel(test_sequence_size, test_vocab_size, test_embed_dim, test_hidden_units)"
   ]
  },
  {
   "cell_type": "code",
   "execution_count": 35,
   "metadata": {},
   "outputs": [],
   "source": [
    "test_data = torch.empty((test_batch_size, test_sequence_size), dtype=int)\n",
    "test_data[:] = torch.arange(test_sequence_size)\n",
    "\n",
    "inputs = test_data\n",
    "targets = test_vocab_size*torch.rand(test_batch_size).long()\n",
    "\n",
    "output = test_model(inputs)\n",
    "result = output.argmax(dim=1)\n",
    "\n",
    "assert_array_equal(output.shape, [test_batch_size, test_vocab_size])\n",
    "assert_array_equal(result.shape, targets.shape)"
   ]
  },
  {
   "cell_type": "markdown",
   "metadata": {},
   "source": [
    "## Pré-treino"
   ]
  },
  {
   "cell_type": "markdown",
   "metadata": {},
   "source": [
    "Nesta seção iremos realizar o treino inicial, iniciando pela definição de algumas funções auxiliares."
   ]
  },
  {
   "cell_type": "markdown",
   "metadata": {},
   "source": [
    "### Funções auxiliares\n",
    "\n",
    "Iremos definir quatro funções auxiliares para: calcular a perplexidade a partir da loss, printar informações, calcular a loss e realizar o treinamento:"
   ]
  },
  {
   "cell_type": "code",
   "execution_count": 36,
   "metadata": {},
   "outputs": [],
   "source": [
    "def ppl(loss:torch.Tensor) -> torch.Tensor:\n",
    "    \"\"\"\n",
    "    Computes the perplexity from the loss.\n",
    "\n",
    "    Args:\n",
    "        loss (torch.Tensor): loss to compute the perplexity.\n",
    "\n",
    "    Returns:\n",
    "        torch.Tensor: corresponding perplexity.\n",
    "    \"\"\"\n",
    "    return torch.exp(loss)"
   ]
  },
  {
   "cell_type": "code",
   "execution_count": 37,
   "metadata": {},
   "outputs": [],
   "source": [
    "def print_info(loss_value:torch.Tensor, epoch:int, total_epochs:int, \n",
    "               time:float=0.0, accuracy:Optional[float]=None):\n",
    "    \"\"\"\n",
    "    Prints the information of a epoch.\n",
    "\n",
    "    Args:\n",
    "        loss_value (torch.Tensor): epoch loss.\n",
    "        epoch (int): epoch number.\n",
    "        total_epochs (int): total number of epochs. \n",
    "        time (float, optional): time to run the epoch. Don't print if is 0.0. Defaults to 0.0.\n",
    "        accuracy (float, optional): epoch accuracy.\n",
    "    \"\"\"\n",
    "    ppl_value = ppl(loss_value)\n",
    "\n",
    "    \n",
    "    print(f'Epoch [{epoch+1}/{total_epochs}], \\\n",
    "            Loss: {loss_value.item():.4f}, \\\n",
    "            Perplexity: {ppl_value.item():.4f}', end=\"\")\n",
    "    \n",
    "    if accuracy is not None:\n",
    "        print(f', Accuracy: {100*accuracy:.4f}%')\n",
    "\n",
    "    if time != 0:\n",
    "        print(f\", Elapsed Time: {time:.2f} sec\")    \n",
    "    else:\n",
    "        print(\"\")"
   ]
  },
  {
   "cell_type": "code",
   "execution_count": 38,
   "metadata": {},
   "outputs": [],
   "source": [
    "MODE_TRAIN = 0\n",
    "MODE_EVALUATE = 1"
   ]
  },
  {
   "cell_type": "code",
   "execution_count": 47,
   "metadata": {},
   "outputs": [],
   "source": [
    "def compute_loss(model:torch.nn.Module, loader:DataLoader, \n",
    "                 criterion:torch.nn.Module, mode:int = MODE_EVALUATE, \n",
    "                 optimizer:Optional[torch.optim.Optimizer]=None, \n",
    "                 accumulation_steps:Optional[int] = 1) -> Tuple[torch.Tensor, torch.Tensor]:\n",
    "    \"\"\"\n",
    "    Computes the loss from a model across a dataset.\n",
    "\n",
    "    If in train mode also runs optimizer steps.\n",
    "\n",
    "    Args:\n",
    "        model (torch.nn.Module): model to evaluate.\n",
    "        loader (DataLoader): dataset.\n",
    "        criterion (torch.nn.Module): loss function to compute.\n",
    "        mode (int): mode of the computation. \n",
    "                    If MODE_EVALUATE, computes without gradient, in eval mode and detachs loss.\n",
    "                    If MODE_TRAIN, computes with gradient and in train mode.\n",
    "                    Default is MODE_EVALUATE.\n",
    "        optimizer (torch.optim.Optimizer, optional): optimizer to use in the train mode.\n",
    "\n",
    "    Returns:\n",
    "        torch.Tensor: resulting loss.\n",
    "    \"\"\"\n",
    "    device = next(iter(model.parameters())).device\n",
    "\n",
    "    if mode == MODE_EVALUATE:\n",
    "        model.eval()\n",
    "        torch.set_grad_enabled(False)\n",
    "    elif mode == MODE_TRAIN:\n",
    "        model.train()\n",
    "        torch.set_grad_enabled(True)\n",
    "        optimizer.zero_grad()\n",
    "    else:\n",
    "        raise ValueError(f\"Unknown mode: {mode}.\")\n",
    "\n",
    "    batch_index = 0\n",
    "    total_loss = torch.tensor(0, dtype=torch.float32, device=device)\n",
    "    n = 0\n",
    "    for inputs, targets in tqdm.tqdm(loader):\n",
    "        inputs = inputs.to(device)\n",
    "        targets = targets.to(device)\n",
    "        \n",
    "        logits = model(inputs)\n",
    "        logits = logits.view(-1, logits.shape[-1])\n",
    "\n",
    "        loss : torch.Tensor = criterion(logits.squeeze(), targets)\n",
    "        total_loss += loss*targets.size(0)\n",
    "        \n",
    "        \n",
    "        n += targets.size(0)\n",
    "\n",
    "        if mode == MODE_TRAIN:\n",
    "            loss /= accumulation_steps\n",
    "            loss.backward()\n",
    "\n",
    "            if ((batch_index+1) % accumulation_steps == 0) or (batch_index+1 == len(loader)):\n",
    "                optimizer.step()\n",
    "                optimizer.zero_grad()\n",
    "\n",
    "        batch_index += 1\n",
    "\n",
    "    total_loss /= n \n",
    "    \n",
    "    torch.set_grad_enabled(True)\n",
    "\n",
    "    total_loss = total_loss.detach()\n",
    "\n",
    "    return total_loss\n"
   ]
  },
  {
   "cell_type": "code",
   "execution_count": 64,
   "metadata": {},
   "outputs": [],
   "source": [
    "def train(model:torch.nn.Module, criterion:torch.nn.Module, optimizer:torch.optim.Optimizer, \n",
    "          dataloaders:DataLoader, n_epoch:int, accumulation_steps:int=1, \n",
    "          use_wandb:bool=False) -> Dict[str, ArrayLike]:\n",
    "    hist = {}\n",
    "    hist[\"loss_train\"] = []\n",
    "    hist[\"loss_val\"] = []\n",
    "    hist[\"ppl_train\"] = []\n",
    "    hist[\"ppl_val\"] = []\n",
    "\n",
    "    loss_val = compute_loss(model, dataloaders[\"val\"], criterion, MODE_EVALUATE)\n",
    "        \n",
    "    print(\"VAL \", end=\"\")\n",
    "    print_info(loss_val, -1, n_epoch)\n",
    "\n",
    "    for epoch in range(n_epoch):\n",
    "        start_time = time.time() \n",
    "\n",
    "        loss_train = compute_loss(model, dataloaders[\"train\"], criterion, MODE_TRAIN, optimizer, accumulation_steps)\n",
    "\n",
    "        end_time = time.time() \n",
    "        \n",
    "        epoch_duration = end_time - start_time \n",
    "\n",
    "        ppl_train = ppl(loss_train)\n",
    "\n",
    "        print_info(loss_train, epoch, n_epoch, epoch_duration)\n",
    "        \n",
    "        #Validation stats\n",
    "        loss_val = compute_loss(model, dataloaders[\"val\"], criterion, MODE_EVALUATE)\n",
    "        ppl_val = ppl(loss_val)\n",
    "        \n",
    "        print(\"VAL \", end=\"\")\n",
    "        print_info(loss_val, epoch, n_epoch)\n",
    "\n",
    "        #Save history\n",
    "        hist[\"loss_train\"].append(loss_train.item())\n",
    "        hist[\"loss_val\"].append(loss_val.item())\n",
    "        hist[\"ppl_train\"].append(ppl_train.item())\n",
    "        hist[\"ppl_val\"].append(ppl_val.item())\n",
    "\n",
    "\n",
    "        log = {\n",
    "            \"loss_train\": loss_train.item(),\n",
    "            \"loss_val\": loss_val.item(),\n",
    "            \"ppl_train\": ppl_train.item(),\n",
    "            \"ppl_val\": ppl_val.item(),\n",
    "        }\n",
    "\n",
    "        if use_wandb:\n",
    "            wandb.log(log)\n",
    "\n",
    "    for key in hist:\n",
    "        hist[key] = np.array(hist[key])\n",
    "\n",
    "    if use_wandb:\n",
    "        wandb.finish()\n",
    "\n",
    "    return hist"
   ]
  },
  {
   "cell_type": "markdown",
   "metadata": {},
   "source": [
    "### Inicialização\n",
    "\n",
    "Começamos o processo de treino inicializando as variáveis."
   ]
  },
  {
   "cell_type": "markdown",
   "metadata": {},
   "source": [
    "Definimos se será realizado o logging utilizando o wandb:"
   ]
  },
  {
   "cell_type": "code",
   "execution_count": 65,
   "metadata": {},
   "outputs": [],
   "source": [
    "use_wandb = False"
   ]
  },
  {
   "cell_type": "markdown",
   "metadata": {},
   "source": [
    "Checamos se existe uma GPU disponível:"
   ]
  },
  {
   "cell_type": "code",
   "execution_count": 66,
   "metadata": {},
   "outputs": [
    {
     "data": {
      "text/plain": [
       "device(type='cpu')"
      ]
     },
     "execution_count": 66,
     "metadata": {},
     "output_type": "execute_result"
    }
   ],
   "source": [
    "# Verifica se há uma GPU disponível e define o dispositivo para GPU se possível, caso contrário, usa a CPU\n",
    "device = torch.device('cuda' if torch.cuda.is_available() else 'cpu')\n",
    "device"
   ]
  },
  {
   "cell_type": "markdown",
   "metadata": {},
   "source": [
    "Definimos os parâmetros de treino:"
   ]
  },
  {
   "cell_type": "markdown",
   "metadata": {},
   "source": [
    "Definimos os parâmetros de treino. No caso os parâmetros a seguir são do melhor treino, enquanto que todas as variações testadas podem ser encontradas em [https://api.wandb.ai/links/eltoncn/2exfkyeh](https://api.wandb.ai/links/eltoncn/2exfkyeh)."
   ]
  },
  {
   "cell_type": "code",
   "execution_count": 67,
   "metadata": {},
   "outputs": [],
   "source": [
    "accumulation_steps = 1 # Passos de acumulação de gradiente\n",
    "batch_size = 32 # Tamanho de um batch\n",
    "context_size = 5 # Tamanho de uma sequência\n",
    "embed_dim = 64 # Tamanho do feature vector de cada palavra\n",
    "hidden_units = 300 # Quantidade de unidades na camada escondida\n",
    "lr = 5e-1 # Taxa de treinamento\n",
    "n_epoch = 10 # Quantidade de epochs\n",
    "optimizer_class = torch.optim.SGD # Otimizador\n",
    "vocab_size = 3000 # Quantidade de palavras no vocabulário\n",
    "weight_decay = 1e-3 # Regularização L2\n",
    "\n",
    "config = {\n",
    "    \"accumulation_steps\": accumulation_steps,\n",
    "    \"batch_size\": batch_size,\n",
    "    \"embed_dim\":embed_dim,\n",
    "    \"hidden_units\":hidden_units,\n",
    "    \"lr\": lr,\n",
    "    \"n_epoch\": n_epoch,\n",
    "    \"optimizer_class\": optimizer_class.__name__,\n",
    "    \"context_size\" : context_size,\n",
    "    \"weight_decay\": weight_decay,\n",
    "}\n",
    "\n",
    "if use_wandb:\n",
    "    run = wandb.init(project=\"IA024-06-LoRA-Base\", config=config)\n",
    "    run_name = run.name\n",
    "    run_id = run.id\n",
    "    model_name = f\"{run_name}-{run_id}.bin\"\n",
    "else:\n",
    "    #get random name using config\n",
    "    seed = 0\n",
    "    for name in config:\n",
    "        if isinstance(config[name], int) or isinstance(config[name], float):\n",
    "            seed += config[name]\n",
    "        else:\n",
    "            for c in config[name]:\n",
    "                seed += ord(c)\n",
    "\n",
    "    reset_seeds(seed)\n",
    "    model_name = ''.join(random.choice(string.ascii_uppercase + string.digits) for _ in range(5))"
   ]
  },
  {
   "cell_type": "markdown",
   "metadata": {},
   "source": [
    "Reiniciamos as sementes:"
   ]
  },
  {
   "cell_type": "code",
   "execution_count": 68,
   "metadata": {},
   "outputs": [],
   "source": [
    "reset_seeds()"
   ]
  },
  {
   "cell_type": "markdown",
   "metadata": {},
   "source": [
    "Criamos o vocabulário, dataset, modelo, loss, otimizador e dataloaders:"
   ]
  },
  {
   "cell_type": "code",
   "execution_count": 69,
   "metadata": {},
   "outputs": [],
   "source": [
    "vocab, inverse_vocab, dataloaders = create_data_loaders(cleaned_paragraphs, vocab_size, context_size, batch_size)\n",
    "\n",
    "\n",
    "model = LanguageModel(context_size, vocab_size, embed_dim, hidden_units)\n",
    "model.to(device)\n",
    "\n",
    "criterion = torch.nn.CrossEntropyLoss()\n",
    "optimizer = optimizer_class(model.parameters(), lr=lr, weight_decay=weight_decay)"
   ]
  },
  {
   "cell_type": "markdown",
   "metadata": {},
   "source": [
    "### Treino"
   ]
  },
  {
   "cell_type": "code",
   "execution_count": 70,
   "metadata": {},
   "outputs": [
    {
     "name": "stderr",
     "output_type": "stream",
     "text": [
      "100%|██████████| 239/239 [00:01<00:00, 210.22it/s]\n"
     ]
    },
    {
     "name": "stdout",
     "output_type": "stream",
     "text": [
      "VAL Epoch [0/10],             Loss: 8.0003,             Perplexity: 2981.9731\n"
     ]
    },
    {
     "name": "stderr",
     "output_type": "stream",
     "text": [
      " 74%|███████▎  | 526/715 [00:05<00:01, 96.95it/s] \n"
     ]
    },
    {
     "ename": "KeyboardInterrupt",
     "evalue": "",
     "output_type": "error",
     "traceback": [
      "\u001b[1;31m---------------------------------------------------------------------------\u001b[0m",
      "\u001b[1;31mKeyboardInterrupt\u001b[0m                         Traceback (most recent call last)",
      "Cell \u001b[1;32mIn[70], line 1\u001b[0m\n\u001b[1;32m----> 1\u001b[0m train_history \u001b[38;5;241m=\u001b[39m \u001b[43mtrain\u001b[49m\u001b[43m(\u001b[49m\u001b[43mmodel\u001b[49m\u001b[43m,\u001b[49m\u001b[43m \u001b[49m\u001b[43mcriterion\u001b[49m\u001b[43m,\u001b[49m\u001b[43m \u001b[49m\u001b[43moptimizer\u001b[49m\u001b[43m,\u001b[49m\u001b[43m \u001b[49m\u001b[43mdataloaders\u001b[49m\u001b[43m,\u001b[49m\u001b[43m \u001b[49m\u001b[43mn_epoch\u001b[49m\u001b[43m,\u001b[49m\u001b[43m \u001b[49m\u001b[43maccumulation_steps\u001b[49m\u001b[43m,\u001b[49m\u001b[43m \u001b[49m\u001b[43muse_wandb\u001b[49m\u001b[43m)\u001b[49m\n",
      "Cell \u001b[1;32mIn[64], line 18\u001b[0m, in \u001b[0;36mtrain\u001b[1;34m(model, criterion, optimizer, dataloaders, n_epoch, accumulation_steps, use_wandb)\u001b[0m\n\u001b[0;32m     15\u001b[0m \u001b[38;5;28;01mfor\u001b[39;00m epoch \u001b[38;5;129;01min\u001b[39;00m \u001b[38;5;28mrange\u001b[39m(n_epoch):\n\u001b[0;32m     16\u001b[0m     start_time \u001b[38;5;241m=\u001b[39m time\u001b[38;5;241m.\u001b[39mtime() \n\u001b[1;32m---> 18\u001b[0m     loss_train \u001b[38;5;241m=\u001b[39m \u001b[43mcompute_loss\u001b[49m\u001b[43m(\u001b[49m\u001b[43mmodel\u001b[49m\u001b[43m,\u001b[49m\u001b[43m \u001b[49m\u001b[43mdataloaders\u001b[49m\u001b[43m[\u001b[49m\u001b[38;5;124;43m\"\u001b[39;49m\u001b[38;5;124;43mtrain\u001b[39;49m\u001b[38;5;124;43m\"\u001b[39;49m\u001b[43m]\u001b[49m\u001b[43m,\u001b[49m\u001b[43m \u001b[49m\u001b[43mcriterion\u001b[49m\u001b[43m,\u001b[49m\u001b[43m \u001b[49m\u001b[43mMODE_TRAIN\u001b[49m\u001b[43m,\u001b[49m\u001b[43m \u001b[49m\u001b[43moptimizer\u001b[49m\u001b[43m,\u001b[49m\u001b[43m \u001b[49m\u001b[43maccumulation_steps\u001b[49m\u001b[43m)\u001b[49m\n\u001b[0;32m     20\u001b[0m     end_time \u001b[38;5;241m=\u001b[39m time\u001b[38;5;241m.\u001b[39mtime() \n\u001b[0;32m     22\u001b[0m     epoch_duration \u001b[38;5;241m=\u001b[39m end_time \u001b[38;5;241m-\u001b[39m start_time \n",
      "Cell \u001b[1;32mIn[47], line 53\u001b[0m, in \u001b[0;36mcompute_loss\u001b[1;34m(model, loader, criterion, mode, optimizer, accumulation_steps)\u001b[0m\n\u001b[0;32m     51\u001b[0m \u001b[38;5;28;01mif\u001b[39;00m mode \u001b[38;5;241m==\u001b[39m MODE_TRAIN:\n\u001b[0;32m     52\u001b[0m     loss \u001b[38;5;241m/\u001b[39m\u001b[38;5;241m=\u001b[39m accumulation_steps\n\u001b[1;32m---> 53\u001b[0m     \u001b[43mloss\u001b[49m\u001b[38;5;241;43m.\u001b[39;49m\u001b[43mbackward\u001b[49m\u001b[43m(\u001b[49m\u001b[43m)\u001b[49m\n\u001b[0;32m     55\u001b[0m     \u001b[38;5;28;01mif\u001b[39;00m ((batch_index\u001b[38;5;241m+\u001b[39m\u001b[38;5;241m1\u001b[39m) \u001b[38;5;241m%\u001b[39m accumulation_steps \u001b[38;5;241m==\u001b[39m \u001b[38;5;241m0\u001b[39m) \u001b[38;5;129;01mor\u001b[39;00m (batch_index\u001b[38;5;241m+\u001b[39m\u001b[38;5;241m1\u001b[39m \u001b[38;5;241m==\u001b[39m \u001b[38;5;28mlen\u001b[39m(loader)):\n\u001b[0;32m     56\u001b[0m         optimizer\u001b[38;5;241m.\u001b[39mstep()\n",
      "File \u001b[1;32m~\\AppData\\Local\\Packages\\PythonSoftwareFoundation.Python.3.11_qbz5n2kfra8p0\\LocalCache\\local-packages\\Python311\\site-packages\\torch\\_tensor.py:522\u001b[0m, in \u001b[0;36mTensor.backward\u001b[1;34m(self, gradient, retain_graph, create_graph, inputs)\u001b[0m\n\u001b[0;32m    512\u001b[0m \u001b[38;5;28;01mif\u001b[39;00m has_torch_function_unary(\u001b[38;5;28mself\u001b[39m):\n\u001b[0;32m    513\u001b[0m     \u001b[38;5;28;01mreturn\u001b[39;00m handle_torch_function(\n\u001b[0;32m    514\u001b[0m         Tensor\u001b[38;5;241m.\u001b[39mbackward,\n\u001b[0;32m    515\u001b[0m         (\u001b[38;5;28mself\u001b[39m,),\n\u001b[1;32m   (...)\u001b[0m\n\u001b[0;32m    520\u001b[0m         inputs\u001b[38;5;241m=\u001b[39minputs,\n\u001b[0;32m    521\u001b[0m     )\n\u001b[1;32m--> 522\u001b[0m \u001b[43mtorch\u001b[49m\u001b[38;5;241;43m.\u001b[39;49m\u001b[43mautograd\u001b[49m\u001b[38;5;241;43m.\u001b[39;49m\u001b[43mbackward\u001b[49m\u001b[43m(\u001b[49m\n\u001b[0;32m    523\u001b[0m \u001b[43m    \u001b[49m\u001b[38;5;28;43mself\u001b[39;49m\u001b[43m,\u001b[49m\u001b[43m \u001b[49m\u001b[43mgradient\u001b[49m\u001b[43m,\u001b[49m\u001b[43m \u001b[49m\u001b[43mretain_graph\u001b[49m\u001b[43m,\u001b[49m\u001b[43m \u001b[49m\u001b[43mcreate_graph\u001b[49m\u001b[43m,\u001b[49m\u001b[43m \u001b[49m\u001b[43minputs\u001b[49m\u001b[38;5;241;43m=\u001b[39;49m\u001b[43minputs\u001b[49m\n\u001b[0;32m    524\u001b[0m \u001b[43m\u001b[49m\u001b[43m)\u001b[49m\n",
      "File \u001b[1;32m~\\AppData\\Local\\Packages\\PythonSoftwareFoundation.Python.3.11_qbz5n2kfra8p0\\LocalCache\\local-packages\\Python311\\site-packages\\torch\\autograd\\__init__.py:266\u001b[0m, in \u001b[0;36mbackward\u001b[1;34m(tensors, grad_tensors, retain_graph, create_graph, grad_variables, inputs)\u001b[0m\n\u001b[0;32m    261\u001b[0m     retain_graph \u001b[38;5;241m=\u001b[39m create_graph\n\u001b[0;32m    263\u001b[0m \u001b[38;5;66;03m# The reason we repeat the same comment below is that\u001b[39;00m\n\u001b[0;32m    264\u001b[0m \u001b[38;5;66;03m# some Python versions print out the first line of a multi-line function\u001b[39;00m\n\u001b[0;32m    265\u001b[0m \u001b[38;5;66;03m# calls in the traceback and some print out the last line\u001b[39;00m\n\u001b[1;32m--> 266\u001b[0m \u001b[43mVariable\u001b[49m\u001b[38;5;241;43m.\u001b[39;49m\u001b[43m_execution_engine\u001b[49m\u001b[38;5;241;43m.\u001b[39;49m\u001b[43mrun_backward\u001b[49m\u001b[43m(\u001b[49m\u001b[43m  \u001b[49m\u001b[38;5;66;43;03m# Calls into the C++ engine to run the backward pass\u001b[39;49;00m\n\u001b[0;32m    267\u001b[0m \u001b[43m    \u001b[49m\u001b[43mtensors\u001b[49m\u001b[43m,\u001b[49m\n\u001b[0;32m    268\u001b[0m \u001b[43m    \u001b[49m\u001b[43mgrad_tensors_\u001b[49m\u001b[43m,\u001b[49m\n\u001b[0;32m    269\u001b[0m \u001b[43m    \u001b[49m\u001b[43mretain_graph\u001b[49m\u001b[43m,\u001b[49m\n\u001b[0;32m    270\u001b[0m \u001b[43m    \u001b[49m\u001b[43mcreate_graph\u001b[49m\u001b[43m,\u001b[49m\n\u001b[0;32m    271\u001b[0m \u001b[43m    \u001b[49m\u001b[43minputs\u001b[49m\u001b[43m,\u001b[49m\n\u001b[0;32m    272\u001b[0m \u001b[43m    \u001b[49m\u001b[43mallow_unreachable\u001b[49m\u001b[38;5;241;43m=\u001b[39;49m\u001b[38;5;28;43;01mTrue\u001b[39;49;00m\u001b[43m,\u001b[49m\n\u001b[0;32m    273\u001b[0m \u001b[43m    \u001b[49m\u001b[43maccumulate_grad\u001b[49m\u001b[38;5;241;43m=\u001b[39;49m\u001b[38;5;28;43;01mTrue\u001b[39;49;00m\u001b[43m,\u001b[49m\n\u001b[0;32m    274\u001b[0m \u001b[43m\u001b[49m\u001b[43m)\u001b[49m\n",
      "\u001b[1;31mKeyboardInterrupt\u001b[0m: "
     ]
    }
   ],
   "source": [
    "train_history = train(model, criterion, optimizer, dataloaders, n_epoch, accumulation_steps, use_wandb)"
   ]
  },
  {
   "cell_type": "code",
   "execution_count": 62,
   "metadata": {},
   "outputs": [
    {
     "data": {
      "image/png": "[encoded data removed]",
      "text/plain": [
       "<Figure size 640x480 with 1 Axes>"
      ]
     },
     "metadata": {},
     "output_type": "display_data"
    }
   ],
   "source": [
    "plt.plot(train_history[\"loss_train\"], \"o-\")\n",
    "plt.plot(train_history[\"loss_val\"], \"o-\")\n",
    "\n",
    "plt.legend([\"Train\", \"Val\"])\n",
    "plt.xlabel(\"Epoch\")\n",
    "plt.ylabel(\"Loss\")\n",
    "plt.title(\"Loss history\")\n",
    "\n",
    "plt.show()"
   ]
  },
  {
   "cell_type": "code",
   "execution_count": 63,
   "metadata": {},
   "outputs": [
    {
     "data": {
      "image/png": "[encoded data removed]",
      "text/plain": [
       "<Figure size 640x480 with 1 Axes>"
      ]
     },
     "metadata": {},
     "output_type": "display_data"
    }
   ],
   "source": [
    "plt.plot(train_history[\"ppl_train\"]/vocab_size, \"o-\")\n",
    "plt.plot(train_history[\"ppl_val\"]/vocab_size, \"o-\")\n",
    "\n",
    "plt.legend([\"Train\", \"Val\"])\n",
    "plt.xlabel(\"Epoch\")\n",
    "plt.ylabel(\"Normalized PPL\")\n",
    "plt.title(\"Perplexity history\")\n",
    "\n",
    "plt.show()"
   ]
  },
  {
   "cell_type": "markdown",
   "metadata": {},
   "source": [
    "## Implementação do LoRA"
   ]
  },
  {
   "cell_type": "code",
   "execution_count": 72,
   "metadata": {},
   "outputs": [],
   "source": [
    "class LoRA_Module(torch.nn.Module, abc.ABC):\n",
    "\n",
    "    def __init__(self, original_module:torch.nn.Module, rank:int) -> None:\n",
    "        super().__init__()\n",
    "\n",
    "        for param in original_module.parameters():\n",
    "            param.requires_grad = False\n",
    "\n",
    "        self._original_module = original_module\n",
    "        self._rank = rank\n",
    "\n",
    "    @abc.abstractmethod\n",
    "    def reduce_module(self) -> torch.nn.Module:\n",
    "        ..."
   ]
  },
  {
   "cell_type": "code",
   "execution_count": 94,
   "metadata": {},
   "outputs": [],
   "source": [
    "from torch.nn.modules import Module\n",
    "\n",
    "\n",
    "class LoRA_Linear(LoRA_Module):\n",
    "    def __init__(self, linear:torch.nn.Linear, rank:int) -> None:\n",
    "        super().__init__(linear, rank)\n",
    "        self._original_module : torch.nn.Linear\n",
    "\n",
    "        self._in_features = linear.in_features\n",
    "        self._out_features = linear.out_features\n",
    "\n",
    "        device = self._original_module.weight.device\n",
    "        dtype = self._original_module.weight.dtype\n",
    "\n",
    "        B = torch.empty(self._out_features, rank, device=device, dtype=dtype)\n",
    "        A = torch.empty(rank, self._in_features, device=device, dtype=dtype)\n",
    "\n",
    "        self.B = torch.nn.Parameter(B)\n",
    "        self.A = torch.nn.Parameter(A)\n",
    "\n",
    "    def forward(self, x:torch.Tensor) -> torch.Tensor:\n",
    "        y1 = self._original_module(x)\n",
    "        y2 = (x @ self.A.T)@self.B.T\n",
    "\n",
    "        y = y1+y2\n",
    "        return y\n",
    "    \n",
    "    def reduce_module(self) -> Module:\n",
    "        \n",
    "        use_bias = self._original_module.bias is not None\n",
    "        device = self._original_module.weight.device\n",
    "        dtype = self._original_module.weight.dtype\n",
    "\n",
    "        linear = torch.nn.Linear(self._in_features, self._out_features, \n",
    "                                 use_bias, device, dtype)\n",
    "        \n",
    "        with torch.no_grad():\n",
    "            W = self._original_module.weight + self.B@self.A\n",
    "\n",
    "            linear.weight[:] = W\n",
    "            linear.bias = self._original_module.bias \n",
    "        \n",
    "        return linear\n",
    "\n"
   ]
  },
  {
   "cell_type": "code",
   "execution_count": 112,
   "metadata": {},
   "outputs": [],
   "source": [
    "linear = torch.nn.Linear(3,4)\n",
    "lora_linear = LoRA_Linear(linear, 2)"
   ]
  },
  {
   "cell_type": "code",
   "execution_count": 113,
   "metadata": {},
   "outputs": [],
   "source": [
    "x = torch.rand(3)"
   ]
  },
  {
   "cell_type": "code",
   "execution_count": 114,
   "metadata": {},
   "outputs": [
    {
     "data": {
      "text/plain": [
       "tensor([-0.1892, -0.3406, -0.6479, -0.3250])"
      ]
     },
     "execution_count": 114,
     "metadata": {},
     "output_type": "execute_result"
    }
   ],
   "source": [
    "linear(x)"
   ]
  },
  {
   "cell_type": "code",
   "execution_count": 115,
   "metadata": {},
   "outputs": [
    {
     "data": {
      "text/plain": [
       "tensor([-0.1892, -0.3406, -0.6479, -0.3250], grad_fn=<AddBackward0>)"
      ]
     },
     "execution_count": 115,
     "metadata": {},
     "output_type": "execute_result"
    }
   ],
   "source": [
    "lora_linear(x)"
   ]
  },
  {
   "cell_type": "code",
   "execution_count": 99,
   "metadata": {},
   "outputs": [],
   "source": [
    "linear_reduced = lora_linear.reduce_module()"
   ]
  },
  {
   "cell_type": "code",
   "execution_count": 107,
   "metadata": {},
   "outputs": [],
   "source": [
    "assert_array_equal(linear_reduced(x).detach(), lora_linear(x).detach())"
   ]
  },
  {
   "cell_type": "code",
   "execution_count": 103,
   "metadata": {},
   "outputs": [
    {
     "data": {
      "text/plain": [
       "True"
      ]
     },
     "execution_count": 103,
     "metadata": {},
     "output_type": "execute_result"
    }
   ],
   "source": [
    "type(linear_reduced) == torch.nn.Linear"
   ]
  },
  {
   "cell_type": "markdown",
   "metadata": {},
   "source": [
    "- [ ] Inicializar pesos da camada\n",
    "- [ ] Fazer testes direito"
   ]
  },
  {
   "cell_type": "code",
   "execution_count": null,
   "metadata": {},
   "outputs": [],
   "source": []
  }
 ],
 "metadata": {
  "kernelspec": {
   "display_name": "Python 3",
   "language": "python",
   "name": "python3"
  },
  "language_info": {
   "codemirror_mode": {
    "name": "ipython",
    "version": 3
   },
   "file_extension": ".py",
   "mimetype": "text/x-python",
   "name": "python",
   "nbconvert_exporter": "python",
   "pygments_lexer": "ipython3",
   "version": "3.11.9"
  }
 },
 "nbformat": 4,
 "nbformat_minor": 2
}
