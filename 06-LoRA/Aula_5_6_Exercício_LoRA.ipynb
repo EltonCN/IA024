{
 "cells": [
  {
   "cell_type": "markdown",
   "metadata": {},
   "source": [
    "# Exercício: LoRA\n",
    "\n",
    "Elton Cardoso do Nascimento, 233840.\n",
    "\n",
    "Enunciado (`→` descreve as implementações realizadas):\n",
    "\n",
    "> - Exercício didático para entender a técnica de fazer ajuste fino em modelos grandes usando poucos recursos\n",
    "> - Aplicar no pré exercício de análise de sentimento ou no segundo exercício, e modelo de linguagem, com vocabulário de 3000 palavras, embedding size e 2 camadas, treinados da forma usual (medir tempo de treinamento/época) `→LoRA aplicado no segundo exercício, porém com 3 camadas lineares (modelo completo)`\n",
    "> - Modificar o seu modelo para adotar a técnica do LoRA no embedding e nas 2 camadas, e fazer o ajuste-fino, isto é, continuar o treinamento anterior, lembrando que as matrizes originais ficarão congeladas e o ajuste dos pesos serão apenas aplicados nas matrizes do LoRA. Medir o tempo de treinamento/época. `→ LoRA aplicado nas camadas lineares e de Embedding, LoRA_Module.__init__ desabilita os gradientes do modelo original, é comparado o tempo de treino original e com LoRA`\n",
    "> - Por último, substituir o modelo original, com os novos pesos calculados pelo W + LoRA. `→ LoRA_Module.reduce_module gera a versão com pesos atualizados`\n",
    "> \n",
    "> O que é esperado de aprendizado com LoRA:\n",
    "> \n",
    "> - [x] Modificar o modelo para incluir a soma das duas matrizes do LoRA `→ Cada LoRA_Module implementa o mecanismo específico de cada camada, sendo implementado para camadas lineares e Embedding`\n",
    "> - [x] Congelar parte do modelo para poder avançar no treino com a mesma tarefa, porém utilizando apenas as matrizes do LoRA, com bem menos pesos e consequentemente mais rápido `→ LoRA_Module.__init__ desabilita os gradientes do modelo original`\n",
    "> - [x] Atualizar o modelo original com o resultado do treino continuado pelo LoRA `→ LoRA_Module.reduce_module gera a versão com pesos atualizados`\n",
    "> \n",
    "> O enunciado é flexível e os objetivos estão acima. A implementação pode ser feita na mesma classe, com um parâmetro que indica se vai usar ou não as matrizes LoRA."
   ]
  },
  {
   "cell_type": "markdown",
   "metadata": {},
   "source": [
    "(OBS: as primeiras seções contem códigos retirados dos exercícios anteriores. As novas implementações começam a partir da seção \"Implementação do LoRA\").\n",
    "\n",
    "Iremos começar importando os módulos que serão utilizados na atividade:"
   ]
  },
  {
   "cell_type": "code",
   "execution_count": 1,
   "metadata": {},
   "outputs": [],
   "source": [
    "import string # Manipular strings\n",
    "from collections import Counter # Fazer contagem de elementos\n",
    "import random # Operações randômicas\n",
    "import os # Manipular arquivos\n",
    "import time # Medição de tempo\n",
    "import abc # Classes abstratas\n",
    "import itertools # Iterators\n",
    "from typing import List, Dict, Union, Tuple, Optional # Type hints\n",
    "\n",
    "import numpy as np # Operações vetoriais\n",
    "from numpy.testing import assert_raises, assert_array_equal, assert_array_almost_equal # Testes\n",
    "from numpy.typing import ArrayLike # Type hints\n",
    "import tqdm # Print do progresso\n",
    "import torch # ML\n",
    "from torch.utils.data import Dataset, DataLoader # Preparação de dados\n",
    "import matplotlib.pyplot as plt # Plots\n",
    "import wandb # Logging"
   ]
  },
  {
   "cell_type": "markdown",
   "metadata": {},
   "source": [
    "E algumas funções auxiliares que serão utilizadas:"
   ]
  },
  {
   "cell_type": "code",
   "execution_count": 2,
   "metadata": {},
   "outputs": [],
   "source": [
    "def assert_array_not_equal(array1:ArrayLike, array2:ArrayLike) -> None:\n",
    "    \"\"\"\n",
    "    Raises an AssertionError if two array_like objects are equal.\n",
    "\n",
    "    Args:\n",
    "        array1 (ArrayLike): First array to check.\n",
    "        array2 (ArrayLike): Second array to check.\n",
    "    \"\"\"\n",
    "    assert_raises(AssertionError, assert_array_equal, array1, array2)"
   ]
  },
  {
   "cell_type": "code",
   "execution_count": 3,
   "metadata": {},
   "outputs": [],
   "source": [
    "def reset_seeds(seed:int=18) -> None:\n",
    "    \"\"\"\n",
    "    Resets the random generators from random and torch to a fixed seed.\n",
    "    \"\"\"\n",
    "    random.seed(seed)\n",
    "    torch.manual_seed(seed)"
   ]
  },
  {
   "cell_type": "markdown",
   "metadata": {},
   "source": [
    "## Preparação dos dados.\n",
    "\n",
    "Nesta seção serão definidas funções para preparar os dados para treino do modelo. Devido a necessidade de alterar os parâmetros constantemente durante os experimentos de treino, são definidas em funções as operações que são necessárias. Exemplos são executados para mostrar o funcionamento correto das operações."
   ]
  },
  {
   "cell_type": "markdown",
   "metadata": {},
   "source": [
    "### Faz download e carrega o dataset\n",
    "\n",
    "Nesta seção os dados serão transferidos, lidos e limpos.\n",
    "\n",
    "O primeiro passo é realizar o download dos dados:"
   ]
  },
  {
   "cell_type": "code",
   "execution_count": 4,
   "metadata": {},
   "outputs": [],
   "source": [
    "if not os.path.isfile(\"67724.txt.utf-8\"):\n",
    "    !curl -LO https://www.gutenberg.org/ebooks/67724.txt.utf-8\n",
    "\n",
    "if not os.path.isfile(\"67725.txt.utf-8\"):\n",
    "    !curl -LO https://www.gutenberg.org/ebooks/67725.txt.utf-8"
   ]
  },
  {
   "cell_type": "markdown",
   "metadata": {},
   "source": [
    "Seguido pela leitura:"
   ]
  },
  {
   "cell_type": "code",
   "execution_count": 5,
   "metadata": {},
   "outputs": [
    {
     "data": {
      "text/plain": [
       "4971"
      ]
     },
     "execution_count": 5,
     "metadata": {},
     "output_type": "execute_result"
    }
   ],
   "source": [
    "text = open(\"67724.txt.utf-8\",\"r\", encoding=\"utf8\").read()\n",
    "text += open(\"67725.txt.utf-8\",\"r\", encoding=\"utf8\").read()\n",
    "\n",
    "paragraphs = text.split(\"\\n\\n\")\n",
    "len(paragraphs)"
   ]
  },
  {
   "cell_type": "markdown",
   "metadata": {},
   "source": [
    "E limpeza dos dados.\n",
    "\n",
    "São realizadas as seguintes operações seguindo o paper \"A Neural Probabilistic Language Model\" (Bengio, 2003).\n",
    "\n",
    "\n",
    "- Pontuação: é mantida, porém separada do texto para permitir criação de símbolos próprios no vocabulário, e evitar a criação de várias símbolos representando as palavras com pontuação (\"pontuação\" -> \"pontuação\" + \",\" )\n",
    "- Número: convertidos para símbolo especial. No caso todos os números são convertidos para \"999\", para que convirjam para o mesmo símbolo no vocabulário\n",
    "- Letras maiúsculas: convertidas para minúsculas.\n",
    "- Nomes próprios: não são alterados devido a necessidade de serem identificados, diferente do paper.\n",
    "- Palavras raras: são removidas ao criar o vocabulário."
   ]
  },
  {
   "cell_type": "code",
   "execution_count": 6,
   "metadata": {},
   "outputs": [],
   "source": [
    "def clean_text(text:str) -> str:\n",
    "    '''\n",
    "    Clean the text, changing upper case and setting numbers to 999.\n",
    "    '''\n",
    "    \n",
    "    text = text.lower() # Upper Case -> lower case\n",
    "    \n",
    "    old_text = text.split()\n",
    "    new_text = []\n",
    "\n",
    "    for j in range(len(old_text)):\n",
    "        word = old_text[j] \n",
    "\n",
    "        if word.isdigit(): #Number -> 999\n",
    "            word = \"999\"\n",
    "        elif len(word) > 1 and word[0] in string.punctuation: # Ponctuation -> separate\n",
    "            old_text.insert(j+1, word[1:])\n",
    "            word = word[0]\n",
    "        elif word[-1] in string.punctuation and len(word) > 1: # Ponctuation -> separate\n",
    "            old_text.insert(j+1, word[:-1])\n",
    "            old_text.insert(j+2, word[-1])\n",
    "            \n",
    "            word = \"\"\n",
    "        \n",
    "        if len(word) > 0: # No empty words\n",
    "            new_text.append(word)\n",
    "    \n",
    "    return \" \".join(new_text)"
   ]
  },
  {
   "cell_type": "code",
   "execution_count": 7,
   "metadata": {},
   "outputs": [],
   "source": [
    "cleaned_paragraphs = [paragraph.replace(\"\\n\", \" \") for paragraph in paragraphs if paragraph.strip()] # Removes \\n\n",
    "\n",
    "for i in range(len(cleaned_paragraphs)):\n",
    "    cleaned_paragraphs[i] = clean_text(cleaned_paragraphs[i])\n"
   ]
  },
  {
   "cell_type": "markdown",
   "metadata": {},
   "source": [
    "Podemos ver um exemplo de parágrafo limpo do dataset, junto com a quantidade total de parágrafos obtidos:"
   ]
  },
  {
   "cell_type": "code",
   "execution_count": 8,
   "metadata": {},
   "outputs": [
    {
     "name": "stdout",
     "output_type": "stream",
     "text": [
      "SAMPLE ----------------\n",
      "﻿the project gutenberg ebook of o guarany : romance brazileiro , vol . 999 ( of 999 ) this ebook is for the use of anyone anywhere in the united states and most other parts of the world at no cost and with almost no restrictions whatsoever . you may copy it , give it away or re-use it under the terms of the project gutenberg license included with this ebook or online at www.gutenberg.org . if you are not located in the united states , you\n",
      "---------------------\n",
      "4892\n"
     ]
    }
   ],
   "source": [
    "print(\"SAMPLE ----------------\")\n",
    "print(cleaned_paragraphs[0])\n",
    "print(\"---------------------\")\n",
    "\n",
    "print(len(cleaned_paragraphs))"
   ]
  },
  {
   "cell_type": "markdown",
   "metadata": {},
   "source": [
    "### Análise do dataset"
   ]
  },
  {
   "cell_type": "code",
   "execution_count": 9,
   "metadata": {},
   "outputs": [
    {
     "data": {
      "text/plain": [
       "11470"
      ]
     },
     "execution_count": 9,
     "metadata": {},
     "output_type": "execute_result"
    }
   ],
   "source": [
    "def count_words(texts:List[str]) -> Counter:\n",
    "    \"\"\"\n",
    "    Counts the words in the texts.\n",
    "\n",
    "    Args:\n",
    "        texts (List[str]): List of strings with the texts.\n",
    "\n",
    "    Returns:\n",
    "        Counter: counter with the word count across all texts.\n",
    "    \"\"\"\n",
    "    \n",
    "    word_counts = Counter()\n",
    "    for text in texts:\n",
    "        word_counts.update(text.split(\" \"))\n",
    "    return word_counts\n",
    "\n",
    "word_counts = count_words(cleaned_paragraphs)\n",
    "\n",
    "len(word_counts)"
   ]
  },
  {
   "cell_type": "markdown",
   "metadata": {},
   "source": [
    "### Criando um vocabulário\n",
    "\n",
    "Com a contagem de palavras podemos definir uma função para criar um novo vocabulário:"
   ]
  },
  {
   "cell_type": "code",
   "execution_count": 10,
   "metadata": {},
   "outputs": [],
   "source": [
    "def create_vocab(word_counts:Counter, vocab_size:int) -> Tuple[Dict[str, int], List[str]]:\n",
    "    \"\"\"\n",
    "    Generates the vocabulary with the most frequent words.\n",
    "\n",
    "    Args:\n",
    "        word_counts (Counter): word count to generate vocabulary.\n",
    "        vocab_size (int): maximum size for the vocabulary.\n",
    "\n",
    "    Returns:\n",
    "        Dict[str, int]: vocabulary mapping words to codes.\n",
    "        List[str]: inverse vocabulary mapping codes to words.\n",
    "    \"\"\"\n",
    "\n",
    "\n",
    "    most_frequent_words = [word for word, count in word_counts.most_common(vocab_size)]\n",
    "    vocab = {word: i for i, word in enumerate(most_frequent_words, 1)}\n",
    "\n",
    "    inverse_vocab = list(vocab.keys())\n",
    "\n",
    "    return vocab, inverse_vocab"
   ]
  },
  {
   "cell_type": "markdown",
   "metadata": {},
   "source": [
    "E podemos executar um teste mostrando a geração de um vocabulário e suas primeiras 0 entradas:"
   ]
  },
  {
   "cell_type": "code",
   "execution_count": 11,
   "metadata": {},
   "outputs": [],
   "source": [
    "test_vocab_size = 1000\n",
    "test_vocab, test_inverse_vocab = create_vocab(word_counts, test_vocab_size)"
   ]
  },
  {
   "cell_type": "code",
   "execution_count": 12,
   "metadata": {},
   "outputs": [
    {
     "data": {
      "text/plain": [
       "[(',', 1),\n",
       " ('a', 2),\n",
       " ('que', 3),\n",
       " ('-', 4),\n",
       " ('o', 5),\n",
       " ('de', 6),\n",
       " ('e', 7),\n",
       " (';', 8),\n",
       " ('.', 9),\n",
       " ('um', 10)]"
      ]
     },
     "execution_count": 12,
     "metadata": {},
     "output_type": "execute_result"
    }
   ],
   "source": [
    "list(itertools.islice(test_vocab.items(), 10))"
   ]
  },
  {
   "cell_type": "markdown",
   "metadata": {},
   "source": [
    "É interessante observar que as palavras mais frequentes são acentuações, o que pode dificultar o aprendizado de sentenças significativas."
   ]
  },
  {
   "cell_type": "markdown",
   "metadata": {},
   "source": [
    "### Codificando e Decodificando sentenças\n",
    "\n",
    "Podemos utilizar as seguintes funções para codificar um texto e decodificá-lo:"
   ]
  },
  {
   "cell_type": "code",
   "execution_count": 13,
   "metadata": {},
   "outputs": [],
   "source": [
    "def encode_sentence(sentence:Union[str,List[str]], vocab:Dict) -> List[int]:\n",
    "    \"\"\"\n",
    "    Encodes a sentence using a vocabulary.\n",
    "\n",
    "    Args:\n",
    "        sentence (Union[str,List[str]]): sentence to encode. Or a string,\n",
    "            or the string already separated into words\n",
    "        vocab (Dict): vocabulary to encode. Maps words to codes.\n",
    "\n",
    "    Returns:\n",
    "        List[int]: the encoded sentence\n",
    "    \"\"\"\n",
    "    if isinstance(sentence, list):\n",
    "        words = sentence\n",
    "    else:\n",
    "        words = sentence.split(\" \")\n",
    "    \n",
    "    return [vocab.get(word, 0) for word in words]"
   ]
  },
  {
   "cell_type": "code",
   "execution_count": 14,
   "metadata": {},
   "outputs": [],
   "source": [
    "def decode_sentence(encoding:List[int], inverse_vocab:List[str]) -> List[str]:\n",
    "    \"\"\"\n",
    "    Decodes a sentence back to words.\n",
    "\n",
    "    Args:\n",
    "        encoding (List[int]): encoded sentence to decode.\n",
    "        inverse_vocab (List[str]): inverse vocabulary. Maps codes to words\n",
    "\n",
    "    Returns:\n",
    "        List[str]: decoded sentence. Unknown codes are decoded to '???' \n",
    "    \"\"\"\n",
    "    result = []\n",
    "\n",
    "    for encoding_i in encoding:\n",
    "        if encoding_i == 0:\n",
    "            result.append(\"???\")\n",
    "        else:\n",
    "            result.append(inverse_vocab[encoding_i-1])\n",
    "\n",
    "    return result"
   ]
  },
  {
   "cell_type": "markdown",
   "metadata": {},
   "source": [
    "### Separação e Classe do dataset\n",
    "\n",
    "Aqui iremos definir as sentenças a partir dos textos; divídi-las em treino, teste e valiadação; e criar a classe para carregar os dados durante os experimentos."
   ]
  },
  {
   "cell_type": "code",
   "execution_count": 15,
   "metadata": {},
   "outputs": [],
   "source": [
    "def create_sequences(texts:List[str], context_size:int, \n",
    "                     vocab:Dict) -> Tuple[List[List[int]], List[int]]:\n",
    "    \"\"\"\n",
    "    Creates sequences from the texts, with the target (word to predict), \n",
    "    using a fixed size and vocabulary.\n",
    "\n",
    "    Args:\n",
    "        texts (List[str]): texts to create sequences.\n",
    "        context_size (int): size of the sequences.\n",
    "        vocab (Dict): maps words to codes.\n",
    "\n",
    "    Returns:\n",
    "        List[List[int]]: created sequences. \n",
    "        List[int]]: created targets.\n",
    "    \"\"\"\n",
    "\n",
    "\n",
    "    x_all = []\n",
    "    y_all = []\n",
    "\n",
    "    for paragraph in texts:\n",
    "        start = 0\n",
    "        end = context_size\n",
    "\n",
    "        paragraph = encode_sentence(paragraph, vocab)\n",
    "\n",
    "        while end < len(paragraph):\n",
    "            x = paragraph[start:end]\n",
    "            y = paragraph[end]\n",
    "\n",
    "            if not ( 0 in x or 0 == y):\n",
    "                x_all.append(x)\n",
    "                y_all.append(y)\n",
    "\n",
    "            start += 1\n",
    "            end += 1\n",
    "            \n",
    "    x_all = np.array(x_all)\n",
    "    y_all = np.array(y_all)\n",
    "\n",
    "    return x_all, y_all"
   ]
  },
  {
   "cell_type": "markdown",
   "metadata": {},
   "source": [
    "Criamos um dataset de teste e validamos que as entradas e targets possuem o mesmo tamanho."
   ]
  },
  {
   "cell_type": "code",
   "execution_count": 16,
   "metadata": {},
   "outputs": [],
   "source": [
    "test_context_size = 10\n",
    "\n",
    "test_x_all, test_y_all = create_sequences(cleaned_paragraphs, test_context_size, test_vocab)"
   ]
  },
  {
   "cell_type": "code",
   "execution_count": 17,
   "metadata": {},
   "outputs": [],
   "source": [
    "assert len(test_x_all) == len(test_y_all)"
   ]
  },
  {
   "cell_type": "markdown",
   "metadata": {},
   "source": [
    "Para evitar viéses, definimos uma função para embaralhar o dataset:"
   ]
  },
  {
   "cell_type": "code",
   "execution_count": 18,
   "metadata": {},
   "outputs": [],
   "source": [
    "def shuffle_dataset(x:List, y:List) -> Tuple[List, List]:\n",
    "    \"\"\"\n",
    "    Shuffle the dataset.\n",
    "\n",
    "    Args:\n",
    "        x (List): dataset inputs.\n",
    "        y (List): dataset targets.\n",
    "\n",
    "    Returns:\n",
    "        List: shuffled inputs. \n",
    "        List: shuffled outputs.\n",
    "    \"\"\"\n",
    "\n",
    "    indexes = list(range(len(x)))\n",
    "    random.shuffle(indexes)\n",
    "\n",
    "    x = x[indexes]\n",
    "    y = y[indexes]\n",
    "\n",
    "    return x, y"
   ]
  },
  {
   "cell_type": "markdown",
   "metadata": {},
   "source": [
    "E separamos os dados em treino (60%), validação (20%) e teste (20%):"
   ]
  },
  {
   "cell_type": "code",
   "execution_count": 19,
   "metadata": {},
   "outputs": [],
   "source": [
    "def separate_dataset(x_all:List, y_all:List) -> Tuple[Tuple[List, List], Tuple[List, List], Tuple[List, List]]:\n",
    "    \"\"\"\n",
    "    Separate the data in train, validation and test.\n",
    "\n",
    "    Args:\n",
    "        x_all (List): all dataset inputs.\n",
    "        y_all (List): all dataset targets.\n",
    "\n",
    "    Returns:\n",
    "        Tuple[List, List]: train inputs and targets. \n",
    "        Tuple[List, List]: validation inputs and targets.\n",
    "        Tuple[List, List]: test inputs and targets.\n",
    "    \"\"\"\n",
    "    size_all = len(x_all)\n",
    "\n",
    "    cut1 = int(0.6*size_all)\n",
    "    cut2 = int(0.8*size_all)\n",
    "\n",
    "    x_train = x_all[0:cut1]\n",
    "    y_train = y_all[0:cut1]\n",
    "\n",
    "    x_val = x_all[cut1:cut2]\n",
    "    y_val = y_all[cut1:cut2]\n",
    "\n",
    "    x_test = x_all[cut2:]\n",
    "    y_test = y_all[cut2:]\n",
    "\n",
    "    return (x_train, y_train), (x_val, y_val), (x_test, y_test)"
   ]
  },
  {
   "cell_type": "markdown",
   "metadata": {},
   "source": [
    "Separamos os conjuntos e demonstramos que a separação separa corretamente os dados:"
   ]
  },
  {
   "cell_type": "code",
   "execution_count": 20,
   "metadata": {},
   "outputs": [],
   "source": [
    "(test_x_train, test_y_train), (test_x_val, test_y_val), (test_x_test, test_y_test) = separate_dataset(test_x_all, test_y_all)"
   ]
  },
  {
   "cell_type": "code",
   "execution_count": 21,
   "metadata": {},
   "outputs": [],
   "source": [
    "assert len(test_x_train)+len(test_x_val)+len(test_x_test) == len(test_x_all)\n",
    "\n",
    "assert len(test_x_train) == int(0.6*len(test_x_all))\n",
    "assert len(test_x_val) == np.floor(0.2*len(test_x_all))\n",
    "assert len(test_x_test) == np.ceil(0.2*len(test_x_all))\n",
    "\n",
    "assert len(test_x_train) == len(test_y_train)\n",
    "assert len(test_x_val) == len(test_y_val)\n",
    "assert len(test_x_test) == len(test_y_test)"
   ]
  },
  {
   "cell_type": "markdown",
   "metadata": {},
   "source": [
    "Criamos a classe para manipular o dataset:"
   ]
  },
  {
   "cell_type": "code",
   "execution_count": 22,
   "metadata": {},
   "outputs": [],
   "source": [
    "class TextPredictDataset(Dataset):\n",
    "    \"\"\"\n",
    "    Text prediction dataset.\n",
    "\n",
    "    Input: sequence of encoded words.\n",
    "    Target: next word for the sequence.\n",
    "    \"\"\"\n",
    "    \n",
    "    def __init__(self, x_data:List[List[int]], y_data:List[int]) -> None:\n",
    "        \"\"\"\n",
    "        Creates a new dataset.\n",
    "\n",
    "        Args:\n",
    "            x_data (List[List[int]]): dataset inputs.\n",
    "            y_data (List[int]): dataset targets.\n",
    "\n",
    "        Raises:\n",
    "            ValueError: if input and target have different sizes.\n",
    "        \"\"\"\n",
    "\n",
    "        self._x_data = torch.tensor(x_data)-1\n",
    "        self._y_data = torch.tensor(y_data, dtype=torch.int64)-1\n",
    "        \n",
    "        if len(x_data) != len(y_data):\n",
    "            raise ValueError(f\"x_data and y_data must have same size. ({len(x_data)} ≠ {len(y_data)})\")\n",
    "        \n",
    "        self._size = len(x_data)\n",
    "\n",
    "    def __len__(self) -> int:\n",
    "        \"\"\"\n",
    "        Gets the size of the dataset.\n",
    "\n",
    "        Returns:\n",
    "            int: dataset size.\n",
    "        \"\"\"\n",
    "\n",
    "        return self._size\n",
    "\n",
    "    def __getitem__(self, idx:int) -> Tuple[torch.Tensor, torch.Tensor]:\n",
    "        \"\"\"\n",
    "        Gets a item of the dataset.\n",
    "\n",
    "        Args:\n",
    "            idx (int): data index.\n",
    "\n",
    "        Returns:\n",
    "            torch.Tensor: dataset input. \n",
    "            torch.Tensor: dataset target.\n",
    "        \"\"\"\n",
    "        return self._x_data[idx], self._y_data[idx]\n"
   ]
  },
  {
   "cell_type": "markdown",
   "metadata": {},
   "source": [
    "Geramos um dataset de exemplo e mostramos que os tamanhos das entradas e saídas está correto:"
   ]
  },
  {
   "cell_type": "code",
   "execution_count": 23,
   "metadata": {},
   "outputs": [],
   "source": [
    "test_train_dataset = TextPredictDataset(test_x_train, test_y_train)\n",
    "\n",
    "assert_array_equal(test_train_dataset[0][0].shape, [test_context_size])\n",
    "assert_array_equal(test_train_dataset[0][1].shape, [])"
   ]
  },
  {
   "cell_type": "markdown",
   "metadata": {},
   "source": [
    "Por fim, mostramos o uso de um DataLoader e mostramos que os dados possuem tamanhos corretos:"
   ]
  },
  {
   "cell_type": "code",
   "execution_count": 24,
   "metadata": {},
   "outputs": [],
   "source": [
    "test_batch_size = 5\n",
    "test_train_loader = DataLoader(test_train_dataset, batch_size=test_batch_size, shuffle=True)\n",
    "\n",
    "test_data = next(iter(test_train_loader))\n",
    "\n",
    "assert_array_equal(test_data[0].shape, [test_batch_size, test_context_size])\n",
    "assert_array_equal(test_data[1].shape, [test_batch_size])"
   ]
  },
  {
   "cell_type": "markdown",
   "metadata": {},
   "source": [
    "### Juntando tudo"
   ]
  },
  {
   "cell_type": "markdown",
   "metadata": {},
   "source": [
    "Para o uso posterior, podemos juntar todas as funções criadas realizando o processo completo de geração do dataset:"
   ]
  },
  {
   "cell_type": "code",
   "execution_count": 25,
   "metadata": {},
   "outputs": [],
   "source": [
    "def create_data_loaders(texts:List[str], vocab_size:int, context_size:int, batch_size:int) -> Tuple[Dict, List, Dict[str, DataLoader]]:\n",
    "    \"\"\"\n",
    "    Generates a text prediction dataset.\n",
    "\n",
    "    Args:\n",
    "        texts (List[str]): texts to generate the dataset.\n",
    "        vocab_size (int): size of the vocabulary (know words).\n",
    "        context_size (int): size of the sequences.\n",
    "        batch_size (int): size of the batchs.\n",
    "\n",
    "    Returns:\n",
    "        Dict: vocabulary. Maps words to codes.\n",
    "        List: inverse vocabulary. Maps codes to words.\n",
    "        Dict[str, DataLoader]: dataloaders.\n",
    "    \"\"\"\n",
    "\n",
    "    word_counts = count_words(texts)\n",
    "    vocab, inverse_vocab = create_vocab(word_counts, vocab_size)\n",
    "\n",
    "    x_all, y_all = create_sequences(texts, context_size, vocab)\n",
    "    \n",
    "    x_all, y_all = shuffle_dataset(x_all, y_all)\n",
    "\n",
    "    (x_train, y_train), (x_val, y_val), (x_test, y_test) = separate_dataset(x_all, y_all)\n",
    "\n",
    "    train_dataset = TextPredictDataset(x_train, y_train)\n",
    "    val_dataset = TextPredictDataset(x_val, y_val)\n",
    "    test_dataset = TextPredictDataset(x_test, y_test)\n",
    "\n",
    "    train_loader = DataLoader(train_dataset, batch_size=batch_size, shuffle=True)\n",
    "    val_loader = DataLoader(val_dataset, batch_size=batch_size, shuffle=True)\n",
    "    test_loader = DataLoader(test_dataset, batch_size=batch_size, shuffle=True)\n",
    "\n",
    "    dataloaders = {\"train\": train_loader, \"val\":val_loader, \"test\":test_loader}\n",
    "\n",
    "    return vocab, inverse_vocab, dataloaders"
   ]
  },
  {
   "cell_type": "markdown",
   "metadata": {},
   "source": [
    "## Modelo\n",
    "\n",
    "Esta seção irá implementar o base modelo que será treinado, baseado em \"A Neural Probabilistic Language Model\" (Bengio, 2003)."
   ]
  },
  {
   "cell_type": "markdown",
   "metadata": {},
   "source": [
    "### Embedding\n",
    "\n",
    "Para o embedding utilizamos uma matriz de look-up aprendível:"
   ]
  },
  {
   "cell_type": "code",
   "execution_count": 26,
   "metadata": {},
   "outputs": [],
   "source": [
    "class Embedding(torch.nn.Module):\n",
    "    \"\"\"\n",
    "    Converts codes to embeddings.\n",
    "    \"\"\"\n",
    "\n",
    "    def __init__(self, embed_dim:int, vocab_size:int) -> None:\n",
    "        \"\"\"\n",
    "        Creates a new Embedding layer.\n",
    "\n",
    "        Args:\n",
    "            embed_dim (int): size of the embedding in the output.\n",
    "            vocab_size (int): size of the vocabulary the words were coded.\n",
    "        \"\"\"\n",
    "\n",
    "        super().__init__()\n",
    "\n",
    "        self._embed_dim = embed_dim\n",
    "        self._vocab_size = vocab_size\n",
    "\n",
    "        C = torch.Tensor(vocab_size, embed_dim)\n",
    "        torch.nn.init.xavier_uniform_(C)\n",
    "        self.C = torch.nn.Parameter(C)\n",
    "\n",
    "    def forward(self, input_tensor:torch.Tensor) -> torch.Tensor:\n",
    "        \"\"\"\n",
    "        Embeds the input sequences.\n",
    "\n",
    "        Args:\n",
    "            input_tensor (torch.Tensor): sequences to be embeded.\n",
    "\n",
    "        Returns:\n",
    "            torch.Tensor: result embeddings.\n",
    "        \"\"\"\n",
    "        \n",
    "        result = torch.index_select(self.C, 0, input_tensor.flatten())\n",
    "        result = result.reshape(-1, input_tensor.shape[-1], self._embed_dim)\n",
    "        \n",
    "        return result"
   ]
  },
  {
   "cell_type": "markdown",
   "metadata": {},
   "source": [
    "E testamos se a camada gera o embedding corretamente:"
   ]
  },
  {
   "cell_type": "code",
   "execution_count": 27,
   "metadata": {},
   "outputs": [],
   "source": [
    "test_embed_dim = 2\n",
    "test_vocab_size = 3\n",
    "test_sequence_size = test_vocab_size\n",
    "\n",
    "test_data = torch.empty((2, test_sequence_size), dtype=int)\n",
    "test_data[:] = torch.arange(test_vocab_size)\n",
    "\n",
    "embedding = Embedding(test_embed_dim, test_vocab_size)\n",
    "\n",
    "result = embedding(test_data)\n",
    "result = result.detach()\n",
    "\n",
    "C = embedding.C.detach()\n",
    "\n",
    "assert_array_equal(C.shape, [test_vocab_size, test_embed_dim]) #C matrix have correct shape\n",
    "assert_array_equal(result.shape, [2, test_sequence_size, test_embed_dim])\n",
    "assert_array_equal(result[0], result[1]) #Correct operation across batchs\n",
    "assert_array_equal(result[0, 0], C[0]) #First result = embedding of first word"
   ]
  },
  {
   "cell_type": "markdown",
   "metadata": {},
   "source": [
    "### Modelo"
   ]
  },
  {
   "cell_type": "code",
   "execution_count": 28,
   "metadata": {},
   "outputs": [],
   "source": [
    "\n",
    "class LanguageModel(torch.nn.Module):\n",
    "\n",
    "    def __init__(self, context_size:int, vocab_size:int, embed_dim:int, hidden_units:int):\n",
    "        super().__init__()\n",
    "        \n",
    "        #V = |Vocab|, m = |Embed|\n",
    "        #n-1 = c = |Context|\n",
    "        #h = |Hidden|\n",
    "        \n",
    "        #C[V, m](input) -> x[c*m]\n",
    "        #Linear1(x) -> x2[h]\n",
    "        #ReLU(x2) -> x3[h]  | alterado do paper (tanh)\n",
    "        #Linear2(x) -> x4[V]\n",
    "        #Linear3(x3) -> x5[V] | sem bias (Linear2 já tem bias)\n",
    "        #Add(x4, x5) -> output\n",
    "        #Sem softmax -> melhor estabilidade\n",
    "\n",
    "        m = int(context_size*embed_dim)\n",
    "\n",
    "        self.embedding = Embedding(embed_dim, vocab_size)\n",
    "        self.linear1 = torch.nn.Linear(m, hidden_units)\n",
    "        self.relu = torch.nn.ReLU() \n",
    "        self.linear2 = torch.nn.Linear(m, vocab_size)\n",
    "        self.linear3 = torch.nn.Linear(hidden_units, vocab_size, bias=False)\n",
    "\n",
    "    def forward(self, x:torch.Tensor) -> torch.Tensor:\n",
    "\n",
    "        x = self.embedding(x)\n",
    "        x = x.flatten(start_dim=1)\n",
    "        \n",
    "        x2 = self.linear1(x)\n",
    "        x3 = self.relu(x2)\n",
    "        x4 = self.linear2(x)\n",
    "        x5 = self.linear3(x3)\n",
    "\n",
    "        output = x4+x5\n",
    "\n",
    "        return output"
   ]
  },
  {
   "cell_type": "markdown",
   "metadata": {},
   "source": [
    "#### Teste do Modelo"
   ]
  },
  {
   "cell_type": "markdown",
   "metadata": {},
   "source": [
    "Testamos o modelo com uma entrada aleatória para verificar se as saídas possuem tamanhos corretos:"
   ]
  },
  {
   "cell_type": "code",
   "execution_count": 29,
   "metadata": {},
   "outputs": [],
   "source": [
    "test_batch_size = 5\n",
    "test_embed_dim = 2\n",
    "test_vocab_size = 3\n",
    "test_hidden_units = 3\n",
    "test_sequence_size = test_vocab_size\n",
    "\n",
    "test_model = LanguageModel(test_sequence_size, test_vocab_size, test_embed_dim, test_hidden_units)"
   ]
  },
  {
   "cell_type": "code",
   "execution_count": 30,
   "metadata": {},
   "outputs": [],
   "source": [
    "test_data = torch.empty((test_batch_size, test_sequence_size), dtype=int)\n",
    "test_data[:] = torch.arange(test_sequence_size)\n",
    "\n",
    "inputs = test_data\n",
    "targets = test_vocab_size*torch.rand(test_batch_size).long()\n",
    "\n",
    "output = test_model(inputs)\n",
    "result = output.argmax(dim=1)\n",
    "\n",
    "assert_array_equal(output.shape, [test_batch_size, test_vocab_size])\n",
    "assert_array_equal(result.shape, targets.shape)"
   ]
  },
  {
   "cell_type": "markdown",
   "metadata": {},
   "source": [
    "## Pré-treino"
   ]
  },
  {
   "cell_type": "markdown",
   "metadata": {},
   "source": [
    "Nesta seção iremos realizar o treino inicial, iniciando pela definição de algumas funções auxiliares."
   ]
  },
  {
   "cell_type": "markdown",
   "metadata": {},
   "source": [
    "### Funções auxiliares\n",
    "\n",
    "Iremos definir quatro funções auxiliares para: calcular a perplexidade a partir da loss, printar informações, calcular a loss e realizar o treinamento:"
   ]
  },
  {
   "cell_type": "code",
   "execution_count": 31,
   "metadata": {},
   "outputs": [],
   "source": [
    "def ppl(loss:torch.Tensor) -> torch.Tensor:\n",
    "    \"\"\"\n",
    "    Computes the perplexity from the loss.\n",
    "\n",
    "    Args:\n",
    "        loss (torch.Tensor): loss to compute the perplexity.\n",
    "\n",
    "    Returns:\n",
    "        torch.Tensor: corresponding perplexity.\n",
    "    \"\"\"\n",
    "    return torch.exp(loss)"
   ]
  },
  {
   "cell_type": "code",
   "execution_count": 32,
   "metadata": {},
   "outputs": [],
   "source": [
    "def print_info(loss_value:torch.Tensor, epoch:int, total_epochs:int, \n",
    "               time:float=0.0, accuracy:Optional[float]=None):\n",
    "    \"\"\"\n",
    "    Prints the information of a epoch.\n",
    "\n",
    "    Args:\n",
    "        loss_value (torch.Tensor): epoch loss.\n",
    "        epoch (int): epoch number.\n",
    "        total_epochs (int): total number of epochs. \n",
    "        time (float, optional): time to run the epoch. Don't print if is 0.0. Defaults to 0.0.\n",
    "        accuracy (float, optional): epoch accuracy.\n",
    "    \"\"\"\n",
    "    ppl_value = ppl(loss_value)\n",
    "\n",
    "    \n",
    "    print(f'Epoch [{epoch+1}/{total_epochs}], \\\n",
    "            Loss: {loss_value.item():.4f}, \\\n",
    "            Perplexity: {ppl_value.item():.4f}', end=\"\")\n",
    "    \n",
    "    if accuracy is not None:\n",
    "        print(f', Accuracy: {100*accuracy:.4f}%')\n",
    "\n",
    "    if time != 0:\n",
    "        print(f\", Elapsed Time: {time:.2f} sec\")    \n",
    "    else:\n",
    "        print(\"\")"
   ]
  },
  {
   "cell_type": "code",
   "execution_count": 33,
   "metadata": {},
   "outputs": [],
   "source": [
    "MODE_TRAIN = 0\n",
    "MODE_EVALUATE = 1"
   ]
  },
  {
   "cell_type": "code",
   "execution_count": 34,
   "metadata": {},
   "outputs": [],
   "source": [
    "def compute_loss(model:torch.nn.Module, loader:DataLoader, \n",
    "                 criterion:torch.nn.Module, mode:int = MODE_EVALUATE, \n",
    "                 optimizer:Optional[torch.optim.Optimizer]=None, \n",
    "                 accumulation_steps:Optional[int] = 1) -> Tuple[torch.Tensor, torch.Tensor]:\n",
    "    \"\"\"\n",
    "    Computes the loss from a model across a dataset.\n",
    "\n",
    "    If in train mode also runs optimizer steps.\n",
    "\n",
    "    Args:\n",
    "        model (torch.nn.Module): model to evaluate.\n",
    "        loader (DataLoader): dataset.\n",
    "        criterion (torch.nn.Module): loss function to compute.\n",
    "        mode (int): mode of the computation. \n",
    "                    If MODE_EVALUATE, computes without gradient, in eval mode and detachs loss.\n",
    "                    If MODE_TRAIN, computes with gradient and in train mode.\n",
    "                    Default is MODE_EVALUATE.\n",
    "        optimizer (torch.optim.Optimizer, optional): optimizer to use in the train mode.\n",
    "\n",
    "    Returns:\n",
    "        torch.Tensor: resulting loss.\n",
    "    \"\"\"\n",
    "    device = next(iter(model.parameters())).device\n",
    "\n",
    "    if mode == MODE_EVALUATE:\n",
    "        model.eval()\n",
    "        torch.set_grad_enabled(False)\n",
    "    elif mode == MODE_TRAIN:\n",
    "        model.train()\n",
    "        torch.set_grad_enabled(True)\n",
    "        optimizer.zero_grad()\n",
    "    else:\n",
    "        raise ValueError(f\"Unknown mode: {mode}.\")\n",
    "\n",
    "    batch_index = 0\n",
    "    total_loss = torch.tensor(0, dtype=torch.float32, device=device)\n",
    "    n = 0\n",
    "    for inputs, targets in tqdm.tqdm(loader):\n",
    "        inputs = inputs.to(device)\n",
    "        targets = targets.to(device)\n",
    "        \n",
    "        logits = model(inputs)\n",
    "        logits = logits.view(-1, logits.shape[-1])\n",
    "\n",
    "        loss : torch.Tensor = criterion(logits.squeeze(), targets)\n",
    "        total_loss += loss*targets.size(0)\n",
    "        \n",
    "        \n",
    "        n += targets.size(0)\n",
    "\n",
    "        if mode == MODE_TRAIN:\n",
    "            loss /= accumulation_steps\n",
    "            loss.backward()\n",
    "\n",
    "            if ((batch_index+1) % accumulation_steps == 0) or (batch_index+1 == len(loader)):\n",
    "                optimizer.step()\n",
    "                optimizer.zero_grad()\n",
    "\n",
    "        batch_index += 1\n",
    "\n",
    "    total_loss /= n \n",
    "    \n",
    "    torch.set_grad_enabled(True)\n",
    "\n",
    "    total_loss = total_loss.detach()\n",
    "\n",
    "    return total_loss\n"
   ]
  },
  {
   "cell_type": "code",
   "execution_count": 35,
   "metadata": {},
   "outputs": [],
   "source": [
    "def train(model:torch.nn.Module, criterion:torch.nn.Module, optimizer:torch.optim.Optimizer, \n",
    "          dataloaders:DataLoader, n_epoch:int, accumulation_steps:int=1, \n",
    "          use_wandb:bool=False) -> Dict[str, ArrayLike]:\n",
    "    hist = {}\n",
    "    hist[\"loss_train\"] = []\n",
    "    hist[\"loss_val\"] = []\n",
    "    hist[\"ppl_train\"] = []\n",
    "    hist[\"ppl_val\"] = []\n",
    "    hist[\"time\"] = []\n",
    "\n",
    "    loss_val = compute_loss(model, dataloaders[\"val\"], criterion, MODE_EVALUATE)\n",
    "        \n",
    "    print(\"VAL \", end=\"\")\n",
    "    print_info(loss_val, -1, n_epoch)\n",
    "\n",
    "    for epoch in range(n_epoch):\n",
    "        start_time = time.time() \n",
    "\n",
    "        loss_train = compute_loss(model, dataloaders[\"train\"], criterion, MODE_TRAIN, optimizer, accumulation_steps)\n",
    "\n",
    "        end_time = time.time() \n",
    "        \n",
    "        epoch_duration = end_time - start_time \n",
    "\n",
    "        ppl_train = ppl(loss_train)\n",
    "\n",
    "        print_info(loss_train, epoch, n_epoch, epoch_duration)\n",
    "        \n",
    "        #Validation stats\n",
    "        loss_val = compute_loss(model, dataloaders[\"val\"], criterion, MODE_EVALUATE)\n",
    "        ppl_val = ppl(loss_val)\n",
    "        \n",
    "        print(\"VAL \", end=\"\")\n",
    "        print_info(loss_val, epoch, n_epoch)\n",
    "\n",
    "        #Save history\n",
    "        hist[\"loss_train\"].append(loss_train.item())\n",
    "        hist[\"loss_val\"].append(loss_val.item())\n",
    "        hist[\"ppl_train\"].append(ppl_train.item())\n",
    "        hist[\"ppl_val\"].append(ppl_val.item())\n",
    "        hist[\"time\"].append(epoch_duration)\n",
    "\n",
    "\n",
    "        log = {\n",
    "            \"loss_train\": loss_train.item(),\n",
    "            \"loss_val\": loss_val.item(),\n",
    "            \"ppl_train\": ppl_train.item(),\n",
    "            \"ppl_val\": ppl_val.item(),\n",
    "        }\n",
    "\n",
    "        if use_wandb:\n",
    "            wandb.log(log)\n",
    "\n",
    "    for key in hist:\n",
    "        hist[key] = np.array(hist[key])\n",
    "\n",
    "    if use_wandb:\n",
    "        wandb.finish()\n",
    "\n",
    "    return hist"
   ]
  },
  {
   "cell_type": "markdown",
   "metadata": {},
   "source": [
    "### Inicialização\n",
    "\n",
    "Começamos o processo de treino inicializando as variáveis."
   ]
  },
  {
   "cell_type": "markdown",
   "metadata": {},
   "source": [
    "Definimos se será realizado o logging utilizando o wandb:"
   ]
  },
  {
   "cell_type": "code",
   "execution_count": 36,
   "metadata": {},
   "outputs": [],
   "source": [
    "use_wandb = False"
   ]
  },
  {
   "cell_type": "markdown",
   "metadata": {},
   "source": [
    "Checamos se existe uma GPU disponível:"
   ]
  },
  {
   "cell_type": "code",
   "execution_count": 37,
   "metadata": {},
   "outputs": [
    {
     "data": {
      "text/plain": [
       "device(type='cpu')"
      ]
     },
     "execution_count": 37,
     "metadata": {},
     "output_type": "execute_result"
    }
   ],
   "source": [
    "# Verifica se há uma GPU disponível e define o dispositivo para GPU se possível, caso contrário, usa a CPU\n",
    "device = torch.device('cuda' if torch.cuda.is_available() else 'cpu')\n",
    "device"
   ]
  },
  {
   "cell_type": "markdown",
   "metadata": {},
   "source": [
    "Definimos os parâmetros de treino:"
   ]
  },
  {
   "cell_type": "markdown",
   "metadata": {},
   "source": [
    "Definimos os parâmetros de treino:"
   ]
  },
  {
   "cell_type": "code",
   "execution_count": 38,
   "metadata": {},
   "outputs": [],
   "source": [
    "accumulation_steps = 1 # Passos de acumulação de gradiente\n",
    "batch_size = 32 # Tamanho de um batch\n",
    "context_size = 5 # Tamanho de uma sequência\n",
    "embed_dim = 64 # Tamanho do feature vector de cada palavra\n",
    "hidden_units = 300 # Quantidade de unidades na camada escondida\n",
    "lr = 5e-1 # Taxa de treinamento\n",
    "n_epoch = 10 # Quantidade de epochs\n",
    "optimizer_class = torch.optim.SGD # Otimizador\n",
    "vocab_size = 3000 # Quantidade de palavras no vocabulário\n",
    "weight_decay = 1e-3 # Regularização L2\n",
    "\n",
    "config = {\n",
    "    \"accumulation_steps\": accumulation_steps,\n",
    "    \"batch_size\": batch_size,\n",
    "    \"embed_dim\":embed_dim,\n",
    "    \"hidden_units\":hidden_units,\n",
    "    \"lr\": lr,\n",
    "    \"n_epoch\": n_epoch,\n",
    "    \"optimizer_class\": optimizer_class.__name__,\n",
    "    \"context_size\" : context_size,\n",
    "    \"weight_decay\": weight_decay,\n",
    "}\n",
    "\n",
    "if use_wandb:\n",
    "    run = wandb.init(project=\"IA024-06-LoRA-Base\", config=config)"
   ]
  },
  {
   "cell_type": "markdown",
   "metadata": {},
   "source": [
    "Reiniciamos as sementes:"
   ]
  },
  {
   "cell_type": "code",
   "execution_count": 39,
   "metadata": {},
   "outputs": [],
   "source": [
    "reset_seeds()"
   ]
  },
  {
   "cell_type": "markdown",
   "metadata": {},
   "source": [
    "Criamos o vocabulário, dataset, modelo, loss, otimizador e dataloaders:"
   ]
  },
  {
   "cell_type": "code",
   "execution_count": 40,
   "metadata": {},
   "outputs": [
    {
     "name": "stderr",
     "output_type": "stream",
     "text": [
      "C:\\Users\\Elton\\AppData\\Local\\Packages\\PythonSoftwareFoundation.Python.3.11_qbz5n2kfra8p0\\LocalCache\\local-packages\\Python311\\site-packages\\tqdm\\auto.py:21: TqdmWarning: IProgress not found. Please update jupyter and ipywidgets. See https://ipywidgets.readthedocs.io/en/stable/user_install.html\n",
      "  from .autonotebook import tqdm as notebook_tqdm\n"
     ]
    }
   ],
   "source": [
    "vocab, inverse_vocab, dataloaders = create_data_loaders(cleaned_paragraphs, vocab_size, context_size, batch_size)\n",
    "\n",
    "\n",
    "base_model = LanguageModel(context_size, vocab_size, embed_dim, hidden_units)\n",
    "base_model.to(device)\n",
    "\n",
    "criterion = torch.nn.CrossEntropyLoss()\n",
    "optimizer = optimizer_class(base_model.parameters(), lr=lr, weight_decay=weight_decay)"
   ]
  },
  {
   "cell_type": "markdown",
   "metadata": {},
   "source": [
    "### Treino"
   ]
  },
  {
   "cell_type": "code",
   "execution_count": 41,
   "metadata": {},
   "outputs": [
    {
     "name": "stderr",
     "output_type": "stream",
     "text": [
      "100%|██████████| 239/239 [00:00<00:00, 246.00it/s]\n"
     ]
    },
    {
     "name": "stdout",
     "output_type": "stream",
     "text": [
      "VAL Epoch [0/10],             Loss: 8.0003,             Perplexity: 2981.9731\n"
     ]
    },
    {
     "name": "stderr",
     "output_type": "stream",
     "text": [
      "100%|██████████| 715/715 [00:07<00:00, 93.79it/s] \n"
     ]
    },
    {
     "name": "stdout",
     "output_type": "stream",
     "text": [
      "Epoch [1/10],             Loss: 6.1736,             Perplexity: 479.8941, Elapsed Time: 7.64 sec\n"
     ]
    },
    {
     "name": "stderr",
     "output_type": "stream",
     "text": [
      "100%|██████████| 239/239 [00:00<00:00, 304.88it/s]\n"
     ]
    },
    {
     "name": "stdout",
     "output_type": "stream",
     "text": [
      "VAL Epoch [1/10],             Loss: 5.7876,             Perplexity: 326.2298\n"
     ]
    },
    {
     "name": "stderr",
     "output_type": "stream",
     "text": [
      "100%|██████████| 715/715 [00:06<00:00, 105.23it/s]\n"
     ]
    },
    {
     "name": "stdout",
     "output_type": "stream",
     "text": [
      "Epoch [2/10],             Loss: 5.6037,             Perplexity: 271.4308, Elapsed Time: 6.81 sec\n"
     ]
    },
    {
     "name": "stderr",
     "output_type": "stream",
     "text": [
      "100%|██████████| 239/239 [00:00<00:00, 296.01it/s]\n"
     ]
    },
    {
     "name": "stdout",
     "output_type": "stream",
     "text": [
      "VAL Epoch [2/10],             Loss: 5.5218,             Perplexity: 250.0778\n"
     ]
    },
    {
     "name": "stderr",
     "output_type": "stream",
     "text": [
      "100%|██████████| 715/715 [00:06<00:00, 107.17it/s]\n"
     ]
    },
    {
     "name": "stdout",
     "output_type": "stream",
     "text": [
      "Epoch [3/10],             Loss: 5.2936,             Perplexity: 199.0536, Elapsed Time: 6.68 sec\n"
     ]
    },
    {
     "name": "stderr",
     "output_type": "stream",
     "text": [
      "100%|██████████| 239/239 [00:00<00:00, 325.48it/s]\n"
     ]
    },
    {
     "name": "stdout",
     "output_type": "stream",
     "text": [
      "VAL Epoch [3/10],             Loss: 5.3614,             Perplexity: 213.0181\n"
     ]
    },
    {
     "name": "stderr",
     "output_type": "stream",
     "text": [
      "100%|██████████| 715/715 [00:06<00:00, 102.98it/s]\n"
     ]
    },
    {
     "name": "stdout",
     "output_type": "stream",
     "text": [
      "Epoch [4/10],             Loss: 5.0722,             Perplexity: 159.5252, Elapsed Time: 6.96 sec\n"
     ]
    },
    {
     "name": "stderr",
     "output_type": "stream",
     "text": [
      "100%|██████████| 239/239 [00:00<00:00, 311.31it/s]\n"
     ]
    },
    {
     "name": "stdout",
     "output_type": "stream",
     "text": [
      "VAL Epoch [4/10],             Loss: 5.2387,             Perplexity: 188.4164\n"
     ]
    },
    {
     "name": "stderr",
     "output_type": "stream",
     "text": [
      "100%|██████████| 715/715 [00:06<00:00, 106.99it/s]\n"
     ]
    },
    {
     "name": "stdout",
     "output_type": "stream",
     "text": [
      "Epoch [5/10],             Loss: 4.9181,             Perplexity: 136.7440, Elapsed Time: 6.69 sec\n"
     ]
    },
    {
     "name": "stderr",
     "output_type": "stream",
     "text": [
      "100%|██████████| 239/239 [00:00<00:00, 307.47it/s]\n"
     ]
    },
    {
     "name": "stdout",
     "output_type": "stream",
     "text": [
      "VAL Epoch [5/10],             Loss: 5.2078,             Perplexity: 182.6973\n"
     ]
    },
    {
     "name": "stderr",
     "output_type": "stream",
     "text": [
      "100%|██████████| 715/715 [00:06<00:00, 107.94it/s]\n"
     ]
    },
    {
     "name": "stdout",
     "output_type": "stream",
     "text": [
      "Epoch [6/10],             Loss: 4.8079,             Perplexity: 122.4687, Elapsed Time: 6.64 sec\n"
     ]
    },
    {
     "name": "stderr",
     "output_type": "stream",
     "text": [
      "100%|██████████| 239/239 [00:00<00:00, 328.93it/s]\n"
     ]
    },
    {
     "name": "stdout",
     "output_type": "stream",
     "text": [
      "VAL Epoch [6/10],             Loss: 5.2073,             Perplexity: 182.5919\n"
     ]
    },
    {
     "name": "stderr",
     "output_type": "stream",
     "text": [
      "100%|██████████| 715/715 [00:06<00:00, 107.53it/s]\n"
     ]
    },
    {
     "name": "stdout",
     "output_type": "stream",
     "text": [
      "Epoch [7/10],             Loss: 4.7229,             Perplexity: 112.4965, Elapsed Time: 6.66 sec\n"
     ]
    },
    {
     "name": "stderr",
     "output_type": "stream",
     "text": [
      "100%|██████████| 239/239 [00:00<00:00, 315.32it/s]\n"
     ]
    },
    {
     "name": "stdout",
     "output_type": "stream",
     "text": [
      "VAL Epoch [7/10],             Loss: 5.1154,             Perplexity: 166.5742\n"
     ]
    },
    {
     "name": "stderr",
     "output_type": "stream",
     "text": [
      "100%|██████████| 715/715 [00:06<00:00, 104.41it/s]\n"
     ]
    },
    {
     "name": "stdout",
     "output_type": "stream",
     "text": [
      "Epoch [8/10],             Loss: 4.6500,             Perplexity: 104.5895, Elapsed Time: 6.86 sec\n"
     ]
    },
    {
     "name": "stderr",
     "output_type": "stream",
     "text": [
      "100%|██████████| 239/239 [00:00<00:00, 283.53it/s]\n"
     ]
    },
    {
     "name": "stdout",
     "output_type": "stream",
     "text": [
      "VAL Epoch [8/10],             Loss: 5.1138,             Perplexity: 166.2961\n"
     ]
    },
    {
     "name": "stderr",
     "output_type": "stream",
     "text": [
      "100%|██████████| 715/715 [00:06<00:00, 110.68it/s]\n"
     ]
    },
    {
     "name": "stdout",
     "output_type": "stream",
     "text": [
      "Epoch [9/10],             Loss: 4.5941,             Perplexity: 98.8986, Elapsed Time: 6.47 sec\n"
     ]
    },
    {
     "name": "stderr",
     "output_type": "stream",
     "text": [
      "100%|██████████| 239/239 [00:00<00:00, 375.74it/s]\n"
     ]
    },
    {
     "name": "stdout",
     "output_type": "stream",
     "text": [
      "VAL Epoch [9/10],             Loss: 5.0766,             Perplexity: 160.2320\n"
     ]
    },
    {
     "name": "stderr",
     "output_type": "stream",
     "text": [
      "100%|██████████| 715/715 [00:05<00:00, 122.65it/s]\n"
     ]
    },
    {
     "name": "stdout",
     "output_type": "stream",
     "text": [
      "Epoch [10/10],             Loss: 4.5418,             Perplexity: 93.8578, Elapsed Time: 5.84 sec\n"
     ]
    },
    {
     "name": "stderr",
     "output_type": "stream",
     "text": [
      "100%|██████████| 239/239 [00:00<00:00, 370.55it/s]"
     ]
    },
    {
     "name": "stdout",
     "output_type": "stream",
     "text": [
      "VAL Epoch [10/10],             Loss: 5.0727,             Perplexity: 159.6102\n"
     ]
    },
    {
     "name": "stderr",
     "output_type": "stream",
     "text": [
      "\n"
     ]
    }
   ],
   "source": [
    "basetrain_history = train(base_model, criterion, optimizer, dataloaders, n_epoch, accumulation_steps, use_wandb)"
   ]
  },
  {
   "cell_type": "markdown",
   "metadata": {},
   "source": [
    "Observamos que o modelo treina corretamente, porém com considerável overfitting:"
   ]
  },
  {
   "cell_type": "code",
   "execution_count": 42,
   "metadata": {},
   "outputs": [
    {
     "data": {
      "image/png": "[encoded data removed]",
      "text/plain": [
       "<Figure size 640x480 with 1 Axes>"
      ]
     },
     "metadata": {},
     "output_type": "display_data"
    }
   ],
   "source": [
    "plt.plot(basetrain_history[\"loss_train\"], \"o-\")\n",
    "plt.plot(basetrain_history[\"loss_val\"], \"o-\")\n",
    "\n",
    "plt.legend([\"Train\", \"Val\"])\n",
    "plt.xlabel(\"Epoch\")\n",
    "plt.ylabel(\"Loss\")\n",
    "plt.title(\"Loss history\")\n",
    "\n",
    "plt.show()"
   ]
  },
  {
   "cell_type": "code",
   "execution_count": 43,
   "metadata": {},
   "outputs": [
    {
     "data": {
      "image/png": "[encoded data removed]",
      "text/plain": [
       "<Figure size 640x480 with 1 Axes>"
      ]
     },
     "metadata": {},
     "output_type": "display_data"
    }
   ],
   "source": [
    "plt.plot(basetrain_history[\"ppl_train\"]/vocab_size, \"o-\")\n",
    "plt.plot(basetrain_history[\"ppl_val\"]/vocab_size, \"o-\")\n",
    "\n",
    "plt.legend([\"Train\", \"Val\"])\n",
    "plt.xlabel(\"Epoch\")\n",
    "plt.ylabel(\"Normalized PPL\")\n",
    "plt.title(\"Perplexity history\")\n",
    "\n",
    "plt.show()"
   ]
  },
  {
   "cell_type": "markdown",
   "metadata": {},
   "source": [
    "## Implementação do LoRA"
   ]
  },
  {
   "cell_type": "markdown",
   "metadata": {},
   "source": [
    "Uma vez que temos o modelo base pronto, podemos começar a implementação da técnica LoRA.\n",
    "\n",
    "Para isso, vamos começar implementando uma classe abstrata que representa um módulo LoRA, que recebe o módulo original do modelo, realiza o forward com as matrizes low-rank, e é capaz de obter um módulo reduzido somando os pesos originais com os novos pesos:"
   ]
  },
  {
   "cell_type": "code",
   "execution_count": 44,
   "metadata": {},
   "outputs": [],
   "source": [
    "class LoRA_Module(torch.nn.Module, abc.ABC):\n",
    "    '''\n",
    "    Abstract LoRA module.\n",
    "\n",
    "    A LoRA module realizes the same kind of operation as the reference module,\n",
    "    but with low-rank matrices decomposition.\n",
    "    '''\n",
    "\n",
    "    def __init__(self, original_module:torch.nn.Module, rank:int, alpha:float) -> None:\n",
    "        '''\n",
    "        LoRA_Module constructor.\n",
    "\n",
    "        Args:\n",
    "            original_module (torch.nn.Module): original module to be LoRAed\n",
    "            rank (int): matrices rank. Must be positive and integer.\n",
    "            alpha (float): scaling parameter for the weight update.\n",
    "\n",
    "        Raises:\n",
    "            ValueError: if rank is not positive or integer.\n",
    "        '''\n",
    "        super().__init__()\n",
    "\n",
    "        if rank < 0 or not isinstance(rank, int):\n",
    "            raise ValueError(f\"'rank' must be positive and integer. Received rank={rank}, type={type(rank)}\")\n",
    "\n",
    "        for param in original_module.parameters():\n",
    "            param.requires_grad = False\n",
    "\n",
    "        self._original_module = original_module\n",
    "        self._rank = rank\n",
    "        self._alpha = alpha\n",
    "        self._scaling = alpha/rank\n",
    "\n",
    "    @abc.abstractmethod\n",
    "    def reduce_module(self) -> torch.nn.Module:\n",
    "        '''\n",
    "        Generates a reduced version of the original module,\n",
    "        incorporating the new calculated weights.\n",
    "\n",
    "        Returns:\n",
    "            torch.nn.Module: reduced module.\n",
    "        '''\n",
    "        ..."
   ]
  },
  {
   "cell_type": "markdown",
   "metadata": {},
   "source": [
    "### Linear"
   ]
  },
  {
   "cell_type": "markdown",
   "metadata": {},
   "source": [
    "O primeiro módulo LoRA que iremos gerar é uma versão do módulo `Linear` utilizando matrizes low-rank, igual descrito no paper:"
   ]
  },
  {
   "cell_type": "code",
   "execution_count": 45,
   "metadata": {},
   "outputs": [],
   "source": [
    "class LoRA_Linear(LoRA_Module):\n",
    "    '''\n",
    "    LoRA version of a Linear module.\n",
    "\n",
    "    Realizes the operation with low-rank A and B matrices:\n",
    "\n",
    "    y = x @ Aᵀ @ Bᵀ\n",
    "    '''\n",
    "    def __init__(self, linear:torch.nn.Linear, rank:int, alpha:float=1.0) -> None:\n",
    "        '''\n",
    "        LoRA_Linear constructor.\n",
    "\n",
    "        Args:\n",
    "            linear (torch.nn.Linear): original linear module to be LoRAed.\n",
    "            rank (int): matrices rank. Must be positive and integer.\n",
    "            alpha (float): scaling parameter for the weight update. Defaults to 1.0.\n",
    "        '''\n",
    "\n",
    "        super().__init__(linear, rank, alpha)\n",
    "        self._original_module : torch.nn.Linear\n",
    "\n",
    "        self._in_features = linear.in_features\n",
    "        self._out_features = linear.out_features\n",
    "\n",
    "        device = self._original_module.weight.device\n",
    "        dtype = self._original_module.weight.dtype\n",
    "\n",
    "        B = torch.empty(self._out_features, rank, device=device, dtype=dtype)\n",
    "        A = torch.empty(rank, self._in_features, device=device, dtype=dtype)\n",
    "\n",
    "        torch.nn.init.kaiming_uniform_(A, a=5) # LoRA code initializes this way (??)\n",
    "        torch.nn.init.zeros_(B)\n",
    "\n",
    "        self.B = torch.nn.Parameter(B)\n",
    "        self.A = torch.nn.Parameter(A)\n",
    "\n",
    "    def forward(self, x:torch.Tensor) -> torch.Tensor:\n",
    "        y1 = self._original_module(x)\n",
    "        y2 = (x @ self.A.T)@self.B.T * self._scaling\n",
    "\n",
    "        y = y1+y2\n",
    "        return y\n",
    "    \n",
    "    def reduce_module(self) -> torch.nn.Linear:\n",
    "        '''\n",
    "        Reduces to a Linear module,\n",
    "        incorporating the new calculated weights.\n",
    "\n",
    "        Returns:\n",
    "            torch.nn.Linear: reduced linear module.\n",
    "        '''\n",
    "        use_bias = self._original_module.bias is not None\n",
    "        device = self._original_module.weight.device\n",
    "        dtype = self._original_module.weight.dtype\n",
    "\n",
    "        linear = torch.nn.Linear(self._in_features, self._out_features, \n",
    "                                 use_bias, device, dtype)\n",
    "        \n",
    "        W = self._original_module.weight + (self.B@self.A*self._scaling)\n",
    "        W = torch.nn.Parameter(W)\n",
    "        linear.weight = W\n",
    "        linear.bias = self._original_module.bias \n",
    "                    \n",
    "        return linear\n",
    "\n"
   ]
  },
  {
   "cell_type": "markdown",
   "metadata": {},
   "source": [
    "E testamos se as operações são realizadas corretamente:"
   ]
  },
  {
   "cell_type": "code",
   "execution_count": 46,
   "metadata": {},
   "outputs": [],
   "source": [
    "linear = torch.nn.Linear(3,4)\n",
    "lora_linear = LoRA_Linear(linear, rank=2, alpha=0.5)"
   ]
  },
  {
   "cell_type": "code",
   "execution_count": 47,
   "metadata": {},
   "outputs": [],
   "source": [
    "x = torch.rand(3)\n",
    "\n",
    "y_linear = linear(x).detach()\n",
    "y_lora = lora_linear(x).detach()\n",
    "\n",
    "assert_array_equal(y_linear, y_lora) #Initialized LoRA have zero weight update"
   ]
  },
  {
   "cell_type": "code",
   "execution_count": 48,
   "metadata": {},
   "outputs": [],
   "source": [
    "lora_linear.A = torch.nn.Parameter(torch.rand_like(lora_linear.A))\n",
    "lora_linear.B = torch.nn.Parameter(torch.rand_like(lora_linear.B))"
   ]
  },
  {
   "cell_type": "code",
   "execution_count": 49,
   "metadata": {},
   "outputs": [],
   "source": [
    "y_lora = lora_linear(x).detach()\n",
    "\n",
    "assert_array_not_equal(y_linear, y_lora) #LoRA layer changes the output"
   ]
  },
  {
   "cell_type": "code",
   "execution_count": 50,
   "metadata": {},
   "outputs": [],
   "source": [
    "reduced_linear = lora_linear.reduce_module()\n",
    "\n",
    "y_reduced = reduced_linear(x).detach()\n",
    "\n",
    "assert_array_almost_equal(y_reduced, y_lora) #Reduced result is the same as the non-reduced\n",
    "assert isinstance(reduced_linear, torch.nn.Linear) #Reduced module is of same type as the original"
   ]
  },
  {
   "cell_type": "markdown",
   "metadata": {},
   "source": [
    "### Embedding"
   ]
  },
  {
   "cell_type": "markdown",
   "metadata": {},
   "source": [
    "A versão do `Embedding` utilizando LoRA tem uma especificidade de que a primeira operação a ser realizada é um look-up na primeira matriz de pesos, gerando vetores de embeddings no espaço de dimensão menor, para posteriormente ser realizado a multiplicação, obtendo os vetores na dimensão correta:"
   ]
  },
  {
   "cell_type": "code",
   "execution_count": 51,
   "metadata": {},
   "outputs": [],
   "source": [
    "class LoRA_Embedding(LoRA_Module):\n",
    "    '''\n",
    "    LoRA version of a Embedding module.\n",
    "    '''\n",
    "    \n",
    "    def __init__(self, embedding:Embedding, rank:int, alpha:float=1.0) -> None:\n",
    "        '''\n",
    "        LoRA_Linear constructor.\n",
    "\n",
    "        Args:\n",
    "            embedding (torch.nn.Linear): original embedding module to be LoRAed.\n",
    "            rank (int): matrices rank. Must be positive and integer.\n",
    "            alpha (float): scaling parameter for the weight update. Defaults to 1.0.\n",
    "        '''\n",
    "\n",
    "        super().__init__(embedding, rank, alpha)\n",
    "        self._original_module : Embedding\n",
    "\n",
    "        self._embed_dim = self._original_module._embed_dim\n",
    "        self._vocab_size = self._original_module._vocab_size\n",
    "\n",
    "        device = self._original_module.C.device\n",
    "        dtype = self._original_module.C.dtype\n",
    "\n",
    "        A = torch.empty(self._vocab_size, rank, device=device, dtype=dtype)\n",
    "        B = torch.empty(rank, self._embed_dim, device=device, dtype=dtype)\n",
    "        \n",
    "\n",
    "        torch.nn.init.normal_(A)\n",
    "        torch.nn.init.zeros_(B)\n",
    "\n",
    "        self.A = torch.nn.Parameter(A)\n",
    "        self.B = torch.nn.Parameter(B)\n",
    "\n",
    "    \n",
    "    def forward(self, x:torch.Tensor) -> torch.Tensor:\n",
    "        y1 = self._original_module(x)\n",
    "\n",
    "        y2 = torch.index_select(self.A, 0, x.flatten())\n",
    "        y2 = y2.reshape(-1, x.shape[-1], self._rank) # [batch, sequence, rank]\n",
    "\n",
    "        y2 = y2 @ self.B # [batch, sequence, embed]\n",
    "\n",
    "        y2 *= self._scaling\n",
    "\n",
    "        result = y1+y2\n",
    "\n",
    "        return result\n",
    "\n",
    "    def reduce_module(self) -> Embedding:\n",
    "        '''\n",
    "        Reduces to a Embedding module,\n",
    "        incorporating the new calculated weights.\n",
    "\n",
    "        Returns:\n",
    "            Embedding: reduced embedding module.\n",
    "        '''\n",
    "\n",
    "        embedding = Embedding(self._embed_dim, self._vocab_size)\n",
    "\n",
    "        C = self._original_module.C\n",
    "        delta_C = self.A@self.B*self._scaling\n",
    "        C  = C+delta_C\n",
    "\n",
    "        embedding.C = torch.nn.Parameter(C)\n",
    "\n",
    "        return embedding\n"
   ]
  },
  {
   "cell_type": "markdown",
   "metadata": {},
   "source": [
    "E realizamos mais uma vez testes para validar a implementação:"
   ]
  },
  {
   "cell_type": "code",
   "execution_count": 52,
   "metadata": {},
   "outputs": [],
   "source": [
    "test_embed_dim = 2\n",
    "test_vocab_size = 3\n",
    "test_sequence_size = test_vocab_size\n",
    "test_rank = 1\n",
    "\n",
    "test_data = torch.empty((2, test_sequence_size), dtype=int)\n",
    "test_data[:] = torch.arange(test_vocab_size)\n",
    "\n",
    "\n",
    "\n",
    "embedding = Embedding(test_embed_dim, test_vocab_size)\n",
    "lora_embedding = LoRA_Embedding(embedding, test_rank, 0.5)\n"
   ]
  },
  {
   "cell_type": "code",
   "execution_count": 53,
   "metadata": {},
   "outputs": [],
   "source": [
    "y_embedding = embedding(test_data).detach()\n",
    "y_lora = lora_embedding(test_data).detach()\n",
    "\n",
    "assert_array_equal(y_embedding, y_lora) #Initialized LoRA module have zero weights"
   ]
  },
  {
   "cell_type": "code",
   "execution_count": 54,
   "metadata": {},
   "outputs": [],
   "source": [
    "lora_embedding.A = torch.nn.Parameter(torch.rand_like(lora_embedding.A))\n",
    "lora_embedding.B = torch.nn.Parameter(torch.rand_like(lora_embedding.B))\n",
    "\n",
    "y_lora = lora_embedding(test_data).detach()\n",
    "\n",
    "assert_array_not_equal(y_embedding, y_lora) #New weights -> different result"
   ]
  },
  {
   "cell_type": "code",
   "execution_count": 55,
   "metadata": {},
   "outputs": [],
   "source": [
    "reduced_embedding = lora_embedding.reduce_module()\n",
    "\n",
    "y_reduced = reduced_embedding(test_data).detach()\n",
    "\n",
    "assert_array_equal(y_reduced, y_lora) #Reduced and non-reduced have same result\n",
    "assert isinstance(reduced_embedding, Embedding) #Reduced module is Embedding"
   ]
  },
  {
   "cell_type": "markdown",
   "metadata": {},
   "source": [
    "### Model"
   ]
  },
  {
   "cell_type": "markdown",
   "metadata": {},
   "source": [
    "E implementamos a classe LoRA_Model, responsável por gerar uma versão LoRA de um modelo inteiro.\n",
    "\n",
    "O mecanismo para isso é percorrer todos os módulos do modelo original, substituindo eles por versões LoRA; enquanto que a redução irá reduzir todos os módulos LoRAificados (leia-se lorificados):"
   ]
  },
  {
   "cell_type": "code",
   "execution_count": 56,
   "metadata": {},
   "outputs": [],
   "source": [
    "#Map from original module to LoRA version\n",
    "LoRA_MAP : Dict[torch.nn.Module, LoRA_Module] = {torch.nn.Linear:LoRA_Linear, Embedding:LoRA_Embedding}"
   ]
  },
  {
   "cell_type": "code",
   "execution_count": 57,
   "metadata": {},
   "outputs": [],
   "source": [
    "class LoRA_Model(LoRA_Module):\n",
    "    '''\n",
    "    Converts a torch module to a LoRA version, with LoRA modules.\n",
    "    '''\n",
    "\n",
    "    def __init__(self, original_module: torch.nn.Module, rank: int, alpha: float=1.0) -> None:\n",
    "        '''\n",
    "        LoRA_Model constructor.\n",
    "\n",
    "        Args:\n",
    "            original_module (torch.nn.Module): module to be LoRAed.\n",
    "            rank (int): matrices rank. Must be positive and integer.\n",
    "            alpha (float): scaling parameter for the weight update. Defaults to 1.0.\n",
    "        '''\n",
    "        super().__init__(original_module, rank, alpha)\n",
    "\n",
    "        for name in original_module._modules:\n",
    "            module = original_module._modules[name]\n",
    "\n",
    "            for original_class in LoRA_MAP:\n",
    "                if isinstance(module, original_class):\n",
    "                    lora_class = LoRA_MAP[original_class]\n",
    "                    lora_module = lora_class(module, rank, alpha)\n",
    "                    original_module._modules[name] = lora_module\n",
    "    \n",
    "    def reduce_module(self) -> torch.nn.Module:\n",
    "        '''\n",
    "        Generates a reduced version of the original module,\n",
    "        incorporating the new calculated weights.\n",
    "\n",
    "        Returns:\n",
    "            torch.nn.Module: reduced module.\n",
    "        '''\n",
    "        for name in self._original_module._modules:\n",
    "            module = self._original_module._modules[name]\n",
    "\n",
    "            if isinstance(module, LoRA_Module):\n",
    "                self._original_module._modules[name] = module.reduce_module()\n",
    "\n",
    "        return self._original_module\n",
    "    \n",
    "    def forward(self, *args, **kwargs):\n",
    "        return self._original_module(*args, **kwargs)"
   ]
  },
  {
   "cell_type": "markdown",
   "metadata": {},
   "source": [
    "Realizamos um teste inicial para verificar se as operações são realizadas corretamente com o módulo não inicializado:"
   ]
  },
  {
   "cell_type": "code",
   "execution_count": 58,
   "metadata": {},
   "outputs": [],
   "source": [
    "test_batch_size = 5\n",
    "test_embed_dim = 2\n",
    "test_vocab_size = 3\n",
    "test_hidden_units = 3\n",
    "test_sequence_size = test_vocab_size\n",
    "\n",
    "test_rank = 1\n",
    "test_alpha = 0.5\n",
    "\n",
    "test_model = LanguageModel(test_sequence_size, test_vocab_size, test_embed_dim, test_hidden_units)\n",
    "test_lora_model = LoRA_Model(test_model, test_rank, test_alpha)"
   ]
  },
  {
   "cell_type": "code",
   "execution_count": 59,
   "metadata": {},
   "outputs": [],
   "source": [
    "original_linear1_weight = test_model.linear1._original_module.weight.detach()"
   ]
  },
  {
   "cell_type": "code",
   "execution_count": 60,
   "metadata": {},
   "outputs": [],
   "source": [
    "test_data = torch.empty((test_batch_size, test_sequence_size), dtype=int)\n",
    "test_data[:] = torch.arange(test_sequence_size)\n",
    "\n",
    "test_targets = test_vocab_size*torch.rand(test_batch_size).long()\n",
    "\n",
    "output_original = test_model(test_data).detach()\n",
    "result_original = output.argmax(dim=1)\n",
    "\n",
    "output_lora = test_lora_model(test_data).detach()\n",
    "result_lora = output.argmax(dim=1)\n",
    "\n",
    "\n",
    "#Correct shapes\n",
    "assert_array_equal(output_lora.shape, [test_batch_size, test_vocab_size]) \n",
    "assert_array_equal(result_lora.shape, test_targets.shape)\n",
    "\n",
    "#Initialized weights = 0\n",
    "assert_array_equal(output_lora, output_original)"
   ]
  },
  {
   "cell_type": "markdown",
   "metadata": {},
   "source": [
    "E realizamos um passo de treino para verificar se o modelo treina corretamente e o mecanismo de redução funciona:"
   ]
  },
  {
   "cell_type": "code",
   "execution_count": 61,
   "metadata": {},
   "outputs": [],
   "source": [
    "criterion = torch.nn.CrossEntropyLoss()\n",
    "optimizer = torch.optim.Adam(test_lora_model.parameters(), lr=10)\n",
    "\n",
    "logits = test_lora_model(test_data)\n",
    "logits = logits.view(-1, logits.shape[-1])\n",
    "\n",
    "loss : torch.Tensor = criterion(logits.squeeze(), test_targets)\n",
    "\n",
    "optimizer.zero_grad()\n",
    "loss.backward()\n",
    "optimizer.step()"
   ]
  },
  {
   "cell_type": "code",
   "execution_count": 62,
   "metadata": {},
   "outputs": [],
   "source": [
    "output_lora2 = test_lora_model(test_data).detach()\n",
    "\n",
    "#Trained result is different\n",
    "assert_array_not_equal(output_lora, output_lora2)\n",
    "assert_array_not_equal(output_lora2, output_original)"
   ]
  },
  {
   "cell_type": "code",
   "execution_count": 63,
   "metadata": {},
   "outputs": [],
   "source": [
    "test_reduced_model = test_lora_model.reduce_module()\n",
    "\n",
    "output_reduced = test_reduced_model(test_data).detach()\n",
    "\n",
    "assert_array_almost_equal(output_reduced, output_lora2) #Reduced result is the same as the original\n",
    "assert isinstance(test_reduced_model, LanguageModel) #Reduced class is correct\n",
    "\n",
    "#No more LoRA modules\n",
    "for name in test_reduced_model._modules:\n",
    "    module = test_reduced_model._modules[name]\n",
    "\n",
    "    assert not isinstance(module, LoRA_Module)"
   ]
  },
  {
   "cell_type": "code",
   "execution_count": 64,
   "metadata": {},
   "outputs": [],
   "source": [
    "new_linear1_weight = test_model.linear1.weight.detach()\n",
    "\n",
    "assert_array_not_equal(new_linear1_weight, original_linear1_weight) #Weights are different from original"
   ]
  },
  {
   "cell_type": "markdown",
   "metadata": {},
   "source": [
    "## Treino\n",
    "\n",
    "Com o mecanismo LoRA implementado, podemos LoRAificar o modelo original e realizar mais um treinamento com as matrizes low-rank."
   ]
  },
  {
   "cell_type": "markdown",
   "metadata": {},
   "source": [
    "Começamos definindo os parâmetros que serão necessários e reiniciando as sementes para reprodutibilidade:"
   ]
  },
  {
   "cell_type": "code",
   "execution_count": 65,
   "metadata": {},
   "outputs": [],
   "source": [
    "use_wandb = False"
   ]
  },
  {
   "cell_type": "code",
   "execution_count": 66,
   "metadata": {},
   "outputs": [],
   "source": [
    "accumulation_steps = 1 # Passos de acumulação de gradiente\n",
    "batch_size = 32 # Tamanho de um batch\n",
    "lora_alpha = 32 #LoRA alpha for scaling\n",
    "lora_rank = 1 #LoRA rank\n",
    "lr = 5e-3 # Taxa de treinamento\n",
    "n_epoch = 10 # Quantidade de epochs\n",
    "optimizer_class = torch.optim.Adam # Otimizador\n",
    "weight_decay = 1e-3 # Regularização L2\n",
    "\n",
    "config = {\n",
    "    \"accumulation_steps\": accumulation_steps,\n",
    "    \"batch_size\": batch_size,\n",
    "    \"lora_alpha\" : lora_alpha,\n",
    "    \"lora_rank\" : lora_rank,\n",
    "    \"lr\": lr,\n",
    "    \"n_epoch\": n_epoch,\n",
    "    \"optimizer_class\": optimizer_class.__name__,\n",
    "    \"weight_decay\": weight_decay,\n",
    "}\n",
    "\n",
    "if use_wandb:\n",
    "    run = wandb.init(project=\"IA024-06-LoRA-LoRA\", config=config)"
   ]
  },
  {
   "cell_type": "code",
   "execution_count": 67,
   "metadata": {},
   "outputs": [],
   "source": [
    "reset_seeds()"
   ]
  },
  {
   "cell_type": "markdown",
   "metadata": {},
   "source": [
    "LoRAificamos o modelo e inicializamos os outros objetos:"
   ]
  },
  {
   "cell_type": "code",
   "execution_count": 68,
   "metadata": {},
   "outputs": [],
   "source": [
    "lora_model = LoRA_Model(base_model, lora_rank, lora_alpha)\n",
    "lora_model.to(device) #Not necessary, but why not :)\n",
    "\n",
    "criterion = torch.nn.CrossEntropyLoss()\n",
    "optimizer = optimizer_class(base_model.parameters(), lr=lr, weight_decay=weight_decay)"
   ]
  },
  {
   "cell_type": "markdown",
   "metadata": {},
   "source": [
    "E realizamos o novo treino:"
   ]
  },
  {
   "cell_type": "code",
   "execution_count": 69,
   "metadata": {},
   "outputs": [
    {
     "name": "stderr",
     "output_type": "stream",
     "text": [
      "100%|██████████| 239/239 [00:01<00:00, 234.63it/s]\n"
     ]
    },
    {
     "name": "stdout",
     "output_type": "stream",
     "text": [
      "VAL Epoch [0/10],             Loss: 5.0727,             Perplexity: 159.6105\n"
     ]
    },
    {
     "name": "stderr",
     "output_type": "stream",
     "text": [
      "100%|██████████| 715/715 [00:05<00:00, 119.21it/s]\n"
     ]
    },
    {
     "name": "stdout",
     "output_type": "stream",
     "text": [
      "Epoch [1/10],             Loss: 4.3896,             Perplexity: 80.6073, Elapsed Time: 6.03 sec\n"
     ]
    },
    {
     "name": "stderr",
     "output_type": "stream",
     "text": [
      "100%|██████████| 239/239 [00:00<00:00, 286.71it/s]\n"
     ]
    },
    {
     "name": "stdout",
     "output_type": "stream",
     "text": [
      "VAL Epoch [1/10],             Loss: 5.1115,             Perplexity: 165.9200\n"
     ]
    },
    {
     "name": "stderr",
     "output_type": "stream",
     "text": [
      "100%|██████████| 715/715 [00:05<00:00, 119.37it/s]\n"
     ]
    },
    {
     "name": "stdout",
     "output_type": "stream",
     "text": [
      "Epoch [2/10],             Loss: 4.3008,             Perplexity: 73.7586, Elapsed Time: 6.02 sec\n"
     ]
    },
    {
     "name": "stderr",
     "output_type": "stream",
     "text": [
      "100%|██████████| 239/239 [00:00<00:00, 286.63it/s]\n"
     ]
    },
    {
     "name": "stdout",
     "output_type": "stream",
     "text": [
      "VAL Epoch [2/10],             Loss: 5.1063,             Perplexity: 165.0548\n"
     ]
    },
    {
     "name": "stderr",
     "output_type": "stream",
     "text": [
      "100%|██████████| 715/715 [00:05<00:00, 125.06it/s]\n"
     ]
    },
    {
     "name": "stdout",
     "output_type": "stream",
     "text": [
      "Epoch [3/10],             Loss: 4.2790,             Perplexity: 72.1676, Elapsed Time: 5.75 sec\n"
     ]
    },
    {
     "name": "stderr",
     "output_type": "stream",
     "text": [
      "100%|██████████| 239/239 [00:00<00:00, 286.30it/s]\n"
     ]
    },
    {
     "name": "stdout",
     "output_type": "stream",
     "text": [
      "VAL Epoch [3/10],             Loss: 5.0785,             Perplexity: 160.5279\n"
     ]
    },
    {
     "name": "stderr",
     "output_type": "stream",
     "text": [
      "100%|██████████| 715/715 [00:05<00:00, 122.97it/s]\n"
     ]
    },
    {
     "name": "stdout",
     "output_type": "stream",
     "text": [
      "Epoch [4/10],             Loss: 4.2629,             Perplexity: 71.0124, Elapsed Time: 5.84 sec\n"
     ]
    },
    {
     "name": "stderr",
     "output_type": "stream",
     "text": [
      "100%|██████████| 239/239 [00:00<00:00, 282.81it/s]\n"
     ]
    },
    {
     "name": "stdout",
     "output_type": "stream",
     "text": [
      "VAL Epoch [4/10],             Loss: 5.0983,             Perplexity: 163.7477\n"
     ]
    },
    {
     "name": "stderr",
     "output_type": "stream",
     "text": [
      "100%|██████████| 715/715 [00:05<00:00, 126.74it/s]\n"
     ]
    },
    {
     "name": "stdout",
     "output_type": "stream",
     "text": [
      "Epoch [5/10],             Loss: 4.2549,             Perplexity: 70.4520, Elapsed Time: 5.67 sec\n"
     ]
    },
    {
     "name": "stderr",
     "output_type": "stream",
     "text": [
      "100%|██████████| 239/239 [00:00<00:00, 335.71it/s]\n"
     ]
    },
    {
     "name": "stdout",
     "output_type": "stream",
     "text": [
      "VAL Epoch [5/10],             Loss: 5.0639,             Perplexity: 158.2081\n"
     ]
    },
    {
     "name": "stderr",
     "output_type": "stream",
     "text": [
      "100%|██████████| 715/715 [00:05<00:00, 124.30it/s]\n"
     ]
    },
    {
     "name": "stdout",
     "output_type": "stream",
     "text": [
      "Epoch [6/10],             Loss: 4.2454,             Perplexity: 69.7846, Elapsed Time: 5.79 sec\n"
     ]
    },
    {
     "name": "stderr",
     "output_type": "stream",
     "text": [
      "100%|██████████| 239/239 [00:00<00:00, 281.80it/s]\n"
     ]
    },
    {
     "name": "stdout",
     "output_type": "stream",
     "text": [
      "VAL Epoch [6/10],             Loss: 5.1105,             Perplexity: 165.7610\n"
     ]
    },
    {
     "name": "stderr",
     "output_type": "stream",
     "text": [
      "100%|██████████| 715/715 [00:06<00:00, 104.04it/s]\n"
     ]
    },
    {
     "name": "stdout",
     "output_type": "stream",
     "text": [
      "Epoch [7/10],             Loss: 4.2468,             Perplexity: 69.8797, Elapsed Time: 6.90 sec\n"
     ]
    },
    {
     "name": "stderr",
     "output_type": "stream",
     "text": [
      "100%|██████████| 239/239 [00:00<00:00, 303.48it/s]\n"
     ]
    },
    {
     "name": "stdout",
     "output_type": "stream",
     "text": [
      "VAL Epoch [7/10],             Loss: 5.1184,             Perplexity: 167.0752\n"
     ]
    },
    {
     "name": "stderr",
     "output_type": "stream",
     "text": [
      "100%|██████████| 715/715 [00:05<00:00, 139.91it/s]\n"
     ]
    },
    {
     "name": "stdout",
     "output_type": "stream",
     "text": [
      "Epoch [8/10],             Loss: 4.2468,             Perplexity: 69.8825, Elapsed Time: 5.14 sec\n"
     ]
    },
    {
     "name": "stderr",
     "output_type": "stream",
     "text": [
      "100%|██████████| 239/239 [00:00<00:00, 319.96it/s]\n"
     ]
    },
    {
     "name": "stdout",
     "output_type": "stream",
     "text": [
      "VAL Epoch [8/10],             Loss: 5.0604,             Perplexity: 157.6521\n"
     ]
    },
    {
     "name": "stderr",
     "output_type": "stream",
     "text": [
      "100%|██████████| 715/715 [00:05<00:00, 141.01it/s]\n"
     ]
    },
    {
     "name": "stdout",
     "output_type": "stream",
     "text": [
      "Epoch [9/10],             Loss: 4.2410,             Perplexity: 69.4780, Elapsed Time: 5.10 sec\n"
     ]
    },
    {
     "name": "stderr",
     "output_type": "stream",
     "text": [
      "100%|██████████| 239/239 [00:00<00:00, 321.86it/s]\n"
     ]
    },
    {
     "name": "stdout",
     "output_type": "stream",
     "text": [
      "VAL Epoch [9/10],             Loss: 5.0809,             Perplexity: 160.9174\n"
     ]
    },
    {
     "name": "stderr",
     "output_type": "stream",
     "text": [
      "100%|██████████| 715/715 [00:05<00:00, 135.04it/s]\n"
     ]
    },
    {
     "name": "stdout",
     "output_type": "stream",
     "text": [
      "Epoch [10/10],             Loss: 4.2446,             Perplexity: 69.7282, Elapsed Time: 5.32 sec\n"
     ]
    },
    {
     "name": "stderr",
     "output_type": "stream",
     "text": [
      "100%|██████████| 239/239 [00:00<00:00, 315.11it/s]"
     ]
    },
    {
     "name": "stdout",
     "output_type": "stream",
     "text": [
      "VAL Epoch [10/10],             Loss: 5.0344,             Perplexity: 153.5999\n"
     ]
    },
    {
     "name": "stderr",
     "output_type": "stream",
     "text": [
      "\n"
     ]
    }
   ],
   "source": [
    "loratrain_history = train(lora_model, criterion, optimizer, dataloaders, n_epoch, accumulation_steps, use_wandb)"
   ]
  },
  {
   "cell_type": "markdown",
   "metadata": {},
   "source": [
    "Observando a evolução da loss, observamos dois aspectos: primeiramente foi possível treinar as matrizes LoRA, visto o descréscimo da perda de treino; porém, isso não gerou impactos significativos na validação. O segundo aspecto é esperado visto que o conjunto de dados utilizado para realizar este treino é o mesmo do pré-treino, sendo que seria necessário um novo conjunto de dados para validar a eficácia do processo."
   ]
  },
  {
   "cell_type": "code",
   "execution_count": 70,
   "metadata": {},
   "outputs": [
    {
     "data": {
      "image/png": "[encoded data removed]",
      "text/plain": [
       "<Figure size 640x480 with 1 Axes>"
      ]
     },
     "metadata": {},
     "output_type": "display_data"
    }
   ],
   "source": [
    "plt.plot(loratrain_history[\"loss_train\"], \"o-\")\n",
    "plt.plot(loratrain_history[\"loss_val\"], \"o-\")\n",
    "\n",
    "plt.legend([\"Train\", \"Val\"])\n",
    "plt.xlabel(\"Epoch\")\n",
    "plt.ylabel(\"Loss\")\n",
    "plt.title(\"Loss history\")\n",
    "\n",
    "plt.show()"
   ]
  },
  {
   "cell_type": "markdown",
   "metadata": {},
   "source": [
    "## Comparação"
   ]
  },
  {
   "cell_type": "markdown",
   "metadata": {},
   "source": [
    "Embora a eficácia do processo não possa ser corretamente avaliada devido ao conjunto de dados, podemos avaliar a performance do processo, observando como que o tempo de treino utilizando LoRA é menor, tanto no total quanto a média de cada época:"
   ]
  },
  {
   "cell_type": "code",
   "execution_count": 71,
   "metadata": {},
   "outputs": [
    {
     "name": "stdout",
     "output_type": "stream",
     "text": [
      "Total time | Base: 67.25818085670471 | LoRA: 57.548344135284424\n",
      "Mean time | Base: 6.725818085670471 | LoRA: 5.754834413528442\n"
     ]
    }
   ],
   "source": [
    "funcs = {\"Total time\":np.sum, \"Mean time\":np.mean}\n",
    "\n",
    "for func in funcs:\n",
    "    print(func, \"| Base:\", funcs[func](basetrain_history[\"time\"]), \"| LoRA:\", funcs[func](loratrain_history[\"time\"]))"
   ]
  },
  {
   "cell_type": "markdown",
   "metadata": {},
   "source": [
    "Para verificar a latência, avaliamos a inferência de um batch com o modelo LoRAificado, reduzido e original:"
   ]
  },
  {
   "cell_type": "code",
   "execution_count": 72,
   "metadata": {},
   "outputs": [],
   "source": [
    "x, y = next(iter(dataloaders[\"train\"]))\n",
    "x = x.to(device)"
   ]
  },
  {
   "cell_type": "code",
   "execution_count": 73,
   "metadata": {},
   "outputs": [
    {
     "name": "stdout",
     "output_type": "stream",
     "text": [
      "2.59 ms ± 190 µs per loop (mean ± std. dev. of 7 runs, 100 loops each)\n"
     ]
    }
   ],
   "source": [
    "lora_model(x)\n",
    "%timeit lora_model(x)"
   ]
  },
  {
   "cell_type": "code",
   "execution_count": 74,
   "metadata": {},
   "outputs": [],
   "source": [
    "reduced_model = lora_model.reduce_module()"
   ]
  },
  {
   "cell_type": "code",
   "execution_count": 75,
   "metadata": {},
   "outputs": [
    {
     "name": "stdout",
     "output_type": "stream",
     "text": [
      "2.09 ms ± 87.9 µs per loop (mean ± std. dev. of 7 runs, 1,000 loops each)\n"
     ]
    }
   ],
   "source": [
    "reduced_model(x)\n",
    "%timeit reduced_model(x)"
   ]
  },
  {
   "cell_type": "code",
   "execution_count": 76,
   "metadata": {},
   "outputs": [
    {
     "name": "stdout",
     "output_type": "stream",
     "text": [
      "2.37 ms ± 509 µs per loop (mean ± std. dev. of 7 runs, 100 loops each)\n"
     ]
    }
   ],
   "source": [
    "test_model = LanguageModel(context_size, vocab_size, embed_dim, hidden_units)\n",
    "test_model.to(device)\n",
    "test_model(x)\n",
    "%timeit test_model(x)"
   ]
  },
  {
   "cell_type": "markdown",
   "metadata": {},
   "source": [
    "E podemos concluir que a redução remove o tempo extra adicionado pelas operações adicionais dos módulos LoRA:\n",
    "\n",
    "Versão | Tempo\n",
    "-|-\n",
    "LoRA | 2.59 ms ± 190 µs per loop\n",
    "Reduzido | 2.09 ms ± 87.9 µs\n",
    "Original | 2.37 ms ± 509 µs\n",
    "\n",
    "Curiosamente a implementação original teve um tempo concordando com a versão LoRA e reduzida, não apenas com a reduzida como seria esperado. Isso possivelmente é devido a pequena escala em que o LoRA foi aplicado."
   ]
  }
 ],
 "metadata": {
  "kernelspec": {
   "display_name": "Python 3",
   "language": "python",
   "name": "python3"
  },
  "language_info": {
   "codemirror_mode": {
    "name": "ipython",
    "version": 3
   },
   "file_extension": ".py",
   "mimetype": "text/x-python",
   "name": "python",
   "nbconvert_exporter": "python",
   "pygments_lexer": "ipython3",
   "version": "3.11.9"
  }
 },
 "nbformat": 4,
 "nbformat_minor": 2
}
