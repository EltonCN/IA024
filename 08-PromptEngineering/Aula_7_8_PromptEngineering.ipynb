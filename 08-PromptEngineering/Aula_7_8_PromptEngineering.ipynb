{
 "cells": [
  {
   "cell_type": "code",
   "execution_count": 49,
   "metadata": {},
   "outputs": [],
   "source": [
    "import os\n",
    "import random\n",
    "from typing import Optional\n",
    "\n",
    "\n",
    "import datasets\n",
    "import groq"
   ]
  },
  {
   "cell_type": "code",
   "execution_count": 10,
   "metadata": {},
   "outputs": [],
   "source": [
    "class GroqInterface:\n",
    "    _client = None \n",
    "\n",
    "    LLAMA3_70B = \"llama3-70b-8192\"\n",
    "\n",
    "    def __init__(self, model:Optional[str]=None):\n",
    "        if GroqInterface._client is None:\n",
    "            api_key = os.environ.get(\"GROQ_API_KEY\")\n",
    "\n",
    "            if api_key is None:\n",
    "                raise RuntimeError(\"API key is not in the environment variables ('GROQ_API_KEY' variable is not set).\")\n",
    "\n",
    "            GroqInterface._client = groq.Groq(api_key=api_key)\n",
    "\n",
    "        if model is None:\n",
    "            model = GroqInterface.LLAMA3_70B\n",
    "        self._model = model\n",
    "\n",
    "    def __call__(self, prompt:str):\n",
    "        chat_completion = GroqInterface._client.chat.completions.create(\n",
    "                messages=[\n",
    "                    {\n",
    "                        \"role\": \"user\",\n",
    "                        \"content\": prompt,\n",
    "                    }\n",
    "                ],\n",
    "                model=self._model,\n",
    "            )\n",
    "\n",
    "        return chat_completion.choices[0].message.content"
   ]
  },
  {
   "cell_type": "code",
   "execution_count": 11,
   "metadata": {},
   "outputs": [],
   "source": [
    "groq_interface = GroqInterface()"
   ]
  },
  {
   "cell_type": "code",
   "execution_count": 13,
   "metadata": {},
   "outputs": [
    {
     "data": {
      "text/plain": [
       "\"Hi! It's nice to meet you. Is there something I can help you with or would you like to chat?\""
      ]
     },
     "execution_count": 13,
     "metadata": {},
     "output_type": "execute_result"
    }
   ],
   "source": [
    "groq_interface(\"Hi!\")"
   ]
  },
  {
   "cell_type": "code",
   "execution_count": 48,
   "metadata": {},
   "outputs": [],
   "source": [
    "POSITIVE = 1\n",
    "NEGATIVE = 0"
   ]
  },
  {
   "cell_type": "code",
   "execution_count": 51,
   "metadata": {},
   "outputs": [],
   "source": [
    "class GroqSentimentInterface(GroqInterface):\n",
    "\n",
    "    def __call__(self, prompt: str):\n",
    "        response = super().__call__(prompt)\n",
    "        response = response.lower()\n",
    "\n",
    "        if \"positive\" in response and \"negative\" not in response:\n",
    "            return POSITIVE\n",
    "        if \"negative\" in response and \"positive\" not in response:\n",
    "            return NEGATIVE\n",
    "        \n",
    "        return random.choice([POSITIVE, NEGATIVE])"
   ]
  },
  {
   "cell_type": "code",
   "execution_count": 52,
   "metadata": {},
   "outputs": [],
   "source": [
    "groq_sentiment = GroqSentimentInterface()"
   ]
  },
  {
   "cell_type": "markdown",
   "metadata": {},
   "source": [
    "## IMDB Prompt Engineering"
   ]
  },
  {
   "cell_type": "code",
   "execution_count": 16,
   "metadata": {},
   "outputs": [],
   "source": [
    "trainbase_dataset = datasets.load_dataset('imdb', split='train')\n",
    "test_dataset = datasets.load_dataset('imdb', split='test')\n",
    "\n",
    "train_val_dataset = trainbase_dataset.train_test_split(test_size=0.2)\n",
    "\n",
    "train_dataset = train_val_dataset[\"train\"]\n",
    "val_dataset = train_val_dataset[\"test\"]"
   ]
  },
  {
   "cell_type": "code",
   "execution_count": 55,
   "metadata": {},
   "outputs": [],
   "source": [
    "base_prompt = '''Classify if the movie review is positive or negative: \n",
    "                Review:\n",
    "                Movie review\n",
    "\n",
    "                Sentiment:\n",
    "                ONLY POSITIVE OR NEGATIVE\n",
    "\n",
    "                Classify if this movie review is positive or negative:\n",
    "                Review:\n",
    "                {example1}\n",
    "\n",
    "                Sentiment:\n",
    "                {response1}\n",
    "\n",
    "                Classify if this movie review is positive or negative:\n",
    "                Review:\n",
    "                {review}\n",
    "                \n",
    "                Sentiment:\n",
    "                \n",
    "                '''"
   ]
  },
  {
   "cell_type": "code",
   "execution_count": 56,
   "metadata": {},
   "outputs": [],
   "source": [
    "label = \"POSITIVE\" if train_dataset[0][\"label\"]==POSITIVE else \"NEGATIVE\"\n",
    "prompt = base_prompt.format(example1=train_dataset[0][\"text\"], response1=label, review=train_dataset[1][\"text\"])"
   ]
  },
  {
   "cell_type": "code",
   "execution_count": 57,
   "metadata": {},
   "outputs": [
    {
     "data": {
      "text/plain": [
       "0"
      ]
     },
     "execution_count": 57,
     "metadata": {},
     "output_type": "execute_result"
    }
   ],
   "source": [
    "groq_sentiment(prompt)"
   ]
  },
  {
   "cell_type": "code",
   "execution_count": null,
   "metadata": {},
   "outputs": [],
   "source": []
  }
 ],
 "metadata": {
  "kernelspec": {
   "display_name": "Python 3",
   "language": "python",
   "name": "python3"
  },
  "language_info": {
   "codemirror_mode": {
    "name": "ipython",
    "version": 3
   },
   "file_extension": ".py",
   "mimetype": "text/x-python",
   "name": "python",
   "nbconvert_exporter": "python",
   "pygments_lexer": "ipython3",
   "version": "3.11.9"
  }
 },
 "nbformat": 4,
 "nbformat_minor": 2
}
