{
 "cells": [
  {
   "cell_type": "markdown",
   "metadata": {},
   "source": [
    "# Reproduzindo o Visconde\n",
    "\n",
    "Elton Cardoso do Nascimento - 233840"
   ]
  },
  {
   "cell_type": "markdown",
   "metadata": {},
   "source": [
    "> - Reproduzir o Visconde\n",
    "> - Buscador: BM25 (pyserini) ou um sentence-transformer\n",
    "> - Geração: LLaMa 3 70B (groq)\n",
    "> - Avaliação no IIRC (F1, exact_match) usar 10% (150 primeiras perguntas.)\n",
    "> - Pedir resultado do LLM em JSON para facilitar a avaliação automática\n",
    "> - Usar exact match e F1-bow como métricas de avaliação\n",
    "> - Usem o código do Visconde como referência: https://github.com/neuralmind-ai/visconde/\n",
    "> - Ao indexar a base de busca, indexem apenas os documentos que são utilizados pelas 150 primeiras perguntas. Procurem pela key \"links\". Observem que o uso de segmentação é necessário. Tentei usar slding window baseado nas sentenças. Uma janela com 5 sentenças e 1 ou 2 de overlap é interessante. Podem experimentar outros valores, se houver tempo. Procurem no código do visconde o trecho onde o janelamento é feito e usem como base.\n",
    "> - Para fazer os exemplos few-shot usem o autocot (ver slides)"
   ]
  },
  {
   "cell_type": "code",
   "execution_count": 36,
   "metadata": {},
   "outputs": [],
   "source": [
    "import os\n",
    "import json\n",
    "import time\n",
    "import threading\n",
    "import unicodedata\n",
    "import collections\n",
    "import string\n",
    "import re\n",
    "from typing import Optional\n",
    "\n",
    "\n",
    "import pyserini\n",
    "from pyserini.search import SimpleSearcher\n",
    "import tqdm\n",
    "import torch #spacy não carrega sem importar antes (??)\n",
    "import spacy\n",
    "import groq\n",
    "import numpy as np\n",
    "import matplotlib.pyplot as plt"
   ]
  },
  {
   "cell_type": "markdown",
   "metadata": {},
   "source": [
    "# Carregando o Dataset"
   ]
  },
  {
   "cell_type": "code",
   "execution_count": 2,
   "metadata": {},
   "outputs": [],
   "source": [
    "if not os.path.isfile(\"iirc_test.json\"):\n",
    "    !curl -LO https://iirc-dataset.s3.us-west-2.amazonaws.com/iirc_test.json\n",
    "    \n",
    "    !curl -LO https://iirc-dataset.s3.us-west-2.amazonaws.com/context_articles.tar.gz\n",
    "    !tar -xf context_articles.tar.gz"
   ]
  },
  {
   "cell_type": "code",
   "execution_count": 3,
   "metadata": {},
   "outputs": [],
   "source": [
    "file = open(\"iirc_test.json\", \"r\")\n",
    "test_data = json.load(file)\n",
    "file.close()\n",
    "\n",
    "file = open(\"context_articles.json\", \"r\")\n",
    "articles = json.load(file)\n",
    "file.close()"
   ]
  },
  {
   "cell_type": "code",
   "execution_count": 4,
   "metadata": {},
   "outputs": [
    {
     "data": {
      "text/plain": [
       "[{'target': 'Sicily', 'indices': [68, 76]},\n",
       " {'target': 'Chthonic', 'indices': [77, 85]},\n",
       " {'target': 'Roman mythology', 'indices': [97, 112]},\n",
       " {'target': 'Greek mythology', 'indices': [140, 155]},\n",
       " {'target': 'Ovid', 'indices': [179, 183]},\n",
       " {'target': 'Virgil', 'indices': [215, 221]},\n",
       " {'target': 'Palagonia', 'indices': [319, 328]},\n",
       " {'target': 'Geyser', 'indices': [393, 400]},\n",
       " {'target': 'Zeus', 'indices': [706, 710]},\n",
       " {'target': 'Hephaestus', 'indices': [724, 734]},\n",
       " {'target': 'Aetna (nymph)', 'indices': [739, 744]},\n",
       " {'target': 'Thalia (nymph)', 'indices': [748, 754]},\n",
       " {'target': 'Adranus', 'indices': [828, 835]}]"
      ]
     },
     "execution_count": 4,
     "metadata": {},
     "output_type": "execute_result"
    }
   ],
   "source": [
    "test_data[0][\"links\"]"
   ]
  },
  {
   "cell_type": "code",
   "execution_count": 5,
   "metadata": {},
   "outputs": [
    {
     "data": {
      "text/plain": [
       "'Sicily ( ; ) is the <a href=\"List%20of%20islands%20in%20the%20Mediterranean\">largest island</a> in the <a href=\"Mediterranean%20Sea\">Mediterranean Sea</a> and one of the 20 <a href=\"Regions%20of%20Italy\">regions</a> of <a href=\"Italy\">Italy</a>. It is one of the five Italian <a href=\"Regions%20of%20Italy%23Autonomous%20regions%20with%20special%20statute\">autonomous regions</a>, in <a href=\"Southern%20Italy\">Southern Italy</a> along with surrounding minor islands, officially referred to as <i>Regione Siciliana</i>.\\n\\nSicily is located in the central Mediterranean Sea, south of the <a href=\"Italian%20Peninsula\">Italian Peninsula</a>, from which it is separated by the narrow <a href=\"Strait%20of%20Messina\">Strait of Messina</a>. Its most prominent landmark is <a href=\"Mount%20Etna\">Mount Etna</a>, the tallest active volcano in Europe, and one of the most active in the world, currently 3329 m high. The island has a typical <a href=\"Mediterranean%20climate\">Mediterranean climate</a>.\\n\\nThe earliest <a href=\"Archaeological%20record\">archaeological evidence</a> of human activity on the island dates from as early as 12,000 BC. By around 750 BC, Sicily had three <a href=\"Phoenicia\">Phoenician</a> and a dozen <a href=\"Greeks%20in%20Italy\">Greek colonies</a> and it was later the site of the <a href=\"Sicilian%20Wars\">Sicilian Wars</a> and the <a href=\"Punic%20Wars\">Punic Wars</a>. After the fall of the <a href=\"Roman%20Empire\">Roman Empire</a> in the 5th century AD, Sicily was ruled during the <a href=\"Early%20Middle%20Ages\">Early Middle Ages</a> by the <a href=\"Vandals\">Vandals</a>, the <a href=\"Ostrogoths\">Ostrogoths</a>, the <a href=\"Byzantine%20Empire\">Byzantine Empire</a>, and the <a href=\"Emirate%20of%20Sicily\">Emirate of Sicily</a>. The <a href=\"Norman%20conquest%20of%20southern%20Italy\">Norman conquest of southern Italy</a> led to the creation of the <a href=\"Kingdom%20of%20Sicily\">Kingdom of Sicily</a>, which was subsequently ruled by the <a href=\"Hohenstaufen\">Hohenstaufen</a>, the <a href=\"Capetian%20House%20of%20Anjou\">Capetian House of Anjou</a>, <a href=\"Spain\">Spain</a>, and the <a href=\"House%20of%20Habsburg\">House of Habsburg</a>. It was unified under the <a href=\"House%20of%20Bourbon\">House of Bourbon</a> with the <a href=\"Kingdom%20of%20Naples\">Kingdom of Naples</a> as the <a href=\"Kingdom%20of%20the%20Two%20Sicilies\">Kingdom of the Two Sicilies</a>. It became part of Italy in 1860 following the <a href=\"Expedition%20of%20the%20Thousand\">Expedition of the Thousand</a>, a revolt led by <a href=\"Giuseppe%20Garibaldi\">Giuseppe Garibaldi</a> during the <a href=\"Italian%20unification\">Italian unification</a>, and a plebiscite. Sicily was given special status as an <a href=\"Autonomous%20administrative%20division\">autonomous region</a> on 15 May 1946, 18 days before the <a href=\"Italian%20institutional%20referendum%2C%201946\">Italian constitutional referendum of 1946</a>. However, much of the autonomy still remains unapplied, especially financial autonomy, because the autonomy-activating laws have been deferred to be approved by the joint committee (50% Italian State, 50% Regione Siciliana), since 1946.\\n\\nSicily has a rich and unique culture, especially with regard to the <a href=\"Sicily%23Art%20and%20architecture\">arts</a>, <a href=\"Music%20of%20Sicily\">music</a>, <a href=\"Sicily%23Literature\">literature</a>, <a href=\"Sicilian%20cuisine\">cuisine</a>, and <a href=\"Sicilian%20Baroque\">architecture</a>. It is also home to important <a href=\"archaeology\">archaeological</a> and ancient sites, such as the <a href=\"Necropolis%20of%20Pantalica\">Necropolis of Pantalica</a>, the <a href=\"Valle%20dei%20Templi\">Valley of the Temples</a>, <a href=\"Erice\">Erice</a> and <a href=\"Selinunte\">Selinunte</a>.\\n\\nGeography.Sicily has a roughly triangular shape, earning it the name <i>Trinacria</i>.\\nTo the north-east, it is separated from <a href=\"Calabria\">Calabria</a> and the rest of the Italian mainland by the <a href=\"Strait%20of%20Messina\">Strait of Messina</a>, about 3 km wide in the north, and about 16 km wide in the southern part. The northern and southern coasts are each about 280 km long measured as a straight line, while the eastern coast measures around 180 km; total coast length is <a href=\"Length%20of%20coast\">estimated</a> at 1484 km. The total area of the island is 25711 km2, while the <a href=\"Autonomous%20administrative%20division\">Autonomous Region</a> of Sicily (which includes smaller surrounding islands) has an area of 27708 km2.\\n\\nThe terrain of inland Sicily is mostly hilly and is intensively cultivated wherever possible. Along the northern coast, the mountain ranges of <a href=\"Madonie\">Madonie</a>, 2000 m, <a href=\"Nebrodi\">Nebrodi</a>, 1800 m, and <a href=\"Peloritani\">Peloritani</a>, 1300 m, are an extension of the mainland <a href=\"Apennines\">Apennines</a>. The cone of <a href=\"Mount%20Etna\">Mount Etna</a> dominates the eastern coast. In the southeast lie the lower <a href=\"Hyblaean%20Mountains\">Hyblaean Mountains</a>, 1000 m. The mines of the <a href=\"Enna\">Enna</a> and <a href=\"Caltanissetta\">Caltanissetta</a> districts were part of a leading <a href=\"sulphur\">sulphur</a>-producing area throughout the 19th century, but have declined since the 1950s.\\n\\nSicily and its surrounding small islands have some highly active volcanoes. Mount Etna is the largest active volcano in Europe and still casts black ash over the island with its ever-present eruptions. It currently stands 3329 m high, though this varies with summit eruptions; the mountain is 21 m lower now than it was in 1981. It is the highest mountain in Italy south of the <a href=\"Alps\">Alps</a>. Etna covers an area of 1190 km2 with a basal circumference of 140 km. This makes it by far the largest of the three <a href=\"Volcanism%20in%20Italy\">active volcanoes in Italy</a>, being about two and a half times the height of the next largest, <a href=\"Mount%20Vesuvius\">Mount Vesuvius</a>. In <a href=\"Greek%20mythology\">Greek mythology</a>, the deadly monster <a href=\"Typhon\">Typhon</a> was trapped under the mountain by <a href=\"Zeus\">Zeus</a>, the god of the sky. Mount Etna is widely regarded as a cultural symbol and icon of Sicily.\\n\\nThe <a href=\"Aeolian%20Islands\">Aeolian Islands</a> in the <a href=\"Tyrrhenian%20Sea\">Tyrrhenian Sea</a>, to the northeast of mainland Sicily form a volcanic complex, and include <a href=\"Stromboli\">Stromboli</a>. \\nThe three volcanoes of <a href=\"Vulcano\">Vulcano</a>, <a href=\"Vulcanello\">Vulcanello</a> and <a href=\"Lipari\">Lipari</a> are also currently active, although the latter is usually dormant. Off the southern coast of Sicily, the underwater volcano of <a href=\"Ferdinandea\">Ferdinandea</a>, which is part of the larger <a href=\"Empedocles%20%28volcano%29\">Empedocles volcano</a>, last erupted in 1831. It is located between the coast of <a href=\"Agrigento\">Agrigento</a> and the island of <a href=\"Pantelleria\">Pantelleria</a> (which itself is a dormant volcano).\\n\\nThe <a href=\"Autonomous%20administrative%20division\">autonomous region</a> also includes several neighbouring islands: the <a href=\"Aegadian%20Islands\">Aegadian Islands</a>, the Aeolian Islands, Pantelleria and <a href=\"Lampedusa\">Lampedusa</a>.\\n\\nRivers.The island is <a href=\"drainage\">drained</a> by several rivers, most of which flow through the central area and enter the sea at the south of the island. The <a href=\"Salso\">Salso</a> flows through parts of Enna and Caltanissetta before entering the <a href=\"Mediterranean%20Sea\">Mediterranean Sea</a> at the port of <a href=\"Licata\">Licata</a>. To the east, the <a href=\"Alcantara%20%28river%29\">Alcantara</a> flows through the province of <a href=\"Messina\">Messina</a> and enters the sea at <a href=\"Giardini%20Naxos\">Giardini Naxos</a>, and the <a href=\"Simeto\">Simeto</a>, which flows into the <a href=\"Ionian%20Sea\">Ionian Sea</a> south of <a href=\"Catania\">Catania</a>. Other important rivers on the island are the <a href=\"Belice\">Belice</a> and <a href=\"Platani%20%28river%29\">Platani</a> in the southwest.\\n\\nClimate.Sicily has a typical <a href=\"Mediterranean%20climate\">Mediterranean climate</a> with mild and wet winters and hot, dry summers with very changeable intermediate seasons. On the coasts, especially in the south-west, the climate is affected by the African currents and summers can be scorching.\\n\\nSicily is seen as an island of warm winters.\\n\\nSnow falls above 900–1000 metres, but it can fall in the hills. The interior mountains, especially Nebrodi, Madonie and Etna, enjoy a fully mountain climate, with heavy snowfalls during winter. The summit of Mount Etna is usually snow capped from October to May.\\n\\nOn the other hand, especially in the summer it is not unusual that there is the <a href=\"sirocco\">sirocco</a>, the wind from the Sahara. Rainfall is scarce, and water proves deficient in some provinces where a water crisis can happen occasionally.\\n\\nAccording to the Regional Agency for Waste and Water, on 10 August 1999, the weather station of <a href=\"Catenanuova\">Catenanuova</a> (EN) recorded a maximum temperature of 48.5 C. The official European record – measured by minimum/maximum thermometers – is held by Athens, Greece, which reported a maximum of 48.0 C in 1977. Total precipitation is highly variable, generally increasing with elevation. In general, the southern and southeast coast receives the least rainfall (less than 50 cm), and the northern and northeastern highlands the most (over 100 cm).\\n\\nFlora and fauna.Sicily is an often-quoted example of man-made <a href=\"deforestation\">deforestation</a>, which has occurred since Roman times, when the island was turned into an agricultural region. This gradually dried the climate, leading to a decline in rainfall and the drying of rivers. The central and southwest provinces are practically devoid of any forest. In Northern Sicily, there are three important forests; near Mount Etna, in the <a href=\"Nebrodi\">Nebrodi Mountains</a> and in the Bosco della Ficuzza\\'s Natural Reserve near <a href=\"Palermo\">Palermo</a>. The Nebrodi Mountains Regional Park, established on 4 August 1993 and covering 86000 ha, is the largest protected natural area of Sicily; and contains the largest forest in Sicily, the Caronia. The <a href=\"Hundred%20Horse%20Chestnut\">Hundred Horse Chestnut</a> (Castagno dei Cento Cavalli), in <a href=\"Sant%27Alfio\">Sant\\'Alfio</a>, on the eastern slopes of Mount Etna, is the largest and oldest known <a href=\"chestnut\">chestnut</a> tree in the world at 2,000 – 4,000 years old.\\n\\nSicily has a wide variety of fauna. Species include fox, <a href=\"least%20weasel\">least weasel</a>, <a href=\"pine%20marten\">pine marten</a>, <a href=\"roe%20deer\">roe deer</a>, <a href=\"wild%20boar\">wild boar</a>, <a href=\"crested%20porcupine\">crested porcupine</a>, <a href=\"hedgehog\">hedgehog</a>, <a href=\"common%20toad\">common toad</a>, <i><a href=\"Vipera%20aspis\">Vipera aspis</a></i>, <a href=\"golden%20eagle\">golden eagle</a>, <a href=\"peregrine%20falcon\">peregrine falcon</a>, <a href=\"hoopoe\">hoopoe</a> and <a href=\"black-winged%20stilt\">black-winged stilt</a>.\\n\\nThe <a href=\"Riserva%20naturale%20dello%20Zingaro\">Zingaro Natural Reserve</a> is one of the best examples of unspoiled coastal wilderness in Sicily.\\n\\nSurrounding waters including the <a href=\"Strait%20of%20Messina\">Strait of Messina</a> <a href=\"Marine%20Life%20of%20the%20Straits%20of%20Messina\">are home to varieties of birds and marine life</a>, including larger species such as <a href=\"flamingo\">flamingos</a> and <a href=\"fin%20whale\">fin whales</a>.\\n\\nAncient tribes.The original classical-era inhabitants of Sicily comprised three defined groups of the <a href=\"List%20of%20ancient%20peoples%20of%20Italy\">ancient peoples of Italy</a>. The most prominent and by far the earliest of these, the <a href=\"Sicani\">Sicani</a>, who (<a href=\"Thucydides\">Thucydides</a> writes) arrived from the <a href=\"Iberian%20Peninsula\">Iberian Peninsula</a> (perhaps <a href=\"Catalonia\">Catalonia</a>). Some modern scholars, however, suggest classifying the Sicani as possibly an <a href=\"Illyrians\">Illyrian</a> tribe. Important historical evidence has been discovered in the form of cave drawings by the Sicani, dated from the end of the <a href=\"Pleistocene\">Pleistocene</a> epoch around 8000 BC. The arrival of the first humans on the island correlates with the extinction of the <a href=\"Sicilian%20Hippopotamus\">Sicilian Hippopotamus</a> and the <a href=\"elephas%20mnaidriensis\">dwarf elephant</a>. The <a href=\"Elymians\">Elymians</a>, thought to have come from the area of the <a href=\"Aegean%20Sea\">Aegean Sea</a>, became the next tribe to join the Sicanians on Sicily.\\n\\nRecent discoveries of <a href=\"dolmen\">dolmens</a> on the island (dating to the second half of the third millennium BC) seem to offer new insights into the culture of primitive Sicily. It is well known that the Mediterranean region went through a quite intricate prehistory, so much so that it is difficult to piece together the muddle of different peoples who have followed each other. The impact of two influences is clear, however: the European one coming from the Northwest, and the Mediterranean influence of a clear eastern heritage.\\n\\nNo evidence survives of any warring between the tribes, but the Sicanians moved eastwards when the Elymians settled in the northwest corner of the island. The <a href=\"Sicels\">Sicels</a> are thought to have originated in <a href=\"Liguria\">Liguria</a>; they arrived from mainland Italy in 1200 BC and forced the Sicanians to move back across Sicily and to settle in the middle of the island. Other minor <a href=\"Ancient%20peoples%20of%20Italy\">Italic groups</a> who settled in Sicily included the <a href=\"Ausones\">Ausones</a> (<a href=\"Aeolian%20Islands\">Aeolian Islands</a>, <a href=\"Milazzo\">Milazzo</a>) and the <a href=\"Morgetes\">Morgetes</a> of <a href=\"Morgantina\">Morgantina</a>.\\n\\nPhoenician, Carthaginian, Greek and Roman period.The <a href=\"Phoenicia\">Phoenician</a> settlements in the western part of the island predates the <a href=\"Greek%20people\">Greeks</a>. From about 750 BC, the <a href=\"Greeks\">Greeks</a> began to live in Sicily (Σικελία – <i>Sikelia</i>), establishing many important settlements. The most important colony was in <a href=\"Syracuse%2C%20Sicily\">Syracuse</a>; others were located at <a href=\"Agrigentum\">Akragas</a>, <a href=\"Selinunte\">Selinunte</a>, <a href=\"Gela\">Gela</a>, <a href=\"Himera\">Himera</a> and <a href=\"Messina\">Zancle</a>. The native Sicani and Sicel peoples were absorbed into the <a href=\"Ancient%20Greece\">Hellenic culture</a> with relative ease, and the area became part of <i>Magna Graecia</i> along with the rest of <a href=\"southern%20Italy\">southern Italy</a>, which the Greeks had also colonised. Sicily was very fertile, and the successful introduction of <a href=\"olive\">olives</a> and <a href=\"grape%20vine\">grape vines</a> created a great deal of profitable trading. A significant part of <a href=\"Culture%20of%20Greece\">Greek culture</a> on the island was that of the <a href=\"Religion%20in%20ancient%20Greece\">Greek religion</a>, and many temples were built throughout Sicily, including several in the <i>Valley of the Temples</i> at <a href=\"Agrigento\">Agrigento</a>.\\n\\nPolitics on the island was intertwined with that of Greece; <a href=\"Syracuse%2C%20Sicily\">Syracuse</a> became desired by the <a href=\"Athenian\">Athenians</a> who set out on the <a href=\"Sicilian%20Expedition\">Sicilian Expedition</a> during the <a href=\"Peloponnesian%20War\">Peloponnesian War</a>. Syracuse gained <a href=\"Sparta\">Sparta</a> and <a href=\"Ancient%20Corinth\">Corinth</a> as allies and, as a result, the Athenian expedition was defeated. The Athenian army and ships were destroyed, with most of the survivors being sold into slavery.\\n\\nGreek Syracuse controlled eastern Sicily while Carthage controlled the West. The two cultures began to clash, leading to the <a href=\"Greek-Punic%20wars\">Greek-Punic wars</a>. Greece had begun to make peace with the <a href=\"Roman%20Republic\">Roman Republic</a> in 262 BC, and the Romans sought to <a href=\"Annexation\">annexe</a> Sicily as their republic\\'s first province. Rome attacked Carthage\\'s holdings in Sicily in the <a href=\"First%20Punic%20War\">First Punic War</a> and won, making Sicily the first Roman province outside of the <a href=\"Italian%20Peninsula\">Italian Peninsula</a> by 242 BC.\\n\\nIn the <a href=\"Second%20Punic%20War\">Second Punic War</a>, the Carthaginians attempted to take back Sicily. Some of the Greek cities on the island sided with the Carthaginians. <a href=\"Archimedes\">Archimedes</a>, who lived in Syracuse, helped the Carthaginians, but was killed by the Romans after they invaded Syracuse in 213 BC. They failed, and Rome was even more unrelenting in its annihilation of the invaders this time; <a href=\"Roman%20consul\">Roman consul</a> M. Valerian told the <a href=\"Roman%20Senate\">Roman Senate</a> in 210 BC that \"no Carthaginian remains in Sicily\".\\n\\nAs the empire\\'s <a href=\"granary\">granary</a>, Sicily was an important province, divided into two <a href=\"quaestor\">quaestorships</a>: Syracuse to the east and <a href=\"Lilybaeum\">Lilybaeum</a> to the west. Some attempt was made under <a href=\"Augustus\">Augustus</a> to introduce the <a href=\"Latin%20language\">Latin language</a> to the island, but Sicily was allowed to remain largely Greek in a cultural sense. The once prosperous and contented island went into sharp decline when <a href=\"Verres\">Verres</a> became governor of Sicily. In 70 BC, noted figure <a href=\"Cicero\">Cicero</a> condemned the misgovernment of Verres in his oration <i><a href=\"In%20Verrem\">In Verrem</a></i>.\\n\\nThe island was used as a base of power numerous times, being occupied by slave insurgents during the <a href=\"first%20Servile%20War\">First</a> and <a href=\"Second%20Servile%20War\">Second Servile Wars</a>, and by <a href=\"Sextus%20Pompey\">Sextus Pompey</a> during the <a href=\"Sicilian%20revolt\">Sicilian revolt</a>. Christianity first appeared in Sicily during the years following AD 200; between this time and AD 313, <a href=\"Constantine%20I\">Constantine the Great</a> finally lifted the prohibition on Christianity, but not before a significant number of <a href=\"Sicilians\">Sicilians</a> had become <a href=\"martyr\">martyrs</a>, including <a href=\"Agatha%20of%20Sicily\">Agatha</a>, <a href=\"Saint%20Christina%20of%20Bolsena\">Christina</a>, <a href=\"Saint%20Lucy\">Lucy</a>, and <a href=\"Euplius\">Euplius</a>. Christianity grew rapidly in Sicily over the next two centuries. The period of history during which Sicily was a Roman province lasted for around 700 years.\\n\\nGermanic rule (469–535).The <a href=\"Western%20Roman%20Empire\">Western Roman Empire</a> began falling apart after the great invasion of Vandals, Alans, and Sueves across the Rhine on the last day of 406. Eventually the Vandals, after roaming about western and southern Spain for 20 years moved to North Africa in 429. They occupied Carthage in 439 (The Franks moved south from Belgium. The Visigoths moved west and were eventually settled in Aquitaine in 418; the Burgundians were settled in Savoy in 443). This put them in a position to threaten Sicily only 100 miles away. After taking Carthage the Vandals personally led by King Gaiseric laid siege to Palermo in 440 as the opening act in an attempt to wrest the island from Roman rule personally. The Vandals made another attempt to take the island one year after the sack of Rome in 455, at Agrigento, but were defeated decisively by Ricimir in a naval victory off Corsica in 456. The island remained under Roman rule until 469. The Vandal possession of the island was lost 8 years later in 477 to the <a href=\"Germanic%20peoples\">East Germanic tribe</a> Ostrogoths who were in control of Italy and Dalmatia. The island was returned for payment of tribute to <a href=\"Odoacer\">Odoacer</a>, king of the Ostrogoths. He ruled Italy from 476–88 in the name of the <a href=\"Byzantine%20%28Eastern%20Roman%29%20Empire\">Byzantine (Eastern Roman)</a> Emperor. The Vandals kept a toehold in Lilybaeum, a port on the west coast. They lost this in 491 after making one last attempt to conquer the island from this port. The <a href=\"Ostrogoths\">Ostrogothic</a> conquest of Sicily (and Italy as a whole) under <a href=\"Theodoric%20the%20Great\">Theodoric the Great</a> began in 488. He had been appointed viceroy of the emperor to rule in Italy. The Goths were Germanic, but Theodoric was supportive of Roman culture and government and allowed freedom of religion. In 461 from the age of seven or eight until 17 or 18 he was a hostage; he resided in the great palace of Constantinople and was favored by Leo I and where he to read and write and do arithmetic.\\n\\nByzantine (535–965).After taking areas occupied by the Vandals in North Africa, Justinian decide to retake Italy as an ambitious attempt to recover the lost provinces in the West. The re-conquests marked an end to over 150 years of accommodationist policies with tribal invaders. His first target was Sicily (known as the <a href=\"Gothic%20War%20%28535%E2%80%93554%29\">Gothic War (535–554)</a> began between the Ostrogoths and the Eastern Roman Empire, also known as the <a href=\"Byzantine%20Empire\">Byzantine Empire</a>). His general <a href=\"Belisarius\">Belisarius</a> was assigned the task. Sicily was used as a base for the Byzantines to conquer the rest of Italy, with <a href=\"Naples\">Naples</a>, Rome, <a href=\"Milan\">Milan</a>. It took five years before the Ostrogoth capital <a href=\"Ravenna\">Ravenna</a> fell in 540. However, the new Ostrogoth king <a href=\"Totila\">Totila</a> counterattacked, moving down the Italian peninsula, plundering and conquering Sicily in 550. Totila was defeated and killed in the <a href=\"Battle%20of%20Taginae\">Battle of Taginae</a> by Byzantine general <a href=\"Narses\">Narses</a> in 552 but Italy was in ruins.\\n\\nAt the time of the reconquest Greek was still the predominant language spoken on the island. Sicily was invaded by the <a href=\"Rashidun%20army\">Arab forces</a> of <a href=\"Uthman%20Ibn%20Affan\">Caliph Uthman</a> in 652, but the Arabs failed to make any permanent gains. They returned to Syria with their booty. Raids seeking loot continued until the mid-8th century.\\n\\nThe Eastern Roman Emperor <a href=\"Constans%20II%20%28Byzantine%20Empire%29\">Constans II</a> decided to move from <a href=\"Constantinople\">Constantinople</a> to <a href=\"Syracuse%2C%20Sicily\">Syracuse</a> in 660. The following year he launched an assault from Sicily against the <a href=\"Lombardy\">Lombard</a> <a href=\"Duchy%20of%20Benevento\">Duchy of Benevento</a>, which occupied most of southern Italy. Rumors that the capital of the empire was to be moved to Syracuse probably cost Constans his life, as he was assassinated in 668. His son <a href=\"Constantine%20IV\">Constantine IV</a> succeeded him. A brief usurpation in Sicily by <a href=\"Mezezius\">Mezezius</a> was quickly suppressed by this emperor. Contemporary accounts report that the Greek language was widely spoken on the island during this period. In 740 Emperor <a href=\"Leo%20III%20the%20Isaurian\">Leo III the Isaurian</a> transferred Sicily from the jurisdiction of the church of Rome to that of Constantinople, placing the island within the eastern branch of the Church.\\n\\nIn 826 <a href=\"Euphemius%20%28Sicily%29\">Euphemius</a>, the Byzantine commander in Sicily, having apparently killed his wife, forced a nun to marry him. Emperor <a href=\"Michael%20II\">Michael II</a> caught wind of the matter and ordered general Constantine to end the marriage and cut off Euphemius\\' head. Euphemius rose up, killed Constantine, and then occupied Syracuse; he in turn was defeated and driven out to North Africa. He offered the rule of Sicily to <a href=\"Ziyadat%20Allah%20I%20of%20Aghlabids\">Ziyadat Allah</a>, the <a href=\"Aghlabid\">Aghlabid</a> Emir of <a href=\"Tunisia\">Tunisia</a>, in return for a position as a general and a place of safety. A <a href=\"Muslim%20conquests\">Muslim army</a> was then sent to the island consisting of <a href=\"Arab\">Arabs</a>, <a href=\"Berber%20people\">Berbers</a>, <a href=\"Cretans\">Cretans</a>, and <a href=\"Persian%20people\">Persians</a>.\\n\\nThe <a href=\"Muslim%20conquest%20of%20Sicily\">Muslim conquest of Sicily</a> was a <a href=\"see-saw\">see-saw</a> affair and met with fierce resistance. It took over a century for Byzantine Sicily to be conquered; the largest city, Syracuse, held out until 878 and the Greek city of <a href=\"Taormina\">Taormina</a> fell in 962. It was not until 965 that all of Sicily was conquered by the <a href=\"Arabs\">Arabs</a>. In the 11th century Byzantine armies carried out a partial reconquest of the island under <a href=\"George%20Maniakes\">George Maniakes</a>, but it was their <a href=\"italo-Norman\">Norman</a> mercenaries who would eventually complete the island\\'s reconquest at the end of the century.\\n\\nArab Period (827–1091).The Arabs <a href=\"Arab%20Agricultural%20Revolution\">initiated land reforms</a>, which increased productivity and encouraged the growth of <a href=\"smallholding\">smallholdings</a>, undermining the dominance of the <a href=\"latifundium\">latifundia</a>. The <a href=\"Arabs\">Arabs</a> further improved irrigation systems. The language spoken in Sicily under Arab rule was <a href=\"Siculo-Arabic\">Siculo-Arabic</a> and <a href=\"Influence%20of%20Arabic%20on%20other%20languages\">Arabic influence</a> is still present in some Sicilian words today. Although the language is extinct in Sicily, it has developed into what is now the <a href=\"Maltese%20language\">Maltese language</a> on the islands of <a href=\"Malta\">Malta</a> today.\\nA description of <a href=\"Palermo\">Palermo</a> was given by <a href=\"Ibn%20Hawqal\">Ibn Hawqal</a>, an <a href=\"History%20of%20Islamic%20economics\">Arab merchant</a> who visited Sicily in 950. A walled suburb, called the Al-Kasr (the palace), is the centre of Palermo to this day, with the great Friday mosque on the site of the later Roman cathedral. The suburb of al-Khalisa (modern <a href=\"Kalsa\">Kalsa</a>) contained the <a href=\"Sultan\">Sultan</a>\\'s palace, baths, a mosque, government offices, and a private prison. <a href=\"Ibn%20Hawqal\">Ibn Hawqal</a> reckoned 7,000 individual butchers trading in 150 shops. Palermo was initially ruled by the <a href=\"Aghlabids\">Aghlabids</a>; later it was the centre of Emirate of Sicily under the nominal suzerainty of the <a href=\"Fatimid%20Caliphate\">Fatimid Caliphate</a>. During the reign of this dynasty revolts by Byzantine Sicilians continuously occurred especially in the east where Greek-speaking Christians predominated. Parts of the island were re-occupied before revolts were being quashed. During Muslim rule agricultural products such as oranges, lemons, <a href=\"pistachio\">pistachio</a> and <a href=\"sugarcane\">sugarcane</a> were brought to Sicily. Under the Arab rule the island was divided in <a href=\"three%20valli%20of%20Sicily\">three administrative regions</a>, or \"vals\", roughly corresponding to the three \"points\" of Sicily: <a href=\"Val%20di%20Mazara\">Val di Mazara</a> in the west; <a href=\"Val%20Demone\">Val Demone</a> in the northeast; and <a href=\"Val%20di%20Noto\">Val di Noto</a> in the southeast. As <a href=\"dhimmi\">dhimmis</a>, that is as members of a protected class of approved monotheists the <a href=\"Eastern%20Orthodox%20Church\">Eastern Orthodox Christians</a> were allowed <a href=\"freedom%20of%20religion\">freedom of religion</a>, but had to pay a tax, the <a href=\"jizya\">jizya</a> (in lieu of the obligatory alms tax, the zakat, paid by Muslims), and were restricted from active participation in public affairs.\\n\\nThe <a href=\"Emirate%20of%20Sicily\">Emirate of Sicily</a> began to fragment as intra-dynastic quarrelling fractured the Muslim regime. During this time, there was also a small Jewish presence.\\n\\nNorman Sicily (1038–1198).In 1038, seventy years after losing their last cities in Sicily, the Byzantines under the Greek general <a href=\"George%20Maniakes\">George Maniakes</a> invaded the island together with their <a href=\"Varangian%20guard\">Varangian</a> and <a href=\"Normans\">Norman</a> mercenaries. Maniakes was killed in a Byzantine civil war in 1043 before completing a reconquest and the Byzantines withdrew. The Normans invaded in 1061. After taking <a href=\"Apulia\">Apulia</a> and <a href=\"Calabria\">Calabria</a>, Roger occupied <a href=\"Messina\">Messina</a> with an army of 700 knights. In 1068, Roger was victorious at <a href=\"Misilmeri\">Misilmeri</a>. Most crucial was the siege of Palermo, whose fall in 1071 eventually resulted in all Sicily coming under Norman control. The conquest was completed in 1091 when they captured <a href=\"Noto\">Noto</a> the last Arab stronghold. Palermo continued to be the capital under the <a href=\"Normans\">Normans</a>.\\n\\nThe Norman <a href=\"Hauteville%20family\">Hauteville family</a>, descendants of <a href=\"Vikings\">Vikings</a>, appreciate and admired the rich and layered culture in which they now found themselves. They also introduced their own culture, customs, and politics in the region. Many Normans in Sicily adopted the habits and comportment of Muslim rulers and their Byzantine subjects in dress, language, literature, even to the extent of having palace <a href=\"eunuch\">eunuchs</a> and, according to some accounts, a harem.\\n\\nKingdom of Sicily.Roger died in 1101. His wife <a href=\"Adelaide%20del%20Vasto\">Adelaide</a> ruled until 1112, when their son <a href=\"Roger%20II%20of%20Sicily\">Roger II of Sicily</a> came of age. Having succeeded his brother <a href=\"Simon%20of%20Sicily\">Simon</a> as Count of Sicily, Roger II was ultimately able to raise the status of the island to a kingdom in 1130, along with his other holdings, which included the <a href=\"Maltese%20Islands\">Maltese Islands</a> and the Duchies of <a href=\"Duchy%20of%20Apulia\">Apulia</a> and <a href=\"Duchy%20of%20Calabria\">Calabria</a>.\\n\\nRoger II appointed the powerful Greek <a href=\"George%20of%20Antioch\">George of Antioch</a> to be his \"emir of emirs\" and continued the syncretism of his father. During this period, the Kingdom of Sicily was prosperous and politically powerful, becoming one of the wealthiest states in all of Europe—even wealthier than the <a href=\"Kingdom%20of%20England\">Kingdom of England</a>.\\n\\nThe court of Roger II became the most luminous centre of culture in the Mediterranean, both from Europe and the Middle East, like the multi-ethnic <a href=\"Caliphate%20of%20C%C3%B3rdoba\">Caliphate of Córdoba</a>, then only just eclipsed. This attracted scholars, scientists, poets, artists, and artisans of all kinds. Laws were issued in the language of the community to whom they were addressed in Norman Sicily, at the time when the culture was still heavily Arab and Greek. Governance was by rule of law which promoted justice. Muslims, Jews, <a href=\"Byzantine%20Greeks\">Byzantine Greeks</a>, Lombards, and Normans worked together fairly amicably. During this time many extraordinary buildings were constructed.\\n\\nHowever this situation changed as the Normans under Papal pressure to secure the island imported immigrants from Lombardy, Piedmont, Provence and <a href=\"Campania\">Campania</a>. Linguistically, the island shifted from being one third Greek- and two-thirds Arabic-speaking at the time of the Norman conquest to becoming fully <a href=\"Linguistic%20Latinisation\">Latinised</a>. In terms of religion the island became completely Roman Catholic (bearing in mind that until 1054 the Churches owing allegiance to the Pope and the Patriarch of Constantinople belonged to one Church); Sicily before the Norman conquest was under Eastern Orthodox Patriarch. After Pope Innocent III made him Papal Legate in 1098, Roger I created several Catholic bishoprics while still allowing the construction of 12 Greek-speaking monasteries (the Greek language, monasteries and 1500 parishes continued to exist until the adherents of the Greek Rite were forced in 1585 to convert to Catholicism or leave; small pocket of Greek-speakers still live in Messina).\\n\\nHohenstaufen dynasty.After a century, the Norman <a href=\"Hauteville%20family\">Hauteville</a> dynasty died out; the last direct descendant and heir of Roger, <a href=\"Constance%20of%20Sicily\">Constance</a>, married <a href=\"Henry%20VI%2C%20Holy%20Roman%20Emperor\">Emperor Henry VI</a>. This eventually led to the crown of Sicily being passed on to the <a href=\"Hohenstaufen%20Dynasty\">Hohenstaufen Dynasty</a>, who were Germans from <a href=\"Swabia\">Swabia</a>. The last of the Hohenstaufens, <a href=\"Frederick%20II%2C%20Holy%20Roman%20Emperor\">Frederick II</a>, the only son of <a href=\"Constance%20of%20Sicily\">Constance</a>, was one of the greatest and most cultured men of the Middle Ages. His mother\\'s will had asked <a href=\"Pope%20Innocent%20III\">Pope Innocent III</a> to undertake the guardianship of her son. Frederick was four when, at <a href=\"Palermo\">Palermo</a>, he was crowned <a href=\"King%20of%20Sicily\">King of Sicily</a> in 1198. Frederick received no systematic education and was allowed to run free in the streets of <a href=\"Palermo\">Palermo</a>. There he picked up the many languages he heard spoken, such as Arabic and Greek, and learned some of the lore of the Jewish community. At age twelve, he dismissed Innocent\\'s deputy regent and took over the government; at fifteen he married <a href=\"Constance%20of%20Aragon\">Constance of Aragon</a>, and began his reclamation of the imperial crown. Subsequently, due to Muslim rebellions, Frederick II destroyed the remaining Muslim presence in Sicily, estimated at 60,000 persons, moving all to the city of Lucera in Apulia between 1221 and 1226.\\n\\nConflict between the Hohenstaufen house and the <a href=\"Papacy\">Papacy</a> led, in 1266, to <a href=\"Pope%20Innocent%20IV\">Pope Innocent IV</a> crowning the <a href=\"Capetian%20House%20of%20Anjou\">French prince</a> <a href=\"Charles%20I%20of%20Naples\">Charles</a>, <a href=\"count%20of%20Anjou\">count of Anjou</a> and <a href=\"List%20of%20rulers%20of%20Provence\">Provence</a>, as the king of both Sicily and Naples.\\n\\nSicily under Aragonese rule.Strong opposition to French officialdom due to mistreatment and taxation saw the local peoples of Sicily rise up, leading in 1282 to an <a href=\"insurrection\">insurrection</a> known as the <a href=\"War%20of%20the%20Sicilian%20Vespers\">War of the Sicilian Vespers</a>, which eventually saw almost the entire French population on the island killed. During the war, the Sicilians turned to <a href=\"Peter%20III%20of%20Aragon\">Peter III of Aragon</a>, son-in-law of the last Hohenstaufen king, for support after being rejected by the Pope. Peter gained control of Sicily from the French, who, however, retained control of the <a href=\"Kingdom%20of%20Naples\">Kingdom of Naples</a>. A crusade was launched in August 1283 against Peter III and the Kingdom of Aragon by <a href=\"Pope%20Martin%20IV\">Pope Martin IV</a> (a pope from <a href=\"%C3%8Ele-de-France\">Île-de-France</a>), but it failed. The wars continued until the <a href=\"peace%20of%20Caltabellotta\">peace of Caltabellotta</a> in 1302, which saw Peter\\'s son <a href=\"Frederick%20III%20of%20Sicily\">Frederick III</a> recognised as king of the Isle of Sicily, while <a href=\"Charles%20II%20of%20Naples\">Charles II</a> was recognised as the king of Naples by <a href=\"Pope%20Boniface%20VIII\">Pope Boniface VIII</a>. Sicily was ruled as an independent kingdom by relatives of the kings of Aragon until 1409 and then as part of the <a href=\"Crown%20of%20Aragon\">Crown of Aragon</a>. In October 1347, in Messina, Sicily, the <a href=\"Black%20Death\">Black Death</a> first arrived in Europe.\\n\\nBetween the 15th-18th centuries, waves of <a href=\"Greeks\">Greeks</a> and <a href=\"Arvanites\">Arvanites</a> migrated to Sicily in large numbers to escape persecution after the <a href=\"Ottoman%20conquest%20of%20the%20Balkans\">Ottoman conquest of the Peloponnese</a>. They brought with them <a href=\"Eastern%20Orthodoxy\">Eastern Orthodoxy</a> as well as the <a href=\"Greek%20language\">Greek</a> and <a href=\"Arvanitika\">Arvanitika</a> languages to the island, once again adding onto the extensive <a href=\"Byzantine\">Byzantine</a>/<a href=\"Greek%20Culture\">Greek</a> influence.\\nThe onset of the <a href=\"Spanish%20Inquisition\">Spanish Inquisition</a> in 1492 led to <a href=\"Ferdinand%20II%20of%20Aragon\">Ferdinand II</a> decreeing the expulsion of all Jews from Sicily. The eastern part of the island was hit by very destructive earthquakes in 1542 and 1693. Just a few years before the latter earthquake, the island was struck by a ferocious <a href=\"plague%20%28disease%29\">plague</a>. The <a href=\"1693%20Sicily%20earthquake\">earthquake in 1693</a> took an estimated 60,000 lives. There were revolts during the 17th century, but these were quelled with significant force, especially the revolts of Palermo and Messina. <a href=\"Barbary%20pirates\">North African</a> <a href=\"Barbary%20slave%20trade\">slave raids</a> discouraged settlement along the coast until the 19th century. The <a href=\"Treaty%20of%20Utrecht\">Treaty of Utrecht</a> in 1713 saw Sicily assigned to the <a href=\"House%20of%20Savoy\">House of Savoy</a>; however, this period of rule lasted only seven years, as it was exchanged for the island of <a href=\"Sardinia\">Sardinia</a> with <a href=\"Charles%20VI%2C%20Holy%20Roman%20Emperor\">Emperor Charles VI</a> of the Austrian <a href=\"House%20of%20Habsburg\">Habsburg Dynasty</a>.\\n\\nWhile the Austrians were concerned with the <a href=\"War%20of%20the%20Polish%20Succession\">War of the Polish Succession</a>, a <a href=\"House%20of%20Bourbon\">Bourbon</a> prince, <a href=\"Charles%20III%20of%20Spain\">Charles</a> from Spain was able to conquer Sicily and Naples. At first Sicily was able to remain as an independent kingdom under <a href=\"personal%20union\">personal union</a>, while the Bourbons ruled over both from Naples. However, the advent of <a href=\"Napoleon%20I\">Napoleon</a>\\'s <a href=\"First%20French%20Empire\">First French Empire</a> saw Naples taken at the <a href=\"Battle%20of%20Campo%20Tenese\">Battle of Campo Tenese</a> and Bonapartist <a href=\"King%20of%20Naples\">King of Naples</a> were installed. <a href=\"Ferdinand%20I%20of%20the%20Two%20Sicilies\">Ferdinand III</a> the Bourbon was forced to retreat to Sicily which he was still in complete control of with the help of <a href=\"Royal%20Navy\">British naval</a> protection.\\n\\nFollowing this, Sicily joined the <a href=\"Napoleonic%20Wars\">Napoleonic Wars</a>, and subsequently the British under <a href=\"Lord%20William%20Bentinck\">Lord William Bentinck</a> established a military and diplomatic presence on the island to protect against a French invasion. After the wars were won, Sicily and Naples formally merged as the <a href=\"Two%20Sicilies\">Two Sicilies</a> under the Bourbons. Major <a href=\"revolutionary\">revolutionary</a> movements occurred in 1820 and 1848 against the Bourbon government with Sicily seeking independence; the second of which, the <a href=\"Sicilian%20revolution%20of%20independence%20of%201848\">1848 revolution</a> resulted in a short period of independence for Sicily. However, in 1849 the Bourbons retook control of the island and dominated it until 1860.\\n\\nItalian unification.The <a href=\"Expedition%20of%20the%20Thousand\">Expedition of the Thousand</a> led by <a href=\"Giuseppe%20Garibaldi\">Giuseppe Garibaldi</a> captured Sicily in 1860, as part of the . The conquest started at <a href=\"Marsala\">Marsala</a>, and native Sicilians joined him in the capture of the southern Italian peninsula. Garibaldi\\'s march was completed with the <a href=\"Siege%20of%20Gaeta%20%281861%29\">Siege of Gaeta</a>, where the final <a href=\"Bourbons\">Bourbons</a> were expelled and Garibaldi announced his dictatorship in the name of <a href=\"Victor%20Emanuel%20II%20of%20Italy\">Victor Emmanuel II</a> of <a href=\"Kingdom%20of%20Sardinia\">Kingdom of Sardinia</a>. Sicily became part of the Kingdom of Sardinia after a referendum where more than 75% of Sicily voted in favour of the annexation on 21 October 1860 (but not everyone was allowed to vote). As a result of the <a href=\"proclamation%20of%20the%20Kingdom%20of%20Italy\">proclamation of the Kingdom of Italy</a>, Sicily became part of the kingdom on 17 March 1861.\\n\\nThe Sicilian economy (and the wider <i><a href=\"mezzogiorno\">mezzogiorno</a></i> economy) remained relatively underdeveloped after the <a href=\"Italian%20unification\">Italian unification</a>, in spite of the strong investments made by the <a href=\"Kingdom%20of%20Italy\">Kingdom of Italy</a> in terms of modern infrastructure, and this caused an unprecedented <a href=\"Italian%20diaspora\">wave of emigration</a>. In 1894, organisations of workers and peasants known as the <i><a href=\"Fasci%20Siciliani\">Fasci Siciliani</a></i> protested against the bad social and economic conditions of the island, but they were suppressed in a few days. The <a href=\"1908%20Messina%20earthquake\">Messina earthquake</a> of 28 December 1908 killed more than 80,000 people.\\n\\nThis period was also characterised by the first contact between the <a href=\"Sicilian%20mafia\">Sicilian mafia</a> (the crime syndicate also known as Cosa Nostra) and the Italian government. The Mafia\\'s origins are still uncertain, but it is generally accepted that it emerged in the 18th century initially in the role of private enforcers hired to protect the property of landowners and merchants from the groups of <a href=\"bandits\">bandits</a> (<i>briganti</i>) who frequently pillaged the countryside and towns. The battle against the Mafia made by the Kingdom of Italy was controversial and ambiguous. The <a href=\"Carabinieri\">Carabinieri</a> (the military police of Italy) and sometimes the <a href=\"Regio%20Esercito\">Italian army</a> were often involved in terrible fights against the mafia members, but their efforts were frequently useless because of the secret co-operation between mafia and local government and also because of the weakness of the Italian judicial system.\\n\\n20th and 21st centuries.In the 1920s, the <a href=\"Italian%20fascism\">Fascist</a> regime began a stronger military action against the Mafia, which was led by <a href=\"prefect\">prefect</a> <a href=\"Cesare%20Mori\">Cesare Mori</a> who was known as the \"Iron Prefect\" because of his iron-fisted campaigns. This was the first time in which an operation against the Sicilian mafia ended with considerable success. There was an <a href=\"allied%20invasion%20of%20Sicily\">allied invasion of Sicily</a> during World War II starting on 10 July 1943. In preparation for the invasion, the Allies <a href=\"Collaborations%20between%20the%20United%20States%20government%20and%20Italian%20Mafia\">revitalised</a> the Mafia to aid them. The invasion of Sicily contributed to the <a href=\"25%20Luglio\">25 July crisis</a>; in general, the Allied victors were warmly embraced by Sicily.\\n\\nItaly <a href=\"Birth%20of%20the%20Italian%20Republic\">became a Republic</a> in 1946 and, as part of the <a href=\"Constitution%20of%20Italy\">Constitution of Italy</a>, Sicily was one of the five <a href=\"Regions%20of%20Italy\">regions</a> given special status as an <a href=\"Autonomous%20administrative%20division\">autonomous region</a>. Both the partial Italian <a href=\"land%20reform\">land reform</a> and special funding from the Italian government\\'s <i><a href=\"Cassa%20per%20il%20Mezzogiorno\">Cassa per il Mezzogiorno</a></i> (Fund for the South) from 1950 to 1984 helped the Sicilian economy. During this period, the economic and social condition of the island was generally improved thanks to important investments on infrastructures such as <a href=\"motorways\">motorways</a> and <a href=\"airports\">airports</a>, and thanks to the creation of important industrial and commercial areas. In the 1980s, the Mafia was deeply weakened by a second important campaign led by magistrates <a href=\"Giovanni%20Falcone\">Giovanni Falcone</a> and <a href=\"Paolo%20Borsellino\">Paolo Borsellino</a>. Between 1990 and 2005, the <a href=\"unemployment%20rate\">unemployment rate</a> fell from about 23% to 11%.\\n\\nThe Cosa Nostra has traditionally been the most powerful group in Sicily, especially around Palermo. A police investigation in summer 2019 also confirmed strong links between the Palermo area <a href=\"Sicilian%20Mafia\">Sicilian Mafia</a> and American organised crime, particularly the <a href=\"Gambino%20crime%20family\">Gambino crime family</a>. According to <a href=\"La%20Repubblica\">La Repubblica</a>, \"Off they go, through the streets of Passo di Rigano, Boccadifalco, Torretta and at the same time, Brooklyn, Staten Island, New Jersey. Because from Sicily to the US, the old mafia has returned\".\\n\\nDemographics.Sicily is a melting pot of a variety of different cultures and ethnicities, including the original <a href=\"Italic%20people\">Italic people</a>, the <a href=\"Phoenicia\">Phoenicians</a>, <a href=\"Punics\">Carthaginians</a>, <a href=\"Ancient%20Greeks\">Greeks</a>, <a href=\"Roman%20Empire\">Romans</a>, <a href=\"Byzantine%20Empire\">Byzantines</a>, <a href=\"Arabs\">Arabs</a>, <a href=\"Normans\">Normans</a>, <a href=\"Swabians\">Swabians</a>, <a href=\"Aragonese%20people\">Aragonese</a>, <a href=\"Lombards\">Lombards</a>, <a href=\"Spaniards\">Spaniards</a>, French, and <a href=\"Albanians\">Albanians</a>, each contributing to the island\\'s culture and genetic makeup. About five million people live in Sicily, making it the <a href=\"List%20of%20regions%20of%20Italy%23List%20of%20regions\">fourth most populated region in Italy</a>. In the first century after the <a href=\"Italian%20unification\">Italian unification</a>, Sicily had one of the most negative <a href=\"net%20migration%20rate\">net migration rates</a> among the regions of Italy because of the emigration of millions of people to other European countries, North America, South America and Australia. Like the South of Italy and Sardinia, immigration to the island is very low compared to other regions of Italy because workers tend to head to <a href=\"Northern%20Italy\">Northern Italy</a> instead, due to better employment and industrial opportunities. The most recent <a href=\"Istituto%20Nazionale%20di%20Statistica\">ISTAT</a> figures show around 175,000 immigrants out of the total of almost 5.1\\xa0million population (nearly 3.5% of the population); <a href=\"Romanians\">Romanians</a> with more than 50,000 make up the most immigrants, followed by <a href=\"Tunisians\">Tunisians</a>, <a href=\"Moroccans\">Moroccans</a>, <a href=\"Sri%20Lankan%20Tamil%20diaspora\">Sri Lankans</a>, <a href=\"Albanians\">Albanians</a>, and others mostly from Eastern Europe. As in the rest of Italy, the official language is Italian and the primary religion is <a href=\"Roman%20Catholicism\">Roman Catholicism</a>.\\n\\nEmigration.Since the Italian unification, Sicily, along with the entire south of the Italian peninsula has been strongly marked by <a href=\"Forced%20displacement\">coerced emigration</a>, partly induced by a planned de-industrialization of the south in order to favour the northern regions.\\nAfter <a href=\"Italian%20unification\">Italian unification</a> most of the <a href=\"Kingdom%20of%20the%20Two%20Sicilies\">Kingdom of the Two Sicilies</a>\\'s former National Bank, the <a href=\"Banco%20di%20Napoli\">Banco delle Due Sicilie</a>\\'s assets were transferred to Piedmont. During the first decades of the Risorgimento, a rising number of Sicilian and South Italian manufacturies were driven into ruin due to high taxation imposed by the central government. Furthermore, an embargo imposed on goods coming from South Italian manufacturers, that effectively barred them from exporting to the north and abroad, were also key factors that led to a further impoverishment of the entire region. South Italian and Sicilian emigration started shortly after the Unification of Italy, and has not stopped ever since. By the beginning of the 1900s, less than 40 years after the Unification, what was formerly known as the Kingdom of the Two Sicilies, one of Europe\\'s most industrialised countries, became one of the poorest regions in Europe.\\n\\nThe aforementioned factors, along with a failed land reform, resulted in a never-before-seen wave of Sicilians emigrating, first to the <a href=\"United%20States\">United States</a> between the 1880s and the 1920s, later to Northern Italy, and from the 1960s onwards also to <a href=\"Belgium\">Belgium</a>, <a href=\"France\">France</a>, <a href=\"Germany\">Germany</a>, <a href=\"Switzerland\">Switzerland</a>, as well as <a href=\"Australia\">Australia</a> and <a href=\"South%20America\">South America</a>.\\n\\nToday, Sicily is the Italian region with the highest number of <a href=\"expatriate\">expatriates</a>: as of 2017, 750,000 Sicilians, 14.4% of the island\\'s population, lived abroad. For lack of employment, every year many Sicilians, especially young graduates, still leave the island to seek jobs abroad. Today, an estimated 10 million people of Sicilian origins live around the world.\\n\\nLargest cities.The following table shows the ten largest cities of Sicily:\\nReligion.As in most Italian regions, Christian <a href=\"Roman%20Catholicism\">Roman Catholicism</a> is the predominant religious denomination in Sicily, and the church still plays an important role in the lives of most people. There is also a notable small minority of Eastern-rite <a href=\"Byzantine%20Catholics\">Byzantine Catholics</a> which has a mixed congregation of ethnic <a href=\"Albanians\">Albanians</a>; it is operated by the <a href=\"Italo-Albanian%20Catholic%20Church\">Italo-Albanian Catholic Church</a>. Most people still attend church weekly or at least for religious festivals, and many people get married in churches. There was a wide presence of Jews in Sicily for at least 1,400 years and possibly for more than 2,000 years. Some scholars believe that the Sicilian Jewry are partial ancestors of the <a href=\"Ashkenazi%20Jews\">Ashkenazi Jews</a>. However, much of the Jewish community faded away when they were <a href=\"Expulsion%20of%20the%20Jews%20from%20Sicily\">expelled from the island</a> in 1492. <a href=\"Islam\">Islam</a> was present during the <a href=\"Emirate%20of%20Sicily\">Emirate of Sicily</a>, although Muslims were also expelled. Today, mostly due to immigration to the island, there are also several religious minorities, such as Jehovah\\'s Witnesses, <a href=\"Hinduism\">Hinduism</a>, Islam, Judaism, and <a href=\"Sikhism\">Sikhism</a>. There are also a fair number of <a href=\"evangelicalism\">evangelical</a> Christians who live on the island.\\n\\nPolitics.The politics of Sicily takes place in a framework of a <a href=\"presidential%20system\">presidential</a> <a href=\"representative%20democracy\">representative democracy</a>, whereby the President of Regional Government is the <a href=\"head%20of%20government\">head of government</a>, and of a pluriform <a href=\"multi-party%20system\">multi-party system</a>. <a href=\"Executive%20power\">Executive power</a> is exercised by the Regional Government. <a href=\"Legislative%20power\">Legislative power</a> is vested in both the government and the Sicilian Regional Assembly. The capital of Sicily is <a href=\"Palermo\">Palermo</a>.\\n\\nTraditionally, Sicily gives centre-right results during election. From 1943 to 1951 there was also a <a href=\"separatism\">separatist</a> political party called <a href=\"Sicilian%20Independence%20Movement\">Sicilian Independence Movement</a> (<i>Movimento Indipendentista Siciliano</i>, MIS). Its best electoral result was in the <a href=\"Italian%20general%20election%2C%201946\">1946 general election</a>, when MIS obtained 0.7% of national votes (8.8% of votes in Sicily), and four seats. However, the movement lost all its seats following the <a href=\"Italian%20general%20election%2C%201948\">1948 general election</a> and the 1951 regional election. Even though it has never been formally disbanded, today the movement is no longer part of the <a href=\"politics%20of%20Sicily\">politics of Sicily</a>. After <a href=\"World%20War%20II\">World War II</a> Sicily became a stronghold of the <a href=\"Christian%20Democracy%20%28Italy%29\">Christian Democracy</a>, in opposition to the <a href=\"Italian%20Communist%20Party\">Italian Communist Party</a>. The <a href=\"Italian%20Communist%20Party\">Communists</a> and their successors (the <a href=\"Democratic%20Party%20of%20the%20Left\">Democratic Party of the Left</a>, the <a href=\"Democrats%20of%20the%20Left\">Democrats of the Left</a> and the present-day <a href=\"Democratic%20Party%20%28Italy%29\">Democratic Party</a>) had never won in the region until <a href=\"Sicilian%20regional%20election%2C%202012\">2012</a>. Sicily is now governed by a centre-right coalition. <a href=\"Nello%20Musumeci\">Nello Musumeci</a> is the current President since 2017.\\n\\nAdministrative divisions.Administratively, Sicily is divided into nine provinces, each with a capital city of the same name as the province. Small surrounding islands are also part of various Sicilian provinces: the <a href=\"Aeolian%20Islands\">Aeolian Islands</a> (Messina), isle of <a href=\"Ustica\">Ustica</a> (Palermo), <a href=\"Aegadian%20Islands\">Aegadian Islands</a> (Trapani), isle of <a href=\"Pantelleria\">Pantelleria</a> (Trapani) and <a href=\"Pelagian%20Islands\">Pelagian Islands</a> (Agrigento).\\nEconomy.Thanks to the regular growth of the last years, Sicily is the eighth largest regional economy of Italy in terms of total GDP (see <a href=\"List%20of%20Italian%20regions%20by%20GDP%20%28PPP%29\">List of Italian regions by GDP</a>). A series of reforms and investments on agriculture such as the introduction of modern irrigation systems have made this important industry competitive. In the 1970s there was a growth of the <a href=\"industrial%20sector\">industrial sector</a> through the creation of some factories. In recent years the importance of the <a href=\"service%20industry\">service industry</a> has grown for the opening of several shopping malls and for a modest growth of financial and telecommunication activities. Tourism is an important source of wealth for the island thanks to its natural and historical heritage. Today Sicily is investing a large amount of money on structures of the <a href=\"hospitality%20industry\">hospitality industry</a>, in order to make tourism more competitive. However, Sicily continues to have a GDP per capita below the Italian average and higher unemployment than the rest of Italy. This difference is mostly caused by the negative influence of <a href=\"the%20Mafia\">the Mafia</a> that is still active in some areas although it is much weaker than in the past.\\n\\nAgriculture.Sicily has long been noted for its fertile soil due to volcanic eruptions. The local agriculture is also helped by the pleasant climate of the island. The main agricultural products are wheat, <a href=\"Diamante%20citron\">citrons</a>, oranges <i>(<a href=\"Blood%20orange\">Arancia Rossa di Sicilia IGP</a>)</i>, lemons, tomatoes <i>(<a href=\"Pomodoro%20di%20Pachino\">Pomodoro di Pachino IGP</a>)</i>, <a href=\"olive\">olives</a>, <a href=\"olive%20oil\">olive oil</a>, <a href=\"artichoke\">artichokes</a>, <a href=\"Opuntia%20ficus-indica\">prickly pear</a> <i>(Fico d\\'India dell\\'<a href=\"Mount%20Etna\">Etna</a> DOP)</i>, <a href=\"almond\">almonds</a>, <a href=\"grape\">grapes</a>, <a href=\"pistachio\">pistachios</a> <i>(Pistacchio di <a href=\"Bronte%2C%20Sicily\">Bronte</a> DOP)</i> and wine. Cattle and sheep are raised. The cheese productions are particularly important thanks to the <a href=\"Ragusano%20cheese\">Ragusano DOP</a> and the <a href=\"Pecorino%20Siciliano\">Pecorino Siciliano DOP</a>. <a href=\"Ragusa%2C%20Italy\">Ragusa</a> is noted for its <a href=\"honey\">honey</a> (<i>Miele Ibleo</i>) and chocolate (<i><a href=\"Cioccolato%20di%20Modica\">Cioccolato di Modica</a> IGP</i>) productions.\\n\\nSicily is the third largest wine producer in Italy (the world\\'s largest wine producer) after <a href=\"Veneto\">Veneto</a> and <a href=\"Emilia%20Romagna\">Emilia Romagna</a>. The region is known mainly for fortified <a href=\"Marsala%20wine\">Marsala wines</a>. In recent decades the wine industry has improved, new winemakers are experimenting with less-known native varietals, and Sicilian wines have become better known. The best known local varietal is <a href=\"Nero%20d%27Avola\">Nero d\\'Avola</a>, named for a small town not far from <a href=\"Syracuse%2C%20Sicily\">Syracuse</a>; the best wines made with these grapes come from <a href=\"Noto\">Noto</a>, a famous old city close to Avola. Other important native varietals are <a href=\"Nerello\">Nerello Mascalese</a> used to make the <a href=\"Etna%20DOC\">Etna Rosso DOC wine</a>, <a href=\"Frappato\">Frappato</a> that is a component of the <a href=\"Frappato\">Cerasuolo di Vittoria DOCG wine</a>, <a href=\"Muscat%20of%20Alexandria\">Moscato di Pantelleria</a> (also known as <i>Zibibbo</i>) used to make different <a href=\"Pantelleria\">Pantelleria</a> wines, <a href=\"Malvasia%23Italian%20varieties\">Malvasia di Lipari</a> used for the <a href=\"Malvasia%23Italian%20varieties\">Malvasia di Lipari DOC wine</a> and <a href=\"Catarratto\">Catarratto</a> mostly used to make the white wine <a href=\"Alcamo%20wine\">Alcamo DOC</a>. Furthermore, in Sicily high quality wines are also produced using non-native varietals like <a href=\"Syrah\">Syrah</a>, <a href=\"Chardonnay\">Chardonnay</a> and <a href=\"Merlot\">Merlot</a>.\\n\\nSicily is also known for its liqueurs, such as the <a href=\"Amaro%20Averna\">Amaro Averna</a> produced in <a href=\"Caltanissetta\">Caltanissetta</a> and the local <a href=\"limoncello\">limoncello</a>.\\n\\nFishing is another fundamental resource for Sicily. There are important <a href=\"tuna\">tuna</a>, <a href=\"sardine\">sardine</a>, <a href=\"swordfish\">swordfish</a> and <a href=\"European%20anchovy\">European anchovy</a> fisheries. <a href=\"Mazara%20del%20Vallo\">Mazara del Vallo</a> is the largest fishing centre in Sicily and one of the most important in Italy.\\n\\nIndustry and manufacturing.Improvements in Sicily\\'s road system have helped to promote industrial development. The region has three important <a href=\"industrial%20district\">industrial districts</a>:\\n<ul><li>- <i><a href=\"Catania\">Catania</a> Industrial District</i>, where there are several <a href=\"food%20industries\">food industries</a> and one of the best European <a href=\"electronics%20industry\">electronics industry</a> centres called <i>Etna Valley</i> (in honour of the best known <a href=\"Silicon%20Valley\">Silicon Valley</a>) which contains offices and factories of international companies such as <a href=\"STMicroelectronics\">STMicroelectronics</a> and <a href=\"Numonyx\">Numonyx</a>;\\n</li><li>- <i><a href=\"Syracuse%2C%20Sicily\">Syracuse</a> Petrochemical District</i> with <a href=\"chemical%20industry\">chemical industries</a>, <a href=\"oil%20refineries\">oil refineries</a> and important <a href=\"power%20stations\">power stations</a> (as the innovative <a href=\"Archimede%20combined%20cycle%20power%20plant\">Archimede combined cycle power plant</a>);\\n</li><li>- the latest <i><a href=\"Enna\">Enna</a> Industrial District</i> in which there are <a href=\"food%20industries\">food industries</a>.\\n</li></ul>In <a href=\"Palermo\">Palermo</a> there are important <a href=\"shipyards\">shipyards</a> (such as <a href=\"Fincantieri\">Fincantieri</a>), <a href=\"Mechanical%20engineering\">mechanical</a> factories of famous Italian companies as <a href=\"Ansaldo%20Breda\">Ansaldo Breda</a>, publishing and textile industries. <a href=\"chemical%20industry\">Chemical industries</a> are also in the <a href=\"Province%20of%20Messina\">Province of Messina</a> (<a href=\"Milazzo\">Milazzo</a>) and in the <a href=\"Province%20of%20Caltanissetta\">Province of Caltanissetta</a> (<a href=\"Gela\">Gela</a>).\\nThere are petroleum, natural gas and <a href=\"asphalt\">asphalt</a> fields in the Southeast (mostly near <a href=\"Ragusa%2C%20Italy\">Ragusa</a>) and massive deposits of <a href=\"halite\">halite</a> in Central Sicily. The <a href=\"Province%20of%20Trapani\">Province of Trapani</a> is one of the largest <a href=\"sea%20salt\">sea salt</a> producers in Italy.\\n\\nGDP growth.A table showing Sicily\\'s different GDP (nominal and per capita) growth between 2000 and 2008:\\nEconomic sectors.After the table which shows Sicily\\'s GDP growth, this table shows the sectors of the Sicilian economy in 2006:\\nUnemployment rate.The unemployment rate stood at 21.5% in 2018 and was one of the highest in Italy and Europe.\\nRoads.Highways have been built and expanded in the last four decades. The most prominent Sicilian roads are the motorways (known as ) in the north of the island. Much of the motorway network is elevated on pillars due to the island\\'s mountainous terrain. Other main roads in Sicily are the <i>Strade Statali</i>, such as the SS.113 that connects <a href=\"Trapani\">Trapani</a> to Messina (via Palermo), the SS.114 Messina-<a href=\"Syracuse%2C%20Sicily\">Syracuse</a> (via Catania) and the SS.115 Syracuse-Trapani (via <a href=\"Ragusa%2C%20Italy\">Ragusa</a>, <a href=\"Gela\">Gela</a> and <a href=\"Agrigento\">Agrigento</a>).\\n\\nRailways.The first railway in Sicily was opened in 1863 (Palermo-Bagheria) and today all of the Sicilian provinces are served by a network of railway services, linking to most major cities and towns; this service is operated by <a href=\"Trenitalia\">Trenitalia</a>. Of the 1378 km of railway tracks in use, over 60% has been <a href=\"Railway%20electrification%20system\">electrified</a> whilst the remaining 583 km are serviced by <a href=\"Dieselisation\">diesel</a> engines. 88% of the lines (1.209\\xa0km) are single-track and only 169 km are double-track serving the two main routes, Messina-Palermo (<a href=\"Tyrrhenian%20Sea\">Tyrrhenian</a>) and Messina-Catania-Syracuse (<a href=\"Ionian%20Sea\">Ionian</a>), which are the main lines of this region. Of the <a href=\"narrow-gauge%20railway\">narrow-gauge railways</a> the <a href=\"Ferrovia%20Circumetnea\">Ferrovia Circumetnea</a> is the only one that still operates, going round <a href=\"Mount%20Etna\">Mount Etna</a>. From the major cities of Sicily, there are services to <a href=\"Naples\">Naples</a>, <a href=\"Rome\">Rome</a> and <a href=\"Milan\">Milan</a>; this is achieved by the trains being loaded onto <a href=\"ferries\">ferries</a> which cross the Strait.\\n\\nIn <a href=\"Catania\">Catania</a> there is an <a href=\"Rapid%20transit\">underground railway</a> service (<a href=\"metropolitana%20di%20Catania\">metropolitana di Catania</a>); in <a href=\"Palermo\">Palermo</a> the national railway operator <a href=\"Trenitalia\">Trenitalia</a> operates a <a href=\"commuter%20rail\">commuter rail</a> (<a href=\"Palermo%20metropolitan%20railway%20service\">Palermo metropolitan railway service</a>), the Sicilian Capital is also served by 4 AMAT (Comunal Public Transport Operator) tramlines; <a href=\"Messina\">Messina</a> is served by a <a href=\"Trams%20in%20Messina\">tramline</a>.\\n\\nAirports.Mainland Sicily has several airports which serve numerous Italian and European destinations and some extra-European.\\n<ul><li>- <a href=\"Catania-Fontanarossa%20Airport\">Catania-Fontanarossa Airport</a>, located on the east coast, is the busiest on the island (and one of the busiest in all of Italy).\\n</li><li>- <a href=\"Palermo%20International%20Airport\">Palermo International Airport</a>, which is also a substantially large airport with many national and international flights.\\n</li><li>- <a href=\"Trapani-Birgi%20Airport\">Trapani-Birgi Airport</a>, a military-civil joint use airport (third for traffic on the island). Recently the airport has seen an increase of traffic thanks to a <a href=\"low-cost%20carrier\">low-cost carrier</a>.\\n</li><li>- <a href=\"Comiso%20Airport\">Comiso-Ragusa Airport</a>, has recently been refurbished and re-converted from military use to a civil airport. It was opened to commercial traffic and general aviation 30 May 2013.\\n</li><li>- <a href=\"Palermo-Boccadifalco%20Airport\">Palermo-Boccadifalco Airport</a> is the old airport of Palermo and is currently used for <a href=\"general%20aviation\">general aviation</a> and as a base for the <a href=\"Guardia%20di%20Finanza\">Guardia di Finanza</a> and <a href=\"police%20helicopter\">police helicopters</a>.\\n</li><li>- <a href=\"Naval%20Air%20Station%20Sigonella\">NAS Sigonella Airport</a>, it is an Italian Air Force and US Navy installation.\\n</li><li>- <a href=\"Lampedusa%20Airport\">Lampedusa Airport</a>.\\n</li><li>- <a href=\"Pantelleria%20Airport\">Pantelleria Airport</a>.\\n</li></ul>\\nPorts.By sea, Sicily is served by several ferry routes and cargo ports, and in all major cities, cruise ships dock on a regular basis.\\n<ul><li>- Mainland Italy: Ports connecting to the mainland are <a href=\"Messina\">Messina</a> (route to <a href=\"Villa%20San%20Giovanni\">Villa San Giovanni</a> and <a href=\"Salerno\">Salerno</a>), the busiest passenger port in Italy, <a href=\"Palermo\">Palermo</a> (routes to <a href=\"Genoa\">Genoa</a>, <a href=\"Civitavecchia\">Civitavecchia</a> and <a href=\"Naples\">Naples</a>) and <a href=\"Catania\">Catania</a> (route to <a href=\"Naples\">Naples</a>).\\n</li><li>- Sicily\\'s small surrounding islands: The port of <a href=\"Milazzo\">Milazzo</a> serves the <a href=\"Aeolian%20Islands\">Aeolian Islands</a>, the ports of <a href=\"Trapani\">Trapani</a> and <a href=\"Marsala\">Marsala</a> the <a href=\"Aegadian%20Islands\">Aegadian Islands</a> and the port of <a href=\"Porto%20Empedocle\">Porto Empedocle</a> the <a href=\"Pelagie%20Islands\">Pelagie Islands</a>. From Palermo there is a service to the island of <a href=\"Ustica\">Ustica</a> and to <a href=\"Sardinia\">Sardinia</a>.\\n</li><li>- International connections: From Palermo and Trapani there are weekly services to <a href=\"Tunisia\">Tunisia</a> and there is also a daily service between <a href=\"Malta\">Malta</a> and <a href=\"Port%20of%20Pozzallo\">Pozzallo</a>.\\n</li><li>- Commercial and cargo ports: The port of <a href=\"Augusta%2C%20Sicily\">Augusta</a> is the fifth-largest cargo port in Italy and handles tonnes of goods. Other major cargo ports are Palermo, Catania, Trapani, <a href=\"Port%20of%20Pozzallo\">Pozzallo</a> and <a href=\"Termini%20Imerese\">Termini Imerese</a>.\\n</li><li>- Touristic ports: Several ports along the Sicilian coast are in the service of private boats that need to moor on the island. The main ports for this traffic are in <a href=\"Marina%20di%20Ragusa\">Marina di Ragusa</a>, <a href=\"Riposto\">Riposto</a>, <a href=\"Portorosa\">Portorosa</a>, <a href=\"Syracuse%2C%20Sicily\">Syracuse</a>, <a href=\"Cefal%C3%B9\">Cefalù</a> and <a href=\"Sciacca\">Sciacca</a>. In Sicily, Palermo is also a major centre for boat rental, with or without crew, in the Mediterranean.\\n</li><li>- Fishing ports: Like all islands, Sicily also has many fishing ports. The most important is in <a href=\"Mazara%20del%20Vallo\">Mazara del Vallo</a> followed by <a href=\"Castellamare%20del%20Golfo\">Castellamare del Golfo</a>, <a href=\"Licata\">Licata</a>, <a href=\"Scoglitti\">Scoglitti</a> and <a href=\"Portopalo%20di%20Capo%20Passero\">Portopalo di Capo Passero</a>.\\n</li></ul>\\nPlanned bridge.Plans for a bridge linking Sicily to the mainland have been discussed since 1865. Throughout the last decade, plans were developed for a road and rail link to the mainland via what would be the world\\'s longest <a href=\"suspension%20bridge\">suspension bridge</a>, the <a href=\"Strait%20of%20Messina%20Bridge\">Strait of Messina Bridge</a>. Planning for the project has experienced several false starts over the past few years. On 6 March 2009, <a href=\"Silvio%20Berlusconi\">Silvio Berlusconi</a>\\'s government declared that the construction works for the Messina Bridge will begin on 23 December 2009, and announced a pledge of €1.3\\xa0billion as a contribution to the bridge\\'s total cost, estimated at €6.1\\xa0billion.\\nThe plan has been criticised by environmental associations and some local Sicilians and Calabrians, concerned with its environmental impact, economical sustainability and even possible infiltrations by organised crime.\\n\\nTourism.Sicily\\'s sunny, dry climate, scenery, cuisine, history and architecture attract many tourists from mainland Italy and abroad. The tourist season peaks in the summer months, although people visit the island all year round. <a href=\"Mount%20Etna\">Mount Etna</a>, the beaches, the archaeological sites, and major cities such as <a href=\"Palermo\">Palermo</a>, <a href=\"Catania\">Catania</a>, <a href=\"Syracuse%2C%20Sicily\">Syracuse</a> and <a href=\"Ragusa%2C%20Sicily\">Ragusa</a> are the favourite tourist destinations, but the old town of <a href=\"Taormina\">Taormina</a> and the neighbouring seaside resort of <a href=\"Giardini%20Naxos\">Giardini Naxos</a> draw visitors from all over the world, as do the <a href=\"Aeolian%20Islands\">Aeolian Islands</a>, <a href=\"Erice\">Erice</a>, <a href=\"Castellammare%20del%20Golfo\">Castellammare del Golfo</a>, <a href=\"Cefal%C3%B9\">Cefalù</a>, <a href=\"Agrigento\">Agrigento</a>, the <a href=\"Pelagie%20Islands\">Pelagie Islands</a> and <a href=\"Capo%20d%27Orlando\">Capo d\\'Orlando</a>. The last features some of the best-preserved temples of the ancient Greek period. Many Mediterranean cruise ships stop in Sicily, and many wine tourists also visit the island.\\n\\nSome scenes of several Hollywood and <a href=\"Cinecitt%C3%A0\">Cinecittà</a> films were shot in Sicily. This increased the attraction of Sicily as a tourist destination.\\n\\nUNESCO World Heritage Sites.There are seven <a href=\"UNESCO%20World%20Heritage%20Sites\">UNESCO World Heritage Sites</a> on Sicily. By the order of inscription:\\n<ul><li>- <a href=\"Valle%20dei%20Templi\">Valle dei Templi</a> (1997) is one of the most outstanding examples of <a href=\"Magna%20Graecia\">Greater Greece</a> art and architecture, and is one of the main attractions of Sicily as well as a national monument of Italy. The site is located in <a href=\"Agrigento\">Agrigento</a>.\\n</li><li>- <a href=\"Villa%20Romana%20del%20Casale\">Villa Romana del Casale</a> (1997) is a <a href=\"Roman%20villa\">Roman villa</a> built in the first quarter of the 4th century and located about 3 km outside the town of <a href=\"Piazza%20Armerina\">Piazza Armerina</a>. It contains the richest, largest and most complex collection of Roman mosaics in the world.\\n</li><li>- <a href=\"Aeolian%20Islands\">Aeolian Islands</a> (2000) are a <a href=\"Volcano\">volcanic</a> <a href=\"archipelago\">archipelago</a> in the <a href=\"Tyrrhenian%20Sea\">Tyrrhenian Sea</a>, named after the demigod of the winds <a href=\"Aeolus\">Aeolus</a>. The Aeolian Islands are a tourist destination in the summer, and attract up to 200,000 visitors annually.\\n</li><li>- <a href=\"Val%20di%20Noto\">Late Baroque Towns of the Val di Noto</a> (2002) \"represent the culmination and final flowering of <a href=\"Baroque\">Baroque</a> art in Europe\". It includes several towns: <a href=\"Caltagirone\">Caltagirone</a>, <a href=\"Militello%20in%20Val%20di%20Catania\">Militello in Val di Catania</a>, <a href=\"Catania\">Catania</a>, <a href=\"Modica\">Modica</a>, <a href=\"Noto\">Noto</a>, <a href=\"Palazzolo%20Acreide\">Palazzolo Acreide</a>, <a href=\"Ragusa%2C%20Italy\">Ragusa</a> and <a href=\"Scicli\">Scicli</a>.\\n</li><li>- <a href=\"Necropolis%20of%20Pantalica\">Necropolis of Pantalica</a> and <a href=\"City%20of%20Syracuse%20%28Siricusa%29\">City of Syracuse (Siricusa)</a> (2005) is a large <a href=\"necropolis\">necropolis</a> in Sicily with over 5,000 tombs dating from the 13th to the 7th centuries BC. <a href=\"Syracuse%2C%20Sicily\">Syracuse</a> is notable for its rich Greek history, culture, amphitheatres and architecture. They are situated in south-eastern Sicily.\\n</li><li>- <a href=\"Mount%20Etna\">Mount Etna</a> (2013) is one of the most active volcanoes in the world and is in an almost constant state of activity and generated myths, legends and naturalistic observation from Greek, Celts and Roman classic and medieval times.\\n</li><li>- Arab-Norman <a href=\"Palermo\">Palermo</a> and the cathedral churches of <a href=\"Cefal%C3%B9\">Cefalù</a> and <a href=\"Monreale\">Monreale</a>; includes a series of nine civil and religious structures dating from the era of the Norman kingdom of Sicily (1130–1194)\\n</li></ul>\\nTentative Sites.<ul><li>- <a href=\"Taormina\">Taormina and Isola Bella</a>;\\n</li><li>- <a href=\"Motya\">Motya</a> and <a href=\"Marsala\">Libeo Island</a>: The Phoenician-Punic Civilisation in Italy;\\n</li><li>- <a href=\"Scala%20dei%20Turchi\">Scala dei Turchi</a>;\\n</li><li>- <a href=\"Strait%20of%20Messina\">Strait of Messina</a>.\\n</li></ul>\\nArcheological sites.Because many different cultures settled, dominated or invaded the island, Sicily has a huge variety of <a href=\"archaeological%20sites\">archaeological sites</a>. Also, some of the most notable and best preserved temples and other structures of the Greek world are located in Sicily.. Here is a short list of the major archaeological sites:\\n<ul><li>- Sicels/Sicans/Elymians/Greeks: <a href=\"Segesta\">Segesta</a>, <a href=\"Eryx%20%28Sicily%29\">Eryx</a>, <a href=\"Ispica\">Cava Ispica</a>, <a href=\"Thapsos\">Thapsos</a>, <a href=\"Pantalica\">Pantalica</a>;\\n</li><li>- Greeks: <a href=\"Syracuse%2C%20Sicily\">Syracuse</a>, <a href=\"Agrigento\">Agrigento</a>, <a href=\"Segesta\">Segesta</a>, <a href=\"Selinunte\">Selinunte</a>, <a href=\"Gela\">Gela</a>, <a href=\"Kamarina%2C%20Sicily\">Kamarina</a>, <a href=\"Himera\">Himera</a>, <a href=\"Megara%20Hyblaea\">Megara Hyblaea</a>, <a href=\"Naxos%20%28Sicily%29\">Naxos</a>, <a href=\"Heraclea%20Minoa\">Heraclea Minoa</a>;\\n</li><li>- Phoenicians: <a href=\"Motya\">Motya</a>, <a href=\"Soluntum\">Soluntum</a>, <a href=\"Marsala\">Marsala</a>, <a href=\"Palermo\">Palermo</a>;\\n</li><li>- Romans: <a href=\"Piazza%20Armerina\">Piazza Armerina</a>, <a href=\"Centuripe\">Centuripe</a>, <a href=\"Taormina\">Taormina</a>, <a href=\"Palermo\">Palermo</a>;\\n</li><li>- Arabs: <a href=\"Palermo\">Palermo</a>, <a href=\"Mazara%20del%20Vallo\">Mazara del Vallo</a>.\\n</li></ul>The excavation and restoration of one of Sicily\\'s best known archaeological sites, the <a href=\"Valle%20dei%20Templi\">Valley of the Temples</a> in Agrigento, was at the direction of the archaeologist <a href=\"Domenico%20Lo%20Faso%20Pietrasanta\">Domenico Antonio Lo Faso Pietrasanta</a>, Fifth Duke of <a href=\"Serradifalco\">Serradifalco</a>, known in archaeological circles simply as <i>\"Serradifalco\"</i>. He also oversaw the restoration of ancient sites at <a href=\"Segesta\">Segesta</a>, <a href=\"Selinunte\">Selinunte</a>, <a href=\"Syracuse%2C%20Sicily\">Siracusa</a> and <a href=\"Taormina\">Taormina</a>.\\n\\nCastles.In Sicily there are hundreds of castles, the most relevant are:\\n\\nCoastal towers.The <a href=\"Coastal%20towers%20in%20Sicily\">Coastal towers in Sicily</a> (<i>Torri costiere della Sicilia</i>) are 218 old <a href=\"watchtowers\">watchtowers</a> along the coast. In Sicily, the first coastal towers date back to 1313 and 1345 of the Aragonese monarchy. From 1360 the threat came from the south, from <a href=\"North%20Africa\">North Africa</a> to <a href=\"Maghreb\">Maghreb</a>, mainly to <a href=\"Barbary%20pirates\">Barbary pirates</a> and corsairs of <a href=\"Barbary%20Coast\">Barbary Coast</a>. In 1516, the Turks settled in <a href=\"Algiers\">Algiers</a>, and from 1520, the corsair <a href=\"Hayreddin%20Barbarossa\">Hayreddin Barbarossa</a> under the command of <a href=\"Ottoman%20Empire\">Ottoman Empire</a>, operated from that harbour.\\n\\nMost existing towers were built on architectural designs of the Florentine architect <a href=\"Camillo%20Camilliani\">Camillo Camilliani</a> from [1583] to 1584, and involved the coastal periple of Sicily. The typology changed completely in \\'800, because of the new higher fire volumes of cannon vessels, the towers were built on the type of <a href=\"Martello%20towers\">Martello towers</a> that the British built in the UK and elsewhere in the British Empire. \\nThe decline of Mediterranean piracy caused by the <a href=\"Second%20Barbary%20War\">Second Barbary War</a> led to a smaller number of coastal towers built during the 19th Century. \\n\\nCulture.Sicily has long been associated with <a href=\"the%20arts\">the arts</a>; many poets, writers, <a href=\"philosophy\">philosophers</a>, intellectuals, architects and painters have roots on the island. The history of prestige in this field can be traced back to Greek philosopher <a href=\"Archimedes\">Archimedes</a>, a <a href=\"Syracuse%2C%20Sicily\">Syracuse</a> native who has gone on to become renowned as one of the greatest mathematicians of all time. <a href=\"Gorgias\">Gorgias</a> and <a href=\"Empedocles\">Empedocles</a> are two other highly noted early Sicilian-Greek philosophers, while the Syracusan <a href=\"Epicharmus%20of%20Kos\">Epicharmus</a> is held to be the inventor of comedy.\\n\\nArt and architecture.<a href=\"Terracotta\">Terracotta</a> <a href=\"ceramics%20%28art%29\">ceramics</a> from the island are well known, the art of ceramics on Sicily goes back to the original ancient peoples named the <a href=\"Sicani\">Sicanians</a>, it was then perfected during the period of Greek colonisation and is still prominent and distinct to this day. Nowadays, <a href=\"Caltagirone\">Caltagirone</a> is one of the most important centres in Sicily for the artistic production of ceramics and terra-cotta sculptures. Famous painters include <a href=\"Renaissance\">Renaissance</a> artist <a href=\"Antonello%20da%20Messina\">Antonello da Messina</a>, <a href=\"Bruno%20Caruso\">Bruno Caruso</a>, <a href=\"Renato%20Guttuso\">Renato Guttuso</a> and Greek born <a href=\"Giorgio%20de%20Chirico\">Giorgio de Chirico</a> who is commonly dubbed the \"father of <a href=\"Surrealist%20art\">Surrealist art</a>\" and founder of the <a href=\"metaphysical%20art\">metaphysical art</a> movement. The most noted architects are <a href=\"Filippo%20Juvarra\">Filippo Juvarra</a> (one of the most important figures of the Italian <a href=\"Baroque\">Baroque</a>) and <a href=\"Ernesto%20Basile\">Ernesto Basile</a>.\\n\\nSicilian Baroque.The <a href=\"Sicilian%20Baroque\">Sicilian Baroque</a> has a unique architectural identity. <a href=\"Noto\">Noto</a>, <a href=\"Caltagirone\">Caltagirone</a>, <a href=\"Catania\">Catania</a>, <a href=\"Ragusa%2C%20Italy\">Ragusa</a>, <a href=\"Modica\">Modica</a>, <a href=\"Scicli\">Scicli</a> and particularly <a href=\"Acireale\">Acireale</a> contain some of Italy\\'s best examples of <a href=\"Baroque%20architecture\">Baroque architecture</a>, carved in the local red <a href=\"sandstone\">sandstone</a>. Noto provides one of the best examples of the Baroque architecture brought to Sicily.\\nThe Baroque style in Sicily was largely confined to buildings erected by the church, and <a href=\"palazzo\">palazzi</a> built as private residences for the Sicilian aristocracy. The earliest examples of this style in Sicily lacked individuality and were typically heavy-handed pastiches of buildings seen by Sicilian visitors to Rome, <a href=\"Florence\">Florence</a>, and <a href=\"Naples\">Naples</a>. However, even at this early stage, provincial architects had begun to incorporate certain vernacular features of Sicily\\'s older architecture. By the middle of the 18th century, when Sicily\\'s Baroque architecture was noticeably different from that of the mainland, it typically included at least two or three of the following features, coupled with a unique freedom of design that is more difficult to characterise in words.\\n\\nMusic and film.<a href=\"Palermo\">Palermo</a> hosts the <a href=\"Teatro%20Massimo\">Teatro Massimo</a> which is the largest <a href=\"opera%20house\">opera house</a> in Italy and the third largest in all of Europe.\\nIn <a href=\"Catania\">Catania</a> there is another important <a href=\"opera%20house\">opera house</a>, the <a href=\"Teatro%20Massimo%20Bellini\">Teatro Massimo Bellini</a> with 1,200 seats, which is considered one of the best European <a href=\"opera%20houses\">opera houses</a> for its acoustics.\\nSicily\\'s composers vary from <a href=\"Vincenzo%20Bellini\">Vincenzo Bellini</a>, <a href=\"Sigismondo%20d%27India\">Sigismondo d\\'India</a>, <a href=\"Giovanni%20Pacini\">Giovanni Pacini</a> and <a href=\"Alessandro%20Scarlatti\">Alessandro Scarlatti</a>, to contemporary composers such as <a href=\"Salvatore%20Sciarrino\">Salvatore Sciarrino</a> and <a href=\"Silvio%20Amato\">Silvio Amato</a>.\\nMany award-winning and acclaimed films of Italian cinema have been filmed in Sicily, amongst the most noted of which are: <a href=\"Luchino%20Visconti\">Visconti</a>\\'s <i>\"<a href=\"La%20Terra%20Trema\">La Terra Trema</a>\"</i> and <i>\"<a href=\"Il%20Gattopardo\">Il Gattopardo</a>\"</i>, <a href=\"Pietro%20Germi\">Pietro Germi</a>\\'s <i>\"<a href=\"Divorce%2C%20Italian%20Style\">Divorzio all\\'Italiana</a></i>\" and <i>\"<a href=\"Seduced%20and%20Abandoned\">Sedotta e Abbandonata</a></i>\".\\n\\nLiterature.The golden age of Sicilian poetry began in the early 13th century with the <a href=\"Sicilian%20School\">Sicilian School</a> of <a href=\"Giacomo%20da%20Lentini\">Giacomo da Lentini</a>, which was highly influential on <a href=\"Italian%20literature\">Italian literature</a>. Some of the most noted figures among writers and poets are <a href=\"Luigi%20Pirandello\">Luigi Pirandello</a> (<a href=\"Nobel%20Prize%20in%20Literature\">Nobel laureate, 1934</a>), <a href=\"Salvatore%20Quasimodo\">Salvatore Quasimodo</a> (<a href=\"Nobel%20Prize%20in%20Literature\">Nobel laureate, 1959</a>), <a href=\"Giovanni%20Verga\">Giovanni Verga</a> (the father of the <i>Italian <a href=\"Verismo%20%28literature%29\">Verismo</a></i>), <a href=\"Domenico%20Tempio\">Domenico Tempio</a>, <a href=\"Giovanni%20Meli\">Giovanni Meli</a>, <a href=\"Luigi%20Capuana\">Luigi Capuana</a>, <a href=\"Mario%20Rapisardi\">Mario Rapisardi</a>, <a href=\"Federico%20de%20Roberto\">Federico de Roberto</a>, <a href=\"Leonardo%20Sciascia\">Leonardo Sciascia</a>, <a href=\"Vitaliano%20Brancati\">Vitaliano Brancati</a>, <a href=\"Giuseppe%20Tomasi%20di%20Lampedusa\">Giuseppe Tomasi di Lampedusa</a>, <a href=\"Elio%20Vittorini\">Elio Vittorini</a>, <a href=\"Vincenzo%20Consolo\">Vincenzo Consolo</a> and <a href=\"Andrea%20Camilleri\">Andrea Camilleri</a> (noted for his novels and short stories with the fictional character <a href=\"Salvo%20Montalbano\">Inspector Salvo Montalbano</a> as protagonist). On the political side notable philosophers include <a href=\"Gaetano%20Mosca\">Gaetano Mosca</a> and <a href=\"Giovanni%20Gentile\">Giovanni Gentile</a> who wrote <i><a href=\"The%20Doctrine%20of%20Fascism\">The Doctrine of Fascism</a></i>. In terms of academic reflection, the historical and aesthetic richness as well as the multi-layered heterogeneity of Sicilian literature and culture have been first grasped methodologically and coined with the term of <a href=\"Transculturation\">transculturality</a> by <a href=\"Germans\">German</a> scholar of <a href=\"Italian%20studies\">Italian studies</a> <a href=\"Dagmar%20Reichardt\">Dagmar Reichardt</a> who, after having published an extensive study on the literary work of <a href=\"Giuseppe%20Bonaviri\">Giuseppe Bonaviri</a>, was awarded the International <a href=\"Premio%20Flaiano\">Premio Flaiano</a> (\"Italianistica\") for a trilingual (English, Italian, German) collection about the <a href=\"Europe\">European</a> <a href=\"liminality\">liminality</a> of Sicily, Sicilian literature and Sicilian Studies.\\n\\nLanguage.Today in Sicily most people are bilingual and speak both Italian and <a href=\"Sicilian%20language\">Sicilian</a>, a distinct and historical <a href=\"Romance%20languages\">Romance language</a>. Some of the <a href=\"Sicilian%20language\">Sicilian</a> words are <a href=\"loan%20word\">loan words</a> from <a href=\"Greek%20language\">Greek</a>, <a href=\"Catalan%20language\">Catalan</a>, French, <a href=\"Arabic%20language\">Arabic</a>, Spanish and other languages. Dialects related to Sicilian are also spoken in <a href=\"Calabria\">Calabria</a> and <a href=\"Apulia\">Salento</a>; it had a significant influence on the <a href=\"Maltese%20language\">Maltese language</a>. However the use of <a href=\"Sicilian%20language\">Sicilian</a> is limited to informal contexts (mostly in family) and in a majority of cases it is replaced by the so-called <i>regional Italian of Sicily</i>, an <a href=\"Regional%20Italian\">Italian dialect</a> that is a kind of mix between Italian and Sicilian.\\n\\nSicilian was an early influence in the development of the first Italian standard, although its use remained confined to an intellectual elite. This was a literary language in Sicily created under the auspices of <a href=\"Frederick%20II%2C%20Holy%20Roman%20Emperor\">Frederick II</a> and his court of notaries, or <i>Magna Curia</i>, which, headed by <a href=\"Giacomo%20da%20Lentini\">Giacomo da Lentini</a>, also gave birth to the <a href=\"Sicilian%20School\">Sicilian School</a>, widely inspired by troubadour literature. Its linguistic and poetic heritage was later assimilated into the Florentine by <a href=\"Dante%20Alighieri\">Dante Alighieri</a>, the father of modern Italian who, in his , claims that \"In effect this vernacular seems to deserve a higher praise than the others, since all the poetry written by Italians can be called Sicilian\". It is in this language that appeared the first <a href=\"sonnet\">sonnet</a>, whose invention is attributed to Giacomo da Lentini himself.\\n\\nScience.<a href=\"Catania\">Catania</a> has one of the four laboratories of the <a href=\"Istituto%20Nazionale%20di%20Fisica%20Nucleare\">Istituto Nazionale di Fisica Nucleare</a> (National Institute for Nuclear Physics) in which there is a <a href=\"cyclotron\">cyclotron</a> that uses <a href=\"proton\">protons</a> both for <a href=\"nuclear%20physics\">nuclear physics</a> experiments and for particle therapy to treat cancer (<a href=\"proton%20therapy\">proton therapy</a>). <a href=\"Noto\">Noto</a> has one of the largest <a href=\"radio%20telescopes\">radio telescopes</a> in Italy that performs geodetic and astronomical observations. There are <a href=\"observatories\">observatories</a> in <a href=\"Palermo\">Palermo</a> and <a href=\"Catania\">Catania</a>, managed by the <a href=\"Istituto%20Nazionale%20di%20Astrofisica\">Istituto Nazionale di Astrofisica</a> (National Institute for Astrophysics). In the <i>Observatory of Palermo</i> the astronomer <a href=\"Giuseppe%20Piazzi\">Giuseppe Piazzi</a> discovered the first and the largest <a href=\"asteroid\">asteroid</a> to be identified <a href=\"Ceres%20%28dwarf%20planet%29\">Ceres</a> (today considered a <a href=\"dwarf%20planet\">dwarf planet</a>) on 1 January 1801; <a href=\"Catania\">Catania</a> has two observatories, one of which is situated on <a href=\"Mount%20Etna\">Mount Etna</a> at 1800 m.\\n\\n<a href=\"Syracuse%2C%20Sicily\">Syracuse</a> is also an experimental centre for the solar technologies through the creation of the project <a href=\"Archimede%20solar%20power%20plant\">Archimede solar power plant</a> that is the first <a href=\"concentrated%20solar%20power\">concentrated solar power plant</a> to use <a href=\"molten%20salt\">molten salt</a> for heat transfer and storage which is integrated with a <a href=\"combined-cycle\">combined-cycle</a> gas facility. All the plant is owned and operated by <a href=\"Enel\">Enel</a>. The touristic town of <a href=\"Erice\">Erice</a> is also an important science place thanks to the <a href=\"Ettore%20Majorana%20Foundation%20and%20Centre%20for%20Scientific%20Culture\">Ettore Majorana Foundation and Centre for Scientific Culture</a> which\\nembraces 123 schools from all over the world, covering all branches of science, offering courses, seminars, workshops and annual meetings. It was founded by the physicist <a href=\"Antonino%20Zichichi\">Antonino Zichichi</a> in honour of another scientist of the island, <a href=\"Ettore%20Majorana\">Ettore Majorana</a> known for the <a href=\"Majorana%20equation\">Majorana equation</a> and <a href=\"Majorana%20fermion\">Majorana fermions</a>. Sicily\\'s famous scientists include also <a href=\"Stanislao%20Cannizzaro\">Stanislao Cannizzaro</a> (chemist), <a href=\"Giovanni%20Battista%20Hodierna\">Giovanni Battista Hodierna</a> and <a href=\"Niccol%C3%B2%20Cacciatore\">Niccolò Cacciatore</a> (astronomers).\\nEducation.Sicily has four universities:\\n<ul><li>- The <a href=\"University%20of%20Catania\">University of Catania</a> dates back to 1434 and it is the oldest university in Sicily. Nowadays it hosts 12 faculties and over 62,000 students and it offers undergraduate and postgraduate programs. <a href=\"Catania\">Catania</a> hosts also the <i><a href=\"Scuola%20superiore%20di%20Catania\">Scuola Superiore</a></i>, an <a href=\"academic%20institution\">academic institution</a> linked to the University of Catania, aiming for excellence in education.\\n</li><li>- The <a href=\"University%20of%20Palermo\">University of Palermo</a> is the island\\'s second oldest university. It was officially founded in 1806, although historical records indicate that medicine and law have been taught there since the late 15th century. The <a href=\"Orto%20botanico%20di%20Palermo\">Orto botanico di Palermo</a> (Palermo botanical gardens) is home to the university\\'s Department of Botany and is also open to visitors.\\n</li><li>- The <a href=\"University%20of%20Messina\">University of Messina</a>, founded in 1548 by <a href=\"Ignatius%20of%20Loyola\">Ignatius of Loyola</a>. It is organised in 11 Faculties.\\n</li><li>- The <a href=\"Kore%20University%20of%20Enna\">Kore University of Enna</a> founded in 1995, it is the latest Sicilian university and the first university founded in Sicily after the <a href=\"Italian%20Unification\">Italian Unification</a>.\\n</li></ul>\\nCuisine.The island has a long history of producing a variety of noted cuisines and wines, to the extent that Sicily is sometimes nicknamed <i>God\\'s Kitchen</i> because of this. Every part of Sicily has its speciality (e.g. Cassata is typical of Palermo although available everywhere in Sicily, as is Granita, a Catania speciality). The ingredients are typically rich in taste while remaining affordable to the general public. The savoury dishes of Sicily are viewed to be <a href=\"healthy%20diet\">healthy</a>, using fresh vegetables and fruits, such as tomatoes, <a href=\"artichoke\">artichokes</a>, <a href=\"olive\">olives</a> (including <a href=\"olive%20oil\">olive oil</a>), <a href=\"citrus\">citrus</a>, <a href=\"apricot\">apricots</a>, <a href=\"aubergines\">aubergines</a>, onions, <a href=\"bean\">beans</a>, <a href=\"raisin\">raisins</a> commonly coupled with seafood, freshly caught from the surrounding coastlines, including <a href=\"tuna\">tuna</a>, <a href=\"sea%20bream\">sea bream</a>, <a href=\"European%20seabass\">sea bass</a>, <a href=\"cuttlefish\">cuttlefish</a>, <a href=\"swordfish\">swordfish</a>, <a href=\"sardine\">sardines</a>, and others.\\n\\nThe most well-known part of Sicilian cuisine is the rich sweet dishes including <a href=\"ice%20cream\">ice creams</a> and <a href=\"pastry\">pastries</a>. <a href=\"Cannoli\">Cannoli</a> (singular: <i>cannolo</i>), a tube-shaped shell of fried pastry dough filled with a sweet filling usually containing <a href=\"ricotta%20cheese\">ricotta cheese</a>, is strongly associated with Sicily worldwide. Biancomangiare, biscotti ennesi (cookies native to <a href=\"Enna\">Enna</a>), braccilatte (a Sicilian version of <a href=\"doughnut\">doughnuts</a>), <a href=\"buccellato\">buccellato</a>, <a href=\"ciarduna\">ciarduna</a>, <a href=\"pignolo%20%28macaroon%29\">pignoli</a>, <a href=\"Biscotti%20Regina\">Biscotti Regina</a>, <a href=\"giurgiulena\">giurgiulena</a>, <a href=\"frutta%20martorana\">frutta martorana</a>, <a href=\"cassata\">cassata</a>, <a href=\"pignolata\">pignolata</a>, <a href=\"granita\">granita</a>, <a href=\"cuccidati\">cuccidati</a> (a variety of fig cookie; also known as buccellati) and <a href=\"cucc%C3%ACa\">cuccìa</a> are some notable sweet dishes.\\n\\nLike the cuisine of the rest of southern Italy, pasta plays an important part in Sicilian cuisine, as does rice; for example with <a href=\"arancine\">arancine</a>. As well as using some other cheeses, Sicily has spawned some of its own, using both cow\\'s and sheep\\'s milk, such as <a href=\"Pecorino%20Siciliano\">pecorino</a> and <a href=\"caciocavallo\">caciocavallo</a>. Spices used include <a href=\"saffron\">saffron</a>, <a href=\"nutmeg\">nutmeg</a>, <a href=\"clove\">clove</a>, <a href=\"Black%20pepper\">pepper</a>, and <a href=\"cinnamon\">cinnamon</a>, which were introduced by the Arabs. <a href=\"Parsley\">Parsley</a> is used abundantly in many dishes. Although Sicilian cuisine is commonly associated with sea food, meat dishes, including <a href=\"goose\">goose</a>, <a href=\"domestic%20sheep\">lamb</a>, goat, rabbit, and <a href=\"turkey%20meat\">turkey</a>, are also found in Sicily. It was the <a href=\"Normans\">Normans</a> and <a href=\"Hohenstaufen\">Swabians</a> who first introduced a fondness for meat dishes to the island. Some varieties of wine are produced from vines that are relatively unique to the island, such as the <a href=\"Nero%20d%27Avola\">Nero d\\'Avola</a> made near the baroque of town of <a href=\"Noto\">Noto</a>.\\n\\nSports.The most popular sport in Sicily is <a href=\"association%20football\">football</a>, which came to the fore in the late 19th century under the influence of the English. Some of the oldest football clubs in Italy are from Sicily: the three most successful are <a href=\"U.S.%20Citt%C3%A0%20di%20Palermo\">Palermo</a>, <a href=\"Calcio%20Catania\">Catania</a>, and <a href=\"A.C.R.%20Messina\">Messina</a>, which have played 29, 17 and 5 seasons in the <a href=\"Serie%20A\">Serie A</a> respectively. No club from Sicily has ever won Serie A, but football is still deeply embedded in local culture and all over Sicily most towns have a representative team.\\n\\nPalermo and Catania have a heated rivalry and compete in the <a href=\"Derby%20di%20Sicilia\">Sicilian derby</a> together. Palermo is the only team in Sicily to have played on the European stage, in the <a href=\"UEFA%20Cup\">UEFA Cup</a>. In the island, the most noted footballer is <a href=\"Salvatore%20Schillaci\">Salvatore Schillaci</a>, who won the <a href=\"FIFA%20World%20Cup%20awards\">Golden Boot</a> at the <a href=\"1990%20FIFA%20World%20Cup\">1990 FIFA World Cup</a> with <a href=\"Italy%20national%20football%20team\">Italy</a>. Other noted players include <a href=\"Giuseppe%20Furino\">Giuseppe Furino</a>, <a href=\"Pietro%20Anastasi\">Pietro Anastasi</a>, <a href=\"Francesco%20Coco\">Francesco Coco</a>, <a href=\"Christian%20Rigan%C3%B2\">Christian Riganò</a>, and <a href=\"Roberto%20Galia\">Roberto Galia</a>. There have also been some noted managers from the island, such as <a href=\"Carmelo%20Di%20Bella\">Carmelo Di Bella</a> and <a href=\"Franco%20Scoglio\">Franco Scoglio</a>.\\n\\nAlthough football is the most popular sport in Sicily, the island also has participants in other fields. <a href=\"Amatori%20Catania\">Amatori Catania</a> have competed in the top Italian national <a href=\"rugby%20union\">rugby union</a> league called <a href=\"Top12\">National Championship of Excellence</a>. They have even participated at European level in the <a href=\"European%20Challenge%20Cup\">European Challenge Cup</a>. Competing in the basketball variation of <a href=\"Serie%20A%20%28basketball%29\">Serie A</a> is <a href=\"Orlandina%20Basket\">Orlandina Basket</a> from <a href=\"Capo%20d%27Orlando\">Capo d\\'Orlando</a> in the <a href=\"province%20of%20Messina\">province of Messina</a>, where the sport has a reasonable following. Various other sports that are played to some extent include volleyball, <a href=\"Team%20handball\">handball</a>, and <a href=\"water%20polo\">water polo</a>. Previously, in <a href=\"motorsport\">motorsport</a>, Sicily held the prominent <a href=\"Targa%20Florio\">Targa Florio</a> sports car race that took place in the Madonie Mountains, with the start-finish line in <a href=\"Cerda\">Cerda</a>. The event was started in 1906 by Sicilian industrialist and automobile enthusiast <a href=\"Vincenzo%20Florio\">Vincenzo Florio</a>, and ran until it was cancelled due to safety concerns in 1977.\\n\\nFrom 28 September to 9 October 2005 <a href=\"Trapani\">Trapani</a> was the location of Acts 8 and 9 of the <a href=\"Louis%20Vuitton%20Cup\">Louis Vuitton Cup</a>. This sailing race featured, among other entrants, all boats that took part in the 2007 <a href=\"America%27s%20Cup\">America\\'s Cup</a>.\\n\\nPopular culture.Each town and city has its own patron saint, and the <a href=\"feast%20day\">feast days</a> are marked by colourful processions through the streets with marching bands and displays of fireworks.\\n\\nSicilian religious festivals also include the <i>presepe vivente</i> (living <a href=\"nativity%20scene\">nativity scene</a>), which takes place at Christmas time. Deftly combining religion and folklore, it is a constructed mock 19th century Sicilian village, complete with a nativity scene, and has people of all ages dressed in the costumes of the period, some impersonating the Holy Family, and others working as artisans of their particular assigned trade. It is normally concluded on <a href=\"Epiphany%20%28holiday%29\">Epiphany</a>, often highlighted by the arrival of the <a href=\"magi\">magi</a> on horseback.\\n\\nOral tradition plays a large role in Sicilian folklore. Many stories passed down from generation to generation involve a character named \"<a href=\"Giuf%C3%A0\">Giufà</a>\". Anecdotes from this character\\'s life preserve Sicilian culture as well as convey moral messages.\\n\\nSicilians also enjoy outdoor festivals, held in the local square or <i>piazza</i> where live music and dancing are performed on stage, and food fairs or <i>sagre</i> are set up in booths lining the square. These offer various local specialties, as well as typical Sicilian food. Normally these events are concluded with fireworks. A noted <i>sagra</i> is the <i>Sagra del Carciofo</i> or <i><a href=\"Artichoke\">Artichoke</a> Festival</i>, which is held annually in <a href=\"Ramacca\">Ramacca</a> in April. The most important traditional event in Sicily is the <a href=\"carnival\">carnival</a>. Famous carnivals are in <a href=\"Acireale\">Acireale</a>, <a href=\"Misterbianco\">Misterbianco</a>, <a href=\"Regalbuto\">Regalbuto</a>, <a href=\"Patern%C3%B2\">Paternò</a>, <a href=\"Sciacca\">Sciacca</a>, <a href=\"Termini%20Imerese\">Termini Imerese</a>.\\n\\nThe <a href=\"Opera%20dei%20Pupi\">Opera dei Pupi</a> (Opera of the Puppets; <a href=\"Sicilian%20language\">Sicilian</a>: Òpira dî pupi) is a <a href=\"marionette\">marionette</a> theatrical representation of Frankish romantic poems such as the <a href=\"Song%20of%20Roland\">Song of Roland</a> or <i><a href=\"Orlando%20furioso\">Orlando furioso</a></i> that is one of the characteristic cultural traditions of Sicily. The sides of donkey carts are decorated with intricate, painted scenes; these same tales are enacted in traditional <a href=\"puppet%20theatre\">puppet theatres</a> featuring hand-made marionettes of wood. The opera of the puppets and the Sicilian tradition of <i>cantastorî</i> (singers of tales) are rooted in the Provençal <a href=\"troubadour\">troubadour</a> tradition in Sicily during the reign of <a href=\"Frederick%20II%2C%20Holy%20Roman%20Emperor\">Frederick II, Holy Roman Emperor</a>, in the first half of the 13th century. A great place to see this marionette art is the puppet theatres of <a href=\"Palermo\">Palermo</a>. The Sicilian marionette theatre Opera dei Pupi was proclaimed in 2001 and inscribed in 2008 in the <a href=\"UNESCO%20Intangible%20Cultural%20Heritage%20Lists\">UNESCO Intangible Cultural Heritage Lists</a>.\\n\\nToday, there are only a few troupes that maintain the tradition. They often perform for tourists. However, there are no longer the great historical families of marionettists, such as the Greco of <a href=\"Palermo\">Palermo</a>; the <a href=\"Gaspare%20Canino\">Canino</a> of <a href=\"Partinico\">Partinico</a> and <a href=\"Alcamo\">Alcamo</a>; Crimi, Trombetta and Napoli of <a href=\"Catania\">Catania</a>, Pennisi and Macri of <a href=\"Acireale\">Acireale</a>, Profeta of <a href=\"Licata\">Licata</a>, Gargano and Grasso of <a href=\"Agrigento\">Agrigento</a>. One can, however, admire the richest collection of marionettes at the Museo Internazionale delle Marionette Antonio Pasqualino and at the Museo Etnografico Siciliano <a href=\"Giuseppe%20Pitr%C3%A9\">Giuseppe Pitré</a> in Palermo. Other elaborate marionettes are on display at the Museo Civico Vagliasindi in <a href=\"Randazzo\">Randazzo</a>.\\n\\nRegional symbols.There are several cultural icons and regional symbols in Sicily, including flags, carts, sights and geographical features.\\n\\nThe <a href=\"Flag%20of%20Sicily\">Flag of Sicily</a>, regarded as a regional icon, was first adopted in 1282, after the <a href=\"Sicilian%20Vespers\">Sicilian Vespers</a> of <a href=\"Palermo\">Palermo</a>. It is characterised by the presence of the <a href=\"triskelion\"><i>trinacria</i></a> (triskelion) in its middle, the (winged) head of <a href=\"Medusa\">Medusa</a> and three wheat ears. The three bent legs are supposed to represent the three points of the island Sicily itself. The colours, instead, respectively represent the cities of <a href=\"Palermo\">Palermo</a> and <a href=\"Corleone\">Corleone</a>, at those times an agricultural city of renown. Palermo and Corleone were the first two cities to found a confederation against the <a href=\"Capetian%20House%20of%20Anjou\">Angevin</a> rule. It finally became the official public flag of the <i>Regione Siciliana</i> in January 2000, after the passing of an apposite regional law which advocates its use on public buildings, schools and city halls along with the national <a href=\"Flag%20of%20Italy\">Italian flag</a> and the <a href=\"flag%20of%20EU\">European</a> one.\\n\\nFamiliar as an ancient symbol of the region, the <a href=\"Triskelion\">Triskelion</a> is also featured on Greek coins of <a href=\"Syracuse%2C%20Sicily\">Syracuse</a>, such as coins of <a href=\"Agathocles\">Agathocles</a> (317–289 BC).The symbol dates back to when Sicily was part of <a href=\"Magna%20Graecia\">Magna Graecia</a>, the colonial extension of <a href=\"Greece\">Greece</a> beyond the <a href=\"Aegean%20Sea\">Aegean</a>. The triskelion was revived, as a <a href=\"neoclassicism\">neoclassic</a> – and non-<a href=\"House%20of%20Bourbon\">Bourbon</a> – emblem for the new Napoleonic Kingdom of the <a href=\"Two%20Sicilies\">Two Sicilies</a>, by <a href=\"Joachim%20Murat\">Joachim Murat</a> in 1808. <a href=\"Pliny%20the%20Elder\">Pliny the Elder</a> attributes the origin of the triskelion of Sicily to the <a href=\"triangle\">triangular</a> form of the island, the ancient <i>Trinacria</i>, which consists of three large capes equidistant from each other, pointing in their respective directions, the names of which were <a href=\"Punta%20del%20Faro\">Pelorus</a>, <a href=\"Capo%20Passero\">Pachynus</a>, and <a href=\"Marsala\">Lilybæum</a>. The three legs of the triskelion are also reminiscent of <a href=\"Hephaestus\">Hephaestus</a>\\'s three-legged tables that ran by themselves, as mentioned in <a href=\"Iliad\">Iliad</a> xviii.\\n\\nThe <a href=\"Sicilian%20cart\">Sicilian cart</a> is an ornate, colourful style of horse or donkey-drawn cart native to Sicily. Sicilian wood carver <a href=\"George%20Petralia\">George Petralia</a> states that horses were mostly used in the city and flat plains, while donkeys or mules were more often used in rough terrain for hauling heavy loads. The cart has two wheels and is primarily handmade out of wood with iron components.\\n\\nThe Sicilian <a href=\"coppola%20%28cap%29\">coppola</a> is a traditional kind of <a href=\"flat%20cap\">flat cap</a> typically worn by men in Sicily. First used by English nobles during the late 18th century, the <i>tascu</i> began being used in Sicily in the early 20th century as a <a href=\"flat%20cap\">driving cap</a>, usually worn by car drivers. The <i>coppola</i> is usually made in <a href=\"tweed%20%28cloth%29\">tweed</a>. Today it is widely regarded as a definitive symbol of Sicilian heritage.\\nSee also.<ul><li>- <a href=\"List%20of%20islands%20of%20Italy\">List of islands of Italy</a>\\n</li></ul>\\nFurther reading.<ul><li>- Alio, Jacqueline (2018) <i>Sicilian Studies: A Guide and Syllabus for Educators</i> (Trinacria Editions, New York, ).\\n</li><li>- Bonacini, Elisa (2007) <i>Il territorio calatino nella Sicilia imperiale e tardoromana</i> (British Archeological Reports, International Series: 1694) Archaeopress, Oxford, England, , in Italian with abstract in English\\n</li><li>- Chaney, Edward. (2000), \"British and American Travellers in Sicily from the eighth to the twentieth century\", The Evolution of the Grand Tour, Routledge.\\n</li><li>- Leighton, Robert (1999) <i>Sicily before History</i> (Duckworth, London; Cornell University Press, Ithaca).\\n</li><li>- Mendola, Louis; Alio, Jacqueline (2013) <i>The Peoples of Sicily: A Multicultural Legacy</i> (Trinacria Editions, New York, ).\\n</li><li>- Spadi, Fabio. (2001) <a href=\"https%3A//web.archive.org/web/20070322172132/http%3A//iclq.oxfordjournals.org/cgi/reprint/50/2/411\">\"The Bridge on the Strait of Messina: \\'Lowering\\' the Right of Innocent Passage?\"</a> <i>International and Comparative Law Quarterly</i> 50: 411 ff.\\n</li><li>- \"From Rome to Sicily: Plane or Train?\" <a href=\"http%3A//travelqa.blogs.nytimes.com/tag/sicily/\">Expert Travel Advice, The New York Times, 7 February 2008</a> The New York Times.\\n</li><li>- <i>To Noto: or London to Sicily in a Ford</i> (London, 1989) by <a href=\"Duncan%20Fallowell\">Duncan Fallowell</a>\\n</li>External links.<li>- <a href=\"https%3A//web.archive.org/web/20060808003122/http%3A//www.regione.sicilia.it/\">Sicilian Region — Official website</a>\\n</li><li>- <a href=\"http%3A//www.movity.it/\">Sicily Transportation Map</a>\\n</li><li>- <a href=\"http%3A//euflyer.boardingarea.com/2014/05/20/10-reasons-to-visit-sicily-part-i/\">10 Reasons To Visit Sicily – Part I</a>\\n</li><li>- <a href=\"http%3A//euflyer.boardingarea.com/2014/08/08/10-reasons-visit-sicily-part-ii/\">10 Reasons To Visit Sicily – Part II</a>\\n</li><li>- <a href=\"http%3A//www.artedigitale.eu/bildband/sicilia/\">Images of Sicily</a>\\n</li><li>- <a href=\"http%3A//www.lasiciliainrete.it/\">10.000 Images of Sicily</a>\\n</li><li>- <a href=\"https%3A//web.archive.org/web/20140310200832/http%3A//www.sikania.it/en/\">The Sicilian tourist magazine</a>\\n</li><li>- <a href=\"http%3A//www.wondersofsicily.com/\">The Wonders of Sicily – The Cities, Architecture, Culture, History, People</a>\\n</li><li>- <a href=\"https%3A//www.ancient.eu/article/1190.\">Piccolo, Salvatore (2018). <i>Bronze Age Sicily</i>. Ancient History Encyclopedia.</a>\\n</li></ul>\\n\\n</doc>\\n'"
      ]
     },
     "execution_count": 5,
     "metadata": {},
     "output_type": "execute_result"
    }
   ],
   "source": [
    "articles[\"sicily\"]"
   ]
  },
  {
   "cell_type": "code",
   "execution_count": 6,
   "metadata": {},
   "outputs": [
    {
     "data": {
      "text/plain": [
       "{'questions': [{'answer': {'type': 'span',\n",
       "    'answer_spans': [{'text': 'sky and thunder god',\n",
       "      'passage': 'zeus',\n",
       "      'type': 'answer',\n",
       "      'start': 83,\n",
       "      'end': 102}]},\n",
       "   'question': 'What is Zeus know for in Greek mythology?',\n",
       "   'context': [{'text': 'he Palici the sons of Zeus',\n",
       "     'passage': 'main',\n",
       "     'indices': [684, 710]},\n",
       "    {'text': 'in Greek mythology', 'passage': 'main', 'indices': [137, 155]},\n",
       "    {'text': 'Zeus (British English , North American English ; , Zeús ) is the sky and thunder god in ancient Greek religion',\n",
       "     'passage': 'Zeus',\n",
       "     'indices': [0, 110]}],\n",
       "   'question_links': ['Greek mythology', 'Zeus']}],\n",
       " 'text': \"The Palici (Παλικοί in Greek), or Palaci, were a pair of indigenous Sicilian chthonic deities in Roman mythology, and to a lesser extent in Greek mythology. They are mentioned in Ovid's Metamorphoses V, 406, and in Virgil's Aeneid IX, 585. Their cult centered on three small lakes that emitted sulphurous vapors in the Palagonia plain, and as a result these twin brothers were associated with geysers and the underworld. There was also a shrine to the Palaci in Palacia, where people could subject themselves or others to tests of reliability through divine judgement; passing meant that an oath could be trusted. The mythological lineage of the Palici is uncertain; one legend made the Palici the sons of Zeus, or possibly Hephaestus, by Aetna or Thalia, but another claimed that the Palici were the sons of the Sicilian deity Adranus.\\n\",\n",
       " 'links': [{'target': 'Sicily', 'indices': [68, 76]},\n",
       "  {'target': 'Chthonic', 'indices': [77, 85]},\n",
       "  {'target': 'Roman mythology', 'indices': [97, 112]},\n",
       "  {'target': 'Greek mythology', 'indices': [140, 155]},\n",
       "  {'target': 'Ovid', 'indices': [179, 183]},\n",
       "  {'target': 'Virgil', 'indices': [215, 221]},\n",
       "  {'target': 'Palagonia', 'indices': [319, 328]},\n",
       "  {'target': 'Geyser', 'indices': [393, 400]},\n",
       "  {'target': 'Zeus', 'indices': [706, 710]},\n",
       "  {'target': 'Hephaestus', 'indices': [724, 734]},\n",
       "  {'target': 'Aetna (nymph)', 'indices': [739, 744]},\n",
       "  {'target': 'Thalia (nymph)', 'indices': [748, 754]},\n",
       "  {'target': 'Adranus', 'indices': [828, 835]}],\n",
       " 'title': 'Palici'}"
      ]
     },
     "execution_count": 6,
     "metadata": {},
     "output_type": "execute_result"
    }
   ],
   "source": [
    "test_data[0]"
   ]
  },
  {
   "cell_type": "markdown",
   "metadata": {},
   "source": [
    "Carrega os documentos que estão linkados as questões"
   ]
  },
  {
   "cell_type": "code",
   "execution_count": 7,
   "metadata": {},
   "outputs": [],
   "source": [
    "n_question = 1"
   ]
  },
  {
   "cell_type": "code",
   "execution_count": 8,
   "metadata": {},
   "outputs": [],
   "source": [
    "documents = []\n",
    "all_titles = []\n",
    "\n",
    "documents_not_found = []\n",
    "\n",
    "for i in range(n_question):\n",
    "    item = test_data[i]\n",
    "    if item['title'].lower() not in all_titles:\n",
    "        documents.append({\n",
    "                \"title\": item['title'],\n",
    "                \"content\": item[\"text\"]\n",
    "            }\n",
    "        )\n",
    "        all_titles.append(item['title'].lower())\n",
    "    for link in item[\"links\"]:\n",
    "        if link['target'].lower() in articles and link['target'].lower() not in all_titles:\n",
    "            documents.append({\n",
    "                \"title\": link['target'],\n",
    "                \"content\": articles[link['target'].lower()]\n",
    "            })\n",
    "            all_titles.append(link['target'].lower())\n",
    "        else:\n",
    "            documents_not_found.append(link[\"target\"].lower())"
   ]
  },
  {
   "cell_type": "code",
   "execution_count": 9,
   "metadata": {},
   "outputs": [
    {
     "data": {
      "text/plain": [
       "[]"
      ]
     },
     "execution_count": 9,
     "metadata": {},
     "output_type": "execute_result"
    }
   ],
   "source": [
    "documents_not_found"
   ]
  },
  {
   "cell_type": "markdown",
   "metadata": {},
   "source": [
    "Transforma os documentos em chunks"
   ]
  },
  {
   "cell_type": "code",
   "execution_count": 10,
   "metadata": {},
   "outputs": [
    {
     "name": "stderr",
     "output_type": "stream",
     "text": [
      "100%|██████████| 14/14 [00:00<00:00, 60.87it/s]\n"
     ]
    }
   ],
   "source": [
    "nlp = spacy.blank(\"en\")\n",
    "nlp.add_pipe(\"sentencizer\")\n",
    "\n",
    "#12345\n",
    "#   45678\n",
    "stride = 3#2\n",
    "max_length = 5#3\n",
    "\n",
    "def window(documents, stride, max_length):\n",
    "    treated_documents = []\n",
    "\n",
    "    for j,document in enumerate(tqdm.tqdm(documents)):\n",
    "        doc_text = document['content']\n",
    "        doc = nlp(doc_text[:10000])\n",
    "        sentences = [sent.text.strip() for sent in doc.sents]\n",
    "        for i in range(0, len(sentences), stride):\n",
    "            segment = ' '.join(sentences[i:i + max_length])\n",
    "            treated_documents.append({\n",
    "                \"title\": document['title'],\n",
    "                \"contents\": document['title']+\". \"+segment,\n",
    "                \"segment\": segment\n",
    "            })\n",
    "            if i + max_length >= len(sentences):\n",
    "                break\n",
    "    return treated_documents\n",
    "\n",
    "treated_documents = window(documents, stride, max_length)"
   ]
  },
  {
   "cell_type": "markdown",
   "metadata": {},
   "source": [
    "Cria o índice"
   ]
  },
  {
   "cell_type": "code",
   "execution_count": 11,
   "metadata": {},
   "outputs": [],
   "source": [
    "if not os.path.isdir(\"data\"):\n",
    "    !mkdir data\n",
    "\n",
    "if not os.path.isdir(\"data\\iirc_indices\"):\n",
    "    !mkdir data\\iirc_indices"
   ]
  },
  {
   "cell_type": "code",
   "execution_count": 12,
   "metadata": {},
   "outputs": [],
   "source": [
    "file = open(\"data/iirc_indices/contents.jsonl\",'w')\n",
    "\n",
    "for i, doc in enumerate(treated_documents):\n",
    "    doc['id'] = i\n",
    "    if doc['segment'] != \"\":\n",
    "        file.write(json.dumps(doc)+\"\\n\")"
   ]
  },
  {
   "cell_type": "code",
   "execution_count": 13,
   "metadata": {},
   "outputs": [
    {
     "name": "stdout",
     "output_type": "stream",
     "text": [
      "pyserini.index is deprecated, please use pyserini.index.lucene.\n",
      "WARNING: sun.reflect.Reflection.getCallerClass is not supported. This will impact performance.\n",
      "2024-05-08 22:12:14,159 INFO  [main] index.IndexCollection (IndexCollection.java:380) - Setting log level to INFO\n",
      "2024-05-08 22:12:14,161 INFO  [main] index.IndexCollection (IndexCollection.java:383) - Starting indexer...\n",
      "2024-05-08 22:12:14,161 INFO  [main] index.IndexCollection (IndexCollection.java:384) - ============ Loading Parameters ============\n",
      "2024-05-08 22:12:14,162 INFO  [main] index.IndexCollection (IndexCollection.java:385) - DocumentCollection path: data/iirc_indices\n",
      "2024-05-08 22:12:14,162 INFO  [main] index.IndexCollection (IndexCollection.java:386) - CollectionClass: JsonCollection\n",
      "2024-05-08 22:12:14,162 INFO  [main] index.IndexCollection (IndexCollection.java:387) - Generator: DefaultLuceneDocumentGenerator\n",
      "2024-05-08 22:12:14,162 INFO  [main] index.IndexCollection (IndexCollection.java:388) - Threads: 1\n",
      "2024-05-08 22:12:14,162 INFO  [main] index.IndexCollection (IndexCollection.java:389) - Language: en\n",
      "2024-05-08 22:12:14,162 INFO  [main] index.IndexCollection (IndexCollection.java:390) - Stemmer: porter\n",
      "2024-05-08 22:12:14,162 INFO  [main] index.IndexCollection (IndexCollection.java:391) - Keep stopwords? false\n",
      "2024-05-08 22:12:14,162 INFO  [main] index.IndexCollection (IndexCollection.java:392) - Stopwords: null\n",
      "2024-05-08 22:12:14,162 INFO  [main] index.IndexCollection (IndexCollection.java:393) - Store positions? false\n",
      "2024-05-08 22:12:14,163 INFO  [main] index.IndexCollection (IndexCollection.java:394) - Store docvectors? false\n",
      "2024-05-08 22:12:14,163 INFO  [main] index.IndexCollection (IndexCollection.java:395) - Store document \"contents\" field? false\n",
      "2024-05-08 22:12:14,163 INFO  [main] index.IndexCollection (IndexCollection.java:396) - Store document \"raw\" field? true\n",
      "2024-05-08 22:12:14,163 INFO  [main] index.IndexCollection (IndexCollection.java:397) - Additional fields to index: []\n",
      "2024-05-08 22:12:14,163 INFO  [main] index.IndexCollection (IndexCollection.java:398) - Optimize (merge segments)? false\n",
      "2024-05-08 22:12:14,163 INFO  [main] index.IndexCollection (IndexCollection.java:399) - Whitelist: null\n",
      "2024-05-08 22:12:14,164 INFO  [main] index.IndexCollection (IndexCollection.java:400) - Pretokenized?: false\n",
      "2024-05-08 22:12:14,164 INFO  [main] index.IndexCollection (IndexCollection.java:401) - Index path: data/iirc_index\n",
      "2024-05-08 22:12:14,166 INFO  [main] index.IndexCollection (IndexCollection.java:481) - ============ Indexing Collection ============\n",
      "2024-05-08 22:12:14,178 INFO  [main] index.IndexCollection (IndexCollection.java:468) - Using DefaultEnglishAnalyzer\n",
      "2024-05-08 22:12:14,179 INFO  [main] index.IndexCollection (IndexCollection.java:469) - Stemmer: porter\n",
      "2024-05-08 22:12:14,179 INFO  [main] index.IndexCollection (IndexCollection.java:470) - Keep stopwords? false\n",
      "2024-05-08 22:12:14,179 INFO  [main] index.IndexCollection (IndexCollection.java:471) - Stopwords file: null\n",
      "2024-05-08 22:12:14,312 INFO  [main] index.IndexCollection (IndexCollection.java:510) - Thread pool with 1 threads initialized.\n",
      "2024-05-08 22:12:14,312 INFO  [main] index.IndexCollection (IndexCollection.java:512) - Initializing collection in data\\iirc_indices\n",
      "2024-05-08 22:12:14,314 INFO  [main] index.IndexCollection (IndexCollection.java:521) - 1 file found\n",
      "2024-05-08 22:12:14,314 INFO  [main] index.IndexCollection (IndexCollection.java:522) - Starting to index...\n",
      "2024-05-08 22:12:14,507 DEBUG [pool-2-thread-1] index.IndexCollection$LocalIndexerThread (IndexCollection.java:345) - iirc_indices\\contents.jsonl: 172 docs added.\n",
      "2024-05-08 22:12:14,656 INFO  [main] index.IndexCollection (IndexCollection.java:578) - Indexing Complete! 172 documents indexed\n",
      "2024-05-08 22:12:14,656 INFO  [main] index.IndexCollection (IndexCollection.java:579) - ============ Final Counter Values ============\n",
      "2024-05-08 22:12:14,657 INFO  [main] index.IndexCollection (IndexCollection.java:580) - indexed:              172\n",
      "2024-05-08 22:12:14,657 INFO  [main] index.IndexCollection (IndexCollection.java:581) - unindexable:            0\n",
      "2024-05-08 22:12:14,657 INFO  [main] index.IndexCollection (IndexCollection.java:582) - empty:                  0\n",
      "2024-05-08 22:12:14,657 INFO  [main] index.IndexCollection (IndexCollection.java:583) - skipped:                0\n",
      "2024-05-08 22:12:14,657 INFO  [main] index.IndexCollection (IndexCollection.java:584) - errors:                 0\n",
      "2024-05-08 22:12:14,663 INFO  [main] index.IndexCollection (IndexCollection.java:587) - Total 172 documents indexed in 00:00:00\n"
     ]
    }
   ],
   "source": [
    "!python -m pyserini.index -collection JsonCollection -generator DefaultLuceneDocumentGenerator -threads 1 -input data/iirc_indices -index data/iirc_index -storeRaw"
   ]
  },
  {
   "cell_type": "markdown",
   "metadata": {},
   "source": [
    "Organiza as questões"
   ]
  },
  {
   "cell_type": "code",
   "execution_count": 14,
   "metadata": {},
   "outputs": [],
   "source": [
    "all_q = []\n",
    "\n",
    "for i in range(n_question):\n",
    "    item = test_data[i]\n",
    "    for q in item['questions']:\n",
    "        q['text'] = item['text']\n",
    "        q['title'] = item['title']\n",
    "        q['links'] = item['links']\n",
    "        all_q.append(q)"
   ]
  },
  {
   "cell_type": "markdown",
   "metadata": {},
   "source": [
    "# Prompt"
   ]
  },
  {
   "cell_type": "markdown",
   "metadata": {},
   "source": [
    "Prepara o prompt one-shot"
   ]
  },
  {
   "cell_type": "code",
   "execution_count": 15,
   "metadata": {},
   "outputs": [],
   "source": [
    "base_prompt = '''\n",
    "You must answer a question using documents as reference to create your answer.\n",
    "\n",
    "Example:\n",
    "\n",
    "Query\n",
    "{\n",
    "\"documents:\" List of documents you NEED to use to answer the question,\n",
    "\n",
    "\"question\": question you need to answer.\n",
    "}\n",
    "\n",
    "Response\n",
    "{\n",
    "\"evidence\": your reasoning, USING THE DOCUMENTS, to answer the question. You MUST cite a document as [Document i], example: 'According to [Document 5], ...',\n",
    "\n",
    "\"answer\": your final few words or number answer.\n",
    "}\n",
    "\n",
    "Your turn:\n",
    "\n",
    "Query\n",
    "'''"
   ]
  },
  {
   "cell_type": "markdown",
   "metadata": {},
   "source": [
    "Procura os documentos relacionados a questão e prepara o prompt para a questão"
   ]
  },
  {
   "cell_type": "code",
   "execution_count": 16,
   "metadata": {},
   "outputs": [
    {
     "name": "stdout",
     "output_type": "stream",
     "text": [
      "SimpleSearcher class has been deprecated, please use LuceneSearcher from pyserini.search.lucene instead\n"
     ]
    }
   ],
   "source": [
    "searcher = SimpleSearcher(\"./data/iirc_index\")"
   ]
  },
  {
   "cell_type": "code",
   "execution_count": 17,
   "metadata": {},
   "outputs": [],
   "source": [
    "search_result = searcher.search(all_q[0][\"question\"], k=20)"
   ]
  },
  {
   "cell_type": "code",
   "execution_count": 18,
   "metadata": {},
   "outputs": [],
   "source": [
    "question_documents = []\n",
    "for result in search_result:\n",
    "    result = json.loads(result.raw)\n",
    "\n",
    "    question_documents.append(result[\"segment\"])"
   ]
  },
  {
   "cell_type": "markdown",
   "metadata": {},
   "source": [
    "Rerank com BERT (não é o modelo ideal)"
   ]
  },
  {
   "cell_type": "code",
   "execution_count": 19,
   "metadata": {},
   "outputs": [
    {
     "name": "stderr",
     "output_type": "stream",
     "text": [
      "Using cache found in C:\\Users\\eltsu/.cache\\torch\\hub\\huggingface_pytorch-transformers_main\n",
      "Using cache found in C:\\Users\\eltsu/.cache\\torch\\hub\\huggingface_pytorch-transformers_main\n"
     ]
    }
   ],
   "source": [
    "bert_tokenizer = torch.hub.load('huggingface/pytorch-transformers', 'tokenizer', 'bert-base-cased')\n",
    "bert = torch.hub.load('huggingface/pytorch-transformers', 'model', 'bert-base-cased')\n",
    "\n",
    "device = torch.device('cuda' if torch.cuda.is_available() else 'cpu')\n",
    "torch.enable_grad(False)\n",
    "bert.to(device)\n",
    "bert.eval();"
   ]
  },
  {
   "cell_type": "code",
   "execution_count": 20,
   "metadata": {},
   "outputs": [],
   "source": [
    "tokens = bert_tokenizer(question_documents, return_tensors=\"pt\", #Return as torch tensor \n",
    "                                 padding=True, #Add padding to small sequences\n",
    "                                 return_token_type_ids=False, #Don't return sequence mask (only one sequence)\n",
    "                                 truncation=True) #Truncate big sentences (max = 512 tokens, with CLS and SEP)\n",
    "\n",
    "input_ids = tokens[\"input_ids\"].to(device)\n",
    "attention_mask = tokens[\"attention_mask\"].to(device)\n",
    "\n",
    "result = bert(input_ids = input_ids, attention_mask=attention_mask)\n"
   ]
  },
  {
   "cell_type": "code",
   "execution_count": 21,
   "metadata": {},
   "outputs": [],
   "source": [
    "tokens_question = bert_tokenizer(all_q[0][\"question\"], return_tensors=\"pt\", #Return as torch tensor \n",
    "                                 padding=True, #Add padding to small sequences\n",
    "                                 return_token_type_ids=False, #Don't return sequence mask (only one sequence)\n",
    "                                 truncation=True) #Truncate big sentences (max = 512 tokens, with CLS and SEP)\n",
    "\n",
    "input_ids = tokens_question[\"input_ids\"].to(device)\n",
    "attention_mask = tokens_question[\"attention_mask\"].to(device)\n",
    "\n",
    "result_question = bert(input_ids = input_ids, attention_mask=attention_mask)"
   ]
  },
  {
   "cell_type": "code",
   "execution_count": 22,
   "metadata": {},
   "outputs": [],
   "source": [
    "document_vectors = result[\"last_hidden_state\"][:,0]\n",
    "question_vectors = result_question[\"last_hidden_state\"][:,0]"
   ]
  },
  {
   "cell_type": "code",
   "execution_count": 23,
   "metadata": {},
   "outputs": [],
   "source": [
    "document_vectors_norm = torch.nn.functional.normalize(document_vectors)\n",
    "question_vectors_norm = torch.nn.functional.normalize(question_vectors)\n",
    "\n",
    "question_cosine_similarity = document_vectors_norm @ question_vectors_norm.T  #[question_index, document_index]"
   ]
  },
  {
   "cell_type": "code",
   "execution_count": 26,
   "metadata": {},
   "outputs": [],
   "source": [
    "del result, result_question, document_vectors, question_vectors, tokens, tokens_question"
   ]
  },
  {
   "cell_type": "code",
   "execution_count": 27,
   "metadata": {},
   "outputs": [
    {
     "data": {
      "text/plain": [
       "tensor([0.9155, 0.9165, 0.9274, 0.9116, 0.9038, 0.8798, 0.8781, 0.8778, 0.8920,\n",
       "        0.9253, 0.8568, 0.9069, 0.8650, 0.9203, 0.8910, 0.9139, 0.9095, 0.9007,\n",
       "        0.9261, 0.9186], device='cuda:0', grad_fn=<ViewBackward0>)"
      ]
     },
     "execution_count": 27,
     "metadata": {},
     "output_type": "execute_result"
    }
   ],
   "source": [
    "question_cosine_similarity.flatten()"
   ]
  },
  {
   "cell_type": "code",
   "execution_count": 35,
   "metadata": {},
   "outputs": [
    {
     "data": {
      "text/plain": [
       "<BarContainer object of 20 artists>"
      ]
     },
     "execution_count": 35,
     "metadata": {},
     "output_type": "execute_result"
    },
    {
     "data": {
      "image/png": "[encoded data removed]",
      "text/plain": [
       "<Figure size 432x288 with 1 Axes>"
      ]
     },
     "metadata": {
      "needs_background": "light"
     },
     "output_type": "display_data"
    }
   ],
   "source": [
    "height = (question_cosine_similarity-question_cosine_similarity.min()) / (question_cosine_similarity.max()-question_cosine_similarity.min())\n",
    "height = height.detach().cpu().numpy().flatten()\n",
    "\n",
    "plt.bar(x = range(height.shape[0]), \n",
    "        height=height)"
   ]
  },
  {
   "cell_type": "code",
   "execution_count": 52,
   "metadata": {},
   "outputs": [],
   "source": [
    "_, top_k = torch.topk(question_cosine_similarity.flatten(), 10)\n",
    "\n",
    "top_k = top_k.detach().cpu().numpy()\n",
    "\n",
    "reranked_q_documents = np.array(question_documents)[top_k]"
   ]
  },
  {
   "cell_type": "code",
   "execution_count": 55,
   "metadata": {},
   "outputs": [],
   "source": [
    "question_query = {\"documents\":question_documents, \"question\":all_q[0][\"question\"]} "
   ]
  },
  {
   "cell_type": "code",
   "execution_count": 56,
   "metadata": {},
   "outputs": [],
   "source": [
    "prompt = base_prompt + str(question_query) + \"\\n\\n\" + \"Response\\n\""
   ]
  },
  {
   "cell_type": "markdown",
   "metadata": {},
   "source": [
    "# Inferência"
   ]
  },
  {
   "cell_type": "markdown",
   "metadata": {},
   "source": [
    "Realiza a inferência com o Groq"
   ]
  },
  {
   "cell_type": "code",
   "execution_count": 58,
   "metadata": {},
   "outputs": [],
   "source": [
    "class GroqInterface:\n",
    "    '''\n",
    "    Interface for using the Groq API\n",
    "\n",
    "    Implements a rate limit control for multi-threading use. \n",
    "    '''\n",
    "\n",
    "    _client = None \n",
    "\n",
    "    LLAMA3_70B = \"llama3-70b-8192\"\n",
    "\n",
    "    rate_lock = threading.Lock()\n",
    "    SINGLE_THREAD = True\n",
    "\n",
    "    def __init__(self, model:Optional[str]=None, api_key=None, json_mode=False, system_message=None):\n",
    "        '''\n",
    "        GroqInterface constructor.\n",
    "\n",
    "        Args:\n",
    "            model (str, optional): model to use. Llama3 70B is used if None. Default is None\n",
    "        '''\n",
    "        \n",
    "        if GroqInterface._client is None:\n",
    "\n",
    "            if api_key is None:\n",
    "                api_key = os.environ.get(\"GROQ_API_KEY\")\n",
    "\n",
    "            if api_key is None:\n",
    "                raise RuntimeError(\"API key is not in the environment variables ('GROQ_API_KEY' variable is not set).\")\n",
    "\n",
    "            GroqInterface._client = groq.Groq(api_key=api_key)\n",
    "\n",
    "        if model is None:\n",
    "            model = GroqInterface.LLAMA3_70B\n",
    "        self._model = model\n",
    "\n",
    "        self._system_message = system_message\n",
    "\n",
    "\n",
    "        if json_mode:\n",
    "            self._response_format = {\"type\": \"json_object\"}\n",
    "        else:\n",
    "            self._response_format = None\n",
    "        self._json_mode = json_mode\n",
    "\n",
    "    def __call__(self, prompt:str) -> str:\n",
    "        '''\n",
    "        Generates the model response\n",
    "\n",
    "        Args:\n",
    "            prompt (str): prompt to send to the model.\n",
    "\n",
    "        Returns:\n",
    "            str: model response. \n",
    "        '''\n",
    "        done = False\n",
    "        while not done:\n",
    "\n",
    "            try:\n",
    "                if not GroqInterface.SINGLE_THREAD:\n",
    "                    GroqInterface.rate_lock.acquire()\n",
    "                    GroqInterface.rate_lock.release()\n",
    "\n",
    "                messages = []\n",
    "                if self._system_message is not None:\n",
    "                    messages.append({\"role\":\"system\", \"content\":self._system_message})\n",
    "                \n",
    "                messages.append({\"role\":\"user\", \"content\":prompt})\n",
    "\n",
    "                chat_completion = GroqInterface._client.chat.completions.create(\n",
    "                        messages=messages,\n",
    "                        model=self._model,\n",
    "                        response_format=self._response_format\n",
    "                    )\n",
    "                \n",
    "                done = True\n",
    "            except groq.RateLimitError as exception:\n",
    "                print(\"ERROR\")\n",
    "                GroqInterface.error = exception\n",
    "                if not GroqInterface.SINGLE_THREAD:\n",
    "                    if not GroqInterface.rate_lock.locked():\n",
    "                        GroqInterface.rate_lock.acquire()\n",
    "                        time.sleep(2)\n",
    "                        GroqInterface.rate_lock.release()\n",
    "                else:\n",
    "                    time.sleep(2)\n",
    "\n",
    "        return chat_completion.choices[0].message.content"
   ]
  },
  {
   "cell_type": "markdown",
   "metadata": {},
   "source": [
    "Mensagem do sistema para saída em JSON"
   ]
  },
  {
   "cell_type": "code",
   "execution_count": 59,
   "metadata": {},
   "outputs": [],
   "source": [
    "system_message = \"You are a question answer assistant that outputs in JSON.\\n The JSON object must use the schema: {'evidence':'string', 'answer':'string'}\""
   ]
  },
  {
   "cell_type": "code",
   "execution_count": 60,
   "metadata": {},
   "outputs": [],
   "source": [
    "groq_interface = GroqInterface(api_key=\"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\", json_mode=True, system_message=system_message)"
   ]
  },
  {
   "cell_type": "code",
   "execution_count": 61,
   "metadata": {},
   "outputs": [],
   "source": [
    "answer = groq_interface(prompt)"
   ]
  },
  {
   "cell_type": "code",
   "execution_count": 62,
   "metadata": {},
   "outputs": [
    {
     "data": {
      "text/plain": [
       "{'evidence': \"According to Document 8, 'Zeus (British English , North American English ; , Zeús ) is the sky and thunder god in ancient Greek religion, who rules as king of the gods of Mount Olympus.', and Document 11, 'Zeus is the only deity in the Olympic pantheon whose name has such a transparent Indo-European etymology.', Zeus is known as the king of the gods and the god of the sky and thunder in Greek mythology. As stated in Document 10, 'He decided to wipe out mankind and flooded the world with the help of his brother Poseidon.', Zeus has also been depicted as using violence to get his way and terrorize humans.\",\n",
       " 'answer': 'Zeus is known as the king of the gods and the god of the sky and thunder in Greek mythology.'}"
      ]
     },
     "execution_count": 62,
     "metadata": {},
     "output_type": "execute_result"
    }
   ],
   "source": [
    "answer_parsed = json.loads(answer)\n",
    "answer_parsed"
   ]
  },
  {
   "cell_type": "code",
   "execution_count": 63,
   "metadata": {},
   "outputs": [
    {
     "data": {
      "text/plain": [
       "{'type': 'span',\n",
       " 'answer_spans': [{'text': 'sky and thunder god',\n",
       "   'passage': 'zeus',\n",
       "   'type': 'answer',\n",
       "   'start': 83,\n",
       "   'end': 102}]}"
      ]
     },
     "execution_count": 63,
     "metadata": {},
     "output_type": "execute_result"
    }
   ],
   "source": [
    "all_q[0][\"answer\"]"
   ]
  },
  {
   "cell_type": "code",
   "execution_count": 64,
   "metadata": {},
   "outputs": [
    {
     "data": {
      "text/plain": [
       "'What is Zeus know for in Greek mythology?'"
      ]
     },
     "execution_count": 64,
     "metadata": {},
     "output_type": "execute_result"
    }
   ],
   "source": [
    "all_q[0][\"question\"]"
   ]
  },
  {
   "cell_type": "markdown",
   "metadata": {},
   "source": [
    "# Métrica"
   ]
  },
  {
   "cell_type": "markdown",
   "metadata": {},
   "source": [
    "Calcula scores da resposta"
   ]
  },
  {
   "cell_type": "code",
   "execution_count": 65,
   "metadata": {},
   "outputs": [],
   "source": [
    "def normalize_answer(s):\n",
    "  \"\"\"Lower text and remove punctuation, articles and extra whitespace.\"\"\"\n",
    "  def remove_articles(text):\n",
    "    regex = re.compile(r'\\b(a|an|the)\\b', re.UNICODE)\n",
    "    return re.sub(regex, ' ', text)\n",
    "  def white_space_fix(text):\n",
    "    return ' '.join(text.split())\n",
    "  def remove_punc(text):\n",
    "    exclude = set(string.punctuation)\n",
    "    return ''.join(ch for ch in text if ch not in exclude)\n",
    "  def lower(text):\n",
    "    return text.lower()\n",
    "  def remove_accents(input_str):\n",
    "      nfkd_form = unicodedata.normalize('NFKD', input_str)\n",
    "      only_ascii = nfkd_form.encode('ASCII', 'ignore')\n",
    "      return only_ascii.decode(\"utf-8\")\n",
    "\n",
    "  return white_space_fix(remove_articles(remove_punc(lower(remove_accents(s)))))\n",
    "\n",
    "def get_tokens(s):\n",
    "  if not s: return []\n",
    "  return normalize_answer(s).split()\n",
    "\n",
    "def compute_exact(a_gold, a_pred):\n",
    "  return int(normalize_answer(a_gold) == normalize_answer(a_pred))\n",
    "\n",
    "def compute_f1(a_gold, a_pred):\n",
    "  gold_toks = get_tokens(a_gold)\n",
    "  pred_toks = get_tokens(a_pred)\n",
    "  common = collections.Counter(gold_toks) & collections.Counter(pred_toks)\n",
    "  num_same = sum(common.values())\n",
    "  if len(gold_toks) == 0 or len(pred_toks) == 0:\n",
    "    # If either is no-answer, then F1 is 1 if they agree, 0 otherwise\n",
    "    return int(gold_toks == pred_toks)\n",
    "  if num_same == 0:\n",
    "    return 0\n",
    "  precision = 1.0 * num_same / len(pred_toks)\n",
    "  recall = 1.0 * num_same / len(gold_toks)\n",
    "  f1 = (2 * precision * recall) / (precision + recall)\n",
    "  return f1"
   ]
  },
  {
   "cell_type": "code",
   "execution_count": 66,
   "metadata": {},
   "outputs": [],
   "source": [
    "a_gold = all_q[0][\"answer\"][\"answer_spans\"][0][\"text\"]\n",
    "a_pred = answer_parsed[\"answer\"]"
   ]
  },
  {
   "cell_type": "code",
   "execution_count": 67,
   "metadata": {},
   "outputs": [
    {
     "data": {
      "text/plain": [
       "0.4"
      ]
     },
     "execution_count": 67,
     "metadata": {},
     "output_type": "execute_result"
    }
   ],
   "source": [
    "compute_f1(a_gold, a_pred)"
   ]
  },
  {
   "cell_type": "code",
   "execution_count": 68,
   "metadata": {},
   "outputs": [
    {
     "data": {
      "text/plain": [
       "0"
      ]
     },
     "execution_count": 68,
     "metadata": {},
     "output_type": "execute_result"
    }
   ],
   "source": [
    "compute_exact(a_gold, a_pred)"
   ]
  }
 ],
 "metadata": {
  "kernelspec": {
   "display_name": "Python 3",
   "language": "python",
   "name": "python3"
  },
  "language_info": {
   "codemirror_mode": {
    "name": "ipython",
    "version": 3
   },
   "file_extension": ".py",
   "mimetype": "text/x-python",
   "name": "python",
   "nbconvert_exporter": "python",
   "pygments_lexer": "ipython3",
   "version": "3.8.5"
  }
 },
 "nbformat": 4,
 "nbformat_minor": 2
}
