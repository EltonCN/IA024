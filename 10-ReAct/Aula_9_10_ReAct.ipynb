{
 "cells": [
  {
   "cell_type": "markdown",
   "metadata": {},
   "source": [
    "# Exercício: ReAct\n",
    "\n",
    "Elton Cardoso do Nascimento, 233840\n",
    "\n",
    "Enunciado:\n",
    "\n",
    "- Implementar a ReAct  com LLaMa 3 70B (groq) `→Implementado`\n",
    "- Testar no dataset do IIRC - 50 primeiras perguntas com resposta (test_questions.json em anexo) `→Arquivo não utilizado pois não tem todos os documentos relacionados as perguntas`\n",
    "- Usar o prompt do LLaMAIndex: https://github.com/run-llama/llama_index/blob/a87b63fce3cc3d24dc71ae170a8d431440025565/llama_index/agent/react/prompts.py `→Prompt semelhante utilizado`\n",
    "- Salvar as respostas finais das 50 perguntas no JSON para exercício futuro de avaliação `→[Arquivo JSON](https://github.com/EltonCN/IA024-NLP/blob/main/10-ReAct/results.json) salvo`\n",
    "- Instruir o modelo a seguir a sequência Thougth, Action, Input, Observation (a observação não é do próprio modelo, mas resultado da busca) `→Sequência possível, mas permitindo ao modelo escolher qual será a próxima etapa`\n",
    "- É necessário usar o parâmetro stop_sequence=\"Observation:\", para o modelo parar de gerar texto e esperar o retorno da busca. Implementem o código da busca e retornem os top-k documentos pro modelo (sugestão: k=5). `→Código de busca implementado. Parâmetro de parada não foi necessário`\n",
    "- Instruir o modelo agir passo-a-passo (decomposição da pergunta). `→Modelo age passo-a-passo, mas sem necessariamente decompor a pergunta`\n",
    "- Podem usar o LangChain, LLaMAindex ou outro framework. Ou implementar na mão. `→Implementado na mão`\n",
    "- Usar a busca como ferramenta `→Implementado`\n",
    "- Usar o BM25 como buscador (repetir indexação do exercício passado) `→BM25 utilizado`\n",
    "- Usar a indexação do Visconde: https://github.com/neuralmind-ai/visconde/blob/main/iirc_create_indices.ipynb `→Indexação do Visconde utilizada`"
   ]
  },
  {
   "cell_type": "markdown",
   "metadata": {},
   "source": [
    "Iremos começar importanto todos os módulos que serão utilizados nesta atividade:"
   ]
  },
  {
   "cell_type": "code",
   "execution_count": 39,
   "metadata": {},
   "outputs": [],
   "source": [
    "import os #Operações com o SO (arquivos)\n",
    "import json #Leitura/escrita de arquivos JSON\n",
    "import time #Sleep\n",
    "import threading #Multithreading\n",
    "import unicodedata #Normalização de string\n",
    "import collections #Estrutura de contador e fila\n",
    "import string #Operações com strings\n",
    "import re #Expressões regulares\n",
    "import abc #Classes abstratas\n",
    "import warnings #Lançamento de warnings\n",
    "from typing import Optional, Dict, Tuple, Any #Type hints\n",
    "\n",
    "import torch #spacy não carrega sem importar antes (??)\n",
    "import spacy #Separador em sentenças\n",
    "import tqdm #Barra de progresso\n",
    "import groq #API para o Llama 3 70B\n",
    "from pyserini.search import SimpleSearcher #Busca nos documentos\n",
    "import sentence_transformers #Rerankeamento\n",
    "import bs4 #Remoção de tags HTML\n",
    "import numpy as np #Operações com arrays\n",
    "import matplotlib.pyplot as plt #Plots"
   ]
  },
  {
   "cell_type": "markdown",
   "metadata": {},
   "source": [
    "## Preparação dos dados\n",
    "\n",
    "Antes de começar a implementação em si, precisamos preparar os dados que serão utilizados. O código desta seção é principalmente uma modificação do código do [Visconde](https://github.com/neuralmind-ai/visconde/)."
   ]
  },
  {
   "cell_type": "markdown",
   "metadata": {},
   "source": [
    "Começamos pelo download e leitura dos dados:"
   ]
  },
  {
   "cell_type": "code",
   "execution_count": 2,
   "metadata": {},
   "outputs": [],
   "source": [
    "if not os.path.isdir(\"data\"):\n",
    "    os.mkdir(\"data\")\n",
    "\n",
    "if not os.path.isfile(\"data\\\\context_articles.json\"):\n",
    "    !curl -LO https://iirc-dataset.s3.us-west-2.amazonaws.com/context_articles.tar.gz\n",
    "    !move context_articles.tar.gz data\n",
    "    !tar -xf data/context_articles.tar.gz\n",
    "    !move context_articles.json data\n",
    "\n",
    "if not os.path.isfile(\"data\\\\iirc_test.json\"):\n",
    "    !curl -LO https://iirc-dataset.s3.us-west-2.amazonaws.com/iirc_test.json\n",
    "    !move iirc_test.json data"
   ]
  },
  {
   "cell_type": "code",
   "execution_count": 2,
   "metadata": {},
   "outputs": [],
   "source": [
    "file = open(\"data\\\\context_articles.json\", \"r\")\n",
    "articles = json.load(file)\n",
    "file.close()"
   ]
  },
  {
   "cell_type": "code",
   "execution_count": 3,
   "metadata": {},
   "outputs": [],
   "source": [
    "file = open(\"data\\\\iirc_test.json\", \"r\")\n",
    "test_data = json.load(file)\n",
    "file.close()"
   ]
  },
  {
   "cell_type": "markdown",
   "metadata": {},
   "source": [
    "E partimos para a extração das perguntas, respostas e documentos que serão utilizados.\n",
    "\n",
    "(menção ao [@fabiograssiotto](https://github.com/fabiograssiotto/IA024/blob/main/Aula_9_10/RA890441%20-%20Aula9_10.ipynb) pelo código para remoção de tags HTML)"
   ]
  },
  {
   "cell_type": "code",
   "execution_count": 40,
   "metadata": {},
   "outputs": [],
   "source": [
    "n_question = 50"
   ]
  },
  {
   "cell_type": "code",
   "execution_count": 5,
   "metadata": {},
   "outputs": [],
   "source": [
    "questions = []\n",
    "documents_titles = set()\n",
    "documents = []\n",
    "documents_not_found = set()\n",
    "\n",
    "for i in range(len(test_data)):\n",
    "    item = test_data[i]\n",
    "\n",
    "    #Get the main document\n",
    "    name = item['title'].lower()\n",
    "    if name not in documents_titles:\n",
    "        text = item[\"text\"]\n",
    "        soup = bs4.BeautifulSoup(text, \"html.parser\")\n",
    "        clean_text = soup.get_text()\n",
    "\n",
    "        document = {\n",
    "                    \"title\": item['title'],\n",
    "                    \"content\": clean_text\n",
    "                }\n",
    "        \n",
    "        documents.append(document)\n",
    "        documents_titles |= {name}\n",
    "\n",
    "    #Get the documents\n",
    "    for link in item[\"links\"]:\n",
    "        name : str = link['target'].lower()\n",
    "        if name in articles and name not in documents_titles:\n",
    "            text = articles[link['target'].lower()]\n",
    "            soup = bs4.BeautifulSoup(text, \"html.parser\")\n",
    "            clean_text = soup.get_text()\n",
    "            \n",
    "            document = {\n",
    "                \"title\": link['target'],\n",
    "                \"content\": clean_text\n",
    "            }\n",
    "\n",
    "            documents.append(document)\n",
    "            documents_titles |= {name}\n",
    "        \n",
    "        else:\n",
    "            documents_not_found |= {name}\n",
    "\n",
    "    #Get the questions\n",
    "    for q in item[\"questions\"]:\n",
    "        question = {}\n",
    "        \n",
    "        #Get and format the answer\n",
    "        if q[\"answer\"][\"type\"] == \"span\":\n",
    "            question[\"answer\"] = q[\"answer\"][\"answer_spans\"][0][\"text\"]\n",
    "        elif q[\"answer\"][\"type\"] == \"value\":\n",
    "            question[\"answer\"] = q[\"answer\"][\"answer_value\"]+\" \"+q[\"answer\"][\"answer_unit\"]\n",
    "        elif  q[\"answer\"][\"type\"] == \"none\":\n",
    "            continue\n",
    "        elif q[\"answer\"][\"type\"] == \"binary\":\n",
    "            question[\"answer\"] = q[\"answer\"][\"answer_value\"]\n",
    "        else:\n",
    "            raise ValueError\n",
    "        \n",
    "        question[\"question\"] = q[\"question\"]\n",
    "\n",
    "        questions.append(question)\n",
    "\n",
    "        if len(questions) == n_question:\n",
    "            break\n",
    "    if len(questions) == n_question:\n",
    "            break\n"
   ]
  },
  {
   "cell_type": "code",
   "execution_count": 7,
   "metadata": {},
   "outputs": [
    {
     "data": {
      "text/plain": [
       "(17, 419)"
      ]
     },
     "execution_count": 7,
     "metadata": {},
     "output_type": "execute_result"
    }
   ],
   "source": [
    "len(documents_not_found), len(documents)"
   ]
  },
  {
   "cell_type": "markdown",
   "metadata": {},
   "source": [
    "E extraímos sentenças dos documentos:"
   ]
  },
  {
   "cell_type": "code",
   "execution_count": 8,
   "metadata": {},
   "outputs": [
    {
     "name": "stderr",
     "output_type": "stream",
     "text": [
      "100%|██████████| 419/419 [00:03<00:00, 129.78it/s]\n"
     ]
    }
   ],
   "source": [
    "nlp = spacy.blank(\"en\")\n",
    "nlp.add_pipe(\"sentencizer\")\n",
    "\n",
    "#12345\n",
    "#   45678\n",
    "stride = 3#2\n",
    "max_length = 5#3\n",
    "\n",
    "def window(documents, stride, max_length):\n",
    "    treated_documents = []\n",
    "\n",
    "    for j,document in enumerate(tqdm.tqdm(documents)):\n",
    "        doc_text = document['content']\n",
    "        doc = nlp(doc_text[:10000])\n",
    "        sentences = [sent.text.strip() for sent in doc.sents]\n",
    "        for i in range(0, len(sentences), stride):\n",
    "            segment = ' '.join(sentences[i:i + max_length])\n",
    "            treated_documents.append({\n",
    "                \"title\": document['title'],\n",
    "                \"contents\": document['title']+\". \"+segment,\n",
    "                \"segment\": segment\n",
    "            })\n",
    "            if i + max_length >= len(sentences):\n",
    "                break\n",
    "    return treated_documents\n",
    "\n",
    "treated_documents = window(documents, stride, max_length)"
   ]
  },
  {
   "cell_type": "markdown",
   "metadata": {},
   "source": [
    "Escrevemos os documentos em um arquivo JSONL e criamos o índice:"
   ]
  },
  {
   "cell_type": "code",
   "execution_count": 9,
   "metadata": {},
   "outputs": [],
   "source": [
    "if not os.path.isdir(\"data\\iirc_indices\"):\n",
    "    !mkdir data\\iirc_indices"
   ]
  },
  {
   "cell_type": "code",
   "execution_count": 10,
   "metadata": {},
   "outputs": [],
   "source": [
    "file = open(\"data/iirc_indices/contents.jsonl\",'w')\n",
    "\n",
    "for i, doc in enumerate(treated_documents):\n",
    "    doc['id'] = i\n",
    "    if doc['segment'] != \"\":\n",
    "        file.write(json.dumps(doc)+\"\\n\")"
   ]
  },
  {
   "cell_type": "code",
   "execution_count": 11,
   "metadata": {},
   "outputs": [
    {
     "name": "stdout",
     "output_type": "stream",
     "text": [
      "pyserini.index is deprecated, please use pyserini.index.lucene.\n",
      "WARNING: sun.reflect.Reflection.getCallerClass is not supported. This will impact performance.\n",
      "2024-05-14 15:05:18,277 INFO  [main] index.IndexCollection (IndexCollection.java:380) - Setting log level to INFO\n",
      "2024-05-14 15:05:18,280 INFO  [main] index.IndexCollection (IndexCollection.java:383) - Starting indexer...\n",
      "2024-05-14 15:05:18,280 INFO  [main] index.IndexCollection (IndexCollection.java:384) - ============ Loading Parameters ============\n",
      "2024-05-14 15:05:18,280 INFO  [main] index.IndexCollection (IndexCollection.java:385) - DocumentCollection path: data/iirc_indices\n",
      "2024-05-14 15:05:18,280 INFO  [main] index.IndexCollection (IndexCollection.java:386) - CollectionClass: JsonCollection\n",
      "2024-05-14 15:05:18,281 INFO  [main] index.IndexCollection (IndexCollection.java:387) - Generator: DefaultLuceneDocumentGenerator\n",
      "2024-05-14 15:05:18,281 INFO  [main] index.IndexCollection (IndexCollection.java:388) - Threads: 1\n",
      "2024-05-14 15:05:18,281 INFO  [main] index.IndexCollection (IndexCollection.java:389) - Language: en\n",
      "2024-05-14 15:05:18,281 INFO  [main] index.IndexCollection (IndexCollection.java:390) - Stemmer: porter\n",
      "2024-05-14 15:05:18,281 INFO  [main] index.IndexCollection (IndexCollection.java:391) - Keep stopwords? false\n",
      "2024-05-14 15:05:18,281 INFO  [main] index.IndexCollection (IndexCollection.java:392) - Stopwords: null\n",
      "2024-05-14 15:05:18,282 INFO  [main] index.IndexCollection (IndexCollection.java:393) - Store positions? false\n",
      "2024-05-14 15:05:18,282 INFO  [main] index.IndexCollection (IndexCollection.java:394) - Store docvectors? false\n",
      "2024-05-14 15:05:18,282 INFO  [main] index.IndexCollection (IndexCollection.java:395) - Store document \"contents\" field? false\n",
      "2024-05-14 15:05:18,283 INFO  [main] index.IndexCollection (IndexCollection.java:396) - Store document \"raw\" field? true\n",
      "2024-05-14 15:05:18,283 INFO  [main] index.IndexCollection (IndexCollection.java:397) - Additional fields to index: []\n",
      "2024-05-14 15:05:18,283 INFO  [main] index.IndexCollection (IndexCollection.java:398) - Optimize (merge segments)? false\n",
      "2024-05-14 15:05:18,283 INFO  [main] index.IndexCollection (IndexCollection.java:399) - Whitelist: null\n",
      "2024-05-14 15:05:18,284 INFO  [main] index.IndexCollection (IndexCollection.java:400) - Pretokenized?: false\n",
      "2024-05-14 15:05:18,284 INFO  [main] index.IndexCollection (IndexCollection.java:401) - Index path: data/iirc_index\n",
      "2024-05-14 15:05:18,289 INFO  [main] index.IndexCollection (IndexCollection.java:481) - ============ Indexing Collection ============\n",
      "2024-05-14 15:05:18,302 INFO  [main] index.IndexCollection (IndexCollection.java:468) - Using DefaultEnglishAnalyzer\n",
      "2024-05-14 15:05:18,302 INFO  [main] index.IndexCollection (IndexCollection.java:469) - Stemmer: porter\n",
      "2024-05-14 15:05:18,302 INFO  [main] index.IndexCollection (IndexCollection.java:470) - Keep stopwords? false\n",
      "2024-05-14 15:05:18,302 INFO  [main] index.IndexCollection (IndexCollection.java:471) - Stopwords file: null\n",
      "2024-05-14 15:05:18,458 INFO  [main] index.IndexCollection (IndexCollection.java:510) - Thread pool with 1 threads initialized.\n",
      "2024-05-14 15:05:18,458 INFO  [main] index.IndexCollection (IndexCollection.java:512) - Initializing collection in data\\iirc_indices\n",
      "2024-05-14 15:05:18,462 INFO  [main] index.IndexCollection (IndexCollection.java:521) - 1 file found\n",
      "2024-05-14 15:05:18,462 INFO  [main] index.IndexCollection (IndexCollection.java:522) - Starting to index...\n",
      "2024-05-14 15:05:19,724 DEBUG [pool-2-thread-1] index.IndexCollection$LocalIndexerThread (IndexCollection.java:345) - iirc_indices\\contents.jsonl: 7038 docs added.\n",
      "2024-05-14 15:05:20,064 INFO  [main] index.IndexCollection (IndexCollection.java:578) - Indexing Complete! 7.038 documents indexed\n",
      "2024-05-14 15:05:20,065 INFO  [main] index.IndexCollection (IndexCollection.java:579) - ============ Final Counter Values ============\n",
      "2024-05-14 15:05:20,065 INFO  [main] index.IndexCollection (IndexCollection.java:580) - indexed:            7.038\n",
      "2024-05-14 15:05:20,065 INFO  [main] index.IndexCollection (IndexCollection.java:581) - unindexable:            0\n",
      "2024-05-14 15:05:20,066 INFO  [main] index.IndexCollection (IndexCollection.java:582) - empty:                  0\n",
      "2024-05-14 15:05:20,066 INFO  [main] index.IndexCollection (IndexCollection.java:583) - skipped:                0\n",
      "2024-05-14 15:05:20,066 INFO  [main] index.IndexCollection (IndexCollection.java:584) - errors:                 0\n",
      "2024-05-14 15:05:20,073 INFO  [main] index.IndexCollection (IndexCollection.java:587) - Total 7.038 documents indexed in 00:00:01\n"
     ]
    }
   ],
   "source": [
    "!python -m pyserini.index -collection JsonCollection -generator DefaultLuceneDocumentGenerator -threads 1 -input data/iirc_indices -index data/iirc_index -storeRaw"
   ]
  },
  {
   "cell_type": "code",
   "execution_count": 6,
   "metadata": {},
   "outputs": [],
   "source": [
    "index_path = \"./data/iirc_index\""
   ]
  },
  {
   "cell_type": "markdown",
   "metadata": {},
   "source": [
    "## Groq API\n",
    "\n",
    "Uma classe base é definida para uso da API do Groq:"
   ]
  },
  {
   "cell_type": "code",
   "execution_count": 7,
   "metadata": {},
   "outputs": [],
   "source": [
    "class GroqInterface:\n",
    "    '''\n",
    "    Interface for using the Groq API\n",
    "\n",
    "    Implements a rate limit control for multi-threading use. \n",
    "    '''\n",
    "\n",
    "    _client :groq.Groq = None \n",
    "\n",
    "    LLAMA3_70B = \"llama3-70b-8192\"\n",
    "\n",
    "    inference_lock = threading.Lock()\n",
    "    time_waiter_lock = threading.Lock()\n",
    "    SINGLE_THREAD = True\n",
    "\n",
    "    def __init__(self, model:Optional[str]=None, api_key:Optional[str]=None, json_mode:bool=False, system_message:Optional[str]=None, n_retry:int=5):\n",
    "        '''\n",
    "        GroqInterface constructor.\n",
    "\n",
    "        Args:\n",
    "            model (str, optional): model to use. Llama3 70B is used if None. Default is None\n",
    "            api_key (str, optional): Groq API key to use, if None will check the environment 'GROQ_API_KEY' variable. Default is None.\n",
    "            json_mode (bool): if the model need to output in JSON. Default is False.\n",
    "            system_message (str): the system message to send to the model, if needed. Default is None.\n",
    "            n_retyr (int): number of times to retry if the model fails (not considering RateLimitError). Default is 5.\n",
    "        '''\n",
    "        \n",
    "        if GroqInterface._client is None:\n",
    "\n",
    "            if api_key is None:\n",
    "                api_key = os.environ.get(\"GROQ_API_KEY\")\n",
    "\n",
    "            if api_key is None:\n",
    "                raise RuntimeError(\"API key is not in the environment variables ('GROQ_API_KEY' variable is not set).\")\n",
    "\n",
    "            GroqInterface._client = groq.Groq(api_key=api_key)\n",
    "\n",
    "        if model is None:\n",
    "            model = GroqInterface.LLAMA3_70B\n",
    "        self._model = model\n",
    "\n",
    "        self._system_message = system_message\n",
    "\n",
    "\n",
    "        if json_mode:\n",
    "            self._response_format = {\"type\": \"json_object\"}\n",
    "        else:\n",
    "            self._response_format = None\n",
    "        self._json_mode = json_mode\n",
    "\n",
    "        self._n_retry = n_retry\n",
    "\n",
    "    def __call__(self, prompt:str) -> str:\n",
    "        '''\n",
    "        Generates the model response\n",
    "\n",
    "        Args:\n",
    "            prompt (str): prompt to send to the model.\n",
    "\n",
    "        Returns:\n",
    "            str: model response. \n",
    "        '''\n",
    "        done = False\n",
    "        retry_count = 0\n",
    "        while not done:\n",
    "            try:\n",
    "                if not GroqInterface.SINGLE_THREAD:\n",
    "                    GroqInterface.inference_lock.acquire()\n",
    "                    GroqInterface.inference_lock.release()\n",
    "\n",
    "                messages = []\n",
    "                if self._system_message is not None:\n",
    "                    messages.append({\"role\":\"system\", \"content\":self._system_message})\n",
    "                \n",
    "                messages.append({\"role\":\"user\", \"content\":prompt})\n",
    "\n",
    "                chat_completion = GroqInterface._client.chat.completions.create(\n",
    "                        messages=messages,\n",
    "                        model=self._model,\n",
    "                        response_format=self._response_format\n",
    "                    )\n",
    "                \n",
    "                done = True\n",
    "            except groq.RateLimitError as exception: #Wait\n",
    "                print(\"ERROR\")\n",
    "                print(exception)\n",
    "                \n",
    "                GroqInterface.error = exception\n",
    "                if not GroqInterface.SINGLE_THREAD:\n",
    "                    if not GroqInterface.time_waiter_lock.locked():\n",
    "                        GroqInterface.time_waiter_lock.acquire()\n",
    "                        GroqInterface.inference_lock.acquire()\n",
    "                        time.sleep(2)\n",
    "                        GroqInterface.time_waiter_lock.release()\n",
    "                        GroqInterface.inference_lock.release()\n",
    "                else:\n",
    "                    time.sleep(2)\n",
    "\n",
    "            except KeyboardInterrupt as e: #Stop the code\n",
    "                raise e\n",
    "            except Exception as e: #Retry\n",
    "                retry_count += 1\n",
    "                if retry_count >= self._n_retry:\n",
    "                    raise e\n",
    "\n",
    "        return chat_completion.choices[0].message.content"
   ]
  },
  {
   "cell_type": "code",
   "execution_count": 8,
   "metadata": {},
   "outputs": [],
   "source": [
    "groq_interface = GroqInterface()"
   ]
  },
  {
   "cell_type": "code",
   "execution_count": 15,
   "metadata": {},
   "outputs": [
    {
     "data": {
      "text/plain": [
       "\"Hi! It's nice to meet you. Is there something I can help you with or would you like to chat?\""
      ]
     },
     "execution_count": 15,
     "metadata": {},
     "output_type": "execute_result"
    }
   ],
   "source": [
    "groq_interface(\"Hi!\")"
   ]
  },
  {
   "cell_type": "markdown",
   "metadata": {},
   "source": [
    "## Métrica\n",
    "\n",
    "Três métricas serão definidas para avaliar o modelo:\n",
    "\n",
    "- Corretude (acurácia): se a resposta está correta. Estimado utilizando o próprio modelo comparando com a resposta correta.\n",
    "- F1 score\n",
    "- Resposta idêntica "
   ]
  },
  {
   "cell_type": "code",
   "execution_count": null,
   "metadata": {},
   "outputs": [],
   "source": [
    "class GroqAnswerEvaluator(GroqInterface):\n",
    "    \"\"\"\n",
    "    Evaluates if a answer is correct, comparing with the correct answer.\n",
    "    \"\"\"\n",
    "\n",
    "    _system_message = '''You are a answer comparator that outputs in JSON. \n",
    "The JSON object must use the schema: {'is_correct':'bool'}\n",
    "Please use a valid JSON format.'''\n",
    "\n",
    "    _base_prompt = '''Is the second answer correct, comparing to the first one? \n",
    "First answer: {answer_correct}\n",
    "Second answer: {answer} \n",
    "'''\n",
    "\n",
    "    def __init__(self, model: Optional[str] = None, api_key: Optional[str]=None):\n",
    "        '''\n",
    "        GroqAnswerEvaluator constructor.\n",
    "\n",
    "        Args:\n",
    "            model (str, optional): model to use. Llama3 70B is used if None. Default is None\n",
    "            api_key (str, optional): Groq API key to use, if None will check the environment 'GROQ_API_KEY' variable. Default is None.\n",
    "        '''\n",
    "\n",
    "        super().__init__(model, api_key, True, GroqAnswerEvaluator._system_message)\n",
    "\n",
    "    def __call__(self, answer_correct:str, answer:str) -> bool:\n",
    "        '''\n",
    "        Checks if the answer is correct\n",
    "\n",
    "        Args:\n",
    "            answer_correct (str): correct answer to compare.\n",
    "            answer (str): answer to evaluate.\n",
    "\n",
    "        Returns:\n",
    "            bool: True if is correct.\n",
    "        '''\n",
    "\n",
    "        prompt = GroqAnswerEvaluator._base_prompt.format(answer_correct=answer_correct, answer=answer)\n",
    "\n",
    "        response = super().__call__(prompt)\n",
    "        response = json.loads(response)\n",
    "\n",
    "        return response[\"is_correct\"]"
   ]
  },
  {
   "cell_type": "code",
   "execution_count": null,
   "metadata": {},
   "outputs": [],
   "source": [
    "def normalize_answer(s):\n",
    "  \"\"\"Lower text and remove punctuation, articles and extra whitespace.\"\"\"\n",
    "  def remove_articles(text):\n",
    "    regex = re.compile(r'\\b(a|an|the)\\b', re.UNICODE)\n",
    "    return re.sub(regex, ' ', text)\n",
    "  def white_space_fix(text):\n",
    "    return ' '.join(text.split())\n",
    "  def remove_punc(text):\n",
    "    exclude = set(string.punctuation)\n",
    "    return ''.join(ch for ch in text if ch not in exclude)\n",
    "  def lower(text):\n",
    "    return text.lower()\n",
    "  def remove_accents(input_str):\n",
    "      nfkd_form = unicodedata.normalize('NFKD', input_str)\n",
    "      only_ascii = nfkd_form.encode('ASCII', 'ignore')\n",
    "      return only_ascii.decode(\"utf-8\")\n",
    "\n",
    "  return white_space_fix(remove_articles(remove_punc(lower(remove_accents(s)))))\n",
    "\n",
    "def get_tokens(s):\n",
    "  if not s: return []\n",
    "  return normalize_answer(s).split()\n",
    "\n",
    "def compute_exact(a_gold, a_pred):\n",
    "  return int(normalize_answer(a_gold) == normalize_answer(a_pred))\n",
    "\n",
    "def compute_f1(a_gold, a_pred):\n",
    "  gold_toks = get_tokens(a_gold)\n",
    "  pred_toks = get_tokens(a_pred)\n",
    "  common = collections.Counter(gold_toks) & collections.Counter(pred_toks)\n",
    "  num_same = sum(common.values())\n",
    "  if len(gold_toks) == 0 or len(pred_toks) == 0:\n",
    "    # If either is no-answer, then F1 is 1 if they agree, 0 otherwise\n",
    "    return int(gold_toks == pred_toks)\n",
    "  if num_same == 0:\n",
    "    return 0\n",
    "  precision = 1.0 * num_same / len(pred_toks)\n",
    "  recall = 1.0 * num_same / len(gold_toks)\n",
    "  f1 = (2 * precision * recall) / (precision + recall)\n",
    "  return f1"
   ]
  },
  {
   "cell_type": "markdown",
   "metadata": {},
   "source": [
    "Checamos o funcionamento das avaliações com um conjunto de resposta modelo, correta e errada:"
   ]
  },
  {
   "cell_type": "code",
   "execution_count": 10,
   "metadata": {},
   "outputs": [],
   "source": [
    "#Question is \"What is Zeus know for in Greek mythology?\"\n",
    "\n",
    "a_gold = \"sky and thunder god\"\n",
    "a_correct = \"Zeus is known as the king of the gods and the god of the sky and thunder in Greek mythology.\" #Correct and contains the expected answer \n",
    "a_wrong = \"Zeus is been depicted as using violence to get his way and terrorize humans.\" #±Correct, but not related to the expected answer"
   ]
  },
  {
   "cell_type": "code",
   "execution_count": 11,
   "metadata": {},
   "outputs": [],
   "source": [
    "groq_corrector = GroqAnswerEvaluator()"
   ]
  },
  {
   "cell_type": "code",
   "execution_count": 19,
   "metadata": {},
   "outputs": [
    {
     "data": {
      "text/plain": [
       "(True, False)"
      ]
     },
     "execution_count": 19,
     "metadata": {},
     "output_type": "execute_result"
    }
   ],
   "source": [
    "groq_corrector(a_gold, a_correct), groq_corrector(a_gold, a_wrong),"
   ]
  },
  {
   "cell_type": "code",
   "execution_count": 21,
   "metadata": {},
   "outputs": [
    {
     "data": {
      "text/plain": [
       "(0.4, 0)"
      ]
     },
     "execution_count": 21,
     "metadata": {},
     "output_type": "execute_result"
    }
   ],
   "source": [
    "compute_f1(a_gold, a_correct), compute_exact(a_gold, a_correct)"
   ]
  },
  {
   "cell_type": "code",
   "execution_count": 22,
   "metadata": {},
   "outputs": [
    {
     "data": {
      "text/plain": [
       "(0.11111111111111112, 0)"
      ]
     },
     "execution_count": 22,
     "metadata": {},
     "output_type": "execute_result"
    }
   ],
   "source": [
    "compute_f1(a_gold, a_wrong), compute_exact(a_gold, a_wrong)"
   ]
  },
  {
   "cell_type": "markdown",
   "metadata": {},
   "source": [
    "## Implementação do ReAct \n",
    "\n",
    "E podemos começar a implementação do ReAct. Ela é dividida entre a implementação das ferramentas que o agente terá disponível, e a implementação do código principal.\n",
    "\n",
    "O código é próximo ao ReAct, mas diverge em alguns pontos na manutenção do contexto (\"queries\" não são mantidas) e uso das ferramentas (\"think\" e \"answer\" são considerados ferramentas)."
   ]
  },
  {
   "cell_type": "markdown",
   "metadata": {},
   "source": [
    "### Ferramentas\n",
    "\n",
    "As ferramentas implementadas são \n",
    "- \"Search\": busca a partir de uma query no banco de documentos\n",
    "- \"Answer\": gera a resposta final\n",
    "- \"Think\": reflete sobre o contexto até o momento\n",
    "- \"Routing\": seleciona a próxima ferramenta a ser utilizada"
   ]
  },
  {
   "cell_type": "code",
   "execution_count": 13,
   "metadata": {},
   "outputs": [],
   "source": [
    "class Tool(abc.ABC):\n",
    "    '''\n",
    "    Base class for creating LLM agent tools.\n",
    "    '''\n",
    "\n",
    "    @abc.abstractmethod\n",
    "    def __call__(self, query:str, context:str) -> Dict[str, str]:\n",
    "        '''\n",
    "        Execute the tool.\n",
    "\n",
    "        Args:\n",
    "            query (str): query for the tool execution.\n",
    "            context (str): agent context in the tool execution moment.\n",
    "\n",
    "        Returns:\n",
    "            Dict[str, str]: tool results.\n",
    "        '''\n",
    "        ..."
   ]
  },
  {
   "cell_type": "markdown",
   "metadata": {},
   "source": [
    "A ferramenta de busca realiza uma busca inicial ampla nos documentos utilizando o BM25, e realiza um filtro e reranqueamento com um transformer:"
   ]
  },
  {
   "cell_type": "code",
   "execution_count": 14,
   "metadata": {},
   "outputs": [],
   "source": [
    "class SearchTool(Tool):\n",
    "    '''\n",
    "    Search documents for some information.\n",
    "    '''\n",
    "\n",
    "    def __init__(self, index_path:str, embedder_model:str=\"all-MiniLM-L6-v2\", search_k:int=20, rerank_k:int=5):\n",
    "        '''\n",
    "        SearchTool constructor.\n",
    "\n",
    "        Args:\n",
    "            index_path (str): path of the documents index.\n",
    "            embedder_model (str, optional): model to use for reranking. Defaults to \"all-MiniLM-L6-v2\".\n",
    "            search_k (int, optional): initial search size. Defaults to 20.\n",
    "            rerank_k (int, optional): rerank filter size. Defaults to 5.\n",
    "        '''\n",
    "        self.embedder = sentence_transformers.SentenceTransformer(embedder_model)\n",
    "        self.searcher = SimpleSearcher(index_path)\n",
    "\n",
    "        if search_k < rerank_k:\n",
    "            warnings.warn(f\"search_k is less than rerank_k. The result will be of search_k size. ({search_k} < {rerank_k})\")\n",
    "        \n",
    "        self.search_k = search_k\n",
    "        self.rerank_k = rerank_k\n",
    "    \n",
    "    def __call__(self, query:str, context:Optional[Any]=None) -> Dict[str, str]:\n",
    "        '''\n",
    "        Execute a search.\n",
    "\n",
    "        Args:\n",
    "            query (str): search term\n",
    "            context (Any, optional): not used. Defaults to None.\n",
    "\n",
    "        Returns:\n",
    "            Dict[str, str]: search result. Have only the key \"result\" with the search result.\n",
    "        '''\n",
    "\n",
    "        \n",
    "        #Initial search\n",
    "        search_result = self.searcher.search(query, k=self.search_k)\n",
    "        \n",
    "        #Get documents\n",
    "        search_docs = []\n",
    "        for result in search_result:\n",
    "            result = json.loads(result.raw)\n",
    "\n",
    "            search_docs.append(result[\"segment\"])\n",
    "\n",
    "        #Rerank and filter\n",
    "        query_embedding = self.embedder.encode(query, convert_to_tensor=True)\n",
    "        search_embeddings = self.embedder.encode(search_docs, convert_to_tensor=True)\n",
    "\n",
    "        rerank_result = sentence_transformers.util.semantic_search(query_embedding, search_embeddings, top_k=self.rerank_k)\n",
    "\n",
    "        #Generate response with the selected documents\n",
    "        response = \"\"\n",
    "        for result in rerank_result[0]:\n",
    "            index = result[\"corpus_id\"]\n",
    "            result_doc = search_docs[index]\n",
    "\n",
    "            response += result_doc + \"\\n\"\n",
    "        \n",
    "        response = {\"result\":response}\n",
    "\n",
    "\n",
    "        return response"
   ]
  },
  {
   "cell_type": "code",
   "execution_count": 15,
   "metadata": {},
   "outputs": [],
   "source": [
    "class AnswerTool(Tool, GroqInterface):\n",
    "    '''\n",
    "    Generates the final answer to a question.\n",
    "    '''\n",
    "\n",
    "\n",
    "    _system_message = '''You are a question answerer that outputs in JSON. \n",
    "The JSON object must use the schema: {'answer':'str'}\n",
    "Please use a valid JSON format.'''\n",
    "\n",
    "    _base_prompt = '''{context}\n",
    "\n",
    "Considering all this context, provide the FINAL ANSWER to the question:\n",
    "'''\n",
    "\n",
    "    def __init__(self, model: Optional[str] = None, api_key: Optional[str] = None):\n",
    "        '''\n",
    "        AnswerTool constructor.\n",
    "\n",
    "        Args:\n",
    "            model (str, optional): model to use. Llama3 70B is used if None. Default is None\n",
    "            api_key (str, optional): Groq API key to use, if None will check the environment 'GROQ_API_KEY' variable. Default is None.\n",
    "        '''\n",
    "\n",
    "        super().__init__(model, api_key, True, AnswerTool._system_message)\n",
    "\n",
    "    def __call__(self, query:Optional[Any]=None, context:str=None) -> Dict[str, str]:\n",
    "        '''\n",
    "        Answers a question considering the agent context.\n",
    "\n",
    "        Args:\n",
    "            query (Optional[Any], optional): not used. Defaults to None.\n",
    "            context (str): context of the agent, must contain the question.\n",
    "\n",
    "        Returns:\n",
    "            Dict[str, str]: agent response. Contains only the key \"answer\" with the answer.\n",
    "        '''\n",
    "        \n",
    "        \n",
    "        prompt = AnswerTool._base_prompt.format(context=context)\n",
    "\n",
    "        return json.loads(GroqInterface.__call__(self, prompt=prompt))"
   ]
  },
  {
   "cell_type": "code",
   "execution_count": 16,
   "metadata": {},
   "outputs": [],
   "source": [
    "class ThinkTool(Tool, GroqInterface):\n",
    "    '''\n",
    "    Reflects about the agent context.\n",
    "    '''\n",
    "\n",
    "    _system_message = '''You are responsible for reflecting on provided information, and outputs in JSON. \n",
    "The JSON object must use the schema: {'reflection':'str'}\n",
    "Please use a valid JSON format.'''\n",
    "\n",
    "    _base_prompt = '''{context}\n",
    "\n",
    "Considering all this context, provide a useful reflection.\n",
    "'''\n",
    "\n",
    "    def __init__(self, model: Optional[str] = None, api_key: Optional[str] = None):\n",
    "        '''\n",
    "        ThinkTool constructor.\n",
    "\n",
    "        Args:\n",
    "            model (str, optional): model to use. Llama3 70B is used if None. Default is None\n",
    "            api_key (str, optional): Groq API key to use, if None will check the environment 'GROQ_API_KEY' variable. Default is None.\n",
    "        '''\n",
    "\n",
    "        super().__init__(model, api_key, True, ThinkTool._system_message)\n",
    "\n",
    "    def __call__(self, query:Optional[Any]=None, context: str=None) -> Dict[str, str]:\n",
    "        '''\n",
    "        Think about the agent context, generating a useful reflection.\n",
    "\n",
    "        Args:\n",
    "            query (Optional[Any], optional): not used. Defaults to None.\n",
    "            context (str): agent context to reflect about. Defaults to None.\n",
    "\n",
    "        Returns:\n",
    "            Dict[str, str]: tool result. Contains only the key \"reflection\" with the reflection.\n",
    "        '''\n",
    "\n",
    "        prompt = ThinkTool._base_prompt.format(context=context)\n",
    "\n",
    "        return json.loads(GroqInterface.__call__(self, prompt=prompt))    "
   ]
  },
  {
   "cell_type": "code",
   "execution_count": 17,
   "metadata": {},
   "outputs": [],
   "source": [
    "class RoutingTool(Tool, GroqInterface):\n",
    "    '''\n",
    "    Selects the next agent tool.\n",
    "    '''\n",
    "\n",
    "\n",
    "    _system_message = '''You are a tool selector that outputs in JSON.\n",
    "For each selection, you must provide a throught about the previous content and why you are selecting this tool.\n",
    "\n",
    "You have available the following tools:\n",
    "\n",
    "Name: 'search'\n",
    "Query content: the sentence to search\n",
    "Tool description: it searchs for documents with possible usefull information using the query.\n",
    "\n",
    "Name: 'answer'\n",
    "Query content: empty (''), is not used.\n",
    "Tool description: considering the previous content, provides the final answer for the question.\n",
    "\n",
    "Name: 'think'\n",
    "Query content: empty (''), is not used;\n",
    "Tool descripting: considering the previous content, generates a useful reflection.\n",
    "\n",
    "The JSON object must use the schema: {'throught':'str',\n",
    "'tool_name':'str',\n",
    "'query':'str'}\n",
    "\n",
    "Please use a valid JSON format.'''\n",
    "\n",
    "    _base_prompt = '''{context}\n",
    "    \n",
    "Considering all this context, select the next tool to use:\n",
    "    '''\n",
    "\n",
    "    def __init__(self, model: Optional[str] = None, api_key: Optional[str] = None):\n",
    "        '''\n",
    "        RoutingTool constructor.\n",
    "\n",
    "        Args:\n",
    "            model (str, optional): model to use. Llama3 70B is used if None. Default is None\n",
    "            api_key (str, optional): Groq API key to use, if None will check the environment 'GROQ_API_KEY' variable. Default is None.\n",
    "        '''\n",
    "\n",
    "        super().__init__(model, api_key, True, RoutingTool._system_message)\n",
    "\n",
    "    def __call__(self, query:Optional[Any]=None, context:str=None) -> Dict[str, str]:\n",
    "        '''\n",
    "        Select the next tool for the agent.\n",
    "\n",
    "        Args:\n",
    "            query (Optional[Any], optional): not used. Defaults to None.\n",
    "            context (str, optional): agent context to decide the next tool. Defaults to None.\n",
    "\n",
    "        Returns:\n",
    "            Dict[str, str]: tool result. Have the keys 'tool_name' (next tool to use), \n",
    "                'throught' (why use this tool), 'query' (query to send to the tool).\n",
    "        '''\n",
    "        prompt = RoutingTool._base_prompt.format(context=context)\n",
    "\n",
    "        return json.loads(GroqInterface.__call__(self, prompt=prompt))"
   ]
  },
  {
   "cell_type": "markdown",
   "metadata": {},
   "source": [
    "Para testar as ferramentas, vamos executar passo a passo um processo de resposta, chamando manualmente o código necessário e compondo o contexto. Observe que, pela re-execução do notebook, algumas sentenças nos contextos montados podem não coincidir exatamente com a resposta do modelo.\n",
    "\n",
    "Começamos pela definição da questão e criação das ferramentas:"
   ]
  },
  {
   "cell_type": "code",
   "execution_count": 23,
   "metadata": {},
   "outputs": [],
   "source": [
    "test_question = \"What is Zeus know for in Greek mythology?\""
   ]
  },
  {
   "cell_type": "code",
   "execution_count": 18,
   "metadata": {},
   "outputs": [
    {
     "name": "stdout",
     "output_type": "stream",
     "text": [
      "SimpleSearcher class has been deprecated, please use LuceneSearcher from pyserini.search.lucene instead\n"
     ]
    }
   ],
   "source": [
    "search_tool = SearchTool(index_path)\n"
   ]
  },
  {
   "cell_type": "code",
   "execution_count": 19,
   "metadata": {},
   "outputs": [],
   "source": [
    "answer_tool = AnswerTool()\n",
    "think_tool = ThinkTool()\n",
    "\n",
    "routing_tool = RoutingTool()"
   ]
  },
  {
   "cell_type": "markdown",
   "metadata": {},
   "source": [
    "O contexto inicial contém apenas a questão, e é utilizado para selecionar a primeira ferramenta (não considerando a ferramenta de roteamento que sempre é utilizada entre as outras):"
   ]
  },
  {
   "cell_type": "code",
   "execution_count": 30,
   "metadata": {},
   "outputs": [
    {
     "data": {
      "text/plain": [
       "{'thought': 'The user has asked a question about Greek mythology, I need to find relevant information.',\n",
       " 'tool_name': 'search',\n",
       " 'query': 'What is Zeus known for in Greek mythology?'}"
      ]
     },
     "execution_count": 30,
     "metadata": {},
     "output_type": "execute_result"
    }
   ],
   "source": [
    "test_context = f'''Question: {test_question}'''\n",
    "\n",
    "routing_tool(context=test_context)"
   ]
  },
  {
   "cell_type": "markdown",
   "metadata": {},
   "source": [
    "A ferramenta de busca foi selecionada. Vamos executar a busca:"
   ]
  },
  {
   "cell_type": "code",
   "execution_count": 31,
   "metadata": {},
   "outputs": [],
   "source": [
    "search_result = search_tool(\"Zeus Greek mythology\", \"\")"
   ]
  },
  {
   "cell_type": "code",
   "execution_count": 43,
   "metadata": {},
   "outputs": [
    {
     "name": "stdout",
     "output_type": "stream",
     "text": [
      "Zeus (British English , North American English ; , Zeús ) is the sky and thunder god in ancient Greek religion, who rules as king of the gods of Mount Olympus. His name is cognate with the first element of his Roman equivalent Jupiter. His mythologies and powers are similar, though not identical, to those of Indo-European deities such as Jupiter, Perkūnas, Perun, Indra and Thor. Zeus is the child of Cronus and Rhea, the youngest of his siblings to be born, though sometimes reckoned the eldest as the others required disgorging from Cronus's stomach. In most traditions, he is married to Hera, by whom he is usually said to have fathered Ares, Hebe, and Hephaestus.\n",
      "Since lightning is quite powerful and sometimes deadly, it is a bold sign when lightning strikes because it is known that Zeus most likely threw the bolt. In the Iliad. The Iliad is a poem by Homer about the Trojan war and the battle over the City of Troy, in which Zeus plays a major part. Scenes in which Zeus appears include:\n",
      "\n",
      "- Book 2: Zeus sends Agamemnon a dream and is able to partially control his decisions because of the effects of the dream\n",
      "- Book 4: Zeus promises Hera to ultimately destroy the City of Troy at the end of the war\n",
      "- Book 7: Zeus and Poseidon ruin the Achaeans fortress\n",
      "- Book 8: Zeus prohibits the other Gods from fighting each other and has to return to Mount Ida where he can think over his decision that the Greeks will lose the war\n",
      "- Book 14: Zeus is seduced by Hera and becomes distracted while she helps out the Greeks\n",
      "- Book 15: Zeus wakes up and realizes that Poseidon his own brother has been helping out the Greeks, while also sending Hector and Apollo to help fight the Trojans ensuring that the City of Troy will fall\n",
      "- Book 16: Zeus is upset that he couldn't help save Sarpedon's life because it would then contradict his previous decisions\n",
      "- Book 17: Zeus is emotionally hurt by the fate of Hector\n",
      "- Book 20: Zeus lets the other Gods help out their respective sides in the war\n",
      "- Book 24: Zeus demands that Achilles release the corpse of Hector to be buried honourably\n",
      "\n",
      "List of other deeds.- Zeus granted Callirrhoe's prayer that her sons by Alcmaeon, Acarnan and Amphoterus, grow quickly so that they might be able to avenger the death of their father by the hands of Phegeus and his two sons. - He unsuccessfully wooed Thetis, daughter of Nereus.\n",
      "Scenes in which Zeus appears include:\n",
      "\n",
      "- Book 2: Zeus sends Agamemnon a dream and is able to partially control his decisions because of the effects of the dream\n",
      "- Book 4: Zeus promises Hera to ultimately destroy the City of Troy at the end of the war\n",
      "- Book 7: Zeus and Poseidon ruin the Achaeans fortress\n",
      "- Book 8: Zeus prohibits the other Gods from fighting each other and has to return to Mount Ida where he can think over his decision that the Greeks will lose the war\n",
      "- Book 14: Zeus is seduced by Hera and becomes distracted while she helps out the Greeks\n",
      "- Book 15: Zeus wakes up and realizes that Poseidon his own brother has been helping out the Greeks, while also sending Hector and Apollo to help fight the Trojans ensuring that the City of Troy will fall\n",
      "- Book 16: Zeus is upset that he couldn't help save Sarpedon's life because it would then contradict his previous decisions\n",
      "- Book 17: Zeus is emotionally hurt by the fate of Hector\n",
      "- Book 20: Zeus lets the other Gods help out their respective sides in the war\n",
      "- Book 24: Zeus demands that Achilles release the corpse of Hector to be buried honourably\n",
      "\n",
      "List of other deeds.- Zeus granted Callirrhoe's prayer that her sons by Alcmaeon, Acarnan and Amphoterus, grow quickly so that they might be able to avenger the death of their father by the hands of Phegeus and his two sons. - He unsuccessfully wooed Thetis, daughter of Nereus. Zeus and Hera. Zeus was brother and consort of Hera. By Hera, Zeus sired Ares, Hebe and Hephaestus, though some accounts say that Hera produced these offspring alone.\n",
      "He was equated with many foreign weather gods, permitting Pausanias to observe \"That Zeus is king in heaven is a saying common to all men\". Zeus' symbols are the thunderbolt, eagle, bull, and oak. In addition to his Indo-European inheritance, the classical \"cloud-gatherer\" (Greek: , Nephelēgereta) also derives certain iconographic traits from the cultures of the ancient Near East, such as the scepter. Zeus is frequently depicted by Greek artists in one of two poses: standing, striding forward with a thunderbolt leveled in his raised right hand, or seated in majesty. Name.\n",
      "Greek mythology is known today primarily from Greek literature and representations on visual media dating from the Geometric period from to onward. In fact, literary and archaeological sources integrate, sometimes mutually supportive and sometimes in conflict; however, in many cases, the existence of this corpus of data is a strong indication that many elements of Greek mythology have strong factual and historical roots. Literary sources. Mythical narration plays an important role in nearly every genre of Greek literature. Nevertheless, the only general mythographical handbook to survive from Greek antiquity was the Library of Pseudo-Apollodorus.\n",
      "\n"
     ]
    }
   ],
   "source": [
    "print(search_result[\"result\"])"
   ]
  },
  {
   "cell_type": "markdown",
   "metadata": {},
   "source": [
    "Compor o novo contexto e selecionar a próxima ferramenta:"
   ]
  },
  {
   "cell_type": "code",
   "execution_count": 32,
   "metadata": {},
   "outputs": [
    {
     "data": {
      "text/plain": [
       "{'thought': 'Now that I have searched and found information about Zeus in Greek mythology, I can reflect on the key points to understand the essence of his character and significance.',\n",
       " 'tool_name': 'think',\n",
       " 'query': ''}"
      ]
     },
     "execution_count": 32,
     "metadata": {},
     "output_type": "execute_result"
    }
   ],
   "source": [
    "test_context2 = f'''\n",
    "Question: {test_question}\n",
    "\n",
    "Thought: I need to search for information about Zeus in Greek mythology to find the answer.\n",
    "Search result: {search_result[\"result\"]}\n",
    "'''\n",
    "\n",
    "routing_tool(context=test_context2)"
   ]
  },
  {
   "cell_type": "markdown",
   "metadata": {},
   "source": [
    "Executamos a ferramenta de pensamento:"
   ]
  },
  {
   "cell_type": "code",
   "execution_count": 33,
   "metadata": {},
   "outputs": [
    {
     "data": {
      "text/plain": [
       "{'reflection': \"Zeus, in Greek mythology, is the king of the gods, known for being the sky and thunder god, ruling from Mount Olympus. He wields significant power, controlling the weather and fate of humans, often using his lightning bolts to intervene in mortal affairs. Throughout literature, such as in Homer's Iliad, Zeus plays a major role, influencing the war and its outcome. His character is multifaceted, displaying emotions, making decisions, and interacting with other gods and mortals. His power and influence are undeniable, making him a central figure in Greek mythology.\"}"
      ]
     },
     "execution_count": 33,
     "metadata": {},
     "output_type": "execute_result"
    }
   ],
   "source": [
    "test_context3 = f'''\n",
    "Question: {test_question}\n",
    "\n",
    "Thought: I need to search for information about Zeus in Greek mythology to find the answer.\n",
    "Search result: {search_result[\"result\"]}\n",
    "\n",
    "Thought: I have gathered information about Zeus in Greek mythology, now I need to think about the context to understand the main points and reflect on the answer.\n",
    "'''\n",
    "\n",
    "think_tool(context=test_context3)"
   ]
  },
  {
   "cell_type": "markdown",
   "metadata": {},
   "source": [
    "Próximo roteamento:"
   ]
  },
  {
   "cell_type": "code",
   "execution_count": 34,
   "metadata": {},
   "outputs": [
    {
     "data": {
      "text/plain": [
       "{'thought': 'I have thought about the context and I think it is time to answer the question.',\n",
       " 'tool_name': 'answer',\n",
       " 'query': ''}"
      ]
     },
     "execution_count": 34,
     "metadata": {},
     "output_type": "execute_result"
    }
   ],
   "source": [
    "test_context4 = f'''\n",
    "Question: {test_question}\n",
    "\n",
    "Thought: I need to search for information about Zeus in Greek mythology to find the answer.\n",
    "Search result: {search_result[\"result\"]}\n",
    "\n",
    "Thought: I have gathered information about Zeus in Greek mythology, now I need to think about the context to understand the main points and reflect on the answer.\n",
    "Think result: Zeus is known as the sky and thunder god in ancient Greek religion and is often depicted holding a thunderbolt. He is the king of the gods and is married to Hera, with whom he has fathered several children. His powers and mythologies are similar to those of other Indo-European deities, such as Jupiter in Roman mythology. He is often depicted in art standing or seated in majesty, holding a scepter, and is associated with the eagle, bull, and oak.\"\n",
    "'''\n",
    "\n",
    "routing_tool(context=test_context4)"
   ]
  },
  {
   "cell_type": "markdown",
   "metadata": {},
   "source": [
    "E chamamos por fim a ferramenta de resposta:"
   ]
  },
  {
   "cell_type": "code",
   "execution_count": 35,
   "metadata": {},
   "outputs": [
    {
     "data": {
      "text/plain": [
       "{'answer': 'Zeus is known as the sky and thunder god in ancient Greek religion, and is the king of the gods of Mount Olympus.'}"
      ]
     },
     "execution_count": 35,
     "metadata": {},
     "output_type": "execute_result"
    }
   ],
   "source": [
    "test_context5 = f'''\n",
    "Question: {test_question}\n",
    "\n",
    "Thought: I need to search for information about Zeus in Greek mythology to find the answer.\n",
    "Search result: {search_result[\"result\"]}\n",
    "\n",
    "Thought: I have gathered information about Zeus in Greek mythology, now I need to think about the context to understand the main points and reflect on the answer.\n",
    "Think result: Zeus is known as the sky and thunder god in ancient Greek religion, and is the king of the gods of Mount Olympus.\n",
    "\n",
    "Thought: \"I\\'ve reflected on the information and main points about Zeus, now I need to provide a concise answer to the original question.\"\n",
    "'''\n",
    "\n",
    "answer_tool(context=test_context5)"
   ]
  },
  {
   "cell_type": "markdown",
   "metadata": {},
   "source": [
    "### Código principal\n",
    "\n",
    "O código principal tem como função utilizar as ferramentas para responder questões, compondo o contexto com os resultados delas:"
   ]
  },
  {
   "cell_type": "code",
   "execution_count": 19,
   "metadata": {},
   "outputs": [],
   "source": [
    "class QuestionAnswerer:\n",
    "    '''\n",
    "    Answers a question using a LLM agent.\n",
    "    '''\n",
    "\n",
    "    def __init__(self, search_tool:SearchTool, routing_tool:Optional[RoutingTool]=None, \n",
    "                 think_tool:Optional[ThinkTool]=None, answer_tool:Optional[AnswerTool]=None ) -> None:\n",
    "        '''\n",
    "        QuestionAnswerer constructor.\n",
    "\n",
    "        Args:\n",
    "            search_tool (SearchTool): search tool for the agent.\n",
    "            routing_tool (Optional[RoutingTool], optional): routing tool for the agent. If None creates a new with default arguments. Defaults to None.\n",
    "            think_tool (Optional[ThinkTool], optional): think tool for the agent. If None creates a new with default arguments. Defaults to None.\n",
    "            answer_tool (Optional[AnswerTool], optional): answer tool for the agent. If None creates a new with default arguments. Defaults to None.\n",
    "        '''\n",
    "        \n",
    "        self._search_tool = search_tool\n",
    "\n",
    "        if routing_tool is None:\n",
    "            routing_tool = RoutingTool()\n",
    "\n",
    "        if think_tool is None:\n",
    "            think_tool = ThinkTool()\n",
    "\n",
    "        if answer_tool is None:\n",
    "            answer_tool = AnswerTool()\n",
    "\n",
    "        self._routing_tool = routing_tool\n",
    "        self._think_tool = think_tool\n",
    "        self._answer_tool = answer_tool\n",
    "\n",
    "        \n",
    "    def __call__(self, question:str, max_steps:int = 5, verbose=False) -> Tuple[str, str, str]:\n",
    "        '''\n",
    "        Answers a question using the agent.\n",
    "\n",
    "        Args:\n",
    "            question (str): question to answer.\n",
    "            max_steps (int, optional): maximum number of tools use, the last one is always \"AnswerTool\". Defaults to 5.\n",
    "            verbose (bool, optional): if should print the tool sequence while executing. Defaults to False.\n",
    "\n",
    "        Returns:\n",
    "            str: answer for the question.\n",
    "            str: resulting context used to answer.\n",
    "            str: sequence of used tools.\n",
    "        '''\n",
    "\n",
    "        context = f\"Question: {question}\"\n",
    "        tool_sequence = \"\"\n",
    "\n",
    "        step = 0\n",
    "\n",
    "        while True:\n",
    "            \n",
    "            if step >= max_steps-1: #Max steps -> force answer\n",
    "                next_tool = \"answer\"\n",
    "                query = \"\"\n",
    "                thought = \"Now I need to provide a concise answer to the original question.\"\n",
    "            else: #Select next tool with the routing tool\n",
    "                if verbose:\n",
    "                    print(\"R\", end=\"\")\n",
    "                tool_sequence += \"R\"\n",
    "\n",
    "                rounting_result = self._routing_tool(context=context)\n",
    "                next_tool = rounting_result[\"tool_name\"].lower()\n",
    "                query = rounting_result[\"query\"]\n",
    "                thought = rounting_result[\"thought\"]\n",
    "\n",
    "            #Compose context with the reasoning about the tool usage\n",
    "            context += f\"\\n\\nThought: {thought}\\n\"\n",
    "\n",
    "            if verbose:\n",
    "                print(next_tool[0].upper(), end=\"\")\n",
    "            tool_sequence += next_tool[0].upper()\n",
    "\n",
    "            try:\n",
    "                \n",
    "                #Use the selected tool\n",
    "                if next_tool == \"search\":\n",
    "                    search_result = self._search_tool(query=query, context=context)\n",
    "                    context += f\"Search result: {search_result['result']}\"\n",
    "                elif next_tool == \"think\":\n",
    "                    think_result = self._think_tool(query=query, context=context)\n",
    "                    context += f\"Think result: {think_result['reflection']}\"\n",
    "                elif next_tool == \"answer\":\n",
    "                    answer_result = self._answer_tool(query=query, context=context)\n",
    "\n",
    "                    if verbose:\n",
    "                        print(\"\")\n",
    "                    \n",
    "                    #Answer tool ends the execution\n",
    "                    return answer_result[\"answer\"], context, tool_sequence\n",
    "                \n",
    "            except KeyboardInterrupt as e:\n",
    "                raise e\n",
    "            \n",
    "            except:\n",
    "                if verbose:\n",
    "                    print(\"F\", end=\"\\n\")\n",
    "                \n",
    "                tool_sequence += \"F\"\n",
    "                context += \"The tool failed. I can try using it again, or try using another tool.\"\n",
    "                \n",
    "            \n",
    "            step += 1"
   ]
  },
  {
   "cell_type": "markdown",
   "metadata": {},
   "source": [
    "Testamos o agente com a mesma questão utilizada anteriormente:"
   ]
  },
  {
   "cell_type": "code",
   "execution_count": 20,
   "metadata": {},
   "outputs": [],
   "source": [
    "question_answerer = QuestionAnswerer(search_tool)"
   ]
  },
  {
   "cell_type": "code",
   "execution_count": 26,
   "metadata": {},
   "outputs": [
    {
     "name": "stdout",
     "output_type": "stream",
     "text": [
      "RSRTRA\n"
     ]
    }
   ],
   "source": [
    "answer, context, tool_sequence = question_answerer(test_question, verbose=True)"
   ]
  },
  {
   "cell_type": "code",
   "execution_count": 27,
   "metadata": {},
   "outputs": [
    {
     "data": {
      "text/plain": [
       "\"Zeus, in Greek mythology, is the king of the gods and the god of the sky and thunder. He is known for wielding powerful lightning bolts and is depicted in various poses in art, often with his symbols, the thunderbolt, eagle, bull, or oak. He is married to Hera and has fathered several children, including Ares, Hebe, and Hephaestus. Zeus plays a significant role in Homer's Iliad, influencing the outcome of the Trojan War.\""
      ]
     },
     "execution_count": 27,
     "metadata": {},
     "output_type": "execute_result"
    }
   ],
   "source": [
    "answer"
   ]
  },
  {
   "cell_type": "code",
   "execution_count": 28,
   "metadata": {},
   "outputs": [
    {
     "name": "stdout",
     "output_type": "stream",
     "text": [
      "Question: What is Zeus know for in Greek mythology?\n",
      "\n",
      "Thought: I want to find relevant information about Zeus in Greek mythology, so I choose a tool that can search for related content.\n",
      "Search result: Zeus (British English , North American English ; , Zeús ) is the sky and thunder god in ancient Greek religion, who rules as king of the gods of Mount Olympus. His name is cognate with the first element of his Roman equivalent Jupiter. His mythologies and powers are similar, though not identical, to those of Indo-European deities such as Jupiter, Perkūnas, Perun, Indra and Thor. Zeus is the child of Cronus and Rhea, the youngest of his siblings to be born, though sometimes reckoned the eldest as the others required disgorging from Cronus's stomach. In most traditions, he is married to Hera, by whom he is usually said to have fathered Ares, Hebe, and Hephaestus.\n",
      "Since lightning is quite powerful and sometimes deadly, it is a bold sign when lightning strikes because it is known that Zeus most likely threw the bolt. In the Iliad. The Iliad is a poem by Homer about the Trojan war and the battle over the City of Troy, in which Zeus plays a major part. Scenes in which Zeus appears include:\n",
      "\n",
      "- Book 2: Zeus sends Agamemnon a dream and is able to partially control his decisions because of the effects of the dream\n",
      "- Book 4: Zeus promises Hera to ultimately destroy the City of Troy at the end of the war\n",
      "- Book 7: Zeus and Poseidon ruin the Achaeans fortress\n",
      "- Book 8: Zeus prohibits the other Gods from fighting each other and has to return to Mount Ida where he can think over his decision that the Greeks will lose the war\n",
      "- Book 14: Zeus is seduced by Hera and becomes distracted while she helps out the Greeks\n",
      "- Book 15: Zeus wakes up and realizes that Poseidon his own brother has been helping out the Greeks, while also sending Hector and Apollo to help fight the Trojans ensuring that the City of Troy will fall\n",
      "- Book 16: Zeus is upset that he couldn't help save Sarpedon's life because it would then contradict his previous decisions\n",
      "- Book 17: Zeus is emotionally hurt by the fate of Hector\n",
      "- Book 20: Zeus lets the other Gods help out their respective sides in the war\n",
      "- Book 24: Zeus demands that Achilles release the corpse of Hector to be buried honourably\n",
      "\n",
      "List of other deeds.- Zeus granted Callirrhoe's prayer that her sons by Alcmaeon, Acarnan and Amphoterus, grow quickly so that they might be able to avenger the death of their father by the hands of Phegeus and his two sons. - He unsuccessfully wooed Thetis, daughter of Nereus.\n",
      "Scenes in which Zeus appears include:\n",
      "\n",
      "- Book 2: Zeus sends Agamemnon a dream and is able to partially control his decisions because of the effects of the dream\n",
      "- Book 4: Zeus promises Hera to ultimately destroy the City of Troy at the end of the war\n",
      "- Book 7: Zeus and Poseidon ruin the Achaeans fortress\n",
      "- Book 8: Zeus prohibits the other Gods from fighting each other and has to return to Mount Ida where he can think over his decision that the Greeks will lose the war\n",
      "- Book 14: Zeus is seduced by Hera and becomes distracted while she helps out the Greeks\n",
      "- Book 15: Zeus wakes up and realizes that Poseidon his own brother has been helping out the Greeks, while also sending Hector and Apollo to help fight the Trojans ensuring that the City of Troy will fall\n",
      "- Book 16: Zeus is upset that he couldn't help save Sarpedon's life because it would then contradict his previous decisions\n",
      "- Book 17: Zeus is emotionally hurt by the fate of Hector\n",
      "- Book 20: Zeus lets the other Gods help out their respective sides in the war\n",
      "- Book 24: Zeus demands that Achilles release the corpse of Hector to be buried honourably\n",
      "\n",
      "List of other deeds.- Zeus granted Callirrhoe's prayer that her sons by Alcmaeon, Acarnan and Amphoterus, grow quickly so that they might be able to avenger the death of their father by the hands of Phegeus and his two sons. - He unsuccessfully wooed Thetis, daughter of Nereus. Zeus and Hera. Zeus was brother and consort of Hera. By Hera, Zeus sired Ares, Hebe and Hephaestus, though some accounts say that Hera produced these offspring alone.\n",
      "He was equated with many foreign weather gods, permitting Pausanias to observe \"That Zeus is king in heaven is a saying common to all men\". Zeus' symbols are the thunderbolt, eagle, bull, and oak. In addition to his Indo-European inheritance, the classical \"cloud-gatherer\" (Greek: , Nephelēgereta) also derives certain iconographic traits from the cultures of the ancient Near East, such as the scepter. Zeus is frequently depicted by Greek artists in one of two poses: standing, striding forward with a thunderbolt leveled in his raised right hand, or seated in majesty. Name.\n",
      "Greek mythology is known today primarily from Greek literature and representations on visual media dating from the Geometric period from to onward. In fact, literary and archaeological sources integrate, sometimes mutually supportive and sometimes in conflict; however, in many cases, the existence of this corpus of data is a strong indication that many elements of Greek mythology have strong factual and historical roots. Literary sources. Mythical narration plays an important role in nearly every genre of Greek literature. Nevertheless, the only general mythographical handbook to survive from Greek antiquity was the Library of Pseudo-Apollodorus.\n",
      "\n",
      "\n",
      "Thought: I have a lot of information about Zeus in Greek mythology, but I want to reflect on the most important aspects of his character and deeds to provide a concise answer to the question.\n",
      "Think result: Zeus, in Greek mythology, is the king of the gods and the god of the sky and thunder. He is known for wielding powerful lightning bolts and is depicted in various poses in art, often with his symbols, the thunderbolt, eagle, bull, or oak. He is married to Hera and has fathered several children, including Ares, Hebe, and Hephaestus. Zeus plays a significant role in Homer's Iliad, influencing the outcome of the Trojan War. His deeds include granting wishes, helping or hindering mortals, and intervening in human conflicts, making him a central figure in Greek mythology.\n",
      "\n",
      "Thought: I've reflected on the key aspects of Zeus' character in Greek mythology and now I'm ready to provide a concise answer to the question.\n",
      "\n"
     ]
    }
   ],
   "source": [
    "print(context)"
   ]
  },
  {
   "cell_type": "code",
   "execution_count": 29,
   "metadata": {},
   "outputs": [
    {
     "data": {
      "text/plain": [
       "(True, 0.1142857142857143, 0)"
      ]
     },
     "execution_count": 29,
     "metadata": {},
     "output_type": "execute_result"
    }
   ],
   "source": [
    "groq_corrector(a_gold, answer), compute_f1(a_gold, answer), compute_exact(a_gold, answer)"
   ]
  },
  {
   "cell_type": "code",
   "execution_count": 30,
   "metadata": {},
   "outputs": [
    {
     "data": {
      "text/plain": [
       "'RSRTRA'"
      ]
     },
     "execution_count": 30,
     "metadata": {},
     "output_type": "execute_result"
    }
   ],
   "source": [
    "tool_sequence"
   ]
  },
  {
   "cell_type": "markdown",
   "metadata": {},
   "source": [
    "## Geração das respostas\n",
    "\n",
    "Aqui serão geradas as respostas de todas as perguntas de teste:"
   ]
  },
  {
   "cell_type": "code",
   "execution_count": 33,
   "metadata": {},
   "outputs": [
    {
     "name": "stderr",
     "output_type": "stream",
     "text": [
      "  0%|          | 0/50 [00:00<?, ?it/s]"
     ]
    },
    {
     "name": "stdout",
     "output_type": "stream",
     "text": [
      "RSRTRA\n"
     ]
    },
    {
     "name": "stderr",
     "output_type": "stream",
     "text": [
      "  2%|▏         | 1/50 [00:35<28:57, 35.47s/it]"
     ]
    },
    {
     "name": "stdout",
     "output_type": "stream",
     "text": [
      "RSRTRA\n"
     ]
    },
    {
     "name": "stderr",
     "output_type": "stream",
     "text": [
      "  4%|▍         | 2/50 [01:21<33:15, 41.57s/it]"
     ]
    },
    {
     "name": "stdout",
     "output_type": "stream",
     "text": [
      "RSRA\n"
     ]
    },
    {
     "name": "stderr",
     "output_type": "stream",
     "text": [
      "  6%|▌         | 3/50 [01:44<25:50, 33.00s/it]"
     ]
    },
    {
     "name": "stdout",
     "output_type": "stream",
     "text": [
      "RSRTRA\n"
     ]
    },
    {
     "name": "stderr",
     "output_type": "stream",
     "text": [
      "  8%|▊         | 4/50 [02:28<28:53, 37.68s/it]"
     ]
    },
    {
     "name": "stdout",
     "output_type": "stream",
     "text": [
      "RSRTRA\n"
     ]
    },
    {
     "name": "stderr",
     "output_type": "stream",
     "text": [
      " 10%|█         | 5/50 [03:23<32:43, 43.63s/it]"
     ]
    },
    {
     "name": "stdout",
     "output_type": "stream",
     "text": [
      "RSRSRA\n"
     ]
    },
    {
     "name": "stderr",
     "output_type": "stream",
     "text": [
      " 12%|█▏        | 6/50 [04:08<32:25, 44.21s/it]"
     ]
    },
    {
     "name": "stdout",
     "output_type": "stream",
     "text": [
      "RSRA\n"
     ]
    },
    {
     "name": "stderr",
     "output_type": "stream",
     "text": [
      " 14%|█▍        | 7/50 [04:22<24:39, 34.41s/it]"
     ]
    },
    {
     "name": "stdout",
     "output_type": "stream",
     "text": [
      "RSRTRA\n"
     ]
    },
    {
     "name": "stderr",
     "output_type": "stream",
     "text": [
      " 16%|█▌        | 8/50 [05:25<30:24, 43.43s/it]"
     ]
    },
    {
     "name": "stdout",
     "output_type": "stream",
     "text": [
      "RSRSRA\n"
     ]
    },
    {
     "name": "stderr",
     "output_type": "stream",
     "text": [
      " 18%|█▊        | 9/50 [06:06<29:14, 42.80s/it]"
     ]
    },
    {
     "name": "stdout",
     "output_type": "stream",
     "text": [
      "RSRA\n"
     ]
    },
    {
     "name": "stderr",
     "output_type": "stream",
     "text": [
      " 20%|██        | 10/50 [06:24<23:21, 35.03s/it]"
     ]
    },
    {
     "name": "stdout",
     "output_type": "stream",
     "text": [
      "RSRA\n"
     ]
    },
    {
     "name": "stderr",
     "output_type": "stream",
     "text": [
      " 22%|██▏       | 11/50 [06:56<22:09, 34.10s/it]"
     ]
    },
    {
     "name": "stdout",
     "output_type": "stream",
     "text": [
      "RSRA\n"
     ]
    },
    {
     "name": "stderr",
     "output_type": "stream",
     "text": [
      " 24%|██▍       | 12/50 [07:14<18:34, 29.32s/it]"
     ]
    },
    {
     "name": "stdout",
     "output_type": "stream",
     "text": [
      "RSRTRA\n"
     ]
    },
    {
     "name": "stderr",
     "output_type": "stream",
     "text": [
      " 26%|██▌       | 13/50 [07:50<19:16, 31.25s/it]"
     ]
    },
    {
     "name": "stdout",
     "output_type": "stream",
     "text": [
      "RSRTRA\n"
     ]
    },
    {
     "name": "stderr",
     "output_type": "stream",
     "text": [
      " 28%|██▊       | 14/50 [08:34<21:01, 35.04s/it]"
     ]
    },
    {
     "name": "stdout",
     "output_type": "stream",
     "text": [
      "RSRA\n"
     ]
    },
    {
     "name": "stderr",
     "output_type": "stream",
     "text": [
      " 30%|███       | 15/50 [08:49<16:56, 29.05s/it]"
     ]
    },
    {
     "name": "stdout",
     "output_type": "stream",
     "text": [
      "RSRTRSRA\n"
     ]
    },
    {
     "name": "stderr",
     "output_type": "stream",
     "text": [
      " 32%|███▏      | 16/50 [10:08<25:00, 44.13s/it]"
     ]
    },
    {
     "name": "stdout",
     "output_type": "stream",
     "text": [
      "RSRTRSRA\n"
     ]
    },
    {
     "name": "stderr",
     "output_type": "stream",
     "text": [
      " 34%|███▍      | 17/50 [11:37<31:39, 57.57s/it]"
     ]
    },
    {
     "name": "stdout",
     "output_type": "stream",
     "text": [
      "RSRTRSR"
     ]
    },
    {
     "name": "stderr",
     "output_type": "stream",
     "text": [
      " 36%|███▌      | 18/50 [15:04<54:43, 102.61s/it]"
     ]
    },
    {
     "name": "stdout",
     "output_type": "stream",
     "text": [
      "ERROR\n",
      "RSRTRA\n"
     ]
    },
    {
     "name": "stderr",
     "output_type": "stream",
     "text": [
      " 38%|███▊      | 19/50 [15:34<41:36, 80.53s/it] "
     ]
    },
    {
     "name": "stdout",
     "output_type": "stream",
     "text": [
      "RSRTRA\n"
     ]
    },
    {
     "name": "stderr",
     "output_type": "stream",
     "text": [
      " 40%|████      | 20/50 [17:26<45:01, 90.04s/it]"
     ]
    },
    {
     "name": "stdout",
     "output_type": "stream",
     "text": [
      "RSRTRA\n"
     ]
    },
    {
     "name": "stderr",
     "output_type": "stream",
     "text": [
      " 42%|████▏     | 21/50 [18:38<40:54, 84.63s/it]"
     ]
    },
    {
     "name": "stdout",
     "output_type": "stream",
     "text": [
      "RSRTRA\n"
     ]
    },
    {
     "name": "stderr",
     "output_type": "stream",
     "text": [
      " 44%|████▍     | 22/50 [20:07<40:06, 85.96s/it]"
     ]
    },
    {
     "name": "stdout",
     "output_type": "stream",
     "text": [
      "RSRTRA\n"
     ]
    },
    {
     "name": "stderr",
     "output_type": "stream",
     "text": [
      " 46%|████▌     | 23/50 [21:15<36:17, 80.66s/it]"
     ]
    },
    {
     "name": "stdout",
     "output_type": "stream",
     "text": [
      "RSRA\n"
     ]
    },
    {
     "name": "stderr",
     "output_type": "stream",
     "text": [
      " 48%|████▊     | 24/50 [22:00<30:21, 70.06s/it]"
     ]
    },
    {
     "name": "stdout",
     "output_type": "stream",
     "text": [
      "RSRTRA\n"
     ]
    },
    {
     "name": "stderr",
     "output_type": "stream",
     "text": [
      " 50%|█████     | 25/50 [24:07<36:13, 86.94s/it]"
     ]
    },
    {
     "name": "stdout",
     "output_type": "stream",
     "text": [
      "RSRTRA\n"
     ]
    },
    {
     "name": "stderr",
     "output_type": "stream",
     "text": [
      " 52%|█████▏    | 26/50 [26:38<42:27, 106.14s/it]"
     ]
    },
    {
     "name": "stdout",
     "output_type": "stream",
     "text": [
      "RSRTRSRTA\n"
     ]
    },
    {
     "name": "stderr",
     "output_type": "stream",
     "text": [
      " 54%|█████▍    | 27/50 [29:37<49:06, 128.10s/it]"
     ]
    },
    {
     "name": "stdout",
     "output_type": "stream",
     "text": [
      "RSRTRSRSA\n"
     ]
    },
    {
     "name": "stderr",
     "output_type": "stream",
     "text": [
      " 56%|█████▌    | 28/50 [31:56<48:11, 131.45s/it]"
     ]
    },
    {
     "name": "stdout",
     "output_type": "stream",
     "text": [
      "RSRTRA\n"
     ]
    },
    {
     "name": "stderr",
     "output_type": "stream",
     "text": [
      " 58%|█████▊    | 29/50 [32:13<33:58, 97.05s/it] "
     ]
    },
    {
     "name": "stdout",
     "output_type": "stream",
     "text": [
      "RSRTRA\n"
     ]
    },
    {
     "name": "stderr",
     "output_type": "stream",
     "text": [
      " 60%|██████    | 30/50 [32:59<27:16, 81.81s/it]"
     ]
    },
    {
     "name": "stdout",
     "output_type": "stream",
     "text": [
      "RSRA\n"
     ]
    },
    {
     "name": "stderr",
     "output_type": "stream",
     "text": [
      " 62%|██████▏   | 31/50 [33:25<20:31, 64.81s/it]"
     ]
    },
    {
     "name": "stdout",
     "output_type": "stream",
     "text": [
      "RSRTRA\n"
     ]
    },
    {
     "name": "stderr",
     "output_type": "stream",
     "text": [
      " 64%|██████▍   | 32/50 [34:10<17:44, 59.16s/it]"
     ]
    },
    {
     "name": "stdout",
     "output_type": "stream",
     "text": [
      "RSRTRA\n"
     ]
    },
    {
     "name": "stderr",
     "output_type": "stream",
     "text": [
      " 66%|██████▌   | 33/50 [35:01<16:04, 56.71s/it]"
     ]
    },
    {
     "name": "stdout",
     "output_type": "stream",
     "text": [
      "RSRTRA\n"
     ]
    },
    {
     "name": "stderr",
     "output_type": "stream",
     "text": [
      " 68%|██████▊   | 34/50 [35:43<13:52, 52.00s/it]"
     ]
    },
    {
     "name": "stdout",
     "output_type": "stream",
     "text": [
      "RSRA\n"
     ]
    },
    {
     "name": "stderr",
     "output_type": "stream",
     "text": [
      " 70%|███████   | 35/50 [35:55<10:04, 40.28s/it]"
     ]
    },
    {
     "name": "stdout",
     "output_type": "stream",
     "text": [
      "RSRTRSRA\n"
     ]
    },
    {
     "name": "stderr",
     "output_type": "stream",
     "text": [
      " 72%|███████▏  | 36/50 [37:41<13:59, 59.97s/it]"
     ]
    },
    {
     "name": "stdout",
     "output_type": "stream",
     "text": [
      "RSRA\n"
     ]
    },
    {
     "name": "stderr",
     "output_type": "stream",
     "text": [
      " 74%|███████▍  | 37/50 [38:05<10:39, 49.21s/it]"
     ]
    },
    {
     "name": "stdout",
     "output_type": "stream",
     "text": [
      "RSRTRA\n"
     ]
    },
    {
     "name": "stderr",
     "output_type": "stream",
     "text": [
      " 76%|███████▌  | 38/50 [39:01<10:13, 51.12s/it]"
     ]
    },
    {
     "name": "stdout",
     "output_type": "stream",
     "text": [
      "RSRTRA\n"
     ]
    },
    {
     "name": "stderr",
     "output_type": "stream",
     "text": [
      " 78%|███████▊  | 39/50 [39:42<08:49, 48.17s/it]"
     ]
    },
    {
     "name": "stdout",
     "output_type": "stream",
     "text": [
      "RSRA\n"
     ]
    },
    {
     "name": "stderr",
     "output_type": "stream",
     "text": [
      " 80%|████████  | 40/50 [40:04<06:41, 40.16s/it]"
     ]
    },
    {
     "name": "stdout",
     "output_type": "stream",
     "text": [
      "RSRA\n"
     ]
    },
    {
     "name": "stderr",
     "output_type": "stream",
     "text": [
      " 82%|████████▏ | 41/50 [40:28<05:17, 35.27s/it]"
     ]
    },
    {
     "name": "stdout",
     "output_type": "stream",
     "text": [
      "RSRA\n"
     ]
    },
    {
     "name": "stderr",
     "output_type": "stream",
     "text": [
      " 84%|████████▍ | 42/50 [40:51<04:14, 31.80s/it]"
     ]
    },
    {
     "name": "stdout",
     "output_type": "stream",
     "text": [
      "RSRTRA\n"
     ]
    },
    {
     "name": "stderr",
     "output_type": "stream",
     "text": [
      " 86%|████████▌ | 43/50 [41:22<03:41, 31.61s/it]"
     ]
    },
    {
     "name": "stdout",
     "output_type": "stream",
     "text": [
      "RSRA\n"
     ]
    },
    {
     "name": "stderr",
     "output_type": "stream",
     "text": [
      " 88%|████████▊ | 44/50 [41:43<02:50, 28.39s/it]"
     ]
    },
    {
     "name": "stdout",
     "output_type": "stream",
     "text": [
      "RSRTRSRTA\n"
     ]
    },
    {
     "name": "stderr",
     "output_type": "stream",
     "text": [
      " 90%|█████████ | 45/50 [43:32<04:22, 52.57s/it]"
     ]
    },
    {
     "name": "stdout",
     "output_type": "stream",
     "text": [
      "RSRA\n"
     ]
    },
    {
     "name": "stderr",
     "output_type": "stream",
     "text": [
      " 92%|█████████▏| 46/50 [43:54<02:52, 43.24s/it]"
     ]
    },
    {
     "name": "stdout",
     "output_type": "stream",
     "text": [
      "RSRA\n"
     ]
    },
    {
     "name": "stderr",
     "output_type": "stream",
     "text": [
      " 94%|█████████▍| 47/50 [44:15<01:50, 36.74s/it]"
     ]
    },
    {
     "name": "stdout",
     "output_type": "stream",
     "text": [
      "RSRTRA\n"
     ]
    },
    {
     "name": "stderr",
     "output_type": "stream",
     "text": [
      " 96%|█████████▌| 48/50 [44:51<01:13, 36.53s/it]"
     ]
    },
    {
     "name": "stdout",
     "output_type": "stream",
     "text": [
      "RSRTRA\n"
     ]
    },
    {
     "name": "stderr",
     "output_type": "stream",
     "text": [
      " 98%|█████████▊| 49/50 [45:30<00:37, 37.27s/it]"
     ]
    },
    {
     "name": "stdout",
     "output_type": "stream",
     "text": [
      "RSRTRA\n"
     ]
    },
    {
     "name": "stderr",
     "output_type": "stream",
     "text": [
      "100%|██████████| 50/50 [46:07<00:00, 55.35s/it]\n"
     ]
    }
   ],
   "source": [
    "all_results = []\n",
    "file = open (\"results.jsonl\", \"w\")\n",
    "\n",
    "for i in tqdm.tqdm(range(n_question)):\n",
    "    question = questions[i][\"question\"]\n",
    "    gold_answer = questions[i][\"answer\"]\n",
    "\n",
    "    try:\n",
    "        answer, context, tool_sequence = question_answerer(question, verbose=True)\n",
    "\n",
    "        is_correct = groq_corrector(gold_answer, answer)\n",
    "        f1_score = compute_f1(gold_answer, answer)\n",
    "        exact_score = compute_exact(gold_answer, answer)\n",
    "\n",
    "    except KeyboardInterrupt as e:\n",
    "        file.close()\n",
    "        raise e\n",
    "        \n",
    "    except:\n",
    "        answer = \"\"\n",
    "        context = \"\"\n",
    "        tool_sequence = \"F\"\n",
    "        is_correct = False\n",
    "        f1_score = 0\n",
    "        exact_score = 0\n",
    "\n",
    "    entry = {\"question_number\": i,\n",
    "            \"question\":question,\n",
    "             \"gold_answer\":gold_answer,\n",
    "             \"answer\":answer,\n",
    "             \"tool_sequence\":tool_sequence,\n",
    "             \"is_correct\":is_correct,\n",
    "             \"f1_score\":f1_score,\n",
    "             \"exact_score\":exact_score,\n",
    "             \"context\":context}\n",
    "    \n",
    "    all_results.append(entry)\n",
    "\n",
    "    file.write(json.dumps(entry)+\"\\n\")\n",
    "    file.flush()\n",
    "\n",
    "file.close()"
   ]
  },
  {
   "cell_type": "markdown",
   "metadata": {},
   "source": [
    "46 min 7,5s"
   ]
  },
  {
   "cell_type": "code",
   "execution_count": 60,
   "metadata": {},
   "outputs": [],
   "source": [
    "file = open(\"results.json\", \"w\")\n",
    "json.dump(all_results, file)\n",
    "file.close()"
   ]
  },
  {
   "cell_type": "markdown",
   "metadata": {},
   "source": [
    "## Avaliação\n",
    "\n",
    "Com as respostas geradas, podemos avaliar a performance do agente."
   ]
  },
  {
   "cell_type": "code",
   "execution_count": 5,
   "metadata": {},
   "outputs": [],
   "source": [
    "file = open(\"results.json\", \"r\")\n",
    "all_results = json.load(file)\n",
    "file.close()"
   ]
  },
  {
   "cell_type": "markdown",
   "metadata": {},
   "source": [
    "Iniciamos pelo cálculo das métricas:"
   ]
  },
  {
   "cell_type": "code",
   "execution_count": 18,
   "metadata": {},
   "outputs": [
    {
     "name": "stdout",
     "output_type": "stream",
     "text": [
      "Accuracy: 0.52\n",
      "F1 score: 0.47502661713188027 ± 0.45167093813665027\n",
      "Exact score: 0.36 ± 0.48\n"
     ]
    }
   ],
   "source": [
    "accuracy = 0.0\n",
    "correctness = np.empty(n_question)\n",
    "f1_scores = np.empty(n_question)\n",
    "exact_scores = np.empty(n_question)\n",
    "tool_sequences = []\n",
    "\n",
    "for i in range(n_question):\n",
    "    accuracy += all_results[i][\"is_correct\"]\n",
    "    correctness[i] = all_results[i][\"is_correct\"]\n",
    "    f1_scores[i] = all_results[i][\"f1_score\"]\n",
    "    exact_scores[i] = all_results[i][\"exact_score\"]\n",
    "    tool_sequences.append(all_results[i][\"tool_sequence\"])\n",
    "\n",
    "accuracy /= n_question\n",
    "\n",
    "print(\"Accuracy:\", accuracy)\n",
    "print(\"F1 score:\", f1_scores.mean(), \"±\", f1_scores.std())\n",
    "print(\"Exact score:\", exact_scores.mean(), \"±\", exact_scores.std())"
   ]
  },
  {
   "cell_type": "markdown",
   "metadata": {},
   "source": [
    "Podemos verificar que o agente raramente tem uma resposta \"meio correta\" segundo o F1 score:"
   ]
  },
  {
   "cell_type": "code",
   "execution_count": 8,
   "metadata": {},
   "outputs": [
    {
     "data": {
      "image/png": "[encoded data removed]",
      "text/plain": [
       "<Figure size 432x288 with 1 Axes>"
      ]
     },
     "metadata": {
      "needs_background": "light"
     },
     "output_type": "display_data"
    }
   ],
   "source": [
    "plt.hist(f1_scores)\n",
    "\n",
    "plt.title(\"F1 score histogram\")\n",
    "plt.xlabel(\"F1 score\")\n",
    "plt.ylabel(\"Occurrences\")\n",
    "\n",
    "plt.show()"
   ]
  },
  {
   "cell_type": "markdown",
   "metadata": {},
   "source": [
    "E que este score está de certa forma relacionado com a corretude da resposta, embora scores em aproximadamente (0.2, 0.6) sejam ambíguos sobre a corretude da resposta."
   ]
  },
  {
   "cell_type": "code",
   "execution_count": 15,
   "metadata": {},
   "outputs": [
    {
     "data": {
      "text/plain": [
       "Text(0.5, 1.0, 'F1 score correctness')"
      ]
     },
     "execution_count": 15,
     "metadata": {},
     "output_type": "execute_result"
    },
    {
     "data": {
      "image/png": "[encoded data removed]",
      "text/plain": [
       "<Figure size 432x288 with 1 Axes>"
      ]
     },
     "metadata": {
      "needs_background": "light"
     },
     "output_type": "display_data"
    }
   ],
   "source": [
    "plt.plot(f1_scores, correctness, \"o\")\n",
    "\n",
    "plt.xlabel(\"F1 score\")\n",
    "\n",
    "plt.yticks([0.0, 1.0], [\"Wrong\", \"Correct\"])\n",
    "plt.ylabel(\"Correctness\")\n",
    "\n",
    "plt.title(\"F1 score correctness\")"
   ]
  },
  {
   "cell_type": "markdown",
   "metadata": {},
   "source": [
    "Já o score de resposta idêntica incorreta não indica necessariamente que a resposta está errada, enquanto que não possui nenhum falso positivo:"
   ]
  },
  {
   "cell_type": "code",
   "execution_count": 33,
   "metadata": {},
   "outputs": [],
   "source": [
    "false_negative = np.bitwise_and(correctness == True, exact_scores == 0).sum()\n",
    "false_positive = np.bitwise_and(correctness == False, exact_scores == 1).sum()\n",
    "true_positive = np.bitwise_and(correctness == True, exact_scores == 1).sum()\n",
    "true_negative = np.bitwise_and(correctness == False, exact_scores == 0).sum()\n",
    "\n",
    "confusion_matrix = np.array([[true_positive, false_negative], [false_positive, true_negative]])"
   ]
  },
  {
   "cell_type": "code",
   "execution_count": 37,
   "metadata": {},
   "outputs": [
    {
     "data": {
      "text/plain": [
       "Text(0.5, 1.0, 'Correctness vs Exact')"
      ]
     },
     "execution_count": 37,
     "metadata": {},
     "output_type": "execute_result"
    },
    {
     "data": {
      "image/png": "[encoded data removed]",
      "text/plain": [
       "<Figure size 432x288 with 1 Axes>"
      ]
     },
     "metadata": {
      "needs_background": "light"
     },
     "output_type": "display_data"
    }
   ],
   "source": [
    "fig, ax = plt.subplots()\n",
    "\n",
    "im = ax.imshow(confusion_matrix, cmap=\"Greys_r\")\n",
    "\n",
    "markers = [\"Correct\", \"Wrong\"]\n",
    "\n",
    "ax.set_xticks(np.arange(len(markers)))\n",
    "ax.set_yticks(np.arange(len(markers)))\n",
    "ax.set_xticklabels(markers)\n",
    "ax.set_yticklabels(markers)\n",
    "\n",
    "plt.xlabel(\"Exact score\")\n",
    "plt.ylabel(\"Correctness score\")\n",
    "\n",
    "for i in range(len(markers)):\n",
    "        for j in range(len(markers)):\n",
    "            text = ax.text(j, i, np.around(confusion_matrix[i, j], decimals=2),\n",
    "                        ha=\"center\", va=\"center\", color=\"red\")\n",
    "            \n",
    "plt.suptitle(\"Confusion matrix\")\n",
    "plt.title(\"Correctness vs Exact\")"
   ]
  },
  {
   "cell_type": "markdown",
   "metadata": {},
   "source": [
    "Partimos agora para a análise das sequências de ferramentas"
   ]
  },
  {
   "cell_type": "code",
   "execution_count": 8,
   "metadata": {},
   "outputs": [],
   "source": [
    "tool_sequences_unique, tool_sequences_count = np.unique(tool_sequences, return_counts=True)"
   ]
  },
  {
   "cell_type": "markdown",
   "metadata": {},
   "source": [
    "Verificamos inicialmente que a sequência mais utilizada é realizar uma busca, pensamento e responder a questão, que era a sequência esperada pensando o funcionamento de cada ferramente: primeiro o agente procura informações sobre a pergunta, seguido por uma reflexão sobre essas informações e a resposta final.\n",
    "\n",
    "A próxima sequência mais comum é pesquisar e responder, sem a etapa de pensamento, o que pode indicar que o agente considere desnecessário esta etapa, talvez pela resposta já estar clara nas informações encontradas."
   ]
  },
  {
   "cell_type": "code",
   "execution_count": 70,
   "metadata": {},
   "outputs": [
    {
     "data": {
      "image/png": "[encoded data removed]",
      "text/plain": [
       "<Figure size 432x288 with 1 Axes>"
      ]
     },
     "metadata": {
      "needs_background": "light"
     },
     "output_type": "display_data"
    }
   ],
   "source": [
    "plt.bar(tool_sequences_unique, tool_sequences_count)\n",
    "plt.xticks(rotation=45)\n",
    "\n",
    "plt.title(\"Ocorrências das sequências de ferramentas\")\n",
    "plt.xlabel(\"Sequência de ferramentas\")\n",
    "plt.ylabel(\"Ocorrências\")\n",
    "\n",
    "plt.show()"
   ]
  },
  {
   "cell_type": "code",
   "execution_count": 67,
   "metadata": {},
   "outputs": [],
   "source": [
    "#Accuracy by tool\n",
    "\n",
    "tool_sequences_accuracy = {}\n",
    "for tool_sequence in tool_sequences_unique:\n",
    "    tool_sequences_accuracy[tool_sequence] = 0\n",
    "\n",
    "for result in all_results:\n",
    "    tool_sequence = result[\"tool_sequence\"]\n",
    "    tool_sequences_accuracy[tool_sequence] += result[\"is_correct\"]\n",
    "\n",
    "tool_sequences_accuracy_list = []\n",
    "\n",
    "for i in range(len(tool_sequences_unique)):\n",
    "    tool_sequence = tool_sequences_unique[i]\n",
    "    tool_sequences_accuracy[tool_sequence] /= tool_sequences_count[i]\n",
    "\n",
    "    tool_sequences_accuracy_list.append(tool_sequences_accuracy[tool_sequence])"
   ]
  },
  {
   "cell_type": "markdown",
   "metadata": {},
   "source": [
    "Já ao analisar a acurácia das ferramentas, podemos observar que a sequência \"RSRSRA\" é a mais acurada, onde o agente realiza duas buscas antes de gerar uma repostas. Comparando junto da sequência \"RSRA\", é perceptível que sequências que realizam pensamentos são menos acuradas, enquanto que ambas as duas sequências que estouraram o limite de ferramentas não geraram nenhuma resposta válida:"
   ]
  },
  {
   "cell_type": "code",
   "execution_count": 69,
   "metadata": {},
   "outputs": [
    {
     "data": {
      "image/png": "[encoded data removed]",
      "text/plain": [
       "<Figure size 432x288 with 1 Axes>"
      ]
     },
     "metadata": {
      "needs_background": "light"
     },
     "output_type": "display_data"
    }
   ],
   "source": [
    "plt.bar(tool_sequences_unique, tool_sequences_accuracy_list)\n",
    "plt.xticks(rotation=45)\n",
    "\n",
    "plt.title(\"Acurácia estimada das sequências de ferramentas\")\n",
    "plt.xlabel(\"Sequência de ferramentas\")\n",
    "plt.ylabel(\"Acurácia estimada\")\n",
    "\n",
    "plt.show()"
   ]
  },
  {
   "cell_type": "markdown",
   "metadata": {},
   "source": [
    "Geramos um grafo das ferramentas utilizadas:"
   ]
  },
  {
   "cell_type": "code",
   "execution_count": 11,
   "metadata": {},
   "outputs": [],
   "source": [
    "#Tool graph generation\n",
    "\n",
    "node_queue = collections.deque()\n",
    "node_queue.append(\"\")\n",
    "\n",
    "next_tool_occurrences = {}\n",
    "for t in [\"R\", \"A\", \"T\", \"S\", \"F\"]:\n",
    "    next_tool_occurrences[t] = 0\n",
    "\n",
    "adj_list = {}\n",
    "\n",
    "while len(node_queue) != 0:\n",
    "    current_node = node_queue.pop()\n",
    "\n",
    "    if current_node in adj_list:\n",
    "        continue\n",
    "\n",
    "\n",
    "    total_occurrences = 0\n",
    "    n_sequence = 0\n",
    "    sequences = {}\n",
    "    for i in range(len(tool_sequences_unique)):\n",
    "        sequence = tool_sequences_unique[i]\n",
    "        occurrences = tool_sequences_count[i]\n",
    "        \n",
    "        if len(sequence) > len(current_node):\n",
    "            if sequence[:len(current_node)] != current_node:\n",
    "                continue\n",
    "            \n",
    "            next_char = sequence[len(current_node)]\n",
    "\n",
    "            total_occurrences += occurrences\n",
    "            next_tool_occurrences[next_char] += occurrences\n",
    "\n",
    "            if next_char in sequences:\n",
    "                sequences[next_char] += occurrences\n",
    "                \n",
    "            else:\n",
    "                sequences[next_char] = occurrences\n",
    "\n",
    "                if current_node+next_char not in node_queue:\n",
    "                    node_queue.append(current_node+next_char)\n",
    "\n",
    "    \n",
    "\n",
    "    for sequence in sequences:\n",
    "        sequences[sequence] /= total_occurrences\n",
    "    adj_list[current_node] = sequences\n",
    "        \n"
   ]
  },
  {
   "cell_type": "code",
   "execution_count": 123,
   "metadata": {},
   "outputs": [
    {
     "name": "stdout",
     "output_type": "stream",
     "text": [
      "flowchart LR\n",
      "'' -->|F 2%| F\n",
      "'' -->|R 98%| R\n",
      "R -->|S 100%| RS\n",
      "RS -->|R 100%| RSR\n",
      "RSR -->|A 32.65%| RSRA\n",
      "RSR -->|S 4.08%| RSRS\n",
      "RSR -->|T 63.27%| RSRT\n",
      "RSRT -->|R 100%| RSRTR\n",
      "RSRTR -->|A 80.65%| RSRTRA\n",
      "RSRTR -->|S 19.35%| RSRTRS\n",
      "RSRTRS -->|R 100%| RSRTRSR\n",
      "RSRTRSR -->|A 50%| RSRTRSRA\n",
      "RSRTRSR -->|S 16.67%| RSRTRSRS\n",
      "RSRTRSR -->|T 33.33%| RSRTRSRT\n",
      "RSRTRSRT -->|A 100%| RSRTRSRTA\n",
      "RSRTRSRS -->|A 100%| RSRTRSRSA\n",
      "RSRS -->|R 100%| RSRSR\n",
      "RSRSR -->|A 100%| RSRSRA\n"
     ]
    }
   ],
   "source": [
    "#Print of the graph\n",
    "\n",
    "print(\"flowchart LR\")\n",
    "\n",
    "for node in adj_list:\n",
    "    for next_char in adj_list[node]:\n",
    "        node_to_print = node\n",
    "\n",
    "        if node_to_print == \"\":\n",
    "            node_to_print = \"''\"\n",
    "\n",
    "        probability = adj_list[node][next_char]\n",
    "        probability *= 100\n",
    "        probability = round(probability, 2)\n",
    "\n",
    "        if int(probability) == probability:\n",
    "            probability = int(probability)\n",
    "\n",
    "        next_node = node+next_char\n",
    "        print(f\"{node_to_print} -->|{next_char} {probability}%| {next_node}\")"
   ]
  },
  {
   "cell_type": "markdown",
   "metadata": {},
   "source": [
    "Renderizando o diagrama em [Mermaid Live Editor](https://mermaid.live/):\n",
    "\n",
    "[Disponível online](https://mermaid.ink/img/pako:eNptkkFrgzAYhv_KR2D00gZnVms9DITR03bxyzGXoOkqqzqyyBht__tSo0ldd0ue5-P9XkhOpOwqRTKyP3bf5UFqA6-FaBcLWK2ezzuIH86w8_cCtqkFdqAY7giPUXQFaAmOIxO6TqGby4HFNFk7nAeO8ESj1GEMmEPCaLxxnA-c_w3nLp5PC9LIL-DjCu5LbinzDkeH94k4Zfra6xuXz6WNTWiyCR7nngNjlLHgufd8TJ-t5iEf__Po_F3tsbSvfCNysiSN0o2sK_vCJ9ECCGIOqlGCZPZYSf0hiGgvdk72psOftiSZ0b1akv6zkka91PJdy4Zke3n8slRVten0m_syw8-5_AJB36Zj?type=png)"
   ]
  },
  {
   "cell_type": "markdown",
   "metadata": {},
   "source": [
    "[![](https://mermaid.ink/img/pako:eNptkkFrgzAYhv_KR2D00gZnVms9DITR03bxyzGXoOkqqzqyyBht__tSo0ldd0ue5-P9XkhOpOwqRTKyP3bf5UFqA6-FaBcLWK2ezzuIH86w8_cCtqkFdqAY7giPUXQFaAmOIxO6TqGby4HFNFk7nAeO8ESj1GEMmEPCaLxxnA-c_w3nLp5PC9LIL-DjCu5LbinzDkeH94k4Zfra6xuXz6WNTWiyCR7nngNjlLHgufd8TJ-t5iEf__Po_F3tsbSvfCNysiSN0o2sK_vCJ9ECCGIOqlGCZPZYSf0hiGgvdk72psOftiSZ0b1akv6zkka91PJdy4Zke3n8slRVten0m_syw8-5_AJB36Zj?type=png)](https://mermaid.live/edit#pako:eNptkkFrgzAYhv_KR2D00gZnVms9DITR03bxyzGXoOkqqzqyyBht__tSo0ldd0ue5-P9XkhOpOwqRTKyP3bf5UFqA6-FaBcLWK2ezzuIH86w8_cCtqkFdqAY7giPUXQFaAmOIxO6TqGby4HFNFk7nAeO8ESj1GEMmEPCaLxxnA-c_w3nLp5PC9LIL-DjCu5LbinzDkeH94k4Zfra6xuXz6WNTWiyCR7nngNjlLHgufd8TJ-t5iEf__Po_F3tsbSvfCNysiSN0o2sK_vCJ9ECCGIOqlGCZPZYSf0hiGgvdk72psOftiSZ0b1akv6zkka91PJdy4Zke3n8slRVten0m_syw8-5_AJB36Zj)"
   ]
  },
  {
   "cell_type": "markdown",
   "metadata": {},
   "source": [
    "E limpamos o grafo removendo as etapas de roteamento que sempre ocorrem:"
   ]
  },
  {
   "cell_type": "code",
   "execution_count": 24,
   "metadata": {},
   "outputs": [],
   "source": [
    "adj_list_no_R = {}\n",
    "\n",
    "for node in adj_list:\n",
    "    if len(node) >= 1 and node[-1] == \"R\":\n",
    "        continue\n",
    "\n",
    "    next_nodes = {}\n",
    "\n",
    "    for next_char in adj_list[node]:\n",
    "        next_node = node+next_char\n",
    "\n",
    "        if next_char == \"R\":\n",
    "            next_node_prob = adj_list[node][next_char]\n",
    "\n",
    "            for next_next_char in adj_list[next_node]:\n",
    "                next_next_node = next_node+next_next_char\n",
    "                next_nodes[next_next_node] = next_node_prob*adj_list[next_node][next_next_char]\n",
    "\n",
    "        else:\n",
    "            next_nodes[next_node] = adj_list[node][next_char]\n",
    "\n",
    "    adj_list_no_R[node] = next_nodes"
   ]
  },
  {
   "cell_type": "code",
   "execution_count": 25,
   "metadata": {},
   "outputs": [
    {
     "name": "stdout",
     "output_type": "stream",
     "text": [
      "flowchart LR\n",
      "'' -->|F 2%| F\n",
      "'' -->|S 98%| RS\n",
      "RS -->|A 32.65%| RSRA\n",
      "RS -->|S 4.08%| RSRS\n",
      "RS -->|T 63.27%| RSRT\n",
      "RSRT -->|A 80.65%| RSRTRA\n",
      "RSRT -->|S 19.35%| RSRTRS\n",
      "RSRTRS -->|A 50%| RSRTRSRA\n",
      "RSRTRS -->|S 16.67%| RSRTRSRS\n",
      "RSRTRS -->|T 33.33%| RSRTRSRT\n",
      "RSRTRSRT -->|A 100%| RSRTRSRTA\n",
      "RSRTRSRS -->|A 100%| RSRTRSRSA\n",
      "RSRS -->|A 100%| RSRSRA\n"
     ]
    }
   ],
   "source": [
    "print(\"flowchart LR\")\n",
    "\n",
    "for node in adj_list_no_R:\n",
    "    for next_node in adj_list_no_R[node]:\n",
    "        node_to_print = node\n",
    "\n",
    "        if node_to_print == \"\":\n",
    "            node_to_print = \"''\"\n",
    "\n",
    "        probability = adj_list_no_R[node][next_node]\n",
    "        probability *= 100\n",
    "        probability = round(probability, 2)\n",
    "\n",
    "        if int(probability) == probability:\n",
    "            probability = int(probability)\n",
    "        \n",
    "        next_char = next_node[-1]\n",
    "\n",
    "        print(f\"{node_to_print} -->|{next_char} {probability}%| {next_node}\")"
   ]
  },
  {
   "cell_type": "markdown",
   "metadata": {},
   "source": [
    "Renderizando o diagrama em [Mermaid Live Editor](https://mermaid.live/):\n",
    "\n",
    "[Disponível online](https://mermaid.ink/img/pako:eNplkTFvwjAQhf-KdVLFEiwnl8Sxh0pIFVO7xJ4qLxYxBZUkKA1qKfDf6yZgQGy-9717d_IdYNFWDiQsN-33YmW7nryWpplMyHT6fJyT5OlI5qFWRBReKJVpSjUoM4IJzbNBLGdBViSlbLTemDXJkSZ8lPW_XOpzSsFCih5zzkiRWFAMSI0oTM9YIJe2sEKc05xf8X2rJogU8Yr1BYedYnYTrkN6mH3H1cgfmF8LIqhdV9t15f_5YBpCDPQrVzsD0j8r230aMM3J--yub9W-WYDsu52LYLetbO9e1vajszXIpd18edVV677t3sbDDfeLYGub97a9enwN8gA_IOOkoDzmhWCcYyYYphHsQSYZp1mGmPIkzQVLkZ8i-B0iGOUiRYGc88LjQojTH4QenJc?type=png)"
   ]
  },
  {
   "cell_type": "markdown",
   "metadata": {},
   "source": [
    "[![](https://mermaid.ink/img/pako:eNplkTFvwjAQhf-KdVLFEiwnl8Sxh0pIFVO7xJ4qLxYxBZUkKA1qKfDf6yZgQGy-9717d_IdYNFWDiQsN-33YmW7nryWpplMyHT6fJyT5OlI5qFWRBReKJVpSjUoM4IJzbNBLGdBViSlbLTemDXJkSZ8lPW_XOpzSsFCih5zzkiRWFAMSI0oTM9YIJe2sEKc05xf8X2rJogU8Yr1BYedYnYTrkN6mH3H1cgfmF8LIqhdV9t15f_5YBpCDPQrVzsD0j8r230aMM3J--yub9W-WYDsu52LYLetbO9e1vajszXIpd18edVV677t3sbDDfeLYGub97a9enwN8gA_IOOkoDzmhWCcYyYYphHsQSYZp1mGmPIkzQVLkZ8i-B0iGOUiRYGc88LjQojTH4QenJc?type=png)](https://mermaid.live/edit#pako:eNplkTFvwjAQhf-KdVLFEiwnl8Sxh0pIFVO7xJ4qLxYxBZUkKA1qKfDf6yZgQGy-9717d_IdYNFWDiQsN-33YmW7nryWpplMyHT6fJyT5OlI5qFWRBReKJVpSjUoM4IJzbNBLGdBViSlbLTemDXJkSZ8lPW_XOpzSsFCih5zzkiRWFAMSI0oTM9YIJe2sEKc05xf8X2rJogU8Yr1BYedYnYTrkN6mH3H1cgfmF8LIqhdV9t15f_5YBpCDPQrVzsD0j8r230aMM3J--yub9W-WYDsu52LYLetbO9e1vajszXIpd18edVV677t3sbDDfeLYGub97a9enwN8gA_IOOkoDzmhWCcYyYYphHsQSYZp1mGmPIkzQVLkZ8i-B0iGOUiRYGc88LjQojTH4QenJc)"
   ]
  },
  {
   "cell_type": "markdown",
   "metadata": {},
   "source": [
    "Obtemos uma cadeia de Markov das ferramentas utilizadas. Possivelmente seria possível utilizar esta cadeia para replicar o funcionamento do agente, evitando as etapas de roteamento e diminuindo o custo de execução; embora a acurácia possa ser reduzida. Executar várias vezes o agente para uma mesma pergunta poderia também ser realizado com custo reduzido, gerando diferentes respostas que poderiam ser consolidadas."
   ]
  },
  {
   "cell_type": "markdown",
   "metadata": {},
   "source": [
    "Agora observando a probabilidade absoluta de selecionar uma ferramenta:"
   ]
  },
  {
   "cell_type": "code",
   "execution_count": 26,
   "metadata": {},
   "outputs": [
    {
     "data": {
      "text/plain": [
       "{'R': 137, 'A': 49, 'T': 33, 'S': 58, 'F': 1}"
      ]
     },
     "execution_count": 26,
     "metadata": {},
     "output_type": "execute_result"
    }
   ],
   "source": [
    "next_tool_occurrences"
   ]
  },
  {
   "cell_type": "code",
   "execution_count": 28,
   "metadata": {},
   "outputs": [
    {
     "name": "stdout",
     "output_type": "stream",
     "text": [
      "A | 34.75%\n",
      "T | 23.4%\n",
      "S | 41.13%\n",
      "F | 0.71%\n"
     ]
    }
   ],
   "source": [
    "total_tool_occurrences = 0\n",
    "for tool in next_tool_occurrences:\n",
    "    if tool == \"R\":\n",
    "        continue\n",
    "\n",
    "    total_tool_occurrences += next_tool_occurrences[tool]\n",
    "\n",
    "\n",
    "next_tool_probs = {}\n",
    "for tool in next_tool_occurrences:\n",
    "    if tool == \"R\":\n",
    "        continue\n",
    "\n",
    "    next_tool_probs[tool] = next_tool_occurrences[tool]/total_tool_occurrences\n",
    "\n",
    "for tool in next_tool_probs:\n",
    "    print(tool, \"|\", f\"{round(next_tool_probs[tool]*100, 2)}%\")"
   ]
  },
  {
   "cell_type": "markdown",
   "metadata": {},
   "source": [
    "Próxima ferramenta| Probabilidade\n",
    "-|-\n",
    "A | 34.75%\n",
    "T | 23.4%\n",
    "S | 41.13%\n",
    "F | 0.71%"
   ]
  },
  {
   "cell_type": "markdown",
   "metadata": {},
   "source": [
    "Verificamos que a ferramenta de busca é a mais utilizada, o que indica que o agente entendeu a necessidade de buscar informações sobre a pergunta; seguinda pela de resposta, que obrigatoriamente aparece uma vez em todas as sequências; e por fim pela ferramenta de pensamento, que tem utilidade questionável pelos dados de acurácia."
   ]
  },
  {
   "cell_type": "markdown",
   "metadata": {},
   "source": [
    "### Exemplos de contextos\n",
    "\n",
    "Nesta seçãoa analisaremos casos específicos de sequências de ferramentas, comparando com o contexto:"
   ]
  },
  {
   "cell_type": "code",
   "execution_count": 44,
   "metadata": {},
   "outputs": [],
   "source": [
    "def print_context(index:int):\n",
    "    '''\n",
    "    Prints the result context.\n",
    "\n",
    "    Args:\n",
    "        index (int): question context to print.\n",
    "    '''\n",
    "    for line in all_results[index][\"context\"].split(\"\\n\"):\n",
    "        first = line.split(\" \")[0]\n",
    "        if first in [\"Thought:\"]:\n",
    "            print(line)\n",
    "        elif first in [\"Question:\", \"Think\"]:\n",
    "            print(line+\"\\n\")\n",
    "        elif first in [\"Search\"]:\n",
    "            print(\"SEARCH RESULT\\n\")\n",
    "\n",
    "def print_answers(index:int):\n",
    "    '''\n",
    "    Prints the result answer.\n",
    "\n",
    "    Args:\n",
    "        index (int): question to print the answer.\n",
    "    '''\n",
    "    print(\"Answer:\", all_results[index][\"answer\"], \"| Correct:\", all_results[index][\"gold_answer\"])\n",
    "\n",
    "def print_separator():\n",
    "    print(\"-\"*10)"
   ]
  },
  {
   "cell_type": "markdown",
   "metadata": {},
   "source": [
    "#### RSRTRSRTA\n",
    "\n",
    "Existem dois casos com esta sequência, ambos incorretos:"
   ]
  },
  {
   "cell_type": "code",
   "execution_count": 41,
   "metadata": {},
   "outputs": [
    {
     "name": "stdout",
     "output_type": "stream",
     "text": [
      "Question: How long had the Perthshire Regiment been a going concern for when Harison joined it as a captain?\n",
      "\n",
      "Thought: I need to find information related to the Perthshire Regiment and its history to answer this question.\n",
      "SEARCH RESULT\n",
      "\n",
      "Thought: I have some historical information about the 73rd (Perthshire) Regiment of Foot, but I need to think about how this information can be used to answer the question about how long the regiment had been a going concern when Harison joined it as a captain.\n",
      "Think result: After reviewing the historical context of the Perthshire Regiment, it is unclear when exactly Harison joined the regiment as a captain, which makes it difficult to determine how long the regiment had been a going concern at that time. Further information about Harison's timeline is needed to answer this question accurately.\n",
      "\n",
      "Thought: I need more context about Harison's timeline to accurately determine how long the Perthshire Regiment had been a going concern when he joined it as a captain.\n",
      "SEARCH RESULT\n",
      "\n",
      "Thought: I have the historical context of the Perthshire Regiment and Harison's timeline, now I need to think about how this information can be used to answer the question about how long the regiment had been a going concern when Harison joined it as a captain.\n",
      "Think result: After reviewing the historical context of the Perthshire Regiment and Harison's timeline, it is clear that Harison joined the regiment as a captain in 1849. Since the regiment was formed in 1786, it had been in existence for approximately 63 years when Harison joined it.\n",
      "\n",
      "Thought: Now I need to provide a concise answer to the original question.\n"
     ]
    }
   ],
   "source": [
    "print_context(26)"
   ]
  },
  {
   "cell_type": "code",
   "execution_count": 42,
   "metadata": {},
   "outputs": [
    {
     "name": "stdout",
     "output_type": "stream",
     "text": [
      "Question: How much behind did the was the bronze medalist from the gold medalist?\n",
      "\n",
      "Thought: I need to search for documents that contain information about Olympic medals and their corresponding times or positions.\n",
      "SEARCH RESULT\n",
      "\n",
      "Thought: The search results didn't provide a clear answer to the question, but it provided some information about Olympic medals. I need to think about the context and reflect on what could be useful to find the answer.\n",
      "Think result: The provided information is about Olympic medals, specifically discussing ice hockey and the history of the Olympic games. While it does not provide a direct answer to the question of how much behind the bronze medalist was from the gold medalist, it highlights the importance of understanding the context of the Olympic games and medals. Perhaps, searching for more specific information about Olympic event timings or scores could provide a clearer answer. Additionally, considering the historical context and the lack of specific information, it might be necessary to rephrase the question or provide more details about the specific event or Olympic game being referred to.\n",
      "\n",
      "Thought: I need to use the search tool to find more specific information about Olympic event timings or scores, which could provide a clearer answer to the original question.\n",
      "SEARCH RESULT\n",
      "\n",
      "Thought: I need to carefully consider the search results, think about the context, and try to find the answer to the original question.\n",
      "Think result: The search results provided a wealth of information about Olympic medals and events, but did not directly answer the question of how much behind the bronze medalist was from the gold medalist. However, they highlighted the importance of considering the context of the Olympic games and medals. To find a clearer answer, it might be necessary to rephrase the question or provide more details about the specific event or Olympic game being referred to. Additionally, searching for more specific information about Olympic event timings or scores could provide a clearer answer.\n",
      "\n",
      "Thought: Now I need to provide a concise answer to the original question.\n"
     ]
    }
   ],
   "source": [
    "print_context(44)"
   ]
  },
  {
   "cell_type": "markdown",
   "metadata": {},
   "source": [
    "Com estas duas sequências, o primeiro caso indica uma falha em si do agente, enquanto que na segunda ele não obteve as informações necessárias para respoder a questão."
   ]
  },
  {
   "cell_type": "markdown",
   "metadata": {},
   "source": [
    "#### RSRTRSRSA\n",
    "\n",
    "Neste caso existe apenas uma sequência, também com resposta incorreta:"
   ]
  },
  {
   "cell_type": "code",
   "execution_count": 43,
   "metadata": {},
   "outputs": [
    {
     "name": "stdout",
     "output_type": "stream",
     "text": [
      "Question: When was the company for which Tookey called a protest for founded?\n",
      "\n",
      "Thought: I'm not sure what company is referred to, so I need to search for more information.\n",
      "SEARCH RESULT\n",
      "\n",
      "Thought: After searching for more information, I have a lot of details about Tookey and his campaigns, but I still need to think about all this content to understand what company was referred to.\n",
      "Think result: I didn't find a specific company mentioned in the provided information. The text discusses Tookey's campaigns against certain films, like Crash and Life of Brian, but doesn't mention a company that he called a protest for. It seems that more context or information is needed to answer this question.\n",
      "\n",
      "Thought: After thinking about the previous content, I realized that I couldn't find a specific company mentioned in the text. Therefore, I need to search again with more context or information to answer the question.\n",
      "SEARCH RESULT\n",
      "\n",
      "Thought: I need to search again with more context or information to answer the question.\n",
      "SEARCH RESULT\n",
      "\n",
      "Thought: Now I need to provide a concise answer to the original question.\n"
     ]
    }
   ],
   "source": [
    "print_context(27)"
   ]
  },
  {
   "cell_type": "markdown",
   "metadata": {},
   "source": [
    "Neste caso, observamos que o agente não obteve informações úteis para responder a questão."
   ]
  },
  {
   "cell_type": "markdown",
   "metadata": {},
   "source": [
    "#### RSRSRA\n",
    "\n",
    "Duas sequências, ambas corretas:"
   ]
  },
  {
   "cell_type": "code",
   "execution_count": 44,
   "metadata": {},
   "outputs": [
    {
     "name": "stdout",
     "output_type": "stream",
     "text": [
      "Question: Which stadium where Brunt played can hold more people, The Hawthorns or White Hart Lane?\n",
      "\n",
      "Thought: I need to find information about the capacity of The Hawthorns and White Hart Lane stadiums\n",
      "SEARCH RESULT\n",
      "\n",
      "Thought: I need to find the capacity of The Hawthorns stadium to compare with the one of White Hart Lane and decide which one can hold more people\n",
      "SEARCH RESULT\n",
      "\n",
      "Thought: I have found the capacities of both stadiums, I need to compare them to find the answer\n"
     ]
    }
   ],
   "source": [
    "print_context(5)"
   ]
  },
  {
   "cell_type": "code",
   "execution_count": 45,
   "metadata": {},
   "outputs": [
    {
     "name": "stdout",
     "output_type": "stream",
     "text": [
      "Question: How much time had passed between Wilhelm's return to studies at Berlin and the birth of his son Friedrich?\n",
      "\n",
      "Thought: We need to find relevant information about Wilhelm's studies and his son Friedrich's birth, so we can calculate the time between them.\n",
      "SEARCH RESULT\n",
      "\n",
      "Thought: We've found some useful information about Wilhelm's studies at Berlin University, but we still need to find the birth date of his son Friedrich to calculate the time between them.\n",
      "SEARCH RESULT\n",
      "\n",
      "Thought: Now that we have found the birth date of Wilhelm's son Friedrich Max Müller, we can calculate the time between Wilhelm's return to studies at Berlin and the birth of his son.\n"
     ]
    }
   ],
   "source": [
    "print_context(8)"
   ]
  },
  {
   "cell_type": "markdown",
   "metadata": {},
   "source": [
    "Este é um caso particularmente interessante, onde o agente precisa realizar uma comparação entre dados, e consegue realizar corretamente a busca por eles antes de gerar uma resposta correta. Isso demonstra o potencial de dar agência ao modelo."
   ]
  },
  {
   "cell_type": "markdown",
   "metadata": {},
   "source": [
    "#### RSRA\n",
    "\n",
    "Nestes casos o agente considera que já possui informações suficientes logo após a primeira busca.\n",
    "\n"
   ]
  },
  {
   "cell_type": "markdown",
   "metadata": {},
   "source": [
    "O primeiro caso, correto, o agente rapidamente obtém a informação e responde:"
   ]
  },
  {
   "cell_type": "code",
   "execution_count": 49,
   "metadata": {},
   "outputs": [
    {
     "name": "stdout",
     "output_type": "stream",
     "text": [
      "Question: How old was Messe when the First World War started?\n",
      "\n",
      "Thought: I need to find information related to Pablo Messe and the First World War, so I'll use a search tool to find relevant documents.\n",
      "SEARCH RESULT\n",
      "\n",
      "Thought: I have retrieved relevant information about Giovanni Messe and the First World War, so I'll use an 'answer' tool to provide the final answer to the question.\n"
     ]
    }
   ],
   "source": [
    "print_context(2)"
   ]
  },
  {
   "cell_type": "markdown",
   "metadata": {},
   "source": [
    "Já os próximos dois casos são semelhantes, porém são corrigidas como incorretas. Elas são na verdade erros do corretor:"
   ]
  },
  {
   "cell_type": "code",
   "execution_count": 72,
   "metadata": {},
   "outputs": [
    {
     "name": "stdout",
     "output_type": "stream",
     "text": [
      "Question: In which Italian region did Pesce studied medicine?\n",
      "\n",
      "Thought: I want to find documents that might have information about Pesce's life and education, so I'll use the search tool to look for relevant information.\n",
      "SEARCH RESULT\n",
      "\n",
      "Thought: I have found the information I was looking for, which is the region where Pesce studied medicine, so I'll use the answer tool to provide the final answer to the question.\n",
      "----------\n",
      "Answer: Genoa | Correct: Liguria\n"
     ]
    }
   ],
   "source": [
    "print_context(10)\n",
    "print_separator()\n",
    "print_answers(10)"
   ]
  },
  {
   "cell_type": "markdown",
   "metadata": {},
   "source": [
    "Genoa é a capital da Liguria, sendo a resposta do modelo foi mais precisa do que a esperada pela questão, e o corretor não sabia dessa informação"
   ]
  },
  {
   "cell_type": "code",
   "execution_count": 73,
   "metadata": {},
   "outputs": [
    {
     "name": "stdout",
     "output_type": "stream",
     "text": [
      "Question: Which team won the first game in the 2004 National League Division Series?\n",
      "\n",
      "Thought: I don't have enough information to answer this question, I need to search for relevant documents.\n",
      "SEARCH RESULT\n",
      "\n",
      "Thought: I have all the necessary information to answer the question, now I can generate the answer.\n",
      "----------\n",
      "Answer: The St. Louis Cardinals won the first game in the 2004 National League Division Series. | Correct: Cardinals \n"
     ]
    }
   ],
   "source": [
    "print_context(30)\n",
    "print_separator()\n",
    "print_answers(30)"
   ]
  },
  {
   "cell_type": "markdown",
   "metadata": {},
   "source": [
    "O corretor não percebeu que \"St. Louis Cardinals\" é o nome completo do time \"Cardinals\""
   ]
  },
  {
   "cell_type": "markdown",
   "metadata": {},
   "source": [
    "Já o próximo caso incorreto mais uma vez mostra uma falha na busca por informações:"
   ]
  },
  {
   "cell_type": "code",
   "execution_count": 74,
   "metadata": {},
   "outputs": [
    {
     "name": "stdout",
     "output_type": "stream",
     "text": [
      "Question: How many years did the player who  top-scored for Turks and Caicos Islands during  the 2008 Standford 20/20 play for the team?\n",
      "\n",
      "Thought: I don't have enough information to provide a direct answer, so I need to search for related information.\n",
      "SEARCH RESULT\n",
      "\n",
      "Thought: I have all the information I need, and I can answer the question directly\n",
      "----------\n",
      "Answer: Unknown, as there is no information about the time period Donovan Anthony Matthews played for the team. | Correct: 1 year\n"
     ]
    }
   ],
   "source": [
    "print_context(14)\n",
    "print_separator()\n",
    "print_answers(14)"
   ]
  },
  {
   "cell_type": "markdown",
   "metadata": {},
   "source": [
    "### Corretor\n",
    "\n",
    "Analisando as respostas indicadas como corretas pelo corretor, apenas 1 questão não possui resposta inteiramente correta, que pede um levantamente de pessoas e universidades:"
   ]
  },
  {
   "cell_type": "code",
   "execution_count": 46,
   "metadata": {},
   "outputs": [
    {
     "name": "stdout",
     "output_type": "stream",
     "text": [
      "- Frank McPhee, Princeton\n",
      "- Bernie Flowers, Purdue\n",
      "- Eddie Bell, Pennsylvania\n",
      "- Tom Stolhandske, Texas\n",
      "- Tom Scott, Virginia\n",
      "- Joe Collier, Northwestern\n",
      "- Don Branby, Colorado\n",
      "- Buck Martin, Georgia Tech\n",
      "- Steve Mellinger, Kentucky\n",
      "- Ed Luke, Michigan State\n",
      "- Harry Babcock, Georgia\n",
      "\n"
     ]
    }
   ],
   "source": [
    "print(all_results[24][\"gold_answer\"])"
   ]
  },
  {
   "cell_type": "code",
   "execution_count": 47,
   "metadata": {},
   "outputs": [
    {
     "name": "stdout",
     "output_type": "stream",
     "text": [
      "Frank McPhee of Princeton, Bernie Flowers of Purdue, Eddie Bell of Pennsylvania, Tom Stolhandske of Texas, Tom Scott of Virginia, Joe Collier of Northwestern, Buck Martin of Georgia Tech, Steve Mellinger of Kentucky, and Ed Luke of Michigan State.\n"
     ]
    }
   ],
   "source": [
    "print(all_results[24][\"answer\"])"
   ]
  },
  {
   "cell_type": "markdown",
   "metadata": {},
   "source": [
    "Podemos obsevar que o agente levanta corretamente 9 das 11 pessoas necessárias, sendo uma resposta não interamente correta, mas também não interamente incorreta:\n",
    "\n",
    "Correto|Agente\n",
    "-|-\n",
    "Frank McPhee, Princeton | Frank McPhee of Princeton\n",
    "Bernie Flowers, Purdue | Bernie Flowers of Purdue\n",
    "Eddie Bell, Pennsylvania | Eddie Bell of Pennsylvania\n",
    "Tom Stolhandske, Texas | Tom Stolhandske of Texas\n",
    "Tom Scott, Virginia | Tom Scott of Virginia\n",
    "Joe Collier, Northwestern | Joe Collier of Northwestern\n",
    "Don Branby, Colorado | \n",
    "Buck Martin, Georgia Tech | Buck Martin of Georgia Tech \n",
    "Steve Mellinger, Kentucky | Steve Mellinger of Kentucky\n",
    "Ed Luke, Michigan State | Ed Luke of Michigan State  \n",
    "Harry Babcock, Georgia | "
   ]
  },
  {
   "cell_type": "markdown",
   "metadata": {},
   "source": [
    "## Conclusões\n",
    "\n",
    "Analisando de perto os contextos e respostas do modelo, é possível perceber uma necessidade de se aprimorar o processo de busca, que não consegue trazer todas as informações necessárias para o agente. \n",
    "\n",
    "Em seguida, uma necessidade de melhorar o corretor, que pode gerar falsos negativos. Mais testes são necessários para avaliar a corretude do corretor, e explorar outras possibilidades como dar também a pergunta ao corretor; porém, ele se mostra uma boa alternativa à pontuação exata, e possivelmente também ao score F1, por considerar de fato o que se deseja avaliar e ser mais explicável. Existe também a possibilidade de pedir ao corretor gerar raciocícios sobre a correção.\n",
    "\n",
    "A ferramenta de \"pensamento\" não demonstrou boa performance, embora seja necessário um teste de ablação para verificar de fato sua utilidade. O processo de gerar um pensamento sobre o uso da próxima ferramenta já adiciona este aspecto do artigo base, sendo que possivelmente esta ferramenta possa ser retirada."
   ]
  }
 ],
 "metadata": {
  "kernelspec": {
   "display_name": "Python 3",
   "language": "python",
   "name": "python3"
  },
  "language_info": {
   "codemirror_mode": {
    "name": "ipython",
    "version": 3
   },
   "file_extension": ".py",
   "mimetype": "text/x-python",
   "name": "python",
   "nbconvert_exporter": "python",
   "pygments_lexer": "ipython3",
   "version": "3.8.5"
  }
 },
 "nbformat": 4,
 "nbformat_minor": 2
}
