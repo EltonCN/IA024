{
 "cells": [
  {
   "cell_type": "code",
   "execution_count": 73,
   "metadata": {},
   "outputs": [],
   "source": [
    "import os\n",
    "import json\n",
    "import time\n",
    "import threading\n",
    "import unicodedata\n",
    "import collections\n",
    "import string\n",
    "import re\n",
    "import abc\n",
    "import warnings\n",
    "import collections\n",
    "from typing import Optional, Dict, Tuple\n",
    "\n",
    "import torch #spacy não carrega sem importar antes (??)\n",
    "import spacy\n",
    "import tqdm\n",
    "import groq\n",
    "from pyserini.search import SimpleSearcher\n",
    "import sentence_transformers\n",
    "import bs4\n",
    "import numpy as np\n",
    "import matplotlib.pyplot as plt"
   ]
  },
  {
   "cell_type": "markdown",
   "metadata": {},
   "source": [
    "## Preparação dos dados"
   ]
  },
  {
   "cell_type": "code",
   "execution_count": 2,
   "metadata": {},
   "outputs": [],
   "source": [
    "if not os.path.isdir(\"data\"):\n",
    "    os.mkdir(\"data\")\n",
    "\n",
    "if not os.path.isfile(\"data\\\\context_articles.json\"):\n",
    "    !curl -LO https://iirc-dataset.s3.us-west-2.amazonaws.com/context_articles.tar.gz\n",
    "    !move context_articles.tar.gz data\n",
    "    !tar -xf data/context_articles.tar.gz\n",
    "    !move context_articles.json data\n",
    "\n",
    "if not os.path.isfile(\"data\\\\iirc_test.json\"):\n",
    "    !curl -LO https://iirc-dataset.s3.us-west-2.amazonaws.com/iirc_test.json\n",
    "    !move iirc_test.json data"
   ]
  },
  {
   "cell_type": "code",
   "execution_count": 2,
   "metadata": {},
   "outputs": [],
   "source": [
    "file = open(\"data\\\\context_articles.json\", \"r\")\n",
    "articles = json.load(file)\n",
    "file.close()"
   ]
  },
  {
   "cell_type": "code",
   "execution_count": 3,
   "metadata": {},
   "outputs": [],
   "source": [
    "file = open(\"data\\\\iirc_test.json\", \"r\")\n",
    "test_data = json.load(file)\n",
    "file.close()"
   ]
  },
  {
   "cell_type": "code",
   "execution_count": 4,
   "metadata": {},
   "outputs": [],
   "source": [
    "n_question = 50"
   ]
  },
  {
   "cell_type": "markdown",
   "metadata": {},
   "source": [
    "@fabiograssiotto: remoção de tags HTML"
   ]
  },
  {
   "cell_type": "code",
   "execution_count": 5,
   "metadata": {},
   "outputs": [],
   "source": [
    "questions = []\n",
    "documents_titles = set()\n",
    "documents = []\n",
    "documents_not_found = set()\n",
    "\n",
    "for i in range(len(test_data)):\n",
    "    item = test_data[i]\n",
    "\n",
    "    name = item['title'].lower()\n",
    "    if name not in documents_titles:\n",
    "        text = item[\"text\"]\n",
    "        soup = bs4.BeautifulSoup(text, \"html.parser\")\n",
    "        clean_text = soup.get_text()\n",
    "\n",
    "        document = {\n",
    "                    \"title\": item['title'],\n",
    "                    \"content\": clean_text\n",
    "                }\n",
    "        \n",
    "        documents.append(document)\n",
    "        documents_titles |= {name}\n",
    "\n",
    "    for link in item[\"links\"]:\n",
    "        name : str = link['target'].lower()\n",
    "        if name in articles and name not in documents_titles:\n",
    "            text = articles[link['target'].lower()]\n",
    "            soup = bs4.BeautifulSoup(text, \"html.parser\")\n",
    "            clean_text = soup.get_text()\n",
    "            \n",
    "            document = {\n",
    "                \"title\": link['target'],\n",
    "                \"content\": clean_text\n",
    "            }\n",
    "\n",
    "            documents.append(document)\n",
    "            documents_titles |= {name}\n",
    "        \n",
    "        else:\n",
    "            documents_not_found |= {name}\n",
    "\n",
    "    for q in item[\"questions\"]:\n",
    "        question = {}\n",
    "        \n",
    "\n",
    "        if q[\"answer\"][\"type\"] == \"span\":\n",
    "            question[\"answer\"] = q[\"answer\"][\"answer_spans\"][0][\"text\"]\n",
    "        elif q[\"answer\"][\"type\"] == \"value\":\n",
    "            question[\"answer\"] = q[\"answer\"][\"answer_value\"]+\" \"+q[\"answer\"][\"answer_unit\"]\n",
    "        elif  q[\"answer\"][\"type\"] == \"none\":\n",
    "            continue\n",
    "        elif q[\"answer\"][\"type\"] == \"binary\":\n",
    "            question[\"answer\"] = q[\"answer\"][\"answer_value\"]\n",
    "        else:\n",
    "            raise ValueError\n",
    "        \n",
    "        question[\"question\"] = q[\"question\"]\n",
    "\n",
    "        questions.append(question)\n",
    "\n",
    "        if len(questions) == n_question:\n",
    "            break\n",
    "    if len(questions) == n_question:\n",
    "            break\n"
   ]
  },
  {
   "cell_type": "code",
   "execution_count": 7,
   "metadata": {},
   "outputs": [
    {
     "data": {
      "text/plain": [
       "(17, 419)"
      ]
     },
     "execution_count": 7,
     "metadata": {},
     "output_type": "execute_result"
    }
   ],
   "source": [
    "len(documents_not_found), len(documents)"
   ]
  },
  {
   "cell_type": "code",
   "execution_count": 8,
   "metadata": {},
   "outputs": [
    {
     "name": "stderr",
     "output_type": "stream",
     "text": [
      "100%|██████████| 419/419 [00:03<00:00, 129.78it/s]\n"
     ]
    }
   ],
   "source": [
    "nlp = spacy.blank(\"en\")\n",
    "nlp.add_pipe(\"sentencizer\")\n",
    "\n",
    "#12345\n",
    "#   45678\n",
    "stride = 3#2\n",
    "max_length = 5#3\n",
    "\n",
    "def window(documents, stride, max_length):\n",
    "    treated_documents = []\n",
    "\n",
    "    for j,document in enumerate(tqdm.tqdm(documents)):\n",
    "        doc_text = document['content']\n",
    "        doc = nlp(doc_text[:10000])\n",
    "        sentences = [sent.text.strip() for sent in doc.sents]\n",
    "        for i in range(0, len(sentences), stride):\n",
    "            segment = ' '.join(sentences[i:i + max_length])\n",
    "            treated_documents.append({\n",
    "                \"title\": document['title'],\n",
    "                \"contents\": document['title']+\". \"+segment,\n",
    "                \"segment\": segment\n",
    "            })\n",
    "            if i + max_length >= len(sentences):\n",
    "                break\n",
    "    return treated_documents\n",
    "\n",
    "treated_documents = window(documents, stride, max_length)"
   ]
  },
  {
   "cell_type": "code",
   "execution_count": 9,
   "metadata": {},
   "outputs": [],
   "source": [
    "if not os.path.isdir(\"data\\iirc_indices\"):\n",
    "    !mkdir data\\iirc_indices"
   ]
  },
  {
   "cell_type": "code",
   "execution_count": 10,
   "metadata": {},
   "outputs": [],
   "source": [
    "file = open(\"data/iirc_indices/contents.jsonl\",'w')\n",
    "\n",
    "for i, doc in enumerate(treated_documents):\n",
    "    doc['id'] = i\n",
    "    if doc['segment'] != \"\":\n",
    "        file.write(json.dumps(doc)+\"\\n\")"
   ]
  },
  {
   "cell_type": "code",
   "execution_count": 11,
   "metadata": {},
   "outputs": [
    {
     "name": "stdout",
     "output_type": "stream",
     "text": [
      "pyserini.index is deprecated, please use pyserini.index.lucene.\n",
      "WARNING: sun.reflect.Reflection.getCallerClass is not supported. This will impact performance.\n",
      "2024-05-14 15:05:18,277 INFO  [main] index.IndexCollection (IndexCollection.java:380) - Setting log level to INFO\n",
      "2024-05-14 15:05:18,280 INFO  [main] index.IndexCollection (IndexCollection.java:383) - Starting indexer...\n",
      "2024-05-14 15:05:18,280 INFO  [main] index.IndexCollection (IndexCollection.java:384) - ============ Loading Parameters ============\n",
      "2024-05-14 15:05:18,280 INFO  [main] index.IndexCollection (IndexCollection.java:385) - DocumentCollection path: data/iirc_indices\n",
      "2024-05-14 15:05:18,280 INFO  [main] index.IndexCollection (IndexCollection.java:386) - CollectionClass: JsonCollection\n",
      "2024-05-14 15:05:18,281 INFO  [main] index.IndexCollection (IndexCollection.java:387) - Generator: DefaultLuceneDocumentGenerator\n",
      "2024-05-14 15:05:18,281 INFO  [main] index.IndexCollection (IndexCollection.java:388) - Threads: 1\n",
      "2024-05-14 15:05:18,281 INFO  [main] index.IndexCollection (IndexCollection.java:389) - Language: en\n",
      "2024-05-14 15:05:18,281 INFO  [main] index.IndexCollection (IndexCollection.java:390) - Stemmer: porter\n",
      "2024-05-14 15:05:18,281 INFO  [main] index.IndexCollection (IndexCollection.java:391) - Keep stopwords? false\n",
      "2024-05-14 15:05:18,281 INFO  [main] index.IndexCollection (IndexCollection.java:392) - Stopwords: null\n",
      "2024-05-14 15:05:18,282 INFO  [main] index.IndexCollection (IndexCollection.java:393) - Store positions? false\n",
      "2024-05-14 15:05:18,282 INFO  [main] index.IndexCollection (IndexCollection.java:394) - Store docvectors? false\n",
      "2024-05-14 15:05:18,282 INFO  [main] index.IndexCollection (IndexCollection.java:395) - Store document \"contents\" field? false\n",
      "2024-05-14 15:05:18,283 INFO  [main] index.IndexCollection (IndexCollection.java:396) - Store document \"raw\" field? true\n",
      "2024-05-14 15:05:18,283 INFO  [main] index.IndexCollection (IndexCollection.java:397) - Additional fields to index: []\n",
      "2024-05-14 15:05:18,283 INFO  [main] index.IndexCollection (IndexCollection.java:398) - Optimize (merge segments)? false\n",
      "2024-05-14 15:05:18,283 INFO  [main] index.IndexCollection (IndexCollection.java:399) - Whitelist: null\n",
      "2024-05-14 15:05:18,284 INFO  [main] index.IndexCollection (IndexCollection.java:400) - Pretokenized?: false\n",
      "2024-05-14 15:05:18,284 INFO  [main] index.IndexCollection (IndexCollection.java:401) - Index path: data/iirc_index\n",
      "2024-05-14 15:05:18,289 INFO  [main] index.IndexCollection (IndexCollection.java:481) - ============ Indexing Collection ============\n",
      "2024-05-14 15:05:18,302 INFO  [main] index.IndexCollection (IndexCollection.java:468) - Using DefaultEnglishAnalyzer\n",
      "2024-05-14 15:05:18,302 INFO  [main] index.IndexCollection (IndexCollection.java:469) - Stemmer: porter\n",
      "2024-05-14 15:05:18,302 INFO  [main] index.IndexCollection (IndexCollection.java:470) - Keep stopwords? false\n",
      "2024-05-14 15:05:18,302 INFO  [main] index.IndexCollection (IndexCollection.java:471) - Stopwords file: null\n",
      "2024-05-14 15:05:18,458 INFO  [main] index.IndexCollection (IndexCollection.java:510) - Thread pool with 1 threads initialized.\n",
      "2024-05-14 15:05:18,458 INFO  [main] index.IndexCollection (IndexCollection.java:512) - Initializing collection in data\\iirc_indices\n",
      "2024-05-14 15:05:18,462 INFO  [main] index.IndexCollection (IndexCollection.java:521) - 1 file found\n",
      "2024-05-14 15:05:18,462 INFO  [main] index.IndexCollection (IndexCollection.java:522) - Starting to index...\n",
      "2024-05-14 15:05:19,724 DEBUG [pool-2-thread-1] index.IndexCollection$LocalIndexerThread (IndexCollection.java:345) - iirc_indices\\contents.jsonl: 7038 docs added.\n",
      "2024-05-14 15:05:20,064 INFO  [main] index.IndexCollection (IndexCollection.java:578) - Indexing Complete! 7.038 documents indexed\n",
      "2024-05-14 15:05:20,065 INFO  [main] index.IndexCollection (IndexCollection.java:579) - ============ Final Counter Values ============\n",
      "2024-05-14 15:05:20,065 INFO  [main] index.IndexCollection (IndexCollection.java:580) - indexed:            7.038\n",
      "2024-05-14 15:05:20,065 INFO  [main] index.IndexCollection (IndexCollection.java:581) - unindexable:            0\n",
      "2024-05-14 15:05:20,066 INFO  [main] index.IndexCollection (IndexCollection.java:582) - empty:                  0\n",
      "2024-05-14 15:05:20,066 INFO  [main] index.IndexCollection (IndexCollection.java:583) - skipped:                0\n",
      "2024-05-14 15:05:20,066 INFO  [main] index.IndexCollection (IndexCollection.java:584) - errors:                 0\n",
      "2024-05-14 15:05:20,073 INFO  [main] index.IndexCollection (IndexCollection.java:587) - Total 7.038 documents indexed in 00:00:01\n"
     ]
    }
   ],
   "source": [
    "!python -m pyserini.index -collection JsonCollection -generator DefaultLuceneDocumentGenerator -threads 1 -input data/iirc_indices -index data/iirc_index -storeRaw"
   ]
  },
  {
   "cell_type": "code",
   "execution_count": 6,
   "metadata": {},
   "outputs": [],
   "source": [
    "index_path = \"./data/iirc_index\""
   ]
  },
  {
   "cell_type": "markdown",
   "metadata": {},
   "source": [
    "## Groq API"
   ]
  },
  {
   "cell_type": "code",
   "execution_count": 7,
   "metadata": {},
   "outputs": [],
   "source": [
    "class GroqInterface:\n",
    "    '''\n",
    "    Interface for using the Groq API\n",
    "\n",
    "    Implements a rate limit control for multi-threading use. \n",
    "    '''\n",
    "\n",
    "    _client :groq.Groq = None \n",
    "\n",
    "    LLAMA3_70B = \"llama3-70b-8192\"\n",
    "\n",
    "    inference_lock = threading.Lock()\n",
    "    time_waiter_lock = threading.Lock()\n",
    "    SINGLE_THREAD = True\n",
    "\n",
    "    def __init__(self, model:Optional[str]=None, api_key:Optional[str]=None, json_mode:bool=False, system_message:str=None, n_retry:int=5):\n",
    "        '''\n",
    "        GroqInterface constructor.\n",
    "\n",
    "        Args:\n",
    "            model (str, optional): model to use. Llama3 70B is used if None. Default is None\n",
    "        '''\n",
    "        \n",
    "        if GroqInterface._client is None:\n",
    "\n",
    "            if api_key is None:\n",
    "                api_key = os.environ.get(\"GROQ_API_KEY\")\n",
    "\n",
    "            if api_key is None:\n",
    "                raise RuntimeError(\"API key is not in the environment variables ('GROQ_API_KEY' variable is not set).\")\n",
    "\n",
    "            GroqInterface._client = groq.Groq(api_key=api_key)\n",
    "\n",
    "        if model is None:\n",
    "            model = GroqInterface.LLAMA3_70B\n",
    "        self._model = model\n",
    "\n",
    "        self._system_message = system_message\n",
    "\n",
    "\n",
    "        if json_mode:\n",
    "            self._response_format = {\"type\": \"json_object\"}\n",
    "        else:\n",
    "            self._response_format = None\n",
    "        self._json_mode = json_mode\n",
    "\n",
    "        self._n_retry = n_retry\n",
    "\n",
    "    def __call__(self, prompt:str) -> str:\n",
    "        '''\n",
    "        Generates the model response\n",
    "\n",
    "        Args:\n",
    "            prompt (str): prompt to send to the model.\n",
    "\n",
    "        Returns:\n",
    "            str: model response. \n",
    "        '''\n",
    "        done = False\n",
    "        retry_count = 0\n",
    "        while not done:\n",
    "            try:\n",
    "                if not GroqInterface.SINGLE_THREAD:\n",
    "                    GroqInterface.inference_lock.acquire()\n",
    "                    GroqInterface.inference_lock.release()\n",
    "\n",
    "                messages = []\n",
    "                if self._system_message is not None:\n",
    "                    messages.append({\"role\":\"system\", \"content\":self._system_message})\n",
    "                \n",
    "                messages.append({\"role\":\"user\", \"content\":prompt})\n",
    "\n",
    "                chat_completion = GroqInterface._client.chat.completions.create(\n",
    "                        messages=messages,\n",
    "                        model=self._model,\n",
    "                        response_format=self._response_format\n",
    "                    )\n",
    "                \n",
    "                done = True\n",
    "            except groq.RateLimitError as exception:\n",
    "                print(\"ERROR\")\n",
    "                print(exception)\n",
    "                \n",
    "                GroqInterface.error = exception\n",
    "                if not GroqInterface.SINGLE_THREAD:\n",
    "                    if not GroqInterface.time_waiter_lock.locked():\n",
    "                        GroqInterface.time_waiter_lock.acquire()\n",
    "                        GroqInterface.inference_lock.acquire()\n",
    "                        time.sleep(2)\n",
    "                        GroqInterface.time_waiter_lock.release()\n",
    "                        GroqInterface.inference_lock.release()\n",
    "                else:\n",
    "                    time.sleep(2)\n",
    "            except KeyboardInterrupt as e:\n",
    "                raise e\n",
    "                \n",
    "            except Exception as e:\n",
    "                retry_count += 1\n",
    "                if retry_count >= self._n_retry:\n",
    "                    raise e\n",
    "\n",
    "        return chat_completion.choices[0].message.content"
   ]
  },
  {
   "cell_type": "code",
   "execution_count": 8,
   "metadata": {},
   "outputs": [],
   "source": [
    "groq_interface = GroqInterface()"
   ]
  },
  {
   "cell_type": "code",
   "execution_count": 15,
   "metadata": {},
   "outputs": [
    {
     "data": {
      "text/plain": [
       "\"Hi! It's nice to meet you. Is there something I can help you with or would you like to chat?\""
      ]
     },
     "execution_count": 15,
     "metadata": {},
     "output_type": "execute_result"
    }
   ],
   "source": [
    "groq_interface(\"Hi!\")"
   ]
  },
  {
   "cell_type": "markdown",
   "metadata": {},
   "source": [
    "## Métrica"
   ]
  },
  {
   "cell_type": "code",
   "execution_count": 9,
   "metadata": {},
   "outputs": [],
   "source": [
    "class GroqAnswerEvaluator(GroqInterface):\n",
    "\n",
    "    _system_message = '''You are a answer comparator that outputs in JSON. \n",
    "The JSON object must use the schema: {'is_correct':'bool'}\n",
    "Please use a valid JSON format.'''\n",
    "\n",
    "    _base_prompt = '''Is the second answer correct, comparing to the first one? \n",
    "First answer: {answer_correct}\n",
    "Second answer: {answer} \n",
    "'''\n",
    "\n",
    "    def __init__(self, model: Optional[str] = None, api_key: Optional[str]=None):\n",
    "        super().__init__(model, api_key, True, GroqAnswerEvaluator._system_message)\n",
    "\n",
    "    def __call__(self, answer_correct:str, answer:str) -> int:\n",
    "\n",
    "        prompt = GroqAnswerEvaluator._base_prompt.format(answer_correct=answer_correct, answer=answer)\n",
    "\n",
    "        response = super().__call__(prompt)\n",
    "        response = json.loads(response)\n",
    "\n",
    "        return response[\"is_correct\"]"
   ]
  },
  {
   "cell_type": "code",
   "execution_count": 10,
   "metadata": {},
   "outputs": [],
   "source": [
    "a_gold = \"sky and thunder god\"\n",
    "a_correct = \"Zeus is known as the king of the gods and the god of the sky and thunder in Greek mythology.\"\n",
    "a_wrong = \"Zeus is been depicted as using violence to get his way and terrorize humans.\""
   ]
  },
  {
   "cell_type": "code",
   "execution_count": 11,
   "metadata": {},
   "outputs": [],
   "source": [
    "groq_corrector = GroqAnswerEvaluator()"
   ]
  },
  {
   "cell_type": "code",
   "execution_count": 19,
   "metadata": {},
   "outputs": [
    {
     "data": {
      "text/plain": [
       "(True, False)"
      ]
     },
     "execution_count": 19,
     "metadata": {},
     "output_type": "execute_result"
    }
   ],
   "source": [
    "groq_corrector(a_gold, a_correct), groq_corrector(a_gold, a_wrong),"
   ]
  },
  {
   "cell_type": "code",
   "execution_count": 12,
   "metadata": {},
   "outputs": [],
   "source": [
    "def normalize_answer(s):\n",
    "  \"\"\"Lower text and remove punctuation, articles and extra whitespace.\"\"\"\n",
    "  def remove_articles(text):\n",
    "    regex = re.compile(r'\\b(a|an|the)\\b', re.UNICODE)\n",
    "    return re.sub(regex, ' ', text)\n",
    "  def white_space_fix(text):\n",
    "    return ' '.join(text.split())\n",
    "  def remove_punc(text):\n",
    "    exclude = set(string.punctuation)\n",
    "    return ''.join(ch for ch in text if ch not in exclude)\n",
    "  def lower(text):\n",
    "    return text.lower()\n",
    "  def remove_accents(input_str):\n",
    "      nfkd_form = unicodedata.normalize('NFKD', input_str)\n",
    "      only_ascii = nfkd_form.encode('ASCII', 'ignore')\n",
    "      return only_ascii.decode(\"utf-8\")\n",
    "\n",
    "  return white_space_fix(remove_articles(remove_punc(lower(remove_accents(s)))))\n",
    "\n",
    "def get_tokens(s):\n",
    "  if not s: return []\n",
    "  return normalize_answer(s).split()\n",
    "\n",
    "def compute_exact(a_gold, a_pred):\n",
    "  return int(normalize_answer(a_gold) == normalize_answer(a_pred))\n",
    "\n",
    "def compute_f1(a_gold, a_pred):\n",
    "  gold_toks = get_tokens(a_gold)\n",
    "  pred_toks = get_tokens(a_pred)\n",
    "  common = collections.Counter(gold_toks) & collections.Counter(pred_toks)\n",
    "  num_same = sum(common.values())\n",
    "  if len(gold_toks) == 0 or len(pred_toks) == 0:\n",
    "    # If either is no-answer, then F1 is 1 if they agree, 0 otherwise\n",
    "    return int(gold_toks == pred_toks)\n",
    "  if num_same == 0:\n",
    "    return 0\n",
    "  precision = 1.0 * num_same / len(pred_toks)\n",
    "  recall = 1.0 * num_same / len(gold_toks)\n",
    "  f1 = (2 * precision * recall) / (precision + recall)\n",
    "  return f1"
   ]
  },
  {
   "cell_type": "code",
   "execution_count": 21,
   "metadata": {},
   "outputs": [
    {
     "data": {
      "text/plain": [
       "(0.4, 0)"
      ]
     },
     "execution_count": 21,
     "metadata": {},
     "output_type": "execute_result"
    }
   ],
   "source": [
    "compute_f1(a_gold, a_correct), compute_exact(a_gold, a_correct)"
   ]
  },
  {
   "cell_type": "code",
   "execution_count": 22,
   "metadata": {},
   "outputs": [
    {
     "data": {
      "text/plain": [
       "(0.11111111111111112, 0)"
      ]
     },
     "execution_count": 22,
     "metadata": {},
     "output_type": "execute_result"
    }
   ],
   "source": [
    "compute_f1(a_gold, a_wrong), compute_exact(a_gold, a_wrong)"
   ]
  },
  {
   "cell_type": "markdown",
   "metadata": {},
   "source": [
    "## Implementação do ReAct "
   ]
  },
  {
   "cell_type": "markdown",
   "metadata": {},
   "source": [
    "### Ferramentas"
   ]
  },
  {
   "cell_type": "code",
   "execution_count": 13,
   "metadata": {},
   "outputs": [],
   "source": [
    "class Tool(abc.ABC):\n",
    "\n",
    "    @abc.abstractmethod\n",
    "    def __call__(self, query:str, context:str):\n",
    "        ..."
   ]
  },
  {
   "cell_type": "code",
   "execution_count": 14,
   "metadata": {},
   "outputs": [],
   "source": [
    "class SearchTool(Tool):\n",
    "\n",
    "    def __init__(self, index_path:str, embedder_model:str=\"all-MiniLM-L6-v2\", search_k:int=20, rerank_k:int=5):\n",
    "        self.embedder = sentence_transformers.SentenceTransformer(embedder_model)\n",
    "        self.searcher = SimpleSearcher(index_path)\n",
    "\n",
    "        if search_k < rerank_k:\n",
    "            warnings.warn(f\"search_k is less than rerank_k. The result will be of search_k size. ({search_k} < {rerank_k})\")\n",
    "        \n",
    "        self.search_k = search_k\n",
    "        self.rerank_k = rerank_k\n",
    "    \n",
    "    def __call__(self, query:str, context=None) -> Dict[str, str]:\n",
    "        query_embedding = self.embedder.encode(query, convert_to_tensor=True)\n",
    "\n",
    "        search_result = self.searcher.search(query, k=self.search_k)\n",
    "        search_docs = []\n",
    "        for result in search_result:\n",
    "            result = json.loads(result.raw)\n",
    "\n",
    "            search_docs.append(result[\"segment\"])\n",
    "\n",
    "        search_embeddings = self.embedder.encode(search_docs, convert_to_tensor=True)\n",
    "\n",
    "\n",
    "        rerank_result = sentence_transformers.util.semantic_search(query_embedding, search_embeddings, top_k=self.rerank_k)\n",
    "\n",
    "        response = \"\"\n",
    "        for result in rerank_result[0]:\n",
    "            index = result[\"corpus_id\"]\n",
    "            result_doc = search_docs[index]\n",
    "\n",
    "            response += result_doc + \"\\n\"\n",
    "        \n",
    "        response = {\"result\":response}\n",
    "\n",
    "\n",
    "        return response"
   ]
  },
  {
   "cell_type": "code",
   "execution_count": 15,
   "metadata": {},
   "outputs": [],
   "source": [
    "class AnswerTool(Tool, GroqInterface):\n",
    "    _system_message = '''You are a question answerer that outputs in JSON. \n",
    "The JSON object must use the schema: {'answer':'str'}\n",
    "Please use a valid JSON format.'''\n",
    "\n",
    "    _base_prompt = '''{context}\n",
    "\n",
    "Considering all this context, provide the FINAL ANSWER to the question:\n",
    "'''\n",
    "\n",
    "    def __init__(self, model: Optional[str] = None, api_key: Optional[str] = None):\n",
    "        super().__init__(model, api_key, True, AnswerTool._system_message)\n",
    "\n",
    "    def __call__(self, query: Optional[str]=None, context: str=None):\n",
    "        prompt = AnswerTool._base_prompt.format(context=context)\n",
    "\n",
    "        return json.loads(GroqInterface.__call__(self, prompt=prompt))"
   ]
  },
  {
   "cell_type": "code",
   "execution_count": 16,
   "metadata": {},
   "outputs": [],
   "source": [
    "class ThinkTool(Tool, GroqInterface):\n",
    "    _system_message = '''You are responsible for reflecting on provided information, and outputs in JSON. \n",
    "The JSON object must use the schema: {'reflection':'str'}\n",
    "Please use a valid JSON format.'''\n",
    "\n",
    "    _base_prompt = '''{context}\n",
    "\n",
    "Considering all this context, provide a useful reflection.\n",
    "'''\n",
    "\n",
    "    def __init__(self, model: Optional[str] = None, api_key: Optional[str] = None):\n",
    "        super().__init__(model, api_key, True, ThinkTool._system_message)\n",
    "\n",
    "    def __call__(self, query: Optional[str]=None, context: str=None):\n",
    "        prompt = ThinkTool._base_prompt.format(context=context)\n",
    "\n",
    "        return json.loads(GroqInterface.__call__(self, prompt=prompt))    "
   ]
  },
  {
   "cell_type": "code",
   "execution_count": 17,
   "metadata": {},
   "outputs": [],
   "source": [
    "class RoutingTool(Tool, GroqInterface):\n",
    "    _system_message = '''You are a tool selector that outputs in JSON.\n",
    "For each selection, you must provide a throught about the previous content and why you are selecting this tool.\n",
    "\n",
    "You have available the following tools:\n",
    "\n",
    "Name: 'search'\n",
    "Query content: the sentence to search\n",
    "Tool description: it searchs for documents with possible usefull information using the query.\n",
    "\n",
    "Name: 'answer'\n",
    "Query content: empty (''), is not used.\n",
    "Tool description: considering the previous content, provides the final answer for the question.\n",
    "\n",
    "Name: 'think'\n",
    "Query content: empty (''), is not used;\n",
    "Tool descripting: considering the previous content, generates a useful reflection.\n",
    "\n",
    "The JSON object must use the schema: {'throught':'str',\n",
    "'tool_name':'str',\n",
    "'query':'str'}\n",
    "\n",
    "Please use a valid JSON format.'''\n",
    "\n",
    "    _base_prompt = '''{context}\n",
    "    \n",
    "Considering all this context, select the next tool to use:\n",
    "    '''\n",
    "\n",
    "    def __init__(self, model: Optional[str] = None, api_key: Optional[str] = None):\n",
    "        super().__init__(model, api_key, True, RoutingTool._system_message)\n",
    "\n",
    "    def __call__(self, query=None, context=None):\n",
    "        prompt = RoutingTool._base_prompt.format(context=context)\n",
    "\n",
    "        \n",
    "\n",
    "        return json.loads(GroqInterface.__call__(self, prompt=prompt))"
   ]
  },
  {
   "cell_type": "code",
   "execution_count": 23,
   "metadata": {},
   "outputs": [],
   "source": [
    "test_question = \"What is Zeus know for in Greek mythology?\""
   ]
  },
  {
   "cell_type": "code",
   "execution_count": 18,
   "metadata": {},
   "outputs": [
    {
     "name": "stdout",
     "output_type": "stream",
     "text": [
      "SimpleSearcher class has been deprecated, please use LuceneSearcher from pyserini.search.lucene instead\n"
     ]
    }
   ],
   "source": [
    "search_tool = SearchTool(index_path)\n"
   ]
  },
  {
   "cell_type": "code",
   "execution_count": 19,
   "metadata": {},
   "outputs": [],
   "source": [
    "answer_tool = AnswerTool()\n",
    "think_tool = ThinkTool()\n",
    "\n",
    "routing_tool = RoutingTool()"
   ]
  },
  {
   "cell_type": "code",
   "execution_count": 30,
   "metadata": {},
   "outputs": [
    {
     "data": {
      "text/plain": [
       "{'thought': 'The user has asked a question about Greek mythology, I need to find relevant information.',\n",
       " 'tool_name': 'search',\n",
       " 'query': 'What is Zeus known for in Greek mythology?'}"
      ]
     },
     "execution_count": 30,
     "metadata": {},
     "output_type": "execute_result"
    }
   ],
   "source": [
    "test_context = f'''Question: {test_question}'''\n",
    "\n",
    "routing_tool(context=test_context)"
   ]
  },
  {
   "cell_type": "code",
   "execution_count": 31,
   "metadata": {},
   "outputs": [],
   "source": [
    "search_result = search_tool(\"Zeus Greek mythology\", \"\")"
   ]
  },
  {
   "cell_type": "code",
   "execution_count": 43,
   "metadata": {},
   "outputs": [
    {
     "name": "stdout",
     "output_type": "stream",
     "text": [
      "Zeus (British English , North American English ; , Zeús ) is the sky and thunder god in ancient Greek religion, who rules as king of the gods of Mount Olympus. His name is cognate with the first element of his Roman equivalent Jupiter. His mythologies and powers are similar, though not identical, to those of Indo-European deities such as Jupiter, Perkūnas, Perun, Indra and Thor. Zeus is the child of Cronus and Rhea, the youngest of his siblings to be born, though sometimes reckoned the eldest as the others required disgorging from Cronus's stomach. In most traditions, he is married to Hera, by whom he is usually said to have fathered Ares, Hebe, and Hephaestus.\n",
      "Since lightning is quite powerful and sometimes deadly, it is a bold sign when lightning strikes because it is known that Zeus most likely threw the bolt. In the Iliad. The Iliad is a poem by Homer about the Trojan war and the battle over the City of Troy, in which Zeus plays a major part. Scenes in which Zeus appears include:\n",
      "\n",
      "- Book 2: Zeus sends Agamemnon a dream and is able to partially control his decisions because of the effects of the dream\n",
      "- Book 4: Zeus promises Hera to ultimately destroy the City of Troy at the end of the war\n",
      "- Book 7: Zeus and Poseidon ruin the Achaeans fortress\n",
      "- Book 8: Zeus prohibits the other Gods from fighting each other and has to return to Mount Ida where he can think over his decision that the Greeks will lose the war\n",
      "- Book 14: Zeus is seduced by Hera and becomes distracted while she helps out the Greeks\n",
      "- Book 15: Zeus wakes up and realizes that Poseidon his own brother has been helping out the Greeks, while also sending Hector and Apollo to help fight the Trojans ensuring that the City of Troy will fall\n",
      "- Book 16: Zeus is upset that he couldn't help save Sarpedon's life because it would then contradict his previous decisions\n",
      "- Book 17: Zeus is emotionally hurt by the fate of Hector\n",
      "- Book 20: Zeus lets the other Gods help out their respective sides in the war\n",
      "- Book 24: Zeus demands that Achilles release the corpse of Hector to be buried honourably\n",
      "\n",
      "List of other deeds.- Zeus granted Callirrhoe's prayer that her sons by Alcmaeon, Acarnan and Amphoterus, grow quickly so that they might be able to avenger the death of their father by the hands of Phegeus and his two sons. - He unsuccessfully wooed Thetis, daughter of Nereus.\n",
      "Scenes in which Zeus appears include:\n",
      "\n",
      "- Book 2: Zeus sends Agamemnon a dream and is able to partially control his decisions because of the effects of the dream\n",
      "- Book 4: Zeus promises Hera to ultimately destroy the City of Troy at the end of the war\n",
      "- Book 7: Zeus and Poseidon ruin the Achaeans fortress\n",
      "- Book 8: Zeus prohibits the other Gods from fighting each other and has to return to Mount Ida where he can think over his decision that the Greeks will lose the war\n",
      "- Book 14: Zeus is seduced by Hera and becomes distracted while she helps out the Greeks\n",
      "- Book 15: Zeus wakes up and realizes that Poseidon his own brother has been helping out the Greeks, while also sending Hector and Apollo to help fight the Trojans ensuring that the City of Troy will fall\n",
      "- Book 16: Zeus is upset that he couldn't help save Sarpedon's life because it would then contradict his previous decisions\n",
      "- Book 17: Zeus is emotionally hurt by the fate of Hector\n",
      "- Book 20: Zeus lets the other Gods help out their respective sides in the war\n",
      "- Book 24: Zeus demands that Achilles release the corpse of Hector to be buried honourably\n",
      "\n",
      "List of other deeds.- Zeus granted Callirrhoe's prayer that her sons by Alcmaeon, Acarnan and Amphoterus, grow quickly so that they might be able to avenger the death of their father by the hands of Phegeus and his two sons. - He unsuccessfully wooed Thetis, daughter of Nereus. Zeus and Hera. Zeus was brother and consort of Hera. By Hera, Zeus sired Ares, Hebe and Hephaestus, though some accounts say that Hera produced these offspring alone.\n",
      "He was equated with many foreign weather gods, permitting Pausanias to observe \"That Zeus is king in heaven is a saying common to all men\". Zeus' symbols are the thunderbolt, eagle, bull, and oak. In addition to his Indo-European inheritance, the classical \"cloud-gatherer\" (Greek: , Nephelēgereta) also derives certain iconographic traits from the cultures of the ancient Near East, such as the scepter. Zeus is frequently depicted by Greek artists in one of two poses: standing, striding forward with a thunderbolt leveled in his raised right hand, or seated in majesty. Name.\n",
      "Greek mythology is known today primarily from Greek literature and representations on visual media dating from the Geometric period from to onward. In fact, literary and archaeological sources integrate, sometimes mutually supportive and sometimes in conflict; however, in many cases, the existence of this corpus of data is a strong indication that many elements of Greek mythology have strong factual and historical roots. Literary sources. Mythical narration plays an important role in nearly every genre of Greek literature. Nevertheless, the only general mythographical handbook to survive from Greek antiquity was the Library of Pseudo-Apollodorus.\n",
      "\n"
     ]
    }
   ],
   "source": [
    "print(search_result[\"result\"])"
   ]
  },
  {
   "cell_type": "code",
   "execution_count": 32,
   "metadata": {},
   "outputs": [
    {
     "data": {
      "text/plain": [
       "{'thought': 'Now that I have searched and found information about Zeus in Greek mythology, I can reflect on the key points to understand the essence of his character and significance.',\n",
       " 'tool_name': 'think',\n",
       " 'query': ''}"
      ]
     },
     "execution_count": 32,
     "metadata": {},
     "output_type": "execute_result"
    }
   ],
   "source": [
    "test_context2 = f'''\n",
    "Question: {test_question}\n",
    "\n",
    "Thought: I need to search for information about Zeus in Greek mythology to find the answer.\n",
    "Search result: {search_result[\"result\"]}\n",
    "'''\n",
    "\n",
    "routing_tool(context=test_context2)"
   ]
  },
  {
   "cell_type": "code",
   "execution_count": 33,
   "metadata": {},
   "outputs": [
    {
     "data": {
      "text/plain": [
       "{'reflection': \"Zeus, in Greek mythology, is the king of the gods, known for being the sky and thunder god, ruling from Mount Olympus. He wields significant power, controlling the weather and fate of humans, often using his lightning bolts to intervene in mortal affairs. Throughout literature, such as in Homer's Iliad, Zeus plays a major role, influencing the war and its outcome. His character is multifaceted, displaying emotions, making decisions, and interacting with other gods and mortals. His power and influence are undeniable, making him a central figure in Greek mythology.\"}"
      ]
     },
     "execution_count": 33,
     "metadata": {},
     "output_type": "execute_result"
    }
   ],
   "source": [
    "test_context3 = f'''\n",
    "Question: {test_question}\n",
    "\n",
    "Thought: I need to search for information about Zeus in Greek mythology to find the answer.\n",
    "Search result: {search_result[\"result\"]}\n",
    "\n",
    "Thought: I have gathered information about Zeus in Greek mythology, now I need to think about the context to understand the main points and reflect on the answer.\n",
    "'''\n",
    "\n",
    "think_tool(context=test_context3)"
   ]
  },
  {
   "cell_type": "code",
   "execution_count": 34,
   "metadata": {},
   "outputs": [
    {
     "data": {
      "text/plain": [
       "{'thought': 'I have thought about the context and I think it is time to answer the question.',\n",
       " 'tool_name': 'answer',\n",
       " 'query': ''}"
      ]
     },
     "execution_count": 34,
     "metadata": {},
     "output_type": "execute_result"
    }
   ],
   "source": [
    "test_context4 = f'''\n",
    "Question: {test_question}\n",
    "\n",
    "Thought: I need to search for information about Zeus in Greek mythology to find the answer.\n",
    "Search result: {search_result[\"result\"]}\n",
    "\n",
    "Thought: I have gathered information about Zeus in Greek mythology, now I need to think about the context to understand the main points and reflect on the answer.\n",
    "Think result: Zeus is known as the sky and thunder god in ancient Greek religion and is often depicted holding a thunderbolt. He is the king of the gods and is married to Hera, with whom he has fathered several children. His powers and mythologies are similar to those of other Indo-European deities, such as Jupiter in Roman mythology. He is often depicted in art standing or seated in majesty, holding a scepter, and is associated with the eagle, bull, and oak.\"\n",
    "'''\n",
    "\n",
    "routing_tool(context=test_context4)"
   ]
  },
  {
   "cell_type": "code",
   "execution_count": 35,
   "metadata": {},
   "outputs": [
    {
     "data": {
      "text/plain": [
       "{'answer': 'Zeus is known as the sky and thunder god in ancient Greek religion, and is the king of the gods of Mount Olympus.'}"
      ]
     },
     "execution_count": 35,
     "metadata": {},
     "output_type": "execute_result"
    }
   ],
   "source": [
    "test_context5 = f'''\n",
    "Question: {test_question}\n",
    "\n",
    "Thought: I need to search for information about Zeus in Greek mythology to find the answer.\n",
    "Search result: {search_result[\"result\"]}\n",
    "\n",
    "Thought: I have gathered information about Zeus in Greek mythology, now I need to think about the context to understand the main points and reflect on the answer.\n",
    "Think result: Zeus is known as the sky and thunder god in ancient Greek religion, and is the king of the gods of Mount Olympus.\n",
    "\n",
    "Thought: \"I\\'ve reflected on the information and main points about Zeus, now I need to provide a concise answer to the original question.\"\n",
    "'''\n",
    "\n",
    "answer_tool(context=test_context5)"
   ]
  },
  {
   "cell_type": "markdown",
   "metadata": {},
   "source": [
    "### Código principal"
   ]
  },
  {
   "cell_type": "code",
   "execution_count": 19,
   "metadata": {},
   "outputs": [],
   "source": [
    "class QuestionAnswerer:\n",
    "\n",
    "    def __init__(self, search_tool:SearchTool, routing_tool:RoutingTool=None, think_tool:ThinkTool=None, answer_tool:AnswerTool=None ) -> None:\n",
    "        self._search_tool = search_tool\n",
    "\n",
    "        if routing_tool is None:\n",
    "            routing_tool = RoutingTool()\n",
    "\n",
    "        if think_tool is None:\n",
    "            think_tool = ThinkTool()\n",
    "\n",
    "        if answer_tool is None:\n",
    "            answer_tool = AnswerTool()\n",
    "\n",
    "        self._routing_tool = routing_tool\n",
    "        self._think_tool = think_tool\n",
    "        self._answer_tool = answer_tool\n",
    "\n",
    "        \n",
    "    def __call__(self, question:str, max_steps:int = 5, verbose=False) -> Tuple[str, str, str]:\n",
    "        context = f\"Question: {question}\"\n",
    "        tool_sequence = \"\"\n",
    "\n",
    "        step = 0\n",
    "\n",
    "        while True:\n",
    "            \n",
    "            if step >= max_steps-1:\n",
    "                next_tool = \"answer\"\n",
    "                query = \"\"\n",
    "                thought = \"Now I need to provide a concise answer to the original question.\"\n",
    "            else:\n",
    "                if verbose:\n",
    "                    print(\"R\", end=\"\")\n",
    "                tool_sequence += \"R\"\n",
    "\n",
    "                rounting_result = self._routing_tool(context=context)\n",
    "                next_tool = rounting_result[\"tool_name\"].lower()\n",
    "                query = rounting_result[\"query\"]\n",
    "                thought = rounting_result[\"thought\"]\n",
    "\n",
    "            context += f\"\\n\\nThought: {thought}\\n\"\n",
    "\n",
    "            if verbose:\n",
    "                print(next_tool[0].upper(), end=\"\")\n",
    "            tool_sequence += next_tool[0].upper()\n",
    "\n",
    "            try:\n",
    "\n",
    "                if next_tool == \"search\":\n",
    "                    search_result = self._search_tool(query=query, context=context)\n",
    "                    context += f\"Search result: {search_result['result']}\"\n",
    "                elif next_tool == \"think\":\n",
    "                    think_result = self._think_tool(query=query, context=context)\n",
    "                    context += f\"Think result: {think_result['reflection']}\"\n",
    "                elif next_tool == \"answer\":\n",
    "                    answer_result = self._answer_tool(query=query, context=context)\n",
    "\n",
    "                    print(\"\")\n",
    "                    return answer_result[\"answer\"], context, tool_sequence\n",
    "                \n",
    "            except KeyboardInterrupt as e:\n",
    "                raise e\n",
    "            \n",
    "            except:\n",
    "                print(\"F\", end=\"\")\n",
    "                tool_sequence += \"F\"\n",
    "                context += \"The tool failed. I can try using it again, or try using another tool.\"\n",
    "                \n",
    "            \n",
    "            step += 1"
   ]
  },
  {
   "cell_type": "code",
   "execution_count": 20,
   "metadata": {},
   "outputs": [],
   "source": [
    "question_answerer = QuestionAnswerer(search_tool)"
   ]
  },
  {
   "cell_type": "code",
   "execution_count": 26,
   "metadata": {},
   "outputs": [
    {
     "name": "stdout",
     "output_type": "stream",
     "text": [
      "RSRTRA\n"
     ]
    }
   ],
   "source": [
    "answer, context, tool_sequence = question_answerer(test_question, verbose=True)"
   ]
  },
  {
   "cell_type": "code",
   "execution_count": 27,
   "metadata": {},
   "outputs": [
    {
     "data": {
      "text/plain": [
       "\"Zeus, in Greek mythology, is the king of the gods and the god of the sky and thunder. He is known for wielding powerful lightning bolts and is depicted in various poses in art, often with his symbols, the thunderbolt, eagle, bull, or oak. He is married to Hera and has fathered several children, including Ares, Hebe, and Hephaestus. Zeus plays a significant role in Homer's Iliad, influencing the outcome of the Trojan War.\""
      ]
     },
     "execution_count": 27,
     "metadata": {},
     "output_type": "execute_result"
    }
   ],
   "source": [
    "answer"
   ]
  },
  {
   "cell_type": "code",
   "execution_count": 28,
   "metadata": {},
   "outputs": [
    {
     "name": "stdout",
     "output_type": "stream",
     "text": [
      "Question: What is Zeus know for in Greek mythology?\n",
      "\n",
      "Thought: I want to find relevant information about Zeus in Greek mythology, so I choose a tool that can search for related content.\n",
      "Search result: Zeus (British English , North American English ; , Zeús ) is the sky and thunder god in ancient Greek religion, who rules as king of the gods of Mount Olympus. His name is cognate with the first element of his Roman equivalent Jupiter. His mythologies and powers are similar, though not identical, to those of Indo-European deities such as Jupiter, Perkūnas, Perun, Indra and Thor. Zeus is the child of Cronus and Rhea, the youngest of his siblings to be born, though sometimes reckoned the eldest as the others required disgorging from Cronus's stomach. In most traditions, he is married to Hera, by whom he is usually said to have fathered Ares, Hebe, and Hephaestus.\n",
      "Since lightning is quite powerful and sometimes deadly, it is a bold sign when lightning strikes because it is known that Zeus most likely threw the bolt. In the Iliad. The Iliad is a poem by Homer about the Trojan war and the battle over the City of Troy, in which Zeus plays a major part. Scenes in which Zeus appears include:\n",
      "\n",
      "- Book 2: Zeus sends Agamemnon a dream and is able to partially control his decisions because of the effects of the dream\n",
      "- Book 4: Zeus promises Hera to ultimately destroy the City of Troy at the end of the war\n",
      "- Book 7: Zeus and Poseidon ruin the Achaeans fortress\n",
      "- Book 8: Zeus prohibits the other Gods from fighting each other and has to return to Mount Ida where he can think over his decision that the Greeks will lose the war\n",
      "- Book 14: Zeus is seduced by Hera and becomes distracted while she helps out the Greeks\n",
      "- Book 15: Zeus wakes up and realizes that Poseidon his own brother has been helping out the Greeks, while also sending Hector and Apollo to help fight the Trojans ensuring that the City of Troy will fall\n",
      "- Book 16: Zeus is upset that he couldn't help save Sarpedon's life because it would then contradict his previous decisions\n",
      "- Book 17: Zeus is emotionally hurt by the fate of Hector\n",
      "- Book 20: Zeus lets the other Gods help out their respective sides in the war\n",
      "- Book 24: Zeus demands that Achilles release the corpse of Hector to be buried honourably\n",
      "\n",
      "List of other deeds.- Zeus granted Callirrhoe's prayer that her sons by Alcmaeon, Acarnan and Amphoterus, grow quickly so that they might be able to avenger the death of their father by the hands of Phegeus and his two sons. - He unsuccessfully wooed Thetis, daughter of Nereus.\n",
      "Scenes in which Zeus appears include:\n",
      "\n",
      "- Book 2: Zeus sends Agamemnon a dream and is able to partially control his decisions because of the effects of the dream\n",
      "- Book 4: Zeus promises Hera to ultimately destroy the City of Troy at the end of the war\n",
      "- Book 7: Zeus and Poseidon ruin the Achaeans fortress\n",
      "- Book 8: Zeus prohibits the other Gods from fighting each other and has to return to Mount Ida where he can think over his decision that the Greeks will lose the war\n",
      "- Book 14: Zeus is seduced by Hera and becomes distracted while she helps out the Greeks\n",
      "- Book 15: Zeus wakes up and realizes that Poseidon his own brother has been helping out the Greeks, while also sending Hector and Apollo to help fight the Trojans ensuring that the City of Troy will fall\n",
      "- Book 16: Zeus is upset that he couldn't help save Sarpedon's life because it would then contradict his previous decisions\n",
      "- Book 17: Zeus is emotionally hurt by the fate of Hector\n",
      "- Book 20: Zeus lets the other Gods help out their respective sides in the war\n",
      "- Book 24: Zeus demands that Achilles release the corpse of Hector to be buried honourably\n",
      "\n",
      "List of other deeds.- Zeus granted Callirrhoe's prayer that her sons by Alcmaeon, Acarnan and Amphoterus, grow quickly so that they might be able to avenger the death of their father by the hands of Phegeus and his two sons. - He unsuccessfully wooed Thetis, daughter of Nereus. Zeus and Hera. Zeus was brother and consort of Hera. By Hera, Zeus sired Ares, Hebe and Hephaestus, though some accounts say that Hera produced these offspring alone.\n",
      "He was equated with many foreign weather gods, permitting Pausanias to observe \"That Zeus is king in heaven is a saying common to all men\". Zeus' symbols are the thunderbolt, eagle, bull, and oak. In addition to his Indo-European inheritance, the classical \"cloud-gatherer\" (Greek: , Nephelēgereta) also derives certain iconographic traits from the cultures of the ancient Near East, such as the scepter. Zeus is frequently depicted by Greek artists in one of two poses: standing, striding forward with a thunderbolt leveled in his raised right hand, or seated in majesty. Name.\n",
      "Greek mythology is known today primarily from Greek literature and representations on visual media dating from the Geometric period from to onward. In fact, literary and archaeological sources integrate, sometimes mutually supportive and sometimes in conflict; however, in many cases, the existence of this corpus of data is a strong indication that many elements of Greek mythology have strong factual and historical roots. Literary sources. Mythical narration plays an important role in nearly every genre of Greek literature. Nevertheless, the only general mythographical handbook to survive from Greek antiquity was the Library of Pseudo-Apollodorus.\n",
      "\n",
      "\n",
      "Thought: I have a lot of information about Zeus in Greek mythology, but I want to reflect on the most important aspects of his character and deeds to provide a concise answer to the question.\n",
      "Think result: Zeus, in Greek mythology, is the king of the gods and the god of the sky and thunder. He is known for wielding powerful lightning bolts and is depicted in various poses in art, often with his symbols, the thunderbolt, eagle, bull, or oak. He is married to Hera and has fathered several children, including Ares, Hebe, and Hephaestus. Zeus plays a significant role in Homer's Iliad, influencing the outcome of the Trojan War. His deeds include granting wishes, helping or hindering mortals, and intervening in human conflicts, making him a central figure in Greek mythology.\n",
      "\n",
      "Thought: I've reflected on the key aspects of Zeus' character in Greek mythology and now I'm ready to provide a concise answer to the question.\n",
      "\n"
     ]
    }
   ],
   "source": [
    "print(context)"
   ]
  },
  {
   "cell_type": "code",
   "execution_count": 29,
   "metadata": {},
   "outputs": [
    {
     "data": {
      "text/plain": [
       "(True, 0.1142857142857143, 0)"
      ]
     },
     "execution_count": 29,
     "metadata": {},
     "output_type": "execute_result"
    }
   ],
   "source": [
    "groq_corrector(a_gold, answer), compute_f1(a_gold, answer), compute_exact(a_gold, answer)"
   ]
  },
  {
   "cell_type": "code",
   "execution_count": 30,
   "metadata": {},
   "outputs": [
    {
     "data": {
      "text/plain": [
       "'RSRTRA'"
      ]
     },
     "execution_count": 30,
     "metadata": {},
     "output_type": "execute_result"
    }
   ],
   "source": [
    "tool_sequence"
   ]
  },
  {
   "cell_type": "markdown",
   "metadata": {},
   "source": [
    "## Geração das respostas"
   ]
  },
  {
   "cell_type": "code",
   "execution_count": 33,
   "metadata": {},
   "outputs": [
    {
     "name": "stderr",
     "output_type": "stream",
     "text": [
      "  0%|          | 0/50 [00:00<?, ?it/s]"
     ]
    },
    {
     "name": "stdout",
     "output_type": "stream",
     "text": [
      "RSRTRA\n"
     ]
    },
    {
     "name": "stderr",
     "output_type": "stream",
     "text": [
      "  2%|▏         | 1/50 [00:35<28:57, 35.47s/it]"
     ]
    },
    {
     "name": "stdout",
     "output_type": "stream",
     "text": [
      "RSRTRA\n"
     ]
    },
    {
     "name": "stderr",
     "output_type": "stream",
     "text": [
      "  4%|▍         | 2/50 [01:21<33:15, 41.57s/it]"
     ]
    },
    {
     "name": "stdout",
     "output_type": "stream",
     "text": [
      "RSRA\n"
     ]
    },
    {
     "name": "stderr",
     "output_type": "stream",
     "text": [
      "  6%|▌         | 3/50 [01:44<25:50, 33.00s/it]"
     ]
    },
    {
     "name": "stdout",
     "output_type": "stream",
     "text": [
      "RSRTRA\n"
     ]
    },
    {
     "name": "stderr",
     "output_type": "stream",
     "text": [
      "  8%|▊         | 4/50 [02:28<28:53, 37.68s/it]"
     ]
    },
    {
     "name": "stdout",
     "output_type": "stream",
     "text": [
      "RSRTRA\n"
     ]
    },
    {
     "name": "stderr",
     "output_type": "stream",
     "text": [
      " 10%|█         | 5/50 [03:23<32:43, 43.63s/it]"
     ]
    },
    {
     "name": "stdout",
     "output_type": "stream",
     "text": [
      "RSRSRA\n"
     ]
    },
    {
     "name": "stderr",
     "output_type": "stream",
     "text": [
      " 12%|█▏        | 6/50 [04:08<32:25, 44.21s/it]"
     ]
    },
    {
     "name": "stdout",
     "output_type": "stream",
     "text": [
      "RSRA\n"
     ]
    },
    {
     "name": "stderr",
     "output_type": "stream",
     "text": [
      " 14%|█▍        | 7/50 [04:22<24:39, 34.41s/it]"
     ]
    },
    {
     "name": "stdout",
     "output_type": "stream",
     "text": [
      "RSRTRA\n"
     ]
    },
    {
     "name": "stderr",
     "output_type": "stream",
     "text": [
      " 16%|█▌        | 8/50 [05:25<30:24, 43.43s/it]"
     ]
    },
    {
     "name": "stdout",
     "output_type": "stream",
     "text": [
      "RSRSRA\n"
     ]
    },
    {
     "name": "stderr",
     "output_type": "stream",
     "text": [
      " 18%|█▊        | 9/50 [06:06<29:14, 42.80s/it]"
     ]
    },
    {
     "name": "stdout",
     "output_type": "stream",
     "text": [
      "RSRA\n"
     ]
    },
    {
     "name": "stderr",
     "output_type": "stream",
     "text": [
      " 20%|██        | 10/50 [06:24<23:21, 35.03s/it]"
     ]
    },
    {
     "name": "stdout",
     "output_type": "stream",
     "text": [
      "RSRA\n"
     ]
    },
    {
     "name": "stderr",
     "output_type": "stream",
     "text": [
      " 22%|██▏       | 11/50 [06:56<22:09, 34.10s/it]"
     ]
    },
    {
     "name": "stdout",
     "output_type": "stream",
     "text": [
      "RSRA\n"
     ]
    },
    {
     "name": "stderr",
     "output_type": "stream",
     "text": [
      " 24%|██▍       | 12/50 [07:14<18:34, 29.32s/it]"
     ]
    },
    {
     "name": "stdout",
     "output_type": "stream",
     "text": [
      "RSRTRA\n"
     ]
    },
    {
     "name": "stderr",
     "output_type": "stream",
     "text": [
      " 26%|██▌       | 13/50 [07:50<19:16, 31.25s/it]"
     ]
    },
    {
     "name": "stdout",
     "output_type": "stream",
     "text": [
      "RSRTRA\n"
     ]
    },
    {
     "name": "stderr",
     "output_type": "stream",
     "text": [
      " 28%|██▊       | 14/50 [08:34<21:01, 35.04s/it]"
     ]
    },
    {
     "name": "stdout",
     "output_type": "stream",
     "text": [
      "RSRA\n"
     ]
    },
    {
     "name": "stderr",
     "output_type": "stream",
     "text": [
      " 30%|███       | 15/50 [08:49<16:56, 29.05s/it]"
     ]
    },
    {
     "name": "stdout",
     "output_type": "stream",
     "text": [
      "RSRTRSRA\n"
     ]
    },
    {
     "name": "stderr",
     "output_type": "stream",
     "text": [
      " 32%|███▏      | 16/50 [10:08<25:00, 44.13s/it]"
     ]
    },
    {
     "name": "stdout",
     "output_type": "stream",
     "text": [
      "RSRTRSRA\n"
     ]
    },
    {
     "name": "stderr",
     "output_type": "stream",
     "text": [
      " 34%|███▍      | 17/50 [11:37<31:39, 57.57s/it]"
     ]
    },
    {
     "name": "stdout",
     "output_type": "stream",
     "text": [
      "RSRTRSR"
     ]
    },
    {
     "name": "stderr",
     "output_type": "stream",
     "text": [
      " 36%|███▌      | 18/50 [15:04<54:43, 102.61s/it]"
     ]
    },
    {
     "name": "stdout",
     "output_type": "stream",
     "text": [
      "ERROR\n",
      "RSRTRA\n"
     ]
    },
    {
     "name": "stderr",
     "output_type": "stream",
     "text": [
      " 38%|███▊      | 19/50 [15:34<41:36, 80.53s/it] "
     ]
    },
    {
     "name": "stdout",
     "output_type": "stream",
     "text": [
      "RSRTRA\n"
     ]
    },
    {
     "name": "stderr",
     "output_type": "stream",
     "text": [
      " 40%|████      | 20/50 [17:26<45:01, 90.04s/it]"
     ]
    },
    {
     "name": "stdout",
     "output_type": "stream",
     "text": [
      "RSRTRA\n"
     ]
    },
    {
     "name": "stderr",
     "output_type": "stream",
     "text": [
      " 42%|████▏     | 21/50 [18:38<40:54, 84.63s/it]"
     ]
    },
    {
     "name": "stdout",
     "output_type": "stream",
     "text": [
      "RSRTRA\n"
     ]
    },
    {
     "name": "stderr",
     "output_type": "stream",
     "text": [
      " 44%|████▍     | 22/50 [20:07<40:06, 85.96s/it]"
     ]
    },
    {
     "name": "stdout",
     "output_type": "stream",
     "text": [
      "RSRTRA\n"
     ]
    },
    {
     "name": "stderr",
     "output_type": "stream",
     "text": [
      " 46%|████▌     | 23/50 [21:15<36:17, 80.66s/it]"
     ]
    },
    {
     "name": "stdout",
     "output_type": "stream",
     "text": [
      "RSRA\n"
     ]
    },
    {
     "name": "stderr",
     "output_type": "stream",
     "text": [
      " 48%|████▊     | 24/50 [22:00<30:21, 70.06s/it]"
     ]
    },
    {
     "name": "stdout",
     "output_type": "stream",
     "text": [
      "RSRTRA\n"
     ]
    },
    {
     "name": "stderr",
     "output_type": "stream",
     "text": [
      " 50%|█████     | 25/50 [24:07<36:13, 86.94s/it]"
     ]
    },
    {
     "name": "stdout",
     "output_type": "stream",
     "text": [
      "RSRTRA\n"
     ]
    },
    {
     "name": "stderr",
     "output_type": "stream",
     "text": [
      " 52%|█████▏    | 26/50 [26:38<42:27, 106.14s/it]"
     ]
    },
    {
     "name": "stdout",
     "output_type": "stream",
     "text": [
      "RSRTRSRTA\n"
     ]
    },
    {
     "name": "stderr",
     "output_type": "stream",
     "text": [
      " 54%|█████▍    | 27/50 [29:37<49:06, 128.10s/it]"
     ]
    },
    {
     "name": "stdout",
     "output_type": "stream",
     "text": [
      "RSRTRSRSA\n"
     ]
    },
    {
     "name": "stderr",
     "output_type": "stream",
     "text": [
      " 56%|█████▌    | 28/50 [31:56<48:11, 131.45s/it]"
     ]
    },
    {
     "name": "stdout",
     "output_type": "stream",
     "text": [
      "RSRTRA\n"
     ]
    },
    {
     "name": "stderr",
     "output_type": "stream",
     "text": [
      " 58%|█████▊    | 29/50 [32:13<33:58, 97.05s/it] "
     ]
    },
    {
     "name": "stdout",
     "output_type": "stream",
     "text": [
      "RSRTRA\n"
     ]
    },
    {
     "name": "stderr",
     "output_type": "stream",
     "text": [
      " 60%|██████    | 30/50 [32:59<27:16, 81.81s/it]"
     ]
    },
    {
     "name": "stdout",
     "output_type": "stream",
     "text": [
      "RSRA\n"
     ]
    },
    {
     "name": "stderr",
     "output_type": "stream",
     "text": [
      " 62%|██████▏   | 31/50 [33:25<20:31, 64.81s/it]"
     ]
    },
    {
     "name": "stdout",
     "output_type": "stream",
     "text": [
      "RSRTRA\n"
     ]
    },
    {
     "name": "stderr",
     "output_type": "stream",
     "text": [
      " 64%|██████▍   | 32/50 [34:10<17:44, 59.16s/it]"
     ]
    },
    {
     "name": "stdout",
     "output_type": "stream",
     "text": [
      "RSRTRA\n"
     ]
    },
    {
     "name": "stderr",
     "output_type": "stream",
     "text": [
      " 66%|██████▌   | 33/50 [35:01<16:04, 56.71s/it]"
     ]
    },
    {
     "name": "stdout",
     "output_type": "stream",
     "text": [
      "RSRTRA\n"
     ]
    },
    {
     "name": "stderr",
     "output_type": "stream",
     "text": [
      " 68%|██████▊   | 34/50 [35:43<13:52, 52.00s/it]"
     ]
    },
    {
     "name": "stdout",
     "output_type": "stream",
     "text": [
      "RSRA\n"
     ]
    },
    {
     "name": "stderr",
     "output_type": "stream",
     "text": [
      " 70%|███████   | 35/50 [35:55<10:04, 40.28s/it]"
     ]
    },
    {
     "name": "stdout",
     "output_type": "stream",
     "text": [
      "RSRTRSRA\n"
     ]
    },
    {
     "name": "stderr",
     "output_type": "stream",
     "text": [
      " 72%|███████▏  | 36/50 [37:41<13:59, 59.97s/it]"
     ]
    },
    {
     "name": "stdout",
     "output_type": "stream",
     "text": [
      "RSRA\n"
     ]
    },
    {
     "name": "stderr",
     "output_type": "stream",
     "text": [
      " 74%|███████▍  | 37/50 [38:05<10:39, 49.21s/it]"
     ]
    },
    {
     "name": "stdout",
     "output_type": "stream",
     "text": [
      "RSRTRA\n"
     ]
    },
    {
     "name": "stderr",
     "output_type": "stream",
     "text": [
      " 76%|███████▌  | 38/50 [39:01<10:13, 51.12s/it]"
     ]
    },
    {
     "name": "stdout",
     "output_type": "stream",
     "text": [
      "RSRTRA\n"
     ]
    },
    {
     "name": "stderr",
     "output_type": "stream",
     "text": [
      " 78%|███████▊  | 39/50 [39:42<08:49, 48.17s/it]"
     ]
    },
    {
     "name": "stdout",
     "output_type": "stream",
     "text": [
      "RSRA\n"
     ]
    },
    {
     "name": "stderr",
     "output_type": "stream",
     "text": [
      " 80%|████████  | 40/50 [40:04<06:41, 40.16s/it]"
     ]
    },
    {
     "name": "stdout",
     "output_type": "stream",
     "text": [
      "RSRA\n"
     ]
    },
    {
     "name": "stderr",
     "output_type": "stream",
     "text": [
      " 82%|████████▏ | 41/50 [40:28<05:17, 35.27s/it]"
     ]
    },
    {
     "name": "stdout",
     "output_type": "stream",
     "text": [
      "RSRA\n"
     ]
    },
    {
     "name": "stderr",
     "output_type": "stream",
     "text": [
      " 84%|████████▍ | 42/50 [40:51<04:14, 31.80s/it]"
     ]
    },
    {
     "name": "stdout",
     "output_type": "stream",
     "text": [
      "RSRTRA\n"
     ]
    },
    {
     "name": "stderr",
     "output_type": "stream",
     "text": [
      " 86%|████████▌ | 43/50 [41:22<03:41, 31.61s/it]"
     ]
    },
    {
     "name": "stdout",
     "output_type": "stream",
     "text": [
      "RSRA\n"
     ]
    },
    {
     "name": "stderr",
     "output_type": "stream",
     "text": [
      " 88%|████████▊ | 44/50 [41:43<02:50, 28.39s/it]"
     ]
    },
    {
     "name": "stdout",
     "output_type": "stream",
     "text": [
      "RSRTRSRTA\n"
     ]
    },
    {
     "name": "stderr",
     "output_type": "stream",
     "text": [
      " 90%|█████████ | 45/50 [43:32<04:22, 52.57s/it]"
     ]
    },
    {
     "name": "stdout",
     "output_type": "stream",
     "text": [
      "RSRA\n"
     ]
    },
    {
     "name": "stderr",
     "output_type": "stream",
     "text": [
      " 92%|█████████▏| 46/50 [43:54<02:52, 43.24s/it]"
     ]
    },
    {
     "name": "stdout",
     "output_type": "stream",
     "text": [
      "RSRA\n"
     ]
    },
    {
     "name": "stderr",
     "output_type": "stream",
     "text": [
      " 94%|█████████▍| 47/50 [44:15<01:50, 36.74s/it]"
     ]
    },
    {
     "name": "stdout",
     "output_type": "stream",
     "text": [
      "RSRTRA\n"
     ]
    },
    {
     "name": "stderr",
     "output_type": "stream",
     "text": [
      " 96%|█████████▌| 48/50 [44:51<01:13, 36.53s/it]"
     ]
    },
    {
     "name": "stdout",
     "output_type": "stream",
     "text": [
      "RSRTRA\n"
     ]
    },
    {
     "name": "stderr",
     "output_type": "stream",
     "text": [
      " 98%|█████████▊| 49/50 [45:30<00:37, 37.27s/it]"
     ]
    },
    {
     "name": "stdout",
     "output_type": "stream",
     "text": [
      "RSRTRA\n"
     ]
    },
    {
     "name": "stderr",
     "output_type": "stream",
     "text": [
      "100%|██████████| 50/50 [46:07<00:00, 55.35s/it]\n"
     ]
    }
   ],
   "source": [
    "all_results = []\n",
    "file = open (\"results.jsonl\", \"w\")\n",
    "\n",
    "for i in tqdm.tqdm(range(n_question)):\n",
    "    question = questions[i][\"question\"]\n",
    "    gold_answer = questions[i][\"answer\"]\n",
    "\n",
    "    try:\n",
    "        answer, context, tool_sequence = question_answerer(question, verbose=True)\n",
    "\n",
    "        is_correct = groq_corrector(gold_answer, answer)\n",
    "        f1_score = compute_f1(gold_answer, answer)\n",
    "        exact_score = compute_exact(gold_answer, answer)\n",
    "\n",
    "    except KeyboardInterrupt as e:\n",
    "        file.close()\n",
    "        raise e\n",
    "        \n",
    "    except:\n",
    "        answer = \"\"\n",
    "        context = \"\"\n",
    "        tool_sequence = \"F\"\n",
    "        is_correct = False\n",
    "        f1_score = 0\n",
    "        exact_score = 0\n",
    "\n",
    "    entry = {\"question_number\": i,\n",
    "            \"question\":question,\n",
    "             \"gold_answer\":gold_answer,\n",
    "             \"answer\":answer,\n",
    "             \"tool_sequence\":tool_sequence,\n",
    "             \"is_correct\":is_correct,\n",
    "             \"f1_score\":f1_score,\n",
    "             \"exact_score\":exact_score,\n",
    "             \"context\":context}\n",
    "    \n",
    "    all_results.append(entry)\n",
    "\n",
    "    file.write(json.dumps(entry)+\"\\n\")\n",
    "    file.flush()\n",
    "\n",
    "file.close()"
   ]
  },
  {
   "cell_type": "markdown",
   "metadata": {},
   "source": [
    "46 min 7,5s"
   ]
  },
  {
   "cell_type": "code",
   "execution_count": 60,
   "metadata": {},
   "outputs": [],
   "source": [
    "file = open(\"results.json\", \"w\")\n",
    "json.dump(all_results, file)\n",
    "file.close()"
   ]
  },
  {
   "cell_type": "markdown",
   "metadata": {},
   "source": [
    "## Avaliação"
   ]
  },
  {
   "cell_type": "code",
   "execution_count": 53,
   "metadata": {},
   "outputs": [
    {
     "name": "stdout",
     "output_type": "stream",
     "text": [
      "Accuracy: 0.52\n",
      "F1 score: 0.47502661713188027 ± 0.45167093813665027\n",
      "Exact score: 0.36 ± 0.48\n"
     ]
    }
   ],
   "source": [
    "accuracy = 0.0\n",
    "f1_scores = np.empty(n_question)\n",
    "exact_scores = np.empty(n_question)\n",
    "tool_sequences = []\n",
    "\n",
    "for i in range(n_question):\n",
    "    accuracy += all_results[i][\"is_correct\"]\n",
    "    f1_scores[i] = all_results[i][\"f1_score\"]\n",
    "    exact_scores[i] = all_results[i][\"exact_score\"]\n",
    "    tool_sequences.append(all_results[i][\"tool_sequence\"])\n",
    "\n",
    "accuracy /= n_question\n",
    "\n",
    "print(\"Accuracy:\", accuracy)\n",
    "print(\"F1 score:\", f1_scores.mean(), \"±\", f1_scores.std())\n",
    "print(\"Exact score:\", exact_scores.mean(), \"±\", exact_scores.std())"
   ]
  },
  {
   "cell_type": "code",
   "execution_count": 50,
   "metadata": {},
   "outputs": [
    {
     "data": {
      "image/png": "[encoded data removed]",
      "text/plain": [
       "<Figure size 432x288 with 1 Axes>"
      ]
     },
     "metadata": {
      "needs_background": "light"
     },
     "output_type": "display_data"
    }
   ],
   "source": [
    "plt.hist(f1_scores)\n",
    "plt.show()"
   ]
  },
  {
   "cell_type": "code",
   "execution_count": 52,
   "metadata": {},
   "outputs": [
    {
     "data": {
      "image/png": "[encoded data removed]",
      "text/plain": [
       "<Figure size 432x288 with 1 Axes>"
      ]
     },
     "metadata": {
      "needs_background": "light"
     },
     "output_type": "display_data"
    }
   ],
   "source": [
    "plt.hist(exact_scores)\n",
    "plt.show()"
   ]
  },
  {
   "cell_type": "code",
   "execution_count": 58,
   "metadata": {},
   "outputs": [
    {
     "data": {
      "text/plain": [
       "([0, 1, 2, 3, 4, 5, 6],\n",
       " [Text(0, 0, ''),\n",
       "  Text(0, 0, ''),\n",
       "  Text(0, 0, ''),\n",
       "  Text(0, 0, ''),\n",
       "  Text(0, 0, ''),\n",
       "  Text(0, 0, ''),\n",
       "  Text(0, 0, '')])"
      ]
     },
     "execution_count": 58,
     "metadata": {},
     "output_type": "execute_result"
    },
    {
     "data": {
      "image/png": "[encoded data removed]",
      "text/plain": [
       "<Figure size 432x288 with 1 Axes>"
      ]
     },
     "metadata": {
      "needs_background": "light"
     },
     "output_type": "display_data"
    }
   ],
   "source": [
    "tool_sequences_unique, tool_sequences_count = np.unique(tool_sequences, return_counts=True)\n",
    "\n",
    "plt.bar(tool_sequences_unique, tool_sequences_count)\n",
    "plt.xticks(rotation=45)"
   ]
  },
  {
   "cell_type": "code",
   "execution_count": 105,
   "metadata": {},
   "outputs": [],
   "source": [
    "node_queue = collections.deque()\n",
    "node_queue.append(\"\")\n",
    "\n",
    "adj_list = {}\n",
    "\n",
    "while len(node_queue) != 0:\n",
    "    current_node = node_queue.pop()\n",
    "\n",
    "    if current_node in adj_list:\n",
    "        continue\n",
    "\n",
    "    adj = []\n",
    "\n",
    "    total_occurrences = 0\n",
    "    n_sequence = 0\n",
    "    sequences = {}\n",
    "    for i in range(len(tool_sequences_unique)):\n",
    "        sequence = tool_sequences_unique[i]\n",
    "        occurrences = tool_sequences_count[i]\n",
    "        \n",
    "        if len(sequence) > len(current_node):\n",
    "            if sequence[:len(current_node)] != current_node:\n",
    "                continue\n",
    "            \n",
    "            total_occurrences += occurrences\n",
    "\n",
    "            next_char = sequence[len(current_node)]\n",
    "\n",
    "            if next_char in sequences:\n",
    "                sequences[next_char] += occurrences\n",
    "                \n",
    "            else:\n",
    "                sequences[next_char] = occurrences\n",
    "\n",
    "                if current_node+next_char not in node_queue:\n",
    "                    node_queue.append(current_node+next_char)\n",
    "\n",
    "    \n",
    "\n",
    "    for sequence in sequences:\n",
    "        sequences[sequence] /= total_occurrences\n",
    "    adj_list[current_node] = sequences\n",
    "        \n"
   ]
  },
  {
   "cell_type": "code",
   "execution_count": 123,
   "metadata": {},
   "outputs": [
    {
     "name": "stdout",
     "output_type": "stream",
     "text": [
      "flowchart LR\n",
      "'' -->|F 2%| F\n",
      "'' -->|R 98%| R\n",
      "R -->|S 100%| RS\n",
      "RS -->|R 100%| RSR\n",
      "RSR -->|A 32.65%| RSRA\n",
      "RSR -->|S 4.08%| RSRS\n",
      "RSR -->|T 63.27%| RSRT\n",
      "RSRT -->|R 100%| RSRTR\n",
      "RSRTR -->|A 80.65%| RSRTRA\n",
      "RSRTR -->|S 19.35%| RSRTRS\n",
      "RSRTRS -->|R 100%| RSRTRSR\n",
      "RSRTRSR -->|A 50%| RSRTRSRA\n",
      "RSRTRSR -->|S 16.67%| RSRTRSRS\n",
      "RSRTRSR -->|T 33.33%| RSRTRSRT\n",
      "RSRTRSRT -->|A 100%| RSRTRSRTA\n",
      "RSRTRSRS -->|A 100%| RSRTRSRSA\n",
      "RSRS -->|R 100%| RSRSR\n",
      "RSRSR -->|A 100%| RSRSRA\n"
     ]
    }
   ],
   "source": [
    "print(\"flowchart LR\")\n",
    "\n",
    "for node in adj_list:\n",
    "    for next_char in adj_list[node]:\n",
    "        node_to_print = node\n",
    "\n",
    "        if node_to_print == \"\":\n",
    "            node_to_print = \"''\"\n",
    "\n",
    "        probability = adj_list[node][next_char]\n",
    "        probability *= 100\n",
    "        probability = round(probability, 2)\n",
    "\n",
    "        if int(probability) == probability:\n",
    "            probability = int(probability)\n",
    "\n",
    "        next_node = node+next_char\n",
    "        print(f\"{node_to_print} -->|{next_char} {probability}%| {next_node}\")"
   ]
  },
  {
   "cell_type": "markdown",
   "metadata": {},
   "source": [
    "Renderizando o diagrama em [Mermaid Live Editor](https://mermaid.live/):\n",
    "\n",
    "[Disponível online](https://mermaid.ink/img/pako:eNptkkFrgzAYhv_KR2D00gZnVms9DITR03bxyzGXoOkqqzqyyBht__tSo0ldd0ue5-P9XkhOpOwqRTKyP3bf5UFqA6-FaBcLWK2ezzuIH86w8_cCtqkFdqAY7giPUXQFaAmOIxO6TqGby4HFNFk7nAeO8ESj1GEMmEPCaLxxnA-c_w3nLp5PC9LIL-DjCu5LbinzDkeH94k4Zfra6xuXz6WNTWiyCR7nngNjlLHgufd8TJ-t5iEf__Po_F3tsbSvfCNysiSN0o2sK_vCJ9ECCGIOqlGCZPZYSf0hiGgvdk72psOftiSZ0b1akv6zkka91PJdy4Zke3n8slRVten0m_syw8-5_AJB36Zj?type=png)"
   ]
  },
  {
   "cell_type": "markdown",
   "metadata": {},
   "source": [
    "[![](https://mermaid.ink/img/pako:eNptkkFrgzAYhv_KR2D00gZnVms9DITR03bxyzGXoOkqqzqyyBht__tSo0ldd0ue5-P9XkhOpOwqRTKyP3bf5UFqA6-FaBcLWK2ezzuIH86w8_cCtqkFdqAY7giPUXQFaAmOIxO6TqGby4HFNFk7nAeO8ESj1GEMmEPCaLxxnA-c_w3nLp5PC9LIL-DjCu5LbinzDkeH94k4Zfra6xuXz6WNTWiyCR7nngNjlLHgufd8TJ-t5iEf__Po_F3tsbSvfCNysiSN0o2sK_vCJ9ECCGIOqlGCZPZYSf0hiGgvdk72psOftiSZ0b1akv6zkka91PJdy4Zke3n8slRVten0m_syw8-5_AJB36Zj?type=png)](https://mermaid.live/edit#pako:eNptkkFrgzAYhv_KR2D00gZnVms9DITR03bxyzGXoOkqqzqyyBht__tSo0ldd0ue5-P9XkhOpOwqRTKyP3bf5UFqA6-FaBcLWK2ezzuIH86w8_cCtqkFdqAY7giPUXQFaAmOIxO6TqGby4HFNFk7nAeO8ESj1GEMmEPCaLxxnA-c_w3nLp5PC9LIL-DjCu5LbinzDkeH94k4Zfra6xuXz6WNTWiyCR7nngNjlLHgufd8TJ-t5iEf__Po_F3tsbSvfCNysiSN0o2sK_vCJ9ECCGIOqlGCZPZYSf0hiGgvdk72psOftiSZ0b1akv6zkka91PJdy4Zke3n8slRVten0m_syw8-5_AJB36Zj)"
   ]
  },
  {
   "cell_type": "code",
   "execution_count": null,
   "metadata": {},
   "outputs": [],
   "source": []
  }
 ],
 "metadata": {
  "kernelspec": {
   "display_name": "Python 3",
   "language": "python",
   "name": "python3"
  },
  "language_info": {
   "codemirror_mode": {
    "name": "ipython",
    "version": 3
   },
   "file_extension": ".py",
   "mimetype": "text/x-python",
   "name": "python",
   "nbconvert_exporter": "python",
   "pygments_lexer": "ipython3",
   "version": "3.8.5"
  }
 },
 "nbformat": 4,
 "nbformat_minor": 2
}
