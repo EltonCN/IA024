{
 "cells": [
  {
   "cell_type": "markdown",
   "metadata": {},
   "source": [
    "# Exercício: RAGAs\n",
    "\n",
    "Elton Cardoso do Nascimento, 233840\n",
    "\n",
    "Enunciado:\n",
    "\n",
    "> - Implementar o RAGAS com o LLaMA-3 70B para avaliar a qualidade das 50 anotações do IIRC usadas no exercício passado.\n",
    "> - O RAGAS considera context, question, answer; keys que estão disponíveis no conjunto de teste do IIRC.\n",
    "> - Opcional:\n",
    ">   - Avaliar as respostas do exercício da aula 9_10\n",
    ">   - Usar multi agents"
   ]
  },
  {
   "cell_type": "markdown",
   "metadata": {},
   "source": [
    "Começamos pela importação de bibliotecas que serão utilizadas neste trabalho:"
   ]
  },
  {
   "cell_type": "code",
   "execution_count": 88,
   "metadata": {},
   "outputs": [],
   "source": [
    "import os #Operações com o SO (arquivos)\n",
    "import json #Leitura/escrita de arquivos JSON\n",
    "import time #Sleep\n",
    "import threading #Multithreading\n",
    "import abc #Classes abstratas\n",
    "from typing import Optional, Dict, List, Tuple, Any #Type hints\n",
    "\n",
    "import tqdm #Barra de progresso\n",
    "import groq #API para o Llama 3 70B\n",
    "import sentence_transformers #Comparação entre sentenças\n",
    "import numpy as np #Operações com arrays\n",
    "import matplotlib.pyplot as plt #Plots"
   ]
  },
  {
   "cell_type": "markdown",
   "metadata": {},
   "source": [
    "## Preparação dos dados\n",
    "\n",
    "Carregamos os dados do dataset IIRC:"
   ]
  },
  {
   "cell_type": "code",
   "execution_count": 59,
   "metadata": {},
   "outputs": [],
   "source": [
    "if not os.path.isdir(\"data\"):\n",
    "    os.mkdir(\"data\")\n",
    "\n",
    "if not os.path.isfile(\"data\\\\context_articles.json\"):\n",
    "    !curl -LO https://iirc-dataset.s3.us-west-2.amazonaws.com/context_articles.tar.gz\n",
    "    !move context_articles.tar.gz data\n",
    "    !tar -xf data/context_articles.tar.gz\n",
    "    !move context_articles.json data\n",
    "\n",
    "if not os.path.isfile(\"data\\\\iirc_test.json\"):\n",
    "    !curl -LO https://iirc-dataset.s3.us-west-2.amazonaws.com/iirc_test.json\n",
    "    !move iirc_test.json data"
   ]
  },
  {
   "cell_type": "code",
   "execution_count": 60,
   "metadata": {},
   "outputs": [],
   "source": [
    "file = open(\"data\\\\context_articles.json\", \"r\")\n",
    "articles = json.load(file)\n",
    "file.close()"
   ]
  },
  {
   "cell_type": "code",
   "execution_count": 61,
   "metadata": {},
   "outputs": [],
   "source": [
    "file = open(\"data\\\\iirc_test.json\", \"r\")\n",
    "test_data = json.load(file)\n",
    "file.close()"
   ]
  },
  {
   "cell_type": "markdown",
   "metadata": {},
   "source": [
    "E extraímos as 50 primeiras questões, junto das respostas e contextos:"
   ]
  },
  {
   "cell_type": "code",
   "execution_count": 62,
   "metadata": {},
   "outputs": [],
   "source": [
    "n_question = 50"
   ]
  },
  {
   "cell_type": "code",
   "execution_count": 64,
   "metadata": {},
   "outputs": [],
   "source": [
    "dataset = []\n",
    "\n",
    "for i in range(len(test_data)):\n",
    "    item = test_data[i]\n",
    "\n",
    "    main_passage_name = item[\"title\"]\n",
    "\n",
    "    #Get the questions\n",
    "    for q in item[\"questions\"]:\n",
    "        data = {}\n",
    "        \n",
    "        #Get and format the answer\n",
    "        if q[\"answer\"][\"type\"] == \"span\":\n",
    "            data[\"answer\"] = q[\"answer\"][\"answer_spans\"][0][\"text\"]\n",
    "        elif q[\"answer\"][\"type\"] == \"value\":\n",
    "            data[\"answer\"] = q[\"answer\"][\"answer_value\"]+\" \"+q[\"answer\"][\"answer_unit\"]\n",
    "        elif  q[\"answer\"][\"type\"] == \"none\":\n",
    "            continue\n",
    "        elif q[\"answer\"][\"type\"] == \"binary\":\n",
    "            data[\"answer\"] = q[\"answer\"][\"answer_value\"]\n",
    "        else:\n",
    "            raise ValueError\n",
    "        \n",
    "        data[\"question\"] = q[\"question\"]\n",
    "\n",
    "        context = \"\"\n",
    "        for context_item in q[\"context\"]:\n",
    "            passage = context_item[\"passage\"]\n",
    "            if passage == \"main\":\n",
    "                passage = main_passage_name\n",
    "\n",
    "            context += f\"{passage}: {context_item['text']}\"\n",
    "            context += \"\\n\"\n",
    "\n",
    "        data[\"context\"] = context\n",
    "        data[\"context_sentence_count\"] = str(len(q[\"context\"]))\n",
    "\n",
    "        dataset.append(data)\n",
    "\n",
    "        if len(dataset) == n_question:\n",
    "            break\n",
    "    if len(dataset) == n_question:\n",
    "            break\n"
   ]
  },
  {
   "cell_type": "markdown",
   "metadata": {},
   "source": [
    "Cada entrada do dataset tem então a pergunta (\"question\"), respostas (\"answer\"), contexto para responder (\"context\") e quantidade de sentenças no contexto (\"context_sentence_count\"):"
   ]
  },
  {
   "cell_type": "code",
   "execution_count": 164,
   "metadata": {},
   "outputs": [
    {
     "data": {
      "text/plain": [
       "{'answer': 'sky and thunder god',\n",
       " 'question': 'What is Zeus know for in Greek mythology?',\n",
       " 'context': 'Palici: he Palici the sons of Zeus\\nPalici: in Greek mythology\\nZeus: Zeus (British English , North American English ; , Zeús ) is the sky and thunder god in ancient Greek religion\\n',\n",
       " 'context_sentence_count': '3'}"
      ]
     },
     "execution_count": 164,
     "metadata": {},
     "output_type": "execute_result"
    }
   ],
   "source": [
    "dataset[0]"
   ]
  },
  {
   "cell_type": "code",
   "execution_count": 65,
   "metadata": {},
   "outputs": [],
   "source": [
    "del test_data, articles"
   ]
  },
  {
   "cell_type": "markdown",
   "metadata": {},
   "source": [
    "## Implementação do RAGAs\n",
    "\n",
    "Para realizar a implementação do RAGAs, começamos implementando uma interface para realizar inferências com a API do Groq e criar ferramentas (estágios durante a avaliação):"
   ]
  },
  {
   "cell_type": "code",
   "execution_count": null,
   "metadata": {},
   "outputs": [],
   "source": [
    "class GroqInterface:\n",
    "    '''\n",
    "    Interface for using the Groq API\n",
    "\n",
    "    Implements a rate limit control for multi-threading use. \n",
    "    '''\n",
    "\n",
    "    _client :groq.Groq = None \n",
    "\n",
    "    LLAMA3_70B = \"llama3-70b-8192\"\n",
    "\n",
    "    inference_lock = threading.Lock()\n",
    "    time_waiter_lock = threading.Lock()\n",
    "    SINGLE_THREAD = True\n",
    "\n",
    "    def __init__(self, model:Optional[str]=None, api_key:Optional[str]=None, json_mode:bool=False, system_message:Optional[str]=None, n_retry:int=5):\n",
    "        '''\n",
    "        GroqInterface constructor.\n",
    "\n",
    "        Args:\n",
    "            model (str, optional): model to use. Llama3 70B is used if None. Default is None\n",
    "            api_key (str, optional): Groq API key to use, if None will check the environment 'GROQ_API_KEY' variable. Default is None.\n",
    "            json_mode (bool): if the model need to output in JSON. Default is False.\n",
    "            system_message (str): the system message to send to the model, if needed. Default is None.\n",
    "            n_retyr (int): number of times to retry if the model fails (not considering RateLimitError). Default is 5.\n",
    "        '''\n",
    "        \n",
    "        if GroqInterface._client is None:\n",
    "\n",
    "            if api_key is None:\n",
    "                api_key = os.environ.get(\"GROQ_API_KEY\")\n",
    "\n",
    "            if api_key is None:\n",
    "                raise RuntimeError(\"API key is not in the environment variables ('GROQ_API_KEY' variable is not set).\")\n",
    "\n",
    "            GroqInterface._client = groq.Groq(api_key=api_key)\n",
    "\n",
    "        if model is None:\n",
    "            model = GroqInterface.LLAMA3_70B\n",
    "        self._model = model\n",
    "\n",
    "        self._system_message = system_message\n",
    "\n",
    "\n",
    "        if json_mode:\n",
    "            self._response_format = {\"type\": \"json_object\"}\n",
    "        else:\n",
    "            self._response_format = None\n",
    "        self._json_mode = json_mode\n",
    "\n",
    "        self._n_retry = n_retry\n",
    "\n",
    "    def __call__(self, prompt:str) -> str:\n",
    "        '''\n",
    "        Generates the model response\n",
    "\n",
    "        Args:\n",
    "            prompt (str): prompt to send to the model.\n",
    "\n",
    "        Returns:\n",
    "            str: model response. \n",
    "        '''\n",
    "        done = False\n",
    "        retry_count = 0\n",
    "        while not done:\n",
    "            try:\n",
    "                if not GroqInterface.SINGLE_THREAD:\n",
    "                    GroqInterface.inference_lock.acquire()\n",
    "                    GroqInterface.inference_lock.release()\n",
    "\n",
    "                messages = []\n",
    "                if self._system_message is not None:\n",
    "                    messages.append({\"role\":\"system\", \"content\":self._system_message})\n",
    "                \n",
    "                messages.append({\"role\":\"user\", \"content\":prompt})\n",
    "\n",
    "                chat_completion = GroqInterface._client.chat.completions.create(\n",
    "                        messages=messages,\n",
    "                        model=self._model,\n",
    "                        response_format=self._response_format\n",
    "                    )\n",
    "                \n",
    "                done = True\n",
    "            except groq.RateLimitError as exception: #Wait\n",
    "                print(\"ERROR\")\n",
    "                print(exception)\n",
    "                \n",
    "                GroqInterface.error = exception\n",
    "                if not GroqInterface.SINGLE_THREAD:\n",
    "                    if not GroqInterface.time_waiter_lock.locked():\n",
    "                        GroqInterface.time_waiter_lock.acquire()\n",
    "                        GroqInterface.inference_lock.acquire()\n",
    "                        time.sleep(2)\n",
    "                        GroqInterface.time_waiter_lock.release()\n",
    "                        GroqInterface.inference_lock.release()\n",
    "                else:\n",
    "                    time.sleep(2)\n",
    "\n",
    "            except KeyboardInterrupt as e: #Stop the code\n",
    "                raise e\n",
    "            except Exception as e: #Retry\n",
    "                print(\"ERROR\")\n",
    "                print(e)\n",
    "                retry_count += 1\n",
    "                if retry_count >= self._n_retry:\n",
    "                    raise e\n",
    "\n",
    "        return chat_completion.choices[0].message.content"
   ]
  },
  {
   "cell_type": "code",
   "execution_count": null,
   "metadata": {},
   "outputs": [],
   "source": [
    "class Tool(abc.ABC):\n",
    "    '''\n",
    "    Base class for creating LLM agent tools.\n",
    "    '''\n",
    "\n",
    "    @abc.abstractmethod\n",
    "    def __call__(self, query:Dict[str, str], context:str) -> Dict[str, str]:\n",
    "        '''\n",
    "        Execute the tool.\n",
    "\n",
    "        Args:\n",
    "            query (str): query for the tool execution.\n",
    "            context (str): agent context in the tool execution moment.\n",
    "\n",
    "        Returns:\n",
    "            Dict[str, str]: tool results.\n",
    "        '''\n",
    "        ..."
   ]
  },
  {
   "cell_type": "markdown",
   "metadata": {},
   "source": [
    "### Answer Relevance\n",
    "\n",
    "A relevância da resposta é definida como o alinhamento médio entre perguntas geradas a partir da resposta em relação a pergunta original.\n",
    "\n",
    "Começamos com um gerador de questões a partir da resposta:"
   ]
  },
  {
   "cell_type": "code",
   "execution_count": null,
   "metadata": {},
   "outputs": [],
   "source": [
    "class QuestionGenerator(Tool, GroqInterface):\n",
    "    '''\n",
    "    Generates questions from a given answer\n",
    "    '''\n",
    "\n",
    "    _system_message = '''You are a question generator that outputs in JSON. \n",
    "The JSON object must use the schema: {'questions':['str', 'str', ...]}\n",
    "\n",
    "Please use a valid JSON format.'''\n",
    "\n",
    "    _base_prompt = '''Generate questions for the given answer:\n",
    "\n",
    "Answer: {answer}\n",
    "'''\n",
    "\n",
    "    def __init__(self, model: Optional[str] = None, api_key: Optional[str] = None):\n",
    "        '''\n",
    "        QuestionGenerator constructor.\n",
    "\n",
    "        Args:\n",
    "            model (str, optional): model to use. Llama3 70B is used if None. Default is None\n",
    "            api_key (str, optional): Groq API key to use, if None will check the environment 'GROQ_API_KEY' variable. Default is None.\n",
    "        '''\n",
    "\n",
    "        super().__init__(model, api_key, True, QuestionGenerator._system_message)\n",
    "\n",
    "    def __call__(self, query:Dict[str, str], context:str=None) -> Dict[str, List[str]]:\n",
    "        '''\n",
    "        Generates questions from a given answer\n",
    "\n",
    "        Args:\n",
    "            query (Dict[str, str]): query, must contain a key \"answer\" with the answer to generate questions.\n",
    "            context (str, optional): not used. Defaults to None.\n",
    "\n",
    "        Returns:\n",
    "            Dict[str, List[str]]: result that contains key \"questions\" with the questions.\n",
    "        '''\n",
    "        answer = query[\"answer\"]\n",
    "        \n",
    "        prompt = QuestionGenerator._base_prompt.format(answer=answer)\n",
    "\n",
    "\n",
    "        return json.loads(GroqInterface.__call__(self, prompt=prompt))"
   ]
  },
  {
   "cell_type": "markdown",
   "metadata": {},
   "source": [
    "Testando o gerador, podemos observar um primeiro problema do dataset: as respostas contém poucas informações para refazer a pergunta:"
   ]
  },
  {
   "cell_type": "code",
   "execution_count": 171,
   "metadata": {},
   "outputs": [],
   "source": [
    "question_generator = QuestionGenerator()\n",
    "questions_0 = question_generator(dataset[0])\n",
    "questions_1 = question_generator(dataset[1])"
   ]
  },
  {
   "cell_type": "code",
   "execution_count": 180,
   "metadata": {},
   "outputs": [
    {
     "name": "stdout",
     "output_type": "stream",
     "text": [
      "What is Zeus know for in Greek mythology?: sky and thunder god\n",
      "----------\n"
     ]
    },
    {
     "data": {
      "text/plain": [
       "{'questions': ['Who was Zeus in Greek mythology?',\n",
       "  'What was the title of the Norse god Odin in Viking mythology?',\n",
       "  'Who was the ruler of Mount Olympus in Greek mythology?',\n",
       "  'Who controlled the weather in Greek mythology?',\n",
       "  'What was the name of the principal god of the Norse pantheon?']}"
      ]
     },
     "execution_count": 180,
     "metadata": {},
     "output_type": "execute_result"
    }
   ],
   "source": [
    "print(dataset[0][\"question\"]+\": \"+dataset[0][\"answer\"])\n",
    "print(\"----------\")\n",
    "questions_0"
   ]
  },
  {
   "cell_type": "code",
   "execution_count": 179,
   "metadata": {},
   "outputs": [
    {
     "name": "stdout",
     "output_type": "stream",
     "text": [
      "How long had the First World War been over when Messe was named aide-de-camp?: 5 years\n",
      "----------\n"
     ]
    },
    {
     "data": {
      "text/plain": [
       "{'questions': ['What is the typical tenure of a US president?',\n",
       "  'How many years are in a standard Olympic cycle?',\n",
       "  'What is the typical age of a child when they start kindergarten?',\n",
       "  \"What is the duration of a standard bachelor's degree in the US?\",\n",
       "  'How many years are in a standard presidential term in France?']}"
      ]
     },
     "execution_count": 179,
     "metadata": {},
     "output_type": "execute_result"
    }
   ],
   "source": [
    "print(dataset[1][\"question\"]+\": \"+dataset[1][\"answer\"])\n",
    "print(\"----------\")\n",
    "questions_1"
   ]
  },
  {
   "cell_type": "markdown",
   "metadata": {},
   "source": [
    "Definimos também um comparador de questões utilizando similaridade de cosseno e testamos seu funcionamento:"
   ]
  },
  {
   "cell_type": "code",
   "execution_count": null,
   "metadata": {},
   "outputs": [],
   "source": [
    "class QuestionComparator(Tool):\n",
    "    '''\n",
    "    Comparates questions\n",
    "\n",
    "    '''\n",
    "\n",
    "    def __init__(self, embedder_model:str=\"all-MiniLM-L6-v2\") -> None:\n",
    "        '''\n",
    "        QuestionComparator constructor.\n",
    "\n",
    "        Args:\n",
    "            embedder_model (str, optional): model to generate embeddings. Defaults to \"all-MiniLM-L6-v2\".\n",
    "        '''\n",
    "        self._embedder = sentence_transformers.SentenceTransformer(embedder_model)\n",
    "\n",
    "    def __call__(self, query: Dict[str, str], context: Optional[str]=None) -> Dict[str, str]:\n",
    "        '''\n",
    "        Calculates the similarity between one question and a list of questions.\n",
    "\n",
    "        Args:\n",
    "            query (Dict[str, str]): must contain keys \"query_question\" with \n",
    "                question to compare with list of questions in \"questions\" key. \n",
    "            context (Optional[str], optional): not used. Defaults to None.\n",
    "\n",
    "        Returns:\n",
    "            Dict[str, str]: result, have a single key \"score\" with the similarity score.\n",
    "        '''\n",
    "        query_question = query[\"query_question\"]\n",
    "        questions = query[\"questions\"]\n",
    "\n",
    "        q_embedding = self._embedder.encode(query_question, convert_to_tensor=True)\n",
    "        qi_embeddings = self._embedder.encode(questions, convert_to_tensor=True)\n",
    "            \n",
    "        cosine_scores = sentence_transformers.util.cos_sim(q_embedding, qi_embeddings)\n",
    "\n",
    "        score = cosine_scores.sum().item()\n",
    "        score /= len(qi_embeddings)\n",
    "\n",
    "        result = {\"score\":str(score)}\n",
    "\n",
    "        return result\n"
   ]
  },
  {
   "cell_type": "code",
   "execution_count": 178,
   "metadata": {},
   "outputs": [
    {
     "data": {
      "text/plain": [
       "{'score': '0.5827430248260498'}"
      ]
     },
     "execution_count": 178,
     "metadata": {},
     "output_type": "execute_result"
    }
   ],
   "source": [
    "question_comparator = QuestionComparator()\n",
    "\n",
    "comparator_query = {\"query_question\":dataset[0][\"question\"], \"questions\":questions_0[\"questions\"]}\n",
    "comparator_result = question_comparator(comparator_query)\n",
    "\n",
    "comparator_result"
   ]
  },
  {
   "cell_type": "markdown",
   "metadata": {},
   "source": [
    "E criamos a classe principal:"
   ]
  },
  {
   "cell_type": "code",
   "execution_count": null,
   "metadata": {},
   "outputs": [],
   "source": [
    "class AnswerRelevanceEvaluator(Tool):\n",
    "    '''\n",
    "    Evaluates the relevance of a answer.\n",
    "    '''\n",
    "    def __init__(self, question_generator:QuestionGenerator=None, question_comparator:QuestionComparator=None) -> None:\n",
    "        '''\n",
    "        AnswerRelevanceEvaluator constructor\n",
    "\n",
    "        Args:\n",
    "            question_generator (QuestionGenerator, optional): generator to use, if None creates a new with default arguments. Defaults to None.\n",
    "            question_comparator (QuestionComparator, optional): comparator to use, if None creates a new with default arguments. Defaults to None.\n",
    "        '''\n",
    "\n",
    "\n",
    "        if question_generator is None:\n",
    "            question_generator = QuestionGenerator()\n",
    "        if question_comparator is None:\n",
    "            question_comparator = QuestionComparator()\n",
    "\n",
    "        self._question_generator = question_generator\n",
    "        self._question_comparator = question_comparator\n",
    "    \n",
    "    def __call__(self, query: Dict[str, str], context: str=None) -> Dict[str, str]:\n",
    "        '''\n",
    "        Evaluates the relevance of a answer.\n",
    "\n",
    "        Args:\n",
    "            query (Dict[str, str]): must contain key \"answer\" with answer to evaluate.\n",
    "            context (str, optional): not used. Defaults to None.\n",
    "\n",
    "        Raises:\n",
    "            ValueError: if query does not contains \"answer\" key\n",
    "\n",
    "        Returns:\n",
    "            Dict[str, str]: result with key \"score\" with the score.\n",
    "        '''\n",
    "        \n",
    "        if \"answer\" not in query:\n",
    "            raise ValueError(\"Query must have the answer to evaluate (query not have key 'answer').\")\n",
    "\n",
    "        generator_result = self._question_generator(query)\n",
    "\n",
    "        comparator_query = {\"query_question\":query[\"question\"], \"questions\":generator_result[\"questions\"]}\n",
    "        comparator_result = self._question_comparator(comparator_query)\n",
    "\n",
    "        return comparator_result"
   ]
  },
  {
   "cell_type": "code",
   "execution_count": null,
   "metadata": {},
   "outputs": [],
   "source": [
    "answer_relevance_evaluator = AnswerRelevanceEvaluator()"
   ]
  },
  {
   "cell_type": "code",
   "execution_count": 181,
   "metadata": {},
   "outputs": [
    {
     "data": {
      "text/plain": [
       "{'score': '0.6399625142415365'}"
      ]
     },
     "execution_count": 181,
     "metadata": {},
     "output_type": "execute_result"
    }
   ],
   "source": [
    "answer_relevance_evaluator(dataset[0])"
   ]
  },
  {
   "cell_type": "markdown",
   "metadata": {},
   "source": [
    "### Faithfulness\n",
    "\n",
    "Para avaliar a fidelidade, a pontuação é definida como a proporção de declarações geradas a partir da resposta que estão contidas no contexto.\n",
    "\n",
    "Começamos criando um gerador de declarações:"
   ]
  },
  {
   "cell_type": "code",
   "execution_count": null,
   "metadata": {},
   "outputs": [],
   "source": [
    "class StatementGenerator(Tool, GroqInterface):\n",
    "    '''\n",
    "    Generates statements from a given answer and question.\n",
    "    '''\n",
    "\n",
    "    _system_message = '''You are a statement generator that outputs in JSON. \n",
    "The JSON object must use the schema: {'statements':['str', 'str', ...]}\n",
    "\n",
    "Please use a valid JSON format.'''\n",
    "\n",
    "    _base_prompt = '''Given a question and answer, create one or more statements from each sentence in the given answer:\n",
    "\n",
    "Question: {question}\n",
    "Answer: {answer}\n",
    "'''\n",
    "\n",
    "    def __init__(self, model: Optional[str] = None, api_key: Optional[str] = None):\n",
    "        '''\n",
    "        StatementGenerator constructor.\n",
    "\n",
    "        Args:\n",
    "            model (str, optional): model to use. Llama3 70B is used if None. Default is None\n",
    "            api_key (str, optional): Groq API key to use, if None will check the environment 'GROQ_API_KEY' variable. Default is None.\n",
    "        '''\n",
    "\n",
    "        super().__init__(model, api_key, True, StatementGenerator._system_message)\n",
    "\n",
    "    def __call__(self, query:Dict[str, str], context:str=None) -> Dict[str, str]:\n",
    "        '''\n",
    "        Generates statements based in a given answer.\n",
    "\n",
    "        Args:\n",
    "            query (Dict[str, str]): must contains keys \"question\" with the question and \"answer\" with the answer.\n",
    "            context (str, optional): not used. Defaults to None.\n",
    "\n",
    "        Returns:\n",
    "            Dict[str, str]: has key 'statements' with a list of generated statements.\n",
    "        '''\n",
    "        question = query[\"question\"]\n",
    "        answer = query[\"answer\"]\n",
    "        \n",
    "        prompt = StatementGenerator._base_prompt.format(question=question, answer=answer)\n",
    "\n",
    "\n",
    "        return json.loads(GroqInterface.__call__(self, prompt=prompt))"
   ]
  },
  {
   "cell_type": "code",
   "execution_count": 182,
   "metadata": {},
   "outputs": [
    {
     "data": {
      "text/plain": [
       "{'statements': ['Zeus is known for being the sky god in Greek mythology.',\n",
       "  'Zeus is known for being the thunder god in Greek mythology.']}"
      ]
     },
     "execution_count": 182,
     "metadata": {},
     "output_type": "execute_result"
    }
   ],
   "source": [
    "statement_generator = StatementGenerator()\n",
    "generator_result = statement_generator(dataset[0])\n",
    "\n",
    "generator_result"
   ]
  },
  {
   "cell_type": "markdown",
   "metadata": {},
   "source": [
    "E definimos um verificador a partir do contexto:"
   ]
  },
  {
   "cell_type": "code",
   "execution_count": null,
   "metadata": {},
   "outputs": [],
   "source": [
    "class StatementContextVerificator(Tool, GroqInterface):\n",
    "    '''\n",
    "    Verifies if a list of statements is supported by a given context.\n",
    "    '''\n",
    "\n",
    "    _system_message = '''You are a statement analist that outputs in JSON. \n",
    "The JSON object must use the schema: \n",
    "{'analysis':[{'explanation':'str', 'verdict':'bool'}, {'explanation':'str', 'verdict':'bool'}, ...  ]}.\n",
    "\n",
    "The analysis list must be of same size of the input.\n",
    "\n",
    "Please use a valid JSON format.'''\n",
    "\n",
    "    _base_prompt = '''Context: \n",
    "{context}\n",
    "\n",
    "Consider the given context and following statements, then determine whether they are supported by \n",
    "the information present in the context. Provide a brief explanation for each statement before arriving at the verdict (true/false). \n",
    "Provide a final verdict for each statement in order at the end in the given format. Do not deviate from the specified format.\n",
    "\n",
    "{statements}\n",
    "'''\n",
    "\n",
    "    def __init__(self, model: Optional[str] = None, api_key: Optional[str] = None):\n",
    "        '''\n",
    "        StatementContextVerificator constructor.\n",
    "\n",
    "        Args:\n",
    "            model (str, optional): model to use. Llama3 70B is used if None. Default is None\n",
    "            api_key (str, optional): Groq API key to use, if None will check the environment 'GROQ_API_KEY' variable. Default is None.\n",
    "        '''\n",
    "\n",
    "        super().__init__(model, api_key, True, StatementContextVerificator._system_message)\n",
    "\n",
    "    def __call__(self, query:Dict[str, str], context:str=None) -> Dict[str, str]:\n",
    "        '''\n",
    "        Verifies if a list of statements is supported by a given context.\n",
    "\n",
    "        Args:\n",
    "            query (Dict[str, str]): must contain a key \"statements\" with list of statements and a key \"rag_context\" with the context.\n",
    "            context (str, optional): main LLM context, not used. Defaults to None.\n",
    "\n",
    "        Returns:\n",
    "            Dict[str, str]: result with key 'analysis', a list of objects with keys 'explanation' and 'verdict'.\n",
    "        '''\n",
    "\n",
    "        statements = \"\"\n",
    "        \n",
    "        for statement in query[\"statements\"]:\n",
    "            statements += \"Statement: \"+statement+\"\\n\"\n",
    "        \n",
    "        prompt = StatementContextVerificator._base_prompt.format(statements=statements, context=query[\"rag_context\"])\n",
    "\n",
    "\n",
    "        return json.loads(GroqInterface.__call__(self, prompt=prompt))"
   ]
  },
  {
   "cell_type": "code",
   "execution_count": null,
   "metadata": {},
   "outputs": [],
   "source": [
    "statement_context_verificator = StatementContextVerificator()"
   ]
  },
  {
   "cell_type": "code",
   "execution_count": null,
   "metadata": {},
   "outputs": [],
   "source": [
    "query = {\"statements\": generator_result[\"statements\"], \"rag_context\":dataset[0][\"context\"]}\n",
    "verificator_result = statement_context_verificator(query)"
   ]
  },
  {
   "cell_type": "code",
   "execution_count": null,
   "metadata": {},
   "outputs": [
    {
     "data": {
      "text/plain": [
       "{'analysis': [{'explanation': 'The context states that Zeus is the sky and thunder god in ancient Greek religion, which aligns with the statement that Zeus is known as the sky god in Greek mythology.',\n",
       "   'verdict': True},\n",
       "  {'explanation': 'The context states that Zeus is the sky and thunder god in ancient Greek religion, which aligns with the statement that Zeus is known as the thunder god in Greek mythology.',\n",
       "   'verdict': True}]}"
      ]
     },
     "execution_count": 48,
     "metadata": {},
     "output_type": "execute_result"
    }
   ],
   "source": [
    "verificator_result"
   ]
  },
  {
   "cell_type": "markdown",
   "metadata": {},
   "source": [
    "E a classe principal que calculará a pontuação:"
   ]
  },
  {
   "cell_type": "code",
   "execution_count": null,
   "metadata": {},
   "outputs": [],
   "source": [
    "class FaithfulnessEvaluator(Tool):\n",
    "    '''\n",
    "    Evaluates the faithfulness of a answer.\n",
    "    '''\n",
    "\n",
    "    def __init__(self, statement_generator:StatementGenerator=None, statement_context_verificator:StatementContextVerificator=None) -> None:\n",
    "        '''\n",
    "        FaithfulnessEvaluator constructor.\n",
    "\n",
    "        Args:\n",
    "            statement_generator (StatementGenerator, optional): generator to use, if None creates a new with default arguments. Defaults to None.\n",
    "            statement_context_verificator (StatementContextVerificator, optional): context verificator to use, if None creates a new with default arguments. Defaults to None.\n",
    "        '''\n",
    "        super().__init__()\n",
    "\n",
    "        if statement_generator is None:\n",
    "            statement_generator = StatementGenerator()\n",
    "        if statement_context_verificator is None:\n",
    "            statement_context_verificator = StatementContextVerificator()\n",
    "\n",
    "        self._statement_generator = statement_generator\n",
    "        self._statement_context_verificator = statement_context_verificator\n",
    "\n",
    "    def __call__(self, query: Dict[str, str], context: str=None) -> Dict[str, str]:\n",
    "        '''\n",
    "        Evaluates the faithfulness of a answer.\n",
    "\n",
    "        Args:\n",
    "            query (Dict[str, str]): must contain keys \"question\", \"answer\" and \"context\".\n",
    "            context (str, optional): main agent context, not used. Defaults to None.\n",
    "\n",
    "        Returns:\n",
    "            Dict[str, str]: result with a single \"score\" key.\n",
    "        '''\n",
    "\n",
    "        generator_result = self._statement_generator(query)\n",
    "\n",
    "        verificator_query = {\"statements\": generator_result[\"statements\"], \"rag_context\":query[\"context\"]}\n",
    "        verificator_result = self._statement_context_verificator(verificator_query)\n",
    "\n",
    "        supported = 0\n",
    "        total = len(generator_result[\"statements\"])\n",
    "\n",
    "        for analisy in verificator_result[\"analysis\"]:\n",
    "            supported += analisy[\"verdict\"]\n",
    "\n",
    "        score = supported/total\n",
    "\n",
    "        return {\"score\":str(score)}\n"
   ]
  },
  {
   "cell_type": "code",
   "execution_count": null,
   "metadata": {},
   "outputs": [],
   "source": [
    "faithfulness_evaluator = FaithfulnessEvaluator()"
   ]
  },
  {
   "cell_type": "code",
   "execution_count": null,
   "metadata": {},
   "outputs": [
    {
     "data": {
      "text/plain": [
       "{'score': '1.0'}"
      ]
     },
     "execution_count": 57,
     "metadata": {},
     "output_type": "execute_result"
    }
   ],
   "source": [
    "faithfulness_evaluator(dataset[0])"
   ]
  },
  {
   "cell_type": "markdown",
   "metadata": {},
   "source": [
    "### Context Relevance\n",
    "\n",
    "Para avaliar a relevância do contexto, sentenças úteis para responder a questão são extraídas do contexto, e é avaliado a proporção de sentenças úteis extraídas em relação a quantidade total de sentenças no contexto.\n",
    "\n",
    "Primeiro definimos um extrator de sentenças. Observe que o prompt foi levemente modificado em relação ao artigo para considerar que a resposta estará em formato JSON, não necessitando retornar algo especial caso não existam sentenças úteis."
   ]
  },
  {
   "cell_type": "code",
   "execution_count": 67,
   "metadata": {},
   "outputs": [],
   "source": [
    "class SentenceExtractor(Tool, GroqInterface):\n",
    "    '''\n",
    "    Extracts relevant sentences for a question from a given context\n",
    "    '''\n",
    "\n",
    "    _system_message = '''You are a sentence extractor that outputs in JSON. \n",
    "The JSON object must use the schema: {'sentences':['str', 'str', ...]}\n",
    "\n",
    "Please use a valid JSON format.'''\n",
    "\n",
    "    _base_prompt = '''Context: \n",
    "{context}\n",
    "\n",
    "Please extract relevant sentences from the provided context that can potentially help answer the following question. \n",
    "If no relevant sentences are found, or if you believe the question cannot be answered from the given context, return a object with an empty 'sentences' list.\n",
    "While extract ing candidate sentences you’re not allowed to make any changes to sentences from given context.\n",
    "\n",
    "Question: {question}\n",
    "'''\n",
    "\n",
    "    def __init__(self, model: Optional[str] = None, api_key: Optional[str] = None):\n",
    "        '''\n",
    "        SentenceExtractor constructor.\n",
    "\n",
    "        Args:\n",
    "            model (str, optional): model to use. Llama3 70B is used if None. Default is None\n",
    "            api_key (str, optional): Groq API key to use, if None will check the environment 'GROQ_API_KEY' variable. Default is None.\n",
    "        '''\n",
    "\n",
    "        super().__init__(model, api_key, True, SentenceExtractor._system_message)\n",
    "\n",
    "    def __call__(self, query:Dict[str, str], context:str=None) -> Dict[str, str]:\n",
    "        '''\n",
    "        Extracts relevant sentences for a question from a given context.\n",
    "\n",
    "        Args:\n",
    "            query (Dict[str, str]): must contain keys \"question\" with the question that the context answers and \"rag_context\" with the context.\n",
    "            context (str, optional): main LLM context, not used. Defaults to None.\n",
    "\n",
    "        Returns:\n",
    "            Dict[str, str]: _description_\n",
    "        '''\n",
    "        question = query[\"question\"]\n",
    "        rag_context = query[\"rag_context\"]\n",
    "        \n",
    "        prompt = SentenceExtractor._base_prompt.format(question=question, context=rag_context)\n",
    "\n",
    "        return json.loads(GroqInterface.__call__(self, prompt=prompt))"
   ]
  },
  {
   "cell_type": "code",
   "execution_count": 68,
   "metadata": {},
   "outputs": [],
   "source": [
    "sentence_extractor = SentenceExtractor()"
   ]
  },
  {
   "cell_type": "code",
   "execution_count": 69,
   "metadata": {},
   "outputs": [],
   "source": [
    "extractor_query = {\"question\": dataset[0][\"question\"], \"rag_context\":dataset[0][\"context\"]}\n",
    "extractor_result = sentence_extractor(extractor_query)"
   ]
  },
  {
   "cell_type": "code",
   "execution_count": 70,
   "metadata": {},
   "outputs": [
    {
     "data": {
      "text/plain": [
       "{'sentences': ['Zeus: Zeus (British English , North American English ; , Zeús ) is the sky and thunder god in ancient Greek religion']}"
      ]
     },
     "execution_count": 70,
     "metadata": {},
     "output_type": "execute_result"
    }
   ],
   "source": [
    "extractor_result"
   ]
  },
  {
   "cell_type": "markdown",
   "metadata": {},
   "source": [
    "E calculamos o score de relevância:"
   ]
  },
  {
   "cell_type": "code",
   "execution_count": 76,
   "metadata": {},
   "outputs": [],
   "source": [
    "class ContextRelevanceEvaluator(Tool):\n",
    "    '''\n",
    "    Evaluates the relevance of a context to answer a question.\n",
    "    '''\n",
    "    \n",
    "    def __init__(self, sentence_extractor:SentenceExtractor=None) -> None:\n",
    "        '''\n",
    "        ContextRelevanceEvaluator constructor.\n",
    "\n",
    "        Args:\n",
    "            sentence_extractor (SentenceExtractor, optional): extractor to use, if None creates a new with default arguments. Defaults to None.\n",
    "        '''\n",
    "        \n",
    "        super().__init__()\n",
    "\n",
    "        if sentence_extractor is None:\n",
    "            sentence_extractor = SentenceExtractor()\n",
    "\n",
    "        self._sentence_extractor = sentence_extractor\n",
    "\n",
    "    def __call__(self, query: Dict[str, str], context: str=None) -> Dict[str, str]:\n",
    "        '''\n",
    "        Evaluates the relevance of a context to answer a question.\n",
    "\n",
    "        Args:\n",
    "            query (Dict[str, str]): must contain keys:\n",
    "                - \"question\" with the question.\n",
    "                - \"context\" with the context used to answer the question.\n",
    "                - \"context_sentence_count\" with the number of sentences in the context\n",
    "            context (str, optional): main LLM context, not used. Defaults to None.\n",
    "\n",
    "        Returns:\n",
    "            Dict[str, str]: result with single key \"score\".\n",
    "        '''\n",
    "\n",
    "        extractor_query = {\"question\": query[\"question\"], \"rag_context\": query[\"context\"]}\n",
    "        extractor_result = sentence_extractor(extractor_query)\n",
    "\n",
    "        score = len(extractor_result[\"sentences\"]) / int(query[\"context_sentence_count\"])\n",
    "\n",
    "        result = {\"score\":str(score)}\n",
    "\n",
    "        return result"
   ]
  },
  {
   "cell_type": "code",
   "execution_count": 77,
   "metadata": {},
   "outputs": [],
   "source": [
    "context_relevance_evaluator = ContextRelevanceEvaluator()"
   ]
  },
  {
   "cell_type": "code",
   "execution_count": 78,
   "metadata": {},
   "outputs": [],
   "source": [
    "result = context_relevance_evaluator(dataset[0])"
   ]
  },
  {
   "cell_type": "code",
   "execution_count": 79,
   "metadata": {},
   "outputs": [
    {
     "data": {
      "text/plain": [
       "{'score': '0.3333333333333333'}"
      ]
     },
     "execution_count": 79,
     "metadata": {},
     "output_type": "execute_result"
    }
   ],
   "source": [
    "result"
   ]
  },
  {
   "cell_type": "markdown",
   "metadata": {},
   "source": [
    "### RAGAs Evaluator\n",
    "\n",
    "E, por fim, definimos um avaliador que calculará os 3 scores para um item do dataset:"
   ]
  },
  {
   "cell_type": "code",
   "execution_count": 81,
   "metadata": {},
   "outputs": [],
   "source": [
    "class RAGAsEvaluator(Tool):\n",
    "    '''\n",
    "    Evaluates a RAG result using RAGAs methodology.\n",
    "    '''\n",
    "\n",
    "    def __init__(self, faithfulness_evaluator:FaithfulnessEvaluator=None, \n",
    "                 answer_relevance_evaluator:AnswerRelevanceEvaluator=None, \n",
    "                 context_relevance_evaluator:ContextRelevanceEvaluator=None) -> None:\n",
    "        '''\n",
    "        RAGAsEvaluator constructor.\n",
    "\n",
    "        Args:\n",
    "            faithfulness_evaluator (FaithfulnessEvaluator, optional): faithfulness evaluator to use, if None creates a new with default arguments. Defaults to None.\n",
    "            answer_relevance_evaluator (AnswerRelevanceEvaluator, optional): answer relevance evaluator to use, if None creates a new with default arguments. Defaults to None.\n",
    "            context_relevance_evaluator (ContextRelevanceEvaluator, optional): context relevance evaluator to use, if None creates a new with default arguments. Defaults to None.\n",
    "        '''\n",
    "        \n",
    "        super().__init__()\n",
    "\n",
    "        if faithfulness_evaluator is None:\n",
    "            faithfulness_evaluator = FaithfulnessEvaluator()\n",
    "        if answer_relevance_evaluator is None:\n",
    "            answer_relevance_evaluator = AnswerRelevanceEvaluator()\n",
    "        if context_relevance_evaluator is None:\n",
    "            context_relevance_evaluator = ContextRelevanceEvaluator()\n",
    "\n",
    "        self._faithfulness_evaluator = faithfulness_evaluator\n",
    "        self._answer_relevance_evaluator = answer_relevance_evaluator\n",
    "        self._context_relevance_evaluator = context_relevance_evaluator\n",
    "    \n",
    "    def __call__(self, query: Dict[str, str], context: str=None) -> Dict[str, str]:\n",
    "        '''\n",
    "        Evaluates a RAG result using RAGAs methodology.\n",
    "\n",
    "        Args:\n",
    "            query (Dict[str, str]): must contain keys:\n",
    "                - \"question\" with the question.\n",
    "                - \"answer\" with the question answer.\n",
    "                - \"context\" with the context used to answer the question.\n",
    "                - \"context_sentence_count\" with the number of sentences in the context\n",
    "            context (str, optional): main LLM context, not used. Defaults to None.\n",
    "\n",
    "        Returns:\n",
    "            Dict[str, str]: result with scores in keys \"faithfulness\", \"answer_relevance\" and \"context_relevance\".\n",
    "        '''\n",
    "\n",
    "        faithfulness_result = self._faithfulness_evaluator(query)\n",
    "        answer_relevance_result = self._answer_relevance_evaluator(query)\n",
    "        context_relevance_result = self._context_relevance_evaluator(query)\n",
    "\n",
    "        result = { \n",
    "            \"faithfulness\" : faithfulness_result[\"score\"],\n",
    "            \"answer_relevance\" : answer_relevance_result[\"score\"],\n",
    "            \"context_relevance\" : context_relevance_result[\"score\"],\n",
    "        }\n",
    "\n",
    "        return result"
   ]
  },
  {
   "cell_type": "code",
   "execution_count": 82,
   "metadata": {},
   "outputs": [],
   "source": [
    "ragas_evaluator = RAGAsEvaluator()"
   ]
  },
  {
   "cell_type": "code",
   "execution_count": 83,
   "metadata": {},
   "outputs": [],
   "source": [
    "ragas_result = ragas_evaluator(dataset[0])"
   ]
  },
  {
   "cell_type": "code",
   "execution_count": 84,
   "metadata": {},
   "outputs": [
    {
     "data": {
      "text/plain": [
       "{'faithfulness': '1.0',\n",
       " 'answer_relevance': '0.6503564516703287',\n",
       " 'context_relevance': '0.3333333333333333'}"
      ]
     },
     "execution_count": 84,
     "metadata": {},
     "output_type": "execute_result"
    }
   ],
   "source": [
    "ragas_result"
   ]
  },
  {
   "cell_type": "markdown",
   "metadata": {},
   "source": [
    "## Geração de avaliações\n",
    "\n",
    "Com o avaliador criado podemos calcular os scores de todas as entradas no dataset:"
   ]
  },
  {
   "cell_type": "code",
   "execution_count": 85,
   "metadata": {},
   "outputs": [
    {
     "name": "stderr",
     "output_type": "stream",
     "text": [
      " 52%|█████▏    | 26/50 [04:14<04:55, 12.33s/it]"
     ]
    },
    {
     "name": "stdout",
     "output_type": "stream",
     "text": [
      "ERROR\n",
      "Error code: 400 - {'error': {'message': \"Failed to generate JSON. Please adjust your prompt. See 'failed_generation' for more details.\", 'type': 'invalid_request_error', 'code': 'json_validate_failed', 'failed_generation': \"{'analysis':[{'explanation':'The statement claims that the Perthshire Regiment had been in operation for 69 years when Christopher Harison joined it as a captain in 1849. From the context, we know that the 73rd Regiment of Foot was raised in 1780, and Harison joined in 1849, which means the regiment had been operating for approximately 69 years, matching the statement.', 'verdict':True}]}\"}}\n"
     ]
    },
    {
     "name": "stderr",
     "output_type": "stream",
     "text": [
      " 70%|███████   | 35/50 [06:09<03:10, 12.70s/it]"
     ]
    },
    {
     "name": "stdout",
     "output_type": "stream",
     "text": [
      "ERROR\n",
      "Error code: 400 - {'error': {'message': \"Failed to generate JSON. Please adjust your prompt. See 'failed_generation' for more details.\", 'type': 'invalid_request_error', 'code': 'json_validate_failed', 'failed_generation': '{\"analysis\":[{\"explanation\":\"The context lists four WHL Championship losses for the Saskatoon Blades, which is the team where Ashton played junior hockey.\",\"verdict\":False}]}'}}\n"
     ]
    },
    {
     "name": "stderr",
     "output_type": "stream",
     "text": [
      " 74%|███████▍  | 37/50 [06:38<02:55, 13.49s/it]"
     ]
    },
    {
     "name": "stdout",
     "output_type": "stream",
     "text": [
      "ERROR\n",
      "Error code: 400 - {'error': {'message': \"Failed to generate JSON. Please adjust your prompt. See 'failed_generation' for more details.\", 'type': 'invalid_request_error', 'code': 'json_validate_failed', 'failed_generation': '{\\n\"sentences\": [\"Ron Ashton: Ashton played junior hockey for his hometown Saskatoon Blades of the Western Canadian Hockey League (now WHL), playing his first full season in 1972-73 with future NHL and WHA players Bob Bourne, Dave Lewis and George Pesut,\", \"Bob Bourne: Robert Glen Bourne (born June 21, 1954)\", \"Dave Lewis (ice hockey): David Rodney Lewis (born July 3, 1953\", \"George Pesut: George Matthew Pesut \"(Zuti)\" (born June 17, 1953\"]\\n}'}}\n"
     ]
    },
    {
     "name": "stderr",
     "output_type": "stream",
     "text": [
      "100%|██████████| 50/50 [09:24<00:00, 11.29s/it]\n"
     ]
    }
   ],
   "source": [
    "evaluations = []\n",
    "\n",
    "file = open(\"evaluations.jsonl\", \"w\")\n",
    "\n",
    "for data in tqdm.tqdm(dataset):\n",
    "    try:\n",
    "        evaluation = ragas_evaluator(data)\n",
    "\n",
    "    except KeyboardInterrupt as e:\n",
    "        file.close()\n",
    "        raise e\n",
    "\n",
    "    except Exception as e:\n",
    "        print(\"Evaluation error:\", e)\n",
    "\n",
    "        evaluation = { \n",
    "            \"faithfulness\" : \"0\",\n",
    "            \"answer_relevance\" : \"0\",\n",
    "            \"context_relevance\" : \"0\",\n",
    "        }\n",
    "\n",
    "    evaluations.append(evaluation)\n",
    "\n",
    "    file.write(json.dumps(evaluation)+\"\\n\")\n",
    "    file.flush()\n",
    "\n",
    "file.close()"
   ]
  },
  {
   "cell_type": "code",
   "execution_count": 86,
   "metadata": {},
   "outputs": [],
   "source": [
    "file = open(\"evaluations.json\", \"w\")\n",
    "json.dump(evaluations, file)\n",
    "file.close()"
   ]
  },
  {
   "cell_type": "markdown",
   "metadata": {},
   "source": [
    "## Análise\n",
    "\n",
    "Para realizar a análise, vamos extrair os scores de cada avaliação:"
   ]
  },
  {
   "cell_type": "code",
   "execution_count": 89,
   "metadata": {},
   "outputs": [],
   "source": [
    "faithfulness = np.empty(n_question)\n",
    "answer_relevance = np.empty(n_question)\n",
    "context_relevance = np.empty(n_question)\n",
    "\n",
    "for i in range(n_question):\n",
    "    faithfulness[i] = evaluations[i][\"faithfulness\"]\n",
    "    answer_relevance[i] = evaluations[i][\"answer_relevance\"]\n",
    "    context_relevance[i] = evaluations[i][\"context_relevance\"]\n"
   ]
  },
  {
   "cell_type": "markdown",
   "metadata": {},
   "source": [
    "Observando inicial os intervalos, é perceptível um problema com a pontuação de relevância do contexto: como considera a proporção entre sentenças extraídas e originalmente no contexto, seu valor pode ser superior a 1 caso sejam extraídas mais sentenças do que contadas originalmente (no caso da quebra de uma sentença, por exemplo):"
   ]
  },
  {
   "cell_type": "code",
   "execution_count": 100,
   "metadata": {},
   "outputs": [
    {
     "name": "stdout",
     "output_type": "stream",
     "text": [
      "Faithfullness  Min: 0.0 | Max: 1.0\n",
      "Answer Relevance  Min: 0.026833323140939076 | Max: 0.7692429224650065\n",
      "Context Relevance  Min: 0.0 | Max: 5.5\n"
     ]
    }
   ],
   "source": [
    "print(\"Faithfullness \", \"Min:\", faithfulness.min(), \"| Max:\", faithfulness.max())\n",
    "print(\"Answer Relevance \", \"Min:\", answer_relevance.min(), \"| Max:\", answer_relevance.max())\n",
    "print(\"Context Relevance \", \"Min:\", context_relevance.min(), \"| Max:\", context_relevance.max())"
   ]
  },
  {
   "cell_type": "markdown",
   "metadata": {},
   "source": [
    "Para aliviar o impacto deste problema nas estatísticas, normalizamos esta pontuação em [0, 1]:"
   ]
  },
  {
   "cell_type": "code",
   "execution_count": 102,
   "metadata": {},
   "outputs": [],
   "source": [
    "context_relevance = np.clip(context_relevance, 0, 1)"
   ]
  },
  {
   "cell_type": "markdown",
   "metadata": {},
   "source": [
    "Podemos calcular então a média e desvio de cada métrica:"
   ]
  },
  {
   "cell_type": "code",
   "execution_count": 121,
   "metadata": {},
   "outputs": [
    {
     "name": "stdout",
     "output_type": "stream",
     "text": [
      "Criterion|Score\n",
      "-|-\n",
      "Faithfullness| 0.73 ± 0.43829214001622246\n",
      "Answer Relevance| 0.24423735859899814 ± 0.14732980886784547\n",
      "Context Relevance| 0.6689999999999999 ± 0.2985522474282256\n"
     ]
    }
   ],
   "source": [
    "print(\"Criterion|Score\")\n",
    "print(\"-|-\")\n",
    "print(\"Faithfullness|\", faithfulness.mean(), \"±\", faithfulness.std())\n",
    "print(\"Answer Relevance|\", answer_relevance.mean(), \"±\", answer_relevance.std())\n",
    "print(\"Context Relevance|\", context_relevance.mean(), \"±\", context_relevance.std())"
   ]
  },
  {
   "cell_type": "markdown",
   "metadata": {},
   "source": [
    "Criterion|Score\n",
    "-|-\n",
    "Faithfullness| 0.73 ± 0.43829214001622246\n",
    "Answer Relevance| 0.24423735859899814 ± 0.14732980886784547\n",
    "Context Relevance| 0.6689999999999999 ± 0.2985522474282256"
   ]
  },
  {
   "cell_type": "markdown",
   "metadata": {},
   "source": [
    "É perceptível como que a pontuação de fidelidade e contexto tem pontuações muito maiores do que a da relevância da resposta. Isso possivelmente se deve ao problema já observado das respostas do dataset poderem ser genéricas e ter poucas informações da questão original. Alterar o prompt para incluir a questão possivelmente pode resolver este problema.\n",
    "\n",
    "Ao avaliar o desvio padrão, a pontuação de fidelidade é a mais instável. Observando seu histograma, podemos ver que a pontuação aparenta ter uma característica binária:"
   ]
  },
  {
   "cell_type": "code",
   "execution_count": 120,
   "metadata": {},
   "outputs": [
    {
     "data": {
      "image/png": "[encoded data removed]",
      "text/plain": [
       "<Figure size 432x288 with 1 Axes>"
      ]
     },
     "metadata": {
      "needs_background": "light"
     },
     "output_type": "display_data"
    }
   ],
   "source": [
    "plt.hist(faithfulness)\n",
    "\n",
    "plt.xlim(-0.1, 1.1)\n",
    "\n",
    "plt.title(\"Histograma de Fidelidade\")\n",
    "plt.xlabel(\"Fidelidade\")\n",
    "plt.ylabel(\"Contagem\")\n",
    "\n",
    "plt.show()"
   ]
  },
  {
   "cell_type": "markdown",
   "metadata": {},
   "source": [
    "Enquanto que a relevância da resposta se concentra em pontuações baixas:"
   ]
  },
  {
   "cell_type": "code",
   "execution_count": 118,
   "metadata": {},
   "outputs": [
    {
     "data": {
      "image/png": "[encoded data removed]",
      "text/plain": [
       "<Figure size 432x288 with 1 Axes>"
      ]
     },
     "metadata": {
      "needs_background": "light"
     },
     "output_type": "display_data"
    }
   ],
   "source": [
    "plt.hist(answer_relevance)\n",
    "\n",
    "plt.xlim(-0.1, 1.1)\n",
    "\n",
    "plt.title(\"Histograma de Relevância da Resposta\")\n",
    "plt.xlabel(\"Relevância da Resposta\")\n",
    "plt.ylabel(\"Contagem\")\n",
    "\n",
    "plt.show()"
   ]
  },
  {
   "cell_type": "markdown",
   "metadata": {},
   "source": [
    "E a relevância do contexto tem um pico na pontuação máxima, devido ao problema de intervalo já discutido:"
   ]
  },
  {
   "cell_type": "code",
   "execution_count": 119,
   "metadata": {},
   "outputs": [
    {
     "data": {
      "image/png": "[encoded data removed]",
      "text/plain": [
       "<Figure size 432x288 with 1 Axes>"
      ]
     },
     "metadata": {
      "needs_background": "light"
     },
     "output_type": "display_data"
    }
   ],
   "source": [
    "plt.hist(context_relevance)\n",
    "\n",
    "plt.title(\"Histograma de Relevância do Contexto\")\n",
    "plt.xlabel(\"Relevância do Contexto\")\n",
    "plt.ylabel(\"Contagem\")\n",
    "\n",
    "plt.show()"
   ]
  },
  {
   "cell_type": "markdown",
   "metadata": {},
   "source": [
    "Observando a correlação entre as métricas, mais precisamente a raiz dela, podemos perceber que as métricas são moderadamente relacionadas, principalmente a fidelidade e relevância do contexto (possivelmente um contexto mais relevante também seja mais útil para obter a resposta, tornando-a mais fiel), o que indica uma possível dificuldade em avaliar separadamente estes três aspectos (as métricas não avaliam aspectos \"ortogonais\"), exceto entre os aspectos de relevância de resposta e contexto. Todas as correlações são positivas, indicando que aumentam junto com a melhoria do processo e resposta:"
   ]
  },
  {
   "cell_type": "code",
   "execution_count": 185,
   "metadata": {},
   "outputs": [],
   "source": [
    "faithfulness_norm = faithfulness/faithfulness.std(ddof=1)\n",
    "answer_relevance_norm = answer_relevance/answer_relevance.std(ddof=1)\n",
    "context_relevance_norm = context_relevance/context_relevance.std(ddof=1)"
   ]
  },
  {
   "cell_type": "code",
   "execution_count": 189,
   "metadata": {},
   "outputs": [
    {
     "data": {
      "text/plain": [
       "array([[1.        , 0.15436366, 0.19841588],\n",
       "       [0.15436366, 1.        , 0.02803894],\n",
       "       [0.19841588, 0.02803894, 1.        ]])"
      ]
     },
     "execution_count": 189,
     "metadata": {},
     "output_type": "execute_result"
    }
   ],
   "source": [
    "cov = np.cov([faithfulness_norm, answer_relevance_norm, context_relevance_norm])\n",
    "\n",
    "cov"
   ]
  },
  {
   "cell_type": "code",
   "execution_count": 188,
   "metadata": {},
   "outputs": [
    {
     "data": {
      "text/plain": [
       "array([[1.        , 0.3928914 , 0.44543897],\n",
       "       [0.3928914 , 1.        , 0.16744832],\n",
       "       [0.44543897, 0.16744832, 1.        ]])"
      ]
     },
     "execution_count": 188,
     "metadata": {},
     "output_type": "execute_result"
    }
   ],
   "source": [
    "np.sqrt(cov)"
   ]
  }
 ],
 "metadata": {
  "kernelspec": {
   "display_name": "Python 3",
   "language": "python",
   "name": "python3"
  },
  "language_info": {
   "codemirror_mode": {
    "name": "ipython",
    "version": 3
   },
   "file_extension": ".py",
   "mimetype": "text/x-python",
   "name": "python",
   "nbconvert_exporter": "python",
   "pygments_lexer": "ipython3",
   "version": "3.8.5"
  }
 },
 "nbformat": 4,
 "nbformat_minor": 2
}
