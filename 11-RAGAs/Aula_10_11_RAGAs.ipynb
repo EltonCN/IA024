{
 "cells": [
  {
   "cell_type": "code",
   "execution_count": 88,
   "metadata": {},
   "outputs": [],
   "source": [
    "import os #Operações com o SO (arquivos)\n",
    "import json #Leitura/escrita de arquivos JSON\n",
    "import time #Sleep\n",
    "import threading #Multithreading\n",
    "import unicodedata #Normalização de string\n",
    "import collections #Estrutura de contador e fila\n",
    "import string #Operações com strings\n",
    "import re #Expressões regulares\n",
    "import abc #Classes abstratas\n",
    "import warnings #Lançamento de warnings\n",
    "from typing import Optional, Dict, Tuple, Any #Type hints\n",
    "\n",
    "#import torch #spacy não carrega sem importar antes (??)\n",
    "#import spacy #Separador em sentenças\n",
    "import tqdm #Barra de progresso\n",
    "import groq #API para o Llama 3 70B\n",
    "#from pyserini.search import SimpleSearcher #Busca nos documentos\n",
    "import sentence_transformers #Rerankeamento\n",
    "#import bs4 #Remoção de tags HTML\n",
    "import numpy as np #Operações com arrays\n",
    "import matplotlib.pyplot as plt #Plots"
   ]
  },
  {
   "cell_type": "code",
   "execution_count": 59,
   "metadata": {},
   "outputs": [],
   "source": [
    "if not os.path.isdir(\"data\"):\n",
    "    os.mkdir(\"data\")\n",
    "\n",
    "if not os.path.isfile(\"data\\\\context_articles.json\"):\n",
    "    !curl -LO https://iirc-dataset.s3.us-west-2.amazonaws.com/context_articles.tar.gz\n",
    "    !move context_articles.tar.gz data\n",
    "    !tar -xf data/context_articles.tar.gz\n",
    "    !move context_articles.json data\n",
    "\n",
    "if not os.path.isfile(\"data\\\\iirc_test.json\"):\n",
    "    !curl -LO https://iirc-dataset.s3.us-west-2.amazonaws.com/iirc_test.json\n",
    "    !move iirc_test.json data"
   ]
  },
  {
   "cell_type": "code",
   "execution_count": 60,
   "metadata": {},
   "outputs": [],
   "source": [
    "file = open(\"data\\\\context_articles.json\", \"r\")\n",
    "articles = json.load(file)\n",
    "file.close()"
   ]
  },
  {
   "cell_type": "code",
   "execution_count": 61,
   "metadata": {},
   "outputs": [],
   "source": [
    "file = open(\"data\\\\iirc_test.json\", \"r\")\n",
    "test_data = json.load(file)\n",
    "file.close()"
   ]
  },
  {
   "cell_type": "code",
   "execution_count": 62,
   "metadata": {},
   "outputs": [],
   "source": [
    "n_question = 50"
   ]
  },
  {
   "cell_type": "code",
   "execution_count": 63,
   "metadata": {},
   "outputs": [
    {
     "data": {
      "text/plain": [
       "{'answer': {'type': 'span',\n",
       "  'answer_spans': [{'text': 'sky and thunder god',\n",
       "    'passage': 'zeus',\n",
       "    'type': 'answer',\n",
       "    'start': 83,\n",
       "    'end': 102}]},\n",
       " 'question': 'What is Zeus know for in Greek mythology?',\n",
       " 'context': [{'text': 'he Palici the sons of Zeus',\n",
       "   'passage': 'main',\n",
       "   'indices': [684, 710]},\n",
       "  {'text': 'in Greek mythology', 'passage': 'main', 'indices': [137, 155]},\n",
       "  {'text': 'Zeus (British English , North American English ; , Zeús ) is the sky and thunder god in ancient Greek religion',\n",
       "   'passage': 'Zeus',\n",
       "   'indices': [0, 110]}],\n",
       " 'question_links': ['Greek mythology', 'Zeus']}"
      ]
     },
     "execution_count": 63,
     "metadata": {},
     "output_type": "execute_result"
    }
   ],
   "source": [
    "test_data[0][\"questions\"][0]"
   ]
  },
  {
   "cell_type": "code",
   "execution_count": 64,
   "metadata": {},
   "outputs": [],
   "source": [
    "dataset = []\n",
    "\n",
    "for i in range(len(test_data)):\n",
    "    item = test_data[i]\n",
    "\n",
    "    main_passage_name = item[\"title\"]\n",
    "\n",
    "    #Get the questions\n",
    "    for q in item[\"questions\"]:\n",
    "        data = {}\n",
    "        \n",
    "        #Get and format the answer\n",
    "        if q[\"answer\"][\"type\"] == \"span\":\n",
    "            data[\"answer\"] = q[\"answer\"][\"answer_spans\"][0][\"text\"]\n",
    "        elif q[\"answer\"][\"type\"] == \"value\":\n",
    "            data[\"answer\"] = q[\"answer\"][\"answer_value\"]+\" \"+q[\"answer\"][\"answer_unit\"]\n",
    "        elif  q[\"answer\"][\"type\"] == \"none\":\n",
    "            continue\n",
    "        elif q[\"answer\"][\"type\"] == \"binary\":\n",
    "            data[\"answer\"] = q[\"answer\"][\"answer_value\"]\n",
    "        else:\n",
    "            raise ValueError\n",
    "        \n",
    "        data[\"question\"] = q[\"question\"]\n",
    "\n",
    "        context = \"\"\n",
    "        for context_item in q[\"context\"]:\n",
    "            passage = context_item[\"passage\"]\n",
    "            if passage == \"main\":\n",
    "                passage = main_passage_name\n",
    "\n",
    "            context += f\"{passage}: {context_item['text']}\"\n",
    "            context += \"\\n\"\n",
    "\n",
    "        data[\"context\"] = context\n",
    "        data[\"context_sentence_count\"] = str(len(q[\"context\"]))\n",
    "\n",
    "        dataset.append(data)\n",
    "\n",
    "        if len(dataset) == n_question:\n",
    "            break\n",
    "    if len(dataset) == n_question:\n",
    "            break\n"
   ]
  },
  {
   "cell_type": "code",
   "execution_count": 65,
   "metadata": {},
   "outputs": [],
   "source": [
    "del test_data, articles"
   ]
  },
  {
   "cell_type": "code",
   "execution_count": null,
   "metadata": {},
   "outputs": [],
   "source": [
    "class GroqInterface:\n",
    "    '''\n",
    "    Interface for using the Groq API\n",
    "\n",
    "    Implements a rate limit control for multi-threading use. \n",
    "    '''\n",
    "\n",
    "    _client :groq.Groq = None \n",
    "\n",
    "    LLAMA3_70B = \"llama3-70b-8192\"\n",
    "\n",
    "    inference_lock = threading.Lock()\n",
    "    time_waiter_lock = threading.Lock()\n",
    "    SINGLE_THREAD = True\n",
    "\n",
    "    def __init__(self, model:Optional[str]=None, api_key:Optional[str]=None, json_mode:bool=False, system_message:Optional[str]=None, n_retry:int=5):\n",
    "        '''\n",
    "        GroqInterface constructor.\n",
    "\n",
    "        Args:\n",
    "            model (str, optional): model to use. Llama3 70B is used if None. Default is None\n",
    "            api_key (str, optional): Groq API key to use, if None will check the environment 'GROQ_API_KEY' variable. Default is None.\n",
    "            json_mode (bool): if the model need to output in JSON. Default is False.\n",
    "            system_message (str): the system message to send to the model, if needed. Default is None.\n",
    "            n_retyr (int): number of times to retry if the model fails (not considering RateLimitError). Default is 5.\n",
    "        '''\n",
    "        \n",
    "        if GroqInterface._client is None:\n",
    "\n",
    "            if api_key is None:\n",
    "                api_key = os.environ.get(\"GROQ_API_KEY\")\n",
    "\n",
    "            if api_key is None:\n",
    "                raise RuntimeError(\"API key is not in the environment variables ('GROQ_API_KEY' variable is not set).\")\n",
    "\n",
    "            GroqInterface._client = groq.Groq(api_key=api_key)\n",
    "\n",
    "        if model is None:\n",
    "            model = GroqInterface.LLAMA3_70B\n",
    "        self._model = model\n",
    "\n",
    "        self._system_message = system_message\n",
    "\n",
    "\n",
    "        if json_mode:\n",
    "            self._response_format = {\"type\": \"json_object\"}\n",
    "        else:\n",
    "            self._response_format = None\n",
    "        self._json_mode = json_mode\n",
    "\n",
    "        self._n_retry = n_retry\n",
    "\n",
    "    def __call__(self, prompt:str) -> str:\n",
    "        '''\n",
    "        Generates the model response\n",
    "\n",
    "        Args:\n",
    "            prompt (str): prompt to send to the model.\n",
    "\n",
    "        Returns:\n",
    "            str: model response. \n",
    "        '''\n",
    "        done = False\n",
    "        retry_count = 0\n",
    "        while not done:\n",
    "            try:\n",
    "                if not GroqInterface.SINGLE_THREAD:\n",
    "                    GroqInterface.inference_lock.acquire()\n",
    "                    GroqInterface.inference_lock.release()\n",
    "\n",
    "                messages = []\n",
    "                if self._system_message is not None:\n",
    "                    messages.append({\"role\":\"system\", \"content\":self._system_message})\n",
    "                \n",
    "                messages.append({\"role\":\"user\", \"content\":prompt})\n",
    "\n",
    "                chat_completion = GroqInterface._client.chat.completions.create(\n",
    "                        messages=messages,\n",
    "                        model=self._model,\n",
    "                        response_format=self._response_format\n",
    "                    )\n",
    "                \n",
    "                done = True\n",
    "            except groq.RateLimitError as exception: #Wait\n",
    "                print(\"ERROR\")\n",
    "                print(exception)\n",
    "                \n",
    "                GroqInterface.error = exception\n",
    "                if not GroqInterface.SINGLE_THREAD:\n",
    "                    if not GroqInterface.time_waiter_lock.locked():\n",
    "                        GroqInterface.time_waiter_lock.acquire()\n",
    "                        GroqInterface.inference_lock.acquire()\n",
    "                        time.sleep(2)\n",
    "                        GroqInterface.time_waiter_lock.release()\n",
    "                        GroqInterface.inference_lock.release()\n",
    "                else:\n",
    "                    time.sleep(2)\n",
    "\n",
    "            except KeyboardInterrupt as e: #Stop the code\n",
    "                raise e\n",
    "            except Exception as e: #Retry\n",
    "                print(\"ERROR\")\n",
    "                print(e)\n",
    "                retry_count += 1\n",
    "                if retry_count >= self._n_retry:\n",
    "                    raise e\n",
    "\n",
    "        return chat_completion.choices[0].message.content"
   ]
  },
  {
   "cell_type": "code",
   "execution_count": null,
   "metadata": {},
   "outputs": [],
   "source": [
    "class Tool(abc.ABC):\n",
    "    '''\n",
    "    Base class for creating LLM agent tools.\n",
    "    '''\n",
    "\n",
    "    @abc.abstractmethod\n",
    "    def __call__(self, query:Dict[str, str], context:str) -> Dict[str, str]:\n",
    "        '''\n",
    "        Execute the tool.\n",
    "\n",
    "        Args:\n",
    "            query (str): query for the tool execution.\n",
    "            context (str): agent context in the tool execution moment.\n",
    "\n",
    "        Returns:\n",
    "            Dict[str, str]: tool results.\n",
    "        '''\n",
    "        ..."
   ]
  },
  {
   "cell_type": "code",
   "execution_count": null,
   "metadata": {},
   "outputs": [],
   "source": [
    "class QuestionGenerator(Tool, GroqInterface):\n",
    "\n",
    "    _system_message = '''You are a question generator that outputs in JSON. \n",
    "The JSON object must use the schema: {'questions':['str', 'str', ...]}\n",
    "\n",
    "Please use a valid JSON format.'''\n",
    "\n",
    "    _base_prompt = '''Generate questions for the given answer:\n",
    "\n",
    "Answer: {answer}\n",
    "'''\n",
    "\n",
    "    def __init__(self, model: Optional[str] = None, api_key: Optional[str] = None):\n",
    "\n",
    "        super().__init__(model, api_key, True, QuestionGenerator._system_message)\n",
    "\n",
    "    def __call__(self, query:Dict[str, str], context:str=None) -> Dict[str, str]:\n",
    "        answer = query[\"answer\"]\n",
    "        \n",
    "        prompt = QuestionGenerator._base_prompt.format(answer=answer)\n",
    "\n",
    "\n",
    "        return json.loads(GroqInterface.__call__(self, prompt=prompt))"
   ]
  },
  {
   "cell_type": "code",
   "execution_count": null,
   "metadata": {},
   "outputs": [],
   "source": [
    "class QuestionComparator(Tool):\n",
    "\n",
    "    def __init__(self, embedder_model:str=\"all-MiniLM-L6-v2\") -> None:\n",
    "        self._embedder = sentence_transformers.SentenceTransformer(embedder_model)\n",
    "\n",
    "    def __call__(self, query: Dict[str, str], context: Optional[str]=None) -> Dict[str, str]:\n",
    "        query_question = query[\"query_question\"]\n",
    "        questions = query[\"questions\"]\n",
    "\n",
    "        q_embedding = self._embedder.encode(query_question, convert_to_tensor=True)\n",
    "        qi_embeddings = self._embedder.encode(questions, convert_to_tensor=True)\n",
    "            \n",
    "        cosine_scores = sentence_transformers.util.cos_sim(q_embedding, qi_embeddings)\n",
    "\n",
    "        score = cosine_scores.sum().item()\n",
    "        score /= len(qi_embeddings)\n",
    "\n",
    "        result = {\"score\":str(score)}\n",
    "\n",
    "        return result\n"
   ]
  },
  {
   "cell_type": "code",
   "execution_count": null,
   "metadata": {},
   "outputs": [],
   "source": [
    "from typing import Dict\n",
    "\n",
    "\n",
    "class AnswerRelevanceEvaluator(Tool):\n",
    "    def __init__(self, question_generator=None, question_comparator=None) -> None:\n",
    "        if question_generator is None:\n",
    "            question_generator = QuestionGenerator()\n",
    "        if question_comparator is None:\n",
    "            question_comparator = QuestionComparator()\n",
    "\n",
    "        self._question_generator = question_generator\n",
    "        self._question_comparator = question_comparator\n",
    "    \n",
    "    def __call__(self, query: Dict[str, str], context: str=None) -> Dict[str, str]:\n",
    "        \n",
    "        if \"answer\" not in query:\n",
    "            raise ValueError(\"Query must have the answer to evaluate (query not have key 'answer').\")\n",
    "\n",
    "        generator_result = self._question_generator(query)\n",
    "\n",
    "        comparator_query = {\"query_question\":query[\"question\"], \"questions\":generator_result[\"questions\"]}\n",
    "        comparator_result = self._question_comparator(comparator_query)\n",
    "\n",
    "        return comparator_result"
   ]
  },
  {
   "cell_type": "code",
   "execution_count": null,
   "metadata": {},
   "outputs": [],
   "source": [
    "answer_relevance_evaluator = AnswerRelevanceEvaluator()"
   ]
  },
  {
   "cell_type": "code",
   "execution_count": null,
   "metadata": {},
   "outputs": [
    {
     "data": {
      "text/plain": [
       "{'score': '0.19284075498580933'}"
      ]
     },
     "execution_count": 22,
     "metadata": {},
     "output_type": "execute_result"
    }
   ],
   "source": [
    "answer_relevance_evaluator(dataset[1])"
   ]
  },
  {
   "cell_type": "code",
   "execution_count": null,
   "metadata": {},
   "outputs": [],
   "source": [
    "questions = question_generator(dataset[0][\"answer\"])"
   ]
  },
  {
   "cell_type": "code",
   "execution_count": null,
   "metadata": {},
   "outputs": [
    {
     "data": {
      "text/plain": [
       "{'questions': ['Who is Zeus in Greek mythology?',\n",
       "  'What is the god of the sky and thunder in Greek mythology?',\n",
       "  'What Greek god is associated with the sky and thunder?',\n",
       "  'Who is the Greek god of the sky and thunder?']}"
      ]
     },
     "execution_count": 14,
     "metadata": {},
     "output_type": "execute_result"
    }
   ],
   "source": [
    "questions"
   ]
  },
  {
   "cell_type": "code",
   "execution_count": null,
   "metadata": {},
   "outputs": [],
   "source": [
    "class StatementGenerator(Tool, GroqInterface):\n",
    "\n",
    "    _system_message = '''You are a statement generator that outputs in JSON. \n",
    "The JSON object must use the schema: {'statements':['str', 'str', ...]}\n",
    "\n",
    "Please use a valid JSON format.'''\n",
    "\n",
    "    _base_prompt = '''Given a question and answer, create one or more statements from each sentence in the given answer:\n",
    "\n",
    "Question: {question}\n",
    "Answer: {answer}\n",
    "'''\n",
    "\n",
    "    def __init__(self, model: Optional[str] = None, api_key: Optional[str] = None):\n",
    "\n",
    "        super().__init__(model, api_key, True, StatementGenerator._system_message)\n",
    "\n",
    "    def __call__(self, query:Dict[str, str], context:str=None) -> Dict[str, str]:\n",
    "        question = query[\"question\"]\n",
    "        answer = query[\"answer\"]\n",
    "        \n",
    "        prompt = StatementGenerator._base_prompt.format(question=question, answer=answer)\n",
    "\n",
    "\n",
    "        return json.loads(GroqInterface.__call__(self, prompt=prompt))"
   ]
  },
  {
   "cell_type": "code",
   "execution_count": null,
   "metadata": {},
   "outputs": [],
   "source": [
    "statement_generator = StatementGenerator()"
   ]
  },
  {
   "cell_type": "code",
   "execution_count": null,
   "metadata": {},
   "outputs": [],
   "source": [
    "generator_result = statement_generator(dataset[0])"
   ]
  },
  {
   "cell_type": "code",
   "execution_count": null,
   "metadata": {},
   "outputs": [
    {
     "data": {
      "text/plain": [
       "{'statements': ['Zeus is known as the sky god in Greek mythology.',\n",
       "  'Zeus is known as the thunder god in Greek mythology.']}"
      ]
     },
     "execution_count": 46,
     "metadata": {},
     "output_type": "execute_result"
    }
   ],
   "source": [
    "generator_result"
   ]
  },
  {
   "cell_type": "code",
   "execution_count": null,
   "metadata": {},
   "outputs": [],
   "source": [
    "class StatementContextVerificator(Tool, GroqInterface):\n",
    "\n",
    "    _system_message = '''You are a statement analist that outputs in JSON. \n",
    "The JSON object must use the schema: \n",
    "{'analysis':[{'explanation':'str', 'verdict':'bool'}, {'explanation':'str', 'verdict':'bool'}, ...  ]}.\n",
    "\n",
    "The analysis list must be of same size of the input.\n",
    "\n",
    "Please use a valid JSON format.'''\n",
    "\n",
    "    _base_prompt = '''Context: \n",
    "{context}\n",
    "\n",
    "Consider the given context and following statements, then determine whether they are supported by \n",
    "the information present in the context. Provide a brief explanation for each statement before arriving at the verdict (true/false). \n",
    "Provide a final verdict for each statement in order at the end in the given format. Do not deviate from the specified format.\n",
    "\n",
    "{statements}\n",
    "'''\n",
    "\n",
    "    def __init__(self, model: Optional[str] = None, api_key: Optional[str] = None):\n",
    "\n",
    "        super().__init__(model, api_key, True, StatementContextVerificator._system_message)\n",
    "\n",
    "    def __call__(self, query:Dict[str, str], context:str=None) -> Dict[str, str]:\n",
    "        statements = \"\"\n",
    "        \n",
    "        for statement in query[\"statements\"]:\n",
    "            statements += \"Statement: \"+statement+\"\\n\"\n",
    "        \n",
    "        prompt = StatementContextVerificator._base_prompt.format(statements=statements, context=query[\"rag_context\"])\n",
    "\n",
    "\n",
    "        return json.loads(GroqInterface.__call__(self, prompt=prompt))"
   ]
  },
  {
   "cell_type": "code",
   "execution_count": null,
   "metadata": {},
   "outputs": [],
   "source": [
    "statement_context_verificator = StatementContextVerificator()"
   ]
  },
  {
   "cell_type": "code",
   "execution_count": null,
   "metadata": {},
   "outputs": [],
   "source": [
    "query = {\"statements\": generator_result[\"statements\"], \"rag_context\":dataset[0][\"context\"]}\n",
    "verificator_result = statement_context_verificator(query)"
   ]
  },
  {
   "cell_type": "code",
   "execution_count": null,
   "metadata": {},
   "outputs": [
    {
     "data": {
      "text/plain": [
       "{'analysis': [{'explanation': 'The context states that Zeus is the sky and thunder god in ancient Greek religion, which aligns with the statement that Zeus is known as the sky god in Greek mythology.',\n",
       "   'verdict': True},\n",
       "  {'explanation': 'The context states that Zeus is the sky and thunder god in ancient Greek religion, which aligns with the statement that Zeus is known as the thunder god in Greek mythology.',\n",
       "   'verdict': True}]}"
      ]
     },
     "execution_count": 48,
     "metadata": {},
     "output_type": "execute_result"
    }
   ],
   "source": [
    "verificator_result"
   ]
  },
  {
   "cell_type": "code",
   "execution_count": null,
   "metadata": {},
   "outputs": [
    {
     "data": {
      "text/plain": [
       "1.0"
      ]
     },
     "execution_count": 49,
     "metadata": {},
     "output_type": "execute_result"
    }
   ],
   "source": [
    "supported = 0\n",
    "total = len(generator_result[\"statements\"])\n",
    "\n",
    "for analisy in verificator_result[\"analysis\"]:\n",
    "    supported += analisy[\"verdict\"]\n",
    "\n",
    "score = supported/total\n",
    "score"
   ]
  },
  {
   "cell_type": "code",
   "execution_count": null,
   "metadata": {},
   "outputs": [],
   "source": [
    "class FaithfulnessEvaluator(Tool):\n",
    "    def __init__(self, statement_generator:StatementGenerator=None, statement_context_verificator:StatementContextVerificator=None) -> None:\n",
    "        super().__init__()\n",
    "\n",
    "        if statement_generator is None:\n",
    "            statement_generator = StatementGenerator()\n",
    "        if statement_context_verificator is None:\n",
    "            statement_context_verificator = StatementContextVerificator()\n",
    "\n",
    "        self._statement_generator = statement_generator\n",
    "        self._statement_context_verificator = statement_context_verificator\n",
    "\n",
    "    def __call__(self, query: Dict[str, str], context: str=None) -> Dict[str, str]:   \n",
    "        generator_result = self._statement_generator(query)\n",
    "\n",
    "        verificator_query = {\"statements\": generator_result[\"statements\"], \"rag_context\":query[\"context\"]}\n",
    "        verificator_result = self._statement_context_verificator(verificator_query)\n",
    "\n",
    "        supported = 0\n",
    "        total = len(generator_result[\"statements\"])\n",
    "\n",
    "        for analisy in verificator_result[\"analysis\"]:\n",
    "            supported += analisy[\"verdict\"]\n",
    "\n",
    "        score = supported/total\n",
    "\n",
    "        return {\"score\":str(score)}\n"
   ]
  },
  {
   "cell_type": "code",
   "execution_count": null,
   "metadata": {},
   "outputs": [],
   "source": [
    "faithfulness_evaluator = FaithfulnessEvaluator()"
   ]
  },
  {
   "cell_type": "code",
   "execution_count": null,
   "metadata": {},
   "outputs": [
    {
     "data": {
      "text/plain": [
       "{'score': '1.0'}"
      ]
     },
     "execution_count": 57,
     "metadata": {},
     "output_type": "execute_result"
    }
   ],
   "source": [
    "faithfulness_evaluator(dataset[0])"
   ]
  },
  {
   "cell_type": "code",
   "execution_count": 67,
   "metadata": {},
   "outputs": [],
   "source": [
    "class SentenceExtractor(Tool, GroqInterface):\n",
    "    _system_message = '''You are a sentence extractor that outputs in JSON. \n",
    "The JSON object must use the schema: {'sentences':['str', 'str', ...]}\n",
    "\n",
    "Please use a valid JSON format.'''\n",
    "\n",
    "    _base_prompt = '''Context: \n",
    "{context}\n",
    "\n",
    "Please extract relevant sentences from the provided context that can potentially help answer the following question. \n",
    "If no relevant sentences are found, or if you believe the question cannot be answered from the given context, return a object with an empty 'sentences' list.\n",
    "While extract ing candidate sentences you’re not allowed to make any changes to sentences from given context.\n",
    "\n",
    "Question: {question}\n",
    "'''\n",
    "\n",
    "    def __init__(self, model: Optional[str] = None, api_key: Optional[str] = None):\n",
    "\n",
    "        super().__init__(model, api_key, True, SentenceExtractor._system_message)\n",
    "\n",
    "    def __call__(self, query:Dict[str, str], context:str=None) -> Dict[str, str]:\n",
    "        question = query[\"question\"]\n",
    "        rag_context = query[\"rag_context\"]\n",
    "        \n",
    "        prompt = SentenceExtractor._base_prompt.format(question=question, context=rag_context)\n",
    "\n",
    "        return json.loads(GroqInterface.__call__(self, prompt=prompt))"
   ]
  },
  {
   "cell_type": "code",
   "execution_count": 68,
   "metadata": {},
   "outputs": [],
   "source": [
    "sentence_extractor = SentenceExtractor()"
   ]
  },
  {
   "cell_type": "code",
   "execution_count": 69,
   "metadata": {},
   "outputs": [],
   "source": [
    "extractor_query = {\"question\": dataset[0][\"question\"], \"rag_context\":dataset[0][\"context\"]}\n",
    "extractor_result = sentence_extractor(extractor_query)"
   ]
  },
  {
   "cell_type": "code",
   "execution_count": 70,
   "metadata": {},
   "outputs": [
    {
     "data": {
      "text/plain": [
       "{'sentences': ['Zeus: Zeus (British English , North American English ; , Zeús ) is the sky and thunder god in ancient Greek religion']}"
      ]
     },
     "execution_count": 70,
     "metadata": {},
     "output_type": "execute_result"
    }
   ],
   "source": [
    "extractor_result"
   ]
  },
  {
   "cell_type": "code",
   "execution_count": 71,
   "metadata": {},
   "outputs": [
    {
     "data": {
      "text/plain": [
       "0.3333333333333333"
      ]
     },
     "execution_count": 71,
     "metadata": {},
     "output_type": "execute_result"
    }
   ],
   "source": [
    "score = len(extractor_result[\"sentences\"]) / dataset[0][\"context_sentence_count\"]\n",
    "\n",
    "score"
   ]
  },
  {
   "cell_type": "code",
   "execution_count": 76,
   "metadata": {},
   "outputs": [],
   "source": [
    "class ContextRelevanceEvaluator(Tool):\n",
    "    def __init__(self, sentence_extractor=None) -> None:\n",
    "        super().__init__()\n",
    "\n",
    "        if sentence_extractor is None:\n",
    "            sentence_extractor = SentenceExtractor()\n",
    "\n",
    "        self._sentence_extractor = sentence_extractor\n",
    "\n",
    "    def __call__(self, query: Dict[str, str], context: str=None) -> Dict[str, str]:\n",
    "        extractor_query = {\"question\": query[\"question\"], \"rag_context\": query[\"context\"]}\n",
    "        extractor_result = sentence_extractor(extractor_query)\n",
    "\n",
    "        score = len(extractor_result[\"sentences\"]) / int(query[\"context_sentence_count\"])\n",
    "\n",
    "        result = {\"score\":str(score)}\n",
    "\n",
    "        return result"
   ]
  },
  {
   "cell_type": "code",
   "execution_count": 77,
   "metadata": {},
   "outputs": [],
   "source": [
    "context_relevance_evaluator = ContextRelevanceEvaluator()"
   ]
  },
  {
   "cell_type": "code",
   "execution_count": 78,
   "metadata": {},
   "outputs": [],
   "source": [
    "result = context_relevance_evaluator(dataset[0])"
   ]
  },
  {
   "cell_type": "code",
   "execution_count": 79,
   "metadata": {},
   "outputs": [
    {
     "data": {
      "text/plain": [
       "{'score': '0.3333333333333333'}"
      ]
     },
     "execution_count": 79,
     "metadata": {},
     "output_type": "execute_result"
    }
   ],
   "source": [
    "result"
   ]
  },
  {
   "cell_type": "code",
   "execution_count": 81,
   "metadata": {},
   "outputs": [],
   "source": [
    "from typing import Dict\n",
    "\n",
    "\n",
    "class RAGAsEvaluator(Tool):\n",
    "\n",
    "    def __init__(self, faithfulness_evaluator=None, answer_relevance_evaluator=None, context_relevance_evaluator=None) -> None:\n",
    "        super().__init__()\n",
    "\n",
    "        if faithfulness_evaluator is None:\n",
    "            faithfulness_evaluator = FaithfulnessEvaluator()\n",
    "        if answer_relevance_evaluator is None:\n",
    "            answer_relevance_evaluator = AnswerRelevanceEvaluator()\n",
    "        if context_relevance_evaluator is None:\n",
    "            context_relevance_evaluator = ContextRelevanceEvaluator()\n",
    "\n",
    "        self._faithfulness_evaluator = faithfulness_evaluator\n",
    "        self._answer_relevance_evaluator = answer_relevance_evaluator\n",
    "        self._context_relevance_evaluator = context_relevance_evaluator\n",
    "    \n",
    "    def __call__(self, query: Dict[str, str], context: str=None) -> Dict[str, str]:\n",
    "        faithfulness_result = self._faithfulness_evaluator(query)\n",
    "        answer_relevance_result = self._answer_relevance_evaluator(query)\n",
    "        context_relevance_result = self._context_relevance_evaluator(query)\n",
    "\n",
    "        result = { \n",
    "            \"faithfulness\" : faithfulness_result[\"score\"],\n",
    "            \"answer_relevance\" : answer_relevance_result[\"score\"],\n",
    "            \"context_relevance\" : context_relevance_result[\"score\"],\n",
    "        }\n",
    "\n",
    "        return result"
   ]
  },
  {
   "cell_type": "code",
   "execution_count": 82,
   "metadata": {},
   "outputs": [],
   "source": [
    "ragas_evaluator = RAGAsEvaluator()"
   ]
  },
  {
   "cell_type": "code",
   "execution_count": 83,
   "metadata": {},
   "outputs": [],
   "source": [
    "ragas_result = ragas_evaluator(dataset[0])"
   ]
  },
  {
   "cell_type": "code",
   "execution_count": 84,
   "metadata": {},
   "outputs": [
    {
     "data": {
      "text/plain": [
       "{'faithfulness': '1.0',\n",
       " 'answer_relevance': '0.6503564516703287',\n",
       " 'context_relevance': '0.3333333333333333'}"
      ]
     },
     "execution_count": 84,
     "metadata": {},
     "output_type": "execute_result"
    }
   ],
   "source": [
    "ragas_result"
   ]
  },
  {
   "cell_type": "code",
   "execution_count": 85,
   "metadata": {},
   "outputs": [
    {
     "name": "stderr",
     "output_type": "stream",
     "text": [
      " 52%|█████▏    | 26/50 [04:14<04:55, 12.33s/it]"
     ]
    },
    {
     "name": "stdout",
     "output_type": "stream",
     "text": [
      "ERROR\n",
      "Error code: 400 - {'error': {'message': \"Failed to generate JSON. Please adjust your prompt. See 'failed_generation' for more details.\", 'type': 'invalid_request_error', 'code': 'json_validate_failed', 'failed_generation': \"{'analysis':[{'explanation':'The statement claims that the Perthshire Regiment had been in operation for 69 years when Christopher Harison joined it as a captain in 1849. From the context, we know that the 73rd Regiment of Foot was raised in 1780, and Harison joined in 1849, which means the regiment had been operating for approximately 69 years, matching the statement.', 'verdict':True}]}\"}}\n"
     ]
    },
    {
     "name": "stderr",
     "output_type": "stream",
     "text": [
      " 70%|███████   | 35/50 [06:09<03:10, 12.70s/it]"
     ]
    },
    {
     "name": "stdout",
     "output_type": "stream",
     "text": [
      "ERROR\n",
      "Error code: 400 - {'error': {'message': \"Failed to generate JSON. Please adjust your prompt. See 'failed_generation' for more details.\", 'type': 'invalid_request_error', 'code': 'json_validate_failed', 'failed_generation': '{\"analysis\":[{\"explanation\":\"The context lists four WHL Championship losses for the Saskatoon Blades, which is the team where Ashton played junior hockey.\",\"verdict\":False}]}'}}\n"
     ]
    },
    {
     "name": "stderr",
     "output_type": "stream",
     "text": [
      " 74%|███████▍  | 37/50 [06:38<02:55, 13.49s/it]"
     ]
    },
    {
     "name": "stdout",
     "output_type": "stream",
     "text": [
      "ERROR\n",
      "Error code: 400 - {'error': {'message': \"Failed to generate JSON. Please adjust your prompt. See 'failed_generation' for more details.\", 'type': 'invalid_request_error', 'code': 'json_validate_failed', 'failed_generation': '{\\n\"sentences\": [\"Ron Ashton: Ashton played junior hockey for his hometown Saskatoon Blades of the Western Canadian Hockey League (now WHL), playing his first full season in 1972-73 with future NHL and WHA players Bob Bourne, Dave Lewis and George Pesut,\", \"Bob Bourne: Robert Glen Bourne (born June 21, 1954)\", \"Dave Lewis (ice hockey): David Rodney Lewis (born July 3, 1953\", \"George Pesut: George Matthew Pesut \"(Zuti)\" (born June 17, 1953\"]\\n}'}}\n"
     ]
    },
    {
     "name": "stderr",
     "output_type": "stream",
     "text": [
      "100%|██████████| 50/50 [09:24<00:00, 11.29s/it]\n"
     ]
    }
   ],
   "source": [
    "evaluations = []\n",
    "\n",
    "file = open(\"evaluations.jsonl\", \"w\")\n",
    "\n",
    "for data in tqdm.tqdm(dataset):\n",
    "    try:\n",
    "        evaluation = ragas_evaluator(data)\n",
    "\n",
    "    except KeyboardInterrupt as e:\n",
    "        file.close()\n",
    "        raise e\n",
    "\n",
    "    except Exception as e:\n",
    "        print(\"Evaluation error:\", e)\n",
    "\n",
    "        evaluation = { \n",
    "            \"faithfulness\" : \"0\",\n",
    "            \"answer_relevance\" : \"0\",\n",
    "            \"context_relevance\" : \"0\",\n",
    "        }\n",
    "\n",
    "    evaluations.append(evaluation)\n",
    "\n",
    "    file.write(json.dumps(evaluation)+\"\\n\")\n",
    "    file.flush()\n",
    "\n",
    "file.close()"
   ]
  },
  {
   "cell_type": "code",
   "execution_count": 86,
   "metadata": {},
   "outputs": [],
   "source": [
    "file = open(\"evaluations.json\", \"w\")\n",
    "json.dump(evaluations, file)\n",
    "file.close()"
   ]
  },
  {
   "cell_type": "code",
   "execution_count": 89,
   "metadata": {},
   "outputs": [],
   "source": [
    "faithfulness = np.empty(n_question)\n",
    "answer_relevance = np.empty(n_question)\n",
    "context_relevance = np.empty(n_question)\n",
    "\n",
    "for i in range(n_question):\n",
    "    faithfulness[i] = evaluations[i][\"faithfulness\"]\n",
    "    answer_relevance[i] = evaluations[i][\"answer_relevance\"]\n",
    "    context_relevance[i] = evaluations[i][\"context_relevance\"]\n"
   ]
  },
  {
   "cell_type": "code",
   "execution_count": 100,
   "metadata": {},
   "outputs": [
    {
     "name": "stdout",
     "output_type": "stream",
     "text": [
      "Faithfullness  Min: 0.0 | Max: 1.0\n",
      "Answer Relevance  Min: 0.026833323140939076 | Max: 0.7692429224650065\n",
      "Context Relevance  Min: 0.0 | Max: 5.5\n"
     ]
    }
   ],
   "source": [
    "print(\"Faithfullness \", \"Min:\", faithfulness.min(), \"| Max:\", faithfulness.max())\n",
    "print(\"Answer Relevance \", \"Min:\", answer_relevance.min(), \"| Max:\", answer_relevance.max())\n",
    "print(\"Context Relevance \", \"Min:\", context_relevance.min(), \"| Max:\", context_relevance.max())"
   ]
  },
  {
   "cell_type": "code",
   "execution_count": 101,
   "metadata": {},
   "outputs": [
    {
     "data": {
      "text/plain": [
       "array([0.33333333, 1.        , 1.        , 0.        , 0.66666667,\n",
       "       0.5       , 0.5       , 0.8       , 1.        , 1.        ,\n",
       "       1.        , 0.5       , 0.5       , 0.5       , 0.        ,\n",
       "       0.5       , 1.        , 0.66666667, 0.4       , 1.        ,\n",
       "       0.5       , 1.        , 0.5       , 1.        , 1.        ,\n",
       "       1.        , 0.5       , 0.5       , 1.        , 0.5       ,\n",
       "       0.        , 1.        , 0.        , 0.66666667, 1.        ,\n",
       "       1.        , 0.5       , 0.75      , 0.5       , 0.5       ,\n",
       "       0.5       , 1.        , 1.        , 0.5       , 0.66666667,\n",
       "       0.5       , 1.        , 0.66666667, 0.66666667, 0.66666667])"
      ]
     },
     "execution_count": 101,
     "metadata": {},
     "output_type": "execute_result"
    }
   ],
   "source": [
    "np.clip(context_relevance, 0, 1)"
   ]
  },
  {
   "cell_type": "code",
   "execution_count": 102,
   "metadata": {},
   "outputs": [],
   "source": [
    "context_relevance = np.clip(context_relevance, 0, 1)"
   ]
  },
  {
   "cell_type": "code",
   "execution_count": 109,
   "metadata": {},
   "outputs": [
    {
     "name": "stdout",
     "output_type": "stream",
     "text": [
      "Criterion|Score\n",
      "-|-\n",
      "Faithfullness| 0.73 ± 0.43829214001622246\n",
      "Answer Relevance| 0.24423735859899814 ± 0.14732980886784547\n",
      "Context Relevance| 0.6689999999999999 ± 0.2985522474282256\n"
     ]
    }
   ],
   "source": [
    "print(\"Criterion|Score\")\n",
    "print(\"-|-\")\n",
    "print(\"Faithfullness|\", faithfulness.mean(), \"±\", faithfulness.std())\n",
    "print(\"Answer Relevance|\", answer_relevance.mean(), \"±\", answer_relevance.std())\n",
    "print(\"Context Relevance|\", context_relevance.mean(), \"±\", context_relevance.std())"
   ]
  },
  {
   "cell_type": "markdown",
   "metadata": {},
   "source": [
    "Criterion|Score\n",
    "-|-\n",
    "Faithfullness| 0.73 ± 0.43829214001622246\n",
    "Answer Relevance| 0.24423735859899814 ± 0.14732980886784547\n",
    "Context Relevance| 0.6689999999999999 ± 0.2985522474282256"
   ]
  },
  {
   "cell_type": "code",
   "execution_count": 104,
   "metadata": {},
   "outputs": [
    {
     "data": {
      "text/plain": [
       "(array([13.,  0.,  0.,  0.,  0.,  1.,  0.,  0.,  0., 36.]),\n",
       " array([0. , 0.1, 0.2, 0.3, 0.4, 0.5, 0.6, 0.7, 0.8, 0.9, 1. ]),\n",
       " <BarContainer object of 10 artists>)"
      ]
     },
     "execution_count": 104,
     "metadata": {},
     "output_type": "execute_result"
    },
    {
     "data": {
      "image/png": "[encoded data removed]",
      "text/plain": [
       "<Figure size 432x288 with 1 Axes>"
      ]
     },
     "metadata": {
      "needs_background": "light"
     },
     "output_type": "display_data"
    }
   ],
   "source": [
    "plt.hist(faithfulness)"
   ]
  },
  {
   "cell_type": "code",
   "execution_count": 105,
   "metadata": {},
   "outputs": [
    {
     "data": {
      "text/plain": [
       "(array([ 6., 14.,  9.,  9.,  7.,  2.,  1.,  1.,  0.,  1.]),\n",
       " array([0.02683332, 0.10107428, 0.17531524, 0.2495562 , 0.32379716,\n",
       "        0.39803812, 0.47227908, 0.54652004, 0.620761  , 0.69500196,\n",
       "        0.76924292]),\n",
       " <BarContainer object of 10 artists>)"
      ]
     },
     "execution_count": 105,
     "metadata": {},
     "output_type": "execute_result"
    },
    {
     "data": {
      "image/png": "[encoded data removed]",
      "text/plain": [
       "<Figure size 432x288 with 1 Axes>"
      ]
     },
     "metadata": {
      "needs_background": "light"
     },
     "output_type": "display_data"
    }
   ],
   "source": [
    "plt.hist(answer_relevance)"
   ]
  },
  {
   "cell_type": "code",
   "execution_count": 106,
   "metadata": {},
   "outputs": [
    {
     "data": {
      "text/plain": [
       "array([0.33333333, 1.        , 1.        , 0.        , 0.66666667,\n",
       "       0.5       , 0.5       , 0.8       , 1.        , 1.        ,\n",
       "       1.        , 0.5       , 0.5       , 0.5       , 0.        ,\n",
       "       0.5       , 1.        , 0.66666667, 0.4       , 1.        ,\n",
       "       0.5       , 1.        , 0.5       , 1.        , 1.        ,\n",
       "       1.        , 0.5       , 0.5       , 1.        , 0.5       ,\n",
       "       0.        , 1.        , 0.        , 0.66666667, 1.        ,\n",
       "       1.        , 0.5       , 0.75      , 0.5       , 0.5       ,\n",
       "       0.5       , 1.        , 1.        , 0.5       , 0.66666667,\n",
       "       0.5       , 1.        , 0.66666667, 0.66666667, 0.66666667])"
      ]
     },
     "execution_count": 106,
     "metadata": {},
     "output_type": "execute_result"
    }
   ],
   "source": [
    "context_relevance"
   ]
  },
  {
   "cell_type": "code",
   "execution_count": 107,
   "metadata": {},
   "outputs": [
    {
     "data": {
      "text/plain": [
       "(array([ 4.,  0.,  0.,  1.,  1., 17.,  7.,  1.,  1., 18.]),\n",
       " array([0. , 0.1, 0.2, 0.3, 0.4, 0.5, 0.6, 0.7, 0.8, 0.9, 1. ]),\n",
       " <BarContainer object of 10 artists>)"
      ]
     },
     "execution_count": 107,
     "metadata": {},
     "output_type": "execute_result"
    },
    {
     "data": {
      "image/png": "[encoded data removed]",
      "text/plain": [
       "<Figure size 432x288 with 1 Axes>"
      ]
     },
     "metadata": {
      "needs_background": "light"
     },
     "output_type": "display_data"
    }
   ],
   "source": [
    "plt.hist(context_relevance)"
   ]
  },
  {
   "cell_type": "code",
   "execution_count": null,
   "metadata": {},
   "outputs": [],
   "source": []
  }
 ],
 "metadata": {
  "kernelspec": {
   "display_name": "Python 3",
   "language": "python",
   "name": "python3"
  },
  "language_info": {
   "codemirror_mode": {
    "name": "ipython",
    "version": 3
   },
   "file_extension": ".py",
   "mimetype": "text/x-python",
   "name": "python",
   "nbconvert_exporter": "python",
   "pygments_lexer": "ipython3",
   "version": "3.8.5"
  }
 },
 "nbformat": 4,
 "nbformat_minor": 2
}
